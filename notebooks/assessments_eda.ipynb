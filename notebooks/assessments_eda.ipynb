{
 "cells": [
  {
   "attachments": {},
   "cell_type": "markdown",
   "metadata": {},
   "source": [
    "# Exploration for Reported Assessment Results"
   ]
  },
  {
   "cell_type": "markdown",
   "metadata": {},
   "source": [
    "## Imports and Such"
   ]
  },
  {
   "cell_type": "code",
   "execution_count": 1,
   "metadata": {},
   "outputs": [],
   "source": [
    "import pandas as pd\n",
    "import numpy as np\n",
    "import plotly.express as px\n",
    "import geopandas as gpd\n",
    "from shapely.geometry import Point\n",
    "import plotly.graph_objects as go\n",
    "pd.set_option('display.max_columns', 500)\n",
    "pd.set_option('display.max_rows', 100)"
   ]
  },
  {
   "cell_type": "code",
   "execution_count": 2,
   "metadata": {},
   "outputs": [],
   "source": [
    "# Import assessment data minus fully suppressed scores\n",
    "assessments = pd.read_pickle('../data/school_based/assessments_clean.pkl')\n",
    "\n",
    "# Import Suppressed outlier data\n",
    "suppressed = pd.read_pickle ('../data/school_based/full_suppression.pkl')\n",
    "\n",
    "# Import Tennessee School District Geometry\n",
    "tn_leas = gpd.read_file('../data/tn_leas.geojson', index_col='system_name')"
   ]
  },
  {
   "cell_type": "markdown",
   "metadata": {},
   "source": [
    "## Listy McListface - A Place to look at the lists in my dataframe."
   ]
  },
  {
   "cell_type": "code",
   "execution_count": 3,
   "metadata": {
    "collapsed": true,
    "jupyter": {
     "outputs_hidden": true
    },
    "tags": []
   },
   "outputs": [
    {
     "name": "stdout",
     "output_type": "stream",
     "text": [
      "<class 'geopandas.geodataframe.GeoDataFrame'>\n",
      "Index: 335452 entries, 0 to 381480\n",
      "Data columns (total 27 columns):\n",
      " #   Column              Non-Null Count   Dtype   \n",
      "---  ------              --------------   -----   \n",
      " 0   year                335452 non-null  int64   \n",
      " 1   system_name         335452 non-null  object  \n",
      " 2   school_name         335452 non-null  object  \n",
      " 3   test                335452 non-null  object  \n",
      " 4   subject             335452 non-null  object  \n",
      " 5   subject_area        335452 non-null  object  \n",
      " 6   student_group       335452 non-null  object  \n",
      " 7   valid_tests         335452 non-null  float64 \n",
      " 8   pct_met_exceeded    335452 non-null  float64 \n",
      " 9   system              335452 non-null  object  \n",
      " 10  school              335452 non-null  object  \n",
      " 11  school_lvl          335452 non-null  object  \n",
      " 12  tot_enrolled        335452 non-null  object  \n",
      " 13  fte_teachers        334603 non-null  float64 \n",
      " 14  stu_tchr_ratio      334603 non-null  float64 \n",
      " 15  school_type         335452 non-null  object  \n",
      " 16  magnet              335452 non-null  int64   \n",
      " 17  charter             335452 non-null  int64   \n",
      " 18  virtual             335452 non-null  object  \n",
      " 19  title_1             335452 non-null  object  \n",
      " 20  lat                 335452 non-null  float64 \n",
      " 21  long                335452 non-null  float64 \n",
      " 22  locale              335452 non-null  object  \n",
      " 23  geometry            335452 non-null  geometry\n",
      " 24  pct_met_exceeded_w  335452 non-null  float64 \n",
      " 25  stu_tchr_ratio_w    334603 non-null  float64 \n",
      " 26  fte_teachers_w      334603 non-null  float64 \n",
      "dtypes: float64(9), geometry(1), int64(3), object(14)\n",
      "memory usage: 71.7+ MB\n"
     ]
    }
   ],
   "source": [
    "# Assessments Info\n",
    "assessments.info()"
   ]
  },
  {
   "cell_type": "code",
   "execution_count": 4,
   "metadata": {
    "collapsed": true,
    "jupyter": {
     "outputs_hidden": true
    },
    "tags": []
   },
   "outputs": [
    {
     "data": {
      "text/plain": [
       "['All Students',\n",
       " 'American Indian or Alaska Native',\n",
       " 'Asian',\n",
       " 'Black or African American',\n",
       " 'Black/Hispanic/Native American',\n",
       " 'Economically Disadvantaged',\n",
       " 'English Learner Transitional 1-4',\n",
       " 'English Learners',\n",
       " 'English Learners with Transitional 1-4',\n",
       " 'Female',\n",
       " 'Gifted',\n",
       " 'Hispanic',\n",
       " 'Male',\n",
       " 'Native Hawaiian or Other Pacific Islander',\n",
       " 'Non-Black/Hispanic/Native American',\n",
       " 'Non-Economically Disadvantaged',\n",
       " 'Non-English Learners/Transitional 1-4',\n",
       " 'Non-Students with Disabilities',\n",
       " 'Students with Disabilities',\n",
       " 'Super Subgroup',\n",
       " 'White']"
      ]
     },
     "execution_count": 4,
     "metadata": {},
     "output_type": "execute_result"
    }
   ],
   "source": [
    "# Student Groups\n",
    "student_group_list = np.unique(assessments['student_group'].values).tolist()\n",
    "student_group_list"
   ]
  },
  {
   "cell_type": "code",
   "execution_count": 5,
   "metadata": {},
   "outputs": [
    {
     "data": {
      "text/plain": [
       "['1-Regular school',\n",
       " '2-Special education school',\n",
       " '4-Alternative Education School']"
      ]
     },
     "execution_count": 5,
     "metadata": {},
     "output_type": "execute_result"
    }
   ],
   "source": [
    "# School Types\n",
    "school_type_list = np.unique(assessments['school_type'].values).tolist()\n",
    "school_type_list"
   ]
  },
  {
   "cell_type": "code",
   "execution_count": 6,
   "metadata": {},
   "outputs": [
    {
     "data": {
      "text/plain": [
       "['ELA', 'Math', 'Science', 'Social Studies']"
      ]
     },
     "execution_count": 6,
     "metadata": {},
     "output_type": "execute_result"
    }
   ],
   "source": [
    "# Subject Areas\n",
    "subject_area_list = np.unique(assessments['subject_area'].values).tolist()\n",
    "subject_area_list"
   ]
  },
  {
   "cell_type": "markdown",
   "metadata": {},
   "source": [
    "## Unsuppressed: Broad Overview of Results"
   ]
  },
  {
   "attachments": {},
   "cell_type": "markdown",
   "metadata": {},
   "source": [
    "### Overall Unweighted Proficiencies by School-Level, Subject Area, and Year."
   ]
  },
  {
   "cell_type": "code",
   "execution_count": 7,
   "metadata": {},
   "outputs": [
    {
     "data": {
      "text/html": [
       "<div>\n",
       "<style scoped>\n",
       "    .dataframe tbody tr th:only-of-type {\n",
       "        vertical-align: middle;\n",
       "    }\n",
       "\n",
       "    .dataframe tbody tr th {\n",
       "        vertical-align: top;\n",
       "    }\n",
       "\n",
       "    .dataframe thead tr th {\n",
       "        text-align: left;\n",
       "    }\n",
       "\n",
       "    .dataframe thead tr:last-of-type th {\n",
       "        text-align: right;\n",
       "    }\n",
       "</style>\n",
       "<table border=\"1\" class=\"dataframe\">\n",
       "  <thead>\n",
       "    <tr>\n",
       "      <th>subject_area</th>\n",
       "      <th colspan=\"4\" halign=\"left\">ELA</th>\n",
       "      <th colspan=\"4\" halign=\"left\">Math</th>\n",
       "      <th colspan=\"3\" halign=\"left\">Science</th>\n",
       "      <th colspan=\"4\" halign=\"left\">Social Studies</th>\n",
       "    </tr>\n",
       "    <tr>\n",
       "      <th>year</th>\n",
       "      <th>2018</th>\n",
       "      <th>2019</th>\n",
       "      <th>2021</th>\n",
       "      <th>2022</th>\n",
       "      <th>2018</th>\n",
       "      <th>2019</th>\n",
       "      <th>2021</th>\n",
       "      <th>2022</th>\n",
       "      <th>2018</th>\n",
       "      <th>2021</th>\n",
       "      <th>2022</th>\n",
       "      <th>2018</th>\n",
       "      <th>2019</th>\n",
       "      <th>2021</th>\n",
       "      <th>2022</th>\n",
       "    </tr>\n",
       "    <tr>\n",
       "      <th>school_lvl</th>\n",
       "      <th></th>\n",
       "      <th></th>\n",
       "      <th></th>\n",
       "      <th></th>\n",
       "      <th></th>\n",
       "      <th></th>\n",
       "      <th></th>\n",
       "      <th></th>\n",
       "      <th></th>\n",
       "      <th></th>\n",
       "      <th></th>\n",
       "      <th></th>\n",
       "      <th></th>\n",
       "      <th></th>\n",
       "      <th></th>\n",
       "    </tr>\n",
       "  </thead>\n",
       "  <tbody>\n",
       "    <tr>\n",
       "      <th>Elementary</th>\n",
       "      <td>0.313354</td>\n",
       "      <td>0.317439</td>\n",
       "      <td>0.288133</td>\n",
       "      <td>0.332412</td>\n",
       "      <td>0.351674</td>\n",
       "      <td>0.402860</td>\n",
       "      <td>0.308109</td>\n",
       "      <td>0.338107</td>\n",
       "      <td>0.519245</td>\n",
       "      <td>0.353617</td>\n",
       "      <td>0.367404</td>\n",
       "      <td>0.338689</td>\n",
       "      <td>0.345175</td>\n",
       "      <td>0.328732</td>\n",
       "      <td>0.364729</td>\n",
       "    </tr>\n",
       "    <tr>\n",
       "      <th>High</th>\n",
       "      <td>0.269997</td>\n",
       "      <td>0.331378</td>\n",
       "      <td>0.294335</td>\n",
       "      <td>0.348687</td>\n",
       "      <td>0.231409</td>\n",
       "      <td>0.260610</td>\n",
       "      <td>0.201373</td>\n",
       "      <td>0.229202</td>\n",
       "      <td>0.400077</td>\n",
       "      <td>0.349336</td>\n",
       "      <td>0.355829</td>\n",
       "      <td>0.270426</td>\n",
       "      <td>0.286531</td>\n",
       "      <td>0.305459</td>\n",
       "      <td>0.343403</td>\n",
       "    </tr>\n",
       "    <tr>\n",
       "      <th>Middle</th>\n",
       "      <td>0.272938</td>\n",
       "      <td>0.289341</td>\n",
       "      <td>0.244374</td>\n",
       "      <td>0.294892</td>\n",
       "      <td>0.362565</td>\n",
       "      <td>0.390276</td>\n",
       "      <td>0.341143</td>\n",
       "      <td>0.357363</td>\n",
       "      <td>0.511250</td>\n",
       "      <td>0.322881</td>\n",
       "      <td>0.326773</td>\n",
       "      <td>0.337043</td>\n",
       "      <td>0.359389</td>\n",
       "      <td>0.334036</td>\n",
       "      <td>0.383663</td>\n",
       "    </tr>\n",
       "    <tr>\n",
       "      <th>Other</th>\n",
       "      <td>0.307405</td>\n",
       "      <td>0.327303</td>\n",
       "      <td>0.316126</td>\n",
       "      <td>0.344306</td>\n",
       "      <td>0.285647</td>\n",
       "      <td>0.308662</td>\n",
       "      <td>0.244099</td>\n",
       "      <td>0.240873</td>\n",
       "      <td>0.413550</td>\n",
       "      <td>0.365386</td>\n",
       "      <td>0.347952</td>\n",
       "      <td>0.304003</td>\n",
       "      <td>0.296822</td>\n",
       "      <td>0.349833</td>\n",
       "      <td>0.327282</td>\n",
       "    </tr>\n",
       "    <tr>\n",
       "      <th>Secondary</th>\n",
       "      <td>0.293484</td>\n",
       "      <td>0.276567</td>\n",
       "      <td>0.359758</td>\n",
       "      <td>0.370127</td>\n",
       "      <td>0.308447</td>\n",
       "      <td>0.384527</td>\n",
       "      <td>0.292991</td>\n",
       "      <td>0.387432</td>\n",
       "      <td>0.443152</td>\n",
       "      <td>0.505515</td>\n",
       "      <td>0.530455</td>\n",
       "      <td>0.277826</td>\n",
       "      <td>0.428159</td>\n",
       "      <td>0.291515</td>\n",
       "      <td>0.525471</td>\n",
       "    </tr>\n",
       "  </tbody>\n",
       "</table>\n",
       "</div>"
      ],
      "text/plain": [
       "subject_area       ELA                                    Math            \\\n",
       "year              2018      2019      2021      2022      2018      2019   \n",
       "school_lvl                                                                 \n",
       "Elementary    0.313354  0.317439  0.288133  0.332412  0.351674  0.402860   \n",
       "High          0.269997  0.331378  0.294335  0.348687  0.231409  0.260610   \n",
       "Middle        0.272938  0.289341  0.244374  0.294892  0.362565  0.390276   \n",
       "Other         0.307405  0.327303  0.316126  0.344306  0.285647  0.308662   \n",
       "Secondary     0.293484  0.276567  0.359758  0.370127  0.308447  0.384527   \n",
       "\n",
       "subject_area                       Science                     Social Studies  \\\n",
       "year              2021      2022      2018      2021      2022           2018   \n",
       "school_lvl                                                                      \n",
       "Elementary    0.308109  0.338107  0.519245  0.353617  0.367404       0.338689   \n",
       "High          0.201373  0.229202  0.400077  0.349336  0.355829       0.270426   \n",
       "Middle        0.341143  0.357363  0.511250  0.322881  0.326773       0.337043   \n",
       "Other         0.244099  0.240873  0.413550  0.365386  0.347952       0.304003   \n",
       "Secondary     0.292991  0.387432  0.443152  0.505515  0.530455       0.277826   \n",
       "\n",
       "subject_area                                \n",
       "year              2019      2021      2022  \n",
       "school_lvl                                  \n",
       "Elementary    0.345175  0.328732  0.364729  \n",
       "High          0.286531  0.305459  0.343403  \n",
       "Middle        0.359389  0.334036  0.383663  \n",
       "Other         0.296822  0.349833  0.327282  \n",
       "Secondary     0.428159  0.291515  0.525471  "
      ]
     },
     "execution_count": 7,
     "metadata": {},
     "output_type": "execute_result"
    }
   ],
   "source": [
    "# Subject Area Pivot Table\n",
    "subject_area_pivot = pd.pivot_table(assessments,\n",
    "                       values = 'pct_met_exceeded',\n",
    "                       index = ['school_lvl'],\n",
    "                       columns = ['subject_area','year'],\n",
    "                       aggfunc = np.mean)\n",
    "\n",
    "# Get the current list of years\n",
    "years = list(subject_area_pivot.columns)\n",
    "\n",
    "subject_area_pivot\n",
    "#.plot()"
   ]
  },
  {
   "attachments": {},
   "cell_type": "markdown",
   "metadata": {},
   "source": [
    "#### Visual of Log Proficiencies For All Subjects Combined by School Level (Unweighted)"
   ]
  },
  {
   "cell_type": "code",
   "execution_count": 8,
   "metadata": {},
   "outputs": [
    {
     "data": {
      "application/vnd.plotly.v1+json": {
       "config": {
        "plotlyServerURL": "https://plot.ly"
       },
       "data": [
        {
         "colorscale": [
          [
           0,
           "#440154"
          ],
          [
           0.1111111111111111,
           "#482878"
          ],
          [
           0.2222222222222222,
           "#3e4989"
          ],
          [
           0.3333333333333333,
           "#31688e"
          ],
          [
           0.4444444444444444,
           "#26828e"
          ],
          [
           0.5555555555555556,
           "#1f9e89"
          ],
          [
           0.6666666666666666,
           "#35b779"
          ],
          [
           0.7777777777777778,
           "#6ece58"
          ],
          [
           0.8888888888888888,
           "#b5de2b"
          ],
          [
           1,
           "#fde725"
          ]
         ],
         "type": "heatmap",
         "x": [
          2018,
          2019,
          2021,
          2022,
          2018,
          2019,
          2021,
          2022,
          2018,
          2021,
          2022,
          2018,
          2019,
          2021,
          2022
         ],
         "y": [
          "Elementary",
          "High",
          "Middle",
          "Other",
          "Secondary"
         ],
         "z": [
          [
           -1.1604231506220097,
           -1.1474690767214122,
           -1.244331662563781,
           -1.1013803883172049,
           -1.0450509499639855,
           -0.9091671226383866,
           -1.1773018611877002,
           -1.0843915032888014,
           -0.6553789149947815,
           -1.039541214541772,
           -1.001293992397191,
           -1.082672348600349,
           -1.0637027423419314,
           -1.112512627660853,
           -1.0086001628672294
          ],
          [
           -1.3093452661575986,
           -1.1044967437362676,
           -1.223035456405317,
           -1.0535794398944052,
           -1.463567453991368,
           -1.3447283330321826,
           -1.6025988107285392,
           -1.4731511547282896,
           -0.9160990324582512,
           -1.0517221894903117,
           -1.033306187812059,
           -1.3077555125727889,
           -1.2499076737319628,
           -1.185940675508946,
           -1.068849206313412
          ],
          [
           -1.2985092804424785,
           -1.2401500570948267,
           -1.4090574170111927,
           -1.221144683499604,
           -1.0145512120105757,
           -0.9408999939880842,
           -1.075452804347602,
           -1.0290020698365854,
           -0.6708967925910583,
           -1.1304705399896537,
           -1.11849012451689,
           -1.087544441285119,
           -1.0233488172716403,
           -1.0965072763596544,
           -0.9579918129019097
          ],
          [
           -1.1795907723893755,
           -1.116867501111674,
           -1.1516159008768765,
           -1.0662244121413318,
           -1.2529997907067547,
           -1.1755093808000683,
           -1.4101801268849294,
           -1.4234864586688378,
           -0.8829776196798094,
           -1.0068016604242493,
           -1.0556911422357091,
           -1.1907186144725304,
           -1.2146213658599627,
           -1.0503006756436954,
           -1.1169323058965404
          ],
          [
           -1.225932595337334,
           -1.2853027334588718,
           -1.0223242169806883,
           -0.9939083521475618,
           -1.1762044837138388,
           -0.9557414115874795,
           -1.2276142720318475,
           -0.9482138133088912,
           -0.8138414619780793,
           -0.6821772676470602,
           -0.6340210070598513,
           -1.2807599475397062,
           -0.8482604447350239,
           -1.232663296788865,
           -0.643461059336514
          ]
         ],
         "zmid": -1.1013803883172049
        }
       ],
       "layout": {
        "template": {
         "data": {
          "bar": [
           {
            "error_x": {
             "color": "#2a3f5f"
            },
            "error_y": {
             "color": "#2a3f5f"
            },
            "marker": {
             "line": {
              "color": "#E5ECF6",
              "width": 0.5
             },
             "pattern": {
              "fillmode": "overlay",
              "size": 10,
              "solidity": 0.2
             }
            },
            "type": "bar"
           }
          ],
          "barpolar": [
           {
            "marker": {
             "line": {
              "color": "#E5ECF6",
              "width": 0.5
             },
             "pattern": {
              "fillmode": "overlay",
              "size": 10,
              "solidity": 0.2
             }
            },
            "type": "barpolar"
           }
          ],
          "carpet": [
           {
            "aaxis": {
             "endlinecolor": "#2a3f5f",
             "gridcolor": "white",
             "linecolor": "white",
             "minorgridcolor": "white",
             "startlinecolor": "#2a3f5f"
            },
            "baxis": {
             "endlinecolor": "#2a3f5f",
             "gridcolor": "white",
             "linecolor": "white",
             "minorgridcolor": "white",
             "startlinecolor": "#2a3f5f"
            },
            "type": "carpet"
           }
          ],
          "choropleth": [
           {
            "colorbar": {
             "outlinewidth": 0,
             "ticks": ""
            },
            "type": "choropleth"
           }
          ],
          "contour": [
           {
            "colorbar": {
             "outlinewidth": 0,
             "ticks": ""
            },
            "colorscale": [
             [
              0,
              "#0d0887"
             ],
             [
              0.1111111111111111,
              "#46039f"
             ],
             [
              0.2222222222222222,
              "#7201a8"
             ],
             [
              0.3333333333333333,
              "#9c179e"
             ],
             [
              0.4444444444444444,
              "#bd3786"
             ],
             [
              0.5555555555555556,
              "#d8576b"
             ],
             [
              0.6666666666666666,
              "#ed7953"
             ],
             [
              0.7777777777777778,
              "#fb9f3a"
             ],
             [
              0.8888888888888888,
              "#fdca26"
             ],
             [
              1,
              "#f0f921"
             ]
            ],
            "type": "contour"
           }
          ],
          "contourcarpet": [
           {
            "colorbar": {
             "outlinewidth": 0,
             "ticks": ""
            },
            "type": "contourcarpet"
           }
          ],
          "heatmap": [
           {
            "colorbar": {
             "outlinewidth": 0,
             "ticks": ""
            },
            "colorscale": [
             [
              0,
              "#0d0887"
             ],
             [
              0.1111111111111111,
              "#46039f"
             ],
             [
              0.2222222222222222,
              "#7201a8"
             ],
             [
              0.3333333333333333,
              "#9c179e"
             ],
             [
              0.4444444444444444,
              "#bd3786"
             ],
             [
              0.5555555555555556,
              "#d8576b"
             ],
             [
              0.6666666666666666,
              "#ed7953"
             ],
             [
              0.7777777777777778,
              "#fb9f3a"
             ],
             [
              0.8888888888888888,
              "#fdca26"
             ],
             [
              1,
              "#f0f921"
             ]
            ],
            "type": "heatmap"
           }
          ],
          "heatmapgl": [
           {
            "colorbar": {
             "outlinewidth": 0,
             "ticks": ""
            },
            "colorscale": [
             [
              0,
              "#0d0887"
             ],
             [
              0.1111111111111111,
              "#46039f"
             ],
             [
              0.2222222222222222,
              "#7201a8"
             ],
             [
              0.3333333333333333,
              "#9c179e"
             ],
             [
              0.4444444444444444,
              "#bd3786"
             ],
             [
              0.5555555555555556,
              "#d8576b"
             ],
             [
              0.6666666666666666,
              "#ed7953"
             ],
             [
              0.7777777777777778,
              "#fb9f3a"
             ],
             [
              0.8888888888888888,
              "#fdca26"
             ],
             [
              1,
              "#f0f921"
             ]
            ],
            "type": "heatmapgl"
           }
          ],
          "histogram": [
           {
            "marker": {
             "pattern": {
              "fillmode": "overlay",
              "size": 10,
              "solidity": 0.2
             }
            },
            "type": "histogram"
           }
          ],
          "histogram2d": [
           {
            "colorbar": {
             "outlinewidth": 0,
             "ticks": ""
            },
            "colorscale": [
             [
              0,
              "#0d0887"
             ],
             [
              0.1111111111111111,
              "#46039f"
             ],
             [
              0.2222222222222222,
              "#7201a8"
             ],
             [
              0.3333333333333333,
              "#9c179e"
             ],
             [
              0.4444444444444444,
              "#bd3786"
             ],
             [
              0.5555555555555556,
              "#d8576b"
             ],
             [
              0.6666666666666666,
              "#ed7953"
             ],
             [
              0.7777777777777778,
              "#fb9f3a"
             ],
             [
              0.8888888888888888,
              "#fdca26"
             ],
             [
              1,
              "#f0f921"
             ]
            ],
            "type": "histogram2d"
           }
          ],
          "histogram2dcontour": [
           {
            "colorbar": {
             "outlinewidth": 0,
             "ticks": ""
            },
            "colorscale": [
             [
              0,
              "#0d0887"
             ],
             [
              0.1111111111111111,
              "#46039f"
             ],
             [
              0.2222222222222222,
              "#7201a8"
             ],
             [
              0.3333333333333333,
              "#9c179e"
             ],
             [
              0.4444444444444444,
              "#bd3786"
             ],
             [
              0.5555555555555556,
              "#d8576b"
             ],
             [
              0.6666666666666666,
              "#ed7953"
             ],
             [
              0.7777777777777778,
              "#fb9f3a"
             ],
             [
              0.8888888888888888,
              "#fdca26"
             ],
             [
              1,
              "#f0f921"
             ]
            ],
            "type": "histogram2dcontour"
           }
          ],
          "mesh3d": [
           {
            "colorbar": {
             "outlinewidth": 0,
             "ticks": ""
            },
            "type": "mesh3d"
           }
          ],
          "parcoords": [
           {
            "line": {
             "colorbar": {
              "outlinewidth": 0,
              "ticks": ""
             }
            },
            "type": "parcoords"
           }
          ],
          "pie": [
           {
            "automargin": true,
            "type": "pie"
           }
          ],
          "scatter": [
           {
            "fillpattern": {
             "fillmode": "overlay",
             "size": 10,
             "solidity": 0.2
            },
            "type": "scatter"
           }
          ],
          "scatter3d": [
           {
            "line": {
             "colorbar": {
              "outlinewidth": 0,
              "ticks": ""
             }
            },
            "marker": {
             "colorbar": {
              "outlinewidth": 0,
              "ticks": ""
             }
            },
            "type": "scatter3d"
           }
          ],
          "scattercarpet": [
           {
            "marker": {
             "colorbar": {
              "outlinewidth": 0,
              "ticks": ""
             }
            },
            "type": "scattercarpet"
           }
          ],
          "scattergeo": [
           {
            "marker": {
             "colorbar": {
              "outlinewidth": 0,
              "ticks": ""
             }
            },
            "type": "scattergeo"
           }
          ],
          "scattergl": [
           {
            "marker": {
             "colorbar": {
              "outlinewidth": 0,
              "ticks": ""
             }
            },
            "type": "scattergl"
           }
          ],
          "scattermapbox": [
           {
            "marker": {
             "colorbar": {
              "outlinewidth": 0,
              "ticks": ""
             }
            },
            "type": "scattermapbox"
           }
          ],
          "scatterpolar": [
           {
            "marker": {
             "colorbar": {
              "outlinewidth": 0,
              "ticks": ""
             }
            },
            "type": "scatterpolar"
           }
          ],
          "scatterpolargl": [
           {
            "marker": {
             "colorbar": {
              "outlinewidth": 0,
              "ticks": ""
             }
            },
            "type": "scatterpolargl"
           }
          ],
          "scatterternary": [
           {
            "marker": {
             "colorbar": {
              "outlinewidth": 0,
              "ticks": ""
             }
            },
            "type": "scatterternary"
           }
          ],
          "surface": [
           {
            "colorbar": {
             "outlinewidth": 0,
             "ticks": ""
            },
            "colorscale": [
             [
              0,
              "#0d0887"
             ],
             [
              0.1111111111111111,
              "#46039f"
             ],
             [
              0.2222222222222222,
              "#7201a8"
             ],
             [
              0.3333333333333333,
              "#9c179e"
             ],
             [
              0.4444444444444444,
              "#bd3786"
             ],
             [
              0.5555555555555556,
              "#d8576b"
             ],
             [
              0.6666666666666666,
              "#ed7953"
             ],
             [
              0.7777777777777778,
              "#fb9f3a"
             ],
             [
              0.8888888888888888,
              "#fdca26"
             ],
             [
              1,
              "#f0f921"
             ]
            ],
            "type": "surface"
           }
          ],
          "table": [
           {
            "cells": {
             "fill": {
              "color": "#EBF0F8"
             },
             "line": {
              "color": "white"
             }
            },
            "header": {
             "fill": {
              "color": "#C8D4E3"
             },
             "line": {
              "color": "white"
             }
            },
            "type": "table"
           }
          ]
         },
         "layout": {
          "annotationdefaults": {
           "arrowcolor": "#2a3f5f",
           "arrowhead": 0,
           "arrowwidth": 1
          },
          "autotypenumbers": "strict",
          "coloraxis": {
           "colorbar": {
            "outlinewidth": 0,
            "ticks": ""
           }
          },
          "colorscale": {
           "diverging": [
            [
             0,
             "#8e0152"
            ],
            [
             0.1,
             "#c51b7d"
            ],
            [
             0.2,
             "#de77ae"
            ],
            [
             0.3,
             "#f1b6da"
            ],
            [
             0.4,
             "#fde0ef"
            ],
            [
             0.5,
             "#f7f7f7"
            ],
            [
             0.6,
             "#e6f5d0"
            ],
            [
             0.7,
             "#b8e186"
            ],
            [
             0.8,
             "#7fbc41"
            ],
            [
             0.9,
             "#4d9221"
            ],
            [
             1,
             "#276419"
            ]
           ],
           "sequential": [
            [
             0,
             "#0d0887"
            ],
            [
             0.1111111111111111,
             "#46039f"
            ],
            [
             0.2222222222222222,
             "#7201a8"
            ],
            [
             0.3333333333333333,
             "#9c179e"
            ],
            [
             0.4444444444444444,
             "#bd3786"
            ],
            [
             0.5555555555555556,
             "#d8576b"
            ],
            [
             0.6666666666666666,
             "#ed7953"
            ],
            [
             0.7777777777777778,
             "#fb9f3a"
            ],
            [
             0.8888888888888888,
             "#fdca26"
            ],
            [
             1,
             "#f0f921"
            ]
           ],
           "sequentialminus": [
            [
             0,
             "#0d0887"
            ],
            [
             0.1111111111111111,
             "#46039f"
            ],
            [
             0.2222222222222222,
             "#7201a8"
            ],
            [
             0.3333333333333333,
             "#9c179e"
            ],
            [
             0.4444444444444444,
             "#bd3786"
            ],
            [
             0.5555555555555556,
             "#d8576b"
            ],
            [
             0.6666666666666666,
             "#ed7953"
            ],
            [
             0.7777777777777778,
             "#fb9f3a"
            ],
            [
             0.8888888888888888,
             "#fdca26"
            ],
            [
             1,
             "#f0f921"
            ]
           ]
          },
          "colorway": [
           "#636efa",
           "#EF553B",
           "#00cc96",
           "#ab63fa",
           "#FFA15A",
           "#19d3f3",
           "#FF6692",
           "#B6E880",
           "#FF97FF",
           "#FECB52"
          ],
          "font": {
           "color": "#2a3f5f"
          },
          "geo": {
           "bgcolor": "white",
           "lakecolor": "white",
           "landcolor": "#E5ECF6",
           "showlakes": true,
           "showland": true,
           "subunitcolor": "white"
          },
          "hoverlabel": {
           "align": "left"
          },
          "hovermode": "closest",
          "mapbox": {
           "style": "light"
          },
          "paper_bgcolor": "white",
          "plot_bgcolor": "#E5ECF6",
          "polar": {
           "angularaxis": {
            "gridcolor": "white",
            "linecolor": "white",
            "ticks": ""
           },
           "bgcolor": "#E5ECF6",
           "radialaxis": {
            "gridcolor": "white",
            "linecolor": "white",
            "ticks": ""
           }
          },
          "scene": {
           "xaxis": {
            "backgroundcolor": "#E5ECF6",
            "gridcolor": "white",
            "gridwidth": 2,
            "linecolor": "white",
            "showbackground": true,
            "ticks": "",
            "zerolinecolor": "white"
           },
           "yaxis": {
            "backgroundcolor": "#E5ECF6",
            "gridcolor": "white",
            "gridwidth": 2,
            "linecolor": "white",
            "showbackground": true,
            "ticks": "",
            "zerolinecolor": "white"
           },
           "zaxis": {
            "backgroundcolor": "#E5ECF6",
            "gridcolor": "white",
            "gridwidth": 2,
            "linecolor": "white",
            "showbackground": true,
            "ticks": "",
            "zerolinecolor": "white"
           }
          },
          "shapedefaults": {
           "line": {
            "color": "#2a3f5f"
           }
          },
          "ternary": {
           "aaxis": {
            "gridcolor": "white",
            "linecolor": "white",
            "ticks": ""
           },
           "baxis": {
            "gridcolor": "white",
            "linecolor": "white",
            "ticks": ""
           },
           "bgcolor": "#E5ECF6",
           "caxis": {
            "gridcolor": "white",
            "linecolor": "white",
            "ticks": ""
           }
          },
          "title": {
           "x": 0.05
          },
          "xaxis": {
           "automargin": true,
           "gridcolor": "white",
           "linecolor": "white",
           "ticks": "",
           "title": {
            "standoff": 15
           },
           "zerolinecolor": "white",
           "zerolinewidth": 2
          },
          "yaxis": {
           "automargin": true,
           "gridcolor": "white",
           "linecolor": "white",
           "ticks": "",
           "title": {
            "standoff": 15
           },
           "zerolinecolor": "white",
           "zerolinewidth": 2
          }
         }
        },
        "title": {
         "text": "Subject Area Heatmap (Log Scale)"
        },
        "xaxis": {
         "title": {
          "text": "Year"
         }
        },
        "yaxis": {
         "title": {
          "text": "School Level"
         }
        }
       }
      }
     },
     "metadata": {},
     "output_type": "display_data"
    }
   ],
   "source": [
    "# Apply logarithmic scaling to the values\n",
    "log_values = np.log(subject_area_pivot.values)\n",
    "\n",
    "# Create a diverging colorscale for heatmap\n",
    "colorscale = 'Viridis'\n",
    "\n",
    "# Create the heatmap figure\n",
    "fig = go.Figure(data=go.Heatmap(\n",
    "    z=log_values,\n",
    "    x=subject_area_pivot.columns.get_level_values('year'),\n",
    "    y=subject_area_pivot.index,\n",
    "    colorscale=colorscale,\n",
    "    zmid=np.median(log_values)  # Set the midpoint of the colorscale\n",
    "))\n",
    "\n",
    "# Update the layout\n",
    "fig.update_layout(\n",
    "    title='Subject Area Heatmap (Log Scale)',\n",
    "    xaxis_title='Year',\n",
    "    yaxis_title='School Level'\n",
    ")\n",
    "\n",
    "# Show the figure\n",
    "fig.show()"
   ]
  },
  {
   "attachments": {},
   "cell_type": "markdown",
   "metadata": {},
   "source": [
    "### 🗺️ Spatial Join of School Geometry (lat/long point) and District (polygons)"
   ]
  },
  {
   "attachments": {},
   "cell_type": "markdown",
   "metadata": {},
   "source": [
    "There's some funk going on here.  District names don't match across datasets.  I'm going to do a spatial merge to see which dististricts are associated based on thier physical location."
   ]
  },
  {
   "cell_type": "code",
   "execution_count": 9,
   "metadata": {},
   "outputs": [],
   "source": [
    "# Set the CRS for the assessments dataframe\n",
    "assessments.crs = \"EPSG:4269\"\n",
    "\n",
    "# Reproject assessments dataframe to match the CRS of tn_leas dataframe\n",
    "reproject = assessments.to_crs(tn_leas.crs)\n",
    "\n",
    "# Perform spatial join\n",
    "assessments = gpd.sjoin(reproject, tn_leas, how='inner', predicate='intersects')"
   ]
  },
  {
   "attachments": {},
   "cell_type": "markdown",
   "metadata": {},
   "source": [
    "There is indeed a mismatch in naming conventions between datasets"
   ]
  },
  {
   "cell_type": "code",
   "execution_count": 10,
   "metadata": {},
   "outputs": [
    {
     "data": {
      "text/html": [
       "<div>\n",
       "<style scoped>\n",
       "    .dataframe tbody tr th:only-of-type {\n",
       "        vertical-align: middle;\n",
       "    }\n",
       "\n",
       "    .dataframe tbody tr th {\n",
       "        vertical-align: top;\n",
       "    }\n",
       "\n",
       "    .dataframe thead th {\n",
       "        text-align: right;\n",
       "    }\n",
       "</style>\n",
       "<table border=\"1\" class=\"dataframe\">\n",
       "  <thead>\n",
       "    <tr style=\"text-align: right;\">\n",
       "      <th></th>\n",
       "      <th>system_name_left</th>\n",
       "      <th>system_name_right</th>\n",
       "    </tr>\n",
       "  </thead>\n",
       "  <tbody>\n",
       "    <tr>\n",
       "      <th>381475</th>\n",
       "      <td>Wilson County</td>\n",
       "      <td>Wilson County School District</td>\n",
       "    </tr>\n",
       "    <tr>\n",
       "      <th>381476</th>\n",
       "      <td>Wilson County</td>\n",
       "      <td>Wilson County School District</td>\n",
       "    </tr>\n",
       "    <tr>\n",
       "      <th>381477</th>\n",
       "      <td>Wilson County</td>\n",
       "      <td>Wilson County School District</td>\n",
       "    </tr>\n",
       "    <tr>\n",
       "      <th>381479</th>\n",
       "      <td>Wilson County</td>\n",
       "      <td>Wilson County School District</td>\n",
       "    </tr>\n",
       "    <tr>\n",
       "      <th>381480</th>\n",
       "      <td>Wilson County</td>\n",
       "      <td>Wilson County School District</td>\n",
       "    </tr>\n",
       "  </tbody>\n",
       "</table>\n",
       "</div>"
      ],
      "text/plain": [
       "       system_name_left              system_name_right\n",
       "381475    Wilson County  Wilson County School District\n",
       "381476    Wilson County  Wilson County School District\n",
       "381477    Wilson County  Wilson County School District\n",
       "381479    Wilson County  Wilson County School District\n",
       "381480    Wilson County  Wilson County School District"
      ]
     },
     "execution_count": 10,
     "metadata": {},
     "output_type": "execute_result"
    }
   ],
   "source": [
    "# Looking at differences in naming conventions\n",
    "pd.merge(\n",
    "    left = assessments.groupby(['system_name_left','school_name'])['system_name_right'].nunique().loc[lambda x: x>1].reset_index().drop(columns = 'system_name_right'),\n",
    "    right = assessments)[['system_name_left', 'school_name', 'system_name_right']].drop_duplicates()#.to_csv('../data/fixerupper.csv', index = False)\n",
    "\n",
    "subset_assessments = assessments[['system_name_left', 'system_name_right']]\n",
    "subset_assessments.tail()"
   ]
  },
  {
   "cell_type": "code",
   "execution_count": 11,
   "metadata": {},
   "outputs": [
    {
     "data": {
      "text/html": [
       "<div>\n",
       "<style scoped>\n",
       "    .dataframe tbody tr th:only-of-type {\n",
       "        vertical-align: middle;\n",
       "    }\n",
       "\n",
       "    .dataframe tbody tr th {\n",
       "        vertical-align: top;\n",
       "    }\n",
       "\n",
       "    .dataframe thead th {\n",
       "        text-align: right;\n",
       "    }\n",
       "</style>\n",
       "<table border=\"1\" class=\"dataframe\">\n",
       "  <thead>\n",
       "    <tr style=\"text-align: right;\">\n",
       "      <th></th>\n",
       "      <th>system_name_left</th>\n",
       "      <th>school_name</th>\n",
       "      <th>system_name_right</th>\n",
       "    </tr>\n",
       "  </thead>\n",
       "  <tbody>\n",
       "    <tr>\n",
       "      <th>85</th>\n",
       "      <td>Williamson County</td>\n",
       "      <td>Centennial High School</td>\n",
       "      <td>Williamson County School District in Franklin</td>\n",
       "    </tr>\n",
       "    <tr>\n",
       "      <th>86</th>\n",
       "      <td>Williamson County</td>\n",
       "      <td>Discovery Virtual K-8 School</td>\n",
       "      <td>Williamson County School District in Franklin</td>\n",
       "    </tr>\n",
       "    <tr>\n",
       "      <th>87</th>\n",
       "      <td>Williamson County</td>\n",
       "      <td>Franklin High School</td>\n",
       "      <td>Williamson County School District in Franklin</td>\n",
       "    </tr>\n",
       "    <tr>\n",
       "      <th>88</th>\n",
       "      <td>Williamson County</td>\n",
       "      <td>Renaissance High School</td>\n",
       "      <td>Williamson County School District in Franklin</td>\n",
       "    </tr>\n",
       "    <tr>\n",
       "      <th>89</th>\n",
       "      <td>Williamson County</td>\n",
       "      <td>Vanguard Virtual High School</td>\n",
       "      <td>Williamson County School District in Franklin</td>\n",
       "    </tr>\n",
       "    <tr>\n",
       "      <th>90</th>\n",
       "      <td>Wilson County</td>\n",
       "      <td>Lebanon High School</td>\n",
       "      <td>Wilson County School District in Lebanon</td>\n",
       "    </tr>\n",
       "    <tr>\n",
       "      <th>91</th>\n",
       "      <td>Wilson County</td>\n",
       "      <td>Tennessee Virtual On-Line School</td>\n",
       "      <td>Wilson County School District</td>\n",
       "    </tr>\n",
       "  </tbody>\n",
       "</table>\n",
       "</div>"
      ],
      "text/plain": [
       "     system_name_left                       school_name  \\\n",
       "85  Williamson County            Centennial High School   \n",
       "86  Williamson County      Discovery Virtual K-8 School   \n",
       "87  Williamson County              Franklin High School   \n",
       "88  Williamson County           Renaissance High School   \n",
       "89  Williamson County      Vanguard Virtual High School   \n",
       "90      Wilson County               Lebanon High School   \n",
       "91      Wilson County  Tennessee Virtual On-Line School   \n",
       "\n",
       "                                system_name_right  \n",
       "85  Williamson County School District in Franklin  \n",
       "86  Williamson County School District in Franklin  \n",
       "87  Williamson County School District in Franklin  \n",
       "88  Williamson County School District in Franklin  \n",
       "89  Williamson County School District in Franklin  \n",
       "90       Wilson County School District in Lebanon  \n",
       "91                  Wilson County School District  "
      ]
     },
     "execution_count": 11,
     "metadata": {},
     "output_type": "execute_result"
    }
   ],
   "source": [
    "# Load cleaned dictionary mapping\n",
    "clean_dictionary =pd.read_csv('../data/clean_dictionary.csv')\n",
    "clean_dictionary = pd.concat([pd.merge(\n",
    "    left = assessments.groupby(['system_name_left','school_name'])['system_name_right'].nunique().loc[lambda x: x == 1].reset_index().drop(columns = 'system_name_right'),\n",
    "    right = assessments)[['system_name_left', 'school_name', 'system_name_right']].drop_duplicates(), clean_dictionary])\n",
    "clean_dictionary.tail(n=7)"
   ]
  },
  {
   "attachments": {},
   "cell_type": "markdown",
   "metadata": {},
   "source": [
    "Proccessing steps: Keep system_name_right, rename as system_name, drop system_name_right, set_system_name at col index 2"
   ]
  },
  {
   "cell_type": "code",
   "execution_count": 12,
   "metadata": {},
   "outputs": [],
   "source": [
    "# Merge assessments with the clean dictionary\n",
    "assessments = (pd.merge(left = assessments, right = clean_dictionary))\n",
    "\n",
    "# Rename the 'system_name_right' column to 'system_name'\n",
    "assessments.rename(columns={'system_name_right': 'system_name'}, inplace=True)\n",
    "\n",
    "# Move the 'system_name' column to the third position\n",
    "columns = list(assessments.columns)\n",
    "columns.insert(2, columns.pop(columns.index('system_name')))\n",
    "assessments = assessments[columns]\n",
    "\n",
    "# Drop the 'system_name_right' column\n",
    "assessments.drop('system_name_left', axis=1, inplace=True)"
   ]
  },
  {
   "cell_type": "code",
   "execution_count": 13,
   "metadata": {},
   "outputs": [
    {
     "data": {
      "text/html": [
       "<div>\n",
       "<style scoped>\n",
       "    .dataframe tbody tr th:only-of-type {\n",
       "        vertical-align: middle;\n",
       "    }\n",
       "\n",
       "    .dataframe tbody tr th {\n",
       "        vertical-align: top;\n",
       "    }\n",
       "\n",
       "    .dataframe thead th {\n",
       "        text-align: right;\n",
       "    }\n",
       "</style>\n",
       "<table border=\"1\" class=\"dataframe\">\n",
       "  <thead>\n",
       "    <tr style=\"text-align: right;\">\n",
       "      <th></th>\n",
       "      <th>year</th>\n",
       "      <th>system_name</th>\n",
       "      <th>school_name</th>\n",
       "      <th>test</th>\n",
       "      <th>subject</th>\n",
       "      <th>subject_area</th>\n",
       "      <th>student_group</th>\n",
       "      <th>valid_tests</th>\n",
       "      <th>pct_met_exceeded</th>\n",
       "      <th>system</th>\n",
       "      <th>school</th>\n",
       "      <th>school_lvl</th>\n",
       "      <th>tot_enrolled</th>\n",
       "      <th>fte_teachers</th>\n",
       "      <th>stu_tchr_ratio</th>\n",
       "      <th>school_type</th>\n",
       "      <th>magnet</th>\n",
       "      <th>charter</th>\n",
       "      <th>virtual</th>\n",
       "      <th>title_1</th>\n",
       "      <th>lat</th>\n",
       "      <th>long</th>\n",
       "      <th>locale</th>\n",
       "      <th>geometry</th>\n",
       "      <th>pct_met_exceeded_w</th>\n",
       "      <th>stu_tchr_ratio_w</th>\n",
       "      <th>fte_teachers_w</th>\n",
       "      <th>index_right</th>\n",
       "    </tr>\n",
       "  </thead>\n",
       "  <tbody>\n",
       "    <tr>\n",
       "      <th>0</th>\n",
       "      <td>2018</td>\n",
       "      <td>Shelby County School District</td>\n",
       "      <td>Aspire Coleman</td>\n",
       "      <td>TNReady</td>\n",
       "      <td>ELA</td>\n",
       "      <td>ELA</td>\n",
       "      <td>All Students</td>\n",
       "      <td>321.0</td>\n",
       "      <td>0.112</td>\n",
       "      <td>TN-00985</td>\n",
       "      <td>TN-00985-8050</td>\n",
       "      <td>Elementary</td>\n",
       "      <td>570</td>\n",
       "      <td>27.5</td>\n",
       "      <td>20.73</td>\n",
       "      <td>1-Regular school</td>\n",
       "      <td>0</td>\n",
       "      <td>1</td>\n",
       "      <td>NOTVIRTUAL</td>\n",
       "      <td>1</td>\n",
       "      <td>35.2141</td>\n",
       "      <td>-89.923641</td>\n",
       "      <td>11-City: Large</td>\n",
       "      <td>POINT (-89.92364 35.21410)</td>\n",
       "      <td>35.952</td>\n",
       "      <td>6654.33</td>\n",
       "      <td>8827.5</td>\n",
       "      <td>42</td>\n",
       "    </tr>\n",
       "    <tr>\n",
       "      <th>1</th>\n",
       "      <td>2018</td>\n",
       "      <td>Shelby County School District</td>\n",
       "      <td>Aspire Coleman</td>\n",
       "      <td>TNReady</td>\n",
       "      <td>ELA</td>\n",
       "      <td>ELA</td>\n",
       "      <td>Black or African American</td>\n",
       "      <td>299.0</td>\n",
       "      <td>0.114</td>\n",
       "      <td>TN-00985</td>\n",
       "      <td>TN-00985-8050</td>\n",
       "      <td>Elementary</td>\n",
       "      <td>570</td>\n",
       "      <td>27.5</td>\n",
       "      <td>20.73</td>\n",
       "      <td>1-Regular school</td>\n",
       "      <td>0</td>\n",
       "      <td>1</td>\n",
       "      <td>NOTVIRTUAL</td>\n",
       "      <td>1</td>\n",
       "      <td>35.2141</td>\n",
       "      <td>-89.923641</td>\n",
       "      <td>11-City: Large</td>\n",
       "      <td>POINT (-89.92364 35.21410)</td>\n",
       "      <td>34.086</td>\n",
       "      <td>6198.27</td>\n",
       "      <td>8222.5</td>\n",
       "      <td>42</td>\n",
       "    </tr>\n",
       "    <tr>\n",
       "      <th>2</th>\n",
       "      <td>2018</td>\n",
       "      <td>Shelby County School District</td>\n",
       "      <td>Aspire Coleman</td>\n",
       "      <td>TNReady</td>\n",
       "      <td>ELA</td>\n",
       "      <td>ELA</td>\n",
       "      <td>Black/Hispanic/Native American</td>\n",
       "      <td>312.0</td>\n",
       "      <td>0.115</td>\n",
       "      <td>TN-00985</td>\n",
       "      <td>TN-00985-8050</td>\n",
       "      <td>Elementary</td>\n",
       "      <td>570</td>\n",
       "      <td>27.5</td>\n",
       "      <td>20.73</td>\n",
       "      <td>1-Regular school</td>\n",
       "      <td>0</td>\n",
       "      <td>1</td>\n",
       "      <td>NOTVIRTUAL</td>\n",
       "      <td>1</td>\n",
       "      <td>35.2141</td>\n",
       "      <td>-89.923641</td>\n",
       "      <td>11-City: Large</td>\n",
       "      <td>POINT (-89.92364 35.21410)</td>\n",
       "      <td>35.880</td>\n",
       "      <td>6467.76</td>\n",
       "      <td>8580.0</td>\n",
       "      <td>42</td>\n",
       "    </tr>\n",
       "    <tr>\n",
       "      <th>3</th>\n",
       "      <td>2018</td>\n",
       "      <td>Shelby County School District</td>\n",
       "      <td>Aspire Coleman</td>\n",
       "      <td>TNReady</td>\n",
       "      <td>ELA</td>\n",
       "      <td>ELA</td>\n",
       "      <td>Economically Disadvantaged</td>\n",
       "      <td>222.0</td>\n",
       "      <td>0.095</td>\n",
       "      <td>TN-00985</td>\n",
       "      <td>TN-00985-8050</td>\n",
       "      <td>Elementary</td>\n",
       "      <td>570</td>\n",
       "      <td>27.5</td>\n",
       "      <td>20.73</td>\n",
       "      <td>1-Regular school</td>\n",
       "      <td>0</td>\n",
       "      <td>1</td>\n",
       "      <td>NOTVIRTUAL</td>\n",
       "      <td>1</td>\n",
       "      <td>35.2141</td>\n",
       "      <td>-89.923641</td>\n",
       "      <td>11-City: Large</td>\n",
       "      <td>POINT (-89.92364 35.21410)</td>\n",
       "      <td>21.090</td>\n",
       "      <td>4602.06</td>\n",
       "      <td>6105.0</td>\n",
       "      <td>42</td>\n",
       "    </tr>\n",
       "    <tr>\n",
       "      <th>4</th>\n",
       "      <td>2018</td>\n",
       "      <td>Shelby County School District</td>\n",
       "      <td>Aspire Coleman</td>\n",
       "      <td>TNReady</td>\n",
       "      <td>ELA</td>\n",
       "      <td>ELA</td>\n",
       "      <td>English Learners with Transitional 1-4</td>\n",
       "      <td>11.0</td>\n",
       "      <td>0.182</td>\n",
       "      <td>TN-00985</td>\n",
       "      <td>TN-00985-8050</td>\n",
       "      <td>Elementary</td>\n",
       "      <td>570</td>\n",
       "      <td>27.5</td>\n",
       "      <td>20.73</td>\n",
       "      <td>1-Regular school</td>\n",
       "      <td>0</td>\n",
       "      <td>1</td>\n",
       "      <td>NOTVIRTUAL</td>\n",
       "      <td>1</td>\n",
       "      <td>35.2141</td>\n",
       "      <td>-89.923641</td>\n",
       "      <td>11-City: Large</td>\n",
       "      <td>POINT (-89.92364 35.21410)</td>\n",
       "      <td>2.002</td>\n",
       "      <td>228.03</td>\n",
       "      <td>302.5</td>\n",
       "      <td>42</td>\n",
       "    </tr>\n",
       "  </tbody>\n",
       "</table>\n",
       "</div>"
      ],
      "text/plain": [
       "   year                    system_name     school_name     test subject  \\\n",
       "0  2018  Shelby County School District  Aspire Coleman  TNReady     ELA   \n",
       "1  2018  Shelby County School District  Aspire Coleman  TNReady     ELA   \n",
       "2  2018  Shelby County School District  Aspire Coleman  TNReady     ELA   \n",
       "3  2018  Shelby County School District  Aspire Coleman  TNReady     ELA   \n",
       "4  2018  Shelby County School District  Aspire Coleman  TNReady     ELA   \n",
       "\n",
       "  subject_area                           student_group  valid_tests  \\\n",
       "0          ELA                            All Students        321.0   \n",
       "1          ELA               Black or African American        299.0   \n",
       "2          ELA          Black/Hispanic/Native American        312.0   \n",
       "3          ELA              Economically Disadvantaged        222.0   \n",
       "4          ELA  English Learners with Transitional 1-4         11.0   \n",
       "\n",
       "   pct_met_exceeded    system         school  school_lvl tot_enrolled  \\\n",
       "0             0.112  TN-00985  TN-00985-8050  Elementary          570   \n",
       "1             0.114  TN-00985  TN-00985-8050  Elementary          570   \n",
       "2             0.115  TN-00985  TN-00985-8050  Elementary          570   \n",
       "3             0.095  TN-00985  TN-00985-8050  Elementary          570   \n",
       "4             0.182  TN-00985  TN-00985-8050  Elementary          570   \n",
       "\n",
       "   fte_teachers  stu_tchr_ratio       school_type  magnet  charter  \\\n",
       "0          27.5           20.73  1-Regular school       0        1   \n",
       "1          27.5           20.73  1-Regular school       0        1   \n",
       "2          27.5           20.73  1-Regular school       0        1   \n",
       "3          27.5           20.73  1-Regular school       0        1   \n",
       "4          27.5           20.73  1-Regular school       0        1   \n",
       "\n",
       "      virtual title_1      lat       long          locale  \\\n",
       "0  NOTVIRTUAL       1  35.2141 -89.923641  11-City: Large   \n",
       "1  NOTVIRTUAL       1  35.2141 -89.923641  11-City: Large   \n",
       "2  NOTVIRTUAL       1  35.2141 -89.923641  11-City: Large   \n",
       "3  NOTVIRTUAL       1  35.2141 -89.923641  11-City: Large   \n",
       "4  NOTVIRTUAL       1  35.2141 -89.923641  11-City: Large   \n",
       "\n",
       "                     geometry  pct_met_exceeded_w  stu_tchr_ratio_w  \\\n",
       "0  POINT (-89.92364 35.21410)              35.952           6654.33   \n",
       "1  POINT (-89.92364 35.21410)              34.086           6198.27   \n",
       "2  POINT (-89.92364 35.21410)              35.880           6467.76   \n",
       "3  POINT (-89.92364 35.21410)              21.090           4602.06   \n",
       "4  POINT (-89.92364 35.21410)               2.002            228.03   \n",
       "\n",
       "   fte_teachers_w  index_right  \n",
       "0          8827.5           42  \n",
       "1          8222.5           42  \n",
       "2          8580.0           42  \n",
       "3          6105.0           42  \n",
       "4           302.5           42  "
      ]
     },
     "execution_count": 13,
     "metadata": {},
     "output_type": "execute_result"
    }
   ],
   "source": [
    "assessments.head()"
   ]
  },
  {
   "cell_type": "markdown",
   "metadata": {},
   "source": [
    "#### 🏫 List of columns in assessments (school level) for use in district analysis."
   ]
  },
  {
   "cell_type": "code",
   "execution_count": 14,
   "metadata": {},
   "outputs": [],
   "source": [
    "# Let's figure how how I can pivot this    \n",
    "districts = assessments[['locale',\n",
    "                         'year',\n",
    "                         'system_name', \n",
    "                         'school_lvl', \n",
    "                         'subject_area', \n",
    "                         'student_group', \n",
    "                         'pct_met_exceeded_w', \n",
    "                         'school_type',\n",
    "                         'magnet',\n",
    "                         'charter',\n",
    "                         'title_1',\n",
    "                         'fte_teachers_w',\n",
    "                         'stu_tchr_ratio_w',\n",
    "                         'valid_tests']]"
   ]
  },
  {
   "cell_type": "code",
   "execution_count": 15,
   "metadata": {},
   "outputs": [
    {
     "data": {
      "text/plain": [
       "array(['Shelby County School District',\n",
       "       'Metropolitan Nashville Public School District',\n",
       "       'Alamo City School District',\n",
       "       'Crockett County School District in Alamo',\n",
       "       'Alcoa City School District', 'Fentress County School District',\n",
       "       'Anderson County School District', 'Clinton City School District',\n",
       "       'Anderson County School District in Clinton',\n",
       "       'Arlington Community School District',\n",
       "       'McMinn County School District in Athens', 'Athens City Schools',\n",
       "       'Bartlett City School District', 'Bedford County School District',\n",
       "       'Bells City School District', 'Benton County School District',\n",
       "       'Bledsoe County School District', 'Blount County School District',\n",
       "       'Bradford Special School District',\n",
       "       'Bradley County School District', 'Cleveland City School District',\n",
       "       'Bristol City School District', 'Campbell County School District',\n",
       "       'Cannon County School District', 'Carter County School District',\n",
       "       'Elizabethton City School District',\n",
       "       'Cheatham County School District',\n",
       "       'Chester County School District',\n",
       "       'Claiborne County School District', 'Clay County School District',\n",
       "       'Cocke County School District', 'Newport City School District',\n",
       "       'Cocke County School District in Newport',\n",
       "       'Coffee County School District in Manchester',\n",
       "       'Manchester City School District', 'Coffee County School District',\n",
       "       'Collierville School District', 'Crockett County School District',\n",
       "       'Cumberland County School District',\n",
       "       'Dayton City Elementary School District',\n",
       "       'DeKalb County School District', 'Decatur County School District',\n",
       "       'Dickson County School District', 'Dyer County School District',\n",
       "       'Dyersburg City School District', 'Etowah City School District',\n",
       "       'Fayette County School District',\n",
       "       'Fayetteville City School District',\n",
       "       'Franklin County School District',\n",
       "       'Franklin Special School District',\n",
       "       'Williamson County School District in Franklin',\n",
       "       'Germantown Municipal School District',\n",
       "       'Gibson County School District', 'Trenton Special School District',\n",
       "       'Giles County School District', 'Grainger County School District',\n",
       "       'Greene County School District',\n",
       "       'Greeneville City School District',\n",
       "       'Grundy County School District', 'Hamblen County School District',\n",
       "       'Hamilton County School District',\n",
       "       'Hancock County School District',\n",
       "       'Hardeman County School District', 'Hardin County School District',\n",
       "       'Hawkins County School District', 'Rogersville City Schools',\n",
       "       'Hawkins County School District in Rogersville',\n",
       "       'Haywood County School District',\n",
       "       'Henderson County School District', 'Lexington City School System',\n",
       "       'Henderson County School District in Lexington',\n",
       "       'Henry County School District',\n",
       "       'Henry County School District in Paris',\n",
       "       'Paris Special School District', 'Hickman County School District',\n",
       "       'Hollow Rock-Bruceton Special School District',\n",
       "       'Houston County School District', 'Humboldt City School District',\n",
       "       'Humphreys County School District',\n",
       "       'Huntingdon Special School District',\n",
       "       'Jackson County School District',\n",
       "       'Jefferson County School District', 'Johnson City School District',\n",
       "       'Johnson County School District', 'Kingsport City School District',\n",
       "       'Knox County School District', 'Lake County School District',\n",
       "       'Lakeland School System District',\n",
       "       'Lauderdale County School District',\n",
       "       'Lawrence County School District',\n",
       "       'Lebanon Special School District',\n",
       "       'Wilson County School District in Lebanon',\n",
       "       'Lenoir City School District', 'Lewis County School District',\n",
       "       'Lincoln County School District', 'Loudon County School District',\n",
       "       'Macon County School District',\n",
       "       'Jackson-Madison County School System',\n",
       "       'Marion County School District', 'Marshall County School District',\n",
       "       'Maryville City School District', 'Maury County School District',\n",
       "       'McKenzie Special School District',\n",
       "       'McMinn County School District', 'McNairy County School District',\n",
       "       'Meigs County School District', 'Milan Special School District',\n",
       "       'Millington Municipal School District',\n",
       "       'Monroe County School District',\n",
       "       'Monroe County School District in Sweetwater',\n",
       "       'Sweetwater City School District',\n",
       "       'Clarksville-Montgomery County School System',\n",
       "       'Moore County School District', 'Morgan County School District',\n",
       "       'Rutherford County School District in Murfreesboro',\n",
       "       'Murfreesboro City School District',\n",
       "       'Oak Ridge City School District', 'Obion County School District',\n",
       "       'Oneida Special School District', 'Overton County School District',\n",
       "       'Perry County School District', 'Pickett County School District',\n",
       "       'Polk County School District', 'Putnam County School District',\n",
       "       'Richard City Special School District',\n",
       "       'Roane County School District', 'Robertson County School District',\n",
       "       'Rutherford County School District',\n",
       "       'Scott County School District',\n",
       "       'Sequatchie County School District',\n",
       "       'Sevier County School District', 'Smith County School District',\n",
       "       'South Carroll Special School District',\n",
       "       'Stewart County School District',\n",
       "       'Sullivan County School District', 'Sumner County School District',\n",
       "       'Tipton County School District',\n",
       "       'Trousdale County School District',\n",
       "       'Tullahoma City School District', 'Unicoi County School District',\n",
       "       'Union City School District', 'Union County School District',\n",
       "       'Van Buren County School District',\n",
       "       'Warren County School District',\n",
       "       'Washington County School District',\n",
       "       'Wayne County School District', 'Weakley County School District',\n",
       "       'West Carroll Special District', 'White County School District',\n",
       "       'Williamson County School District',\n",
       "       'Wilson County School District'], dtype=object)"
      ]
     },
     "execution_count": 15,
     "metadata": {},
     "output_type": "execute_result"
    }
   ],
   "source": [
    "unique_system_names = districts['system_name'].unique()\n",
    "unique_system_names"
   ]
  },
  {
   "cell_type": "markdown",
   "metadata": {},
   "source": [
    "### 🏋️ Weighting Metrics Based on Valid Tests"
   ]
  },
  {
   "cell_type": "markdown",
   "metadata": {},
   "source": [
    "#### 📇 Indices for Weight Pivots"
   ]
  },
  {
   "cell_type": "code",
   "execution_count": 16,
   "metadata": {},
   "outputs": [],
   "source": [
    "# Indices for pivots\n",
    "indices = ['system_name',  # School District \n",
    "           'school_lvl', # Level of school (Elem, Middle, High)\n",
    "           'school_type', # Regular, alternative, special education\n",
    "           'magnet', # Is magnet?\n",
    "           'charter', # Is charter?\n",
    "           'title_1', # Is title 1?\n",
    "           'locale', # Location category of school (rural, large city, etc)\n",
    "           'subject_area', # Overall content area of \n",
    "           'student_group'] # Aggregate student groups (all students, students with disabilities, etc)"
   ]
  },
  {
   "attachments": {},
   "cell_type": "markdown",
   "metadata": {},
   "source": [
    "#### 🏋️➕ Sum of Valid-Test-Weighted Scores for pct_met_exceeded, fte_teachers, and student_tchr_ratio "
   ]
  },
  {
   "cell_type": "code",
   "execution_count": 17,
   "metadata": {},
   "outputs": [],
   "source": [
    "# Sum of valid test scores (The 🏋️)\n",
    "weight = pd.pivot_table(\n",
    "    districts,\n",
    "    values='valid_tests',  # Column to calculate the sum of valid test scores\n",
    "    index=indices,\n",
    "    columns='year',\n",
    "    aggfunc=np.sum\n",
    ")\n",
    "\n",
    "# Sum of weighted scores pivot for 'pct_met_exceeded'\n",
    "sum_weighted_proficiency = pd.pivot_table(\n",
    "    districts,\n",
    "    values='pct_met_exceeded_w', # Weighted sum of students who met or exceeded expectations\n",
    "    index=indices,\n",
    "    columns='year',\n",
    "    aggfunc=np.sum\n",
    ")\n",
    "\n",
    "# Sum of weighted scores pivot for 'fte_teachers'\n",
    "sum_weighted_fte = pd.pivot_table(\n",
    "    districts,\n",
    "    values='fte_teachers_w', # Weighted sum of full-time equivalent teachers\n",
    "    index=indices,\n",
    "    columns='year',\n",
    "    aggfunc=np.sum\n",
    ")\n",
    "\n",
    "# Sum of weighted scores pivot for 'stu_tchr_ratio'\n",
    "sum_weighted_str = pd.pivot_table(\n",
    "    districts,\n",
    "    values='stu_tchr_ratio_w', # Weighted sum of student/teacher ratios\n",
    "    index=indices,\n",
    "    columns='year',\n",
    "    aggfunc=np.sum\n",
    ")\n",
    "\n",
    "# Create a multi-level column index\n",
    "column_index = pd.MultiIndex.from_product([['pct_met_exceeded', 'fte_teachers', 'stu_tchr_ratio'], sum_weighted_proficiency.columns])\n",
    "\n",
    "# Concatenate the pivot tables horizontally\n",
    "weighted_sums_pivot = pd.concat([sum_weighted_proficiency, sum_weighted_fte, sum_weighted_str], axis=1)\n",
    "weighted_sums_pivot.columns = column_index"
   ]
  },
  {
   "cell_type": "markdown",
   "metadata": {},
   "source": [
    "#### 🏋️⚖️ Weighted Averages for pct_met_exceeded_w, fte_teachers_w, stu_tchr_ratio_w"
   ]
  },
  {
   "cell_type": "code",
   "execution_count": 18,
   "metadata": {},
   "outputs": [
    {
     "data": {
      "text/html": [
       "<div>\n",
       "<style scoped>\n",
       "    .dataframe tbody tr th:only-of-type {\n",
       "        vertical-align: middle;\n",
       "    }\n",
       "\n",
       "    .dataframe tbody tr th {\n",
       "        vertical-align: top;\n",
       "    }\n",
       "\n",
       "    .dataframe thead tr th {\n",
       "        text-align: left;\n",
       "    }\n",
       "\n",
       "    .dataframe thead tr:last-of-type th {\n",
       "        text-align: right;\n",
       "    }\n",
       "</style>\n",
       "<table border=\"1\" class=\"dataframe\">\n",
       "  <thead>\n",
       "    <tr>\n",
       "      <th></th>\n",
       "      <th></th>\n",
       "      <th></th>\n",
       "      <th></th>\n",
       "      <th></th>\n",
       "      <th></th>\n",
       "      <th></th>\n",
       "      <th></th>\n",
       "      <th></th>\n",
       "      <th colspan=\"4\" halign=\"left\">pct_met_exceeded</th>\n",
       "      <th colspan=\"4\" halign=\"left\">fte_teachers</th>\n",
       "      <th colspan=\"4\" halign=\"left\">stu_tchr_ratio</th>\n",
       "    </tr>\n",
       "    <tr>\n",
       "      <th></th>\n",
       "      <th></th>\n",
       "      <th></th>\n",
       "      <th></th>\n",
       "      <th></th>\n",
       "      <th></th>\n",
       "      <th></th>\n",
       "      <th></th>\n",
       "      <th>year</th>\n",
       "      <th>2018</th>\n",
       "      <th>2019</th>\n",
       "      <th>2021</th>\n",
       "      <th>2022</th>\n",
       "      <th>2018</th>\n",
       "      <th>2019</th>\n",
       "      <th>2021</th>\n",
       "      <th>2022</th>\n",
       "      <th>2018</th>\n",
       "      <th>2019</th>\n",
       "      <th>2021</th>\n",
       "      <th>2022</th>\n",
       "    </tr>\n",
       "    <tr>\n",
       "      <th>system_name</th>\n",
       "      <th>school_lvl</th>\n",
       "      <th>school_type</th>\n",
       "      <th>magnet</th>\n",
       "      <th>charter</th>\n",
       "      <th>title_1</th>\n",
       "      <th>locale</th>\n",
       "      <th>subject_area</th>\n",
       "      <th>student_group</th>\n",
       "      <th></th>\n",
       "      <th></th>\n",
       "      <th></th>\n",
       "      <th></th>\n",
       "      <th></th>\n",
       "      <th></th>\n",
       "      <th></th>\n",
       "      <th></th>\n",
       "      <th></th>\n",
       "      <th></th>\n",
       "      <th></th>\n",
       "      <th></th>\n",
       "    </tr>\n",
       "  </thead>\n",
       "  <tbody>\n",
       "    <tr>\n",
       "      <th rowspan=\"5\" valign=\"top\">Alamo City School District</th>\n",
       "      <th rowspan=\"5\" valign=\"top\">Elementary</th>\n",
       "      <th rowspan=\"5\" valign=\"top\">1-Regular school</th>\n",
       "      <th rowspan=\"5\" valign=\"top\">0</th>\n",
       "      <th rowspan=\"5\" valign=\"top\">0</th>\n",
       "      <th rowspan=\"5\" valign=\"top\">1</th>\n",
       "      <th rowspan=\"5\" valign=\"top\">32-Town: Distant</th>\n",
       "      <th rowspan=\"5\" valign=\"top\">ELA</th>\n",
       "      <th>All Students</th>\n",
       "      <td>0.455</td>\n",
       "      <td>0.465</td>\n",
       "      <td>0.458</td>\n",
       "      <td>0.570</td>\n",
       "      <td>40.0</td>\n",
       "      <td>41.0</td>\n",
       "      <td>41.00</td>\n",
       "      <td>37.00</td>\n",
       "      <td>15.28</td>\n",
       "      <td>15.66</td>\n",
       "      <td>14.49</td>\n",
       "      <td>16.38</td>\n",
       "    </tr>\n",
       "    <tr>\n",
       "      <th>Black or African American</th>\n",
       "      <td>0.314</td>\n",
       "      <td>0.283</td>\n",
       "      <td>0.200</td>\n",
       "      <td>0.400</td>\n",
       "      <td>40.0</td>\n",
       "      <td>41.0</td>\n",
       "      <td>41.00</td>\n",
       "      <td>37.00</td>\n",
       "      <td>15.28</td>\n",
       "      <td>15.66</td>\n",
       "      <td>14.49</td>\n",
       "      <td>16.38</td>\n",
       "    </tr>\n",
       "    <tr>\n",
       "      <th>Black/Hispanic/Native American</th>\n",
       "      <td>0.312</td>\n",
       "      <td>0.274</td>\n",
       "      <td>0.215</td>\n",
       "      <td>0.426</td>\n",
       "      <td>40.0</td>\n",
       "      <td>41.0</td>\n",
       "      <td>41.00</td>\n",
       "      <td>37.00</td>\n",
       "      <td>15.28</td>\n",
       "      <td>15.66</td>\n",
       "      <td>14.49</td>\n",
       "      <td>16.38</td>\n",
       "    </tr>\n",
       "    <tr>\n",
       "      <th>Economically Disadvantaged</th>\n",
       "      <td>0.352</td>\n",
       "      <td>0.310</td>\n",
       "      <td>0.307</td>\n",
       "      <td>0.392</td>\n",
       "      <td>40.0</td>\n",
       "      <td>41.0</td>\n",
       "      <td>41.00</td>\n",
       "      <td>37.00</td>\n",
       "      <td>15.28</td>\n",
       "      <td>15.66</td>\n",
       "      <td>14.49</td>\n",
       "      <td>16.38</td>\n",
       "    </tr>\n",
       "    <tr>\n",
       "      <th>English Learner Transitional 1-4</th>\n",
       "      <td>0.355</td>\n",
       "      <td>0.333</td>\n",
       "      <td>0.111</td>\n",
       "      <td>0.357</td>\n",
       "      <td>40.0</td>\n",
       "      <td>41.0</td>\n",
       "      <td>41.00</td>\n",
       "      <td>37.00</td>\n",
       "      <td>15.28</td>\n",
       "      <td>15.66</td>\n",
       "      <td>14.49</td>\n",
       "      <td>16.38</td>\n",
       "    </tr>\n",
       "    <tr>\n",
       "      <th>...</th>\n",
       "      <th>...</th>\n",
       "      <th>...</th>\n",
       "      <th>...</th>\n",
       "      <th>...</th>\n",
       "      <th>...</th>\n",
       "      <th>...</th>\n",
       "      <th>...</th>\n",
       "      <th>...</th>\n",
       "      <td>...</td>\n",
       "      <td>...</td>\n",
       "      <td>...</td>\n",
       "      <td>...</td>\n",
       "      <td>...</td>\n",
       "      <td>...</td>\n",
       "      <td>...</td>\n",
       "      <td>...</td>\n",
       "      <td>...</td>\n",
       "      <td>...</td>\n",
       "      <td>...</td>\n",
       "      <td>...</td>\n",
       "    </tr>\n",
       "    <tr>\n",
       "      <th rowspan=\"5\" valign=\"top\">Wilson County School District in Lebanon</th>\n",
       "      <th rowspan=\"5\" valign=\"top\">High</th>\n",
       "      <th rowspan=\"5\" valign=\"top\">1-Regular school</th>\n",
       "      <th rowspan=\"5\" valign=\"top\">0</th>\n",
       "      <th rowspan=\"5\" valign=\"top\">0</th>\n",
       "      <th rowspan=\"5\" valign=\"top\">1</th>\n",
       "      <th rowspan=\"5\" valign=\"top\">31-Town: Fringe</th>\n",
       "      <th rowspan=\"5\" valign=\"top\">Science</th>\n",
       "      <th>Non-English Learners/Transitional 1-4</th>\n",
       "      <td>NaN</td>\n",
       "      <td>NaN</td>\n",
       "      <td>0.431</td>\n",
       "      <td>0.471</td>\n",
       "      <td>NaN</td>\n",
       "      <td>NaN</td>\n",
       "      <td>101.73</td>\n",
       "      <td>94.78</td>\n",
       "      <td>NaN</td>\n",
       "      <td>NaN</td>\n",
       "      <td>15.54</td>\n",
       "      <td>18.66</td>\n",
       "    </tr>\n",
       "    <tr>\n",
       "      <th>Non-Students with Disabilities</th>\n",
       "      <td>NaN</td>\n",
       "      <td>NaN</td>\n",
       "      <td>0.428</td>\n",
       "      <td>0.469</td>\n",
       "      <td>NaN</td>\n",
       "      <td>NaN</td>\n",
       "      <td>101.73</td>\n",
       "      <td>94.78</td>\n",
       "      <td>NaN</td>\n",
       "      <td>NaN</td>\n",
       "      <td>15.54</td>\n",
       "      <td>18.66</td>\n",
       "    </tr>\n",
       "    <tr>\n",
       "      <th>Students with Disabilities</th>\n",
       "      <td>NaN</td>\n",
       "      <td>NaN</td>\n",
       "      <td>0.156</td>\n",
       "      <td>0.235</td>\n",
       "      <td>NaN</td>\n",
       "      <td>NaN</td>\n",
       "      <td>101.73</td>\n",
       "      <td>94.78</td>\n",
       "      <td>NaN</td>\n",
       "      <td>NaN</td>\n",
       "      <td>15.54</td>\n",
       "      <td>18.66</td>\n",
       "    </tr>\n",
       "    <tr>\n",
       "      <th>Super Subgroup</th>\n",
       "      <td>NaN</td>\n",
       "      <td>NaN</td>\n",
       "      <td>0.289</td>\n",
       "      <td>0.317</td>\n",
       "      <td>NaN</td>\n",
       "      <td>NaN</td>\n",
       "      <td>101.73</td>\n",
       "      <td>94.78</td>\n",
       "      <td>NaN</td>\n",
       "      <td>NaN</td>\n",
       "      <td>15.54</td>\n",
       "      <td>18.66</td>\n",
       "    </tr>\n",
       "    <tr>\n",
       "      <th>White</th>\n",
       "      <td>NaN</td>\n",
       "      <td>NaN</td>\n",
       "      <td>0.488</td>\n",
       "      <td>0.520</td>\n",
       "      <td>NaN</td>\n",
       "      <td>NaN</td>\n",
       "      <td>101.73</td>\n",
       "      <td>94.78</td>\n",
       "      <td>NaN</td>\n",
       "      <td>NaN</td>\n",
       "      <td>15.54</td>\n",
       "      <td>18.66</td>\n",
       "    </tr>\n",
       "  </tbody>\n",
       "</table>\n",
       "<p>55834 rows × 12 columns</p>\n",
       "</div>"
      ],
      "text/plain": [
       "                                                                                                                                                                pct_met_exceeded  \\\n",
       "year                                                                                                                                                                        2018   \n",
       "system_name                              school_lvl school_type      magnet charter title_1 locale           subject_area student_group                                            \n",
       "Alamo City School District               Elementary 1-Regular school 0      0       1       32-Town: Distant ELA          All Students                                     0.455   \n",
       "                                                                                                                          Black or African American                        0.314   \n",
       "                                                                                                                          Black/Hispanic/Native American                   0.312   \n",
       "                                                                                                                          Economically Disadvantaged                       0.352   \n",
       "                                                                                                                          English Learner Transitional 1-4                 0.355   \n",
       "...                                                                                                                                                                          ...   \n",
       "Wilson County School District in Lebanon High       1-Regular school 0      0       1       31-Town: Fringe  Science      Non-English Learners/Transitional 1-4              NaN   \n",
       "                                                                                                                          Non-Students with Disabilities                     NaN   \n",
       "                                                                                                                          Students with Disabilities                         NaN   \n",
       "                                                                                                                          Super Subgroup                                     NaN   \n",
       "                                                                                                                          White                                              NaN   \n",
       "\n",
       "                                                                                                                                                                        \\\n",
       "year                                                                                                                                                              2019   \n",
       "system_name                              school_lvl school_type      magnet charter title_1 locale           subject_area student_group                                  \n",
       "Alamo City School District               Elementary 1-Regular school 0      0       1       32-Town: Distant ELA          All Students                           0.465   \n",
       "                                                                                                                          Black or African American              0.283   \n",
       "                                                                                                                          Black/Hispanic/Native American         0.274   \n",
       "                                                                                                                          Economically Disadvantaged             0.310   \n",
       "                                                                                                                          English Learner Transitional 1-4       0.333   \n",
       "...                                                                                                                                                                ...   \n",
       "Wilson County School District in Lebanon High       1-Regular school 0      0       1       31-Town: Fringe  Science      Non-English Learners/Transitional 1-4    NaN   \n",
       "                                                                                                                          Non-Students with Disabilities           NaN   \n",
       "                                                                                                                          Students with Disabilities               NaN   \n",
       "                                                                                                                          Super Subgroup                           NaN   \n",
       "                                                                                                                          White                                    NaN   \n",
       "\n",
       "                                                                                                                                                                        \\\n",
       "year                                                                                                                                                              2021   \n",
       "system_name                              school_lvl school_type      magnet charter title_1 locale           subject_area student_group                                  \n",
       "Alamo City School District               Elementary 1-Regular school 0      0       1       32-Town: Distant ELA          All Students                           0.458   \n",
       "                                                                                                                          Black or African American              0.200   \n",
       "                                                                                                                          Black/Hispanic/Native American         0.215   \n",
       "                                                                                                                          Economically Disadvantaged             0.307   \n",
       "                                                                                                                          English Learner Transitional 1-4       0.111   \n",
       "...                                                                                                                                                                ...   \n",
       "Wilson County School District in Lebanon High       1-Regular school 0      0       1       31-Town: Fringe  Science      Non-English Learners/Transitional 1-4  0.431   \n",
       "                                                                                                                          Non-Students with Disabilities         0.428   \n",
       "                                                                                                                          Students with Disabilities             0.156   \n",
       "                                                                                                                          Super Subgroup                         0.289   \n",
       "                                                                                                                          White                                  0.488   \n",
       "\n",
       "                                                                                                                                                                        \\\n",
       "year                                                                                                                                                              2022   \n",
       "system_name                              school_lvl school_type      magnet charter title_1 locale           subject_area student_group                                  \n",
       "Alamo City School District               Elementary 1-Regular school 0      0       1       32-Town: Distant ELA          All Students                           0.570   \n",
       "                                                                                                                          Black or African American              0.400   \n",
       "                                                                                                                          Black/Hispanic/Native American         0.426   \n",
       "                                                                                                                          Economically Disadvantaged             0.392   \n",
       "                                                                                                                          English Learner Transitional 1-4       0.357   \n",
       "...                                                                                                                                                                ...   \n",
       "Wilson County School District in Lebanon High       1-Regular school 0      0       1       31-Town: Fringe  Science      Non-English Learners/Transitional 1-4  0.471   \n",
       "                                                                                                                          Non-Students with Disabilities         0.469   \n",
       "                                                                                                                          Students with Disabilities             0.235   \n",
       "                                                                                                                          Super Subgroup                         0.317   \n",
       "                                                                                                                          White                                  0.520   \n",
       "\n",
       "                                                                                                                                                                fte_teachers  \\\n",
       "year                                                                                                                                                                    2018   \n",
       "system_name                              school_lvl school_type      magnet charter title_1 locale           subject_area student_group                                        \n",
       "Alamo City School District               Elementary 1-Regular school 0      0       1       32-Town: Distant ELA          All Students                                  40.0   \n",
       "                                                                                                                          Black or African American                     40.0   \n",
       "                                                                                                                          Black/Hispanic/Native American                40.0   \n",
       "                                                                                                                          Economically Disadvantaged                    40.0   \n",
       "                                                                                                                          English Learner Transitional 1-4              40.0   \n",
       "...                                                                                                                                                                      ...   \n",
       "Wilson County School District in Lebanon High       1-Regular school 0      0       1       31-Town: Fringe  Science      Non-English Learners/Transitional 1-4          NaN   \n",
       "                                                                                                                          Non-Students with Disabilities                 NaN   \n",
       "                                                                                                                          Students with Disabilities                     NaN   \n",
       "                                                                                                                          Super Subgroup                                 NaN   \n",
       "                                                                                                                          White                                          NaN   \n",
       "\n",
       "                                                                                                                                                                       \\\n",
       "year                                                                                                                                                             2019   \n",
       "system_name                              school_lvl school_type      magnet charter title_1 locale           subject_area student_group                                 \n",
       "Alamo City School District               Elementary 1-Regular school 0      0       1       32-Town: Distant ELA          All Students                           41.0   \n",
       "                                                                                                                          Black or African American              41.0   \n",
       "                                                                                                                          Black/Hispanic/Native American         41.0   \n",
       "                                                                                                                          Economically Disadvantaged             41.0   \n",
       "                                                                                                                          English Learner Transitional 1-4       41.0   \n",
       "...                                                                                                                                                               ...   \n",
       "Wilson County School District in Lebanon High       1-Regular school 0      0       1       31-Town: Fringe  Science      Non-English Learners/Transitional 1-4   NaN   \n",
       "                                                                                                                          Non-Students with Disabilities          NaN   \n",
       "                                                                                                                          Students with Disabilities              NaN   \n",
       "                                                                                                                          Super Subgroup                          NaN   \n",
       "                                                                                                                          White                                   NaN   \n",
       "\n",
       "                                                                                                                                                                         \\\n",
       "year                                                                                                                                                               2021   \n",
       "system_name                              school_lvl school_type      magnet charter title_1 locale           subject_area student_group                                   \n",
       "Alamo City School District               Elementary 1-Regular school 0      0       1       32-Town: Distant ELA          All Students                            41.00   \n",
       "                                                                                                                          Black or African American               41.00   \n",
       "                                                                                                                          Black/Hispanic/Native American          41.00   \n",
       "                                                                                                                          Economically Disadvantaged              41.00   \n",
       "                                                                                                                          English Learner Transitional 1-4        41.00   \n",
       "...                                                                                                                                                                 ...   \n",
       "Wilson County School District in Lebanon High       1-Regular school 0      0       1       31-Town: Fringe  Science      Non-English Learners/Transitional 1-4  101.73   \n",
       "                                                                                                                          Non-Students with Disabilities         101.73   \n",
       "                                                                                                                          Students with Disabilities             101.73   \n",
       "                                                                                                                          Super Subgroup                         101.73   \n",
       "                                                                                                                          White                                  101.73   \n",
       "\n",
       "                                                                                                                                                                        \\\n",
       "year                                                                                                                                                              2022   \n",
       "system_name                              school_lvl school_type      magnet charter title_1 locale           subject_area student_group                                  \n",
       "Alamo City School District               Elementary 1-Regular school 0      0       1       32-Town: Distant ELA          All Students                           37.00   \n",
       "                                                                                                                          Black or African American              37.00   \n",
       "                                                                                                                          Black/Hispanic/Native American         37.00   \n",
       "                                                                                                                          Economically Disadvantaged             37.00   \n",
       "                                                                                                                          English Learner Transitional 1-4       37.00   \n",
       "...                                                                                                                                                                ...   \n",
       "Wilson County School District in Lebanon High       1-Regular school 0      0       1       31-Town: Fringe  Science      Non-English Learners/Transitional 1-4  94.78   \n",
       "                                                                                                                          Non-Students with Disabilities         94.78   \n",
       "                                                                                                                          Students with Disabilities             94.78   \n",
       "                                                                                                                          Super Subgroup                         94.78   \n",
       "                                                                                                                          White                                  94.78   \n",
       "\n",
       "                                                                                                                                                                stu_tchr_ratio  \\\n",
       "year                                                                                                                                                                      2018   \n",
       "system_name                              school_lvl school_type      magnet charter title_1 locale           subject_area student_group                                          \n",
       "Alamo City School District               Elementary 1-Regular school 0      0       1       32-Town: Distant ELA          All Students                                   15.28   \n",
       "                                                                                                                          Black or African American                      15.28   \n",
       "                                                                                                                          Black/Hispanic/Native American                 15.28   \n",
       "                                                                                                                          Economically Disadvantaged                     15.28   \n",
       "                                                                                                                          English Learner Transitional 1-4               15.28   \n",
       "...                                                                                                                                                                        ...   \n",
       "Wilson County School District in Lebanon High       1-Regular school 0      0       1       31-Town: Fringe  Science      Non-English Learners/Transitional 1-4            NaN   \n",
       "                                                                                                                          Non-Students with Disabilities                   NaN   \n",
       "                                                                                                                          Students with Disabilities                       NaN   \n",
       "                                                                                                                          Super Subgroup                                   NaN   \n",
       "                                                                                                                          White                                            NaN   \n",
       "\n",
       "                                                                                                                                                                        \\\n",
       "year                                                                                                                                                              2019   \n",
       "system_name                              school_lvl school_type      magnet charter title_1 locale           subject_area student_group                                  \n",
       "Alamo City School District               Elementary 1-Regular school 0      0       1       32-Town: Distant ELA          All Students                           15.66   \n",
       "                                                                                                                          Black or African American              15.66   \n",
       "                                                                                                                          Black/Hispanic/Native American         15.66   \n",
       "                                                                                                                          Economically Disadvantaged             15.66   \n",
       "                                                                                                                          English Learner Transitional 1-4       15.66   \n",
       "...                                                                                                                                                                ...   \n",
       "Wilson County School District in Lebanon High       1-Regular school 0      0       1       31-Town: Fringe  Science      Non-English Learners/Transitional 1-4    NaN   \n",
       "                                                                                                                          Non-Students with Disabilities           NaN   \n",
       "                                                                                                                          Students with Disabilities               NaN   \n",
       "                                                                                                                          Super Subgroup                           NaN   \n",
       "                                                                                                                          White                                    NaN   \n",
       "\n",
       "                                                                                                                                                                        \\\n",
       "year                                                                                                                                                              2021   \n",
       "system_name                              school_lvl school_type      magnet charter title_1 locale           subject_area student_group                                  \n",
       "Alamo City School District               Elementary 1-Regular school 0      0       1       32-Town: Distant ELA          All Students                           14.49   \n",
       "                                                                                                                          Black or African American              14.49   \n",
       "                                                                                                                          Black/Hispanic/Native American         14.49   \n",
       "                                                                                                                          Economically Disadvantaged             14.49   \n",
       "                                                                                                                          English Learner Transitional 1-4       14.49   \n",
       "...                                                                                                                                                                ...   \n",
       "Wilson County School District in Lebanon High       1-Regular school 0      0       1       31-Town: Fringe  Science      Non-English Learners/Transitional 1-4  15.54   \n",
       "                                                                                                                          Non-Students with Disabilities         15.54   \n",
       "                                                                                                                          Students with Disabilities             15.54   \n",
       "                                                                                                                          Super Subgroup                         15.54   \n",
       "                                                                                                                          White                                  15.54   \n",
       "\n",
       "                                                                                                                                                                        \n",
       "year                                                                                                                                                              2022  \n",
       "system_name                              school_lvl school_type      magnet charter title_1 locale           subject_area student_group                                 \n",
       "Alamo City School District               Elementary 1-Regular school 0      0       1       32-Town: Distant ELA          All Students                           16.38  \n",
       "                                                                                                                          Black or African American              16.38  \n",
       "                                                                                                                          Black/Hispanic/Native American         16.38  \n",
       "                                                                                                                          Economically Disadvantaged             16.38  \n",
       "                                                                                                                          English Learner Transitional 1-4       16.38  \n",
       "...                                                                                                                                                                ...  \n",
       "Wilson County School District in Lebanon High       1-Regular school 0      0       1       31-Town: Fringe  Science      Non-English Learners/Transitional 1-4  18.66  \n",
       "                                                                                                                          Non-Students with Disabilities         18.66  \n",
       "                                                                                                                          Students with Disabilities             18.66  \n",
       "                                                                                                                          Super Subgroup                         18.66  \n",
       "                                                                                                                          White                                  18.66  \n",
       "\n",
       "[55834 rows x 12 columns]"
      ]
     },
     "execution_count": 18,
     "metadata": {},
     "output_type": "execute_result"
    }
   ],
   "source": [
    "# Divide sum_weighted_proficiency by weight\n",
    "weighted_avg_proficiency = sum_weighted_proficiency / weight\n",
    "\n",
    "# Divide sum_weighted_fte by weight\n",
    "weighted_avg_fte = sum_weighted_fte / weight\n",
    "\n",
    "# Divide sum_weighted_str by weight\n",
    "weighted_avg_str = sum_weighted_str / weight\n",
    "\n",
    "# Create a multi-level column index for the weighted average pivots\n",
    "column_index = pd.MultiIndex.from_product([['pct_met_exceeded', 'fte_teachers', 'stu_tchr_ratio'], weighted_avg_proficiency.columns])\n",
    "\n",
    "# Concatenate the weighted average pivots horizontally\n",
    "weighted_avg_pivot = pd.concat([weighted_avg_proficiency, weighted_avg_fte, weighted_avg_str], axis=1)\n",
    "weighted_avg_pivot.columns = column_index\n",
    "\n",
    "weighted_avg_pivot"
   ]
  },
  {
   "attachments": {},
   "cell_type": "markdown",
   "metadata": {},
   "source": [
    "### 🤺 Slicing and Lagging\n",
    "> \"... the heavy-sword splendid.  The hard-edgèd weapon;  with Hrunting to aid me, I shall gain me glory .. \"\n",
    "    >> *-Beowulf*"
   ]
  },
  {
   "attachments": {},
   "cell_type": "markdown",
   "metadata": {},
   "source": [
    "#### 🪟 Setting Variables for lag window slicing\n",
    "> 🗒️ **lvpp lags** → The lags for **Science** related metrics require some special treatment. The last valid prepandemic measurement for **ELA**, **Math**, and **Social Studies** was in **2019**.   **Science**, however, was not assessed in **2019**, but was in **2018**.  I cannnot directly compare lag windows for all subjects that start in **2019**.  In order to include metrics related to **Science** for fair comparisons, its window must start at **2018**.  Therefore, **lvpp** variables will be used as treatment for window the **last valid prepandemic measure** for each content area (e.g. 2018 or 2019 respectively).\n",
    "\n",
    "> 🗂️ lvpp → last valid pre-pandemic assessment to 2021 (first full school year after 2020 school closure)\n",
    "\n",
    "> 🗂️ intra → difference between first and second years school were reopend post-pandemic (2021 - 2022)\n",
    "\n",
    "> 🗂️ pre_post → difference between last valid pre-pandemic scores and last year in the dataset (lvpp to 2022)"
   ]
  },
  {
   "cell_type": "code",
   "execution_count": 19,
   "metadata": {},
   "outputs": [],
   "source": [
    "# Set the stop year for all metrics\n",
    "lvpp_stop = 2021\n",
    "\n",
    "# Set the start year for Math, ELA, and Social Studies related metrics\n",
    "lvpp_start_mess = 2019\n",
    "\n",
    "# Set the start year for Science-related metrics\n",
    "lvpp_start_science = 2018\n",
    "\n",
    "# Set the start and stop year for the \"intra\" lag\n",
    "intra_start = 2021\n",
    "intra_stop = 2022\n",
    "\n",
    "# Science Slicer\n",
    "science_slice = (slice(None), slice(None), slice(None), slice(None), slice(None), slice(None), slice(None), 'Science')\n",
    "\n",
    "# Non-Science slicer\n",
    "subjects_slice = (slice(None), slice(None), slice(None), slice(None), slice(None), slice(None), slice(None))"
   ]
  },
  {
   "attachments": {},
   "cell_type": "markdown",
   "metadata": {},
   "source": [
    "#### 📝 Assessment Proficiency Lags\n",
    "\n",
    "> 🗂️ pct_met_exceeded → Changes in weighted average full-time students who displayed **at-least minimum expected proficiency** over time."
   ]
  },
  {
   "cell_type": "code",
   "execution_count": 20,
   "metadata": {},
   "outputs": [],
   "source": [
    "# Calculate separate lag scores for Science-related metrics.\n",
    "\n",
    "# Last Valid Pre-Pandemic met_exceded measurement (lvpp)\n",
    "weighted_avg_pivot.loc[science_slice, ('pct_met_exceeded', 'lvpp')] = (\n",
    "    weighted_avg_pivot.loc[science_slice, ('pct_met_exceeded', lvpp_stop)] -\n",
    "    weighted_avg_pivot.loc[science_slice, ('pct_met_exceeded', lvpp_start_science)]\n",
    ")\n",
    "\n",
    "# Calculate the lvpp scores for Math, ELA, and Social Studies related metrics\n",
    "weighted_avg_pivot.loc[\n",
    "    subjects_slice + (['Math', 'ELA', 'Social Studies'],),\n",
    "    ('pct_met_exceeded', 'lvpp')\n",
    "] = (\n",
    "    weighted_avg_pivot.loc[\n",
    "        subjects_slice + (['Math', 'ELA', 'Social Studies'],),\n",
    "        ('pct_met_exceeded', lvpp_stop)\n",
    "    ] - weighted_avg_pivot.loc[\n",
    "        subjects_slice + (['Math', 'ELA', 'Social Studies'],),\n",
    "        ('pct_met_exceeded', lvpp_start_mess)\n",
    "    ]\n",
    ")\n",
    "\n",
    "# Calculate the intra lag score for 'pct_met_exceeded'\n",
    "weighted_avg_pivot.loc[subjects_slice, ('pct_met_exceeded', 'intra')] = (\n",
    "    weighted_avg_pivot.loc[subjects_slice, ('pct_met_exceeded', intra_stop)] -\n",
    "    weighted_avg_pivot.loc[subjects_slice, ('pct_met_exceeded', intra_start)]\n",
    ")\n",
    "\n",
    "# Calculate the 'pre-post' assessment lag scores\n",
    "weighted_avg_pivot[('pct_met_exceeded', 'pre-post')] = (\n",
    "    weighted_avg_pivot[('pct_met_exceeded', 2022)] -\n",
    "    weighted_avg_pivot[('pct_met_exceeded', 'lvpp')]\n",
    ")"
   ]
  },
  {
   "attachments": {},
   "cell_type": "markdown",
   "metadata": {},
   "source": [
    "#### 🧑‍🏫 Full Time Equivalent Teachers Lag\n",
    "\n",
    "> 🗂️ fte_teachers → Changes in weighted-average of **full-time-equivalent teachers** over time."
   ]
  },
  {
   "cell_type": "code",
   "execution_count": 21,
   "metadata": {},
   "outputs": [],
   "source": [
    "# Last Valid Pre-Pandemic science-related full-time equivalent teachers measurement (lvpp)\n",
    "weighted_avg_pivot.loc[science_slice, ('fte_teachers', 'lvpp')] = (\n",
    "    weighted_avg_pivot.loc[science_slice, ('fte_teachers', lvpp_stop)] -\n",
    "    weighted_avg_pivot.loc[science_slice, ('fte_teachers', lvpp_start_science)]\n",
    ")\n",
    "\n",
    "# Last Valid Pre-Pandemic full-time equivalent teacher measurement (lvpp)\n",
    "weighted_avg_pivot.loc[\n",
    "    subjects_slice + (['Math', 'ELA', 'Social Studies'],),\n",
    "    ('fte_teachers', 'lvpp')\n",
    "] = (\n",
    "    weighted_avg_pivot.loc[\n",
    "        subjects_slice + (['Math', 'ELA', 'Social Studies'],),\n",
    "        ('fte_teachers', lvpp_stop)\n",
    "    ] - weighted_avg_pivot.loc[\n",
    "        subjects_slice + (['Math', 'ELA', 'Social Studies'],),\n",
    "        ('fte_teachers', lvpp_start_mess)\n",
    "    ]\n",
    ")\n",
    "\n",
    "# Calculate the intra lag score for 'fte_teachers'\n",
    "weighted_avg_pivot.loc[subjects_slice, ('fte_teachers', 'intra')] = (\n",
    "    weighted_avg_pivot.loc[subjects_slice, ('fte_teachers', intra_stop)] -\n",
    "    weighted_avg_pivot.loc[subjects_slice, ('fte_teachers', intra_start)]\n",
    ")\n",
    "\n",
    "# Calculate the 'pre-post' assessment lag scores for full-time equivalent teachers\n",
    "weighted_avg_pivot[('fte_teachers', 'pre-post')] = (\n",
    "    weighted_avg_pivot[('fte_teachers', 2022)] -\n",
    "    weighted_avg_pivot[('fte_teachers', 'lvpp')]\n",
    ")"
   ]
  },
  {
   "attachments": {},
   "cell_type": "markdown",
   "metadata": {},
   "source": [
    "#### 🧑‍🎓/🧑‍🏫 Student Teacher Ratio Lag\n",
    "\n",
    "> 🗂️ stu_tchr_ratio → Changes in weighted-average **student-to-teacher ratio** over time."
   ]
  },
  {
   "cell_type": "code",
   "execution_count": 22,
   "metadata": {},
   "outputs": [],
   "source": [
    "# Last Valid Pre-Pandemic science-related student/teacher ratio measurement (lvpp)\n",
    "weighted_avg_pivot.loc[science_slice, ('stu_tchr_ratio', 'lvpp')] = (\n",
    "    weighted_avg_pivot.loc[science_slice, ('stu_tchr_ratio', lvpp_stop)] -\n",
    "    weighted_avg_pivot.loc[science_slice, ('stu_tchr_ratio', lvpp_start_science)]\n",
    ")\n",
    "\n",
    "# Last Valid Pre-Pandemic non science-related student/teacher ratio measurement (lvpp)\n",
    "weighted_avg_pivot.loc[\n",
    "    subjects_slice + (['Math', 'ELA', 'Social Studies'],),\n",
    "    ('stu_tchr_ratio', 'lvpp')\n",
    "] = (\n",
    "    weighted_avg_pivot.loc[\n",
    "        subjects_slice + (['Math', 'ELA', 'Social Studies'],),\n",
    "        ('stu_tchr_ratio', lvpp_stop)\n",
    "    ] - weighted_avg_pivot.loc[\n",
    "        subjects_slice + (['Math', 'ELA', 'Social Studies'],),\n",
    "        ('stu_tchr_ratio', lvpp_start_mess)\n",
    "    ]\n",
    ")\n",
    "\n",
    "# Calculate the intra lag score for 'stu_tchr_ratio'\n",
    "weighted_avg_pivot.loc[subjects_slice, ('stu_tchr_ratio', 'intra')] = (\n",
    "    weighted_avg_pivot.loc[subjects_slice, ('stu_tchr_ratio', intra_stop)] -\n",
    "    weighted_avg_pivot.loc[subjects_slice, ('stu_tchr_ratio', intra_start)]\n",
    ")\n",
    "\n",
    "# Calculate the 'pre-post' assessment lag scores for student/teacher ratios\n",
    "weighted_avg_pivot[('stu_tchr_ratio', 'pre-post')] = (\n",
    "    weighted_avg_pivot[('stu_tchr_ratio', 2022)] -\n",
    "    weighted_avg_pivot[('stu_tchr_ratio', 'lvpp')]\n",
    ")\n"
   ]
  },
  {
   "attachments": {},
   "cell_type": "markdown",
   "metadata": {},
   "source": [
    "### 🔨 \"Un-Pivoting\"  Weighted Average Pivot to Prepare for Geometry \n",
    "🗂️ weighted_avg_pivot → weighted_average_metrics"
   ]
  },
  {
   "cell_type": "code",
   "execution_count": 23,
   "metadata": {},
   "outputs": [
    {
     "data": {
      "text/html": [
       "<div>\n",
       "<style scoped>\n",
       "    .dataframe tbody tr th:only-of-type {\n",
       "        vertical-align: middle;\n",
       "    }\n",
       "\n",
       "    .dataframe tbody tr th {\n",
       "        vertical-align: top;\n",
       "    }\n",
       "\n",
       "    .dataframe thead th {\n",
       "        text-align: right;\n",
       "    }\n",
       "</style>\n",
       "<table border=\"1\" class=\"dataframe\">\n",
       "  <thead>\n",
       "    <tr style=\"text-align: right;\">\n",
       "      <th></th>\n",
       "      <th>system_name</th>\n",
       "      <th>school_lvl</th>\n",
       "      <th>school_type</th>\n",
       "      <th>magnet</th>\n",
       "      <th>charter</th>\n",
       "      <th>title_1</th>\n",
       "      <th>locale</th>\n",
       "      <th>subject_area</th>\n",
       "      <th>student_group</th>\n",
       "      <th>pct_met_exceeded_2018</th>\n",
       "      <th>pct_met_exceeded_2019</th>\n",
       "      <th>pct_met_exceeded_2021</th>\n",
       "      <th>pct_met_exceeded_2022</th>\n",
       "      <th>fte_teachers_2018</th>\n",
       "      <th>fte_teachers_2019</th>\n",
       "      <th>fte_teachers_2021</th>\n",
       "      <th>fte_teachers_2022</th>\n",
       "      <th>stu_tchr_ratio_2018</th>\n",
       "      <th>stu_tchr_ratio_2019</th>\n",
       "      <th>stu_tchr_ratio_2021</th>\n",
       "      <th>stu_tchr_ratio_2022</th>\n",
       "      <th>pct_met_exceeded_lvpp</th>\n",
       "      <th>pct_met_exceeded_intra</th>\n",
       "      <th>pct_met_exceeded_pre-post</th>\n",
       "      <th>fte_teachers_lvpp</th>\n",
       "      <th>fte_teachers_intra</th>\n",
       "      <th>fte_teachers_pre-post</th>\n",
       "      <th>stu_tchr_ratio_lvpp</th>\n",
       "      <th>stu_tchr_ratio_intra</th>\n",
       "      <th>stu_tchr_ratio_pre-post</th>\n",
       "    </tr>\n",
       "  </thead>\n",
       "  <tbody>\n",
       "    <tr>\n",
       "      <th>0</th>\n",
       "      <td>Alamo City School District</td>\n",
       "      <td>Elementary</td>\n",
       "      <td>1-Regular school</td>\n",
       "      <td>0</td>\n",
       "      <td>0</td>\n",
       "      <td>1</td>\n",
       "      <td>32-Town: Distant</td>\n",
       "      <td>ELA</td>\n",
       "      <td>All Students</td>\n",
       "      <td>0.455</td>\n",
       "      <td>0.465</td>\n",
       "      <td>0.458</td>\n",
       "      <td>0.570</td>\n",
       "      <td>40.0</td>\n",
       "      <td>41.0</td>\n",
       "      <td>41.0</td>\n",
       "      <td>37.0</td>\n",
       "      <td>15.28</td>\n",
       "      <td>15.66</td>\n",
       "      <td>14.49</td>\n",
       "      <td>16.38</td>\n",
       "      <td>-0.007</td>\n",
       "      <td>0.112</td>\n",
       "      <td>0.577</td>\n",
       "      <td>0.0</td>\n",
       "      <td>-4.0</td>\n",
       "      <td>37.0</td>\n",
       "      <td>-1.17</td>\n",
       "      <td>1.89</td>\n",
       "      <td>17.55</td>\n",
       "    </tr>\n",
       "    <tr>\n",
       "      <th>1</th>\n",
       "      <td>Alamo City School District</td>\n",
       "      <td>Elementary</td>\n",
       "      <td>1-Regular school</td>\n",
       "      <td>0</td>\n",
       "      <td>0</td>\n",
       "      <td>1</td>\n",
       "      <td>32-Town: Distant</td>\n",
       "      <td>ELA</td>\n",
       "      <td>Black or African American</td>\n",
       "      <td>0.314</td>\n",
       "      <td>0.283</td>\n",
       "      <td>0.200</td>\n",
       "      <td>0.400</td>\n",
       "      <td>40.0</td>\n",
       "      <td>41.0</td>\n",
       "      <td>41.0</td>\n",
       "      <td>37.0</td>\n",
       "      <td>15.28</td>\n",
       "      <td>15.66</td>\n",
       "      <td>14.49</td>\n",
       "      <td>16.38</td>\n",
       "      <td>-0.083</td>\n",
       "      <td>0.200</td>\n",
       "      <td>0.483</td>\n",
       "      <td>0.0</td>\n",
       "      <td>-4.0</td>\n",
       "      <td>37.0</td>\n",
       "      <td>-1.17</td>\n",
       "      <td>1.89</td>\n",
       "      <td>17.55</td>\n",
       "    </tr>\n",
       "    <tr>\n",
       "      <th>2</th>\n",
       "      <td>Alamo City School District</td>\n",
       "      <td>Elementary</td>\n",
       "      <td>1-Regular school</td>\n",
       "      <td>0</td>\n",
       "      <td>0</td>\n",
       "      <td>1</td>\n",
       "      <td>32-Town: Distant</td>\n",
       "      <td>ELA</td>\n",
       "      <td>Black/Hispanic/Native American</td>\n",
       "      <td>0.312</td>\n",
       "      <td>0.274</td>\n",
       "      <td>0.215</td>\n",
       "      <td>0.426</td>\n",
       "      <td>40.0</td>\n",
       "      <td>41.0</td>\n",
       "      <td>41.0</td>\n",
       "      <td>37.0</td>\n",
       "      <td>15.28</td>\n",
       "      <td>15.66</td>\n",
       "      <td>14.49</td>\n",
       "      <td>16.38</td>\n",
       "      <td>-0.059</td>\n",
       "      <td>0.211</td>\n",
       "      <td>0.485</td>\n",
       "      <td>0.0</td>\n",
       "      <td>-4.0</td>\n",
       "      <td>37.0</td>\n",
       "      <td>-1.17</td>\n",
       "      <td>1.89</td>\n",
       "      <td>17.55</td>\n",
       "    </tr>\n",
       "    <tr>\n",
       "      <th>3</th>\n",
       "      <td>Alamo City School District</td>\n",
       "      <td>Elementary</td>\n",
       "      <td>1-Regular school</td>\n",
       "      <td>0</td>\n",
       "      <td>0</td>\n",
       "      <td>1</td>\n",
       "      <td>32-Town: Distant</td>\n",
       "      <td>ELA</td>\n",
       "      <td>Economically Disadvantaged</td>\n",
       "      <td>0.352</td>\n",
       "      <td>0.310</td>\n",
       "      <td>0.307</td>\n",
       "      <td>0.392</td>\n",
       "      <td>40.0</td>\n",
       "      <td>41.0</td>\n",
       "      <td>41.0</td>\n",
       "      <td>37.0</td>\n",
       "      <td>15.28</td>\n",
       "      <td>15.66</td>\n",
       "      <td>14.49</td>\n",
       "      <td>16.38</td>\n",
       "      <td>-0.003</td>\n",
       "      <td>0.085</td>\n",
       "      <td>0.395</td>\n",
       "      <td>0.0</td>\n",
       "      <td>-4.0</td>\n",
       "      <td>37.0</td>\n",
       "      <td>-1.17</td>\n",
       "      <td>1.89</td>\n",
       "      <td>17.55</td>\n",
       "    </tr>\n",
       "    <tr>\n",
       "      <th>4</th>\n",
       "      <td>Alamo City School District</td>\n",
       "      <td>Elementary</td>\n",
       "      <td>1-Regular school</td>\n",
       "      <td>0</td>\n",
       "      <td>0</td>\n",
       "      <td>1</td>\n",
       "      <td>32-Town: Distant</td>\n",
       "      <td>ELA</td>\n",
       "      <td>English Learner Transitional 1-4</td>\n",
       "      <td>0.355</td>\n",
       "      <td>0.333</td>\n",
       "      <td>0.111</td>\n",
       "      <td>0.357</td>\n",
       "      <td>40.0</td>\n",
       "      <td>41.0</td>\n",
       "      <td>41.0</td>\n",
       "      <td>37.0</td>\n",
       "      <td>15.28</td>\n",
       "      <td>15.66</td>\n",
       "      <td>14.49</td>\n",
       "      <td>16.38</td>\n",
       "      <td>-0.222</td>\n",
       "      <td>0.246</td>\n",
       "      <td>0.579</td>\n",
       "      <td>0.0</td>\n",
       "      <td>-4.0</td>\n",
       "      <td>37.0</td>\n",
       "      <td>-1.17</td>\n",
       "      <td>1.89</td>\n",
       "      <td>17.55</td>\n",
       "    </tr>\n",
       "  </tbody>\n",
       "</table>\n",
       "</div>"
      ],
      "text/plain": [
       "                  system_name  school_lvl       school_type  magnet  charter  \\\n",
       "0  Alamo City School District  Elementary  1-Regular school       0        0   \n",
       "1  Alamo City School District  Elementary  1-Regular school       0        0   \n",
       "2  Alamo City School District  Elementary  1-Regular school       0        0   \n",
       "3  Alamo City School District  Elementary  1-Regular school       0        0   \n",
       "4  Alamo City School District  Elementary  1-Regular school       0        0   \n",
       "\n",
       "  title_1            locale subject_area                     student_group  \\\n",
       "0       1  32-Town: Distant          ELA                      All Students   \n",
       "1       1  32-Town: Distant          ELA         Black or African American   \n",
       "2       1  32-Town: Distant          ELA    Black/Hispanic/Native American   \n",
       "3       1  32-Town: Distant          ELA        Economically Disadvantaged   \n",
       "4       1  32-Town: Distant          ELA  English Learner Transitional 1-4   \n",
       "\n",
       "   pct_met_exceeded_2018  pct_met_exceeded_2019  pct_met_exceeded_2021  \\\n",
       "0                  0.455                  0.465                  0.458   \n",
       "1                  0.314                  0.283                  0.200   \n",
       "2                  0.312                  0.274                  0.215   \n",
       "3                  0.352                  0.310                  0.307   \n",
       "4                  0.355                  0.333                  0.111   \n",
       "\n",
       "   pct_met_exceeded_2022  fte_teachers_2018  fte_teachers_2019  \\\n",
       "0                  0.570               40.0               41.0   \n",
       "1                  0.400               40.0               41.0   \n",
       "2                  0.426               40.0               41.0   \n",
       "3                  0.392               40.0               41.0   \n",
       "4                  0.357               40.0               41.0   \n",
       "\n",
       "   fte_teachers_2021  fte_teachers_2022  stu_tchr_ratio_2018  \\\n",
       "0               41.0               37.0                15.28   \n",
       "1               41.0               37.0                15.28   \n",
       "2               41.0               37.0                15.28   \n",
       "3               41.0               37.0                15.28   \n",
       "4               41.0               37.0                15.28   \n",
       "\n",
       "   stu_tchr_ratio_2019  stu_tchr_ratio_2021  stu_tchr_ratio_2022  \\\n",
       "0                15.66                14.49                16.38   \n",
       "1                15.66                14.49                16.38   \n",
       "2                15.66                14.49                16.38   \n",
       "3                15.66                14.49                16.38   \n",
       "4                15.66                14.49                16.38   \n",
       "\n",
       "   pct_met_exceeded_lvpp  pct_met_exceeded_intra  pct_met_exceeded_pre-post  \\\n",
       "0                 -0.007                   0.112                      0.577   \n",
       "1                 -0.083                   0.200                      0.483   \n",
       "2                 -0.059                   0.211                      0.485   \n",
       "3                 -0.003                   0.085                      0.395   \n",
       "4                 -0.222                   0.246                      0.579   \n",
       "\n",
       "   fte_teachers_lvpp  fte_teachers_intra  fte_teachers_pre-post  \\\n",
       "0                0.0                -4.0                   37.0   \n",
       "1                0.0                -4.0                   37.0   \n",
       "2                0.0                -4.0                   37.0   \n",
       "3                0.0                -4.0                   37.0   \n",
       "4                0.0                -4.0                   37.0   \n",
       "\n",
       "   stu_tchr_ratio_lvpp  stu_tchr_ratio_intra  stu_tchr_ratio_pre-post  \n",
       "0                -1.17                  1.89                    17.55  \n",
       "1                -1.17                  1.89                    17.55  \n",
       "2                -1.17                  1.89                    17.55  \n",
       "3                -1.17                  1.89                    17.55  \n",
       "4                -1.17                  1.89                    17.55  "
      ]
     },
     "execution_count": 23,
     "metadata": {},
     "output_type": "execute_result"
    }
   ],
   "source": [
    "# Resetting index of weighted average pivot to create weighted_average_metrics DataFrame\n",
    "weighted_average_metrics = weighted_avg_pivot.reset_index()\n",
    "\n",
    "# Compressing hierarchy in columns and joining levels with \"_\"\n",
    "weighted_average_metrics.columns = ['_'.join(str(col) for col in column) for column in weighted_average_metrics.columns.values]\n",
    "\n",
    "# Removing trailing \"_\" introduced when compressing\n",
    "for col in weighted_average_metrics.columns:\n",
    "        # Check if the column name ends with '_'\n",
    "        if col.endswith('_'):\n",
    "            # If it does, remove the trailing underscore\n",
    "            weighted_average_metrics = weighted_average_metrics.rename(columns={col: col[:-1]})\n",
    "\n",
    "weighted_average_metrics.head()"
   ]
  },
  {
   "cell_type": "code",
   "execution_count": 24,
   "metadata": {},
   "outputs": [],
   "source": [
    "# List of unique system names in weighted assessments\n",
    "weighted_average_metrics_system_names = weighted_average_metrics['system_name'].tolist()\n",
    "\n",
    "# List of unique system names in tn_leas\n",
    "tn_leas_system_names = tn_leas['system_name'].tolist()\n",
    "\n",
    "# Checking if system names exist in weighted assessments and do not in the district boundaries data set\n",
    "unique_in_weighted_average_metrics = list(set(weighted_average_metrics_system_names) - set(tn_leas_system_names))\n",
    "\n",
    "# Check if system name exists in district boundaries, but does not in weighted assessments\n",
    "unique_in_tn_leas = list(set(tn_leas_system_names) - set(weighted_average_metrics_system_names))"
   ]
  },
  {
   "attachments": {},
   "cell_type": "markdown",
   "metadata": {},
   "source": [
    "Checking if system names exist in weighted assessments that do not in the district boundaries data set.  I've never been so happy to see an empty list!"
   ]
  },
  {
   "cell_type": "code",
   "execution_count": 25,
   "metadata": {},
   "outputs": [
    {
     "data": {
      "text/plain": [
       "[]"
      ]
     },
     "execution_count": 25,
     "metadata": {},
     "output_type": "execute_result"
    }
   ],
   "source": [
    "unique_in_weighted_average_metrics"
   ]
  },
  {
   "attachments": {},
   "cell_type": "markdown",
   "metadata": {},
   "source": [
    "###  📊 🤝 🗺️ Merging Weighted Average Metrics with District Geometry Files and converting to GeoDataFrame"
   ]
  },
  {
   "cell_type": "code",
   "execution_count": 26,
   "metadata": {},
   "outputs": [],
   "source": [
    "weighted_average_metrics = pd.merge(left=weighted_average_metrics, right=tn_leas, on=\"system_name\", how='left')\n",
    "weighted_average_metrics = gpd.GeoDataFrame(weighted_average_metrics, geometry='geometry')"
   ]
  },
  {
   "attachments": {},
   "cell_type": "markdown",
   "metadata": {},
   "source": [
    "#### Renaming columns to conform with ERSI standards"
   ]
  },
  {
   "cell_type": "code",
   "execution_count": 27,
   "metadata": {},
   "outputs": [],
   "source": [
    "\n",
    "rename_dict = {\n",
    "    'pct_met_exceeded_2018': 'pctm_18',\n",
    "    'pct_met_exceeded_2019': 'pctm_19',\n",
    "    'pct_met_exceeded_2021': 'pctm_21',\n",
    "    'pct_met_exceeded_2022': 'pctm_22',\n",
    "    'fte_teachers_2018': 'fte_18',\n",
    "    'fte_teachers_2019': 'fte_19',\n",
    "    'fte_teachers_2021': 'fte_21',\n",
    "    'fte_teachers_2022': 'fte_22',\n",
    "    'stu_tchr_ratio_2018': 'str_18',\n",
    "    'stu_tchr_ratio_2019': 'str_19',\n",
    "    'stu_tchr_ratio_2021': 'str_21',\n",
    "    'stu_tchr_ratio_2022': 'str_22',\n",
    "    'pct_met_exceeded_lvpp': 'pctm_lvpp',\n",
    "    'pct_met_exceeded_intra': 'pctm_intra',\n",
    "    'pct_met_exceeded_pre-post': 'pctm_pp',\n",
    "    'fte_teachers_lvpp': 'fte_lvpp',\n",
    "    'fte_teachers_intra': 'fte_intra',\n",
    "    'fte_teachers_pre-post': 'fte_pp',\n",
    "    'stu_tchr_ratio_lvpp': 'str_lvpp',\n",
    "    'stu_tchr_ratio_intra': 'str_intra',\n",
    "    'stu_tchr_ratio_pre-post': 'str_pp'\n",
    "}\n",
    "weighted_average_metrics.rename(columns=rename_dict, inplace=True)"
   ]
  },
  {
   "cell_type": "code",
   "execution_count": 28,
   "metadata": {},
   "outputs": [
    {
     "data": {
      "text/html": [
       "<div>\n",
       "<style scoped>\n",
       "    .dataframe tbody tr th:only-of-type {\n",
       "        vertical-align: middle;\n",
       "    }\n",
       "\n",
       "    .dataframe tbody tr th {\n",
       "        vertical-align: top;\n",
       "    }\n",
       "\n",
       "    .dataframe thead th {\n",
       "        text-align: right;\n",
       "    }\n",
       "</style>\n",
       "<table border=\"1\" class=\"dataframe\">\n",
       "  <thead>\n",
       "    <tr style=\"text-align: right;\">\n",
       "      <th></th>\n",
       "      <th>system_name</th>\n",
       "      <th>school_lvl</th>\n",
       "      <th>school_type</th>\n",
       "      <th>magnet</th>\n",
       "      <th>charter</th>\n",
       "      <th>title_1</th>\n",
       "      <th>locale</th>\n",
       "      <th>subject_area</th>\n",
       "      <th>student_group</th>\n",
       "      <th>pctm_18</th>\n",
       "      <th>pctm_19</th>\n",
       "      <th>pctm_21</th>\n",
       "      <th>pctm_22</th>\n",
       "      <th>fte_18</th>\n",
       "      <th>fte_19</th>\n",
       "      <th>fte_21</th>\n",
       "      <th>fte_22</th>\n",
       "      <th>str_18</th>\n",
       "      <th>str_19</th>\n",
       "      <th>str_21</th>\n",
       "      <th>str_22</th>\n",
       "      <th>pctm_lvpp</th>\n",
       "      <th>pctm_intra</th>\n",
       "      <th>pctm_pp</th>\n",
       "      <th>fte_lvpp</th>\n",
       "      <th>fte_intra</th>\n",
       "      <th>fte_pp</th>\n",
       "      <th>str_lvpp</th>\n",
       "      <th>str_intra</th>\n",
       "      <th>str_pp</th>\n",
       "      <th>geometry</th>\n",
       "    </tr>\n",
       "  </thead>\n",
       "  <tbody>\n",
       "    <tr>\n",
       "      <th>0</th>\n",
       "      <td>Alamo City School District</td>\n",
       "      <td>Elementary</td>\n",
       "      <td>1-Regular school</td>\n",
       "      <td>0</td>\n",
       "      <td>0</td>\n",
       "      <td>1</td>\n",
       "      <td>32-Town: Distant</td>\n",
       "      <td>ELA</td>\n",
       "      <td>All Students</td>\n",
       "      <td>0.455</td>\n",
       "      <td>0.465</td>\n",
       "      <td>0.458</td>\n",
       "      <td>0.57</td>\n",
       "      <td>40.0</td>\n",
       "      <td>41.0</td>\n",
       "      <td>41.0</td>\n",
       "      <td>37.0</td>\n",
       "      <td>15.28</td>\n",
       "      <td>15.66</td>\n",
       "      <td>14.49</td>\n",
       "      <td>16.38</td>\n",
       "      <td>-0.007</td>\n",
       "      <td>0.112</td>\n",
       "      <td>0.577</td>\n",
       "      <td>0.0</td>\n",
       "      <td>-4.0</td>\n",
       "      <td>37.0</td>\n",
       "      <td>-1.17</td>\n",
       "      <td>1.89</td>\n",
       "      <td>17.55</td>\n",
       "      <td>POLYGON ((-89.00656 35.83268, -89.00660 35.832...</td>\n",
       "    </tr>\n",
       "  </tbody>\n",
       "</table>\n",
       "</div>"
      ],
      "text/plain": [
       "                  system_name  school_lvl       school_type  magnet  charter  \\\n",
       "0  Alamo City School District  Elementary  1-Regular school       0        0   \n",
       "\n",
       "  title_1            locale subject_area student_group  pctm_18  pctm_19  \\\n",
       "0       1  32-Town: Distant          ELA  All Students    0.455    0.465   \n",
       "\n",
       "   pctm_21  pctm_22  fte_18  fte_19  fte_21  fte_22  str_18  str_19  str_21  \\\n",
       "0    0.458     0.57    40.0    41.0    41.0    37.0   15.28   15.66   14.49   \n",
       "\n",
       "   str_22  pctm_lvpp  pctm_intra  pctm_pp  fte_lvpp  fte_intra  fte_pp  \\\n",
       "0   16.38     -0.007       0.112    0.577       0.0       -4.0    37.0   \n",
       "\n",
       "   str_lvpp  str_intra  str_pp  \\\n",
       "0     -1.17       1.89   17.55   \n",
       "\n",
       "                                            geometry  \n",
       "0  POLYGON ((-89.00656 35.83268, -89.00660 35.832...  "
      ]
     },
     "execution_count": 28,
     "metadata": {},
     "output_type": "execute_result"
    }
   ],
   "source": [
    "weighted_average_metrics.head(n=1)"
   ]
  },
  {
   "cell_type": "markdown",
   "metadata": {},
   "source": [
    "There's some funk going on here.  District names don't match across datasets.  I'm going to do a spatial merge to see which dististricts are associated based on thier physical location."
   ]
  },
  {
   "attachments": {},
   "cell_type": "markdown",
   "metadata": {},
   "source": [
    "###  🗺️ Exporting Weighed Average Metrics GeoDataFrame as Shapefile"
   ]
  },
  {
   "cell_type": "code",
   "execution_count": 29,
   "metadata": {},
   "outputs": [],
   "source": [
    "# CAUTION!: Don't turn on the GeoJSON generator unless lost.\n",
    "weighted_average_metrics.to_file('../data/weighted_average_metrics.geojson', driver='GeoJSON')"
   ]
  },
  {
   "attachments": {},
   "cell_type": "markdown",
   "metadata": {},
   "source": [
    "### 📊 Visual EDA"
   ]
  },
  {
   "cell_type": "code",
   "execution_count": 30,
   "metadata": {},
   "outputs": [
    {
     "ename": "NameError",
     "evalue": "name 'weighted_assessments' is not defined",
     "output_type": "error",
     "traceback": [
      "\u001b[0;31m---------------------------------------------------------------------------\u001b[0m",
      "\u001b[0;31mNameError\u001b[0m                                 Traceback (most recent call last)",
      "Cell \u001b[0;32mIn[30], line 2\u001b[0m\n\u001b[1;32m      1\u001b[0m \u001b[39m# Get unique school levels\u001b[39;00m\n\u001b[0;32m----> 2\u001b[0m school_levels \u001b[39m=\u001b[39m weighted_assessments[\u001b[39m'\u001b[39m\u001b[39mschool_lvl\u001b[39m\u001b[39m'\u001b[39m]\u001b[39m.\u001b[39munique()\n\u001b[1;32m      4\u001b[0m \u001b[39m# Create the heatmap traces for each school level\u001b[39;00m\n\u001b[1;32m      5\u001b[0m heatmaps \u001b[39m=\u001b[39m []\n",
      "\u001b[0;31mNameError\u001b[0m: name 'weighted_assessments' is not defined"
     ]
    }
   ],
   "source": [
    "# Get unique school levels\n",
    "school_levels = weighted_assessments['school_lvl'].unique()\n",
    "\n",
    "# Create the heatmap traces for each school level\n",
    "heatmaps = []\n",
    "for school_level in school_levels:\n",
    "    data = weighted_assessments[weighted_assessments['school_lvl'] == school_level]\n",
    "    heatmap = go.Heatmap(\n",
    "        x=data['subject_area'],\n",
    "        y=data['year'],\n",
    "        z=data['pct_met_exceeded'],\n",
    "        colorscale='viridis',\n",
    "        colorbar=dict(title='pct_met_exceeded'),\n",
    "        name=school_level\n",
    "    )\n",
    "    heatmaps.append(heatmap)\n",
    "\n",
    "# Create the figure and add the heatmaps\n",
    "fig = go.Figure(data=heatmaps)\n",
    "\n",
    "# Customize the layout\n",
    "fig.update_layout(\n",
    "    title='Changes in pct_met_exceeded by School Level, Subject Area, and Year',\n",
    "    xaxis=dict(title='Subject Area'),\n",
    "    yaxis=dict(title='Year'),\n",
    "    height=600,\n",
    "    width=800\n",
    ")\n",
    "\n",
    "# Show the facetted heatmap\n",
    "fig.show()\n"
   ]
  },
  {
   "cell_type": "code",
   "execution_count": null,
   "metadata": {},
   "outputs": [
    {
     "data": {
      "text/html": [
       "<div>\n",
       "<style scoped>\n",
       "    .dataframe tbody tr th:only-of-type {\n",
       "        vertical-align: middle;\n",
       "    }\n",
       "\n",
       "    .dataframe tbody tr th {\n",
       "        vertical-align: top;\n",
       "    }\n",
       "\n",
       "    .dataframe thead th {\n",
       "        text-align: right;\n",
       "    }\n",
       "</style>\n",
       "<table border=\"1\" class=\"dataframe\">\n",
       "  <thead>\n",
       "    <tr style=\"text-align: right;\">\n",
       "      <th></th>\n",
       "      <th>system_name</th>\n",
       "      <th>school_lvl</th>\n",
       "      <th>school_type</th>\n",
       "      <th>magnet</th>\n",
       "      <th>charter</th>\n",
       "      <th>title_1</th>\n",
       "      <th>locale</th>\n",
       "      <th>subject_area</th>\n",
       "      <th>student_group</th>\n",
       "      <th>year</th>\n",
       "      <th>fte_teachers</th>\n",
       "      <th>pct_met_exceeded</th>\n",
       "      <th>stu_tchr_ratio</th>\n",
       "    </tr>\n",
       "  </thead>\n",
       "  <tbody>\n",
       "    <tr>\n",
       "      <th>0</th>\n",
       "      <td>Achievement School District</td>\n",
       "      <td>Elementary</td>\n",
       "      <td>1-Regular school</td>\n",
       "      <td>0</td>\n",
       "      <td>0</td>\n",
       "      <td>1</td>\n",
       "      <td>11-City: Large</td>\n",
       "      <td>ELA</td>\n",
       "      <td>All Students</td>\n",
       "      <td>2018</td>\n",
       "      <td>16.068687</td>\n",
       "      <td>0.090990</td>\n",
       "      <td>19.127374</td>\n",
       "    </tr>\n",
       "    <tr>\n",
       "      <th>1</th>\n",
       "      <td>Achievement School District</td>\n",
       "      <td>Elementary</td>\n",
       "      <td>1-Regular school</td>\n",
       "      <td>0</td>\n",
       "      <td>0</td>\n",
       "      <td>1</td>\n",
       "      <td>11-City: Large</td>\n",
       "      <td>ELA</td>\n",
       "      <td>All Students</td>\n",
       "      <td>2019</td>\n",
       "      <td>13.614091</td>\n",
       "      <td>0.075048</td>\n",
       "      <td>19.758750</td>\n",
       "    </tr>\n",
       "    <tr>\n",
       "      <th>2</th>\n",
       "      <td>Achievement School District</td>\n",
       "      <td>Elementary</td>\n",
       "      <td>1-Regular school</td>\n",
       "      <td>0</td>\n",
       "      <td>0</td>\n",
       "      <td>1</td>\n",
       "      <td>11-City: Large</td>\n",
       "      <td>ELA</td>\n",
       "      <td>All Students</td>\n",
       "      <td>2021</td>\n",
       "      <td>13.437050</td>\n",
       "      <td>0.057583</td>\n",
       "      <td>15.263022</td>\n",
       "    </tr>\n",
       "    <tr>\n",
       "      <th>3</th>\n",
       "      <td>Achievement School District</td>\n",
       "      <td>Elementary</td>\n",
       "      <td>1-Regular school</td>\n",
       "      <td>0</td>\n",
       "      <td>0</td>\n",
       "      <td>1</td>\n",
       "      <td>11-City: Large</td>\n",
       "      <td>ELA</td>\n",
       "      <td>All Students</td>\n",
       "      <td>2022</td>\n",
       "      <td>10.265169</td>\n",
       "      <td>0.089914</td>\n",
       "      <td>18.669213</td>\n",
       "    </tr>\n",
       "    <tr>\n",
       "      <th>4</th>\n",
       "      <td>Achievement School District</td>\n",
       "      <td>Elementary</td>\n",
       "      <td>1-Regular school</td>\n",
       "      <td>0</td>\n",
       "      <td>0</td>\n",
       "      <td>1</td>\n",
       "      <td>11-City: Large</td>\n",
       "      <td>ELA</td>\n",
       "      <td>All Students</td>\n",
       "      <td>lvpp</td>\n",
       "      <td>-0.177041</td>\n",
       "      <td>-0.017465</td>\n",
       "      <td>-4.495728</td>\n",
       "    </tr>\n",
       "  </tbody>\n",
       "</table>\n",
       "</div>"
      ],
      "text/plain": [
       "                   system_name  school_lvl       school_type  magnet  charter  \\\n",
       "0  Achievement School District  Elementary  1-Regular school       0        0   \n",
       "1  Achievement School District  Elementary  1-Regular school       0        0   \n",
       "2  Achievement School District  Elementary  1-Regular school       0        0   \n",
       "3  Achievement School District  Elementary  1-Regular school       0        0   \n",
       "4  Achievement School District  Elementary  1-Regular school       0        0   \n",
       "\n",
       "  title_1          locale subject_area student_group  year  fte_teachers  \\\n",
       "0       1  11-City: Large          ELA  All Students  2018     16.068687   \n",
       "1       1  11-City: Large          ELA  All Students  2019     13.614091   \n",
       "2       1  11-City: Large          ELA  All Students  2021     13.437050   \n",
       "3       1  11-City: Large          ELA  All Students  2022     10.265169   \n",
       "4       1  11-City: Large          ELA  All Students  lvpp     -0.177041   \n",
       "\n",
       "   pct_met_exceeded  stu_tchr_ratio  \n",
       "0          0.090990       19.127374  \n",
       "1          0.075048       19.758750  \n",
       "2          0.057583       15.263022  \n",
       "3          0.089914       18.669213  \n",
       "4         -0.017465       -4.495728  "
      ]
     },
     "execution_count": 25,
     "metadata": {},
     "output_type": "execute_result"
    }
   ],
   "source": [
    "weighted_assessments.head()"
   ]
  },
  {
   "cell_type": "code",
   "execution_count": null,
   "metadata": {},
   "outputs": [
    {
     "data": {
      "text/plain": [
       "[array(['ELA', 'Math', 'Science', 'Social Studies'], dtype=object)]"
      ]
     },
     "execution_count": 26,
     "metadata": {},
     "output_type": "execute_result"
    }
   ],
   "source": [
    "subject_area = [weighted_assessments['subject_area'].unique()]\n",
    "subject_area"
   ]
  },
  {
   "cell_type": "code",
   "execution_count": null,
   "metadata": {},
   "outputs": [
    {
     "data": {
      "application/vnd.plotly.v1+json": {
       "config": {
        "plotlyServerURL": "https://plot.ly"
       },
       "data": [
        {
         "alignmentgroup": "True",
         "hovertemplate": "Subject Area=ELA<br>School Level=Elementary<br>year=%{x}<br>Average Proficiency=%{y}<extra></extra>",
         "legendgroup": "ELA",
         "marker": {
          "color": "#636efa",
          "pattern": {
           "shape": ""
          }
         },
         "name": "ELA",
         "offsetgroup": "ELA",
         "orientation": "v",
         "showlegend": true,
         "textposition": "auto",
         "type": "bar",
         "x": [
          2018,
          2019,
          2021,
          2022,
          "intra",
          "lvpp",
          "pre-post"
         ],
         "xaxis": "x16",
         "y": [
          0.32213471140856237,
          0.33082116772648434,
          0.3015653729263168,
          0.34936537001663764,
          0.05133189725594094,
          -0.028613241562500596,
          0.38271868421886807
         ],
         "yaxis": "y16"
        },
        {
         "alignmentgroup": "True",
         "hovertemplate": "Subject Area=ELA<br>School Level=Middle<br>year=%{x}<br>Average Proficiency=%{y}<extra></extra>",
         "legendgroup": "ELA",
         "marker": {
          "color": "#636efa",
          "pattern": {
           "shape": ""
          }
         },
         "name": "ELA",
         "offsetgroup": "ELA",
         "orientation": "v",
         "showlegend": false,
         "textposition": "auto",
         "type": "bar",
         "x": [
          2018,
          2019,
          2021,
          2022,
          "intra",
          "lvpp",
          "pre-post"
         ],
         "xaxis": "x17",
         "y": [
          0.2797392848726213,
          0.29552609149159986,
          0.24307030111002156,
          0.3021929541366629,
          0.06927799759487646,
          -0.06201464947260358,
          0.3680745723339929
         ],
         "yaxis": "y17"
        },
        {
         "alignmentgroup": "True",
         "hovertemplate": "Subject Area=ELA<br>School Level=High<br>year=%{x}<br>Average Proficiency=%{y}<extra></extra>",
         "legendgroup": "ELA",
         "marker": {
          "color": "#636efa",
          "pattern": {
           "shape": ""
          }
         },
         "name": "ELA",
         "offsetgroup": "ELA",
         "orientation": "v",
         "showlegend": false,
         "textposition": "auto",
         "type": "bar",
         "x": [
          2018,
          2019,
          2021,
          2022,
          "intra",
          "lvpp",
          "pre-post"
         ],
         "xaxis": "x18",
         "y": [
          0.26017082573249045,
          0.32909799894947356,
          0.2928487360511002,
          0.3496477180069634,
          0.06677231721718775,
          -0.03304077522643227,
          0.40609033718606363
         ],
         "yaxis": "y18"
        },
        {
         "alignmentgroup": "True",
         "hovertemplate": "Subject Area=ELA<br>School Level=Secondary<br>year=%{x}<br>Average Proficiency=%{y}<extra></extra>",
         "legendgroup": "ELA",
         "marker": {
          "color": "#636efa",
          "pattern": {
           "shape": ""
          }
         },
         "name": "ELA",
         "offsetgroup": "ELA",
         "orientation": "v",
         "showlegend": false,
         "textposition": "auto",
         "type": "bar",
         "x": [
          2018,
          2019,
          2021,
          2022,
          "intra",
          "lvpp",
          "pre-post"
         ],
         "xaxis": "x19",
         "y": [
          0.28692969760485704,
          0.29126893126275655,
          0.3502260878254253,
          0.3494515637418257,
          0.022712104332999736,
          0.006957996485491878,
          0.3694244317701909
         ],
         "yaxis": "y19"
        },
        {
         "alignmentgroup": "True",
         "hovertemplate": "Subject Area=ELA<br>School Level=Other<br>year=%{x}<br>Average Proficiency=%{y}<extra></extra>",
         "legendgroup": "ELA",
         "marker": {
          "color": "#636efa",
          "pattern": {
           "shape": ""
          }
         },
         "name": "ELA",
         "offsetgroup": "ELA",
         "orientation": "v",
         "showlegend": false,
         "textposition": "auto",
         "type": "bar",
         "x": [
          2018,
          2019,
          2021,
          2022,
          "intra",
          "lvpp",
          "pre-post"
         ],
         "xaxis": "x20",
         "y": [
          0.31093567911086195,
          0.31193017995991473,
          0.29185886979663345,
          0.3201315970224352,
          0.04678789020654258,
          -0.02075486823137,
          0.4022999654979614
         ],
         "yaxis": "y20"
        },
        {
         "alignmentgroup": "True",
         "hovertemplate": "Subject Area=Math<br>School Level=Elementary<br>year=%{x}<br>Average Proficiency=%{y}<extra></extra>",
         "legendgroup": "Math",
         "marker": {
          "color": "#EF553B",
          "pattern": {
           "shape": ""
          }
         },
         "name": "Math",
         "offsetgroup": "Math",
         "orientation": "v",
         "showlegend": true,
         "textposition": "auto",
         "type": "bar",
         "x": [
          2018,
          2019,
          2021,
          2022,
          "intra",
          "lvpp",
          "pre-post"
         ],
         "xaxis": "x11",
         "y": [
          0.3600217483514277,
          0.4122071681385609,
          0.31769683071317817,
          0.35633275848322354,
          0.04216881125001472,
          -0.10154313910383063,
          0.46142691573559513
         ],
         "yaxis": "y11"
        },
        {
         "alignmentgroup": "True",
         "hovertemplate": "Subject Area=Math<br>School Level=Middle<br>year=%{x}<br>Average Proficiency=%{y}<extra></extra>",
         "legendgroup": "Math",
         "marker": {
          "color": "#EF553B",
          "pattern": {
           "shape": ""
          }
         },
         "name": "Math",
         "offsetgroup": "Math",
         "orientation": "v",
         "showlegend": false,
         "textposition": "auto",
         "type": "bar",
         "x": [
          2018,
          2019,
          2021,
          2022,
          "intra",
          "lvpp",
          "pre-post"
         ],
         "xaxis": "x12",
         "y": [
          0.306327878193274,
          0.34469163456311613,
          0.26019149753092596,
          0.30157477938833804,
          0.055919861003348406,
          -0.10649996895301007,
          0.4156349223775272
         ],
         "yaxis": "y12"
        },
        {
         "alignmentgroup": "True",
         "hovertemplate": "Subject Area=Math<br>School Level=High<br>year=%{x}<br>Average Proficiency=%{y}<extra></extra>",
         "legendgroup": "Math",
         "marker": {
          "color": "#EF553B",
          "pattern": {
           "shape": ""
          }
         },
         "name": "Math",
         "offsetgroup": "Math",
         "orientation": "v",
         "showlegend": false,
         "textposition": "auto",
         "type": "bar",
         "x": [
          2018,
          2019,
          2021,
          2022,
          "intra",
          "lvpp",
          "pre-post"
         ],
         "xaxis": "x13",
         "y": [
          0.2182271698012335,
          0.25082802587686304,
          0.19165487211867438,
          0.22213431427576585,
          0.03635090044421946,
          -0.07363493862679547,
          0.3224347951692341
         ],
         "yaxis": "y13"
        },
        {
         "alignmentgroup": "True",
         "hovertemplate": "Subject Area=Math<br>School Level=Secondary<br>year=%{x}<br>Average Proficiency=%{y}<extra></extra>",
         "legendgroup": "Math",
         "marker": {
          "color": "#EF553B",
          "pattern": {
           "shape": ""
          }
         },
         "name": "Math",
         "offsetgroup": "Math",
         "orientation": "v",
         "showlegend": false,
         "textposition": "auto",
         "type": "bar",
         "x": [
          2018,
          2019,
          2021,
          2022,
          "intra",
          "lvpp",
          "pre-post"
         ],
         "xaxis": "x14",
         "y": [
          0.2665269435601387,
          0.29060333628575286,
          0.21147398134839185,
          0.23677949598373918,
          0.0023708402950547523,
          -0.17270640563394107,
          0.33560901763171874
         ],
         "yaxis": "y14"
        },
        {
         "alignmentgroup": "True",
         "hovertemplate": "Subject Area=Math<br>School Level=Other<br>year=%{x}<br>Average Proficiency=%{y}<extra></extra>",
         "legendgroup": "Math",
         "marker": {
          "color": "#EF553B",
          "pattern": {
           "shape": ""
          }
         },
         "name": "Math",
         "offsetgroup": "Math",
         "orientation": "v",
         "showlegend": false,
         "textposition": "auto",
         "type": "bar",
         "x": [
          2018,
          2019,
          2021,
          2022,
          "intra",
          "lvpp",
          "pre-post"
         ],
         "xaxis": "x15",
         "y": [
          0.302819824816974,
          0.3212669040491249,
          0.24495633581587054,
          0.2456807704717093,
          0.030686355807635277,
          -0.0488831104818932,
          0.3688831189978065
         ],
         "yaxis": "y15"
        },
        {
         "alignmentgroup": "True",
         "hovertemplate": "Subject Area=Science<br>School Level=Elementary<br>year=%{x}<br>Average Proficiency=%{y}<extra></extra>",
         "legendgroup": "Science",
         "marker": {
          "color": "#00cc96",
          "pattern": {
           "shape": ""
          }
         },
         "name": "Science",
         "offsetgroup": "Science",
         "orientation": "v",
         "showlegend": true,
         "textposition": "auto",
         "type": "bar",
         "x": [
          2018,
          2021,
          2022,
          "intra",
          "lvpp",
          "pre-post"
         ],
         "xaxis": "x6",
         "y": [
          0.5337419594522052,
          0.37412842049686235,
          0.38949341750805205,
          0.018000121084837208,
          -0.16477433817241766,
          0.546170049116715
         ],
         "yaxis": "y6"
        },
        {
         "alignmentgroup": "True",
         "hovertemplate": "Subject Area=Science<br>School Level=Middle<br>year=%{x}<br>Average Proficiency=%{y}<extra></extra>",
         "legendgroup": "Science",
         "marker": {
          "color": "#00cc96",
          "pattern": {
           "shape": ""
          }
         },
         "name": "Science",
         "offsetgroup": "Science",
         "orientation": "v",
         "showlegend": false,
         "textposition": "auto",
         "type": "bar",
         "x": [
          2018,
          2021,
          2022,
          "intra",
          "lvpp",
          "pre-post"
         ],
         "xaxis": "x7",
         "y": [
          0.5344963774429262,
          0.3309202965135057,
          0.33949988844630585,
          0.010661021103020194,
          -0.22358035318730263,
          0.5516043463092613
         ],
         "yaxis": "y7"
        },
        {
         "alignmentgroup": "True",
         "hovertemplate": "Subject Area=Science<br>School Level=High<br>year=%{x}<br>Average Proficiency=%{y}<extra></extra>",
         "legendgroup": "Science",
         "marker": {
          "color": "#00cc96",
          "pattern": {
           "shape": ""
          }
         },
         "name": "Science",
         "offsetgroup": "Science",
         "orientation": "v",
         "showlegend": false,
         "textposition": "auto",
         "type": "bar",
         "x": [
          2018,
          2021,
          2022,
          "intra",
          "lvpp",
          "pre-post"
         ],
         "xaxis": "x8",
         "y": [
          0.4026817091078919,
          0.3673162136733084,
          0.3675287351002212,
          0.005640989503442163,
          -0.04285291439124256,
          0.4189138682465608
         ],
         "yaxis": "y8"
        },
        {
         "alignmentgroup": "True",
         "hovertemplate": "Subject Area=Science<br>School Level=Secondary<br>year=%{x}<br>Average Proficiency=%{y}<extra></extra>",
         "legendgroup": "Science",
         "marker": {
          "color": "#00cc96",
          "pattern": {
           "shape": ""
          }
         },
         "name": "Science",
         "offsetgroup": "Science",
         "orientation": "v",
         "showlegend": false,
         "textposition": "auto",
         "type": "bar",
         "x": [
          2018,
          2021,
          2022,
          "intra",
          "lvpp",
          "pre-post"
         ],
         "xaxis": "x9",
         "y": [
          0.4911348795935717,
          0.4573449753074569,
          0.5002155336539481,
          -0.04093545084130978,
          -0.09883989702274093,
          0.6131503726129754
         ],
         "yaxis": "y9"
        },
        {
         "alignmentgroup": "True",
         "hovertemplate": "Subject Area=Science<br>School Level=Other<br>year=%{x}<br>Average Proficiency=%{y}<extra></extra>",
         "legendgroup": "Science",
         "marker": {
          "color": "#00cc96",
          "pattern": {
           "shape": ""
          }
         },
         "name": "Science",
         "offsetgroup": "Science",
         "orientation": "v",
         "showlegend": false,
         "textposition": "auto",
         "type": "bar",
         "x": [
          2018,
          2021,
          2022,
          "intra",
          "lvpp",
          "pre-post"
         ],
         "xaxis": "x10",
         "y": [
          0.45379261266979765,
          0.35436530000656863,
          0.3406224799060078,
          -0.007274075189473679,
          -0.09165108838644388,
          0.4790275125047309
         ],
         "yaxis": "y10"
        },
        {
         "alignmentgroup": "True",
         "hovertemplate": "Subject Area=Social Studies<br>School Level=Elementary<br>year=%{x}<br>Average Proficiency=%{y}<extra></extra>",
         "legendgroup": "Social Studies",
         "marker": {
          "color": "#ab63fa",
          "pattern": {
           "shape": ""
          }
         },
         "name": "Social Studies",
         "offsetgroup": "Social Studies",
         "orientation": "v",
         "showlegend": true,
         "textposition": "auto",
         "type": "bar",
         "x": [
          2018,
          2019,
          2021,
          2022,
          "intra",
          "lvpp",
          "pre-post"
         ],
         "xaxis": "x",
         "y": [
          0.3514912882809827,
          0.35351977910061294,
          0.33883232284018244,
          0.37482007094932707,
          0.04753915904037284,
          -0.011392344273130649,
          0.4011876376104736
         ],
         "yaxis": "y"
        },
        {
         "alignmentgroup": "True",
         "hovertemplate": "Subject Area=Social Studies<br>School Level=Middle<br>year=%{x}<br>Average Proficiency=%{y}<extra></extra>",
         "legendgroup": "Social Studies",
         "marker": {
          "color": "#ab63fa",
          "pattern": {
           "shape": ""
          }
         },
         "name": "Social Studies",
         "offsetgroup": "Social Studies",
         "orientation": "v",
         "showlegend": false,
         "textposition": "auto",
         "type": "bar",
         "x": [
          2018,
          2019,
          2021,
          2022,
          "intra",
          "lvpp",
          "pre-post"
         ],
         "xaxis": "x2",
         "y": [
          0.34848544343397525,
          0.3712791094101641,
          0.34256389371241225,
          0.40102179552095607,
          0.06443814195061748,
          -0.03406384571770202,
          0.43218686827503955
         ],
         "yaxis": "y2"
        },
        {
         "alignmentgroup": "True",
         "hovertemplate": "Subject Area=Social Studies<br>School Level=High<br>year=%{x}<br>Average Proficiency=%{y}<extra></extra>",
         "legendgroup": "Social Studies",
         "marker": {
          "color": "#ab63fa",
          "pattern": {
           "shape": ""
          }
         },
         "name": "Social Studies",
         "offsetgroup": "Social Studies",
         "orientation": "v",
         "showlegend": false,
         "textposition": "auto",
         "type": "bar",
         "x": [
          2018,
          2019,
          2021,
          2022,
          "intra",
          "lvpp",
          "pre-post"
         ],
         "xaxis": "x3",
         "y": [
          0.269782524531989,
          0.2798642288409953,
          0.31465721383408424,
          0.3500237561031217,
          0.05188613032666518,
          0.021016374899808402,
          0.3666983866267916
         ],
         "yaxis": "y3"
        },
        {
         "alignmentgroup": "True",
         "hovertemplate": "Subject Area=Social Studies<br>School Level=Secondary<br>year=%{x}<br>Average Proficiency=%{y}<extra></extra>",
         "legendgroup": "Social Studies",
         "marker": {
          "color": "#ab63fa",
          "pattern": {
           "shape": ""
          }
         },
         "name": "Social Studies",
         "offsetgroup": "Social Studies",
         "orientation": "v",
         "showlegend": false,
         "textposition": "auto",
         "type": "bar",
         "x": [
          2018,
          2019,
          2021,
          2022,
          "intra",
          "lvpp",
          "pre-post"
         ],
         "xaxis": "x4",
         "y": [
          0.33033323667027326,
          0.4281590909090909,
          0.34502938361611224,
          0.5254705882352941,
          0.0794285714285714,
          -0.13599999999999998,
          0.6952142857142857
         ],
         "yaxis": "y4"
        },
        {
         "alignmentgroup": "True",
         "hovertemplate": "Subject Area=Social Studies<br>School Level=Other<br>year=%{x}<br>Average Proficiency=%{y}<extra></extra>",
         "legendgroup": "Social Studies",
         "marker": {
          "color": "#ab63fa",
          "pattern": {
           "shape": ""
          }
         },
         "name": "Social Studies",
         "offsetgroup": "Social Studies",
         "orientation": "v",
         "showlegend": false,
         "textposition": "auto",
         "type": "bar",
         "x": [
          2018,
          2019,
          2021,
          2022,
          "intra",
          "lvpp",
          "pre-post"
         ],
         "xaxis": "x5",
         "y": [
          0.3178679268291263,
          0.3019878006300302,
          0.3306596966855095,
          0.32359462244195014,
          0.01329563109715454,
          0.06341386758648097,
          0.2997881979545904
         ],
         "yaxis": "y5"
        }
       ],
       "layout": {
        "annotations": [
         {
          "font": {},
          "showarrow": false,
          "text": "School Level=Elementary",
          "x": 0.09000000000000001,
          "xanchor": "center",
          "xref": "paper",
          "y": 1,
          "yanchor": "bottom",
          "yref": "paper"
         },
         {
          "font": {},
          "showarrow": false,
          "text": "School Level=Middle",
          "x": 0.29000000000000004,
          "xanchor": "center",
          "xref": "paper",
          "y": 1,
          "yanchor": "bottom",
          "yref": "paper"
         },
         {
          "font": {},
          "showarrow": false,
          "text": "School Level=High",
          "x": 0.49000000000000005,
          "xanchor": "center",
          "xref": "paper",
          "y": 1,
          "yanchor": "bottom",
          "yref": "paper"
         },
         {
          "font": {},
          "showarrow": false,
          "text": "School Level=Secondary",
          "x": 0.6900000000000002,
          "xanchor": "center",
          "xref": "paper",
          "y": 1,
          "yanchor": "bottom",
          "yref": "paper"
         },
         {
          "font": {},
          "showarrow": false,
          "text": "School Level=Other",
          "x": 0.8900000000000001,
          "xanchor": "center",
          "xref": "paper",
          "y": 1,
          "yanchor": "bottom",
          "yref": "paper"
         },
         {
          "font": {},
          "showarrow": false,
          "text": "Subject Area=Social Studies",
          "textangle": 90,
          "x": 0.9800000000000001,
          "xanchor": "left",
          "xref": "paper",
          "y": 0.11375,
          "yanchor": "middle",
          "yref": "paper"
         },
         {
          "font": {},
          "showarrow": false,
          "text": "Subject Area=Science",
          "textangle": 90,
          "x": 0.9800000000000001,
          "xanchor": "left",
          "xref": "paper",
          "y": 0.37124999999999997,
          "yanchor": "middle",
          "yref": "paper"
         },
         {
          "font": {},
          "showarrow": false,
          "text": "Subject Area=Math",
          "textangle": 90,
          "x": 0.9800000000000001,
          "xanchor": "left",
          "xref": "paper",
          "y": 0.62875,
          "yanchor": "middle",
          "yref": "paper"
         },
         {
          "font": {},
          "showarrow": false,
          "text": "Subject Area=ELA",
          "textangle": 90,
          "x": 0.9800000000000001,
          "xanchor": "left",
          "xref": "paper",
          "y": 0.88625,
          "yanchor": "middle",
          "yref": "paper"
         }
        ],
        "autosize": true,
        "barmode": "relative",
        "height": 900,
        "legend": {
         "title": {
          "text": "Subject Area"
         },
         "tracegroupgap": 0
        },
        "margin": {
         "t": 60
        },
        "template": {
         "data": {
          "bar": [
           {
            "error_x": {
             "color": "#2a3f5f"
            },
            "error_y": {
             "color": "#2a3f5f"
            },
            "marker": {
             "line": {
              "color": "#E5ECF6",
              "width": 0.5
             },
             "pattern": {
              "fillmode": "overlay",
              "size": 10,
              "solidity": 0.2
             }
            },
            "type": "bar"
           }
          ],
          "barpolar": [
           {
            "marker": {
             "line": {
              "color": "#E5ECF6",
              "width": 0.5
             },
             "pattern": {
              "fillmode": "overlay",
              "size": 10,
              "solidity": 0.2
             }
            },
            "type": "barpolar"
           }
          ],
          "carpet": [
           {
            "aaxis": {
             "endlinecolor": "#2a3f5f",
             "gridcolor": "white",
             "linecolor": "white",
             "minorgridcolor": "white",
             "startlinecolor": "#2a3f5f"
            },
            "baxis": {
             "endlinecolor": "#2a3f5f",
             "gridcolor": "white",
             "linecolor": "white",
             "minorgridcolor": "white",
             "startlinecolor": "#2a3f5f"
            },
            "type": "carpet"
           }
          ],
          "choropleth": [
           {
            "colorbar": {
             "outlinewidth": 0,
             "ticks": ""
            },
            "type": "choropleth"
           }
          ],
          "contour": [
           {
            "colorbar": {
             "outlinewidth": 0,
             "ticks": ""
            },
            "colorscale": [
             [
              0,
              "#0d0887"
             ],
             [
              0.1111111111111111,
              "#46039f"
             ],
             [
              0.2222222222222222,
              "#7201a8"
             ],
             [
              0.3333333333333333,
              "#9c179e"
             ],
             [
              0.4444444444444444,
              "#bd3786"
             ],
             [
              0.5555555555555556,
              "#d8576b"
             ],
             [
              0.6666666666666666,
              "#ed7953"
             ],
             [
              0.7777777777777778,
              "#fb9f3a"
             ],
             [
              0.8888888888888888,
              "#fdca26"
             ],
             [
              1,
              "#f0f921"
             ]
            ],
            "type": "contour"
           }
          ],
          "contourcarpet": [
           {
            "colorbar": {
             "outlinewidth": 0,
             "ticks": ""
            },
            "type": "contourcarpet"
           }
          ],
          "heatmap": [
           {
            "colorbar": {
             "outlinewidth": 0,
             "ticks": ""
            },
            "colorscale": [
             [
              0,
              "#0d0887"
             ],
             [
              0.1111111111111111,
              "#46039f"
             ],
             [
              0.2222222222222222,
              "#7201a8"
             ],
             [
              0.3333333333333333,
              "#9c179e"
             ],
             [
              0.4444444444444444,
              "#bd3786"
             ],
             [
              0.5555555555555556,
              "#d8576b"
             ],
             [
              0.6666666666666666,
              "#ed7953"
             ],
             [
              0.7777777777777778,
              "#fb9f3a"
             ],
             [
              0.8888888888888888,
              "#fdca26"
             ],
             [
              1,
              "#f0f921"
             ]
            ],
            "type": "heatmap"
           }
          ],
          "heatmapgl": [
           {
            "colorbar": {
             "outlinewidth": 0,
             "ticks": ""
            },
            "colorscale": [
             [
              0,
              "#0d0887"
             ],
             [
              0.1111111111111111,
              "#46039f"
             ],
             [
              0.2222222222222222,
              "#7201a8"
             ],
             [
              0.3333333333333333,
              "#9c179e"
             ],
             [
              0.4444444444444444,
              "#bd3786"
             ],
             [
              0.5555555555555556,
              "#d8576b"
             ],
             [
              0.6666666666666666,
              "#ed7953"
             ],
             [
              0.7777777777777778,
              "#fb9f3a"
             ],
             [
              0.8888888888888888,
              "#fdca26"
             ],
             [
              1,
              "#f0f921"
             ]
            ],
            "type": "heatmapgl"
           }
          ],
          "histogram": [
           {
            "marker": {
             "pattern": {
              "fillmode": "overlay",
              "size": 10,
              "solidity": 0.2
             }
            },
            "type": "histogram"
           }
          ],
          "histogram2d": [
           {
            "colorbar": {
             "outlinewidth": 0,
             "ticks": ""
            },
            "colorscale": [
             [
              0,
              "#0d0887"
             ],
             [
              0.1111111111111111,
              "#46039f"
             ],
             [
              0.2222222222222222,
              "#7201a8"
             ],
             [
              0.3333333333333333,
              "#9c179e"
             ],
             [
              0.4444444444444444,
              "#bd3786"
             ],
             [
              0.5555555555555556,
              "#d8576b"
             ],
             [
              0.6666666666666666,
              "#ed7953"
             ],
             [
              0.7777777777777778,
              "#fb9f3a"
             ],
             [
              0.8888888888888888,
              "#fdca26"
             ],
             [
              1,
              "#f0f921"
             ]
            ],
            "type": "histogram2d"
           }
          ],
          "histogram2dcontour": [
           {
            "colorbar": {
             "outlinewidth": 0,
             "ticks": ""
            },
            "colorscale": [
             [
              0,
              "#0d0887"
             ],
             [
              0.1111111111111111,
              "#46039f"
             ],
             [
              0.2222222222222222,
              "#7201a8"
             ],
             [
              0.3333333333333333,
              "#9c179e"
             ],
             [
              0.4444444444444444,
              "#bd3786"
             ],
             [
              0.5555555555555556,
              "#d8576b"
             ],
             [
              0.6666666666666666,
              "#ed7953"
             ],
             [
              0.7777777777777778,
              "#fb9f3a"
             ],
             [
              0.8888888888888888,
              "#fdca26"
             ],
             [
              1,
              "#f0f921"
             ]
            ],
            "type": "histogram2dcontour"
           }
          ],
          "mesh3d": [
           {
            "colorbar": {
             "outlinewidth": 0,
             "ticks": ""
            },
            "type": "mesh3d"
           }
          ],
          "parcoords": [
           {
            "line": {
             "colorbar": {
              "outlinewidth": 0,
              "ticks": ""
             }
            },
            "type": "parcoords"
           }
          ],
          "pie": [
           {
            "automargin": true,
            "type": "pie"
           }
          ],
          "scatter": [
           {
            "fillpattern": {
             "fillmode": "overlay",
             "size": 10,
             "solidity": 0.2
            },
            "type": "scatter"
           }
          ],
          "scatter3d": [
           {
            "line": {
             "colorbar": {
              "outlinewidth": 0,
              "ticks": ""
             }
            },
            "marker": {
             "colorbar": {
              "outlinewidth": 0,
              "ticks": ""
             }
            },
            "type": "scatter3d"
           }
          ],
          "scattercarpet": [
           {
            "marker": {
             "colorbar": {
              "outlinewidth": 0,
              "ticks": ""
             }
            },
            "type": "scattercarpet"
           }
          ],
          "scattergeo": [
           {
            "marker": {
             "colorbar": {
              "outlinewidth": 0,
              "ticks": ""
             }
            },
            "type": "scattergeo"
           }
          ],
          "scattergl": [
           {
            "marker": {
             "colorbar": {
              "outlinewidth": 0,
              "ticks": ""
             }
            },
            "type": "scattergl"
           }
          ],
          "scattermapbox": [
           {
            "marker": {
             "colorbar": {
              "outlinewidth": 0,
              "ticks": ""
             }
            },
            "type": "scattermapbox"
           }
          ],
          "scatterpolar": [
           {
            "marker": {
             "colorbar": {
              "outlinewidth": 0,
              "ticks": ""
             }
            },
            "type": "scatterpolar"
           }
          ],
          "scatterpolargl": [
           {
            "marker": {
             "colorbar": {
              "outlinewidth": 0,
              "ticks": ""
             }
            },
            "type": "scatterpolargl"
           }
          ],
          "scatterternary": [
           {
            "marker": {
             "colorbar": {
              "outlinewidth": 0,
              "ticks": ""
             }
            },
            "type": "scatterternary"
           }
          ],
          "surface": [
           {
            "colorbar": {
             "outlinewidth": 0,
             "ticks": ""
            },
            "colorscale": [
             [
              0,
              "#0d0887"
             ],
             [
              0.1111111111111111,
              "#46039f"
             ],
             [
              0.2222222222222222,
              "#7201a8"
             ],
             [
              0.3333333333333333,
              "#9c179e"
             ],
             [
              0.4444444444444444,
              "#bd3786"
             ],
             [
              0.5555555555555556,
              "#d8576b"
             ],
             [
              0.6666666666666666,
              "#ed7953"
             ],
             [
              0.7777777777777778,
              "#fb9f3a"
             ],
             [
              0.8888888888888888,
              "#fdca26"
             ],
             [
              1,
              "#f0f921"
             ]
            ],
            "type": "surface"
           }
          ],
          "table": [
           {
            "cells": {
             "fill": {
              "color": "#EBF0F8"
             },
             "line": {
              "color": "white"
             }
            },
            "header": {
             "fill": {
              "color": "#C8D4E3"
             },
             "line": {
              "color": "white"
             }
            },
            "type": "table"
           }
          ]
         },
         "layout": {
          "annotationdefaults": {
           "arrowcolor": "#2a3f5f",
           "arrowhead": 0,
           "arrowwidth": 1
          },
          "autotypenumbers": "strict",
          "coloraxis": {
           "colorbar": {
            "outlinewidth": 0,
            "ticks": ""
           }
          },
          "colorscale": {
           "diverging": [
            [
             0,
             "#8e0152"
            ],
            [
             0.1,
             "#c51b7d"
            ],
            [
             0.2,
             "#de77ae"
            ],
            [
             0.3,
             "#f1b6da"
            ],
            [
             0.4,
             "#fde0ef"
            ],
            [
             0.5,
             "#f7f7f7"
            ],
            [
             0.6,
             "#e6f5d0"
            ],
            [
             0.7,
             "#b8e186"
            ],
            [
             0.8,
             "#7fbc41"
            ],
            [
             0.9,
             "#4d9221"
            ],
            [
             1,
             "#276419"
            ]
           ],
           "sequential": [
            [
             0,
             "#0d0887"
            ],
            [
             0.1111111111111111,
             "#46039f"
            ],
            [
             0.2222222222222222,
             "#7201a8"
            ],
            [
             0.3333333333333333,
             "#9c179e"
            ],
            [
             0.4444444444444444,
             "#bd3786"
            ],
            [
             0.5555555555555556,
             "#d8576b"
            ],
            [
             0.6666666666666666,
             "#ed7953"
            ],
            [
             0.7777777777777778,
             "#fb9f3a"
            ],
            [
             0.8888888888888888,
             "#fdca26"
            ],
            [
             1,
             "#f0f921"
            ]
           ],
           "sequentialminus": [
            [
             0,
             "#0d0887"
            ],
            [
             0.1111111111111111,
             "#46039f"
            ],
            [
             0.2222222222222222,
             "#7201a8"
            ],
            [
             0.3333333333333333,
             "#9c179e"
            ],
            [
             0.4444444444444444,
             "#bd3786"
            ],
            [
             0.5555555555555556,
             "#d8576b"
            ],
            [
             0.6666666666666666,
             "#ed7953"
            ],
            [
             0.7777777777777778,
             "#fb9f3a"
            ],
            [
             0.8888888888888888,
             "#fdca26"
            ],
            [
             1,
             "#f0f921"
            ]
           ]
          },
          "colorway": [
           "#636efa",
           "#EF553B",
           "#00cc96",
           "#ab63fa",
           "#FFA15A",
           "#19d3f3",
           "#FF6692",
           "#B6E880",
           "#FF97FF",
           "#FECB52"
          ],
          "font": {
           "color": "#2a3f5f"
          },
          "geo": {
           "bgcolor": "white",
           "lakecolor": "white",
           "landcolor": "#E5ECF6",
           "showlakes": true,
           "showland": true,
           "subunitcolor": "white"
          },
          "hoverlabel": {
           "align": "left"
          },
          "hovermode": "closest",
          "mapbox": {
           "style": "light"
          },
          "paper_bgcolor": "white",
          "plot_bgcolor": "#E5ECF6",
          "polar": {
           "angularaxis": {
            "gridcolor": "white",
            "linecolor": "white",
            "ticks": ""
           },
           "bgcolor": "#E5ECF6",
           "radialaxis": {
            "gridcolor": "white",
            "linecolor": "white",
            "ticks": ""
           }
          },
          "scene": {
           "xaxis": {
            "backgroundcolor": "#E5ECF6",
            "gridcolor": "white",
            "gridwidth": 2,
            "linecolor": "white",
            "showbackground": true,
            "ticks": "",
            "zerolinecolor": "white"
           },
           "yaxis": {
            "backgroundcolor": "#E5ECF6",
            "gridcolor": "white",
            "gridwidth": 2,
            "linecolor": "white",
            "showbackground": true,
            "ticks": "",
            "zerolinecolor": "white"
           },
           "zaxis": {
            "backgroundcolor": "#E5ECF6",
            "gridcolor": "white",
            "gridwidth": 2,
            "linecolor": "white",
            "showbackground": true,
            "ticks": "",
            "zerolinecolor": "white"
           }
          },
          "shapedefaults": {
           "line": {
            "color": "#2a3f5f"
           }
          },
          "ternary": {
           "aaxis": {
            "gridcolor": "white",
            "linecolor": "white",
            "ticks": ""
           },
           "baxis": {
            "gridcolor": "white",
            "linecolor": "white",
            "ticks": ""
           },
           "bgcolor": "#E5ECF6",
           "caxis": {
            "gridcolor": "white",
            "linecolor": "white",
            "ticks": ""
           }
          },
          "title": {
           "x": 0.05
          },
          "xaxis": {
           "automargin": true,
           "gridcolor": "white",
           "linecolor": "white",
           "ticks": "",
           "title": {
            "standoff": 15
           },
           "zerolinecolor": "white",
           "zerolinewidth": 2
          },
          "yaxis": {
           "automargin": true,
           "gridcolor": "white",
           "linecolor": "white",
           "ticks": "",
           "title": {
            "standoff": 15
           },
           "zerolinecolor": "white",
           "zerolinewidth": 2
          }
         }
        },
        "title": {
         "text": "Average Weighted Proficiency by School Level, Content Area, and Year"
        },
        "width": 1200,
        "xaxis": {
         "anchor": "y",
         "domain": [
          0,
          0.18000000000000002
         ],
         "title": {
          "text": "year"
         }
        },
        "xaxis10": {
         "anchor": "y10",
         "domain": [
          0.8,
          0.9800000000000001
         ],
         "matches": "x",
         "showticklabels": false
        },
        "xaxis11": {
         "anchor": "y11",
         "domain": [
          0,
          0.18000000000000002
         ],
         "matches": "x",
         "showticklabels": false
        },
        "xaxis12": {
         "anchor": "y12",
         "domain": [
          0.2,
          0.38
         ],
         "matches": "x",
         "showticklabels": false
        },
        "xaxis13": {
         "anchor": "y13",
         "domain": [
          0.4,
          0.5800000000000001
         ],
         "matches": "x",
         "showticklabels": false
        },
        "xaxis14": {
         "anchor": "y14",
         "domain": [
          0.6000000000000001,
          0.7800000000000001
         ],
         "matches": "x",
         "showticklabels": false
        },
        "xaxis15": {
         "anchor": "y15",
         "domain": [
          0.8,
          0.9800000000000001
         ],
         "matches": "x",
         "showticklabels": false
        },
        "xaxis16": {
         "anchor": "y16",
         "domain": [
          0,
          0.18000000000000002
         ],
         "matches": "x",
         "showticklabels": false
        },
        "xaxis17": {
         "anchor": "y17",
         "domain": [
          0.2,
          0.38
         ],
         "matches": "x",
         "showticklabels": false
        },
        "xaxis18": {
         "anchor": "y18",
         "domain": [
          0.4,
          0.5800000000000001
         ],
         "matches": "x",
         "showticklabels": false
        },
        "xaxis19": {
         "anchor": "y19",
         "domain": [
          0.6000000000000001,
          0.7800000000000001
         ],
         "matches": "x",
         "showticklabels": false
        },
        "xaxis2": {
         "anchor": "y2",
         "domain": [
          0.2,
          0.38
         ],
         "matches": "x",
         "title": {
          "text": "year"
         }
        },
        "xaxis20": {
         "anchor": "y20",
         "domain": [
          0.8,
          0.9800000000000001
         ],
         "matches": "x",
         "showticklabels": false
        },
        "xaxis3": {
         "anchor": "y3",
         "domain": [
          0.4,
          0.5800000000000001
         ],
         "matches": "x",
         "title": {
          "text": "year"
         }
        },
        "xaxis4": {
         "anchor": "y4",
         "domain": [
          0.6000000000000001,
          0.7800000000000001
         ],
         "matches": "x",
         "title": {
          "text": "year"
         }
        },
        "xaxis5": {
         "anchor": "y5",
         "domain": [
          0.8,
          0.9800000000000001
         ],
         "matches": "x",
         "title": {
          "text": "year"
         }
        },
        "xaxis6": {
         "anchor": "y6",
         "domain": [
          0,
          0.18000000000000002
         ],
         "matches": "x",
         "showticklabels": false
        },
        "xaxis7": {
         "anchor": "y7",
         "domain": [
          0.2,
          0.38
         ],
         "matches": "x",
         "showticklabels": false
        },
        "xaxis8": {
         "anchor": "y8",
         "domain": [
          0.4,
          0.5800000000000001
         ],
         "matches": "x",
         "showticklabels": false
        },
        "xaxis9": {
         "anchor": "y9",
         "domain": [
          0.6000000000000001,
          0.7800000000000001
         ],
         "matches": "x",
         "showticklabels": false
        },
        "yaxis": {
         "anchor": "x",
         "domain": [
          0,
          0.2275
         ],
         "title": {
          "text": "Average Proficiency"
         }
        },
        "yaxis10": {
         "anchor": "x10",
         "domain": [
          0.2575,
          0.485
         ],
         "matches": "y",
         "showticklabels": false
        },
        "yaxis11": {
         "anchor": "x11",
         "domain": [
          0.515,
          0.7425
         ],
         "matches": "y",
         "title": {
          "text": "Average Proficiency"
         }
        },
        "yaxis12": {
         "anchor": "x12",
         "domain": [
          0.515,
          0.7425
         ],
         "matches": "y",
         "showticklabels": false
        },
        "yaxis13": {
         "anchor": "x13",
         "domain": [
          0.515,
          0.7425
         ],
         "matches": "y",
         "showticklabels": false
        },
        "yaxis14": {
         "anchor": "x14",
         "domain": [
          0.515,
          0.7425
         ],
         "matches": "y",
         "showticklabels": false
        },
        "yaxis15": {
         "anchor": "x15",
         "domain": [
          0.515,
          0.7425
         ],
         "matches": "y",
         "showticklabels": false
        },
        "yaxis16": {
         "anchor": "x16",
         "domain": [
          0.7725,
          1
         ],
         "matches": "y",
         "title": {
          "text": "Average Proficiency"
         }
        },
        "yaxis17": {
         "anchor": "x17",
         "domain": [
          0.7725,
          1
         ],
         "matches": "y",
         "showticklabels": false
        },
        "yaxis18": {
         "anchor": "x18",
         "domain": [
          0.7725,
          1
         ],
         "matches": "y",
         "showticklabels": false
        },
        "yaxis19": {
         "anchor": "x19",
         "domain": [
          0.7725,
          1
         ],
         "matches": "y",
         "showticklabels": false
        },
        "yaxis2": {
         "anchor": "x2",
         "domain": [
          0,
          0.2275
         ],
         "matches": "y",
         "showticklabels": false
        },
        "yaxis20": {
         "anchor": "x20",
         "domain": [
          0.7725,
          1
         ],
         "matches": "y",
         "showticklabels": false
        },
        "yaxis3": {
         "anchor": "x3",
         "domain": [
          0,
          0.2275
         ],
         "matches": "y",
         "showticklabels": false
        },
        "yaxis4": {
         "anchor": "x4",
         "domain": [
          0,
          0.2275
         ],
         "matches": "y",
         "showticklabels": false
        },
        "yaxis5": {
         "anchor": "x5",
         "domain": [
          0,
          0.2275
         ],
         "matches": "y",
         "showticklabels": false
        },
        "yaxis6": {
         "anchor": "x6",
         "domain": [
          0.2575,
          0.485
         ],
         "matches": "y",
         "title": {
          "text": "Average Proficiency"
         }
        },
        "yaxis7": {
         "anchor": "x7",
         "domain": [
          0.2575,
          0.485
         ],
         "matches": "y",
         "showticklabels": false
        },
        "yaxis8": {
         "anchor": "x8",
         "domain": [
          0.2575,
          0.485
         ],
         "matches": "y",
         "showticklabels": false
        },
        "yaxis9": {
         "anchor": "x9",
         "domain": [
          0.2575,
          0.485
         ],
         "matches": "y",
         "showticklabels": false
        }
       }
      }
     },
     "metadata": {},
     "output_type": "display_data"
    }
   ],
   "source": [
    "# Calculate average proficiency per school level, content area, and year\n",
    "average_proficiency = weighted_assessments.groupby(['school_lvl', 'subject_area', 'year'])['pct_met_exceeded'].mean().reset_index()\n",
    "\n",
    "# Define subject_area\n",
    "subject_area = weighted_assessments['subject_area'].unique().tolist()\n",
    "\n",
    "# Reorder scool levels\n",
    "school_lvl_order = ['Elementary', 'Middle', 'High', 'Secondary', 'Other']\n",
    "\n",
    "# Create bar plot\n",
    "fig = px.bar(average_proficiency, x='year', y='pct_met_exceeded', color='subject_area',\n",
    "             facet_row='subject_area', facet_col='school_lvl',\n",
    "             category_orders={'subject_area': subject_area, 'school_lvl': school_lvl_order},\n",
    "             labels={'pct_met_exceeded': 'Average Proficiency',\n",
    "                     'school_lvl': 'School Level',\n",
    "                     'subject_area': 'Subject Area'})\n",
    "\n",
    "# Update layout\n",
    "fig.update_layout(\n",
    "    title='Average Weighted Proficiency by School Level, Content Area, and Year',\n",
    "   autosize=True,\n",
    "    width=1200,\n",
    "    height=900,\n",
    ")\n",
    "\n",
    "# Update the graph size to 50% Larger\n",
    "fig.update_layout(\n",
    "    autosize=True,\n",
    "    width=1200,\n",
    "    height=900,\n",
    ")\n",
    "\n",
    "# Show the figure\n",
    "fig.show()\n"
   ]
  },
  {
   "cell_type": "markdown",
   "metadata": {},
   "source": [
    "### σ Stats Models"
   ]
  },
  {
   "cell_type": "code",
   "execution_count": null,
   "metadata": {},
   "outputs": [],
   "source": [
    "import statsmodels.api as sm\n",
    "\n",
    "# Prepare the data for the linear model\n",
    "X = weighted_avg_pivot[('pct_met_exceeded', 'lvpp')]  # Independent variable\n",
    "y = weighted_avg_pivot[('fte_teachers', 'intra')]  # Dependent variable"
   ]
  },
  {
   "cell_type": "code",
   "execution_count": null,
   "metadata": {},
   "outputs": [
    {
     "name": "stdout",
     "output_type": "stream",
     "text": [
      "30867\n",
      "30867\n",
      "21882\n",
      "21882\n"
     ]
    }
   ],
   "source": [
    "# Check for missing or NaN values in X\n",
    "print(np.isnan(X).sum())\n",
    "print(X.isnull().sum())\n",
    "\n",
    "# Check for missing or NaN values in y\n",
    "print(np.isnan(y).sum())\n",
    "print(y.isnull().sum())"
   ]
  },
  {
   "cell_type": "code",
   "execution_count": null,
   "metadata": {},
   "outputs": [
    {
     "ename": "MissingDataError",
     "evalue": "exog contains inf or nans",
     "output_type": "error",
     "traceback": [
      "\u001b[0;31m---------------------------------------------------------------------------\u001b[0m",
      "\u001b[0;31mMissingDataError\u001b[0m                          Traceback (most recent call last)",
      "Cell \u001b[0;32mIn[30], line 5\u001b[0m\n\u001b[1;32m      2\u001b[0m X \u001b[39m=\u001b[39m sm\u001b[39m.\u001b[39madd_constant(X)\n\u001b[1;32m      4\u001b[0m \u001b[39m# Fit the linear model\u001b[39;00m\n\u001b[0;32m----> 5\u001b[0m model \u001b[39m=\u001b[39m sm\u001b[39m.\u001b[39;49mOLS(y, X)\n\u001b[1;32m      6\u001b[0m results \u001b[39m=\u001b[39m model\u001b[39m.\u001b[39mfit()\n\u001b[1;32m      8\u001b[0m \u001b[39m# Print the model summary\u001b[39;00m\n",
      "File \u001b[0;32m~/anaconda3/lib/python3.9/site-packages/statsmodels/regression/linear_model.py:922\u001b[0m, in \u001b[0;36mOLS.__init__\u001b[0;34m(self, endog, exog, missing, hasconst, **kwargs)\u001b[0m\n\u001b[1;32m    919\u001b[0m     msg \u001b[39m=\u001b[39m (\u001b[39m\"\u001b[39m\u001b[39mWeights are not supported in OLS and will be ignored\u001b[39m\u001b[39m\"\u001b[39m\n\u001b[1;32m    920\u001b[0m            \u001b[39m\"\u001b[39m\u001b[39mAn exception will be raised in the next version.\u001b[39m\u001b[39m\"\u001b[39m)\n\u001b[1;32m    921\u001b[0m     warnings\u001b[39m.\u001b[39mwarn(msg, ValueWarning)\n\u001b[0;32m--> 922\u001b[0m \u001b[39msuper\u001b[39;49m(OLS, \u001b[39mself\u001b[39;49m)\u001b[39m.\u001b[39;49m\u001b[39m__init__\u001b[39;49m(endog, exog, missing\u001b[39m=\u001b[39;49mmissing,\n\u001b[1;32m    923\u001b[0m                           hasconst\u001b[39m=\u001b[39;49mhasconst, \u001b[39m*\u001b[39;49m\u001b[39m*\u001b[39;49mkwargs)\n\u001b[1;32m    924\u001b[0m \u001b[39mif\u001b[39;00m \u001b[39m\"\u001b[39m\u001b[39mweights\u001b[39m\u001b[39m\"\u001b[39m \u001b[39min\u001b[39;00m \u001b[39mself\u001b[39m\u001b[39m.\u001b[39m_init_keys:\n\u001b[1;32m    925\u001b[0m     \u001b[39mself\u001b[39m\u001b[39m.\u001b[39m_init_keys\u001b[39m.\u001b[39mremove(\u001b[39m\"\u001b[39m\u001b[39mweights\u001b[39m\u001b[39m\"\u001b[39m)\n",
      "File \u001b[0;32m~/anaconda3/lib/python3.9/site-packages/statsmodels/regression/linear_model.py:748\u001b[0m, in \u001b[0;36mWLS.__init__\u001b[0;34m(self, endog, exog, weights, missing, hasconst, **kwargs)\u001b[0m\n\u001b[1;32m    746\u001b[0m \u001b[39melse\u001b[39;00m:\n\u001b[1;32m    747\u001b[0m     weights \u001b[39m=\u001b[39m weights\u001b[39m.\u001b[39msqueeze()\n\u001b[0;32m--> 748\u001b[0m \u001b[39msuper\u001b[39;49m(WLS, \u001b[39mself\u001b[39;49m)\u001b[39m.\u001b[39;49m\u001b[39m__init__\u001b[39;49m(endog, exog, missing\u001b[39m=\u001b[39;49mmissing,\n\u001b[1;32m    749\u001b[0m                           weights\u001b[39m=\u001b[39;49mweights, hasconst\u001b[39m=\u001b[39;49mhasconst, \u001b[39m*\u001b[39;49m\u001b[39m*\u001b[39;49mkwargs)\n\u001b[1;32m    750\u001b[0m nobs \u001b[39m=\u001b[39m \u001b[39mself\u001b[39m\u001b[39m.\u001b[39mexog\u001b[39m.\u001b[39mshape[\u001b[39m0\u001b[39m]\n\u001b[1;32m    751\u001b[0m weights \u001b[39m=\u001b[39m \u001b[39mself\u001b[39m\u001b[39m.\u001b[39mweights\n",
      "File \u001b[0;32m~/anaconda3/lib/python3.9/site-packages/statsmodels/regression/linear_model.py:202\u001b[0m, in \u001b[0;36mRegressionModel.__init__\u001b[0;34m(self, endog, exog, **kwargs)\u001b[0m\n\u001b[1;32m    201\u001b[0m \u001b[39mdef\u001b[39;00m \u001b[39m__init__\u001b[39m(\u001b[39mself\u001b[39m, endog, exog, \u001b[39m*\u001b[39m\u001b[39m*\u001b[39mkwargs):\n\u001b[0;32m--> 202\u001b[0m     \u001b[39msuper\u001b[39;49m(RegressionModel, \u001b[39mself\u001b[39;49m)\u001b[39m.\u001b[39;49m\u001b[39m__init__\u001b[39;49m(endog, exog, \u001b[39m*\u001b[39;49m\u001b[39m*\u001b[39;49mkwargs)\n\u001b[1;32m    203\u001b[0m     \u001b[39mself\u001b[39m\u001b[39m.\u001b[39mpinv_wexog: Float64Array \u001b[39m|\u001b[39m \u001b[39mNone\u001b[39;00m \u001b[39m=\u001b[39m \u001b[39mNone\u001b[39;00m\n\u001b[1;32m    204\u001b[0m     \u001b[39mself\u001b[39m\u001b[39m.\u001b[39m_data_attr\u001b[39m.\u001b[39mextend([\u001b[39m'\u001b[39m\u001b[39mpinv_wexog\u001b[39m\u001b[39m'\u001b[39m, \u001b[39m'\u001b[39m\u001b[39mwendog\u001b[39m\u001b[39m'\u001b[39m, \u001b[39m'\u001b[39m\u001b[39mwexog\u001b[39m\u001b[39m'\u001b[39m, \u001b[39m'\u001b[39m\u001b[39mweights\u001b[39m\u001b[39m'\u001b[39m])\n",
      "File \u001b[0;32m~/anaconda3/lib/python3.9/site-packages/statsmodels/base/model.py:270\u001b[0m, in \u001b[0;36mLikelihoodModel.__init__\u001b[0;34m(self, endog, exog, **kwargs)\u001b[0m\n\u001b[1;32m    269\u001b[0m \u001b[39mdef\u001b[39;00m \u001b[39m__init__\u001b[39m(\u001b[39mself\u001b[39m, endog, exog\u001b[39m=\u001b[39m\u001b[39mNone\u001b[39;00m, \u001b[39m*\u001b[39m\u001b[39m*\u001b[39mkwargs):\n\u001b[0;32m--> 270\u001b[0m     \u001b[39msuper\u001b[39;49m()\u001b[39m.\u001b[39;49m\u001b[39m__init__\u001b[39;49m(endog, exog, \u001b[39m*\u001b[39;49m\u001b[39m*\u001b[39;49mkwargs)\n\u001b[1;32m    271\u001b[0m     \u001b[39mself\u001b[39m\u001b[39m.\u001b[39minitialize()\n",
      "File \u001b[0;32m~/anaconda3/lib/python3.9/site-packages/statsmodels/base/model.py:95\u001b[0m, in \u001b[0;36mModel.__init__\u001b[0;34m(self, endog, exog, **kwargs)\u001b[0m\n\u001b[1;32m     93\u001b[0m missing \u001b[39m=\u001b[39m kwargs\u001b[39m.\u001b[39mpop(\u001b[39m'\u001b[39m\u001b[39mmissing\u001b[39m\u001b[39m'\u001b[39m, \u001b[39m'\u001b[39m\u001b[39mnone\u001b[39m\u001b[39m'\u001b[39m)\n\u001b[1;32m     94\u001b[0m hasconst \u001b[39m=\u001b[39m kwargs\u001b[39m.\u001b[39mpop(\u001b[39m'\u001b[39m\u001b[39mhasconst\u001b[39m\u001b[39m'\u001b[39m, \u001b[39mNone\u001b[39;00m)\n\u001b[0;32m---> 95\u001b[0m \u001b[39mself\u001b[39m\u001b[39m.\u001b[39mdata \u001b[39m=\u001b[39m \u001b[39mself\u001b[39;49m\u001b[39m.\u001b[39;49m_handle_data(endog, exog, missing, hasconst,\n\u001b[1;32m     96\u001b[0m                               \u001b[39m*\u001b[39;49m\u001b[39m*\u001b[39;49mkwargs)\n\u001b[1;32m     97\u001b[0m \u001b[39mself\u001b[39m\u001b[39m.\u001b[39mk_constant \u001b[39m=\u001b[39m \u001b[39mself\u001b[39m\u001b[39m.\u001b[39mdata\u001b[39m.\u001b[39mk_constant\n\u001b[1;32m     98\u001b[0m \u001b[39mself\u001b[39m\u001b[39m.\u001b[39mexog \u001b[39m=\u001b[39m \u001b[39mself\u001b[39m\u001b[39m.\u001b[39mdata\u001b[39m.\u001b[39mexog\n",
      "File \u001b[0;32m~/anaconda3/lib/python3.9/site-packages/statsmodels/base/model.py:135\u001b[0m, in \u001b[0;36mModel._handle_data\u001b[0;34m(self, endog, exog, missing, hasconst, **kwargs)\u001b[0m\n\u001b[1;32m    134\u001b[0m \u001b[39mdef\u001b[39;00m \u001b[39m_handle_data\u001b[39m(\u001b[39mself\u001b[39m, endog, exog, missing, hasconst, \u001b[39m*\u001b[39m\u001b[39m*\u001b[39mkwargs):\n\u001b[0;32m--> 135\u001b[0m     data \u001b[39m=\u001b[39m handle_data(endog, exog, missing, hasconst, \u001b[39m*\u001b[39;49m\u001b[39m*\u001b[39;49mkwargs)\n\u001b[1;32m    136\u001b[0m     \u001b[39m# kwargs arrays could have changed, easier to just attach here\u001b[39;00m\n\u001b[1;32m    137\u001b[0m     \u001b[39mfor\u001b[39;00m key \u001b[39min\u001b[39;00m kwargs:\n",
      "File \u001b[0;32m~/anaconda3/lib/python3.9/site-packages/statsmodels/base/data.py:675\u001b[0m, in \u001b[0;36mhandle_data\u001b[0;34m(endog, exog, missing, hasconst, **kwargs)\u001b[0m\n\u001b[1;32m    672\u001b[0m     exog \u001b[39m=\u001b[39m np\u001b[39m.\u001b[39masarray(exog)\n\u001b[1;32m    674\u001b[0m klass \u001b[39m=\u001b[39m handle_data_class_factory(endog, exog)\n\u001b[0;32m--> 675\u001b[0m \u001b[39mreturn\u001b[39;00m klass(endog, exog\u001b[39m=\u001b[39;49mexog, missing\u001b[39m=\u001b[39;49mmissing, hasconst\u001b[39m=\u001b[39;49mhasconst,\n\u001b[1;32m    676\u001b[0m              \u001b[39m*\u001b[39;49m\u001b[39m*\u001b[39;49mkwargs)\n",
      "File \u001b[0;32m~/anaconda3/lib/python3.9/site-packages/statsmodels/base/data.py:88\u001b[0m, in \u001b[0;36mModelData.__init__\u001b[0;34m(self, endog, exog, missing, hasconst, **kwargs)\u001b[0m\n\u001b[1;32m     86\u001b[0m \u001b[39mself\u001b[39m\u001b[39m.\u001b[39mconst_idx \u001b[39m=\u001b[39m \u001b[39mNone\u001b[39;00m\n\u001b[1;32m     87\u001b[0m \u001b[39mself\u001b[39m\u001b[39m.\u001b[39mk_constant \u001b[39m=\u001b[39m \u001b[39m0\u001b[39m\n\u001b[0;32m---> 88\u001b[0m \u001b[39mself\u001b[39;49m\u001b[39m.\u001b[39;49m_handle_constant(hasconst)\n\u001b[1;32m     89\u001b[0m \u001b[39mself\u001b[39m\u001b[39m.\u001b[39m_check_integrity()\n\u001b[1;32m     90\u001b[0m \u001b[39mself\u001b[39m\u001b[39m.\u001b[39m_cache \u001b[39m=\u001b[39m {}\n",
      "File \u001b[0;32m~/anaconda3/lib/python3.9/site-packages/statsmodels/base/data.py:134\u001b[0m, in \u001b[0;36mModelData._handle_constant\u001b[0;34m(self, hasconst)\u001b[0m\n\u001b[1;32m    132\u001b[0m exog_max \u001b[39m=\u001b[39m np\u001b[39m.\u001b[39mmax(\u001b[39mself\u001b[39m\u001b[39m.\u001b[39mexog, axis\u001b[39m=\u001b[39m\u001b[39m0\u001b[39m)\n\u001b[1;32m    133\u001b[0m \u001b[39mif\u001b[39;00m \u001b[39mnot\u001b[39;00m np\u001b[39m.\u001b[39misfinite(exog_max)\u001b[39m.\u001b[39mall():\n\u001b[0;32m--> 134\u001b[0m     \u001b[39mraise\u001b[39;00m MissingDataError(\u001b[39m'\u001b[39m\u001b[39mexog contains inf or nans\u001b[39m\u001b[39m'\u001b[39m)\n\u001b[1;32m    135\u001b[0m exog_min \u001b[39m=\u001b[39m np\u001b[39m.\u001b[39mmin(\u001b[39mself\u001b[39m\u001b[39m.\u001b[39mexog, axis\u001b[39m=\u001b[39m\u001b[39m0\u001b[39m)\n\u001b[1;32m    136\u001b[0m const_idx \u001b[39m=\u001b[39m np\u001b[39m.\u001b[39mwhere(exog_max \u001b[39m==\u001b[39m exog_min)[\u001b[39m0\u001b[39m]\u001b[39m.\u001b[39msqueeze()\n",
      "\u001b[0;31mMissingDataError\u001b[0m: exog contains inf or nans"
     ]
    }
   ],
   "source": [
    "\n",
    "# Add a constant term to the independent variable\n",
    "X = sm.add_constant(X)\n",
    "\n",
    "# Fit the linear model\n",
    "model = sm.OLS(y, X)\n",
    "results = model.fit()\n",
    "\n",
    "# Print the model summary\n",
    "print(results.summary())"
   ]
  }
 ],
 "metadata": {
  "kernelspec": {
   "display_name": "Python 3 (ipykernel)",
   "language": "python",
   "name": "python3"
  },
  "language_info": {
   "codemirror_mode": {
    "name": "ipython",
    "version": 3
   },
   "file_extension": ".py",
   "mimetype": "text/x-python",
   "name": "python",
   "nbconvert_exporter": "python",
   "pygments_lexer": "ipython3",
   "version": "3.9.16"
  }
 },
 "nbformat": 4,
 "nbformat_minor": 4
}
