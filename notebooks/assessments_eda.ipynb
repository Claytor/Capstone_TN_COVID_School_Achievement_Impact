{
 "cells": [
  {
   "cell_type": "markdown",
   "metadata": {},
   "source": [
    "# Exploration for Reported Assessment Results and Suppressed Assessment Information"
   ]
  },
  {
   "cell_type": "markdown",
   "metadata": {},
   "source": [
    "## Imports and Such"
   ]
  },
  {
   "cell_type": "code",
   "execution_count": 1,
   "metadata": {},
   "outputs": [],
   "source": [
    "import pandas as pd\n",
    "import numpy as np\n",
    "import plotly.express as px\n",
    "import geopandas as gpd\n",
    "from shapely.geometry import Point"
   ]
  },
  {
   "cell_type": "code",
   "execution_count": 2,
   "metadata": {},
   "outputs": [],
   "source": [
    "# Import assessment data minus fully suppressed scores\n",
    "assessments = pd.read_pickle('../data/school_based/assessments_clean.pkl')\n",
    "\n",
    "# Import Suppressed outlier data\n",
    "suppressed = pd.read_pickle ('../data/school_based/full_suppression.pkl')\n",
    "\n",
    "# Import Tennessee School District Geometry\n",
    "tn_leas = gpd.read_file('../data/tn_leas.shp')"
   ]
  },
  {
   "cell_type": "markdown",
   "metadata": {},
   "source": [
    "## Listy McListface - A Place to look at the lists in my dataframe."
   ]
  },
  {
   "cell_type": "code",
   "execution_count": 3,
   "metadata": {
    "collapsed": true,
    "jupyter": {
     "outputs_hidden": true
    },
    "tags": []
   },
   "outputs": [
    {
     "name": "stdout",
     "output_type": "stream",
     "text": [
      "<class 'geopandas.geodataframe.GeoDataFrame'>\n",
      "Index: 335452 entries, 0 to 381480\n",
      "Data columns (total 27 columns):\n",
      " #   Column              Non-Null Count   Dtype   \n",
      "---  ------              --------------   -----   \n",
      " 0   year                335452 non-null  int64   \n",
      " 1   system_name         335452 non-null  object  \n",
      " 2   school_name         335452 non-null  object  \n",
      " 3   test                335452 non-null  object  \n",
      " 4   subject             335452 non-null  object  \n",
      " 5   subject_area        335452 non-null  object  \n",
      " 6   student_group       335452 non-null  object  \n",
      " 7   valid_tests         335452 non-null  float64 \n",
      " 8   pct_met_exceeded    335452 non-null  float64 \n",
      " 9   system              335452 non-null  object  \n",
      " 10  school              335452 non-null  object  \n",
      " 11  school_lvl          335452 non-null  object  \n",
      " 12  tot_enrolled        335452 non-null  object  \n",
      " 13  fte_teachers        334603 non-null  float64 \n",
      " 14  stu_tchr_ratio      334603 non-null  float64 \n",
      " 15  school_type         335452 non-null  object  \n",
      " 16  magnet              335452 non-null  int64   \n",
      " 17  charter             335452 non-null  int64   \n",
      " 18  virtual             335452 non-null  object  \n",
      " 19  title_1             335452 non-null  object  \n",
      " 20  lat                 335452 non-null  float64 \n",
      " 21  long                335452 non-null  float64 \n",
      " 22  locale              335452 non-null  object  \n",
      " 23  geometry            335452 non-null  geometry\n",
      " 24  pct_met_exceeded_w  335452 non-null  float64 \n",
      " 25  stu_tchr_ratio_w    334603 non-null  float64 \n",
      " 26  fte_teachers_w      334603 non-null  float64 \n",
      "dtypes: float64(9), geometry(1), int64(3), object(14)\n",
      "memory usage: 71.7+ MB\n"
     ]
    }
   ],
   "source": [
    "# Assessments Info\n",
    "assessments.info()"
   ]
  },
  {
   "cell_type": "code",
   "execution_count": 4,
   "metadata": {
    "collapsed": true,
    "jupyter": {
     "outputs_hidden": true
    },
    "tags": []
   },
   "outputs": [
    {
     "data": {
      "text/plain": [
       "['All Students',\n",
       " 'American Indian or Alaska Native',\n",
       " 'Asian',\n",
       " 'Black or African American',\n",
       " 'Black/Hispanic/Native American',\n",
       " 'Economically Disadvantaged',\n",
       " 'English Learner Transitional 1-4',\n",
       " 'English Learners',\n",
       " 'English Learners with Transitional 1-4',\n",
       " 'Female',\n",
       " 'Gifted',\n",
       " 'Hispanic',\n",
       " 'Male',\n",
       " 'Native Hawaiian or Other Pacific Islander',\n",
       " 'Non-Black/Hispanic/Native American',\n",
       " 'Non-Economically Disadvantaged',\n",
       " 'Non-English Learners/Transitional 1-4',\n",
       " 'Non-Students with Disabilities',\n",
       " 'Students with Disabilities',\n",
       " 'Super Subgroup',\n",
       " 'White']"
      ]
     },
     "execution_count": 4,
     "metadata": {},
     "output_type": "execute_result"
    }
   ],
   "source": [
    "# Student Groups\n",
    "student_group_list = np.unique(assessments['student_group'].values).tolist()\n",
    "student_group_list"
   ]
  },
  {
   "cell_type": "code",
   "execution_count": 5,
   "metadata": {},
   "outputs": [
    {
     "data": {
      "text/plain": [
       "['1-Regular school',\n",
       " '2-Special education school',\n",
       " '4-Alternative Education School']"
      ]
     },
     "execution_count": 5,
     "metadata": {},
     "output_type": "execute_result"
    }
   ],
   "source": [
    "# School Types\n",
    "school_type_list = np.unique(assessments['school_type'].values).tolist()\n",
    "school_type_list"
   ]
  },
  {
   "cell_type": "code",
   "execution_count": 6,
   "metadata": {},
   "outputs": [
    {
     "data": {
      "text/plain": [
       "['ELA', 'Math', 'Science', 'Social Studies']"
      ]
     },
     "execution_count": 6,
     "metadata": {},
     "output_type": "execute_result"
    }
   ],
   "source": [
    "# Subject Areas\n",
    "subject_area_list = np.unique(assessments['subject_area'].values).tolist()\n",
    "subject_area_list"
   ]
  },
  {
   "cell_type": "markdown",
   "metadata": {},
   "source": [
    "## Unsuppressed: Broad Overview of Results"
   ]
  },
  {
   "cell_type": "markdown",
   "metadata": {},
   "source": [
    "### Overall Reported Proficiencies by School-Level, Subject Area, and Year."
   ]
  },
  {
   "cell_type": "code",
   "execution_count": 7,
   "metadata": {},
   "outputs": [
    {
     "data": {
      "text/html": [
       "<div>\n",
       "<style scoped>\n",
       "    .dataframe tbody tr th:only-of-type {\n",
       "        vertical-align: middle;\n",
       "    }\n",
       "\n",
       "    .dataframe tbody tr th {\n",
       "        vertical-align: top;\n",
       "    }\n",
       "\n",
       "    .dataframe thead th {\n",
       "        text-align: right;\n",
       "    }\n",
       "</style>\n",
       "<table border=\"1\" class=\"dataframe\">\n",
       "  <thead>\n",
       "    <tr style=\"text-align: right;\">\n",
       "      <th>year</th>\n",
       "      <th>school_lvl</th>\n",
       "      <th>subject_area</th>\n",
       "      <th>2018</th>\n",
       "      <th>2019</th>\n",
       "      <th>2020</th>\n",
       "      <th>2021</th>\n",
       "      <th>2022</th>\n",
       "    </tr>\n",
       "  </thead>\n",
       "  <tbody>\n",
       "    <tr>\n",
       "      <th>0</th>\n",
       "      <td>Elementary</td>\n",
       "      <td>ELA</td>\n",
       "      <td>0.313354</td>\n",
       "      <td>0.317439</td>\n",
       "      <td>NaN</td>\n",
       "      <td>0.288133</td>\n",
       "      <td>0.332412</td>\n",
       "    </tr>\n",
       "    <tr>\n",
       "      <th>1</th>\n",
       "      <td>Elementary</td>\n",
       "      <td>Math</td>\n",
       "      <td>0.351674</td>\n",
       "      <td>0.402860</td>\n",
       "      <td>NaN</td>\n",
       "      <td>0.308109</td>\n",
       "      <td>0.338107</td>\n",
       "    </tr>\n",
       "    <tr>\n",
       "      <th>2</th>\n",
       "      <td>Elementary</td>\n",
       "      <td>Science</td>\n",
       "      <td>0.519245</td>\n",
       "      <td>NaN</td>\n",
       "      <td>NaN</td>\n",
       "      <td>0.353617</td>\n",
       "      <td>0.367404</td>\n",
       "    </tr>\n",
       "    <tr>\n",
       "      <th>3</th>\n",
       "      <td>Elementary</td>\n",
       "      <td>Social Studies</td>\n",
       "      <td>0.338689</td>\n",
       "      <td>0.345175</td>\n",
       "      <td>NaN</td>\n",
       "      <td>0.328732</td>\n",
       "      <td>0.364729</td>\n",
       "    </tr>\n",
       "    <tr>\n",
       "      <th>4</th>\n",
       "      <td>High</td>\n",
       "      <td>ELA</td>\n",
       "      <td>0.269997</td>\n",
       "      <td>0.331378</td>\n",
       "      <td>NaN</td>\n",
       "      <td>0.294335</td>\n",
       "      <td>0.348687</td>\n",
       "    </tr>\n",
       "    <tr>\n",
       "      <th>5</th>\n",
       "      <td>High</td>\n",
       "      <td>Math</td>\n",
       "      <td>0.231409</td>\n",
       "      <td>0.260610</td>\n",
       "      <td>NaN</td>\n",
       "      <td>0.201373</td>\n",
       "      <td>0.229202</td>\n",
       "    </tr>\n",
       "    <tr>\n",
       "      <th>6</th>\n",
       "      <td>High</td>\n",
       "      <td>Science</td>\n",
       "      <td>0.400077</td>\n",
       "      <td>NaN</td>\n",
       "      <td>NaN</td>\n",
       "      <td>0.349336</td>\n",
       "      <td>0.355829</td>\n",
       "    </tr>\n",
       "    <tr>\n",
       "      <th>7</th>\n",
       "      <td>High</td>\n",
       "      <td>Social Studies</td>\n",
       "      <td>0.270426</td>\n",
       "      <td>0.286531</td>\n",
       "      <td>NaN</td>\n",
       "      <td>0.305459</td>\n",
       "      <td>0.343403</td>\n",
       "    </tr>\n",
       "    <tr>\n",
       "      <th>8</th>\n",
       "      <td>Middle</td>\n",
       "      <td>ELA</td>\n",
       "      <td>0.272938</td>\n",
       "      <td>0.289341</td>\n",
       "      <td>NaN</td>\n",
       "      <td>0.244374</td>\n",
       "      <td>0.294892</td>\n",
       "    </tr>\n",
       "    <tr>\n",
       "      <th>9</th>\n",
       "      <td>Middle</td>\n",
       "      <td>Math</td>\n",
       "      <td>0.362565</td>\n",
       "      <td>0.390276</td>\n",
       "      <td>NaN</td>\n",
       "      <td>0.341143</td>\n",
       "      <td>0.357363</td>\n",
       "    </tr>\n",
       "    <tr>\n",
       "      <th>10</th>\n",
       "      <td>Middle</td>\n",
       "      <td>Science</td>\n",
       "      <td>0.511250</td>\n",
       "      <td>NaN</td>\n",
       "      <td>NaN</td>\n",
       "      <td>0.322881</td>\n",
       "      <td>0.326773</td>\n",
       "    </tr>\n",
       "    <tr>\n",
       "      <th>11</th>\n",
       "      <td>Middle</td>\n",
       "      <td>Social Studies</td>\n",
       "      <td>0.337043</td>\n",
       "      <td>0.359389</td>\n",
       "      <td>NaN</td>\n",
       "      <td>0.334036</td>\n",
       "      <td>0.383663</td>\n",
       "    </tr>\n",
       "    <tr>\n",
       "      <th>12</th>\n",
       "      <td>Other</td>\n",
       "      <td>ELA</td>\n",
       "      <td>0.307405</td>\n",
       "      <td>0.327303</td>\n",
       "      <td>NaN</td>\n",
       "      <td>0.316126</td>\n",
       "      <td>0.344306</td>\n",
       "    </tr>\n",
       "    <tr>\n",
       "      <th>13</th>\n",
       "      <td>Other</td>\n",
       "      <td>Math</td>\n",
       "      <td>0.285647</td>\n",
       "      <td>0.308662</td>\n",
       "      <td>NaN</td>\n",
       "      <td>0.244099</td>\n",
       "      <td>0.240873</td>\n",
       "    </tr>\n",
       "    <tr>\n",
       "      <th>14</th>\n",
       "      <td>Other</td>\n",
       "      <td>Science</td>\n",
       "      <td>0.413550</td>\n",
       "      <td>NaN</td>\n",
       "      <td>NaN</td>\n",
       "      <td>0.365386</td>\n",
       "      <td>0.347952</td>\n",
       "    </tr>\n",
       "    <tr>\n",
       "      <th>15</th>\n",
       "      <td>Other</td>\n",
       "      <td>Social Studies</td>\n",
       "      <td>0.304003</td>\n",
       "      <td>0.296822</td>\n",
       "      <td>NaN</td>\n",
       "      <td>0.349833</td>\n",
       "      <td>0.327282</td>\n",
       "    </tr>\n",
       "    <tr>\n",
       "      <th>16</th>\n",
       "      <td>Secondary</td>\n",
       "      <td>ELA</td>\n",
       "      <td>0.293484</td>\n",
       "      <td>0.276567</td>\n",
       "      <td>NaN</td>\n",
       "      <td>0.359758</td>\n",
       "      <td>0.370127</td>\n",
       "    </tr>\n",
       "    <tr>\n",
       "      <th>17</th>\n",
       "      <td>Secondary</td>\n",
       "      <td>Math</td>\n",
       "      <td>0.308447</td>\n",
       "      <td>0.384527</td>\n",
       "      <td>NaN</td>\n",
       "      <td>0.292991</td>\n",
       "      <td>0.387432</td>\n",
       "    </tr>\n",
       "    <tr>\n",
       "      <th>18</th>\n",
       "      <td>Secondary</td>\n",
       "      <td>Science</td>\n",
       "      <td>0.443152</td>\n",
       "      <td>NaN</td>\n",
       "      <td>NaN</td>\n",
       "      <td>0.505515</td>\n",
       "      <td>0.530455</td>\n",
       "    </tr>\n",
       "    <tr>\n",
       "      <th>19</th>\n",
       "      <td>Secondary</td>\n",
       "      <td>Social Studies</td>\n",
       "      <td>0.277826</td>\n",
       "      <td>0.428159</td>\n",
       "      <td>NaN</td>\n",
       "      <td>0.291515</td>\n",
       "      <td>0.525471</td>\n",
       "    </tr>\n",
       "  </tbody>\n",
       "</table>\n",
       "</div>"
      ],
      "text/plain": [
       "year  school_lvl    subject_area      2018      2019  2020      2021      2022\n",
       "0     Elementary             ELA  0.313354  0.317439   NaN  0.288133  0.332412\n",
       "1     Elementary            Math  0.351674  0.402860   NaN  0.308109  0.338107\n",
       "2     Elementary         Science  0.519245       NaN   NaN  0.353617  0.367404\n",
       "3     Elementary  Social Studies  0.338689  0.345175   NaN  0.328732  0.364729\n",
       "4           High             ELA  0.269997  0.331378   NaN  0.294335  0.348687\n",
       "5           High            Math  0.231409  0.260610   NaN  0.201373  0.229202\n",
       "6           High         Science  0.400077       NaN   NaN  0.349336  0.355829\n",
       "7           High  Social Studies  0.270426  0.286531   NaN  0.305459  0.343403\n",
       "8         Middle             ELA  0.272938  0.289341   NaN  0.244374  0.294892\n",
       "9         Middle            Math  0.362565  0.390276   NaN  0.341143  0.357363\n",
       "10        Middle         Science  0.511250       NaN   NaN  0.322881  0.326773\n",
       "11        Middle  Social Studies  0.337043  0.359389   NaN  0.334036  0.383663\n",
       "12         Other             ELA  0.307405  0.327303   NaN  0.316126  0.344306\n",
       "13         Other            Math  0.285647  0.308662   NaN  0.244099  0.240873\n",
       "14         Other         Science  0.413550       NaN   NaN  0.365386  0.347952\n",
       "15         Other  Social Studies  0.304003  0.296822   NaN  0.349833  0.327282\n",
       "16     Secondary             ELA  0.293484  0.276567   NaN  0.359758  0.370127\n",
       "17     Secondary            Math  0.308447  0.384527   NaN  0.292991  0.387432\n",
       "18     Secondary         Science  0.443152       NaN   NaN  0.505515  0.530455\n",
       "19     Secondary  Social Studies  0.277826  0.428159   NaN  0.291515  0.525471"
      ]
     },
     "execution_count": 7,
     "metadata": {},
     "output_type": "execute_result"
    }
   ],
   "source": [
    "# Subject Area Pivot Table\n",
    "subject_area_pivot = pd.pivot_table(assessments,\n",
    "                       values = 'pct_met_exceeded',\n",
    "                       index = ['school_lvl', 'subject_area'],\n",
    "                       columns = 'year',\n",
    "                       aggfunc = np.mean)\n",
    "\n",
    "# Get the current list of years\n",
    "years = list(subject_area_pivot.columns)\n",
    "\n",
    "# Include 2020 as nan values to show a gap when testing did not occur\n",
    "years.insert(years.index(2021), 2020)\n",
    "\n",
    "# Reindex and set the columns to years\n",
    "subject_area_pivot = subject_area_pivot.reindex(columns=years)\n",
    "\n",
    "# Reset index to convert multi-index into columns\n",
    "subject_area_pivot.reset_index(inplace=True)\n",
    "\n",
    "subject_area_pivot"
   ]
  },
  {
   "cell_type": "markdown",
   "metadata": {},
   "source": [
    "### 🏋️ Weighting Metrics Based on Valid Tests"
   ]
  },
  {
   "cell_type": "markdown",
   "metadata": {},
   "source": [
    "#### 🏫 List of columns in assessments (school level) for use in district analysis."
   ]
  },
  {
   "cell_type": "code",
   "execution_count": 8,
   "metadata": {},
   "outputs": [],
   "source": [
    "# Let's figure how how I can pivot this    \n",
    "districts = assessments[['locale',\n",
    "                         'year',\n",
    "                         'system_name', \n",
    "                         'school_lvl', \n",
    "                         'subject_area', \n",
    "                         'student_group', \n",
    "                         'pct_met_exceeded_w', \n",
    "                         'school_type',\n",
    "                         'magnet',\n",
    "                         'charter',\n",
    "                         'title_1',\n",
    "                         'fte_teachers_w',\n",
    "                         'stu_tchr_ratio_w',\n",
    "                         'valid_tests']]"
   ]
  },
  {
   "cell_type": "markdown",
   "metadata": {},
   "source": [
    "#### 📇 Indices for Weight Pivots"
   ]
  },
  {
   "cell_type": "code",
   "execution_count": 9,
   "metadata": {},
   "outputs": [],
   "source": [
    "# Indices for pivots\n",
    "indices = ['system_name',  # School District \n",
    "           'school_lvl', # Level of school (Elem, Middle, High)\n",
    "           'school_type', # \n",
    "           'magnet', \n",
    "           'charter', \n",
    "           'title_1', \n",
    "           'locale', \n",
    "           'subject_area', \n",
    "           'student_group']\n",
    "\n",
    "# # Calculate change in valid test scores from the year before schools closed down to the year after\n",
    "# # Negative values indicate decrease from pre-pandemic. Positive values indicate an increase\n",
    "# weight['1y_post'] = weight[2021] - weight[2019]\n",
    "# # Calculate the change in valid test scores 2 years post-pandemic\n",
    "# # Negative values indicate decrease in the first two years post-pandemic\n",
    "# weight['2y_post'] = weight[2022] - weight[2021]\n",
    "# # Calculate the difference between the current valid test scores and pre-pandemic\n",
    "# # Negative values indicate scores are below pre-pandemic levels\n",
    "# weight['pre_current'] = weight[2022] - weight[2019]\n",
    "# # Look at the pivot\n",
    "# weight"
   ]
  },
  {
   "cell_type": "markdown",
   "metadata": {},
   "source": [
    "#### 🏋️➕ Sum of Valid_Test-Weighted Scores for pct_met_exceeded, fte_teachers, and student_tchr_ratio "
   ]
  },
  {
   "cell_type": "code",
   "execution_count": 10,
   "metadata": {},
   "outputs": [
    {
     "data": {
      "text/html": [
       "<div>\n",
       "<style scoped>\n",
       "    .dataframe tbody tr th:only-of-type {\n",
       "        vertical-align: middle;\n",
       "    }\n",
       "\n",
       "    .dataframe tbody tr th {\n",
       "        vertical-align: top;\n",
       "    }\n",
       "\n",
       "    .dataframe thead tr th {\n",
       "        text-align: left;\n",
       "    }\n",
       "\n",
       "    .dataframe thead tr:last-of-type th {\n",
       "        text-align: right;\n",
       "    }\n",
       "</style>\n",
       "<table border=\"1\" class=\"dataframe\">\n",
       "  <thead>\n",
       "    <tr>\n",
       "      <th></th>\n",
       "      <th></th>\n",
       "      <th></th>\n",
       "      <th></th>\n",
       "      <th></th>\n",
       "      <th></th>\n",
       "      <th></th>\n",
       "      <th></th>\n",
       "      <th></th>\n",
       "      <th colspan=\"4\" halign=\"left\">pct_met_exceeded</th>\n",
       "      <th colspan=\"4\" halign=\"left\">fte_teachers</th>\n",
       "      <th colspan=\"4\" halign=\"left\">stu_tchr_ratio</th>\n",
       "    </tr>\n",
       "    <tr>\n",
       "      <th></th>\n",
       "      <th></th>\n",
       "      <th></th>\n",
       "      <th></th>\n",
       "      <th></th>\n",
       "      <th></th>\n",
       "      <th></th>\n",
       "      <th></th>\n",
       "      <th>year</th>\n",
       "      <th>2018</th>\n",
       "      <th>2019</th>\n",
       "      <th>2021</th>\n",
       "      <th>2022</th>\n",
       "      <th>2018</th>\n",
       "      <th>2019</th>\n",
       "      <th>2021</th>\n",
       "      <th>2022</th>\n",
       "      <th>2018</th>\n",
       "      <th>2019</th>\n",
       "      <th>2021</th>\n",
       "      <th>2022</th>\n",
       "    </tr>\n",
       "    <tr>\n",
       "      <th>system_name</th>\n",
       "      <th>school_lvl</th>\n",
       "      <th>school_type</th>\n",
       "      <th>magnet</th>\n",
       "      <th>charter</th>\n",
       "      <th>title_1</th>\n",
       "      <th>locale</th>\n",
       "      <th>subject_area</th>\n",
       "      <th>student_group</th>\n",
       "      <th></th>\n",
       "      <th></th>\n",
       "      <th></th>\n",
       "      <th></th>\n",
       "      <th></th>\n",
       "      <th></th>\n",
       "      <th></th>\n",
       "      <th></th>\n",
       "      <th></th>\n",
       "      <th></th>\n",
       "      <th></th>\n",
       "      <th></th>\n",
       "    </tr>\n",
       "  </thead>\n",
       "  <tbody>\n",
       "    <tr>\n",
       "      <th rowspan=\"5\" valign=\"top\">Achievement School District</th>\n",
       "      <th rowspan=\"5\" valign=\"top\">Elementary</th>\n",
       "      <th rowspan=\"5\" valign=\"top\">1-Regular school</th>\n",
       "      <th rowspan=\"5\" valign=\"top\">0</th>\n",
       "      <th rowspan=\"5\" valign=\"top\">0</th>\n",
       "      <th rowspan=\"5\" valign=\"top\">1</th>\n",
       "      <th rowspan=\"5\" valign=\"top\">11-City: Large</th>\n",
       "      <th rowspan=\"5\" valign=\"top\">ELA</th>\n",
       "      <th>All Students</th>\n",
       "      <td>36.032</td>\n",
       "      <td>33.021</td>\n",
       "      <td>8.004</td>\n",
       "      <td>24.007</td>\n",
       "      <td>6363.2</td>\n",
       "      <td>5990.2</td>\n",
       "      <td>1867.75</td>\n",
       "      <td>2740.80</td>\n",
       "      <td>7574.44</td>\n",
       "      <td>8693.85</td>\n",
       "      <td>2121.56</td>\n",
       "      <td>4984.68</td>\n",
       "    </tr>\n",
       "    <tr>\n",
       "      <th>Black or African American</th>\n",
       "      <td>34.028</td>\n",
       "      <td>31.004</td>\n",
       "      <td>4.028</td>\n",
       "      <td>21.949</td>\n",
       "      <td>6040.3</td>\n",
       "      <td>5812.6</td>\n",
       "      <td>1159.00</td>\n",
       "      <td>2632.45</td>\n",
       "      <td>7218.27</td>\n",
       "      <td>8439.33</td>\n",
       "      <td>1255.52</td>\n",
       "      <td>4796.98</td>\n",
       "    </tr>\n",
       "    <tr>\n",
       "      <th>Black/Hispanic/Native American</th>\n",
       "      <td>34.030</td>\n",
       "      <td>31.097</td>\n",
       "      <td>8.026</td>\n",
       "      <td>22.015</td>\n",
       "      <td>6183.0</td>\n",
       "      <td>5947.2</td>\n",
       "      <td>1852.50</td>\n",
       "      <td>2723.96</td>\n",
       "      <td>7365.75</td>\n",
       "      <td>8634.68</td>\n",
       "      <td>2105.04</td>\n",
       "      <td>4941.44</td>\n",
       "    </tr>\n",
       "    <tr>\n",
       "      <th>Economically Disadvantaged</th>\n",
       "      <td>32.996</td>\n",
       "      <td>27.936</td>\n",
       "      <td>11.021</td>\n",
       "      <td>18.024</td>\n",
       "      <td>5524.8</td>\n",
       "      <td>5080.6</td>\n",
       "      <td>2445.00</td>\n",
       "      <td>1838.10</td>\n",
       "      <td>6683.24</td>\n",
       "      <td>7355.88</td>\n",
       "      <td>3086.04</td>\n",
       "      <td>3273.15</td>\n",
       "    </tr>\n",
       "    <tr>\n",
       "      <th>Female</th>\n",
       "      <td>NaN</td>\n",
       "      <td>18.988</td>\n",
       "      <td>5.026</td>\n",
       "      <td>14.010</td>\n",
       "      <td>NaN</td>\n",
       "      <td>2678.8</td>\n",
       "      <td>925.25</td>\n",
       "      <td>1868.10</td>\n",
       "      <td>NaN</td>\n",
       "      <td>3659.84</td>\n",
       "      <td>1063.72</td>\n",
       "      <td>3097.20</td>\n",
       "    </tr>\n",
       "    <tr>\n",
       "      <th>...</th>\n",
       "      <th>...</th>\n",
       "      <th>...</th>\n",
       "      <th>...</th>\n",
       "      <th>...</th>\n",
       "      <th>...</th>\n",
       "      <th>...</th>\n",
       "      <th>...</th>\n",
       "      <th>...</th>\n",
       "      <td>...</td>\n",
       "      <td>...</td>\n",
       "      <td>...</td>\n",
       "      <td>...</td>\n",
       "      <td>...</td>\n",
       "      <td>...</td>\n",
       "      <td>...</td>\n",
       "      <td>...</td>\n",
       "      <td>...</td>\n",
       "      <td>...</td>\n",
       "      <td>...</td>\n",
       "      <td>...</td>\n",
       "    </tr>\n",
       "    <tr>\n",
       "      <th rowspan=\"5\" valign=\"top\">Wilson County</th>\n",
       "      <th rowspan=\"5\" valign=\"top\">Other</th>\n",
       "      <th rowspan=\"5\" valign=\"top\">1-Regular school</th>\n",
       "      <th rowspan=\"5\" valign=\"top\">0</th>\n",
       "      <th rowspan=\"5\" valign=\"top\">0</th>\n",
       "      <th rowspan=\"5\" valign=\"top\">0</th>\n",
       "      <th rowspan=\"5\" valign=\"top\">31-Town: Fringe</th>\n",
       "      <th rowspan=\"5\" valign=\"top\">Social Studies</th>\n",
       "      <th>Non-English Learners/Transitional 1-4</th>\n",
       "      <td>11.000</td>\n",
       "      <td>NaN</td>\n",
       "      <td>195.026</td>\n",
       "      <td>33.000</td>\n",
       "      <td>192.5</td>\n",
       "      <td>NaN</td>\n",
       "      <td>33330.18</td>\n",
       "      <td>846.50</td>\n",
       "      <td>350.00</td>\n",
       "      <td>NaN</td>\n",
       "      <td>9136.14</td>\n",
       "      <td>655.50</td>\n",
       "    </tr>\n",
       "    <tr>\n",
       "      <th>Non-Students with Disabilities</th>\n",
       "      <td>10.002</td>\n",
       "      <td>NaN</td>\n",
       "      <td>206.118</td>\n",
       "      <td>37.004</td>\n",
       "      <td>170.5</td>\n",
       "      <td>NaN</td>\n",
       "      <td>34217.67</td>\n",
       "      <td>981.94</td>\n",
       "      <td>310.00</td>\n",
       "      <td>NaN</td>\n",
       "      <td>9379.41</td>\n",
       "      <td>760.38</td>\n",
       "    </tr>\n",
       "    <tr>\n",
       "      <th>Students with Disabilities</th>\n",
       "      <td>NaN</td>\n",
       "      <td>NaN</td>\n",
       "      <td>4.991</td>\n",
       "      <td>NaN</td>\n",
       "      <td>NaN</td>\n",
       "      <td>NaN</td>\n",
       "      <td>2268.03</td>\n",
       "      <td>NaN</td>\n",
       "      <td>NaN</td>\n",
       "      <td>NaN</td>\n",
       "      <td>621.69</td>\n",
       "      <td>NaN</td>\n",
       "    </tr>\n",
       "    <tr>\n",
       "      <th>Super Subgroup</th>\n",
       "      <td>NaN</td>\n",
       "      <td>NaN</td>\n",
       "      <td>77.952</td>\n",
       "      <td>15.012</td>\n",
       "      <td>NaN</td>\n",
       "      <td>NaN</td>\n",
       "      <td>17158.14</td>\n",
       "      <td>457.11</td>\n",
       "      <td>NaN</td>\n",
       "      <td>NaN</td>\n",
       "      <td>4703.22</td>\n",
       "      <td>353.97</td>\n",
       "    </tr>\n",
       "    <tr>\n",
       "      <th>White</th>\n",
       "      <td>11.002</td>\n",
       "      <td>NaN</td>\n",
       "      <td>125.049</td>\n",
       "      <td>21.000</td>\n",
       "      <td>176.0</td>\n",
       "      <td>NaN</td>\n",
       "      <td>21595.59</td>\n",
       "      <td>592.55</td>\n",
       "      <td>320.00</td>\n",
       "      <td>NaN</td>\n",
       "      <td>5919.57</td>\n",
       "      <td>458.85</td>\n",
       "    </tr>\n",
       "  </tbody>\n",
       "</table>\n",
       "<p>56836 rows × 12 columns</p>\n",
       "</div>"
      ],
      "text/plain": [
       "                                                                                                                                                    pct_met_exceeded  \\\n",
       "year                                                                                                                                                            2018   \n",
       "system_name                 school_lvl school_type      magnet charter title_1 locale          subject_area   student_group                                            \n",
       "Achievement School District Elementary 1-Regular school 0      0       1       11-City: Large  ELA            All Students                                    36.032   \n",
       "                                                                                                              Black or African American                       34.028   \n",
       "                                                                                                              Black/Hispanic/Native American                  34.030   \n",
       "                                                                                                              Economically Disadvantaged                      32.996   \n",
       "                                                                                                              Female                                             NaN   \n",
       "...                                                                                                                                                              ...   \n",
       "Wilson County               Other      1-Regular school 0      0       0       31-Town: Fringe Social Studies Non-English Learners/Transitional 1-4           11.000   \n",
       "                                                                                                              Non-Students with Disabilities                  10.002   \n",
       "                                                                                                              Students with Disabilities                         NaN   \n",
       "                                                                                                              Super Subgroup                                     NaN   \n",
       "                                                                                                              White                                           11.002   \n",
       "\n",
       "                                                                                                                                                             \\\n",
       "year                                                                                                                                                   2019   \n",
       "system_name                 school_lvl school_type      magnet charter title_1 locale          subject_area   student_group                                   \n",
       "Achievement School District Elementary 1-Regular school 0      0       1       11-City: Large  ELA            All Students                           33.021   \n",
       "                                                                                                              Black or African American              31.004   \n",
       "                                                                                                              Black/Hispanic/Native American         31.097   \n",
       "                                                                                                              Economically Disadvantaged             27.936   \n",
       "                                                                                                              Female                                 18.988   \n",
       "...                                                                                                                                                     ...   \n",
       "Wilson County               Other      1-Regular school 0      0       0       31-Town: Fringe Social Studies Non-English Learners/Transitional 1-4     NaN   \n",
       "                                                                                                              Non-Students with Disabilities            NaN   \n",
       "                                                                                                              Students with Disabilities                NaN   \n",
       "                                                                                                              Super Subgroup                            NaN   \n",
       "                                                                                                              White                                     NaN   \n",
       "\n",
       "                                                                                                                                                              \\\n",
       "year                                                                                                                                                    2021   \n",
       "system_name                 school_lvl school_type      magnet charter title_1 locale          subject_area   student_group                                    \n",
       "Achievement School District Elementary 1-Regular school 0      0       1       11-City: Large  ELA            All Students                             8.004   \n",
       "                                                                                                              Black or African American                4.028   \n",
       "                                                                                                              Black/Hispanic/Native American           8.026   \n",
       "                                                                                                              Economically Disadvantaged              11.021   \n",
       "                                                                                                              Female                                   5.026   \n",
       "...                                                                                                                                                      ...   \n",
       "Wilson County               Other      1-Regular school 0      0       0       31-Town: Fringe Social Studies Non-English Learners/Transitional 1-4  195.026   \n",
       "                                                                                                              Non-Students with Disabilities         206.118   \n",
       "                                                                                                              Students with Disabilities               4.991   \n",
       "                                                                                                              Super Subgroup                          77.952   \n",
       "                                                                                                              White                                  125.049   \n",
       "\n",
       "                                                                                                                                                             \\\n",
       "year                                                                                                                                                   2022   \n",
       "system_name                 school_lvl school_type      magnet charter title_1 locale          subject_area   student_group                                   \n",
       "Achievement School District Elementary 1-Regular school 0      0       1       11-City: Large  ELA            All Students                           24.007   \n",
       "                                                                                                              Black or African American              21.949   \n",
       "                                                                                                              Black/Hispanic/Native American         22.015   \n",
       "                                                                                                              Economically Disadvantaged             18.024   \n",
       "                                                                                                              Female                                 14.010   \n",
       "...                                                                                                                                                     ...   \n",
       "Wilson County               Other      1-Regular school 0      0       0       31-Town: Fringe Social Studies Non-English Learners/Transitional 1-4  33.000   \n",
       "                                                                                                              Non-Students with Disabilities         37.004   \n",
       "                                                                                                              Students with Disabilities                NaN   \n",
       "                                                                                                              Super Subgroup                         15.012   \n",
       "                                                                                                              White                                  21.000   \n",
       "\n",
       "                                                                                                                                                    fte_teachers  \\\n",
       "year                                                                                                                                                        2018   \n",
       "system_name                 school_lvl school_type      magnet charter title_1 locale          subject_area   student_group                                        \n",
       "Achievement School District Elementary 1-Regular school 0      0       1       11-City: Large  ELA            All Students                                6363.2   \n",
       "                                                                                                              Black or African American                   6040.3   \n",
       "                                                                                                              Black/Hispanic/Native American              6183.0   \n",
       "                                                                                                              Economically Disadvantaged                  5524.8   \n",
       "                                                                                                              Female                                         NaN   \n",
       "...                                                                                                                                                          ...   \n",
       "Wilson County               Other      1-Regular school 0      0       0       31-Town: Fringe Social Studies Non-English Learners/Transitional 1-4        192.5   \n",
       "                                                                                                              Non-Students with Disabilities               170.5   \n",
       "                                                                                                              Students with Disabilities                     NaN   \n",
       "                                                                                                              Super Subgroup                                 NaN   \n",
       "                                                                                                              White                                        176.0   \n",
       "\n",
       "                                                                                                                                                             \\\n",
       "year                                                                                                                                                   2019   \n",
       "system_name                 school_lvl school_type      magnet charter title_1 locale          subject_area   student_group                                   \n",
       "Achievement School District Elementary 1-Regular school 0      0       1       11-City: Large  ELA            All Students                           5990.2   \n",
       "                                                                                                              Black or African American              5812.6   \n",
       "                                                                                                              Black/Hispanic/Native American         5947.2   \n",
       "                                                                                                              Economically Disadvantaged             5080.6   \n",
       "                                                                                                              Female                                 2678.8   \n",
       "...                                                                                                                                                     ...   \n",
       "Wilson County               Other      1-Regular school 0      0       0       31-Town: Fringe Social Studies Non-English Learners/Transitional 1-4     NaN   \n",
       "                                                                                                              Non-Students with Disabilities            NaN   \n",
       "                                                                                                              Students with Disabilities                NaN   \n",
       "                                                                                                              Super Subgroup                            NaN   \n",
       "                                                                                                              White                                     NaN   \n",
       "\n",
       "                                                                                                                                                               \\\n",
       "year                                                                                                                                                     2021   \n",
       "system_name                 school_lvl school_type      magnet charter title_1 locale          subject_area   student_group                                     \n",
       "Achievement School District Elementary 1-Regular school 0      0       1       11-City: Large  ELA            All Students                            1867.75   \n",
       "                                                                                                              Black or African American               1159.00   \n",
       "                                                                                                              Black/Hispanic/Native American          1852.50   \n",
       "                                                                                                              Economically Disadvantaged              2445.00   \n",
       "                                                                                                              Female                                   925.25   \n",
       "...                                                                                                                                                       ...   \n",
       "Wilson County               Other      1-Regular school 0      0       0       31-Town: Fringe Social Studies Non-English Learners/Transitional 1-4  33330.18   \n",
       "                                                                                                              Non-Students with Disabilities         34217.67   \n",
       "                                                                                                              Students with Disabilities              2268.03   \n",
       "                                                                                                              Super Subgroup                         17158.14   \n",
       "                                                                                                              White                                  21595.59   \n",
       "\n",
       "                                                                                                                                                              \\\n",
       "year                                                                                                                                                    2022   \n",
       "system_name                 school_lvl school_type      magnet charter title_1 locale          subject_area   student_group                                    \n",
       "Achievement School District Elementary 1-Regular school 0      0       1       11-City: Large  ELA            All Students                           2740.80   \n",
       "                                                                                                              Black or African American              2632.45   \n",
       "                                                                                                              Black/Hispanic/Native American         2723.96   \n",
       "                                                                                                              Economically Disadvantaged             1838.10   \n",
       "                                                                                                              Female                                 1868.10   \n",
       "...                                                                                                                                                      ...   \n",
       "Wilson County               Other      1-Regular school 0      0       0       31-Town: Fringe Social Studies Non-English Learners/Transitional 1-4   846.50   \n",
       "                                                                                                              Non-Students with Disabilities          981.94   \n",
       "                                                                                                              Students with Disabilities                 NaN   \n",
       "                                                                                                              Super Subgroup                          457.11   \n",
       "                                                                                                              White                                   592.55   \n",
       "\n",
       "                                                                                                                                                    stu_tchr_ratio  \\\n",
       "year                                                                                                                                                          2018   \n",
       "system_name                 school_lvl school_type      magnet charter title_1 locale          subject_area   student_group                                          \n",
       "Achievement School District Elementary 1-Regular school 0      0       1       11-City: Large  ELA            All Students                                 7574.44   \n",
       "                                                                                                              Black or African American                    7218.27   \n",
       "                                                                                                              Black/Hispanic/Native American               7365.75   \n",
       "                                                                                                              Economically Disadvantaged                   6683.24   \n",
       "                                                                                                              Female                                           NaN   \n",
       "...                                                                                                                                                            ...   \n",
       "Wilson County               Other      1-Regular school 0      0       0       31-Town: Fringe Social Studies Non-English Learners/Transitional 1-4         350.00   \n",
       "                                                                                                              Non-Students with Disabilities                310.00   \n",
       "                                                                                                              Students with Disabilities                       NaN   \n",
       "                                                                                                              Super Subgroup                                   NaN   \n",
       "                                                                                                              White                                         320.00   \n",
       "\n",
       "                                                                                                                                                              \\\n",
       "year                                                                                                                                                    2019   \n",
       "system_name                 school_lvl school_type      magnet charter title_1 locale          subject_area   student_group                                    \n",
       "Achievement School District Elementary 1-Regular school 0      0       1       11-City: Large  ELA            All Students                           8693.85   \n",
       "                                                                                                              Black or African American              8439.33   \n",
       "                                                                                                              Black/Hispanic/Native American         8634.68   \n",
       "                                                                                                              Economically Disadvantaged             7355.88   \n",
       "                                                                                                              Female                                 3659.84   \n",
       "...                                                                                                                                                      ...   \n",
       "Wilson County               Other      1-Regular school 0      0       0       31-Town: Fringe Social Studies Non-English Learners/Transitional 1-4      NaN   \n",
       "                                                                                                              Non-Students with Disabilities             NaN   \n",
       "                                                                                                              Students with Disabilities                 NaN   \n",
       "                                                                                                              Super Subgroup                             NaN   \n",
       "                                                                                                              White                                      NaN   \n",
       "\n",
       "                                                                                                                                                              \\\n",
       "year                                                                                                                                                    2021   \n",
       "system_name                 school_lvl school_type      magnet charter title_1 locale          subject_area   student_group                                    \n",
       "Achievement School District Elementary 1-Regular school 0      0       1       11-City: Large  ELA            All Students                           2121.56   \n",
       "                                                                                                              Black or African American              1255.52   \n",
       "                                                                                                              Black/Hispanic/Native American         2105.04   \n",
       "                                                                                                              Economically Disadvantaged             3086.04   \n",
       "                                                                                                              Female                                 1063.72   \n",
       "...                                                                                                                                                      ...   \n",
       "Wilson County               Other      1-Regular school 0      0       0       31-Town: Fringe Social Studies Non-English Learners/Transitional 1-4  9136.14   \n",
       "                                                                                                              Non-Students with Disabilities         9379.41   \n",
       "                                                                                                              Students with Disabilities              621.69   \n",
       "                                                                                                              Super Subgroup                         4703.22   \n",
       "                                                                                                              White                                  5919.57   \n",
       "\n",
       "                                                                                                                                                              \n",
       "year                                                                                                                                                    2022  \n",
       "system_name                 school_lvl school_type      magnet charter title_1 locale          subject_area   student_group                                   \n",
       "Achievement School District Elementary 1-Regular school 0      0       1       11-City: Large  ELA            All Students                           4984.68  \n",
       "                                                                                                              Black or African American              4796.98  \n",
       "                                                                                                              Black/Hispanic/Native American         4941.44  \n",
       "                                                                                                              Economically Disadvantaged             3273.15  \n",
       "                                                                                                              Female                                 3097.20  \n",
       "...                                                                                                                                                      ...  \n",
       "Wilson County               Other      1-Regular school 0      0       0       31-Town: Fringe Social Studies Non-English Learners/Transitional 1-4   655.50  \n",
       "                                                                                                              Non-Students with Disabilities          760.38  \n",
       "                                                                                                              Students with Disabilities                 NaN  \n",
       "                                                                                                              Super Subgroup                          353.97  \n",
       "                                                                                                              White                                   458.85  \n",
       "\n",
       "[56836 rows x 12 columns]"
      ]
     },
     "execution_count": 10,
     "metadata": {},
     "output_type": "execute_result"
    }
   ],
   "source": [
    "# Sum of valid test scores (The 🏋️)\n",
    "weight = pd.pivot_table(\n",
    "    districts,\n",
    "    values='valid_tests',  # Column to calculate the sum of valid test scores\n",
    "    index=indices,\n",
    "    columns='year',\n",
    "    aggfunc=np.sum\n",
    ")\n",
    "\n",
    "# Sum of weighted scores pivot for 'pct_met_exceeded'\n",
    "sum_weighted_proficiency = pd.pivot_table(\n",
    "    districts,\n",
    "    values='pct_met_exceeded_w', # Weighted sum of students who met or exceeded expectations\n",
    "    index=indices,\n",
    "    columns='year',\n",
    "    aggfunc=np.sum\n",
    ")\n",
    "\n",
    "# Sum of weighted scores pivot for 'fte_teachers'\n",
    "sum_weighted_fte = pd.pivot_table(\n",
    "    districts,\n",
    "    values='fte_teachers_w', # Weighted sum of full-time equivalent teachers\n",
    "    index=indices,\n",
    "    columns='year',\n",
    "    aggfunc=np.sum\n",
    ")\n",
    "\n",
    "# Sum of weighted scores pivot for 'stu_tchr_ratio'\n",
    "sum_weighted_str = pd.pivot_table(\n",
    "    districts,\n",
    "    values='stu_tchr_ratio_w', # Weighted sum of student/teacher ratios\n",
    "    index=indices,\n",
    "    columns='year',\n",
    "    aggfunc=np.sum\n",
    ")\n",
    "\n",
    "# Create a multi-level column index\n",
    "column_index = pd.MultiIndex.from_product([['pct_met_exceeded', 'fte_teachers', 'stu_tchr_ratio'], sum_weighted_proficiency.columns])\n",
    "\n",
    "# Concatenate the pivot tables horizontally\n",
    "weighted_sums_pivot = pd.concat([sum_weighted_proficiency, sum_weighted_fte, sum_weighted_str], axis=1)\n",
    "weighted_sums_pivot.columns = column_index\n",
    "\n",
    "weighted_sums_pivot"
   ]
  },
  {
   "cell_type": "markdown",
   "metadata": {},
   "source": [
    "#### 🏋️⚖️ Weighted Averages for pct_met_exceeded_w, fte_teachers_w, stu_tchr_ratio_w"
   ]
  },
  {
   "cell_type": "code",
   "execution_count": 11,
   "metadata": {},
   "outputs": [
    {
     "data": {
      "text/html": [
       "<div>\n",
       "<style scoped>\n",
       "    .dataframe tbody tr th:only-of-type {\n",
       "        vertical-align: middle;\n",
       "    }\n",
       "\n",
       "    .dataframe tbody tr th {\n",
       "        vertical-align: top;\n",
       "    }\n",
       "\n",
       "    .dataframe thead tr th {\n",
       "        text-align: left;\n",
       "    }\n",
       "\n",
       "    .dataframe thead tr:last-of-type th {\n",
       "        text-align: right;\n",
       "    }\n",
       "</style>\n",
       "<table border=\"1\" class=\"dataframe\">\n",
       "  <thead>\n",
       "    <tr>\n",
       "      <th></th>\n",
       "      <th></th>\n",
       "      <th></th>\n",
       "      <th></th>\n",
       "      <th></th>\n",
       "      <th></th>\n",
       "      <th></th>\n",
       "      <th></th>\n",
       "      <th></th>\n",
       "      <th colspan=\"4\" halign=\"left\">pct_met_exceeded</th>\n",
       "      <th colspan=\"4\" halign=\"left\">fte_teachers</th>\n",
       "      <th colspan=\"4\" halign=\"left\">stu_tchr_ratio</th>\n",
       "    </tr>\n",
       "    <tr>\n",
       "      <th></th>\n",
       "      <th></th>\n",
       "      <th></th>\n",
       "      <th></th>\n",
       "      <th></th>\n",
       "      <th></th>\n",
       "      <th></th>\n",
       "      <th></th>\n",
       "      <th>year</th>\n",
       "      <th>2018</th>\n",
       "      <th>2019</th>\n",
       "      <th>2021</th>\n",
       "      <th>2022</th>\n",
       "      <th>2018</th>\n",
       "      <th>2019</th>\n",
       "      <th>2021</th>\n",
       "      <th>2022</th>\n",
       "      <th>2018</th>\n",
       "      <th>2019</th>\n",
       "      <th>2021</th>\n",
       "      <th>2022</th>\n",
       "    </tr>\n",
       "    <tr>\n",
       "      <th>system_name</th>\n",
       "      <th>school_lvl</th>\n",
       "      <th>school_type</th>\n",
       "      <th>magnet</th>\n",
       "      <th>charter</th>\n",
       "      <th>title_1</th>\n",
       "      <th>locale</th>\n",
       "      <th>subject_area</th>\n",
       "      <th>student_group</th>\n",
       "      <th></th>\n",
       "      <th></th>\n",
       "      <th></th>\n",
       "      <th></th>\n",
       "      <th></th>\n",
       "      <th></th>\n",
       "      <th></th>\n",
       "      <th></th>\n",
       "      <th></th>\n",
       "      <th></th>\n",
       "      <th></th>\n",
       "      <th></th>\n",
       "    </tr>\n",
       "  </thead>\n",
       "  <tbody>\n",
       "    <tr>\n",
       "      <th rowspan=\"5\" valign=\"top\">Achievement School District</th>\n",
       "      <th rowspan=\"5\" valign=\"top\">Elementary</th>\n",
       "      <th rowspan=\"5\" valign=\"top\">1-Regular school</th>\n",
       "      <th rowspan=\"5\" valign=\"top\">0</th>\n",
       "      <th rowspan=\"5\" valign=\"top\">0</th>\n",
       "      <th rowspan=\"5\" valign=\"top\">1</th>\n",
       "      <th rowspan=\"5\" valign=\"top\">11-City: Large</th>\n",
       "      <th rowspan=\"5\" valign=\"top\">ELA</th>\n",
       "      <th>All Students</th>\n",
       "      <td>0.090990</td>\n",
       "      <td>0.075048</td>\n",
       "      <td>0.057583</td>\n",
       "      <td>0.089914</td>\n",
       "      <td>16.068687</td>\n",
       "      <td>13.614091</td>\n",
       "      <td>13.437050</td>\n",
       "      <td>10.265169</td>\n",
       "      <td>19.127374</td>\n",
       "      <td>19.758750</td>\n",
       "      <td>15.263022</td>\n",
       "      <td>18.669213</td>\n",
       "    </tr>\n",
       "    <tr>\n",
       "      <th>Black or African American</th>\n",
       "      <td>0.090260</td>\n",
       "      <td>0.072609</td>\n",
       "      <td>0.053000</td>\n",
       "      <td>0.085405</td>\n",
       "      <td>16.022016</td>\n",
       "      <td>13.612646</td>\n",
       "      <td>15.250000</td>\n",
       "      <td>10.242996</td>\n",
       "      <td>19.146605</td>\n",
       "      <td>19.764239</td>\n",
       "      <td>16.520000</td>\n",
       "      <td>18.665292</td>\n",
       "    </tr>\n",
       "    <tr>\n",
       "      <th>Black/Hispanic/Native American</th>\n",
       "      <td>0.088390</td>\n",
       "      <td>0.071160</td>\n",
       "      <td>0.058159</td>\n",
       "      <td>0.083075</td>\n",
       "      <td>16.059740</td>\n",
       "      <td>13.609153</td>\n",
       "      <td>13.423913</td>\n",
       "      <td>10.279094</td>\n",
       "      <td>19.131818</td>\n",
       "      <td>19.758993</td>\n",
       "      <td>15.253913</td>\n",
       "      <td>18.646943</td>\n",
       "    </tr>\n",
       "    <tr>\n",
       "      <th>Economically Disadvantaged</th>\n",
       "      <td>0.094816</td>\n",
       "      <td>0.074895</td>\n",
       "      <td>0.058005</td>\n",
       "      <td>0.101831</td>\n",
       "      <td>15.875862</td>\n",
       "      <td>13.620912</td>\n",
       "      <td>12.868421</td>\n",
       "      <td>10.384746</td>\n",
       "      <td>19.204713</td>\n",
       "      <td>19.720858</td>\n",
       "      <td>16.242316</td>\n",
       "      <td>18.492373</td>\n",
       "    </tr>\n",
       "    <tr>\n",
       "      <th>Female</th>\n",
       "      <td>NaN</td>\n",
       "      <td>0.104330</td>\n",
       "      <td>0.070789</td>\n",
       "      <td>0.087563</td>\n",
       "      <td>NaN</td>\n",
       "      <td>14.718681</td>\n",
       "      <td>13.031690</td>\n",
       "      <td>11.675625</td>\n",
       "      <td>NaN</td>\n",
       "      <td>20.109011</td>\n",
       "      <td>14.981972</td>\n",
       "      <td>19.357500</td>\n",
       "    </tr>\n",
       "    <tr>\n",
       "      <th>...</th>\n",
       "      <th>...</th>\n",
       "      <th>...</th>\n",
       "      <th>...</th>\n",
       "      <th>...</th>\n",
       "      <th>...</th>\n",
       "      <th>...</th>\n",
       "      <th>...</th>\n",
       "      <th>...</th>\n",
       "      <td>...</td>\n",
       "      <td>...</td>\n",
       "      <td>...</td>\n",
       "      <td>...</td>\n",
       "      <td>...</td>\n",
       "      <td>...</td>\n",
       "      <td>...</td>\n",
       "      <td>...</td>\n",
       "      <td>...</td>\n",
       "      <td>...</td>\n",
       "      <td>...</td>\n",
       "      <td>...</td>\n",
       "    </tr>\n",
       "    <tr>\n",
       "      <th rowspan=\"5\" valign=\"top\">Wilson County</th>\n",
       "      <th rowspan=\"5\" valign=\"top\">Other</th>\n",
       "      <th rowspan=\"5\" valign=\"top\">1-Regular school</th>\n",
       "      <th rowspan=\"5\" valign=\"top\">0</th>\n",
       "      <th rowspan=\"5\" valign=\"top\">0</th>\n",
       "      <th rowspan=\"5\" valign=\"top\">0</th>\n",
       "      <th rowspan=\"5\" valign=\"top\">31-Town: Fringe</th>\n",
       "      <th rowspan=\"5\" valign=\"top\">Social Studies</th>\n",
       "      <th>Non-English Learners/Transitional 1-4</th>\n",
       "      <td>0.314286</td>\n",
       "      <td>NaN</td>\n",
       "      <td>0.577000</td>\n",
       "      <td>0.660000</td>\n",
       "      <td>5.500000</td>\n",
       "      <td>NaN</td>\n",
       "      <td>98.610000</td>\n",
       "      <td>16.930000</td>\n",
       "      <td>10.000000</td>\n",
       "      <td>NaN</td>\n",
       "      <td>27.030000</td>\n",
       "      <td>13.110000</td>\n",
       "    </tr>\n",
       "    <tr>\n",
       "      <th>Non-Students with Disabilities</th>\n",
       "      <td>0.322645</td>\n",
       "      <td>NaN</td>\n",
       "      <td>0.594000</td>\n",
       "      <td>0.638000</td>\n",
       "      <td>5.500000</td>\n",
       "      <td>NaN</td>\n",
       "      <td>98.610000</td>\n",
       "      <td>16.930000</td>\n",
       "      <td>10.000000</td>\n",
       "      <td>NaN</td>\n",
       "      <td>27.030000</td>\n",
       "      <td>13.110000</td>\n",
       "    </tr>\n",
       "    <tr>\n",
       "      <th>Students with Disabilities</th>\n",
       "      <td>NaN</td>\n",
       "      <td>NaN</td>\n",
       "      <td>0.217000</td>\n",
       "      <td>NaN</td>\n",
       "      <td>NaN</td>\n",
       "      <td>NaN</td>\n",
       "      <td>98.610000</td>\n",
       "      <td>NaN</td>\n",
       "      <td>NaN</td>\n",
       "      <td>NaN</td>\n",
       "      <td>27.030000</td>\n",
       "      <td>NaN</td>\n",
       "    </tr>\n",
       "    <tr>\n",
       "      <th>Super Subgroup</th>\n",
       "      <td>NaN</td>\n",
       "      <td>NaN</td>\n",
       "      <td>0.448000</td>\n",
       "      <td>0.556000</td>\n",
       "      <td>NaN</td>\n",
       "      <td>NaN</td>\n",
       "      <td>98.610000</td>\n",
       "      <td>16.930000</td>\n",
       "      <td>NaN</td>\n",
       "      <td>NaN</td>\n",
       "      <td>27.030000</td>\n",
       "      <td>13.110000</td>\n",
       "    </tr>\n",
       "    <tr>\n",
       "      <th>White</th>\n",
       "      <td>0.343813</td>\n",
       "      <td>NaN</td>\n",
       "      <td>0.571000</td>\n",
       "      <td>0.600000</td>\n",
       "      <td>5.500000</td>\n",
       "      <td>NaN</td>\n",
       "      <td>98.610000</td>\n",
       "      <td>16.930000</td>\n",
       "      <td>10.000000</td>\n",
       "      <td>NaN</td>\n",
       "      <td>27.030000</td>\n",
       "      <td>13.110000</td>\n",
       "    </tr>\n",
       "  </tbody>\n",
       "</table>\n",
       "<p>56836 rows × 12 columns</p>\n",
       "</div>"
      ],
      "text/plain": [
       "                                                                                                                                                    pct_met_exceeded  \\\n",
       "year                                                                                                                                                            2018   \n",
       "system_name                 school_lvl school_type      magnet charter title_1 locale          subject_area   student_group                                            \n",
       "Achievement School District Elementary 1-Regular school 0      0       1       11-City: Large  ELA            All Students                                  0.090990   \n",
       "                                                                                                              Black or African American                     0.090260   \n",
       "                                                                                                              Black/Hispanic/Native American                0.088390   \n",
       "                                                                                                              Economically Disadvantaged                    0.094816   \n",
       "                                                                                                              Female                                             NaN   \n",
       "...                                                                                                                                                              ...   \n",
       "Wilson County               Other      1-Regular school 0      0       0       31-Town: Fringe Social Studies Non-English Learners/Transitional 1-4         0.314286   \n",
       "                                                                                                              Non-Students with Disabilities                0.322645   \n",
       "                                                                                                              Students with Disabilities                         NaN   \n",
       "                                                                                                              Super Subgroup                                     NaN   \n",
       "                                                                                                              White                                         0.343813   \n",
       "\n",
       "                                                                                                                                                               \\\n",
       "year                                                                                                                                                     2019   \n",
       "system_name                 school_lvl school_type      magnet charter title_1 locale          subject_area   student_group                                     \n",
       "Achievement School District Elementary 1-Regular school 0      0       1       11-City: Large  ELA            All Students                           0.075048   \n",
       "                                                                                                              Black or African American              0.072609   \n",
       "                                                                                                              Black/Hispanic/Native American         0.071160   \n",
       "                                                                                                              Economically Disadvantaged             0.074895   \n",
       "                                                                                                              Female                                 0.104330   \n",
       "...                                                                                                                                                       ...   \n",
       "Wilson County               Other      1-Regular school 0      0       0       31-Town: Fringe Social Studies Non-English Learners/Transitional 1-4       NaN   \n",
       "                                                                                                              Non-Students with Disabilities              NaN   \n",
       "                                                                                                              Students with Disabilities                  NaN   \n",
       "                                                                                                              Super Subgroup                              NaN   \n",
       "                                                                                                              White                                       NaN   \n",
       "\n",
       "                                                                                                                                                               \\\n",
       "year                                                                                                                                                     2021   \n",
       "system_name                 school_lvl school_type      magnet charter title_1 locale          subject_area   student_group                                     \n",
       "Achievement School District Elementary 1-Regular school 0      0       1       11-City: Large  ELA            All Students                           0.057583   \n",
       "                                                                                                              Black or African American              0.053000   \n",
       "                                                                                                              Black/Hispanic/Native American         0.058159   \n",
       "                                                                                                              Economically Disadvantaged             0.058005   \n",
       "                                                                                                              Female                                 0.070789   \n",
       "...                                                                                                                                                       ...   \n",
       "Wilson County               Other      1-Regular school 0      0       0       31-Town: Fringe Social Studies Non-English Learners/Transitional 1-4  0.577000   \n",
       "                                                                                                              Non-Students with Disabilities         0.594000   \n",
       "                                                                                                              Students with Disabilities             0.217000   \n",
       "                                                                                                              Super Subgroup                         0.448000   \n",
       "                                                                                                              White                                  0.571000   \n",
       "\n",
       "                                                                                                                                                               \\\n",
       "year                                                                                                                                                     2022   \n",
       "system_name                 school_lvl school_type      magnet charter title_1 locale          subject_area   student_group                                     \n",
       "Achievement School District Elementary 1-Regular school 0      0       1       11-City: Large  ELA            All Students                           0.089914   \n",
       "                                                                                                              Black or African American              0.085405   \n",
       "                                                                                                              Black/Hispanic/Native American         0.083075   \n",
       "                                                                                                              Economically Disadvantaged             0.101831   \n",
       "                                                                                                              Female                                 0.087563   \n",
       "...                                                                                                                                                       ...   \n",
       "Wilson County               Other      1-Regular school 0      0       0       31-Town: Fringe Social Studies Non-English Learners/Transitional 1-4  0.660000   \n",
       "                                                                                                              Non-Students with Disabilities         0.638000   \n",
       "                                                                                                              Students with Disabilities                  NaN   \n",
       "                                                                                                              Super Subgroup                         0.556000   \n",
       "                                                                                                              White                                  0.600000   \n",
       "\n",
       "                                                                                                                                                    fte_teachers  \\\n",
       "year                                                                                                                                                        2018   \n",
       "system_name                 school_lvl school_type      magnet charter title_1 locale          subject_area   student_group                                        \n",
       "Achievement School District Elementary 1-Regular school 0      0       1       11-City: Large  ELA            All Students                             16.068687   \n",
       "                                                                                                              Black or African American                16.022016   \n",
       "                                                                                                              Black/Hispanic/Native American           16.059740   \n",
       "                                                                                                              Economically Disadvantaged               15.875862   \n",
       "                                                                                                              Female                                         NaN   \n",
       "...                                                                                                                                                          ...   \n",
       "Wilson County               Other      1-Regular school 0      0       0       31-Town: Fringe Social Studies Non-English Learners/Transitional 1-4     5.500000   \n",
       "                                                                                                              Non-Students with Disabilities            5.500000   \n",
       "                                                                                                              Students with Disabilities                     NaN   \n",
       "                                                                                                              Super Subgroup                                 NaN   \n",
       "                                                                                                              White                                     5.500000   \n",
       "\n",
       "                                                                                                                                                                \\\n",
       "year                                                                                                                                                      2019   \n",
       "system_name                 school_lvl school_type      magnet charter title_1 locale          subject_area   student_group                                      \n",
       "Achievement School District Elementary 1-Regular school 0      0       1       11-City: Large  ELA            All Students                           13.614091   \n",
       "                                                                                                              Black or African American              13.612646   \n",
       "                                                                                                              Black/Hispanic/Native American         13.609153   \n",
       "                                                                                                              Economically Disadvantaged             13.620912   \n",
       "                                                                                                              Female                                 14.718681   \n",
       "...                                                                                                                                                        ...   \n",
       "Wilson County               Other      1-Regular school 0      0       0       31-Town: Fringe Social Studies Non-English Learners/Transitional 1-4        NaN   \n",
       "                                                                                                              Non-Students with Disabilities               NaN   \n",
       "                                                                                                              Students with Disabilities                   NaN   \n",
       "                                                                                                              Super Subgroup                               NaN   \n",
       "                                                                                                              White                                        NaN   \n",
       "\n",
       "                                                                                                                                                                \\\n",
       "year                                                                                                                                                      2021   \n",
       "system_name                 school_lvl school_type      magnet charter title_1 locale          subject_area   student_group                                      \n",
       "Achievement School District Elementary 1-Regular school 0      0       1       11-City: Large  ELA            All Students                           13.437050   \n",
       "                                                                                                              Black or African American              15.250000   \n",
       "                                                                                                              Black/Hispanic/Native American         13.423913   \n",
       "                                                                                                              Economically Disadvantaged             12.868421   \n",
       "                                                                                                              Female                                 13.031690   \n",
       "...                                                                                                                                                        ...   \n",
       "Wilson County               Other      1-Regular school 0      0       0       31-Town: Fringe Social Studies Non-English Learners/Transitional 1-4  98.610000   \n",
       "                                                                                                              Non-Students with Disabilities         98.610000   \n",
       "                                                                                                              Students with Disabilities             98.610000   \n",
       "                                                                                                              Super Subgroup                         98.610000   \n",
       "                                                                                                              White                                  98.610000   \n",
       "\n",
       "                                                                                                                                                                \\\n",
       "year                                                                                                                                                      2022   \n",
       "system_name                 school_lvl school_type      magnet charter title_1 locale          subject_area   student_group                                      \n",
       "Achievement School District Elementary 1-Regular school 0      0       1       11-City: Large  ELA            All Students                           10.265169   \n",
       "                                                                                                              Black or African American              10.242996   \n",
       "                                                                                                              Black/Hispanic/Native American         10.279094   \n",
       "                                                                                                              Economically Disadvantaged             10.384746   \n",
       "                                                                                                              Female                                 11.675625   \n",
       "...                                                                                                                                                        ...   \n",
       "Wilson County               Other      1-Regular school 0      0       0       31-Town: Fringe Social Studies Non-English Learners/Transitional 1-4  16.930000   \n",
       "                                                                                                              Non-Students with Disabilities         16.930000   \n",
       "                                                                                                              Students with Disabilities                   NaN   \n",
       "                                                                                                              Super Subgroup                         16.930000   \n",
       "                                                                                                              White                                  16.930000   \n",
       "\n",
       "                                                                                                                                                    stu_tchr_ratio  \\\n",
       "year                                                                                                                                                          2018   \n",
       "system_name                 school_lvl school_type      magnet charter title_1 locale          subject_area   student_group                                          \n",
       "Achievement School District Elementary 1-Regular school 0      0       1       11-City: Large  ELA            All Students                               19.127374   \n",
       "                                                                                                              Black or African American                  19.146605   \n",
       "                                                                                                              Black/Hispanic/Native American             19.131818   \n",
       "                                                                                                              Economically Disadvantaged                 19.204713   \n",
       "                                                                                                              Female                                           NaN   \n",
       "...                                                                                                                                                            ...   \n",
       "Wilson County               Other      1-Regular school 0      0       0       31-Town: Fringe Social Studies Non-English Learners/Transitional 1-4      10.000000   \n",
       "                                                                                                              Non-Students with Disabilities             10.000000   \n",
       "                                                                                                              Students with Disabilities                       NaN   \n",
       "                                                                                                              Super Subgroup                                   NaN   \n",
       "                                                                                                              White                                      10.000000   \n",
       "\n",
       "                                                                                                                                                                \\\n",
       "year                                                                                                                                                      2019   \n",
       "system_name                 school_lvl school_type      magnet charter title_1 locale          subject_area   student_group                                      \n",
       "Achievement School District Elementary 1-Regular school 0      0       1       11-City: Large  ELA            All Students                           19.758750   \n",
       "                                                                                                              Black or African American              19.764239   \n",
       "                                                                                                              Black/Hispanic/Native American         19.758993   \n",
       "                                                                                                              Economically Disadvantaged             19.720858   \n",
       "                                                                                                              Female                                 20.109011   \n",
       "...                                                                                                                                                        ...   \n",
       "Wilson County               Other      1-Regular school 0      0       0       31-Town: Fringe Social Studies Non-English Learners/Transitional 1-4        NaN   \n",
       "                                                                                                              Non-Students with Disabilities               NaN   \n",
       "                                                                                                              Students with Disabilities                   NaN   \n",
       "                                                                                                              Super Subgroup                               NaN   \n",
       "                                                                                                              White                                        NaN   \n",
       "\n",
       "                                                                                                                                                                \\\n",
       "year                                                                                                                                                      2021   \n",
       "system_name                 school_lvl school_type      magnet charter title_1 locale          subject_area   student_group                                      \n",
       "Achievement School District Elementary 1-Regular school 0      0       1       11-City: Large  ELA            All Students                           15.263022   \n",
       "                                                                                                              Black or African American              16.520000   \n",
       "                                                                                                              Black/Hispanic/Native American         15.253913   \n",
       "                                                                                                              Economically Disadvantaged             16.242316   \n",
       "                                                                                                              Female                                 14.981972   \n",
       "...                                                                                                                                                        ...   \n",
       "Wilson County               Other      1-Regular school 0      0       0       31-Town: Fringe Social Studies Non-English Learners/Transitional 1-4  27.030000   \n",
       "                                                                                                              Non-Students with Disabilities         27.030000   \n",
       "                                                                                                              Students with Disabilities             27.030000   \n",
       "                                                                                                              Super Subgroup                         27.030000   \n",
       "                                                                                                              White                                  27.030000   \n",
       "\n",
       "                                                                                                                                                                \n",
       "year                                                                                                                                                      2022  \n",
       "system_name                 school_lvl school_type      magnet charter title_1 locale          subject_area   student_group                                     \n",
       "Achievement School District Elementary 1-Regular school 0      0       1       11-City: Large  ELA            All Students                           18.669213  \n",
       "                                                                                                              Black or African American              18.665292  \n",
       "                                                                                                              Black/Hispanic/Native American         18.646943  \n",
       "                                                                                                              Economically Disadvantaged             18.492373  \n",
       "                                                                                                              Female                                 19.357500  \n",
       "...                                                                                                                                                        ...  \n",
       "Wilson County               Other      1-Regular school 0      0       0       31-Town: Fringe Social Studies Non-English Learners/Transitional 1-4  13.110000  \n",
       "                                                                                                              Non-Students with Disabilities         13.110000  \n",
       "                                                                                                              Students with Disabilities                   NaN  \n",
       "                                                                                                              Super Subgroup                         13.110000  \n",
       "                                                                                                              White                                  13.110000  \n",
       "\n",
       "[56836 rows x 12 columns]"
      ]
     },
     "execution_count": 11,
     "metadata": {},
     "output_type": "execute_result"
    }
   ],
   "source": [
    "# Divide sum_weighted_proficiency by weight\n",
    "weighted_avg_proficiency = sum_weighted_proficiency / weight\n",
    "\n",
    "# Divide sum_weighted_fte by weight\n",
    "weighted_avg_fte = sum_weighted_fte / weight\n",
    "\n",
    "# Divide sum_weighted_str by weight\n",
    "weighted_avg_str = sum_weighted_str / weight\n",
    "\n",
    "# Create a multi-level column index for the weighted average pivots\n",
    "column_index = pd.MultiIndex.from_product([['pct_met_exceeded', 'fte_teachers', 'stu_tchr_ratio'], weighted_avg_proficiency.columns])\n",
    "\n",
    "# Concatenate the weighted average pivots horizontally\n",
    "weighted_avg_pivot = pd.concat([weighted_avg_proficiency, weighted_avg_fte, weighted_avg_str], axis=1)\n",
    "weighted_avg_pivot.columns = column_index\n",
    "\n",
    "weighted_avg_pivot"
   ]
  },
  {
   "attachments": {},
   "cell_type": "markdown",
   "metadata": {},
   "source": [
    "### 🤺 Unferths' Hrunting "
   ]
  },
  {
   "attachments": {},
   "cell_type": "markdown",
   "metadata": {},
   "source": [
    "⚔️ `weighted_avg_pivot.loc[(slice(None), slice(None), slice(None),slice(None),slice(None),slice(None),slice(None), 'Science')]` ⚔️"
   ]
  },
  {
   "attachments": {},
   "cell_type": "markdown",
   "metadata": {},
   "source": [
    "🔖 `weighted_avg_pivot[('pct_met_exceeded', 'first lag')] = weighted_avg_pivot.loc[:, 'pct_met_exceeded'][2022] - weighted_avg_pivot.loc[:, 'pct_met_exceeded'][2018]` 🔖"
   ]
  },
  {
   "cell_type": "code",
   "execution_count": 12,
   "metadata": {},
   "outputs": [],
   "source": [
    "# # Use this to test your calculations.\n",
    "# weighted_avg_pivot[('pct_met_exceeded', 'first lag')] = weighted_avg_pivot.loc[:, 'pct_met_exceeded'][2021] - weighted_avg_pivot.loc[:, 'pct_met_exceeded'][2019] \n",
    "# weighted_avg_pivot.loc[:, 'pct_met_exceeded']"
   ]
  },
  {
   "attachments": {},
   "cell_type": "markdown",
   "metadata": {},
   "source": [
    "Variables created to greatly minimize repitition of literal slices"
   ]
  },
  {
   "cell_type": "code",
   "execution_count": 13,
   "metadata": {},
   "outputs": [],
   "source": [
    "# Set the stop year for all metrics\n",
    "lvpp_stop = 2021\n",
    "\n",
    "# Set the start year for Math, ELA, and Social Studies related metrics\n",
    "lvpp_start_mess = 2019\n",
    "\n",
    "# Set the start year for Science-related metrics\n",
    "lvpp_start_science = 2018\n",
    "\n",
    "# Set the start and stop year for the \"intra\" lag\n",
    "intra_start = 2021\n",
    "intra_stop = 2022\n",
    "\n",
    "# Science Slicer\n",
    "science_slice = (slice(None), slice(None), slice(None), slice(None), slice(None), slice(None), slice(None), 'Science')\n",
    "\n",
    "# Non-Science slicer\n",
    "subjects_slice = (slice(None), slice(None), slice(None), slice(None), slice(None), slice(None), slice(None))"
   ]
  },
  {
   "attachments": {},
   "cell_type": "markdown",
   "metadata": {},
   "source": [
    "#### 📝 Assessment Lags"
   ]
  },
  {
   "cell_type": "code",
   "execution_count": 14,
   "metadata": {},
   "outputs": [],
   "source": [
    "# Calculate separate lag scores for Science-related metrics.\n",
    "\n",
    "# Last Valid Pre-Pandemic met_exceded measurement (lvpp)\n",
    "weighted_avg_pivot.loc[science_slice, ('pct_met_exceeded', 'lvpp')] = (\n",
    "    weighted_avg_pivot.loc[science_slice, ('pct_met_exceeded', lvpp_stop)] -\n",
    "    weighted_avg_pivot.loc[science_slice, ('pct_met_exceeded', lvpp_start_science)]\n",
    ")\n",
    "\n",
    "# Calculate the lvpp scores for Math, ELA, and Social Studies related metrics\n",
    "weighted_avg_pivot.loc[\n",
    "    subjects_slice + (['Math', 'ELA', 'Social Studies'],),\n",
    "    ('pct_met_exceeded', 'lvpp')\n",
    "] = (\n",
    "    weighted_avg_pivot.loc[\n",
    "        subjects_slice + (['Math', 'ELA', 'Social Studies'],),\n",
    "        ('pct_met_exceeded', lvpp_stop)\n",
    "    ] - weighted_avg_pivot.loc[\n",
    "        subjects_slice + (['Math', 'ELA', 'Social Studies'],),\n",
    "        ('pct_met_exceeded', lvpp_start_mess)\n",
    "    ]\n",
    ")\n",
    "\n",
    "# Calculate the intra lag score for 'pct_met_exceeded'\n",
    "weighted_avg_pivot.loc[subjects_slice, ('pct_met_exceeded', 'intra')] = (\n",
    "    weighted_avg_pivot.loc[subjects_slice, ('pct_met_exceeded', intra_stop)] -\n",
    "    weighted_avg_pivot.loc[subjects_slice, ('pct_met_exceeded', intra_start)]\n",
    ")\n",
    "\n",
    "# Calculate the 'pre-post' assessment lag scores\n",
    "weighted_avg_pivot[('pct_met_exceeded', 'pre-post')] = (\n",
    "    weighted_avg_pivot[('pct_met_exceeded', 2022)] -\n",
    "    weighted_avg_pivot[('pct_met_exceeded', 'lvpp')]\n",
    ")"
   ]
  },
  {
   "cell_type": "markdown",
   "metadata": {},
   "source": [
    "#### 🧑‍🏫 Full Time Equivalent Teachers Lag"
   ]
  },
  {
   "cell_type": "code",
   "execution_count": 15,
   "metadata": {},
   "outputs": [],
   "source": [
    "# Last Valid Pre-Pandemic science-related full-time equivalent teachers measurement (lvpp)\n",
    "weighted_avg_pivot.loc[science_slice, ('fte_teachers', 'lvpp')] = (\n",
    "    weighted_avg_pivot.loc[science_slice, ('fte_teachers', lvpp_stop)] -\n",
    "    weighted_avg_pivot.loc[science_slice, ('fte_teachers', lvpp_start_science)]\n",
    ")\n",
    "\n",
    "# Last Valid Pre-Pandemic full-time equivalent teacher measurement (lvpp)\n",
    "weighted_avg_pivot.loc[\n",
    "    subjects_slice + (['Math', 'ELA', 'Social Studies'],),\n",
    "    ('fte_teachers', 'lvpp')\n",
    "] = (\n",
    "    weighted_avg_pivot.loc[\n",
    "        subjects_slice + (['Math', 'ELA', 'Social Studies'],),\n",
    "        ('fte_teachers', lvpp_stop)\n",
    "    ] - weighted_avg_pivot.loc[\n",
    "        subjects_slice + (['Math', 'ELA', 'Social Studies'],),\n",
    "        ('fte_teachers', lvpp_start_mess)\n",
    "    ]\n",
    ")\n",
    "\n",
    "# Calculate the intra lag score for 'fte_teachers'\n",
    "weighted_avg_pivot.loc[subjects_slice, ('fte_teachers', 'intra')] = (\n",
    "    weighted_avg_pivot.loc[subjects_slice, ('fte_teachers', intra_stop)] -\n",
    "    weighted_avg_pivot.loc[subjects_slice, ('fte_teachers', intra_start)]\n",
    ")\n",
    "\n",
    "# Calculate the 'pre-post' assessment lag scores for full-time equivalent teachers\n",
    "weighted_avg_pivot[('fte_teachers', 'pre-post')] = (\n",
    "    weighted_avg_pivot[('fte_teachers', 2022)] -\n",
    "    weighted_avg_pivot[('fte_teachers', 'lvpp')]\n",
    ")"
   ]
  },
  {
   "attachments": {},
   "cell_type": "markdown",
   "metadata": {},
   "source": [
    "#### 🧑‍🎓/🧑‍🏫 Student Teacher Ratio Lag"
   ]
  },
  {
   "cell_type": "code",
   "execution_count": 16,
   "metadata": {},
   "outputs": [],
   "source": [
    "# Last Valid Pre-Pandemic science-related student/teacher ratio measurement (lvpp)\n",
    "weighted_avg_pivot.loc[science_slice, ('stu_tchr_ratio', 'lvpp')] = (\n",
    "    weighted_avg_pivot.loc[science_slice, ('stu_tchr_ratio', lvpp_stop)] -\n",
    "    weighted_avg_pivot.loc[science_slice, ('stu_tchr_ratio', lvpp_start_science)]\n",
    ")\n",
    "\n",
    "# Last Valid Pre-Pandemic non science-related student/teacher ratio measurement (lvpp)\n",
    "weighted_avg_pivot.loc[\n",
    "    subjects_slice + (['Math', 'ELA', 'Social Studies'],),\n",
    "    ('stu_tchr_ratio', 'lvpp')\n",
    "] = (\n",
    "    weighted_avg_pivot.loc[\n",
    "        subjects_slice + (['Math', 'ELA', 'Social Studies'],),\n",
    "        ('stu_tchr_ratio', lvpp_stop)\n",
    "    ] - weighted_avg_pivot.loc[\n",
    "        subjects_slice + (['Math', 'ELA', 'Social Studies'],),\n",
    "        ('stu_tchr_ratio', lvpp_start_mess)\n",
    "    ]\n",
    ")\n",
    "\n",
    "# Calculate the intra lag score for 'stu_tchr_ratio'\n",
    "weighted_avg_pivot.loc[subjects_slice, ('stu_tchr_ratio', 'intra')] = (\n",
    "    weighted_avg_pivot.loc[subjects_slice, ('stu_tchr_ratio', intra_stop)] -\n",
    "    weighted_avg_pivot.loc[subjects_slice, ('stu_tchr_ratio', intra_start)]\n",
    ")\n",
    "\n",
    "# Calculate the 'pre-post' assessment lag scores for student/teacher ratios\n",
    "weighted_avg_pivot[('stu_tchr_ratio', 'pre-post')] = (\n",
    "    weighted_avg_pivot[('stu_tchr_ratio', 2022)] -\n",
    "    weighted_avg_pivot[('stu_tchr_ratio', 'lvpp')]\n",
    ")\n"
   ]
  },
  {
   "cell_type": "code",
   "execution_count": 17,
   "metadata": {},
   "outputs": [
    {
     "data": {
      "text/html": [
       "<div>\n",
       "<style scoped>\n",
       "    .dataframe tbody tr th:only-of-type {\n",
       "        vertical-align: middle;\n",
       "    }\n",
       "\n",
       "    .dataframe tbody tr th {\n",
       "        vertical-align: top;\n",
       "    }\n",
       "\n",
       "    .dataframe thead tr th {\n",
       "        text-align: left;\n",
       "    }\n",
       "\n",
       "    .dataframe thead tr:last-of-type th {\n",
       "        text-align: right;\n",
       "    }\n",
       "</style>\n",
       "<table border=\"1\" class=\"dataframe\">\n",
       "  <thead>\n",
       "    <tr>\n",
       "      <th></th>\n",
       "      <th></th>\n",
       "      <th></th>\n",
       "      <th></th>\n",
       "      <th></th>\n",
       "      <th></th>\n",
       "      <th></th>\n",
       "      <th></th>\n",
       "      <th></th>\n",
       "      <th colspan=\"4\" halign=\"left\">pct_met_exceeded</th>\n",
       "      <th colspan=\"4\" halign=\"left\">fte_teachers</th>\n",
       "      <th colspan=\"4\" halign=\"left\">stu_tchr_ratio</th>\n",
       "      <th colspan=\"3\" halign=\"left\">pct_met_exceeded</th>\n",
       "      <th colspan=\"3\" halign=\"left\">fte_teachers</th>\n",
       "      <th colspan=\"3\" halign=\"left\">stu_tchr_ratio</th>\n",
       "    </tr>\n",
       "    <tr>\n",
       "      <th></th>\n",
       "      <th></th>\n",
       "      <th></th>\n",
       "      <th></th>\n",
       "      <th></th>\n",
       "      <th></th>\n",
       "      <th></th>\n",
       "      <th></th>\n",
       "      <th>year</th>\n",
       "      <th>2018</th>\n",
       "      <th>2019</th>\n",
       "      <th>2021</th>\n",
       "      <th>2022</th>\n",
       "      <th>2018</th>\n",
       "      <th>2019</th>\n",
       "      <th>2021</th>\n",
       "      <th>2022</th>\n",
       "      <th>2018</th>\n",
       "      <th>2019</th>\n",
       "      <th>...</th>\n",
       "      <th>2022</th>\n",
       "      <th>lvpp</th>\n",
       "      <th>intra</th>\n",
       "      <th>pre-post</th>\n",
       "      <th>lvpp</th>\n",
       "      <th>intra</th>\n",
       "      <th>pre-post</th>\n",
       "      <th>lvpp</th>\n",
       "      <th>intra</th>\n",
       "      <th>pre-post</th>\n",
       "    </tr>\n",
       "    <tr>\n",
       "      <th>system_name</th>\n",
       "      <th>school_lvl</th>\n",
       "      <th>school_type</th>\n",
       "      <th>magnet</th>\n",
       "      <th>charter</th>\n",
       "      <th>title_1</th>\n",
       "      <th>locale</th>\n",
       "      <th>subject_area</th>\n",
       "      <th>student_group</th>\n",
       "      <th></th>\n",
       "      <th></th>\n",
       "      <th></th>\n",
       "      <th></th>\n",
       "      <th></th>\n",
       "      <th></th>\n",
       "      <th></th>\n",
       "      <th></th>\n",
       "      <th></th>\n",
       "      <th></th>\n",
       "      <th></th>\n",
       "      <th></th>\n",
       "      <th></th>\n",
       "      <th></th>\n",
       "      <th></th>\n",
       "      <th></th>\n",
       "      <th></th>\n",
       "      <th></th>\n",
       "      <th></th>\n",
       "      <th></th>\n",
       "      <th></th>\n",
       "    </tr>\n",
       "  </thead>\n",
       "  <tbody>\n",
       "    <tr>\n",
       "      <th rowspan=\"5\" valign=\"top\">Achievement School District</th>\n",
       "      <th rowspan=\"5\" valign=\"top\">Elementary</th>\n",
       "      <th rowspan=\"5\" valign=\"top\">1-Regular school</th>\n",
       "      <th rowspan=\"5\" valign=\"top\">0</th>\n",
       "      <th rowspan=\"5\" valign=\"top\">0</th>\n",
       "      <th rowspan=\"5\" valign=\"top\">1</th>\n",
       "      <th rowspan=\"5\" valign=\"top\">11-City: Large</th>\n",
       "      <th rowspan=\"5\" valign=\"top\">ELA</th>\n",
       "      <th>All Students</th>\n",
       "      <td>0.090990</td>\n",
       "      <td>0.075048</td>\n",
       "      <td>0.057583</td>\n",
       "      <td>0.089914</td>\n",
       "      <td>16.068687</td>\n",
       "      <td>13.614091</td>\n",
       "      <td>13.437050</td>\n",
       "      <td>10.265169</td>\n",
       "      <td>19.127374</td>\n",
       "      <td>19.758750</td>\n",
       "      <td>...</td>\n",
       "      <td>18.669213</td>\n",
       "      <td>-0.017465</td>\n",
       "      <td>0.032331</td>\n",
       "      <td>0.107379</td>\n",
       "      <td>-0.177041</td>\n",
       "      <td>-3.171882</td>\n",
       "      <td>10.442209</td>\n",
       "      <td>-4.495728</td>\n",
       "      <td>3.406192</td>\n",
       "      <td>23.164942</td>\n",
       "    </tr>\n",
       "    <tr>\n",
       "      <th>Black or African American</th>\n",
       "      <td>0.090260</td>\n",
       "      <td>0.072609</td>\n",
       "      <td>0.053000</td>\n",
       "      <td>0.085405</td>\n",
       "      <td>16.022016</td>\n",
       "      <td>13.612646</td>\n",
       "      <td>15.250000</td>\n",
       "      <td>10.242996</td>\n",
       "      <td>19.146605</td>\n",
       "      <td>19.764239</td>\n",
       "      <td>...</td>\n",
       "      <td>18.665292</td>\n",
       "      <td>-0.019609</td>\n",
       "      <td>0.032405</td>\n",
       "      <td>0.105014</td>\n",
       "      <td>1.637354</td>\n",
       "      <td>-5.007004</td>\n",
       "      <td>8.605642</td>\n",
       "      <td>-3.244239</td>\n",
       "      <td>2.145292</td>\n",
       "      <td>21.909531</td>\n",
       "    </tr>\n",
       "    <tr>\n",
       "      <th>Black/Hispanic/Native American</th>\n",
       "      <td>0.088390</td>\n",
       "      <td>0.071160</td>\n",
       "      <td>0.058159</td>\n",
       "      <td>0.083075</td>\n",
       "      <td>16.059740</td>\n",
       "      <td>13.609153</td>\n",
       "      <td>13.423913</td>\n",
       "      <td>10.279094</td>\n",
       "      <td>19.131818</td>\n",
       "      <td>19.758993</td>\n",
       "      <td>...</td>\n",
       "      <td>18.646943</td>\n",
       "      <td>-0.013001</td>\n",
       "      <td>0.024916</td>\n",
       "      <td>0.096076</td>\n",
       "      <td>-0.185240</td>\n",
       "      <td>-3.144819</td>\n",
       "      <td>10.464335</td>\n",
       "      <td>-4.505080</td>\n",
       "      <td>3.393030</td>\n",
       "      <td>23.152023</td>\n",
       "    </tr>\n",
       "    <tr>\n",
       "      <th>Economically Disadvantaged</th>\n",
       "      <td>0.094816</td>\n",
       "      <td>0.074895</td>\n",
       "      <td>0.058005</td>\n",
       "      <td>0.101831</td>\n",
       "      <td>15.875862</td>\n",
       "      <td>13.620912</td>\n",
       "      <td>12.868421</td>\n",
       "      <td>10.384746</td>\n",
       "      <td>19.204713</td>\n",
       "      <td>19.720858</td>\n",
       "      <td>...</td>\n",
       "      <td>18.492373</td>\n",
       "      <td>-0.016890</td>\n",
       "      <td>0.043825</td>\n",
       "      <td>0.118721</td>\n",
       "      <td>-0.752490</td>\n",
       "      <td>-2.483675</td>\n",
       "      <td>11.137236</td>\n",
       "      <td>-3.478542</td>\n",
       "      <td>2.250057</td>\n",
       "      <td>21.970915</td>\n",
       "    </tr>\n",
       "    <tr>\n",
       "      <th>Female</th>\n",
       "      <td>NaN</td>\n",
       "      <td>0.104330</td>\n",
       "      <td>0.070789</td>\n",
       "      <td>0.087563</td>\n",
       "      <td>NaN</td>\n",
       "      <td>14.718681</td>\n",
       "      <td>13.031690</td>\n",
       "      <td>11.675625</td>\n",
       "      <td>NaN</td>\n",
       "      <td>20.109011</td>\n",
       "      <td>...</td>\n",
       "      <td>19.357500</td>\n",
       "      <td>-0.033541</td>\n",
       "      <td>0.016774</td>\n",
       "      <td>0.121103</td>\n",
       "      <td>-1.686991</td>\n",
       "      <td>-1.356065</td>\n",
       "      <td>13.362616</td>\n",
       "      <td>-5.127039</td>\n",
       "      <td>4.375528</td>\n",
       "      <td>24.484539</td>\n",
       "    </tr>\n",
       "    <tr>\n",
       "      <th>...</th>\n",
       "      <th>...</th>\n",
       "      <th>...</th>\n",
       "      <th>...</th>\n",
       "      <th>...</th>\n",
       "      <th>...</th>\n",
       "      <th>...</th>\n",
       "      <th>...</th>\n",
       "      <th>...</th>\n",
       "      <td>...</td>\n",
       "      <td>...</td>\n",
       "      <td>...</td>\n",
       "      <td>...</td>\n",
       "      <td>...</td>\n",
       "      <td>...</td>\n",
       "      <td>...</td>\n",
       "      <td>...</td>\n",
       "      <td>...</td>\n",
       "      <td>...</td>\n",
       "      <td>...</td>\n",
       "      <td>...</td>\n",
       "      <td>...</td>\n",
       "      <td>...</td>\n",
       "      <td>...</td>\n",
       "      <td>...</td>\n",
       "      <td>...</td>\n",
       "      <td>...</td>\n",
       "      <td>...</td>\n",
       "      <td>...</td>\n",
       "      <td>...</td>\n",
       "    </tr>\n",
       "    <tr>\n",
       "      <th rowspan=\"5\" valign=\"top\">Wilson County</th>\n",
       "      <th rowspan=\"5\" valign=\"top\">Other</th>\n",
       "      <th rowspan=\"5\" valign=\"top\">1-Regular school</th>\n",
       "      <th rowspan=\"5\" valign=\"top\">0</th>\n",
       "      <th rowspan=\"5\" valign=\"top\">0</th>\n",
       "      <th rowspan=\"5\" valign=\"top\">0</th>\n",
       "      <th rowspan=\"5\" valign=\"top\">31-Town: Fringe</th>\n",
       "      <th rowspan=\"5\" valign=\"top\">Social Studies</th>\n",
       "      <th>Non-English Learners/Transitional 1-4</th>\n",
       "      <td>0.314286</td>\n",
       "      <td>NaN</td>\n",
       "      <td>0.577000</td>\n",
       "      <td>0.660000</td>\n",
       "      <td>5.500000</td>\n",
       "      <td>NaN</td>\n",
       "      <td>98.610000</td>\n",
       "      <td>16.930000</td>\n",
       "      <td>10.000000</td>\n",
       "      <td>NaN</td>\n",
       "      <td>...</td>\n",
       "      <td>13.110000</td>\n",
       "      <td>NaN</td>\n",
       "      <td>0.083000</td>\n",
       "      <td>NaN</td>\n",
       "      <td>NaN</td>\n",
       "      <td>-81.680000</td>\n",
       "      <td>NaN</td>\n",
       "      <td>NaN</td>\n",
       "      <td>-13.920000</td>\n",
       "      <td>NaN</td>\n",
       "    </tr>\n",
       "    <tr>\n",
       "      <th>Non-Students with Disabilities</th>\n",
       "      <td>0.322645</td>\n",
       "      <td>NaN</td>\n",
       "      <td>0.594000</td>\n",
       "      <td>0.638000</td>\n",
       "      <td>5.500000</td>\n",
       "      <td>NaN</td>\n",
       "      <td>98.610000</td>\n",
       "      <td>16.930000</td>\n",
       "      <td>10.000000</td>\n",
       "      <td>NaN</td>\n",
       "      <td>...</td>\n",
       "      <td>13.110000</td>\n",
       "      <td>NaN</td>\n",
       "      <td>0.044000</td>\n",
       "      <td>NaN</td>\n",
       "      <td>NaN</td>\n",
       "      <td>-81.680000</td>\n",
       "      <td>NaN</td>\n",
       "      <td>NaN</td>\n",
       "      <td>-13.920000</td>\n",
       "      <td>NaN</td>\n",
       "    </tr>\n",
       "    <tr>\n",
       "      <th>Students with Disabilities</th>\n",
       "      <td>NaN</td>\n",
       "      <td>NaN</td>\n",
       "      <td>0.217000</td>\n",
       "      <td>NaN</td>\n",
       "      <td>NaN</td>\n",
       "      <td>NaN</td>\n",
       "      <td>98.610000</td>\n",
       "      <td>NaN</td>\n",
       "      <td>NaN</td>\n",
       "      <td>NaN</td>\n",
       "      <td>...</td>\n",
       "      <td>NaN</td>\n",
       "      <td>NaN</td>\n",
       "      <td>NaN</td>\n",
       "      <td>NaN</td>\n",
       "      <td>NaN</td>\n",
       "      <td>NaN</td>\n",
       "      <td>NaN</td>\n",
       "      <td>NaN</td>\n",
       "      <td>NaN</td>\n",
       "      <td>NaN</td>\n",
       "    </tr>\n",
       "    <tr>\n",
       "      <th>Super Subgroup</th>\n",
       "      <td>NaN</td>\n",
       "      <td>NaN</td>\n",
       "      <td>0.448000</td>\n",
       "      <td>0.556000</td>\n",
       "      <td>NaN</td>\n",
       "      <td>NaN</td>\n",
       "      <td>98.610000</td>\n",
       "      <td>16.930000</td>\n",
       "      <td>NaN</td>\n",
       "      <td>NaN</td>\n",
       "      <td>...</td>\n",
       "      <td>13.110000</td>\n",
       "      <td>NaN</td>\n",
       "      <td>0.108000</td>\n",
       "      <td>NaN</td>\n",
       "      <td>NaN</td>\n",
       "      <td>-81.680000</td>\n",
       "      <td>NaN</td>\n",
       "      <td>NaN</td>\n",
       "      <td>-13.920000</td>\n",
       "      <td>NaN</td>\n",
       "    </tr>\n",
       "    <tr>\n",
       "      <th>White</th>\n",
       "      <td>0.343813</td>\n",
       "      <td>NaN</td>\n",
       "      <td>0.571000</td>\n",
       "      <td>0.600000</td>\n",
       "      <td>5.500000</td>\n",
       "      <td>NaN</td>\n",
       "      <td>98.610000</td>\n",
       "      <td>16.930000</td>\n",
       "      <td>10.000000</td>\n",
       "      <td>NaN</td>\n",
       "      <td>...</td>\n",
       "      <td>13.110000</td>\n",
       "      <td>NaN</td>\n",
       "      <td>0.029000</td>\n",
       "      <td>NaN</td>\n",
       "      <td>NaN</td>\n",
       "      <td>-81.680000</td>\n",
       "      <td>NaN</td>\n",
       "      <td>NaN</td>\n",
       "      <td>-13.920000</td>\n",
       "      <td>NaN</td>\n",
       "    </tr>\n",
       "  </tbody>\n",
       "</table>\n",
       "<p>56836 rows × 21 columns</p>\n",
       "</div>"
      ],
      "text/plain": [
       "                                                                                                                                                    pct_met_exceeded  \\\n",
       "year                                                                                                                                                            2018   \n",
       "system_name                 school_lvl school_type      magnet charter title_1 locale          subject_area   student_group                                            \n",
       "Achievement School District Elementary 1-Regular school 0      0       1       11-City: Large  ELA            All Students                                  0.090990   \n",
       "                                                                                                              Black or African American                     0.090260   \n",
       "                                                                                                              Black/Hispanic/Native American                0.088390   \n",
       "                                                                                                              Economically Disadvantaged                    0.094816   \n",
       "                                                                                                              Female                                             NaN   \n",
       "...                                                                                                                                                              ...   \n",
       "Wilson County               Other      1-Regular school 0      0       0       31-Town: Fringe Social Studies Non-English Learners/Transitional 1-4         0.314286   \n",
       "                                                                                                              Non-Students with Disabilities                0.322645   \n",
       "                                                                                                              Students with Disabilities                         NaN   \n",
       "                                                                                                              Super Subgroup                                     NaN   \n",
       "                                                                                                              White                                         0.343813   \n",
       "\n",
       "                                                                                                                                                               \\\n",
       "year                                                                                                                                                     2019   \n",
       "system_name                 school_lvl school_type      magnet charter title_1 locale          subject_area   student_group                                     \n",
       "Achievement School District Elementary 1-Regular school 0      0       1       11-City: Large  ELA            All Students                           0.075048   \n",
       "                                                                                                              Black or African American              0.072609   \n",
       "                                                                                                              Black/Hispanic/Native American         0.071160   \n",
       "                                                                                                              Economically Disadvantaged             0.074895   \n",
       "                                                                                                              Female                                 0.104330   \n",
       "...                                                                                                                                                       ...   \n",
       "Wilson County               Other      1-Regular school 0      0       0       31-Town: Fringe Social Studies Non-English Learners/Transitional 1-4       NaN   \n",
       "                                                                                                              Non-Students with Disabilities              NaN   \n",
       "                                                                                                              Students with Disabilities                  NaN   \n",
       "                                                                                                              Super Subgroup                              NaN   \n",
       "                                                                                                              White                                       NaN   \n",
       "\n",
       "                                                                                                                                                               \\\n",
       "year                                                                                                                                                     2021   \n",
       "system_name                 school_lvl school_type      magnet charter title_1 locale          subject_area   student_group                                     \n",
       "Achievement School District Elementary 1-Regular school 0      0       1       11-City: Large  ELA            All Students                           0.057583   \n",
       "                                                                                                              Black or African American              0.053000   \n",
       "                                                                                                              Black/Hispanic/Native American         0.058159   \n",
       "                                                                                                              Economically Disadvantaged             0.058005   \n",
       "                                                                                                              Female                                 0.070789   \n",
       "...                                                                                                                                                       ...   \n",
       "Wilson County               Other      1-Regular school 0      0       0       31-Town: Fringe Social Studies Non-English Learners/Transitional 1-4  0.577000   \n",
       "                                                                                                              Non-Students with Disabilities         0.594000   \n",
       "                                                                                                              Students with Disabilities             0.217000   \n",
       "                                                                                                              Super Subgroup                         0.448000   \n",
       "                                                                                                              White                                  0.571000   \n",
       "\n",
       "                                                                                                                                                               \\\n",
       "year                                                                                                                                                     2022   \n",
       "system_name                 school_lvl school_type      magnet charter title_1 locale          subject_area   student_group                                     \n",
       "Achievement School District Elementary 1-Regular school 0      0       1       11-City: Large  ELA            All Students                           0.089914   \n",
       "                                                                                                              Black or African American              0.085405   \n",
       "                                                                                                              Black/Hispanic/Native American         0.083075   \n",
       "                                                                                                              Economically Disadvantaged             0.101831   \n",
       "                                                                                                              Female                                 0.087563   \n",
       "...                                                                                                                                                       ...   \n",
       "Wilson County               Other      1-Regular school 0      0       0       31-Town: Fringe Social Studies Non-English Learners/Transitional 1-4  0.660000   \n",
       "                                                                                                              Non-Students with Disabilities         0.638000   \n",
       "                                                                                                              Students with Disabilities                  NaN   \n",
       "                                                                                                              Super Subgroup                         0.556000   \n",
       "                                                                                                              White                                  0.600000   \n",
       "\n",
       "                                                                                                                                                    fte_teachers  \\\n",
       "year                                                                                                                                                        2018   \n",
       "system_name                 school_lvl school_type      magnet charter title_1 locale          subject_area   student_group                                        \n",
       "Achievement School District Elementary 1-Regular school 0      0       1       11-City: Large  ELA            All Students                             16.068687   \n",
       "                                                                                                              Black or African American                16.022016   \n",
       "                                                                                                              Black/Hispanic/Native American           16.059740   \n",
       "                                                                                                              Economically Disadvantaged               15.875862   \n",
       "                                                                                                              Female                                         NaN   \n",
       "...                                                                                                                                                          ...   \n",
       "Wilson County               Other      1-Regular school 0      0       0       31-Town: Fringe Social Studies Non-English Learners/Transitional 1-4     5.500000   \n",
       "                                                                                                              Non-Students with Disabilities            5.500000   \n",
       "                                                                                                              Students with Disabilities                     NaN   \n",
       "                                                                                                              Super Subgroup                                 NaN   \n",
       "                                                                                                              White                                     5.500000   \n",
       "\n",
       "                                                                                                                                                                \\\n",
       "year                                                                                                                                                      2019   \n",
       "system_name                 school_lvl school_type      magnet charter title_1 locale          subject_area   student_group                                      \n",
       "Achievement School District Elementary 1-Regular school 0      0       1       11-City: Large  ELA            All Students                           13.614091   \n",
       "                                                                                                              Black or African American              13.612646   \n",
       "                                                                                                              Black/Hispanic/Native American         13.609153   \n",
       "                                                                                                              Economically Disadvantaged             13.620912   \n",
       "                                                                                                              Female                                 14.718681   \n",
       "...                                                                                                                                                        ...   \n",
       "Wilson County               Other      1-Regular school 0      0       0       31-Town: Fringe Social Studies Non-English Learners/Transitional 1-4        NaN   \n",
       "                                                                                                              Non-Students with Disabilities               NaN   \n",
       "                                                                                                              Students with Disabilities                   NaN   \n",
       "                                                                                                              Super Subgroup                               NaN   \n",
       "                                                                                                              White                                        NaN   \n",
       "\n",
       "                                                                                                                                                                \\\n",
       "year                                                                                                                                                      2021   \n",
       "system_name                 school_lvl school_type      magnet charter title_1 locale          subject_area   student_group                                      \n",
       "Achievement School District Elementary 1-Regular school 0      0       1       11-City: Large  ELA            All Students                           13.437050   \n",
       "                                                                                                              Black or African American              15.250000   \n",
       "                                                                                                              Black/Hispanic/Native American         13.423913   \n",
       "                                                                                                              Economically Disadvantaged             12.868421   \n",
       "                                                                                                              Female                                 13.031690   \n",
       "...                                                                                                                                                        ...   \n",
       "Wilson County               Other      1-Regular school 0      0       0       31-Town: Fringe Social Studies Non-English Learners/Transitional 1-4  98.610000   \n",
       "                                                                                                              Non-Students with Disabilities         98.610000   \n",
       "                                                                                                              Students with Disabilities             98.610000   \n",
       "                                                                                                              Super Subgroup                         98.610000   \n",
       "                                                                                                              White                                  98.610000   \n",
       "\n",
       "                                                                                                                                                                \\\n",
       "year                                                                                                                                                      2022   \n",
       "system_name                 school_lvl school_type      magnet charter title_1 locale          subject_area   student_group                                      \n",
       "Achievement School District Elementary 1-Regular school 0      0       1       11-City: Large  ELA            All Students                           10.265169   \n",
       "                                                                                                              Black or African American              10.242996   \n",
       "                                                                                                              Black/Hispanic/Native American         10.279094   \n",
       "                                                                                                              Economically Disadvantaged             10.384746   \n",
       "                                                                                                              Female                                 11.675625   \n",
       "...                                                                                                                                                        ...   \n",
       "Wilson County               Other      1-Regular school 0      0       0       31-Town: Fringe Social Studies Non-English Learners/Transitional 1-4  16.930000   \n",
       "                                                                                                              Non-Students with Disabilities         16.930000   \n",
       "                                                                                                              Students with Disabilities                   NaN   \n",
       "                                                                                                              Super Subgroup                         16.930000   \n",
       "                                                                                                              White                                  16.930000   \n",
       "\n",
       "                                                                                                                                                    stu_tchr_ratio  \\\n",
       "year                                                                                                                                                          2018   \n",
       "system_name                 school_lvl school_type      magnet charter title_1 locale          subject_area   student_group                                          \n",
       "Achievement School District Elementary 1-Regular school 0      0       1       11-City: Large  ELA            All Students                               19.127374   \n",
       "                                                                                                              Black or African American                  19.146605   \n",
       "                                                                                                              Black/Hispanic/Native American             19.131818   \n",
       "                                                                                                              Economically Disadvantaged                 19.204713   \n",
       "                                                                                                              Female                                           NaN   \n",
       "...                                                                                                                                                            ...   \n",
       "Wilson County               Other      1-Regular school 0      0       0       31-Town: Fringe Social Studies Non-English Learners/Transitional 1-4      10.000000   \n",
       "                                                                                                              Non-Students with Disabilities             10.000000   \n",
       "                                                                                                              Students with Disabilities                       NaN   \n",
       "                                                                                                              Super Subgroup                                   NaN   \n",
       "                                                                                                              White                                      10.000000   \n",
       "\n",
       "                                                                                                                                                                \\\n",
       "year                                                                                                                                                      2019   \n",
       "system_name                 school_lvl school_type      magnet charter title_1 locale          subject_area   student_group                                      \n",
       "Achievement School District Elementary 1-Regular school 0      0       1       11-City: Large  ELA            All Students                           19.758750   \n",
       "                                                                                                              Black or African American              19.764239   \n",
       "                                                                                                              Black/Hispanic/Native American         19.758993   \n",
       "                                                                                                              Economically Disadvantaged             19.720858   \n",
       "                                                                                                              Female                                 20.109011   \n",
       "...                                                                                                                                                        ...   \n",
       "Wilson County               Other      1-Regular school 0      0       0       31-Town: Fringe Social Studies Non-English Learners/Transitional 1-4        NaN   \n",
       "                                                                                                              Non-Students with Disabilities               NaN   \n",
       "                                                                                                              Students with Disabilities                   NaN   \n",
       "                                                                                                              Super Subgroup                               NaN   \n",
       "                                                                                                              White                                        NaN   \n",
       "\n",
       "                                                                                                                                                     ...  \\\n",
       "year                                                                                                                                                 ...   \n",
       "system_name                 school_lvl school_type      magnet charter title_1 locale          subject_area   student_group                          ...   \n",
       "Achievement School District Elementary 1-Regular school 0      0       1       11-City: Large  ELA            All Students                           ...   \n",
       "                                                                                                              Black or African American              ...   \n",
       "                                                                                                              Black/Hispanic/Native American         ...   \n",
       "                                                                                                              Economically Disadvantaged             ...   \n",
       "                                                                                                              Female                                 ...   \n",
       "...                                                                                                                                                  ...   \n",
       "Wilson County               Other      1-Regular school 0      0       0       31-Town: Fringe Social Studies Non-English Learners/Transitional 1-4  ...   \n",
       "                                                                                                              Non-Students with Disabilities         ...   \n",
       "                                                                                                              Students with Disabilities             ...   \n",
       "                                                                                                              Super Subgroup                         ...   \n",
       "                                                                                                              White                                  ...   \n",
       "\n",
       "                                                                                                                                                                \\\n",
       "year                                                                                                                                                      2022   \n",
       "system_name                 school_lvl school_type      magnet charter title_1 locale          subject_area   student_group                                      \n",
       "Achievement School District Elementary 1-Regular school 0      0       1       11-City: Large  ELA            All Students                           18.669213   \n",
       "                                                                                                              Black or African American              18.665292   \n",
       "                                                                                                              Black/Hispanic/Native American         18.646943   \n",
       "                                                                                                              Economically Disadvantaged             18.492373   \n",
       "                                                                                                              Female                                 19.357500   \n",
       "...                                                                                                                                                        ...   \n",
       "Wilson County               Other      1-Regular school 0      0       0       31-Town: Fringe Social Studies Non-English Learners/Transitional 1-4  13.110000   \n",
       "                                                                                                              Non-Students with Disabilities         13.110000   \n",
       "                                                                                                              Students with Disabilities                   NaN   \n",
       "                                                                                                              Super Subgroup                         13.110000   \n",
       "                                                                                                              White                                  13.110000   \n",
       "\n",
       "                                                                                                                                                    pct_met_exceeded  \\\n",
       "year                                                                                                                                                            lvpp   \n",
       "system_name                 school_lvl school_type      magnet charter title_1 locale          subject_area   student_group                                            \n",
       "Achievement School District Elementary 1-Regular school 0      0       1       11-City: Large  ELA            All Students                                 -0.017465   \n",
       "                                                                                                              Black or African American                    -0.019609   \n",
       "                                                                                                              Black/Hispanic/Native American               -0.013001   \n",
       "                                                                                                              Economically Disadvantaged                   -0.016890   \n",
       "                                                                                                              Female                                       -0.033541   \n",
       "...                                                                                                                                                              ...   \n",
       "Wilson County               Other      1-Regular school 0      0       0       31-Town: Fringe Social Studies Non-English Learners/Transitional 1-4              NaN   \n",
       "                                                                                                              Non-Students with Disabilities                     NaN   \n",
       "                                                                                                              Students with Disabilities                         NaN   \n",
       "                                                                                                              Super Subgroup                                     NaN   \n",
       "                                                                                                              White                                              NaN   \n",
       "\n",
       "                                                                                                                                                               \\\n",
       "year                                                                                                                                                    intra   \n",
       "system_name                 school_lvl school_type      magnet charter title_1 locale          subject_area   student_group                                     \n",
       "Achievement School District Elementary 1-Regular school 0      0       1       11-City: Large  ELA            All Students                           0.032331   \n",
       "                                                                                                              Black or African American              0.032405   \n",
       "                                                                                                              Black/Hispanic/Native American         0.024916   \n",
       "                                                                                                              Economically Disadvantaged             0.043825   \n",
       "                                                                                                              Female                                 0.016774   \n",
       "...                                                                                                                                                       ...   \n",
       "Wilson County               Other      1-Regular school 0      0       0       31-Town: Fringe Social Studies Non-English Learners/Transitional 1-4  0.083000   \n",
       "                                                                                                              Non-Students with Disabilities         0.044000   \n",
       "                                                                                                              Students with Disabilities                  NaN   \n",
       "                                                                                                              Super Subgroup                         0.108000   \n",
       "                                                                                                              White                                  0.029000   \n",
       "\n",
       "                                                                                                                                                               \\\n",
       "year                                                                                                                                                 pre-post   \n",
       "system_name                 school_lvl school_type      magnet charter title_1 locale          subject_area   student_group                                     \n",
       "Achievement School District Elementary 1-Regular school 0      0       1       11-City: Large  ELA            All Students                           0.107379   \n",
       "                                                                                                              Black or African American              0.105014   \n",
       "                                                                                                              Black/Hispanic/Native American         0.096076   \n",
       "                                                                                                              Economically Disadvantaged             0.118721   \n",
       "                                                                                                              Female                                 0.121103   \n",
       "...                                                                                                                                                       ...   \n",
       "Wilson County               Other      1-Regular school 0      0       0       31-Town: Fringe Social Studies Non-English Learners/Transitional 1-4       NaN   \n",
       "                                                                                                              Non-Students with Disabilities              NaN   \n",
       "                                                                                                              Students with Disabilities                  NaN   \n",
       "                                                                                                              Super Subgroup                              NaN   \n",
       "                                                                                                              White                                       NaN   \n",
       "\n",
       "                                                                                                                                                    fte_teachers  \\\n",
       "year                                                                                                                                                        lvpp   \n",
       "system_name                 school_lvl school_type      magnet charter title_1 locale          subject_area   student_group                                        \n",
       "Achievement School District Elementary 1-Regular school 0      0       1       11-City: Large  ELA            All Students                             -0.177041   \n",
       "                                                                                                              Black or African American                 1.637354   \n",
       "                                                                                                              Black/Hispanic/Native American           -0.185240   \n",
       "                                                                                                              Economically Disadvantaged               -0.752490   \n",
       "                                                                                                              Female                                   -1.686991   \n",
       "...                                                                                                                                                          ...   \n",
       "Wilson County               Other      1-Regular school 0      0       0       31-Town: Fringe Social Studies Non-English Learners/Transitional 1-4          NaN   \n",
       "                                                                                                              Non-Students with Disabilities                 NaN   \n",
       "                                                                                                              Students with Disabilities                     NaN   \n",
       "                                                                                                              Super Subgroup                                 NaN   \n",
       "                                                                                                              White                                          NaN   \n",
       "\n",
       "                                                                                                                                                                \\\n",
       "year                                                                                                                                                     intra   \n",
       "system_name                 school_lvl school_type      magnet charter title_1 locale          subject_area   student_group                                      \n",
       "Achievement School District Elementary 1-Regular school 0      0       1       11-City: Large  ELA            All Students                           -3.171882   \n",
       "                                                                                                              Black or African American              -5.007004   \n",
       "                                                                                                              Black/Hispanic/Native American         -3.144819   \n",
       "                                                                                                              Economically Disadvantaged             -2.483675   \n",
       "                                                                                                              Female                                 -1.356065   \n",
       "...                                                                                                                                                        ...   \n",
       "Wilson County               Other      1-Regular school 0      0       0       31-Town: Fringe Social Studies Non-English Learners/Transitional 1-4 -81.680000   \n",
       "                                                                                                              Non-Students with Disabilities        -81.680000   \n",
       "                                                                                                              Students with Disabilities                   NaN   \n",
       "                                                                                                              Super Subgroup                        -81.680000   \n",
       "                                                                                                              White                                 -81.680000   \n",
       "\n",
       "                                                                                                                                                                \\\n",
       "year                                                                                                                                                  pre-post   \n",
       "system_name                 school_lvl school_type      magnet charter title_1 locale          subject_area   student_group                                      \n",
       "Achievement School District Elementary 1-Regular school 0      0       1       11-City: Large  ELA            All Students                           10.442209   \n",
       "                                                                                                              Black or African American               8.605642   \n",
       "                                                                                                              Black/Hispanic/Native American         10.464335   \n",
       "                                                                                                              Economically Disadvantaged             11.137236   \n",
       "                                                                                                              Female                                 13.362616   \n",
       "...                                                                                                                                                        ...   \n",
       "Wilson County               Other      1-Regular school 0      0       0       31-Town: Fringe Social Studies Non-English Learners/Transitional 1-4        NaN   \n",
       "                                                                                                              Non-Students with Disabilities               NaN   \n",
       "                                                                                                              Students with Disabilities                   NaN   \n",
       "                                                                                                              Super Subgroup                               NaN   \n",
       "                                                                                                              White                                        NaN   \n",
       "\n",
       "                                                                                                                                                    stu_tchr_ratio  \\\n",
       "year                                                                                                                                                          lvpp   \n",
       "system_name                 school_lvl school_type      magnet charter title_1 locale          subject_area   student_group                                          \n",
       "Achievement School District Elementary 1-Regular school 0      0       1       11-City: Large  ELA            All Students                               -4.495728   \n",
       "                                                                                                              Black or African American                  -3.244239   \n",
       "                                                                                                              Black/Hispanic/Native American             -4.505080   \n",
       "                                                                                                              Economically Disadvantaged                 -3.478542   \n",
       "                                                                                                              Female                                     -5.127039   \n",
       "...                                                                                                                                                            ...   \n",
       "Wilson County               Other      1-Regular school 0      0       0       31-Town: Fringe Social Studies Non-English Learners/Transitional 1-4            NaN   \n",
       "                                                                                                              Non-Students with Disabilities                   NaN   \n",
       "                                                                                                              Students with Disabilities                       NaN   \n",
       "                                                                                                              Super Subgroup                                   NaN   \n",
       "                                                                                                              White                                            NaN   \n",
       "\n",
       "                                                                                                                                                                \\\n",
       "year                                                                                                                                                     intra   \n",
       "system_name                 school_lvl school_type      magnet charter title_1 locale          subject_area   student_group                                      \n",
       "Achievement School District Elementary 1-Regular school 0      0       1       11-City: Large  ELA            All Students                            3.406192   \n",
       "                                                                                                              Black or African American               2.145292   \n",
       "                                                                                                              Black/Hispanic/Native American          3.393030   \n",
       "                                                                                                              Economically Disadvantaged              2.250057   \n",
       "                                                                                                              Female                                  4.375528   \n",
       "...                                                                                                                                                        ...   \n",
       "Wilson County               Other      1-Regular school 0      0       0       31-Town: Fringe Social Studies Non-English Learners/Transitional 1-4 -13.920000   \n",
       "                                                                                                              Non-Students with Disabilities        -13.920000   \n",
       "                                                                                                              Students with Disabilities                   NaN   \n",
       "                                                                                                              Super Subgroup                        -13.920000   \n",
       "                                                                                                              White                                 -13.920000   \n",
       "\n",
       "                                                                                                                                                                \n",
       "year                                                                                                                                                  pre-post  \n",
       "system_name                 school_lvl school_type      magnet charter title_1 locale          subject_area   student_group                                     \n",
       "Achievement School District Elementary 1-Regular school 0      0       1       11-City: Large  ELA            All Students                           23.164942  \n",
       "                                                                                                              Black or African American              21.909531  \n",
       "                                                                                                              Black/Hispanic/Native American         23.152023  \n",
       "                                                                                                              Economically Disadvantaged             21.970915  \n",
       "                                                                                                              Female                                 24.484539  \n",
       "...                                                                                                                                                        ...  \n",
       "Wilson County               Other      1-Regular school 0      0       0       31-Town: Fringe Social Studies Non-English Learners/Transitional 1-4        NaN  \n",
       "                                                                                                              Non-Students with Disabilities               NaN  \n",
       "                                                                                                              Students with Disabilities                   NaN  \n",
       "                                                                                                              Super Subgroup                               NaN  \n",
       "                                                                                                              White                                        NaN  \n",
       "\n",
       "[56836 rows x 21 columns]"
      ]
     },
     "execution_count": 17,
     "metadata": {},
     "output_type": "execute_result"
    }
   ],
   "source": [
    "weighted_avg_pivot"
   ]
  },
  {
   "cell_type": "code",
   "execution_count": 18,
   "metadata": {},
   "outputs": [],
   "source": [
    "# #Calculate difference between last valid prepandemic test and the first valid post-covid score.\n",
    "\n",
    "# # Last valid test for Science\n",
    "# science_lvpp = 2018\n",
    "# science_stop = 2021\n",
    "\n",
    "# # Last valid test for Math\n",
    "# math_lvpp = 2019\n",
    "# math_stop = 2021\n",
    "\n",
    "# # Last valid test for ELA\n",
    "# math_lvpp = 2019\n",
    "# math_stop = 2021\n",
    "\n",
    "# # Last valid test for social studies\n",
    "# social_studies_lvpp = 2019\n",
    "# social_studies_stop = 2021"
   ]
  },
  {
   "cell_type": "code",
   "execution_count": 19,
   "metadata": {},
   "outputs": [
    {
     "data": {
      "text/html": [
       "<div>\n",
       "<style scoped>\n",
       "    .dataframe tbody tr th:only-of-type {\n",
       "        vertical-align: middle;\n",
       "    }\n",
       "\n",
       "    .dataframe tbody tr th {\n",
       "        vertical-align: top;\n",
       "    }\n",
       "\n",
       "    .dataframe thead th {\n",
       "        text-align: right;\n",
       "    }\n",
       "</style>\n",
       "<table border=\"1\" class=\"dataframe\">\n",
       "  <thead>\n",
       "    <tr style=\"text-align: right;\">\n",
       "      <th></th>\n",
       "      <th>system_name</th>\n",
       "      <th>school_lvl</th>\n",
       "      <th>school_type</th>\n",
       "      <th>magnet</th>\n",
       "      <th>charter</th>\n",
       "      <th>title_1</th>\n",
       "      <th>locale</th>\n",
       "      <th>subject_area</th>\n",
       "      <th>student_group</th>\n",
       "      <th>year</th>\n",
       "      <th>fte_teachers</th>\n",
       "      <th>pct_met_exceeded</th>\n",
       "      <th>stu_tchr_ratio</th>\n",
       "    </tr>\n",
       "  </thead>\n",
       "  <tbody>\n",
       "    <tr>\n",
       "      <th>0</th>\n",
       "      <td>Achievement School District</td>\n",
       "      <td>Elementary</td>\n",
       "      <td>1-Regular school</td>\n",
       "      <td>0</td>\n",
       "      <td>0</td>\n",
       "      <td>1</td>\n",
       "      <td>11-City: Large</td>\n",
       "      <td>ELA</td>\n",
       "      <td>All Students</td>\n",
       "      <td>2018</td>\n",
       "      <td>16.068687</td>\n",
       "      <td>0.090990</td>\n",
       "      <td>19.127374</td>\n",
       "    </tr>\n",
       "    <tr>\n",
       "      <th>1</th>\n",
       "      <td>Achievement School District</td>\n",
       "      <td>Elementary</td>\n",
       "      <td>1-Regular school</td>\n",
       "      <td>0</td>\n",
       "      <td>0</td>\n",
       "      <td>1</td>\n",
       "      <td>11-City: Large</td>\n",
       "      <td>ELA</td>\n",
       "      <td>All Students</td>\n",
       "      <td>2019</td>\n",
       "      <td>13.614091</td>\n",
       "      <td>0.075048</td>\n",
       "      <td>19.758750</td>\n",
       "    </tr>\n",
       "    <tr>\n",
       "      <th>2</th>\n",
       "      <td>Achievement School District</td>\n",
       "      <td>Elementary</td>\n",
       "      <td>1-Regular school</td>\n",
       "      <td>0</td>\n",
       "      <td>0</td>\n",
       "      <td>1</td>\n",
       "      <td>11-City: Large</td>\n",
       "      <td>ELA</td>\n",
       "      <td>All Students</td>\n",
       "      <td>2021</td>\n",
       "      <td>13.437050</td>\n",
       "      <td>0.057583</td>\n",
       "      <td>15.263022</td>\n",
       "    </tr>\n",
       "    <tr>\n",
       "      <th>3</th>\n",
       "      <td>Achievement School District</td>\n",
       "      <td>Elementary</td>\n",
       "      <td>1-Regular school</td>\n",
       "      <td>0</td>\n",
       "      <td>0</td>\n",
       "      <td>1</td>\n",
       "      <td>11-City: Large</td>\n",
       "      <td>ELA</td>\n",
       "      <td>All Students</td>\n",
       "      <td>2022</td>\n",
       "      <td>10.265169</td>\n",
       "      <td>0.089914</td>\n",
       "      <td>18.669213</td>\n",
       "    </tr>\n",
       "    <tr>\n",
       "      <th>4</th>\n",
       "      <td>Achievement School District</td>\n",
       "      <td>Elementary</td>\n",
       "      <td>1-Regular school</td>\n",
       "      <td>0</td>\n",
       "      <td>0</td>\n",
       "      <td>1</td>\n",
       "      <td>11-City: Large</td>\n",
       "      <td>ELA</td>\n",
       "      <td>All Students</td>\n",
       "      <td>lvpp</td>\n",
       "      <td>-0.177041</td>\n",
       "      <td>-0.017465</td>\n",
       "      <td>-4.495728</td>\n",
       "    </tr>\n",
       "    <tr>\n",
       "      <th>...</th>\n",
       "      <td>...</td>\n",
       "      <td>...</td>\n",
       "      <td>...</td>\n",
       "      <td>...</td>\n",
       "      <td>...</td>\n",
       "      <td>...</td>\n",
       "      <td>...</td>\n",
       "      <td>...</td>\n",
       "      <td>...</td>\n",
       "      <td>...</td>\n",
       "      <td>...</td>\n",
       "      <td>...</td>\n",
       "      <td>...</td>\n",
       "    </tr>\n",
       "    <tr>\n",
       "      <th>227185</th>\n",
       "      <td>Wilson County</td>\n",
       "      <td>Other</td>\n",
       "      <td>1-Regular school</td>\n",
       "      <td>0</td>\n",
       "      <td>0</td>\n",
       "      <td>0</td>\n",
       "      <td>31-Town: Fringe</td>\n",
       "      <td>Social Studies</td>\n",
       "      <td>Super Subgroup</td>\n",
       "      <td>intra</td>\n",
       "      <td>-81.680000</td>\n",
       "      <td>0.108000</td>\n",
       "      <td>-13.920000</td>\n",
       "    </tr>\n",
       "    <tr>\n",
       "      <th>227186</th>\n",
       "      <td>Wilson County</td>\n",
       "      <td>Other</td>\n",
       "      <td>1-Regular school</td>\n",
       "      <td>0</td>\n",
       "      <td>0</td>\n",
       "      <td>0</td>\n",
       "      <td>31-Town: Fringe</td>\n",
       "      <td>Social Studies</td>\n",
       "      <td>White</td>\n",
       "      <td>2018</td>\n",
       "      <td>5.500000</td>\n",
       "      <td>0.343813</td>\n",
       "      <td>10.000000</td>\n",
       "    </tr>\n",
       "    <tr>\n",
       "      <th>227187</th>\n",
       "      <td>Wilson County</td>\n",
       "      <td>Other</td>\n",
       "      <td>1-Regular school</td>\n",
       "      <td>0</td>\n",
       "      <td>0</td>\n",
       "      <td>0</td>\n",
       "      <td>31-Town: Fringe</td>\n",
       "      <td>Social Studies</td>\n",
       "      <td>White</td>\n",
       "      <td>2021</td>\n",
       "      <td>98.610000</td>\n",
       "      <td>0.571000</td>\n",
       "      <td>27.030000</td>\n",
       "    </tr>\n",
       "    <tr>\n",
       "      <th>227188</th>\n",
       "      <td>Wilson County</td>\n",
       "      <td>Other</td>\n",
       "      <td>1-Regular school</td>\n",
       "      <td>0</td>\n",
       "      <td>0</td>\n",
       "      <td>0</td>\n",
       "      <td>31-Town: Fringe</td>\n",
       "      <td>Social Studies</td>\n",
       "      <td>White</td>\n",
       "      <td>2022</td>\n",
       "      <td>16.930000</td>\n",
       "      <td>0.600000</td>\n",
       "      <td>13.110000</td>\n",
       "    </tr>\n",
       "    <tr>\n",
       "      <th>227189</th>\n",
       "      <td>Wilson County</td>\n",
       "      <td>Other</td>\n",
       "      <td>1-Regular school</td>\n",
       "      <td>0</td>\n",
       "      <td>0</td>\n",
       "      <td>0</td>\n",
       "      <td>31-Town: Fringe</td>\n",
       "      <td>Social Studies</td>\n",
       "      <td>White</td>\n",
       "      <td>intra</td>\n",
       "      <td>-81.680000</td>\n",
       "      <td>0.029000</td>\n",
       "      <td>-13.920000</td>\n",
       "    </tr>\n",
       "  </tbody>\n",
       "</table>\n",
       "<p>227190 rows × 13 columns</p>\n",
       "</div>"
      ],
      "text/plain": [
       "                        system_name  school_lvl       school_type  magnet  \\\n",
       "0       Achievement School District  Elementary  1-Regular school       0   \n",
       "1       Achievement School District  Elementary  1-Regular school       0   \n",
       "2       Achievement School District  Elementary  1-Regular school       0   \n",
       "3       Achievement School District  Elementary  1-Regular school       0   \n",
       "4       Achievement School District  Elementary  1-Regular school       0   \n",
       "...                             ...         ...               ...     ...   \n",
       "227185                Wilson County       Other  1-Regular school       0   \n",
       "227186                Wilson County       Other  1-Regular school       0   \n",
       "227187                Wilson County       Other  1-Regular school       0   \n",
       "227188                Wilson County       Other  1-Regular school       0   \n",
       "227189                Wilson County       Other  1-Regular school       0   \n",
       "\n",
       "        charter title_1           locale    subject_area   student_group  \\\n",
       "0             0       1   11-City: Large             ELA    All Students   \n",
       "1             0       1   11-City: Large             ELA    All Students   \n",
       "2             0       1   11-City: Large             ELA    All Students   \n",
       "3             0       1   11-City: Large             ELA    All Students   \n",
       "4             0       1   11-City: Large             ELA    All Students   \n",
       "...         ...     ...              ...             ...             ...   \n",
       "227185        0       0  31-Town: Fringe  Social Studies  Super Subgroup   \n",
       "227186        0       0  31-Town: Fringe  Social Studies           White   \n",
       "227187        0       0  31-Town: Fringe  Social Studies           White   \n",
       "227188        0       0  31-Town: Fringe  Social Studies           White   \n",
       "227189        0       0  31-Town: Fringe  Social Studies           White   \n",
       "\n",
       "         year  fte_teachers  pct_met_exceeded  stu_tchr_ratio  \n",
       "0        2018     16.068687          0.090990       19.127374  \n",
       "1        2019     13.614091          0.075048       19.758750  \n",
       "2        2021     13.437050          0.057583       15.263022  \n",
       "3        2022     10.265169          0.089914       18.669213  \n",
       "4        lvpp     -0.177041         -0.017465       -4.495728  \n",
       "...       ...           ...               ...             ...  \n",
       "227185  intra    -81.680000          0.108000      -13.920000  \n",
       "227186   2018      5.500000          0.343813       10.000000  \n",
       "227187   2021     98.610000          0.571000       27.030000  \n",
       "227188   2022     16.930000          0.600000       13.110000  \n",
       "227189  intra    -81.680000          0.029000      -13.920000  \n",
       "\n",
       "[227190 rows x 13 columns]"
      ]
     },
     "execution_count": 19,
     "metadata": {},
     "output_type": "execute_result"
    }
   ],
   "source": [
    "# Unstack weighted assessments pivot table\n",
    "weighted_assessments = weighted_avg_pivot.stack().reset_index()\n",
    "weighted_assessments"
   ]
  },
  {
   "cell_type": "code",
   "execution_count": null,
   "metadata": {},
   "outputs": [],
   "source": []
  },
  {
   "attachments": {},
   "cell_type": "markdown",
   "metadata": {},
   "source": [
    "###  GeoSpatial Merge"
   ]
  },
  {
   "cell_type": "code",
   "execution_count": 20,
   "metadata": {},
   "outputs": [
    {
     "name": "stdout",
     "output_type": "stream",
     "text": [
      "<class 'pandas.core.frame.DataFrame'>\n",
      "RangeIndex: 227190 entries, 0 to 227189\n",
      "Data columns (total 13 columns):\n",
      " #   Column            Non-Null Count   Dtype  \n",
      "---  ------            --------------   -----  \n",
      " 0   system_name       227190 non-null  object \n",
      " 1   school_lvl        227190 non-null  object \n",
      " 2   school_type       227190 non-null  object \n",
      " 3   magnet            227190 non-null  int64  \n",
      " 4   charter           227190 non-null  int64  \n",
      " 5   title_1           227190 non-null  object \n",
      " 6   locale            227190 non-null  object \n",
      " 7   subject_area      227190 non-null  object \n",
      " 8   student_group     227190 non-null  object \n",
      " 9   year              227190 non-null  object \n",
      " 10  fte_teachers      227190 non-null  float64\n",
      " 11  pct_met_exceeded  227190 non-null  float64\n",
      " 12  stu_tchr_ratio    227190 non-null  float64\n",
      "dtypes: float64(3), int64(2), object(8)\n",
      "memory usage: 22.5+ MB\n"
     ]
    }
   ],
   "source": [
    "weighted_assessments.info()"
   ]
  },
  {
   "attachments": {},
   "cell_type": "markdown",
   "metadata": {},
   "source": [
    "### 📊 Visual EDA"
   ]
  },
  {
   "cell_type": "code",
   "execution_count": 21,
   "metadata": {},
   "outputs": [
    {
     "ename": "NameError",
     "evalue": "name 'go' is not defined",
     "output_type": "error",
     "traceback": [
      "\u001b[0;31m---------------------------------------------------------------------------\u001b[0m",
      "\u001b[0;31mNameError\u001b[0m                                 Traceback (most recent call last)",
      "Cell \u001b[0;32mIn[21], line 8\u001b[0m\n\u001b[1;32m      6\u001b[0m \u001b[39mfor\u001b[39;00m school_level \u001b[39min\u001b[39;00m school_levels:\n\u001b[1;32m      7\u001b[0m     data \u001b[39m=\u001b[39m weighted_assessments[weighted_assessments[\u001b[39m'\u001b[39m\u001b[39mschool_lvl\u001b[39m\u001b[39m'\u001b[39m] \u001b[39m==\u001b[39m school_level]\n\u001b[0;32m----> 8\u001b[0m     heatmap \u001b[39m=\u001b[39m go\u001b[39m.\u001b[39mHeatmap(\n\u001b[1;32m      9\u001b[0m         x\u001b[39m=\u001b[39mdata[\u001b[39m'\u001b[39m\u001b[39msubject_area\u001b[39m\u001b[39m'\u001b[39m],\n\u001b[1;32m     10\u001b[0m         y\u001b[39m=\u001b[39mdata[\u001b[39m'\u001b[39m\u001b[39myear\u001b[39m\u001b[39m'\u001b[39m],\n\u001b[1;32m     11\u001b[0m         z\u001b[39m=\u001b[39mdata[\u001b[39m'\u001b[39m\u001b[39mpct_met_exceeded\u001b[39m\u001b[39m'\u001b[39m],\n\u001b[1;32m     12\u001b[0m         colorscale\u001b[39m=\u001b[39m\u001b[39m'\u001b[39m\u001b[39mviridis\u001b[39m\u001b[39m'\u001b[39m,\n\u001b[1;32m     13\u001b[0m         colorbar\u001b[39m=\u001b[39m\u001b[39mdict\u001b[39m(title\u001b[39m=\u001b[39m\u001b[39m'\u001b[39m\u001b[39mpct_met_exceeded\u001b[39m\u001b[39m'\u001b[39m),\n\u001b[1;32m     14\u001b[0m         name\u001b[39m=\u001b[39mschool_level\n\u001b[1;32m     15\u001b[0m     )\n\u001b[1;32m     16\u001b[0m     heatmaps\u001b[39m.\u001b[39mappend(heatmap)\n\u001b[1;32m     18\u001b[0m \u001b[39m# Create the figure and add the heatmaps\u001b[39;00m\n",
      "\u001b[0;31mNameError\u001b[0m: name 'go' is not defined"
     ]
    }
   ],
   "source": [
    "# Get unique school levels\n",
    "school_levels = weighted_assessments['school_lvl'].unique()\n",
    "\n",
    "# Create the heatmap traces for each school level\n",
    "heatmaps = []\n",
    "for school_level in school_levels:\n",
    "    data = weighted_assessments[weighted_assessments['school_lvl'] == school_level]\n",
    "    heatmap = go.Heatmap(\n",
    "        x=data['subject_area'],\n",
    "        y=data['year'],\n",
    "        z=data['pct_met_exceeded'],\n",
    "        colorscale='viridis',\n",
    "        colorbar=dict(title='pct_met_exceeded'),\n",
    "        name=school_level\n",
    "    )\n",
    "    heatmaps.append(heatmap)\n",
    "\n",
    "# Create the figure and add the heatmaps\n",
    "fig = go.Figure(data=heatmaps)\n",
    "\n",
    "# Customize the layout\n",
    "fig.update_layout(\n",
    "    title='Changes in pct_met_exceeded by School Level, Subject Area, and Year',\n",
    "    xaxis=dict(title='Subject Area'),\n",
    "    yaxis=dict(title='Year'),\n",
    "    height=600,\n",
    "    width=800\n",
    ")\n",
    "\n",
    "# Show the facetted heatmap\n",
    "fig.show()\n"
   ]
  },
  {
   "cell_type": "code",
   "execution_count": null,
   "metadata": {},
   "outputs": [
    {
     "data": {
      "text/html": [
       "<div>\n",
       "<style scoped>\n",
       "    .dataframe tbody tr th:only-of-type {\n",
       "        vertical-align: middle;\n",
       "    }\n",
       "\n",
       "    .dataframe tbody tr th {\n",
       "        vertical-align: top;\n",
       "    }\n",
       "\n",
       "    .dataframe thead th {\n",
       "        text-align: right;\n",
       "    }\n",
       "</style>\n",
       "<table border=\"1\" class=\"dataframe\">\n",
       "  <thead>\n",
       "    <tr style=\"text-align: right;\">\n",
       "      <th></th>\n",
       "      <th>system_name</th>\n",
       "      <th>school_lvl</th>\n",
       "      <th>school_type</th>\n",
       "      <th>magnet</th>\n",
       "      <th>charter</th>\n",
       "      <th>title_1</th>\n",
       "      <th>locale</th>\n",
       "      <th>subject_area</th>\n",
       "      <th>student_group</th>\n",
       "      <th>year</th>\n",
       "      <th>fte_teachers</th>\n",
       "      <th>pct_met_exceeded</th>\n",
       "      <th>stu_tchr_ratio</th>\n",
       "    </tr>\n",
       "  </thead>\n",
       "  <tbody>\n",
       "    <tr>\n",
       "      <th>0</th>\n",
       "      <td>Achievement School District</td>\n",
       "      <td>Elementary</td>\n",
       "      <td>1-Regular school</td>\n",
       "      <td>0</td>\n",
       "      <td>0</td>\n",
       "      <td>1</td>\n",
       "      <td>11-City: Large</td>\n",
       "      <td>ELA</td>\n",
       "      <td>All Students</td>\n",
       "      <td>2018</td>\n",
       "      <td>16.068687</td>\n",
       "      <td>0.090990</td>\n",
       "      <td>19.127374</td>\n",
       "    </tr>\n",
       "    <tr>\n",
       "      <th>1</th>\n",
       "      <td>Achievement School District</td>\n",
       "      <td>Elementary</td>\n",
       "      <td>1-Regular school</td>\n",
       "      <td>0</td>\n",
       "      <td>0</td>\n",
       "      <td>1</td>\n",
       "      <td>11-City: Large</td>\n",
       "      <td>ELA</td>\n",
       "      <td>All Students</td>\n",
       "      <td>2019</td>\n",
       "      <td>13.614091</td>\n",
       "      <td>0.075048</td>\n",
       "      <td>19.758750</td>\n",
       "    </tr>\n",
       "    <tr>\n",
       "      <th>2</th>\n",
       "      <td>Achievement School District</td>\n",
       "      <td>Elementary</td>\n",
       "      <td>1-Regular school</td>\n",
       "      <td>0</td>\n",
       "      <td>0</td>\n",
       "      <td>1</td>\n",
       "      <td>11-City: Large</td>\n",
       "      <td>ELA</td>\n",
       "      <td>All Students</td>\n",
       "      <td>2021</td>\n",
       "      <td>13.437050</td>\n",
       "      <td>0.057583</td>\n",
       "      <td>15.263022</td>\n",
       "    </tr>\n",
       "    <tr>\n",
       "      <th>3</th>\n",
       "      <td>Achievement School District</td>\n",
       "      <td>Elementary</td>\n",
       "      <td>1-Regular school</td>\n",
       "      <td>0</td>\n",
       "      <td>0</td>\n",
       "      <td>1</td>\n",
       "      <td>11-City: Large</td>\n",
       "      <td>ELA</td>\n",
       "      <td>All Students</td>\n",
       "      <td>2022</td>\n",
       "      <td>10.265169</td>\n",
       "      <td>0.089914</td>\n",
       "      <td>18.669213</td>\n",
       "    </tr>\n",
       "    <tr>\n",
       "      <th>4</th>\n",
       "      <td>Achievement School District</td>\n",
       "      <td>Elementary</td>\n",
       "      <td>1-Regular school</td>\n",
       "      <td>0</td>\n",
       "      <td>0</td>\n",
       "      <td>1</td>\n",
       "      <td>11-City: Large</td>\n",
       "      <td>ELA</td>\n",
       "      <td>Black or African American</td>\n",
       "      <td>2018</td>\n",
       "      <td>16.022016</td>\n",
       "      <td>0.090260</td>\n",
       "      <td>19.146605</td>\n",
       "    </tr>\n",
       "  </tbody>\n",
       "</table>\n",
       "</div>"
      ],
      "text/plain": [
       "                   system_name  school_lvl       school_type  magnet  charter  \\\n",
       "0  Achievement School District  Elementary  1-Regular school       0        0   \n",
       "1  Achievement School District  Elementary  1-Regular school       0        0   \n",
       "2  Achievement School District  Elementary  1-Regular school       0        0   \n",
       "3  Achievement School District  Elementary  1-Regular school       0        0   \n",
       "4  Achievement School District  Elementary  1-Regular school       0        0   \n",
       "\n",
       "  title_1          locale subject_area              student_group  year  \\\n",
       "0       1  11-City: Large          ELA               All Students  2018   \n",
       "1       1  11-City: Large          ELA               All Students  2019   \n",
       "2       1  11-City: Large          ELA               All Students  2021   \n",
       "3       1  11-City: Large          ELA               All Students  2022   \n",
       "4       1  11-City: Large          ELA  Black or African American  2018   \n",
       "\n",
       "   fte_teachers  pct_met_exceeded  stu_tchr_ratio  \n",
       "0     16.068687          0.090990       19.127374  \n",
       "1     13.614091          0.075048       19.758750  \n",
       "2     13.437050          0.057583       15.263022  \n",
       "3     10.265169          0.089914       18.669213  \n",
       "4     16.022016          0.090260       19.146605  "
      ]
     },
     "execution_count": 26,
     "metadata": {},
     "output_type": "execute_result"
    }
   ],
   "source": [
    "weighted_assessments.head()"
   ]
  },
  {
   "cell_type": "code",
   "execution_count": null,
   "metadata": {},
   "outputs": [
    {
     "data": {
      "text/plain": [
       "[array(['ELA', 'Math', 'Science', 'Social Studies'], dtype=object)]"
      ]
     },
     "execution_count": 15,
     "metadata": {},
     "output_type": "execute_result"
    }
   ],
   "source": [
    "subject_area = [weighted_assessments['subject_area'].unique()]\n",
    "subject_area"
   ]
  },
  {
   "cell_type": "code",
   "execution_count": null,
   "metadata": {},
   "outputs": [
    {
     "data": {
      "application/vnd.plotly.v1+json": {
       "config": {
        "plotlyServerURL": "https://plot.ly"
       },
       "data": [
        {
         "alignmentgroup": "True",
         "hovertemplate": "Subject Area=ELA<br>School Level=Elementary<br>year=%{x}<br>Average Proficiency=%{y}<extra></extra>",
         "legendgroup": "ELA",
         "marker": {
          "color": "#636efa",
          "pattern": {
           "shape": ""
          }
         },
         "name": "ELA",
         "offsetgroup": "ELA",
         "orientation": "v",
         "showlegend": true,
         "textposition": "auto",
         "type": "bar",
         "x": [
          2018,
          2019,
          2021,
          2022
         ],
         "xaxis": "x16",
         "y": [
          0.32213471140856237,
          0.33082116772648434,
          0.3015653729263168,
          0.34936537001663764
         ],
         "yaxis": "y16"
        },
        {
         "alignmentgroup": "True",
         "hovertemplate": "Subject Area=ELA<br>School Level=Middle<br>year=%{x}<br>Average Proficiency=%{y}<extra></extra>",
         "legendgroup": "ELA",
         "marker": {
          "color": "#636efa",
          "pattern": {
           "shape": ""
          }
         },
         "name": "ELA",
         "offsetgroup": "ELA",
         "orientation": "v",
         "showlegend": false,
         "textposition": "auto",
         "type": "bar",
         "x": [
          2018,
          2019,
          2021,
          2022
         ],
         "xaxis": "x17",
         "y": [
          0.2797392848726213,
          0.29552609149159986,
          0.24307030111002156,
          0.3021929541366629
         ],
         "yaxis": "y17"
        },
        {
         "alignmentgroup": "True",
         "hovertemplate": "Subject Area=ELA<br>School Level=High<br>year=%{x}<br>Average Proficiency=%{y}<extra></extra>",
         "legendgroup": "ELA",
         "marker": {
          "color": "#636efa",
          "pattern": {
           "shape": ""
          }
         },
         "name": "ELA",
         "offsetgroup": "ELA",
         "orientation": "v",
         "showlegend": false,
         "textposition": "auto",
         "type": "bar",
         "x": [
          2018,
          2019,
          2021,
          2022
         ],
         "xaxis": "x18",
         "y": [
          0.26017082573249045,
          0.32909799894947356,
          0.2928487360511002,
          0.3496477180069634
         ],
         "yaxis": "y18"
        },
        {
         "alignmentgroup": "True",
         "hovertemplate": "Subject Area=ELA<br>School Level=Secondary<br>year=%{x}<br>Average Proficiency=%{y}<extra></extra>",
         "legendgroup": "ELA",
         "marker": {
          "color": "#636efa",
          "pattern": {
           "shape": ""
          }
         },
         "name": "ELA",
         "offsetgroup": "ELA",
         "orientation": "v",
         "showlegend": false,
         "textposition": "auto",
         "type": "bar",
         "x": [
          2018,
          2019,
          2021,
          2022
         ],
         "xaxis": "x19",
         "y": [
          0.28692969760485704,
          0.29126893126275655,
          0.3502260878254253,
          0.3494515637418257
         ],
         "yaxis": "y19"
        },
        {
         "alignmentgroup": "True",
         "hovertemplate": "Subject Area=ELA<br>School Level=Other<br>year=%{x}<br>Average Proficiency=%{y}<extra></extra>",
         "legendgroup": "ELA",
         "marker": {
          "color": "#636efa",
          "pattern": {
           "shape": ""
          }
         },
         "name": "ELA",
         "offsetgroup": "ELA",
         "orientation": "v",
         "showlegend": false,
         "textposition": "auto",
         "type": "bar",
         "x": [
          2018,
          2019,
          2021,
          2022
         ],
         "xaxis": "x20",
         "y": [
          0.31093567911086195,
          0.31193017995991473,
          0.29185886979663345,
          0.3201315970224352
         ],
         "yaxis": "y20"
        },
        {
         "alignmentgroup": "True",
         "hovertemplate": "Subject Area=Math<br>School Level=Elementary<br>year=%{x}<br>Average Proficiency=%{y}<extra></extra>",
         "legendgroup": "Math",
         "marker": {
          "color": "#EF553B",
          "pattern": {
           "shape": ""
          }
         },
         "name": "Math",
         "offsetgroup": "Math",
         "orientation": "v",
         "showlegend": true,
         "textposition": "auto",
         "type": "bar",
         "x": [
          2018,
          2019,
          2021,
          2022
         ],
         "xaxis": "x11",
         "y": [
          0.3600217483514277,
          0.4122071681385609,
          0.31769683071317817,
          0.35633275848322354
         ],
         "yaxis": "y11"
        },
        {
         "alignmentgroup": "True",
         "hovertemplate": "Subject Area=Math<br>School Level=Middle<br>year=%{x}<br>Average Proficiency=%{y}<extra></extra>",
         "legendgroup": "Math",
         "marker": {
          "color": "#EF553B",
          "pattern": {
           "shape": ""
          }
         },
         "name": "Math",
         "offsetgroup": "Math",
         "orientation": "v",
         "showlegend": false,
         "textposition": "auto",
         "type": "bar",
         "x": [
          2018,
          2019,
          2021,
          2022
         ],
         "xaxis": "x12",
         "y": [
          0.306327878193274,
          0.34469163456311613,
          0.26019149753092596,
          0.30157477938833804
         ],
         "yaxis": "y12"
        },
        {
         "alignmentgroup": "True",
         "hovertemplate": "Subject Area=Math<br>School Level=High<br>year=%{x}<br>Average Proficiency=%{y}<extra></extra>",
         "legendgroup": "Math",
         "marker": {
          "color": "#EF553B",
          "pattern": {
           "shape": ""
          }
         },
         "name": "Math",
         "offsetgroup": "Math",
         "orientation": "v",
         "showlegend": false,
         "textposition": "auto",
         "type": "bar",
         "x": [
          2018,
          2019,
          2021,
          2022
         ],
         "xaxis": "x13",
         "y": [
          0.2182271698012335,
          0.25082802587686304,
          0.19165487211867438,
          0.22213431427576585
         ],
         "yaxis": "y13"
        },
        {
         "alignmentgroup": "True",
         "hovertemplate": "Subject Area=Math<br>School Level=Secondary<br>year=%{x}<br>Average Proficiency=%{y}<extra></extra>",
         "legendgroup": "Math",
         "marker": {
          "color": "#EF553B",
          "pattern": {
           "shape": ""
          }
         },
         "name": "Math",
         "offsetgroup": "Math",
         "orientation": "v",
         "showlegend": false,
         "textposition": "auto",
         "type": "bar",
         "x": [
          2018,
          2019,
          2021,
          2022
         ],
         "xaxis": "x14",
         "y": [
          0.2665269435601387,
          0.29060333628575286,
          0.21147398134839185,
          0.23677949598373918
         ],
         "yaxis": "y14"
        },
        {
         "alignmentgroup": "True",
         "hovertemplate": "Subject Area=Math<br>School Level=Other<br>year=%{x}<br>Average Proficiency=%{y}<extra></extra>",
         "legendgroup": "Math",
         "marker": {
          "color": "#EF553B",
          "pattern": {
           "shape": ""
          }
         },
         "name": "Math",
         "offsetgroup": "Math",
         "orientation": "v",
         "showlegend": false,
         "textposition": "auto",
         "type": "bar",
         "x": [
          2018,
          2019,
          2021,
          2022
         ],
         "xaxis": "x15",
         "y": [
          0.302819824816974,
          0.3212669040491249,
          0.24495633581587054,
          0.2456807704717093
         ],
         "yaxis": "y15"
        },
        {
         "alignmentgroup": "True",
         "hovertemplate": "Subject Area=Science<br>School Level=Elementary<br>year=%{x}<br>Average Proficiency=%{y}<extra></extra>",
         "legendgroup": "Science",
         "marker": {
          "color": "#00cc96",
          "pattern": {
           "shape": ""
          }
         },
         "name": "Science",
         "offsetgroup": "Science",
         "orientation": "v",
         "showlegend": true,
         "textposition": "auto",
         "type": "bar",
         "x": [
          2018,
          2021,
          2022
         ],
         "xaxis": "x6",
         "y": [
          0.5337419594522052,
          0.37412842049686235,
          0.38949341750805205
         ],
         "yaxis": "y6"
        },
        {
         "alignmentgroup": "True",
         "hovertemplate": "Subject Area=Science<br>School Level=Middle<br>year=%{x}<br>Average Proficiency=%{y}<extra></extra>",
         "legendgroup": "Science",
         "marker": {
          "color": "#00cc96",
          "pattern": {
           "shape": ""
          }
         },
         "name": "Science",
         "offsetgroup": "Science",
         "orientation": "v",
         "showlegend": false,
         "textposition": "auto",
         "type": "bar",
         "x": [
          2018,
          2021,
          2022
         ],
         "xaxis": "x7",
         "y": [
          0.5344963774429262,
          0.3309202965135057,
          0.33949988844630585
         ],
         "yaxis": "y7"
        },
        {
         "alignmentgroup": "True",
         "hovertemplate": "Subject Area=Science<br>School Level=High<br>year=%{x}<br>Average Proficiency=%{y}<extra></extra>",
         "legendgroup": "Science",
         "marker": {
          "color": "#00cc96",
          "pattern": {
           "shape": ""
          }
         },
         "name": "Science",
         "offsetgroup": "Science",
         "orientation": "v",
         "showlegend": false,
         "textposition": "auto",
         "type": "bar",
         "x": [
          2018,
          2021,
          2022
         ],
         "xaxis": "x8",
         "y": [
          0.4026817091078919,
          0.3673162136733084,
          0.3675287351002212
         ],
         "yaxis": "y8"
        },
        {
         "alignmentgroup": "True",
         "hovertemplate": "Subject Area=Science<br>School Level=Secondary<br>year=%{x}<br>Average Proficiency=%{y}<extra></extra>",
         "legendgroup": "Science",
         "marker": {
          "color": "#00cc96",
          "pattern": {
           "shape": ""
          }
         },
         "name": "Science",
         "offsetgroup": "Science",
         "orientation": "v",
         "showlegend": false,
         "textposition": "auto",
         "type": "bar",
         "x": [
          2018,
          2021,
          2022
         ],
         "xaxis": "x9",
         "y": [
          0.4911348795935717,
          0.4573449753074569,
          0.5002155336539481
         ],
         "yaxis": "y9"
        },
        {
         "alignmentgroup": "True",
         "hovertemplate": "Subject Area=Science<br>School Level=Other<br>year=%{x}<br>Average Proficiency=%{y}<extra></extra>",
         "legendgroup": "Science",
         "marker": {
          "color": "#00cc96",
          "pattern": {
           "shape": ""
          }
         },
         "name": "Science",
         "offsetgroup": "Science",
         "orientation": "v",
         "showlegend": false,
         "textposition": "auto",
         "type": "bar",
         "x": [
          2018,
          2021,
          2022
         ],
         "xaxis": "x10",
         "y": [
          0.45379261266979765,
          0.35436530000656863,
          0.3406224799060078
         ],
         "yaxis": "y10"
        },
        {
         "alignmentgroup": "True",
         "hovertemplate": "Subject Area=Social Studies<br>School Level=Elementary<br>year=%{x}<br>Average Proficiency=%{y}<extra></extra>",
         "legendgroup": "Social Studies",
         "marker": {
          "color": "#ab63fa",
          "pattern": {
           "shape": ""
          }
         },
         "name": "Social Studies",
         "offsetgroup": "Social Studies",
         "orientation": "v",
         "showlegend": true,
         "textposition": "auto",
         "type": "bar",
         "x": [
          2018,
          2019,
          2021,
          2022
         ],
         "xaxis": "x",
         "y": [
          0.3514912882809827,
          0.35351977910061294,
          0.33883232284018244,
          0.37482007094932707
         ],
         "yaxis": "y"
        },
        {
         "alignmentgroup": "True",
         "hovertemplate": "Subject Area=Social Studies<br>School Level=Middle<br>year=%{x}<br>Average Proficiency=%{y}<extra></extra>",
         "legendgroup": "Social Studies",
         "marker": {
          "color": "#ab63fa",
          "pattern": {
           "shape": ""
          }
         },
         "name": "Social Studies",
         "offsetgroup": "Social Studies",
         "orientation": "v",
         "showlegend": false,
         "textposition": "auto",
         "type": "bar",
         "x": [
          2018,
          2019,
          2021,
          2022
         ],
         "xaxis": "x2",
         "y": [
          0.34848544343397525,
          0.3712791094101641,
          0.34256389371241225,
          0.40102179552095607
         ],
         "yaxis": "y2"
        },
        {
         "alignmentgroup": "True",
         "hovertemplate": "Subject Area=Social Studies<br>School Level=High<br>year=%{x}<br>Average Proficiency=%{y}<extra></extra>",
         "legendgroup": "Social Studies",
         "marker": {
          "color": "#ab63fa",
          "pattern": {
           "shape": ""
          }
         },
         "name": "Social Studies",
         "offsetgroup": "Social Studies",
         "orientation": "v",
         "showlegend": false,
         "textposition": "auto",
         "type": "bar",
         "x": [
          2018,
          2019,
          2021,
          2022
         ],
         "xaxis": "x3",
         "y": [
          0.269782524531989,
          0.2798642288409953,
          0.31465721383408424,
          0.3500237561031217
         ],
         "yaxis": "y3"
        },
        {
         "alignmentgroup": "True",
         "hovertemplate": "Subject Area=Social Studies<br>School Level=Secondary<br>year=%{x}<br>Average Proficiency=%{y}<extra></extra>",
         "legendgroup": "Social Studies",
         "marker": {
          "color": "#ab63fa",
          "pattern": {
           "shape": ""
          }
         },
         "name": "Social Studies",
         "offsetgroup": "Social Studies",
         "orientation": "v",
         "showlegend": false,
         "textposition": "auto",
         "type": "bar",
         "x": [
          2018,
          2019,
          2021,
          2022
         ],
         "xaxis": "x4",
         "y": [
          0.33033323667027326,
          0.4281590909090909,
          0.34502938361611224,
          0.5254705882352941
         ],
         "yaxis": "y4"
        },
        {
         "alignmentgroup": "True",
         "hovertemplate": "Subject Area=Social Studies<br>School Level=Other<br>year=%{x}<br>Average Proficiency=%{y}<extra></extra>",
         "legendgroup": "Social Studies",
         "marker": {
          "color": "#ab63fa",
          "pattern": {
           "shape": ""
          }
         },
         "name": "Social Studies",
         "offsetgroup": "Social Studies",
         "orientation": "v",
         "showlegend": false,
         "textposition": "auto",
         "type": "bar",
         "x": [
          2018,
          2019,
          2021,
          2022
         ],
         "xaxis": "x5",
         "y": [
          0.3178679268291263,
          0.3019878006300302,
          0.3306596966855095,
          0.32359462244195014
         ],
         "yaxis": "y5"
        }
       ],
       "layout": {
        "annotations": [
         {
          "font": {},
          "showarrow": false,
          "text": "School Level=Elementary",
          "x": 0.09000000000000001,
          "xanchor": "center",
          "xref": "paper",
          "y": 1,
          "yanchor": "bottom",
          "yref": "paper"
         },
         {
          "font": {},
          "showarrow": false,
          "text": "School Level=Middle",
          "x": 0.29000000000000004,
          "xanchor": "center",
          "xref": "paper",
          "y": 1,
          "yanchor": "bottom",
          "yref": "paper"
         },
         {
          "font": {},
          "showarrow": false,
          "text": "School Level=High",
          "x": 0.49000000000000005,
          "xanchor": "center",
          "xref": "paper",
          "y": 1,
          "yanchor": "bottom",
          "yref": "paper"
         },
         {
          "font": {},
          "showarrow": false,
          "text": "School Level=Secondary",
          "x": 0.6900000000000002,
          "xanchor": "center",
          "xref": "paper",
          "y": 1,
          "yanchor": "bottom",
          "yref": "paper"
         },
         {
          "font": {},
          "showarrow": false,
          "text": "School Level=Other",
          "x": 0.8900000000000001,
          "xanchor": "center",
          "xref": "paper",
          "y": 1,
          "yanchor": "bottom",
          "yref": "paper"
         },
         {
          "font": {},
          "showarrow": false,
          "text": "Subject Area=Social Studies",
          "textangle": 90,
          "x": 0.9800000000000001,
          "xanchor": "left",
          "xref": "paper",
          "y": 0.11375,
          "yanchor": "middle",
          "yref": "paper"
         },
         {
          "font": {},
          "showarrow": false,
          "text": "Subject Area=Science",
          "textangle": 90,
          "x": 0.9800000000000001,
          "xanchor": "left",
          "xref": "paper",
          "y": 0.37124999999999997,
          "yanchor": "middle",
          "yref": "paper"
         },
         {
          "font": {},
          "showarrow": false,
          "text": "Subject Area=Math",
          "textangle": 90,
          "x": 0.9800000000000001,
          "xanchor": "left",
          "xref": "paper",
          "y": 0.62875,
          "yanchor": "middle",
          "yref": "paper"
         },
         {
          "font": {},
          "showarrow": false,
          "text": "Subject Area=ELA",
          "textangle": 90,
          "x": 0.9800000000000001,
          "xanchor": "left",
          "xref": "paper",
          "y": 0.88625,
          "yanchor": "middle",
          "yref": "paper"
         }
        ],
        "autosize": true,
        "barmode": "relative",
        "height": 900,
        "legend": {
         "title": {
          "text": "Subject Area"
         },
         "tracegroupgap": 0
        },
        "margin": {
         "t": 60
        },
        "template": {
         "data": {
          "bar": [
           {
            "error_x": {
             "color": "#2a3f5f"
            },
            "error_y": {
             "color": "#2a3f5f"
            },
            "marker": {
             "line": {
              "color": "#E5ECF6",
              "width": 0.5
             },
             "pattern": {
              "fillmode": "overlay",
              "size": 10,
              "solidity": 0.2
             }
            },
            "type": "bar"
           }
          ],
          "barpolar": [
           {
            "marker": {
             "line": {
              "color": "#E5ECF6",
              "width": 0.5
             },
             "pattern": {
              "fillmode": "overlay",
              "size": 10,
              "solidity": 0.2
             }
            },
            "type": "barpolar"
           }
          ],
          "carpet": [
           {
            "aaxis": {
             "endlinecolor": "#2a3f5f",
             "gridcolor": "white",
             "linecolor": "white",
             "minorgridcolor": "white",
             "startlinecolor": "#2a3f5f"
            },
            "baxis": {
             "endlinecolor": "#2a3f5f",
             "gridcolor": "white",
             "linecolor": "white",
             "minorgridcolor": "white",
             "startlinecolor": "#2a3f5f"
            },
            "type": "carpet"
           }
          ],
          "choropleth": [
           {
            "colorbar": {
             "outlinewidth": 0,
             "ticks": ""
            },
            "type": "choropleth"
           }
          ],
          "contour": [
           {
            "colorbar": {
             "outlinewidth": 0,
             "ticks": ""
            },
            "colorscale": [
             [
              0,
              "#0d0887"
             ],
             [
              0.1111111111111111,
              "#46039f"
             ],
             [
              0.2222222222222222,
              "#7201a8"
             ],
             [
              0.3333333333333333,
              "#9c179e"
             ],
             [
              0.4444444444444444,
              "#bd3786"
             ],
             [
              0.5555555555555556,
              "#d8576b"
             ],
             [
              0.6666666666666666,
              "#ed7953"
             ],
             [
              0.7777777777777778,
              "#fb9f3a"
             ],
             [
              0.8888888888888888,
              "#fdca26"
             ],
             [
              1,
              "#f0f921"
             ]
            ],
            "type": "contour"
           }
          ],
          "contourcarpet": [
           {
            "colorbar": {
             "outlinewidth": 0,
             "ticks": ""
            },
            "type": "contourcarpet"
           }
          ],
          "heatmap": [
           {
            "colorbar": {
             "outlinewidth": 0,
             "ticks": ""
            },
            "colorscale": [
             [
              0,
              "#0d0887"
             ],
             [
              0.1111111111111111,
              "#46039f"
             ],
             [
              0.2222222222222222,
              "#7201a8"
             ],
             [
              0.3333333333333333,
              "#9c179e"
             ],
             [
              0.4444444444444444,
              "#bd3786"
             ],
             [
              0.5555555555555556,
              "#d8576b"
             ],
             [
              0.6666666666666666,
              "#ed7953"
             ],
             [
              0.7777777777777778,
              "#fb9f3a"
             ],
             [
              0.8888888888888888,
              "#fdca26"
             ],
             [
              1,
              "#f0f921"
             ]
            ],
            "type": "heatmap"
           }
          ],
          "heatmapgl": [
           {
            "colorbar": {
             "outlinewidth": 0,
             "ticks": ""
            },
            "colorscale": [
             [
              0,
              "#0d0887"
             ],
             [
              0.1111111111111111,
              "#46039f"
             ],
             [
              0.2222222222222222,
              "#7201a8"
             ],
             [
              0.3333333333333333,
              "#9c179e"
             ],
             [
              0.4444444444444444,
              "#bd3786"
             ],
             [
              0.5555555555555556,
              "#d8576b"
             ],
             [
              0.6666666666666666,
              "#ed7953"
             ],
             [
              0.7777777777777778,
              "#fb9f3a"
             ],
             [
              0.8888888888888888,
              "#fdca26"
             ],
             [
              1,
              "#f0f921"
             ]
            ],
            "type": "heatmapgl"
           }
          ],
          "histogram": [
           {
            "marker": {
             "pattern": {
              "fillmode": "overlay",
              "size": 10,
              "solidity": 0.2
             }
            },
            "type": "histogram"
           }
          ],
          "histogram2d": [
           {
            "colorbar": {
             "outlinewidth": 0,
             "ticks": ""
            },
            "colorscale": [
             [
              0,
              "#0d0887"
             ],
             [
              0.1111111111111111,
              "#46039f"
             ],
             [
              0.2222222222222222,
              "#7201a8"
             ],
             [
              0.3333333333333333,
              "#9c179e"
             ],
             [
              0.4444444444444444,
              "#bd3786"
             ],
             [
              0.5555555555555556,
              "#d8576b"
             ],
             [
              0.6666666666666666,
              "#ed7953"
             ],
             [
              0.7777777777777778,
              "#fb9f3a"
             ],
             [
              0.8888888888888888,
              "#fdca26"
             ],
             [
              1,
              "#f0f921"
             ]
            ],
            "type": "histogram2d"
           }
          ],
          "histogram2dcontour": [
           {
            "colorbar": {
             "outlinewidth": 0,
             "ticks": ""
            },
            "colorscale": [
             [
              0,
              "#0d0887"
             ],
             [
              0.1111111111111111,
              "#46039f"
             ],
             [
              0.2222222222222222,
              "#7201a8"
             ],
             [
              0.3333333333333333,
              "#9c179e"
             ],
             [
              0.4444444444444444,
              "#bd3786"
             ],
             [
              0.5555555555555556,
              "#d8576b"
             ],
             [
              0.6666666666666666,
              "#ed7953"
             ],
             [
              0.7777777777777778,
              "#fb9f3a"
             ],
             [
              0.8888888888888888,
              "#fdca26"
             ],
             [
              1,
              "#f0f921"
             ]
            ],
            "type": "histogram2dcontour"
           }
          ],
          "mesh3d": [
           {
            "colorbar": {
             "outlinewidth": 0,
             "ticks": ""
            },
            "type": "mesh3d"
           }
          ],
          "parcoords": [
           {
            "line": {
             "colorbar": {
              "outlinewidth": 0,
              "ticks": ""
             }
            },
            "type": "parcoords"
           }
          ],
          "pie": [
           {
            "automargin": true,
            "type": "pie"
           }
          ],
          "scatter": [
           {
            "fillpattern": {
             "fillmode": "overlay",
             "size": 10,
             "solidity": 0.2
            },
            "type": "scatter"
           }
          ],
          "scatter3d": [
           {
            "line": {
             "colorbar": {
              "outlinewidth": 0,
              "ticks": ""
             }
            },
            "marker": {
             "colorbar": {
              "outlinewidth": 0,
              "ticks": ""
             }
            },
            "type": "scatter3d"
           }
          ],
          "scattercarpet": [
           {
            "marker": {
             "colorbar": {
              "outlinewidth": 0,
              "ticks": ""
             }
            },
            "type": "scattercarpet"
           }
          ],
          "scattergeo": [
           {
            "marker": {
             "colorbar": {
              "outlinewidth": 0,
              "ticks": ""
             }
            },
            "type": "scattergeo"
           }
          ],
          "scattergl": [
           {
            "marker": {
             "colorbar": {
              "outlinewidth": 0,
              "ticks": ""
             }
            },
            "type": "scattergl"
           }
          ],
          "scattermapbox": [
           {
            "marker": {
             "colorbar": {
              "outlinewidth": 0,
              "ticks": ""
             }
            },
            "type": "scattermapbox"
           }
          ],
          "scatterpolar": [
           {
            "marker": {
             "colorbar": {
              "outlinewidth": 0,
              "ticks": ""
             }
            },
            "type": "scatterpolar"
           }
          ],
          "scatterpolargl": [
           {
            "marker": {
             "colorbar": {
              "outlinewidth": 0,
              "ticks": ""
             }
            },
            "type": "scatterpolargl"
           }
          ],
          "scatterternary": [
           {
            "marker": {
             "colorbar": {
              "outlinewidth": 0,
              "ticks": ""
             }
            },
            "type": "scatterternary"
           }
          ],
          "surface": [
           {
            "colorbar": {
             "outlinewidth": 0,
             "ticks": ""
            },
            "colorscale": [
             [
              0,
              "#0d0887"
             ],
             [
              0.1111111111111111,
              "#46039f"
             ],
             [
              0.2222222222222222,
              "#7201a8"
             ],
             [
              0.3333333333333333,
              "#9c179e"
             ],
             [
              0.4444444444444444,
              "#bd3786"
             ],
             [
              0.5555555555555556,
              "#d8576b"
             ],
             [
              0.6666666666666666,
              "#ed7953"
             ],
             [
              0.7777777777777778,
              "#fb9f3a"
             ],
             [
              0.8888888888888888,
              "#fdca26"
             ],
             [
              1,
              "#f0f921"
             ]
            ],
            "type": "surface"
           }
          ],
          "table": [
           {
            "cells": {
             "fill": {
              "color": "#EBF0F8"
             },
             "line": {
              "color": "white"
             }
            },
            "header": {
             "fill": {
              "color": "#C8D4E3"
             },
             "line": {
              "color": "white"
             }
            },
            "type": "table"
           }
          ]
         },
         "layout": {
          "annotationdefaults": {
           "arrowcolor": "#2a3f5f",
           "arrowhead": 0,
           "arrowwidth": 1
          },
          "autotypenumbers": "strict",
          "coloraxis": {
           "colorbar": {
            "outlinewidth": 0,
            "ticks": ""
           }
          },
          "colorscale": {
           "diverging": [
            [
             0,
             "#8e0152"
            ],
            [
             0.1,
             "#c51b7d"
            ],
            [
             0.2,
             "#de77ae"
            ],
            [
             0.3,
             "#f1b6da"
            ],
            [
             0.4,
             "#fde0ef"
            ],
            [
             0.5,
             "#f7f7f7"
            ],
            [
             0.6,
             "#e6f5d0"
            ],
            [
             0.7,
             "#b8e186"
            ],
            [
             0.8,
             "#7fbc41"
            ],
            [
             0.9,
             "#4d9221"
            ],
            [
             1,
             "#276419"
            ]
           ],
           "sequential": [
            [
             0,
             "#0d0887"
            ],
            [
             0.1111111111111111,
             "#46039f"
            ],
            [
             0.2222222222222222,
             "#7201a8"
            ],
            [
             0.3333333333333333,
             "#9c179e"
            ],
            [
             0.4444444444444444,
             "#bd3786"
            ],
            [
             0.5555555555555556,
             "#d8576b"
            ],
            [
             0.6666666666666666,
             "#ed7953"
            ],
            [
             0.7777777777777778,
             "#fb9f3a"
            ],
            [
             0.8888888888888888,
             "#fdca26"
            ],
            [
             1,
             "#f0f921"
            ]
           ],
           "sequentialminus": [
            [
             0,
             "#0d0887"
            ],
            [
             0.1111111111111111,
             "#46039f"
            ],
            [
             0.2222222222222222,
             "#7201a8"
            ],
            [
             0.3333333333333333,
             "#9c179e"
            ],
            [
             0.4444444444444444,
             "#bd3786"
            ],
            [
             0.5555555555555556,
             "#d8576b"
            ],
            [
             0.6666666666666666,
             "#ed7953"
            ],
            [
             0.7777777777777778,
             "#fb9f3a"
            ],
            [
             0.8888888888888888,
             "#fdca26"
            ],
            [
             1,
             "#f0f921"
            ]
           ]
          },
          "colorway": [
           "#636efa",
           "#EF553B",
           "#00cc96",
           "#ab63fa",
           "#FFA15A",
           "#19d3f3",
           "#FF6692",
           "#B6E880",
           "#FF97FF",
           "#FECB52"
          ],
          "font": {
           "color": "#2a3f5f"
          },
          "geo": {
           "bgcolor": "white",
           "lakecolor": "white",
           "landcolor": "#E5ECF6",
           "showlakes": true,
           "showland": true,
           "subunitcolor": "white"
          },
          "hoverlabel": {
           "align": "left"
          },
          "hovermode": "closest",
          "mapbox": {
           "style": "light"
          },
          "paper_bgcolor": "white",
          "plot_bgcolor": "#E5ECF6",
          "polar": {
           "angularaxis": {
            "gridcolor": "white",
            "linecolor": "white",
            "ticks": ""
           },
           "bgcolor": "#E5ECF6",
           "radialaxis": {
            "gridcolor": "white",
            "linecolor": "white",
            "ticks": ""
           }
          },
          "scene": {
           "xaxis": {
            "backgroundcolor": "#E5ECF6",
            "gridcolor": "white",
            "gridwidth": 2,
            "linecolor": "white",
            "showbackground": true,
            "ticks": "",
            "zerolinecolor": "white"
           },
           "yaxis": {
            "backgroundcolor": "#E5ECF6",
            "gridcolor": "white",
            "gridwidth": 2,
            "linecolor": "white",
            "showbackground": true,
            "ticks": "",
            "zerolinecolor": "white"
           },
           "zaxis": {
            "backgroundcolor": "#E5ECF6",
            "gridcolor": "white",
            "gridwidth": 2,
            "linecolor": "white",
            "showbackground": true,
            "ticks": "",
            "zerolinecolor": "white"
           }
          },
          "shapedefaults": {
           "line": {
            "color": "#2a3f5f"
           }
          },
          "ternary": {
           "aaxis": {
            "gridcolor": "white",
            "linecolor": "white",
            "ticks": ""
           },
           "baxis": {
            "gridcolor": "white",
            "linecolor": "white",
            "ticks": ""
           },
           "bgcolor": "#E5ECF6",
           "caxis": {
            "gridcolor": "white",
            "linecolor": "white",
            "ticks": ""
           }
          },
          "title": {
           "x": 0.05
          },
          "xaxis": {
           "automargin": true,
           "gridcolor": "white",
           "linecolor": "white",
           "ticks": "",
           "title": {
            "standoff": 15
           },
           "zerolinecolor": "white",
           "zerolinewidth": 2
          },
          "yaxis": {
           "automargin": true,
           "gridcolor": "white",
           "linecolor": "white",
           "ticks": "",
           "title": {
            "standoff": 15
           },
           "zerolinecolor": "white",
           "zerolinewidth": 2
          }
         }
        },
        "title": {
         "text": "Average Weighted Proficiency by School Level, Content Area, and Year"
        },
        "width": 1200,
        "xaxis": {
         "anchor": "y",
         "domain": [
          0,
          0.18000000000000002
         ],
         "title": {
          "text": "year"
         }
        },
        "xaxis10": {
         "anchor": "y10",
         "domain": [
          0.8,
          0.9800000000000001
         ],
         "matches": "x",
         "showticklabels": false
        },
        "xaxis11": {
         "anchor": "y11",
         "domain": [
          0,
          0.18000000000000002
         ],
         "matches": "x",
         "showticklabels": false
        },
        "xaxis12": {
         "anchor": "y12",
         "domain": [
          0.2,
          0.38
         ],
         "matches": "x",
         "showticklabels": false
        },
        "xaxis13": {
         "anchor": "y13",
         "domain": [
          0.4,
          0.5800000000000001
         ],
         "matches": "x",
         "showticklabels": false
        },
        "xaxis14": {
         "anchor": "y14",
         "domain": [
          0.6000000000000001,
          0.7800000000000001
         ],
         "matches": "x",
         "showticklabels": false
        },
        "xaxis15": {
         "anchor": "y15",
         "domain": [
          0.8,
          0.9800000000000001
         ],
         "matches": "x",
         "showticklabels": false
        },
        "xaxis16": {
         "anchor": "y16",
         "domain": [
          0,
          0.18000000000000002
         ],
         "matches": "x",
         "showticklabels": false
        },
        "xaxis17": {
         "anchor": "y17",
         "domain": [
          0.2,
          0.38
         ],
         "matches": "x",
         "showticklabels": false
        },
        "xaxis18": {
         "anchor": "y18",
         "domain": [
          0.4,
          0.5800000000000001
         ],
         "matches": "x",
         "showticklabels": false
        },
        "xaxis19": {
         "anchor": "y19",
         "domain": [
          0.6000000000000001,
          0.7800000000000001
         ],
         "matches": "x",
         "showticklabels": false
        },
        "xaxis2": {
         "anchor": "y2",
         "domain": [
          0.2,
          0.38
         ],
         "matches": "x",
         "title": {
          "text": "year"
         }
        },
        "xaxis20": {
         "anchor": "y20",
         "domain": [
          0.8,
          0.9800000000000001
         ],
         "matches": "x",
         "showticklabels": false
        },
        "xaxis3": {
         "anchor": "y3",
         "domain": [
          0.4,
          0.5800000000000001
         ],
         "matches": "x",
         "title": {
          "text": "year"
         }
        },
        "xaxis4": {
         "anchor": "y4",
         "domain": [
          0.6000000000000001,
          0.7800000000000001
         ],
         "matches": "x",
         "title": {
          "text": "year"
         }
        },
        "xaxis5": {
         "anchor": "y5",
         "domain": [
          0.8,
          0.9800000000000001
         ],
         "matches": "x",
         "title": {
          "text": "year"
         }
        },
        "xaxis6": {
         "anchor": "y6",
         "domain": [
          0,
          0.18000000000000002
         ],
         "matches": "x",
         "showticklabels": false
        },
        "xaxis7": {
         "anchor": "y7",
         "domain": [
          0.2,
          0.38
         ],
         "matches": "x",
         "showticklabels": false
        },
        "xaxis8": {
         "anchor": "y8",
         "domain": [
          0.4,
          0.5800000000000001
         ],
         "matches": "x",
         "showticklabels": false
        },
        "xaxis9": {
         "anchor": "y9",
         "domain": [
          0.6000000000000001,
          0.7800000000000001
         ],
         "matches": "x",
         "showticklabels": false
        },
        "yaxis": {
         "anchor": "x",
         "domain": [
          0,
          0.2275
         ],
         "title": {
          "text": "Average Proficiency"
         }
        },
        "yaxis10": {
         "anchor": "x10",
         "domain": [
          0.2575,
          0.485
         ],
         "matches": "y",
         "showticklabels": false
        },
        "yaxis11": {
         "anchor": "x11",
         "domain": [
          0.515,
          0.7425
         ],
         "matches": "y",
         "title": {
          "text": "Average Proficiency"
         }
        },
        "yaxis12": {
         "anchor": "x12",
         "domain": [
          0.515,
          0.7425
         ],
         "matches": "y",
         "showticklabels": false
        },
        "yaxis13": {
         "anchor": "x13",
         "domain": [
          0.515,
          0.7425
         ],
         "matches": "y",
         "showticklabels": false
        },
        "yaxis14": {
         "anchor": "x14",
         "domain": [
          0.515,
          0.7425
         ],
         "matches": "y",
         "showticklabels": false
        },
        "yaxis15": {
         "anchor": "x15",
         "domain": [
          0.515,
          0.7425
         ],
         "matches": "y",
         "showticklabels": false
        },
        "yaxis16": {
         "anchor": "x16",
         "domain": [
          0.7725,
          1
         ],
         "matches": "y",
         "title": {
          "text": "Average Proficiency"
         }
        },
        "yaxis17": {
         "anchor": "x17",
         "domain": [
          0.7725,
          1
         ],
         "matches": "y",
         "showticklabels": false
        },
        "yaxis18": {
         "anchor": "x18",
         "domain": [
          0.7725,
          1
         ],
         "matches": "y",
         "showticklabels": false
        },
        "yaxis19": {
         "anchor": "x19",
         "domain": [
          0.7725,
          1
         ],
         "matches": "y",
         "showticklabels": false
        },
        "yaxis2": {
         "anchor": "x2",
         "domain": [
          0,
          0.2275
         ],
         "matches": "y",
         "showticklabels": false
        },
        "yaxis20": {
         "anchor": "x20",
         "domain": [
          0.7725,
          1
         ],
         "matches": "y",
         "showticklabels": false
        },
        "yaxis3": {
         "anchor": "x3",
         "domain": [
          0,
          0.2275
         ],
         "matches": "y",
         "showticklabels": false
        },
        "yaxis4": {
         "anchor": "x4",
         "domain": [
          0,
          0.2275
         ],
         "matches": "y",
         "showticklabels": false
        },
        "yaxis5": {
         "anchor": "x5",
         "domain": [
          0,
          0.2275
         ],
         "matches": "y",
         "showticklabels": false
        },
        "yaxis6": {
         "anchor": "x6",
         "domain": [
          0.2575,
          0.485
         ],
         "matches": "y",
         "title": {
          "text": "Average Proficiency"
         }
        },
        "yaxis7": {
         "anchor": "x7",
         "domain": [
          0.2575,
          0.485
         ],
         "matches": "y",
         "showticklabels": false
        },
        "yaxis8": {
         "anchor": "x8",
         "domain": [
          0.2575,
          0.485
         ],
         "matches": "y",
         "showticklabels": false
        },
        "yaxis9": {
         "anchor": "x9",
         "domain": [
          0.2575,
          0.485
         ],
         "matches": "y",
         "showticklabels": false
        }
       }
      }
     },
     "metadata": {},
     "output_type": "display_data"
    }
   ],
   "source": [
    "# Calculate average proficiency per school level, content area, and year\n",
    "average_proficiency = weighted_assessments.groupby(['school_lvl', 'subject_area', 'year'])['pct_met_exceeded'].mean().reset_index()\n",
    "\n",
    "# Define subject_area\n",
    "subject_area = weighted_assessments['subject_area'].unique().tolist()\n",
    "\n",
    "# Reorder scool levels\n",
    "school_lvl_order = ['Elementary', 'Middle', 'High', 'Secondary', 'Other']\n",
    "\n",
    "# Create bar plot\n",
    "fig = px.bar(average_proficiency, x='year', y='pct_met_exceeded', color='subject_area',\n",
    "             facet_row='subject_area', facet_col='school_lvl',\n",
    "             category_orders={'subject_area': subject_area, 'school_lvl': school_lvl_order},\n",
    "             labels={'pct_met_exceeded': 'Average Proficiency',\n",
    "                     'school_lvl': 'School Level',\n",
    "                     'subject_area': 'Subject Area'})\n",
    "\n",
    "# Update layout\n",
    "fig.update_layout(\n",
    "    title='Average Weighted Proficiency by School Level, Content Area, and Year',\n",
    "   autosize=True,\n",
    "    width=1200,\n",
    "    height=900,\n",
    ")\n",
    "\n",
    "# Update the graph size to 50% Larger\n",
    "fig.update_layout(\n",
    "    autosize=True,\n",
    "    width=1200,\n",
    "    height=900,\n",
    ")\n",
    "\n",
    "# Show the figure\n",
    "fig.show()\n"
   ]
  },
  {
   "cell_type": "code",
   "execution_count": null,
   "metadata": {},
   "outputs": [],
   "source": []
  }
 ],
 "metadata": {
  "kernelspec": {
   "display_name": "Python 3 (ipykernel)",
   "language": "python",
   "name": "python3"
  },
  "language_info": {
   "codemirror_mode": {
    "name": "ipython",
    "version": 3
   },
   "file_extension": ".py",
   "mimetype": "text/x-python",
   "name": "python",
   "nbconvert_exporter": "python",
   "pygments_lexer": "ipython3",
   "version": "3.9.16"
  }
 },
 "nbformat": 4,
 "nbformat_minor": 4
}
