{
 "cells": [
  {
   "cell_type": "markdown",
   "metadata": {},
   "source": [
    "# Exploration for Reported Assessment Results"
   ]
  },
  {
   "cell_type": "markdown",
   "metadata": {},
   "source": [
    "## Imports and Such"
   ]
  },
  {
   "cell_type": "code",
   "execution_count": 1,
   "metadata": {},
   "outputs": [],
   "source": [
    "import pandas as pd\n",
    "import numpy as np\n",
    "import plotly.express as px\n",
    "import geopandas as gpd\n",
    "from shapely.geometry import Point\n",
    "import plotly.graph_objects as go\n",
    "pd.set_option('display.max_columns', 500)\n",
    "pd.set_option('display.max_rows', 100)"
   ]
  },
  {
   "cell_type": "code",
   "execution_count": 2,
   "metadata": {},
   "outputs": [],
   "source": [
    "# Import assessment data minus fully suppressed scores\n",
    "assessments = pd.read_pickle('../data/school_based/assessments_clean.pkl')\n",
    "\n",
    "# Import Suppressed outlier data\n",
    "suppressed = pd.read_pickle ('../data/school_based/full_suppression.pkl')\n",
    "\n",
    "# Import Tennessee School District Geometry\n",
    "tn_leas = gpd.read_file('../data/tn_leas.geojson', index_col='system_name')"
   ]
  },
  {
   "cell_type": "markdown",
   "metadata": {},
   "source": [
    "## Listy McListface - A Place to look at the lists in my dataframe."
   ]
  },
  {
   "cell_type": "code",
   "execution_count": 3,
   "metadata": {
    "tags": []
   },
   "outputs": [
    {
     "name": "stdout",
     "output_type": "stream",
     "text": [
      "<class 'geopandas.geodataframe.GeoDataFrame'>\n",
      "Index: 335452 entries, 0 to 381480\n",
      "Data columns (total 27 columns):\n",
      " #   Column              Non-Null Count   Dtype   \n",
      "---  ------              --------------   -----   \n",
      " 0   year                335452 non-null  int64   \n",
      " 1   system_name         335452 non-null  object  \n",
      " 2   school_name         335452 non-null  object  \n",
      " 3   test                335452 non-null  object  \n",
      " 4   subject             335452 non-null  object  \n",
      " 5   subject_area        335452 non-null  object  \n",
      " 6   student_group       335452 non-null  object  \n",
      " 7   valid_tests         335452 non-null  float64 \n",
      " 8   pct_met_exceeded    335452 non-null  float64 \n",
      " 9   system              335452 non-null  object  \n",
      " 10  school              335452 non-null  object  \n",
      " 11  school_lvl          335452 non-null  object  \n",
      " 12  tot_enrolled        335452 non-null  object  \n",
      " 13  fte_teachers        334603 non-null  float64 \n",
      " 14  stu_tchr_ratio      334603 non-null  float64 \n",
      " 15  school_type         335452 non-null  object  \n",
      " 16  magnet              335452 non-null  int64   \n",
      " 17  charter             335452 non-null  int64   \n",
      " 18  virtual             335452 non-null  object  \n",
      " 19  title_1             335452 non-null  object  \n",
      " 20  lat                 335452 non-null  float64 \n",
      " 21  long                335452 non-null  float64 \n",
      " 22  locale              335452 non-null  object  \n",
      " 23  geometry            335452 non-null  geometry\n",
      " 24  pct_met_exceeded_w  335452 non-null  float64 \n",
      " 25  stu_tchr_ratio_w    334603 non-null  float64 \n",
      " 26  fte_teachers_w      334603 non-null  float64 \n",
      "dtypes: float64(9), geometry(1), int64(3), object(14)\n",
      "memory usage: 71.7+ MB\n"
     ]
    }
   ],
   "source": [
    "# Assessments Info\n",
    "assessments.info()"
   ]
  },
  {
   "cell_type": "code",
   "execution_count": 4,
   "metadata": {
    "tags": []
   },
   "outputs": [
    {
     "data": {
      "text/plain": [
       "['All Students',\n",
       " 'American Indian or Alaska Native',\n",
       " 'Asian',\n",
       " 'Black or African American',\n",
       " 'Black/Hispanic/Native American',\n",
       " 'Economically Disadvantaged',\n",
       " 'English Learner Transitional 1-4',\n",
       " 'English Learners',\n",
       " 'English Learners with Transitional 1-4',\n",
       " 'Female',\n",
       " 'Gifted',\n",
       " 'Hispanic',\n",
       " 'Male',\n",
       " 'Native Hawaiian or Other Pacific Islander',\n",
       " 'Non-Black/Hispanic/Native American',\n",
       " 'Non-Economically Disadvantaged',\n",
       " 'Non-English Learners/Transitional 1-4',\n",
       " 'Non-Students with Disabilities',\n",
       " 'Students with Disabilities',\n",
       " 'Super Subgroup',\n",
       " 'White']"
      ]
     },
     "execution_count": 4,
     "metadata": {},
     "output_type": "execute_result"
    }
   ],
   "source": [
    "# Student Groups\n",
    "student_group_list = np.unique(assessments['student_group'].values).tolist()\n",
    "student_group_list"
   ]
  },
  {
   "cell_type": "code",
   "execution_count": 5,
   "metadata": {},
   "outputs": [
    {
     "data": {
      "text/plain": [
       "['1-Regular school',\n",
       " '2-Special education school',\n",
       " '4-Alternative Education School']"
      ]
     },
     "execution_count": 5,
     "metadata": {},
     "output_type": "execute_result"
    }
   ],
   "source": [
    "# School Types\n",
    "school_type_list = np.unique(assessments['school_type'].values).tolist()\n",
    "school_type_list"
   ]
  },
  {
   "cell_type": "code",
   "execution_count": 6,
   "metadata": {},
   "outputs": [
    {
     "data": {
      "text/plain": [
       "['ELA', 'Math', 'Science', 'Social Studies']"
      ]
     },
     "execution_count": 6,
     "metadata": {},
     "output_type": "execute_result"
    }
   ],
   "source": [
    "# Subject Areas\n",
    "subject_area_list = np.unique(assessments['subject_area'].values).tolist()\n",
    "subject_area_list"
   ]
  },
  {
   "cell_type": "markdown",
   "metadata": {},
   "source": [
    "## Unsuppressed: Broad Overview of Results"
   ]
  },
  {
   "cell_type": "markdown",
   "metadata": {},
   "source": [
    "### Overall Unweighted Proficiencies by School-Level, Subject Area, and Year."
   ]
  },
  {
   "cell_type": "code",
   "execution_count": 7,
   "metadata": {},
   "outputs": [
    {
     "data": {
      "text/html": [
       "<div>\n",
       "<style scoped>\n",
       "    .dataframe tbody tr th:only-of-type {\n",
       "        vertical-align: middle;\n",
       "    }\n",
       "\n",
       "    .dataframe tbody tr th {\n",
       "        vertical-align: top;\n",
       "    }\n",
       "\n",
       "    .dataframe thead tr th {\n",
       "        text-align: left;\n",
       "    }\n",
       "\n",
       "    .dataframe thead tr:last-of-type th {\n",
       "        text-align: right;\n",
       "    }\n",
       "</style>\n",
       "<table border=\"1\" class=\"dataframe\">\n",
       "  <thead>\n",
       "    <tr>\n",
       "      <th>subject_area</th>\n",
       "      <th colspan=\"4\" halign=\"left\">ELA</th>\n",
       "      <th colspan=\"4\" halign=\"left\">Math</th>\n",
       "      <th colspan=\"3\" halign=\"left\">Science</th>\n",
       "      <th colspan=\"4\" halign=\"left\">Social Studies</th>\n",
       "    </tr>\n",
       "    <tr>\n",
       "      <th>year</th>\n",
       "      <th>2018</th>\n",
       "      <th>2019</th>\n",
       "      <th>2021</th>\n",
       "      <th>2022</th>\n",
       "      <th>2018</th>\n",
       "      <th>2019</th>\n",
       "      <th>2021</th>\n",
       "      <th>2022</th>\n",
       "      <th>2018</th>\n",
       "      <th>2021</th>\n",
       "      <th>2022</th>\n",
       "      <th>2018</th>\n",
       "      <th>2019</th>\n",
       "      <th>2021</th>\n",
       "      <th>2022</th>\n",
       "    </tr>\n",
       "    <tr>\n",
       "      <th>school_lvl</th>\n",
       "      <th></th>\n",
       "      <th></th>\n",
       "      <th></th>\n",
       "      <th></th>\n",
       "      <th></th>\n",
       "      <th></th>\n",
       "      <th></th>\n",
       "      <th></th>\n",
       "      <th></th>\n",
       "      <th></th>\n",
       "      <th></th>\n",
       "      <th></th>\n",
       "      <th></th>\n",
       "      <th></th>\n",
       "      <th></th>\n",
       "    </tr>\n",
       "  </thead>\n",
       "  <tbody>\n",
       "    <tr>\n",
       "      <th>Elementary</th>\n",
       "      <td>0.313354</td>\n",
       "      <td>0.317439</td>\n",
       "      <td>0.288133</td>\n",
       "      <td>0.332412</td>\n",
       "      <td>0.351674</td>\n",
       "      <td>0.402860</td>\n",
       "      <td>0.308109</td>\n",
       "      <td>0.338107</td>\n",
       "      <td>0.519245</td>\n",
       "      <td>0.353617</td>\n",
       "      <td>0.367404</td>\n",
       "      <td>0.338689</td>\n",
       "      <td>0.345175</td>\n",
       "      <td>0.328732</td>\n",
       "      <td>0.364729</td>\n",
       "    </tr>\n",
       "    <tr>\n",
       "      <th>High</th>\n",
       "      <td>0.269997</td>\n",
       "      <td>0.331378</td>\n",
       "      <td>0.294335</td>\n",
       "      <td>0.348687</td>\n",
       "      <td>0.231409</td>\n",
       "      <td>0.260610</td>\n",
       "      <td>0.201373</td>\n",
       "      <td>0.229202</td>\n",
       "      <td>0.400077</td>\n",
       "      <td>0.349336</td>\n",
       "      <td>0.355829</td>\n",
       "      <td>0.270426</td>\n",
       "      <td>0.286531</td>\n",
       "      <td>0.305459</td>\n",
       "      <td>0.343403</td>\n",
       "    </tr>\n",
       "    <tr>\n",
       "      <th>Middle</th>\n",
       "      <td>0.272938</td>\n",
       "      <td>0.289341</td>\n",
       "      <td>0.244374</td>\n",
       "      <td>0.294892</td>\n",
       "      <td>0.362565</td>\n",
       "      <td>0.390276</td>\n",
       "      <td>0.341143</td>\n",
       "      <td>0.357363</td>\n",
       "      <td>0.511250</td>\n",
       "      <td>0.322881</td>\n",
       "      <td>0.326773</td>\n",
       "      <td>0.337043</td>\n",
       "      <td>0.359389</td>\n",
       "      <td>0.334036</td>\n",
       "      <td>0.383663</td>\n",
       "    </tr>\n",
       "    <tr>\n",
       "      <th>Other</th>\n",
       "      <td>0.307405</td>\n",
       "      <td>0.327303</td>\n",
       "      <td>0.316126</td>\n",
       "      <td>0.344306</td>\n",
       "      <td>0.285647</td>\n",
       "      <td>0.308662</td>\n",
       "      <td>0.244099</td>\n",
       "      <td>0.240873</td>\n",
       "      <td>0.413550</td>\n",
       "      <td>0.365386</td>\n",
       "      <td>0.347952</td>\n",
       "      <td>0.304003</td>\n",
       "      <td>0.296822</td>\n",
       "      <td>0.349833</td>\n",
       "      <td>0.327282</td>\n",
       "    </tr>\n",
       "    <tr>\n",
       "      <th>Secondary</th>\n",
       "      <td>0.293484</td>\n",
       "      <td>0.276567</td>\n",
       "      <td>0.359758</td>\n",
       "      <td>0.370127</td>\n",
       "      <td>0.308447</td>\n",
       "      <td>0.384527</td>\n",
       "      <td>0.292991</td>\n",
       "      <td>0.387432</td>\n",
       "      <td>0.443152</td>\n",
       "      <td>0.505515</td>\n",
       "      <td>0.530455</td>\n",
       "      <td>0.277826</td>\n",
       "      <td>0.428159</td>\n",
       "      <td>0.291515</td>\n",
       "      <td>0.525471</td>\n",
       "    </tr>\n",
       "  </tbody>\n",
       "</table>\n",
       "</div>"
      ],
      "text/plain": [
       "subject_area       ELA                                    Math            \\\n",
       "year              2018      2019      2021      2022      2018      2019   \n",
       "school_lvl                                                                 \n",
       "Elementary    0.313354  0.317439  0.288133  0.332412  0.351674  0.402860   \n",
       "High          0.269997  0.331378  0.294335  0.348687  0.231409  0.260610   \n",
       "Middle        0.272938  0.289341  0.244374  0.294892  0.362565  0.390276   \n",
       "Other         0.307405  0.327303  0.316126  0.344306  0.285647  0.308662   \n",
       "Secondary     0.293484  0.276567  0.359758  0.370127  0.308447  0.384527   \n",
       "\n",
       "subject_area                       Science                     Social Studies  \\\n",
       "year              2021      2022      2018      2021      2022           2018   \n",
       "school_lvl                                                                      \n",
       "Elementary    0.308109  0.338107  0.519245  0.353617  0.367404       0.338689   \n",
       "High          0.201373  0.229202  0.400077  0.349336  0.355829       0.270426   \n",
       "Middle        0.341143  0.357363  0.511250  0.322881  0.326773       0.337043   \n",
       "Other         0.244099  0.240873  0.413550  0.365386  0.347952       0.304003   \n",
       "Secondary     0.292991  0.387432  0.443152  0.505515  0.530455       0.277826   \n",
       "\n",
       "subject_area                                \n",
       "year              2019      2021      2022  \n",
       "school_lvl                                  \n",
       "Elementary    0.345175  0.328732  0.364729  \n",
       "High          0.286531  0.305459  0.343403  \n",
       "Middle        0.359389  0.334036  0.383663  \n",
       "Other         0.296822  0.349833  0.327282  \n",
       "Secondary     0.428159  0.291515  0.525471  "
      ]
     },
     "execution_count": 7,
     "metadata": {},
     "output_type": "execute_result"
    }
   ],
   "source": [
    "# Subject Area Pivot Table\n",
    "subject_area_pivot = pd.pivot_table(assessments,\n",
    "                       values = 'pct_met_exceeded',\n",
    "                       index = ['school_lvl'],\n",
    "                       columns = ['subject_area','year'],\n",
    "                       aggfunc = np.mean)\n",
    "\n",
    "# Get the current list of years\n",
    "years = list(subject_area_pivot.columns)\n",
    "\n",
    "subject_area_pivot\n",
    "#.plot()"
   ]
  },
  {
   "cell_type": "markdown",
   "metadata": {},
   "source": [
    "#### Visual of Log Proficiencies For All Subjects Combined by School Level (Unweighted)"
   ]
  },
  {
   "cell_type": "code",
   "execution_count": 8,
   "metadata": {},
   "outputs": [
    {
     "data": {
      "application/vnd.plotly.v1+json": {
       "config": {
        "plotlyServerURL": "https://plot.ly"
       },
       "data": [
        {
         "colorscale": [
          [
           0,
           "#440154"
          ],
          [
           0.1111111111111111,
           "#482878"
          ],
          [
           0.2222222222222222,
           "#3e4989"
          ],
          [
           0.3333333333333333,
           "#31688e"
          ],
          [
           0.4444444444444444,
           "#26828e"
          ],
          [
           0.5555555555555556,
           "#1f9e89"
          ],
          [
           0.6666666666666666,
           "#35b779"
          ],
          [
           0.7777777777777778,
           "#6ece58"
          ],
          [
           0.8888888888888888,
           "#b5de2b"
          ],
          [
           1,
           "#fde725"
          ]
         ],
         "type": "heatmap",
         "x": [
          2018,
          2019,
          2021,
          2022,
          2018,
          2019,
          2021,
          2022,
          2018,
          2021,
          2022,
          2018,
          2019,
          2021,
          2022
         ],
         "y": [
          "Elementary",
          "High",
          "Middle",
          "Other",
          "Secondary"
         ],
         "z": [
          [
           -1.1604231506220097,
           -1.1474690767214122,
           -1.244331662563781,
           -1.1013803883172049,
           -1.0450509499639855,
           -0.9091671226383866,
           -1.1773018611877002,
           -1.0843915032888014,
           -0.6553789149947815,
           -1.039541214541772,
           -1.001293992397191,
           -1.082672348600349,
           -1.0637027423419314,
           -1.112512627660853,
           -1.0086001628672294
          ],
          [
           -1.3093452661575986,
           -1.1044967437362676,
           -1.223035456405317,
           -1.0535794398944052,
           -1.463567453991368,
           -1.3447283330321826,
           -1.6025988107285392,
           -1.4731511547282896,
           -0.9160990324582512,
           -1.0517221894903117,
           -1.033306187812059,
           -1.3077555125727889,
           -1.2499076737319628,
           -1.185940675508946,
           -1.068849206313412
          ],
          [
           -1.2985092804424785,
           -1.2401500570948267,
           -1.4090574170111927,
           -1.221144683499604,
           -1.0145512120105757,
           -0.9408999939880842,
           -1.075452804347602,
           -1.0290020698365854,
           -0.6708967925910583,
           -1.1304705399896537,
           -1.11849012451689,
           -1.087544441285119,
           -1.0233488172716403,
           -1.0965072763596544,
           -0.9579918129019097
          ],
          [
           -1.1795907723893755,
           -1.116867501111674,
           -1.1516159008768765,
           -1.0662244121413318,
           -1.2529997907067547,
           -1.1755093808000683,
           -1.4101801268849294,
           -1.4234864586688378,
           -0.8829776196798094,
           -1.0068016604242493,
           -1.0556911422357091,
           -1.1907186144725304,
           -1.2146213658599627,
           -1.0503006756436954,
           -1.1169323058965404
          ],
          [
           -1.225932595337334,
           -1.2853027334588718,
           -1.0223242169806883,
           -0.9939083521475618,
           -1.1762044837138388,
           -0.9557414115874795,
           -1.2276142720318475,
           -0.9482138133088912,
           -0.8138414619780793,
           -0.6821772676470602,
           -0.6340210070598513,
           -1.2807599475397062,
           -0.8482604447350239,
           -1.232663296788865,
           -0.643461059336514
          ]
         ],
         "zmid": -1.1013803883172049
        }
       ],
       "layout": {
        "template": {
         "data": {
          "bar": [
           {
            "error_x": {
             "color": "#2a3f5f"
            },
            "error_y": {
             "color": "#2a3f5f"
            },
            "marker": {
             "line": {
              "color": "#E5ECF6",
              "width": 0.5
             },
             "pattern": {
              "fillmode": "overlay",
              "size": 10,
              "solidity": 0.2
             }
            },
            "type": "bar"
           }
          ],
          "barpolar": [
           {
            "marker": {
             "line": {
              "color": "#E5ECF6",
              "width": 0.5
             },
             "pattern": {
              "fillmode": "overlay",
              "size": 10,
              "solidity": 0.2
             }
            },
            "type": "barpolar"
           }
          ],
          "carpet": [
           {
            "aaxis": {
             "endlinecolor": "#2a3f5f",
             "gridcolor": "white",
             "linecolor": "white",
             "minorgridcolor": "white",
             "startlinecolor": "#2a3f5f"
            },
            "baxis": {
             "endlinecolor": "#2a3f5f",
             "gridcolor": "white",
             "linecolor": "white",
             "minorgridcolor": "white",
             "startlinecolor": "#2a3f5f"
            },
            "type": "carpet"
           }
          ],
          "choropleth": [
           {
            "colorbar": {
             "outlinewidth": 0,
             "ticks": ""
            },
            "type": "choropleth"
           }
          ],
          "contour": [
           {
            "colorbar": {
             "outlinewidth": 0,
             "ticks": ""
            },
            "colorscale": [
             [
              0,
              "#0d0887"
             ],
             [
              0.1111111111111111,
              "#46039f"
             ],
             [
              0.2222222222222222,
              "#7201a8"
             ],
             [
              0.3333333333333333,
              "#9c179e"
             ],
             [
              0.4444444444444444,
              "#bd3786"
             ],
             [
              0.5555555555555556,
              "#d8576b"
             ],
             [
              0.6666666666666666,
              "#ed7953"
             ],
             [
              0.7777777777777778,
              "#fb9f3a"
             ],
             [
              0.8888888888888888,
              "#fdca26"
             ],
             [
              1,
              "#f0f921"
             ]
            ],
            "type": "contour"
           }
          ],
          "contourcarpet": [
           {
            "colorbar": {
             "outlinewidth": 0,
             "ticks": ""
            },
            "type": "contourcarpet"
           }
          ],
          "heatmap": [
           {
            "colorbar": {
             "outlinewidth": 0,
             "ticks": ""
            },
            "colorscale": [
             [
              0,
              "#0d0887"
             ],
             [
              0.1111111111111111,
              "#46039f"
             ],
             [
              0.2222222222222222,
              "#7201a8"
             ],
             [
              0.3333333333333333,
              "#9c179e"
             ],
             [
              0.4444444444444444,
              "#bd3786"
             ],
             [
              0.5555555555555556,
              "#d8576b"
             ],
             [
              0.6666666666666666,
              "#ed7953"
             ],
             [
              0.7777777777777778,
              "#fb9f3a"
             ],
             [
              0.8888888888888888,
              "#fdca26"
             ],
             [
              1,
              "#f0f921"
             ]
            ],
            "type": "heatmap"
           }
          ],
          "heatmapgl": [
           {
            "colorbar": {
             "outlinewidth": 0,
             "ticks": ""
            },
            "colorscale": [
             [
              0,
              "#0d0887"
             ],
             [
              0.1111111111111111,
              "#46039f"
             ],
             [
              0.2222222222222222,
              "#7201a8"
             ],
             [
              0.3333333333333333,
              "#9c179e"
             ],
             [
              0.4444444444444444,
              "#bd3786"
             ],
             [
              0.5555555555555556,
              "#d8576b"
             ],
             [
              0.6666666666666666,
              "#ed7953"
             ],
             [
              0.7777777777777778,
              "#fb9f3a"
             ],
             [
              0.8888888888888888,
              "#fdca26"
             ],
             [
              1,
              "#f0f921"
             ]
            ],
            "type": "heatmapgl"
           }
          ],
          "histogram": [
           {
            "marker": {
             "pattern": {
              "fillmode": "overlay",
              "size": 10,
              "solidity": 0.2
             }
            },
            "type": "histogram"
           }
          ],
          "histogram2d": [
           {
            "colorbar": {
             "outlinewidth": 0,
             "ticks": ""
            },
            "colorscale": [
             [
              0,
              "#0d0887"
             ],
             [
              0.1111111111111111,
              "#46039f"
             ],
             [
              0.2222222222222222,
              "#7201a8"
             ],
             [
              0.3333333333333333,
              "#9c179e"
             ],
             [
              0.4444444444444444,
              "#bd3786"
             ],
             [
              0.5555555555555556,
              "#d8576b"
             ],
             [
              0.6666666666666666,
              "#ed7953"
             ],
             [
              0.7777777777777778,
              "#fb9f3a"
             ],
             [
              0.8888888888888888,
              "#fdca26"
             ],
             [
              1,
              "#f0f921"
             ]
            ],
            "type": "histogram2d"
           }
          ],
          "histogram2dcontour": [
           {
            "colorbar": {
             "outlinewidth": 0,
             "ticks": ""
            },
            "colorscale": [
             [
              0,
              "#0d0887"
             ],
             [
              0.1111111111111111,
              "#46039f"
             ],
             [
              0.2222222222222222,
              "#7201a8"
             ],
             [
              0.3333333333333333,
              "#9c179e"
             ],
             [
              0.4444444444444444,
              "#bd3786"
             ],
             [
              0.5555555555555556,
              "#d8576b"
             ],
             [
              0.6666666666666666,
              "#ed7953"
             ],
             [
              0.7777777777777778,
              "#fb9f3a"
             ],
             [
              0.8888888888888888,
              "#fdca26"
             ],
             [
              1,
              "#f0f921"
             ]
            ],
            "type": "histogram2dcontour"
           }
          ],
          "mesh3d": [
           {
            "colorbar": {
             "outlinewidth": 0,
             "ticks": ""
            },
            "type": "mesh3d"
           }
          ],
          "parcoords": [
           {
            "line": {
             "colorbar": {
              "outlinewidth": 0,
              "ticks": ""
             }
            },
            "type": "parcoords"
           }
          ],
          "pie": [
           {
            "automargin": true,
            "type": "pie"
           }
          ],
          "scatter": [
           {
            "fillpattern": {
             "fillmode": "overlay",
             "size": 10,
             "solidity": 0.2
            },
            "type": "scatter"
           }
          ],
          "scatter3d": [
           {
            "line": {
             "colorbar": {
              "outlinewidth": 0,
              "ticks": ""
             }
            },
            "marker": {
             "colorbar": {
              "outlinewidth": 0,
              "ticks": ""
             }
            },
            "type": "scatter3d"
           }
          ],
          "scattercarpet": [
           {
            "marker": {
             "colorbar": {
              "outlinewidth": 0,
              "ticks": ""
             }
            },
            "type": "scattercarpet"
           }
          ],
          "scattergeo": [
           {
            "marker": {
             "colorbar": {
              "outlinewidth": 0,
              "ticks": ""
             }
            },
            "type": "scattergeo"
           }
          ],
          "scattergl": [
           {
            "marker": {
             "colorbar": {
              "outlinewidth": 0,
              "ticks": ""
             }
            },
            "type": "scattergl"
           }
          ],
          "scattermapbox": [
           {
            "marker": {
             "colorbar": {
              "outlinewidth": 0,
              "ticks": ""
             }
            },
            "type": "scattermapbox"
           }
          ],
          "scatterpolar": [
           {
            "marker": {
             "colorbar": {
              "outlinewidth": 0,
              "ticks": ""
             }
            },
            "type": "scatterpolar"
           }
          ],
          "scatterpolargl": [
           {
            "marker": {
             "colorbar": {
              "outlinewidth": 0,
              "ticks": ""
             }
            },
            "type": "scatterpolargl"
           }
          ],
          "scatterternary": [
           {
            "marker": {
             "colorbar": {
              "outlinewidth": 0,
              "ticks": ""
             }
            },
            "type": "scatterternary"
           }
          ],
          "surface": [
           {
            "colorbar": {
             "outlinewidth": 0,
             "ticks": ""
            },
            "colorscale": [
             [
              0,
              "#0d0887"
             ],
             [
              0.1111111111111111,
              "#46039f"
             ],
             [
              0.2222222222222222,
              "#7201a8"
             ],
             [
              0.3333333333333333,
              "#9c179e"
             ],
             [
              0.4444444444444444,
              "#bd3786"
             ],
             [
              0.5555555555555556,
              "#d8576b"
             ],
             [
              0.6666666666666666,
              "#ed7953"
             ],
             [
              0.7777777777777778,
              "#fb9f3a"
             ],
             [
              0.8888888888888888,
              "#fdca26"
             ],
             [
              1,
              "#f0f921"
             ]
            ],
            "type": "surface"
           }
          ],
          "table": [
           {
            "cells": {
             "fill": {
              "color": "#EBF0F8"
             },
             "line": {
              "color": "white"
             }
            },
            "header": {
             "fill": {
              "color": "#C8D4E3"
             },
             "line": {
              "color": "white"
             }
            },
            "type": "table"
           }
          ]
         },
         "layout": {
          "annotationdefaults": {
           "arrowcolor": "#2a3f5f",
           "arrowhead": 0,
           "arrowwidth": 1
          },
          "autotypenumbers": "strict",
          "coloraxis": {
           "colorbar": {
            "outlinewidth": 0,
            "ticks": ""
           }
          },
          "colorscale": {
           "diverging": [
            [
             0,
             "#8e0152"
            ],
            [
             0.1,
             "#c51b7d"
            ],
            [
             0.2,
             "#de77ae"
            ],
            [
             0.3,
             "#f1b6da"
            ],
            [
             0.4,
             "#fde0ef"
            ],
            [
             0.5,
             "#f7f7f7"
            ],
            [
             0.6,
             "#e6f5d0"
            ],
            [
             0.7,
             "#b8e186"
            ],
            [
             0.8,
             "#7fbc41"
            ],
            [
             0.9,
             "#4d9221"
            ],
            [
             1,
             "#276419"
            ]
           ],
           "sequential": [
            [
             0,
             "#0d0887"
            ],
            [
             0.1111111111111111,
             "#46039f"
            ],
            [
             0.2222222222222222,
             "#7201a8"
            ],
            [
             0.3333333333333333,
             "#9c179e"
            ],
            [
             0.4444444444444444,
             "#bd3786"
            ],
            [
             0.5555555555555556,
             "#d8576b"
            ],
            [
             0.6666666666666666,
             "#ed7953"
            ],
            [
             0.7777777777777778,
             "#fb9f3a"
            ],
            [
             0.8888888888888888,
             "#fdca26"
            ],
            [
             1,
             "#f0f921"
            ]
           ],
           "sequentialminus": [
            [
             0,
             "#0d0887"
            ],
            [
             0.1111111111111111,
             "#46039f"
            ],
            [
             0.2222222222222222,
             "#7201a8"
            ],
            [
             0.3333333333333333,
             "#9c179e"
            ],
            [
             0.4444444444444444,
             "#bd3786"
            ],
            [
             0.5555555555555556,
             "#d8576b"
            ],
            [
             0.6666666666666666,
             "#ed7953"
            ],
            [
             0.7777777777777778,
             "#fb9f3a"
            ],
            [
             0.8888888888888888,
             "#fdca26"
            ],
            [
             1,
             "#f0f921"
            ]
           ]
          },
          "colorway": [
           "#636efa",
           "#EF553B",
           "#00cc96",
           "#ab63fa",
           "#FFA15A",
           "#19d3f3",
           "#FF6692",
           "#B6E880",
           "#FF97FF",
           "#FECB52"
          ],
          "font": {
           "color": "#2a3f5f"
          },
          "geo": {
           "bgcolor": "white",
           "lakecolor": "white",
           "landcolor": "#E5ECF6",
           "showlakes": true,
           "showland": true,
           "subunitcolor": "white"
          },
          "hoverlabel": {
           "align": "left"
          },
          "hovermode": "closest",
          "mapbox": {
           "style": "light"
          },
          "paper_bgcolor": "white",
          "plot_bgcolor": "#E5ECF6",
          "polar": {
           "angularaxis": {
            "gridcolor": "white",
            "linecolor": "white",
            "ticks": ""
           },
           "bgcolor": "#E5ECF6",
           "radialaxis": {
            "gridcolor": "white",
            "linecolor": "white",
            "ticks": ""
           }
          },
          "scene": {
           "xaxis": {
            "backgroundcolor": "#E5ECF6",
            "gridcolor": "white",
            "gridwidth": 2,
            "linecolor": "white",
            "showbackground": true,
            "ticks": "",
            "zerolinecolor": "white"
           },
           "yaxis": {
            "backgroundcolor": "#E5ECF6",
            "gridcolor": "white",
            "gridwidth": 2,
            "linecolor": "white",
            "showbackground": true,
            "ticks": "",
            "zerolinecolor": "white"
           },
           "zaxis": {
            "backgroundcolor": "#E5ECF6",
            "gridcolor": "white",
            "gridwidth": 2,
            "linecolor": "white",
            "showbackground": true,
            "ticks": "",
            "zerolinecolor": "white"
           }
          },
          "shapedefaults": {
           "line": {
            "color": "#2a3f5f"
           }
          },
          "ternary": {
           "aaxis": {
            "gridcolor": "white",
            "linecolor": "white",
            "ticks": ""
           },
           "baxis": {
            "gridcolor": "white",
            "linecolor": "white",
            "ticks": ""
           },
           "bgcolor": "#E5ECF6",
           "caxis": {
            "gridcolor": "white",
            "linecolor": "white",
            "ticks": ""
           }
          },
          "title": {
           "x": 0.05
          },
          "xaxis": {
           "automargin": true,
           "gridcolor": "white",
           "linecolor": "white",
           "ticks": "",
           "title": {
            "standoff": 15
           },
           "zerolinecolor": "white",
           "zerolinewidth": 2
          },
          "yaxis": {
           "automargin": true,
           "gridcolor": "white",
           "linecolor": "white",
           "ticks": "",
           "title": {
            "standoff": 15
           },
           "zerolinecolor": "white",
           "zerolinewidth": 2
          }
         }
        },
        "title": {
         "text": "Combined Subject Area Heatmap (Log Scale)"
        },
        "xaxis": {
         "title": {
          "text": "Year"
         }
        },
        "yaxis": {
         "title": {
          "text": "School Level"
         }
        }
       }
      }
     },
     "metadata": {},
     "output_type": "display_data"
    }
   ],
   "source": [
    "# Apply logarithmic scaling to the values\n",
    "log_values = np.log(subject_area_pivot.values)\n",
    "\n",
    "# Create a diverging colorscale for heatmap\n",
    "colorscale = 'Viridis'\n",
    "\n",
    "# Create the heatmap figure\n",
    "fig = go.Figure(data=go.Heatmap(\n",
    "    z=log_values,\n",
    "    x=subject_area_pivot.columns.get_level_values('year'),\n",
    "    y=subject_area_pivot.index,\n",
    "    colorscale=colorscale,\n",
    "    zmid=np.median(log_values)  # Set the midpoint of the colorscale\n",
    "))\n",
    "\n",
    "# Update the layout\n",
    "fig.update_layout(\n",
    "    title='Combined Subject Area Heatmap (Log Scale)',\n",
    "    xaxis_title='Year',\n",
    "    yaxis_title='School Level'\n",
    ")\n",
    "\n",
    "# Show the figure\n",
    "fig.show()"
   ]
  },
  {
   "cell_type": "markdown",
   "metadata": {},
   "source": [
    "### 🗺️ Spatial Join of School Geometry (lat/long point) and District (polygons)"
   ]
  },
  {
   "cell_type": "markdown",
   "metadata": {},
   "source": [
    "There's some funk going on here.  District names don't match across datasets.  I'm going to do a spatial merge to see which dististricts are associated based on thier physical location."
   ]
  },
  {
   "cell_type": "code",
   "execution_count": 9,
   "metadata": {},
   "outputs": [],
   "source": [
    "# Set the CRS for the assessments dataframe\n",
    "assessments.crs = \"EPSG:4269\"\n",
    "\n",
    "# Reproject assessments dataframe to match the CRS of tn_leas dataframe\n",
    "reproject = assessments.to_crs(tn_leas.crs)\n",
    "\n",
    "# Perform spatial join\n",
    "assessments = gpd.sjoin(reproject, tn_leas, how='inner', predicate='intersects')"
   ]
  },
  {
   "cell_type": "markdown",
   "metadata": {},
   "source": [
    "There is indeed a mismatch in naming conventions between datasets"
   ]
  },
  {
   "cell_type": "code",
   "execution_count": 10,
   "metadata": {},
   "outputs": [
    {
     "data": {
      "text/html": [
       "<div>\n",
       "<style scoped>\n",
       "    .dataframe tbody tr th:only-of-type {\n",
       "        vertical-align: middle;\n",
       "    }\n",
       "\n",
       "    .dataframe tbody tr th {\n",
       "        vertical-align: top;\n",
       "    }\n",
       "\n",
       "    .dataframe thead th {\n",
       "        text-align: right;\n",
       "    }\n",
       "</style>\n",
       "<table border=\"1\" class=\"dataframe\">\n",
       "  <thead>\n",
       "    <tr style=\"text-align: right;\">\n",
       "      <th></th>\n",
       "      <th>system_name_left</th>\n",
       "      <th>system_name_right</th>\n",
       "    </tr>\n",
       "  </thead>\n",
       "  <tbody>\n",
       "    <tr>\n",
       "      <th>381475</th>\n",
       "      <td>Wilson County</td>\n",
       "      <td>Wilson County School District</td>\n",
       "    </tr>\n",
       "    <tr>\n",
       "      <th>381476</th>\n",
       "      <td>Wilson County</td>\n",
       "      <td>Wilson County School District</td>\n",
       "    </tr>\n",
       "    <tr>\n",
       "      <th>381477</th>\n",
       "      <td>Wilson County</td>\n",
       "      <td>Wilson County School District</td>\n",
       "    </tr>\n",
       "    <tr>\n",
       "      <th>381479</th>\n",
       "      <td>Wilson County</td>\n",
       "      <td>Wilson County School District</td>\n",
       "    </tr>\n",
       "    <tr>\n",
       "      <th>381480</th>\n",
       "      <td>Wilson County</td>\n",
       "      <td>Wilson County School District</td>\n",
       "    </tr>\n",
       "  </tbody>\n",
       "</table>\n",
       "</div>"
      ],
      "text/plain": [
       "       system_name_left              system_name_right\n",
       "381475    Wilson County  Wilson County School District\n",
       "381476    Wilson County  Wilson County School District\n",
       "381477    Wilson County  Wilson County School District\n",
       "381479    Wilson County  Wilson County School District\n",
       "381480    Wilson County  Wilson County School District"
      ]
     },
     "execution_count": 10,
     "metadata": {},
     "output_type": "execute_result"
    }
   ],
   "source": [
    "# Looking at differences in naming conventions\n",
    "pd.merge(\n",
    "    left = assessments.groupby(['system_name_left','school_name'])['system_name_right'].nunique().loc[lambda x: x>1].reset_index().drop(columns = 'system_name_right'),\n",
    "    right = assessments)[['system_name_left', 'school_name', 'system_name_right']].drop_duplicates()#.to_csv('../data/fixerupper.csv', index = False)\n",
    "\n",
    "subset_assessments = assessments[['system_name_left', 'system_name_right']]\n",
    "subset_assessments.tail()"
   ]
  },
  {
   "cell_type": "code",
   "execution_count": 11,
   "metadata": {},
   "outputs": [
    {
     "data": {
      "text/html": [
       "<div>\n",
       "<style scoped>\n",
       "    .dataframe tbody tr th:only-of-type {\n",
       "        vertical-align: middle;\n",
       "    }\n",
       "\n",
       "    .dataframe tbody tr th {\n",
       "        vertical-align: top;\n",
       "    }\n",
       "\n",
       "    .dataframe thead th {\n",
       "        text-align: right;\n",
       "    }\n",
       "</style>\n",
       "<table border=\"1\" class=\"dataframe\">\n",
       "  <thead>\n",
       "    <tr style=\"text-align: right;\">\n",
       "      <th></th>\n",
       "      <th>system_name_left</th>\n",
       "      <th>school_name</th>\n",
       "      <th>system_name_right</th>\n",
       "    </tr>\n",
       "  </thead>\n",
       "  <tbody>\n",
       "    <tr>\n",
       "      <th>85</th>\n",
       "      <td>Williamson County</td>\n",
       "      <td>Centennial High School</td>\n",
       "      <td>Williamson County School District in Franklin</td>\n",
       "    </tr>\n",
       "    <tr>\n",
       "      <th>86</th>\n",
       "      <td>Williamson County</td>\n",
       "      <td>Discovery Virtual K-8 School</td>\n",
       "      <td>Williamson County School District in Franklin</td>\n",
       "    </tr>\n",
       "    <tr>\n",
       "      <th>87</th>\n",
       "      <td>Williamson County</td>\n",
       "      <td>Franklin High School</td>\n",
       "      <td>Williamson County School District in Franklin</td>\n",
       "    </tr>\n",
       "    <tr>\n",
       "      <th>88</th>\n",
       "      <td>Williamson County</td>\n",
       "      <td>Renaissance High School</td>\n",
       "      <td>Williamson County School District in Franklin</td>\n",
       "    </tr>\n",
       "    <tr>\n",
       "      <th>89</th>\n",
       "      <td>Williamson County</td>\n",
       "      <td>Vanguard Virtual High School</td>\n",
       "      <td>Williamson County School District in Franklin</td>\n",
       "    </tr>\n",
       "    <tr>\n",
       "      <th>90</th>\n",
       "      <td>Wilson County</td>\n",
       "      <td>Lebanon High School</td>\n",
       "      <td>Wilson County School District in Lebanon</td>\n",
       "    </tr>\n",
       "    <tr>\n",
       "      <th>91</th>\n",
       "      <td>Wilson County</td>\n",
       "      <td>Tennessee Virtual On-Line School</td>\n",
       "      <td>Wilson County School District</td>\n",
       "    </tr>\n",
       "  </tbody>\n",
       "</table>\n",
       "</div>"
      ],
      "text/plain": [
       "     system_name_left                       school_name  \\\n",
       "85  Williamson County            Centennial High School   \n",
       "86  Williamson County      Discovery Virtual K-8 School   \n",
       "87  Williamson County              Franklin High School   \n",
       "88  Williamson County           Renaissance High School   \n",
       "89  Williamson County      Vanguard Virtual High School   \n",
       "90      Wilson County               Lebanon High School   \n",
       "91      Wilson County  Tennessee Virtual On-Line School   \n",
       "\n",
       "                                system_name_right  \n",
       "85  Williamson County School District in Franklin  \n",
       "86  Williamson County School District in Franklin  \n",
       "87  Williamson County School District in Franklin  \n",
       "88  Williamson County School District in Franklin  \n",
       "89  Williamson County School District in Franklin  \n",
       "90       Wilson County School District in Lebanon  \n",
       "91                  Wilson County School District  "
      ]
     },
     "execution_count": 11,
     "metadata": {},
     "output_type": "execute_result"
    }
   ],
   "source": [
    "# Load cleaned dictionary mapping\n",
    "clean_dictionary =pd.read_csv('../data/clean_dictionary.csv')\n",
    "clean_dictionary = pd.concat([pd.merge(\n",
    "    left = assessments.groupby(['system_name_left','school_name'])['system_name_right'].nunique().loc[lambda x: x == 1].reset_index().drop(columns = 'system_name_right'),\n",
    "    right = assessments)[['system_name_left', 'school_name', 'system_name_right']].drop_duplicates(), clean_dictionary])\n",
    "clean_dictionary.tail(n=7)"
   ]
  },
  {
   "cell_type": "markdown",
   "metadata": {},
   "source": [
    "Proccessing steps: Keep system_name_right, rename as system_name, drop system_name_right, set_system_name at col index 2"
   ]
  },
  {
   "cell_type": "code",
   "execution_count": 12,
   "metadata": {},
   "outputs": [],
   "source": [
    "# Merge assessments with the clean dictionary\n",
    "assessments = (pd.merge(left = assessments, right = clean_dictionary))\n",
    "\n",
    "# Rename the 'system_name_right' column to 'system_name'\n",
    "assessments.rename(columns={'system_name_right': 'system_name'}, inplace=True)\n",
    "\n",
    "# Move the 'system_name' column to the third position\n",
    "columns = list(assessments.columns)\n",
    "columns.insert(2, columns.pop(columns.index('system_name')))\n",
    "assessments = assessments[columns]\n",
    "\n",
    "# Drop the 'system_name_right' column\n",
    "assessments.drop('system_name_left', axis=1, inplace=True)"
   ]
  },
  {
   "cell_type": "code",
   "execution_count": 13,
   "metadata": {},
   "outputs": [
    {
     "data": {
      "text/html": [
       "<div>\n",
       "<style scoped>\n",
       "    .dataframe tbody tr th:only-of-type {\n",
       "        vertical-align: middle;\n",
       "    }\n",
       "\n",
       "    .dataframe tbody tr th {\n",
       "        vertical-align: top;\n",
       "    }\n",
       "\n",
       "    .dataframe thead th {\n",
       "        text-align: right;\n",
       "    }\n",
       "</style>\n",
       "<table border=\"1\" class=\"dataframe\">\n",
       "  <thead>\n",
       "    <tr style=\"text-align: right;\">\n",
       "      <th></th>\n",
       "      <th>year</th>\n",
       "      <th>system_name</th>\n",
       "      <th>school_name</th>\n",
       "      <th>test</th>\n",
       "      <th>subject</th>\n",
       "      <th>subject_area</th>\n",
       "      <th>student_group</th>\n",
       "      <th>valid_tests</th>\n",
       "      <th>pct_met_exceeded</th>\n",
       "      <th>system</th>\n",
       "      <th>school</th>\n",
       "      <th>school_lvl</th>\n",
       "      <th>tot_enrolled</th>\n",
       "      <th>fte_teachers</th>\n",
       "      <th>stu_tchr_ratio</th>\n",
       "      <th>school_type</th>\n",
       "      <th>magnet</th>\n",
       "      <th>charter</th>\n",
       "      <th>virtual</th>\n",
       "      <th>title_1</th>\n",
       "      <th>lat</th>\n",
       "      <th>long</th>\n",
       "      <th>locale</th>\n",
       "      <th>geometry</th>\n",
       "      <th>pct_met_exceeded_w</th>\n",
       "      <th>stu_tchr_ratio_w</th>\n",
       "      <th>fte_teachers_w</th>\n",
       "      <th>index_right</th>\n",
       "    </tr>\n",
       "  </thead>\n",
       "  <tbody>\n",
       "    <tr>\n",
       "      <th>0</th>\n",
       "      <td>2018</td>\n",
       "      <td>Shelby County School District</td>\n",
       "      <td>Aspire Coleman</td>\n",
       "      <td>TNReady</td>\n",
       "      <td>ELA</td>\n",
       "      <td>ELA</td>\n",
       "      <td>All Students</td>\n",
       "      <td>321.0</td>\n",
       "      <td>0.112</td>\n",
       "      <td>TN-00985</td>\n",
       "      <td>TN-00985-8050</td>\n",
       "      <td>Elementary</td>\n",
       "      <td>570</td>\n",
       "      <td>27.5</td>\n",
       "      <td>20.73</td>\n",
       "      <td>1-Regular school</td>\n",
       "      <td>0</td>\n",
       "      <td>1</td>\n",
       "      <td>NOTVIRTUAL</td>\n",
       "      <td>1</td>\n",
       "      <td>35.2141</td>\n",
       "      <td>-89.923641</td>\n",
       "      <td>11-City: Large</td>\n",
       "      <td>POINT (-89.92364 35.21410)</td>\n",
       "      <td>35.952</td>\n",
       "      <td>6654.33</td>\n",
       "      <td>8827.5</td>\n",
       "      <td>42</td>\n",
       "    </tr>\n",
       "    <tr>\n",
       "      <th>1</th>\n",
       "      <td>2018</td>\n",
       "      <td>Shelby County School District</td>\n",
       "      <td>Aspire Coleman</td>\n",
       "      <td>TNReady</td>\n",
       "      <td>ELA</td>\n",
       "      <td>ELA</td>\n",
       "      <td>Black or African American</td>\n",
       "      <td>299.0</td>\n",
       "      <td>0.114</td>\n",
       "      <td>TN-00985</td>\n",
       "      <td>TN-00985-8050</td>\n",
       "      <td>Elementary</td>\n",
       "      <td>570</td>\n",
       "      <td>27.5</td>\n",
       "      <td>20.73</td>\n",
       "      <td>1-Regular school</td>\n",
       "      <td>0</td>\n",
       "      <td>1</td>\n",
       "      <td>NOTVIRTUAL</td>\n",
       "      <td>1</td>\n",
       "      <td>35.2141</td>\n",
       "      <td>-89.923641</td>\n",
       "      <td>11-City: Large</td>\n",
       "      <td>POINT (-89.92364 35.21410)</td>\n",
       "      <td>34.086</td>\n",
       "      <td>6198.27</td>\n",
       "      <td>8222.5</td>\n",
       "      <td>42</td>\n",
       "    </tr>\n",
       "    <tr>\n",
       "      <th>2</th>\n",
       "      <td>2018</td>\n",
       "      <td>Shelby County School District</td>\n",
       "      <td>Aspire Coleman</td>\n",
       "      <td>TNReady</td>\n",
       "      <td>ELA</td>\n",
       "      <td>ELA</td>\n",
       "      <td>Black/Hispanic/Native American</td>\n",
       "      <td>312.0</td>\n",
       "      <td>0.115</td>\n",
       "      <td>TN-00985</td>\n",
       "      <td>TN-00985-8050</td>\n",
       "      <td>Elementary</td>\n",
       "      <td>570</td>\n",
       "      <td>27.5</td>\n",
       "      <td>20.73</td>\n",
       "      <td>1-Regular school</td>\n",
       "      <td>0</td>\n",
       "      <td>1</td>\n",
       "      <td>NOTVIRTUAL</td>\n",
       "      <td>1</td>\n",
       "      <td>35.2141</td>\n",
       "      <td>-89.923641</td>\n",
       "      <td>11-City: Large</td>\n",
       "      <td>POINT (-89.92364 35.21410)</td>\n",
       "      <td>35.880</td>\n",
       "      <td>6467.76</td>\n",
       "      <td>8580.0</td>\n",
       "      <td>42</td>\n",
       "    </tr>\n",
       "    <tr>\n",
       "      <th>3</th>\n",
       "      <td>2018</td>\n",
       "      <td>Shelby County School District</td>\n",
       "      <td>Aspire Coleman</td>\n",
       "      <td>TNReady</td>\n",
       "      <td>ELA</td>\n",
       "      <td>ELA</td>\n",
       "      <td>Economically Disadvantaged</td>\n",
       "      <td>222.0</td>\n",
       "      <td>0.095</td>\n",
       "      <td>TN-00985</td>\n",
       "      <td>TN-00985-8050</td>\n",
       "      <td>Elementary</td>\n",
       "      <td>570</td>\n",
       "      <td>27.5</td>\n",
       "      <td>20.73</td>\n",
       "      <td>1-Regular school</td>\n",
       "      <td>0</td>\n",
       "      <td>1</td>\n",
       "      <td>NOTVIRTUAL</td>\n",
       "      <td>1</td>\n",
       "      <td>35.2141</td>\n",
       "      <td>-89.923641</td>\n",
       "      <td>11-City: Large</td>\n",
       "      <td>POINT (-89.92364 35.21410)</td>\n",
       "      <td>21.090</td>\n",
       "      <td>4602.06</td>\n",
       "      <td>6105.0</td>\n",
       "      <td>42</td>\n",
       "    </tr>\n",
       "    <tr>\n",
       "      <th>4</th>\n",
       "      <td>2018</td>\n",
       "      <td>Shelby County School District</td>\n",
       "      <td>Aspire Coleman</td>\n",
       "      <td>TNReady</td>\n",
       "      <td>ELA</td>\n",
       "      <td>ELA</td>\n",
       "      <td>English Learners with Transitional 1-4</td>\n",
       "      <td>11.0</td>\n",
       "      <td>0.182</td>\n",
       "      <td>TN-00985</td>\n",
       "      <td>TN-00985-8050</td>\n",
       "      <td>Elementary</td>\n",
       "      <td>570</td>\n",
       "      <td>27.5</td>\n",
       "      <td>20.73</td>\n",
       "      <td>1-Regular school</td>\n",
       "      <td>0</td>\n",
       "      <td>1</td>\n",
       "      <td>NOTVIRTUAL</td>\n",
       "      <td>1</td>\n",
       "      <td>35.2141</td>\n",
       "      <td>-89.923641</td>\n",
       "      <td>11-City: Large</td>\n",
       "      <td>POINT (-89.92364 35.21410)</td>\n",
       "      <td>2.002</td>\n",
       "      <td>228.03</td>\n",
       "      <td>302.5</td>\n",
       "      <td>42</td>\n",
       "    </tr>\n",
       "  </tbody>\n",
       "</table>\n",
       "</div>"
      ],
      "text/plain": [
       "   year                    system_name     school_name     test subject  \\\n",
       "0  2018  Shelby County School District  Aspire Coleman  TNReady     ELA   \n",
       "1  2018  Shelby County School District  Aspire Coleman  TNReady     ELA   \n",
       "2  2018  Shelby County School District  Aspire Coleman  TNReady     ELA   \n",
       "3  2018  Shelby County School District  Aspire Coleman  TNReady     ELA   \n",
       "4  2018  Shelby County School District  Aspire Coleman  TNReady     ELA   \n",
       "\n",
       "  subject_area                           student_group  valid_tests  \\\n",
       "0          ELA                            All Students        321.0   \n",
       "1          ELA               Black or African American        299.0   \n",
       "2          ELA          Black/Hispanic/Native American        312.0   \n",
       "3          ELA              Economically Disadvantaged        222.0   \n",
       "4          ELA  English Learners with Transitional 1-4         11.0   \n",
       "\n",
       "   pct_met_exceeded    system         school  school_lvl tot_enrolled  \\\n",
       "0             0.112  TN-00985  TN-00985-8050  Elementary          570   \n",
       "1             0.114  TN-00985  TN-00985-8050  Elementary          570   \n",
       "2             0.115  TN-00985  TN-00985-8050  Elementary          570   \n",
       "3             0.095  TN-00985  TN-00985-8050  Elementary          570   \n",
       "4             0.182  TN-00985  TN-00985-8050  Elementary          570   \n",
       "\n",
       "   fte_teachers  stu_tchr_ratio       school_type  magnet  charter  \\\n",
       "0          27.5           20.73  1-Regular school       0        1   \n",
       "1          27.5           20.73  1-Regular school       0        1   \n",
       "2          27.5           20.73  1-Regular school       0        1   \n",
       "3          27.5           20.73  1-Regular school       0        1   \n",
       "4          27.5           20.73  1-Regular school       0        1   \n",
       "\n",
       "      virtual title_1      lat       long          locale  \\\n",
       "0  NOTVIRTUAL       1  35.2141 -89.923641  11-City: Large   \n",
       "1  NOTVIRTUAL       1  35.2141 -89.923641  11-City: Large   \n",
       "2  NOTVIRTUAL       1  35.2141 -89.923641  11-City: Large   \n",
       "3  NOTVIRTUAL       1  35.2141 -89.923641  11-City: Large   \n",
       "4  NOTVIRTUAL       1  35.2141 -89.923641  11-City: Large   \n",
       "\n",
       "                     geometry  pct_met_exceeded_w  stu_tchr_ratio_w  \\\n",
       "0  POINT (-89.92364 35.21410)              35.952           6654.33   \n",
       "1  POINT (-89.92364 35.21410)              34.086           6198.27   \n",
       "2  POINT (-89.92364 35.21410)              35.880           6467.76   \n",
       "3  POINT (-89.92364 35.21410)              21.090           4602.06   \n",
       "4  POINT (-89.92364 35.21410)               2.002            228.03   \n",
       "\n",
       "   fte_teachers_w  index_right  \n",
       "0          8827.5           42  \n",
       "1          8222.5           42  \n",
       "2          8580.0           42  \n",
       "3          6105.0           42  \n",
       "4           302.5           42  "
      ]
     },
     "execution_count": 13,
     "metadata": {},
     "output_type": "execute_result"
    }
   ],
   "source": [
    "assessments.head()"
   ]
  },
  {
   "cell_type": "markdown",
   "metadata": {},
   "source": [
    "#### 🏫 List of columns in assessments (school level) for use in district analysis."
   ]
  },
  {
   "cell_type": "code",
   "execution_count": 14,
   "metadata": {},
   "outputs": [],
   "source": [
    "# Let's figure how how I can pivot this    \n",
    "districts = assessments[['locale',\n",
    "                         'year',\n",
    "                         'system_name', \n",
    "                         'school_lvl', \n",
    "                         'subject_area', \n",
    "                         'student_group', \n",
    "                         'pct_met_exceeded_w', \n",
    "                         'school_type',\n",
    "                         'magnet',\n",
    "                         'charter',\n",
    "                         'title_1',\n",
    "                         'fte_teachers_w',\n",
    "                         'stu_tchr_ratio_w',\n",
    "                         'valid_tests']]"
   ]
  },
  {
   "cell_type": "markdown",
   "metadata": {},
   "source": [
    "### 🏋️ Weighting Metrics Based on Valid Tests"
   ]
  },
  {
   "cell_type": "markdown",
   "metadata": {},
   "source": [
    "#### 📇 Indices for Weight Pivots"
   ]
  },
  {
   "cell_type": "code",
   "execution_count": 15,
   "metadata": {},
   "outputs": [],
   "source": [
    "# Indices for pivots\n",
    "indices = ['system_name',  # School District \n",
    "           'school_lvl', # Level of school (Elem, Middle, High)\n",
    "           'school_type', # Regular, alternative, special education\n",
    "           'magnet', # Is magnet?\n",
    "           'charter', # Is charter?\n",
    "           'title_1', # Is title 1?\n",
    "           'locale', # Location category of school (rural, large city, etc)\n",
    "           'subject_area', # Overall content area of assessments\n",
    "           'student_group'] # Aggregate student groups (all students, students with disabilities, etc)"
   ]
  },
  {
   "cell_type": "markdown",
   "metadata": {},
   "source": [
    "#### 🏋️➕ Sum of Valid-Test-Weighted Scores for pct_met_exceeded, fte_teachers, and student_tchr_ratio "
   ]
  },
  {
   "cell_type": "code",
   "execution_count": 16,
   "metadata": {},
   "outputs": [],
   "source": [
    "# Sum of valid test scores (The 🏋️)\n",
    "weight = pd.pivot_table(\n",
    "    districts,\n",
    "    values='valid_tests',  # Column to calculate the sum of valid test scores\n",
    "    index=indices,\n",
    "    columns='year',\n",
    "    aggfunc=np.sum\n",
    ")\n",
    "\n",
    "# Sum of weighted scores pivot for 'pct_met_exceeded'\n",
    "sum_weighted_proficiency = pd.pivot_table(\n",
    "    districts,\n",
    "    values='pct_met_exceeded_w', # Weighted sum of students who met or exceeded expectations\n",
    "    index=indices,\n",
    "    columns='year',\n",
    "    aggfunc=np.sum\n",
    ")\n",
    "\n",
    "# Sum of weighted scores pivot for 'fte_teachers'\n",
    "sum_weighted_fte = pd.pivot_table(\n",
    "    districts,\n",
    "    values='fte_teachers_w', # Weighted sum of full-time equivalent teachers\n",
    "    index=indices,\n",
    "    columns='year',\n",
    "    aggfunc=np.sum\n",
    ")\n",
    "\n",
    "# Sum of weighted scores pivot for 'stu_tchr_ratio'\n",
    "sum_weighted_str = pd.pivot_table(\n",
    "    districts,\n",
    "    values='stu_tchr_ratio_w', # Weighted sum of student/teacher ratios\n",
    "    index=indices,\n",
    "    columns='year',\n",
    "    aggfunc=np.sum\n",
    ")\n",
    "\n",
    "# Create a multi-level column index\n",
    "column_index = pd.MultiIndex.from_product([['pct_met_exceeded', 'fte_teachers', 'stu_tchr_ratio'], sum_weighted_proficiency.columns])\n",
    "\n",
    "# Concatenate the pivot tables horizontally\n",
    "weighted_sums_pivot = pd.concat([sum_weighted_proficiency, sum_weighted_fte, sum_weighted_str], axis=1)\n",
    "weighted_sums_pivot.columns = column_index"
   ]
  },
  {
   "cell_type": "markdown",
   "metadata": {},
   "source": [
    "#### 🏋️⚖️ Weighted Averages for pct_met_exceeded_w, fte_teachers_w, stu_tchr_ratio_w"
   ]
  },
  {
   "cell_type": "code",
   "execution_count": 17,
   "metadata": {},
   "outputs": [
    {
     "data": {
      "text/html": [
       "<div>\n",
       "<style scoped>\n",
       "    .dataframe tbody tr th:only-of-type {\n",
       "        vertical-align: middle;\n",
       "    }\n",
       "\n",
       "    .dataframe tbody tr th {\n",
       "        vertical-align: top;\n",
       "    }\n",
       "\n",
       "    .dataframe thead tr th {\n",
       "        text-align: left;\n",
       "    }\n",
       "\n",
       "    .dataframe thead tr:last-of-type th {\n",
       "        text-align: right;\n",
       "    }\n",
       "</style>\n",
       "<table border=\"1\" class=\"dataframe\">\n",
       "  <thead>\n",
       "    <tr>\n",
       "      <th></th>\n",
       "      <th></th>\n",
       "      <th></th>\n",
       "      <th></th>\n",
       "      <th></th>\n",
       "      <th></th>\n",
       "      <th></th>\n",
       "      <th></th>\n",
       "      <th></th>\n",
       "      <th colspan=\"4\" halign=\"left\">pct_met_exceeded</th>\n",
       "      <th colspan=\"4\" halign=\"left\">fte_teachers</th>\n",
       "      <th colspan=\"4\" halign=\"left\">stu_tchr_ratio</th>\n",
       "    </tr>\n",
       "    <tr>\n",
       "      <th></th>\n",
       "      <th></th>\n",
       "      <th></th>\n",
       "      <th></th>\n",
       "      <th></th>\n",
       "      <th></th>\n",
       "      <th></th>\n",
       "      <th></th>\n",
       "      <th>year</th>\n",
       "      <th>2018</th>\n",
       "      <th>2019</th>\n",
       "      <th>2021</th>\n",
       "      <th>2022</th>\n",
       "      <th>2018</th>\n",
       "      <th>2019</th>\n",
       "      <th>2021</th>\n",
       "      <th>2022</th>\n",
       "      <th>2018</th>\n",
       "      <th>2019</th>\n",
       "      <th>2021</th>\n",
       "      <th>2022</th>\n",
       "    </tr>\n",
       "    <tr>\n",
       "      <th>system_name</th>\n",
       "      <th>school_lvl</th>\n",
       "      <th>school_type</th>\n",
       "      <th>magnet</th>\n",
       "      <th>charter</th>\n",
       "      <th>title_1</th>\n",
       "      <th>locale</th>\n",
       "      <th>subject_area</th>\n",
       "      <th>student_group</th>\n",
       "      <th></th>\n",
       "      <th></th>\n",
       "      <th></th>\n",
       "      <th></th>\n",
       "      <th></th>\n",
       "      <th></th>\n",
       "      <th></th>\n",
       "      <th></th>\n",
       "      <th></th>\n",
       "      <th></th>\n",
       "      <th></th>\n",
       "      <th></th>\n",
       "    </tr>\n",
       "  </thead>\n",
       "  <tbody>\n",
       "    <tr>\n",
       "      <th rowspan=\"5\" valign=\"top\">Alamo City School District</th>\n",
       "      <th rowspan=\"5\" valign=\"top\">Elementary</th>\n",
       "      <th rowspan=\"5\" valign=\"top\">1-Regular school</th>\n",
       "      <th rowspan=\"5\" valign=\"top\">0</th>\n",
       "      <th rowspan=\"5\" valign=\"top\">0</th>\n",
       "      <th rowspan=\"5\" valign=\"top\">1</th>\n",
       "      <th rowspan=\"5\" valign=\"top\">32-Town: Distant</th>\n",
       "      <th rowspan=\"5\" valign=\"top\">ELA</th>\n",
       "      <th>All Students</th>\n",
       "      <td>0.455</td>\n",
       "      <td>0.465</td>\n",
       "      <td>0.458</td>\n",
       "      <td>0.570</td>\n",
       "      <td>40.0</td>\n",
       "      <td>41.0</td>\n",
       "      <td>41.00</td>\n",
       "      <td>37.00</td>\n",
       "      <td>15.28</td>\n",
       "      <td>15.66</td>\n",
       "      <td>14.49</td>\n",
       "      <td>16.38</td>\n",
       "    </tr>\n",
       "    <tr>\n",
       "      <th>Black or African American</th>\n",
       "      <td>0.314</td>\n",
       "      <td>0.283</td>\n",
       "      <td>0.200</td>\n",
       "      <td>0.400</td>\n",
       "      <td>40.0</td>\n",
       "      <td>41.0</td>\n",
       "      <td>41.00</td>\n",
       "      <td>37.00</td>\n",
       "      <td>15.28</td>\n",
       "      <td>15.66</td>\n",
       "      <td>14.49</td>\n",
       "      <td>16.38</td>\n",
       "    </tr>\n",
       "    <tr>\n",
       "      <th>Black/Hispanic/Native American</th>\n",
       "      <td>0.312</td>\n",
       "      <td>0.274</td>\n",
       "      <td>0.215</td>\n",
       "      <td>0.426</td>\n",
       "      <td>40.0</td>\n",
       "      <td>41.0</td>\n",
       "      <td>41.00</td>\n",
       "      <td>37.00</td>\n",
       "      <td>15.28</td>\n",
       "      <td>15.66</td>\n",
       "      <td>14.49</td>\n",
       "      <td>16.38</td>\n",
       "    </tr>\n",
       "    <tr>\n",
       "      <th>Economically Disadvantaged</th>\n",
       "      <td>0.352</td>\n",
       "      <td>0.310</td>\n",
       "      <td>0.307</td>\n",
       "      <td>0.392</td>\n",
       "      <td>40.0</td>\n",
       "      <td>41.0</td>\n",
       "      <td>41.00</td>\n",
       "      <td>37.00</td>\n",
       "      <td>15.28</td>\n",
       "      <td>15.66</td>\n",
       "      <td>14.49</td>\n",
       "      <td>16.38</td>\n",
       "    </tr>\n",
       "    <tr>\n",
       "      <th>English Learner Transitional 1-4</th>\n",
       "      <td>0.355</td>\n",
       "      <td>0.333</td>\n",
       "      <td>0.111</td>\n",
       "      <td>0.357</td>\n",
       "      <td>40.0</td>\n",
       "      <td>41.0</td>\n",
       "      <td>41.00</td>\n",
       "      <td>37.00</td>\n",
       "      <td>15.28</td>\n",
       "      <td>15.66</td>\n",
       "      <td>14.49</td>\n",
       "      <td>16.38</td>\n",
       "    </tr>\n",
       "    <tr>\n",
       "      <th>...</th>\n",
       "      <th>...</th>\n",
       "      <th>...</th>\n",
       "      <th>...</th>\n",
       "      <th>...</th>\n",
       "      <th>...</th>\n",
       "      <th>...</th>\n",
       "      <th>...</th>\n",
       "      <th>...</th>\n",
       "      <td>...</td>\n",
       "      <td>...</td>\n",
       "      <td>...</td>\n",
       "      <td>...</td>\n",
       "      <td>...</td>\n",
       "      <td>...</td>\n",
       "      <td>...</td>\n",
       "      <td>...</td>\n",
       "      <td>...</td>\n",
       "      <td>...</td>\n",
       "      <td>...</td>\n",
       "      <td>...</td>\n",
       "    </tr>\n",
       "    <tr>\n",
       "      <th rowspan=\"5\" valign=\"top\">Wilson County School District in Lebanon</th>\n",
       "      <th rowspan=\"5\" valign=\"top\">High</th>\n",
       "      <th rowspan=\"5\" valign=\"top\">1-Regular school</th>\n",
       "      <th rowspan=\"5\" valign=\"top\">0</th>\n",
       "      <th rowspan=\"5\" valign=\"top\">0</th>\n",
       "      <th rowspan=\"5\" valign=\"top\">1</th>\n",
       "      <th rowspan=\"5\" valign=\"top\">31-Town: Fringe</th>\n",
       "      <th rowspan=\"5\" valign=\"top\">Science</th>\n",
       "      <th>Non-English Learners/Transitional 1-4</th>\n",
       "      <td>NaN</td>\n",
       "      <td>NaN</td>\n",
       "      <td>0.431</td>\n",
       "      <td>0.471</td>\n",
       "      <td>NaN</td>\n",
       "      <td>NaN</td>\n",
       "      <td>101.73</td>\n",
       "      <td>94.78</td>\n",
       "      <td>NaN</td>\n",
       "      <td>NaN</td>\n",
       "      <td>15.54</td>\n",
       "      <td>18.66</td>\n",
       "    </tr>\n",
       "    <tr>\n",
       "      <th>Non-Students with Disabilities</th>\n",
       "      <td>NaN</td>\n",
       "      <td>NaN</td>\n",
       "      <td>0.428</td>\n",
       "      <td>0.469</td>\n",
       "      <td>NaN</td>\n",
       "      <td>NaN</td>\n",
       "      <td>101.73</td>\n",
       "      <td>94.78</td>\n",
       "      <td>NaN</td>\n",
       "      <td>NaN</td>\n",
       "      <td>15.54</td>\n",
       "      <td>18.66</td>\n",
       "    </tr>\n",
       "    <tr>\n",
       "      <th>Students with Disabilities</th>\n",
       "      <td>NaN</td>\n",
       "      <td>NaN</td>\n",
       "      <td>0.156</td>\n",
       "      <td>0.235</td>\n",
       "      <td>NaN</td>\n",
       "      <td>NaN</td>\n",
       "      <td>101.73</td>\n",
       "      <td>94.78</td>\n",
       "      <td>NaN</td>\n",
       "      <td>NaN</td>\n",
       "      <td>15.54</td>\n",
       "      <td>18.66</td>\n",
       "    </tr>\n",
       "    <tr>\n",
       "      <th>Super Subgroup</th>\n",
       "      <td>NaN</td>\n",
       "      <td>NaN</td>\n",
       "      <td>0.289</td>\n",
       "      <td>0.317</td>\n",
       "      <td>NaN</td>\n",
       "      <td>NaN</td>\n",
       "      <td>101.73</td>\n",
       "      <td>94.78</td>\n",
       "      <td>NaN</td>\n",
       "      <td>NaN</td>\n",
       "      <td>15.54</td>\n",
       "      <td>18.66</td>\n",
       "    </tr>\n",
       "    <tr>\n",
       "      <th>White</th>\n",
       "      <td>NaN</td>\n",
       "      <td>NaN</td>\n",
       "      <td>0.488</td>\n",
       "      <td>0.520</td>\n",
       "      <td>NaN</td>\n",
       "      <td>NaN</td>\n",
       "      <td>101.73</td>\n",
       "      <td>94.78</td>\n",
       "      <td>NaN</td>\n",
       "      <td>NaN</td>\n",
       "      <td>15.54</td>\n",
       "      <td>18.66</td>\n",
       "    </tr>\n",
       "  </tbody>\n",
       "</table>\n",
       "<p>55834 rows × 12 columns</p>\n",
       "</div>"
      ],
      "text/plain": [
       "                                                                                                                                                                pct_met_exceeded  \\\n",
       "year                                                                                                                                                                        2018   \n",
       "system_name                              school_lvl school_type      magnet charter title_1 locale           subject_area student_group                                            \n",
       "Alamo City School District               Elementary 1-Regular school 0      0       1       32-Town: Distant ELA          All Students                                     0.455   \n",
       "                                                                                                                          Black or African American                        0.314   \n",
       "                                                                                                                          Black/Hispanic/Native American                   0.312   \n",
       "                                                                                                                          Economically Disadvantaged                       0.352   \n",
       "                                                                                                                          English Learner Transitional 1-4                 0.355   \n",
       "...                                                                                                                                                                          ...   \n",
       "Wilson County School District in Lebanon High       1-Regular school 0      0       1       31-Town: Fringe  Science      Non-English Learners/Transitional 1-4              NaN   \n",
       "                                                                                                                          Non-Students with Disabilities                     NaN   \n",
       "                                                                                                                          Students with Disabilities                         NaN   \n",
       "                                                                                                                          Super Subgroup                                     NaN   \n",
       "                                                                                                                          White                                              NaN   \n",
       "\n",
       "                                                                                                                                                                        \\\n",
       "year                                                                                                                                                              2019   \n",
       "system_name                              school_lvl school_type      magnet charter title_1 locale           subject_area student_group                                  \n",
       "Alamo City School District               Elementary 1-Regular school 0      0       1       32-Town: Distant ELA          All Students                           0.465   \n",
       "                                                                                                                          Black or African American              0.283   \n",
       "                                                                                                                          Black/Hispanic/Native American         0.274   \n",
       "                                                                                                                          Economically Disadvantaged             0.310   \n",
       "                                                                                                                          English Learner Transitional 1-4       0.333   \n",
       "...                                                                                                                                                                ...   \n",
       "Wilson County School District in Lebanon High       1-Regular school 0      0       1       31-Town: Fringe  Science      Non-English Learners/Transitional 1-4    NaN   \n",
       "                                                                                                                          Non-Students with Disabilities           NaN   \n",
       "                                                                                                                          Students with Disabilities               NaN   \n",
       "                                                                                                                          Super Subgroup                           NaN   \n",
       "                                                                                                                          White                                    NaN   \n",
       "\n",
       "                                                                                                                                                                        \\\n",
       "year                                                                                                                                                              2021   \n",
       "system_name                              school_lvl school_type      magnet charter title_1 locale           subject_area student_group                                  \n",
       "Alamo City School District               Elementary 1-Regular school 0      0       1       32-Town: Distant ELA          All Students                           0.458   \n",
       "                                                                                                                          Black or African American              0.200   \n",
       "                                                                                                                          Black/Hispanic/Native American         0.215   \n",
       "                                                                                                                          Economically Disadvantaged             0.307   \n",
       "                                                                                                                          English Learner Transitional 1-4       0.111   \n",
       "...                                                                                                                                                                ...   \n",
       "Wilson County School District in Lebanon High       1-Regular school 0      0       1       31-Town: Fringe  Science      Non-English Learners/Transitional 1-4  0.431   \n",
       "                                                                                                                          Non-Students with Disabilities         0.428   \n",
       "                                                                                                                          Students with Disabilities             0.156   \n",
       "                                                                                                                          Super Subgroup                         0.289   \n",
       "                                                                                                                          White                                  0.488   \n",
       "\n",
       "                                                                                                                                                                        \\\n",
       "year                                                                                                                                                              2022   \n",
       "system_name                              school_lvl school_type      magnet charter title_1 locale           subject_area student_group                                  \n",
       "Alamo City School District               Elementary 1-Regular school 0      0       1       32-Town: Distant ELA          All Students                           0.570   \n",
       "                                                                                                                          Black or African American              0.400   \n",
       "                                                                                                                          Black/Hispanic/Native American         0.426   \n",
       "                                                                                                                          Economically Disadvantaged             0.392   \n",
       "                                                                                                                          English Learner Transitional 1-4       0.357   \n",
       "...                                                                                                                                                                ...   \n",
       "Wilson County School District in Lebanon High       1-Regular school 0      0       1       31-Town: Fringe  Science      Non-English Learners/Transitional 1-4  0.471   \n",
       "                                                                                                                          Non-Students with Disabilities         0.469   \n",
       "                                                                                                                          Students with Disabilities             0.235   \n",
       "                                                                                                                          Super Subgroup                         0.317   \n",
       "                                                                                                                          White                                  0.520   \n",
       "\n",
       "                                                                                                                                                                fte_teachers  \\\n",
       "year                                                                                                                                                                    2018   \n",
       "system_name                              school_lvl school_type      magnet charter title_1 locale           subject_area student_group                                        \n",
       "Alamo City School District               Elementary 1-Regular school 0      0       1       32-Town: Distant ELA          All Students                                  40.0   \n",
       "                                                                                                                          Black or African American                     40.0   \n",
       "                                                                                                                          Black/Hispanic/Native American                40.0   \n",
       "                                                                                                                          Economically Disadvantaged                    40.0   \n",
       "                                                                                                                          English Learner Transitional 1-4              40.0   \n",
       "...                                                                                                                                                                      ...   \n",
       "Wilson County School District in Lebanon High       1-Regular school 0      0       1       31-Town: Fringe  Science      Non-English Learners/Transitional 1-4          NaN   \n",
       "                                                                                                                          Non-Students with Disabilities                 NaN   \n",
       "                                                                                                                          Students with Disabilities                     NaN   \n",
       "                                                                                                                          Super Subgroup                                 NaN   \n",
       "                                                                                                                          White                                          NaN   \n",
       "\n",
       "                                                                                                                                                                       \\\n",
       "year                                                                                                                                                             2019   \n",
       "system_name                              school_lvl school_type      magnet charter title_1 locale           subject_area student_group                                 \n",
       "Alamo City School District               Elementary 1-Regular school 0      0       1       32-Town: Distant ELA          All Students                           41.0   \n",
       "                                                                                                                          Black or African American              41.0   \n",
       "                                                                                                                          Black/Hispanic/Native American         41.0   \n",
       "                                                                                                                          Economically Disadvantaged             41.0   \n",
       "                                                                                                                          English Learner Transitional 1-4       41.0   \n",
       "...                                                                                                                                                               ...   \n",
       "Wilson County School District in Lebanon High       1-Regular school 0      0       1       31-Town: Fringe  Science      Non-English Learners/Transitional 1-4   NaN   \n",
       "                                                                                                                          Non-Students with Disabilities          NaN   \n",
       "                                                                                                                          Students with Disabilities              NaN   \n",
       "                                                                                                                          Super Subgroup                          NaN   \n",
       "                                                                                                                          White                                   NaN   \n",
       "\n",
       "                                                                                                                                                                         \\\n",
       "year                                                                                                                                                               2021   \n",
       "system_name                              school_lvl school_type      magnet charter title_1 locale           subject_area student_group                                   \n",
       "Alamo City School District               Elementary 1-Regular school 0      0       1       32-Town: Distant ELA          All Students                            41.00   \n",
       "                                                                                                                          Black or African American               41.00   \n",
       "                                                                                                                          Black/Hispanic/Native American          41.00   \n",
       "                                                                                                                          Economically Disadvantaged              41.00   \n",
       "                                                                                                                          English Learner Transitional 1-4        41.00   \n",
       "...                                                                                                                                                                 ...   \n",
       "Wilson County School District in Lebanon High       1-Regular school 0      0       1       31-Town: Fringe  Science      Non-English Learners/Transitional 1-4  101.73   \n",
       "                                                                                                                          Non-Students with Disabilities         101.73   \n",
       "                                                                                                                          Students with Disabilities             101.73   \n",
       "                                                                                                                          Super Subgroup                         101.73   \n",
       "                                                                                                                          White                                  101.73   \n",
       "\n",
       "                                                                                                                                                                        \\\n",
       "year                                                                                                                                                              2022   \n",
       "system_name                              school_lvl school_type      magnet charter title_1 locale           subject_area student_group                                  \n",
       "Alamo City School District               Elementary 1-Regular school 0      0       1       32-Town: Distant ELA          All Students                           37.00   \n",
       "                                                                                                                          Black or African American              37.00   \n",
       "                                                                                                                          Black/Hispanic/Native American         37.00   \n",
       "                                                                                                                          Economically Disadvantaged             37.00   \n",
       "                                                                                                                          English Learner Transitional 1-4       37.00   \n",
       "...                                                                                                                                                                ...   \n",
       "Wilson County School District in Lebanon High       1-Regular school 0      0       1       31-Town: Fringe  Science      Non-English Learners/Transitional 1-4  94.78   \n",
       "                                                                                                                          Non-Students with Disabilities         94.78   \n",
       "                                                                                                                          Students with Disabilities             94.78   \n",
       "                                                                                                                          Super Subgroup                         94.78   \n",
       "                                                                                                                          White                                  94.78   \n",
       "\n",
       "                                                                                                                                                                stu_tchr_ratio  \\\n",
       "year                                                                                                                                                                      2018   \n",
       "system_name                              school_lvl school_type      magnet charter title_1 locale           subject_area student_group                                          \n",
       "Alamo City School District               Elementary 1-Regular school 0      0       1       32-Town: Distant ELA          All Students                                   15.28   \n",
       "                                                                                                                          Black or African American                      15.28   \n",
       "                                                                                                                          Black/Hispanic/Native American                 15.28   \n",
       "                                                                                                                          Economically Disadvantaged                     15.28   \n",
       "                                                                                                                          English Learner Transitional 1-4               15.28   \n",
       "...                                                                                                                                                                        ...   \n",
       "Wilson County School District in Lebanon High       1-Regular school 0      0       1       31-Town: Fringe  Science      Non-English Learners/Transitional 1-4            NaN   \n",
       "                                                                                                                          Non-Students with Disabilities                   NaN   \n",
       "                                                                                                                          Students with Disabilities                       NaN   \n",
       "                                                                                                                          Super Subgroup                                   NaN   \n",
       "                                                                                                                          White                                            NaN   \n",
       "\n",
       "                                                                                                                                                                        \\\n",
       "year                                                                                                                                                              2019   \n",
       "system_name                              school_lvl school_type      magnet charter title_1 locale           subject_area student_group                                  \n",
       "Alamo City School District               Elementary 1-Regular school 0      0       1       32-Town: Distant ELA          All Students                           15.66   \n",
       "                                                                                                                          Black or African American              15.66   \n",
       "                                                                                                                          Black/Hispanic/Native American         15.66   \n",
       "                                                                                                                          Economically Disadvantaged             15.66   \n",
       "                                                                                                                          English Learner Transitional 1-4       15.66   \n",
       "...                                                                                                                                                                ...   \n",
       "Wilson County School District in Lebanon High       1-Regular school 0      0       1       31-Town: Fringe  Science      Non-English Learners/Transitional 1-4    NaN   \n",
       "                                                                                                                          Non-Students with Disabilities           NaN   \n",
       "                                                                                                                          Students with Disabilities               NaN   \n",
       "                                                                                                                          Super Subgroup                           NaN   \n",
       "                                                                                                                          White                                    NaN   \n",
       "\n",
       "                                                                                                                                                                        \\\n",
       "year                                                                                                                                                              2021   \n",
       "system_name                              school_lvl school_type      magnet charter title_1 locale           subject_area student_group                                  \n",
       "Alamo City School District               Elementary 1-Regular school 0      0       1       32-Town: Distant ELA          All Students                           14.49   \n",
       "                                                                                                                          Black or African American              14.49   \n",
       "                                                                                                                          Black/Hispanic/Native American         14.49   \n",
       "                                                                                                                          Economically Disadvantaged             14.49   \n",
       "                                                                                                                          English Learner Transitional 1-4       14.49   \n",
       "...                                                                                                                                                                ...   \n",
       "Wilson County School District in Lebanon High       1-Regular school 0      0       1       31-Town: Fringe  Science      Non-English Learners/Transitional 1-4  15.54   \n",
       "                                                                                                                          Non-Students with Disabilities         15.54   \n",
       "                                                                                                                          Students with Disabilities             15.54   \n",
       "                                                                                                                          Super Subgroup                         15.54   \n",
       "                                                                                                                          White                                  15.54   \n",
       "\n",
       "                                                                                                                                                                        \n",
       "year                                                                                                                                                              2022  \n",
       "system_name                              school_lvl school_type      magnet charter title_1 locale           subject_area student_group                                 \n",
       "Alamo City School District               Elementary 1-Regular school 0      0       1       32-Town: Distant ELA          All Students                           16.38  \n",
       "                                                                                                                          Black or African American              16.38  \n",
       "                                                                                                                          Black/Hispanic/Native American         16.38  \n",
       "                                                                                                                          Economically Disadvantaged             16.38  \n",
       "                                                                                                                          English Learner Transitional 1-4       16.38  \n",
       "...                                                                                                                                                                ...  \n",
       "Wilson County School District in Lebanon High       1-Regular school 0      0       1       31-Town: Fringe  Science      Non-English Learners/Transitional 1-4  18.66  \n",
       "                                                                                                                          Non-Students with Disabilities         18.66  \n",
       "                                                                                                                          Students with Disabilities             18.66  \n",
       "                                                                                                                          Super Subgroup                         18.66  \n",
       "                                                                                                                          White                                  18.66  \n",
       "\n",
       "[55834 rows x 12 columns]"
      ]
     },
     "execution_count": 17,
     "metadata": {},
     "output_type": "execute_result"
    }
   ],
   "source": [
    "# Divide sum_weighted_proficiency by weight\n",
    "weighted_avg_proficiency = sum_weighted_proficiency / weight\n",
    "\n",
    "# Divide sum_weighted_fte by weight\n",
    "weighted_avg_fte = sum_weighted_fte / weight\n",
    "\n",
    "# Divide sum_weighted_str by weight\n",
    "weighted_avg_str = sum_weighted_str / weight\n",
    "\n",
    "# Create a multi-level column index for the weighted average pivots\n",
    "column_index = pd.MultiIndex.from_product([['pct_met_exceeded', 'fte_teachers', 'stu_tchr_ratio'], weighted_avg_proficiency.columns])\n",
    "\n",
    "# Concatenate the weighted average pivots horizontally\n",
    "weighted_avg_pivot = pd.concat([weighted_avg_proficiency, weighted_avg_fte, weighted_avg_str], axis=1)\n",
    "weighted_avg_pivot.columns = column_index\n",
    "\n",
    "weighted_avg_pivot"
   ]
  },
  {
   "cell_type": "markdown",
   "metadata": {},
   "source": [
    "### 🤺 Slicing and Lagging\n",
    "> \"... the heavy-sword splendid.  The hard-edgèd weapon;  with Hrunting to aid me, I shall gain me glory .. \"\n",
    "    >> *-Beowulf*"
   ]
  },
  {
   "cell_type": "markdown",
   "metadata": {},
   "source": [
    "#### 🪟 Setting Variables for lag window slicing\n",
    "> 🗒️ **lvpp lags** → The lags for **Science** related metrics require some special treatment. The last valid prepandemic measurement for **ELA**, **Math**, and **Social Studies** was in **2019**.   **Science**, however, was not assessed in **2019**, but was in **2018**.  I cannnot directly compare lag windows for all subjects that start in **2019**.  In order to include metrics related to **Science** for fair comparisons, its window must start at **2018**.  Therefore, **lvpp** variables will be used as treatment for window the **last valid prepandemic measure** for each content area (e.g. 2018 or 2019 respectively).\n",
    "\n",
    "> 🗂️ lvpp → last valid pre-pandemic assessment to 2021 (first full school year after 2020 school closure)\n",
    "\n",
    "> 🗂️ intra → difference between first and second years school were reopend post-pandemic (2021 - 2022)\n",
    "\n",
    "> 🗂️ pre_post → difference between last valid pre-pandemic scores and last year in the dataset (lvpp to 2022)"
   ]
  },
  {
   "cell_type": "code",
   "execution_count": 18,
   "metadata": {},
   "outputs": [],
   "source": [
    "# Set the stop year for all metrics\n",
    "lvpp_stop = 2021\n",
    "\n",
    "# Set the start year for Math, ELA, and Social Studies related metrics (MESS)\n",
    "lvpp_start_mess = 2019\n",
    "\n",
    "# Set the start year for Science-related metrics\n",
    "lvpp_start_science = 2018\n",
    "\n",
    "# Set the start and stop year for the \"intra\" lag\n",
    "intra_start = 2021\n",
    "intra_stop = 2022\n",
    "\n",
    "# Science Slicer\n",
    "science_slice = (slice(None), slice(None), slice(None), slice(None), slice(None), slice(None), slice(None), 'Science')\n",
    "\n",
    "# Non-Science slicer\n",
    "subjects_slice = (slice(None), slice(None), slice(None), slice(None), slice(None), slice(None), slice(None, 'Science'))"
   ]
  },
  {
   "cell_type": "markdown",
   "metadata": {},
   "source": [
    "#### 📝 Assessment Proficiency Lags\n",
    "\n",
    "> 🗂️ pct_met_exceeded → Changes in weighted average full-time students who displayed **at-least minimum expected proficiency** over time."
   ]
  },
  {
   "cell_type": "code",
   "execution_count": 19,
   "metadata": {},
   "outputs": [],
   "source": [
    "# Calculate separate lag scores for Science-related metrics.\n",
    "\n",
    "# Last Valid Pre-Pandemic met_exceded measurement (lvpp)\n",
    "weighted_avg_pivot.loc[science_slice, ('pct_met_exceeded', 'lvpp')] = (\n",
    "    weighted_avg_pivot.loc[science_slice, ('pct_met_exceeded', lvpp_stop)] -\n",
    "    weighted_avg_pivot.loc[science_slice, ('pct_met_exceeded', lvpp_start_science)]\n",
    ")\n",
    "# Calculate the lvpp scores for Math, ELA, and Social Studies related metrics\n",
    "weighted_avg_pivot.loc[\n",
    "    subjects_slice + (['Math', 'ELA', 'Social Studies'],),\n",
    "    ('pct_met_exceeded', 'lvpp')\n",
    "] = (\n",
    "    weighted_avg_pivot.loc[\n",
    "        subjects_slice + (['Math', 'ELA', 'Social Studies'],),\n",
    "        ('pct_met_exceeded', lvpp_stop)\n",
    "    ] - weighted_avg_pivot.loc[\n",
    "        subjects_slice + (['Math', 'ELA', 'Social Studies'],),\n",
    "        ('pct_met_exceeded', lvpp_start_mess)\n",
    "    ]\n",
    ")\n",
    "# Calculate the intra lag score for 'pct_met_exceeded'\n",
    "weighted_avg_pivot.loc[subjects_slice, ('pct_met_exceeded', 'intra')] = (\n",
    "    weighted_avg_pivot.loc[subjects_slice, ('pct_met_exceeded', intra_stop)] -\n",
    "    weighted_avg_pivot.loc[subjects_slice, ('pct_met_exceeded', intra_start)]\n",
    ")\n",
    "# Calculate the pre-post lag scores for Science-related metrics\n",
    "weighted_avg_pivot.loc[science_slice, ('pct_met_exceeded', 'pre-post')] = (\n",
    "    weighted_avg_pivot.loc[science_slice, ('pct_met_exceeded', 2022)] -\n",
    "    weighted_avg_pivot.loc[science_slice, ('pct_met_exceeded', lvpp_start_science)]\n",
    ")\n",
    "# Calculate the pre-post lag scores for Math, ELA, and Social Studies related metrics\n",
    "weighted_avg_pivot.loc[\n",
    "    subjects_slice + (['Math', 'ELA', 'Social Studies'],),\n",
    "    ('pct_met_exceeded', 'pre-post')\n",
    "] = (\n",
    "    weighted_avg_pivot.loc[\n",
    "        subjects_slice + (['Math', 'ELA', 'Social Studies'],),\n",
    "        ('pct_met_exceeded', 2022)\n",
    "    ] - weighted_avg_pivot.loc[\n",
    "        subjects_slice + (['Math', 'ELA', 'Social Studies'],),\n",
    "        ('pct_met_exceeded', lvpp_start_mess)\n",
    "    ]\n",
    ")"
   ]
  },
  {
   "cell_type": "markdown",
   "metadata": {},
   "source": [
    "#### 🧑‍🏫 Full Time Equivalent Teachers Lag\n",
    "\n",
    "> 🗂️ fte_teachers → Changes in weighted-average of **full-time-equivalent teachers** over time."
   ]
  },
  {
   "cell_type": "code",
   "execution_count": 20,
   "metadata": {},
   "outputs": [],
   "source": [
    "# Last Valid Pre-Pandemic science-related full-time equivalent teachers measurement (lvpp)\n",
    "weighted_avg_pivot.loc[science_slice, ('fte_teachers', 'lvpp')] = (\n",
    "    weighted_avg_pivot.loc[science_slice, ('fte_teachers', lvpp_stop)] -\n",
    "    weighted_avg_pivot.loc[science_slice, ('fte_teachers', lvpp_start_science)]\n",
    ")\n",
    "\n",
    "# Last Valid Pre-Pandemic full-time equivalent teacher measurement (lvpp)\n",
    "weighted_avg_pivot.loc[\n",
    "    subjects_slice + (['Math', 'ELA', 'Social Studies'],),\n",
    "    ('fte_teachers', 'lvpp')\n",
    "] = (\n",
    "    weighted_avg_pivot.loc[\n",
    "        subjects_slice + (['Math', 'ELA', 'Social Studies'],),\n",
    "        ('fte_teachers', lvpp_stop)\n",
    "    ] - weighted_avg_pivot.loc[\n",
    "        subjects_slice + (['Math', 'ELA', 'Social Studies'],),\n",
    "        ('fte_teachers', lvpp_start_mess)\n",
    "    ]\n",
    ")\n",
    "\n",
    "# Calculate the intra lag score for 'fte_teachers'\n",
    "weighted_avg_pivot.loc[subjects_slice, ('fte_teachers', 'intra')] = (\n",
    "    weighted_avg_pivot.loc[subjects_slice, ('fte_teachers', intra_stop)] -\n",
    "    weighted_avg_pivot.loc[subjects_slice, ('fte_teachers', intra_start)]\n",
    ")\n",
    "\n",
    "# Calculate the 'pre-post' assessment lag scores for full-time equivalent teachers\n",
    "weighted_avg_pivot[('fte_teachers', 'pre-post')] = (\n",
    "    weighted_avg_pivot[('fte_teachers', 2022)] -\n",
    "    weighted_avg_pivot[('fte_teachers', 'lvpp')]\n",
    ")"
   ]
  },
  {
   "cell_type": "markdown",
   "metadata": {},
   "source": [
    "#### 🧑‍🎓/🧑‍🏫 Student Teacher Ratio Lag\n",
    "\n",
    "> 🗂️ stu_tchr_ratio → Changes in weighted-average **student-to-teacher ratio** over time."
   ]
  },
  {
   "cell_type": "code",
   "execution_count": 21,
   "metadata": {},
   "outputs": [],
   "source": [
    "# Last Valid Pre-Pandemic science-related student/teacher ratio measurement (lvpp)\n",
    "weighted_avg_pivot.loc[science_slice, ('stu_tchr_ratio', 'lvpp')] = (\n",
    "    weighted_avg_pivot.loc[science_slice, ('stu_tchr_ratio', lvpp_stop)] -\n",
    "    weighted_avg_pivot.loc[science_slice, ('stu_tchr_ratio', lvpp_start_science)]\n",
    ")\n",
    "\n",
    "# Last Valid Pre-Pandemic non science-related student/teacher ratio measurement (lvpp)\n",
    "weighted_avg_pivot.loc[\n",
    "    subjects_slice + (['Math', 'ELA', 'Social Studies'],),\n",
    "    ('stu_tchr_ratio', 'lvpp')\n",
    "] = (\n",
    "    weighted_avg_pivot.loc[\n",
    "        subjects_slice + (['Math', 'ELA', 'Social Studies'],),\n",
    "        ('stu_tchr_ratio', lvpp_stop)\n",
    "    ] - weighted_avg_pivot.loc[\n",
    "        subjects_slice + (['Math', 'ELA', 'Social Studies'],),\n",
    "        ('stu_tchr_ratio', lvpp_start_mess)\n",
    "    ]\n",
    ")\n",
    "\n",
    "# Calculate the intra lag score for 'stu_tchr_ratio'\n",
    "weighted_avg_pivot.loc[subjects_slice, ('stu_tchr_ratio', 'intra')] = (\n",
    "    weighted_avg_pivot.loc[subjects_slice, ('stu_tchr_ratio', intra_stop)] -\n",
    "    weighted_avg_pivot.loc[subjects_slice, ('stu_tchr_ratio', intra_start)]\n",
    ")\n",
    "\n",
    "# Calculate the 'pre-post' assessment lag scores for student/teacher ratios\n",
    "weighted_avg_pivot[('stu_tchr_ratio', 'pre-post')] = (\n",
    "    weighted_avg_pivot[('stu_tchr_ratio', 2022)] -\n",
    "    weighted_avg_pivot[('stu_tchr_ratio', 'lvpp')]\n",
    ")\n"
   ]
  },
  {
   "cell_type": "markdown",
   "metadata": {},
   "source": [
    "### 🔨 \"Un-Pivoting\"  Weighted Average Pivot to Prepare for Geometry \n",
    "🗂️ weighted_avg_pivot → weighted_average_metrics"
   ]
  },
  {
   "cell_type": "code",
   "execution_count": 22,
   "metadata": {},
   "outputs": [],
   "source": [
    "# Resetting index of weighted average pivot to create weighted_average_metrics DataFrame\n",
    "weighted_average_metrics = weighted_avg_pivot.reset_index()\n",
    "\n",
    "# Compressing hierarchy in columns and joining levels with \"_\"\n",
    "weighted_average_metrics.columns = ['_'.join(str(col) for col in column) for column in weighted_average_metrics.columns.values]\n",
    "\n",
    "# Removing trailing \"_\" introduced when compressing\n",
    "for col in weighted_average_metrics.columns:\n",
    "        # Check if the column name ends with '_'\n",
    "        if col.endswith('_'):\n",
    "            # If it does, remove the trailing underscore\n",
    "            weighted_average_metrics = weighted_average_metrics.rename(columns={col: col[:-1]})"
   ]
  },
  {
   "cell_type": "markdown",
   "metadata": {},
   "source": [
    "### 😵‍💫 Making a sanity-check to sample weighted_average_metrics and check calculations"
   ]
  },
  {
   "cell_type": "code",
   "execution_count": 23,
   "metadata": {},
   "outputs": [
    {
     "data": {
      "text/html": [
       "<div>\n",
       "<style scoped>\n",
       "    .dataframe tbody tr th:only-of-type {\n",
       "        vertical-align: middle;\n",
       "    }\n",
       "\n",
       "    .dataframe tbody tr th {\n",
       "        vertical-align: top;\n",
       "    }\n",
       "\n",
       "    .dataframe thead th {\n",
       "        text-align: right;\n",
       "    }\n",
       "</style>\n",
       "<table border=\"1\" class=\"dataframe\">\n",
       "  <thead>\n",
       "    <tr style=\"text-align: right;\">\n",
       "      <th></th>\n",
       "      <th>18</th>\n",
       "      <th>19</th>\n",
       "      <th>21</th>\n",
       "      <th>22</th>\n",
       "      <th>lvpp</th>\n",
       "      <th>intra</th>\n",
       "      <th>pre-post</th>\n",
       "    </tr>\n",
       "  </thead>\n",
       "  <tbody>\n",
       "    <tr>\n",
       "      <th>43016</th>\n",
       "      <td>0.475000</td>\n",
       "      <td>0.655000</td>\n",
       "      <td>0.283000</td>\n",
       "      <td>0.435000</td>\n",
       "      <td>-0.372000</td>\n",
       "      <td>0.152000</td>\n",
       "      <td>-0.220000</td>\n",
       "    </tr>\n",
       "    <tr>\n",
       "      <th>37075</th>\n",
       "      <td>0.376000</td>\n",
       "      <td>0.400000</td>\n",
       "      <td>0.336000</td>\n",
       "      <td>0.433000</td>\n",
       "      <td>-0.064000</td>\n",
       "      <td>0.097000</td>\n",
       "      <td>0.033000</td>\n",
       "    </tr>\n",
       "    <tr>\n",
       "      <th>16295</th>\n",
       "      <td>0.303980</td>\n",
       "      <td>0.376247</td>\n",
       "      <td>0.447061</td>\n",
       "      <td>0.490206</td>\n",
       "      <td>0.070814</td>\n",
       "      <td>0.043145</td>\n",
       "      <td>0.113959</td>\n",
       "    </tr>\n",
       "    <tr>\n",
       "      <th>12897</th>\n",
       "      <td>0.355695</td>\n",
       "      <td>0.380971</td>\n",
       "      <td>0.236846</td>\n",
       "      <td>0.287546</td>\n",
       "      <td>-0.144124</td>\n",
       "      <td>0.050700</td>\n",
       "      <td>-0.093424</td>\n",
       "    </tr>\n",
       "    <tr>\n",
       "      <th>44778</th>\n",
       "      <td>0.285761</td>\n",
       "      <td>0.275000</td>\n",
       "      <td>0.146000</td>\n",
       "      <td>0.184000</td>\n",
       "      <td>-0.129000</td>\n",
       "      <td>0.038000</td>\n",
       "      <td>-0.091000</td>\n",
       "    </tr>\n",
       "    <tr>\n",
       "      <th>54212</th>\n",
       "      <td>0.484309</td>\n",
       "      <td>0.519941</td>\n",
       "      <td>0.342323</td>\n",
       "      <td>0.468421</td>\n",
       "      <td>-0.177618</td>\n",
       "      <td>0.126098</td>\n",
       "      <td>-0.051520</td>\n",
       "    </tr>\n",
       "    <tr>\n",
       "      <th>29333</th>\n",
       "      <td>0.516678</td>\n",
       "      <td>0.505458</td>\n",
       "      <td>0.477569</td>\n",
       "      <td>0.431056</td>\n",
       "      <td>-0.027890</td>\n",
       "      <td>-0.046512</td>\n",
       "      <td>-0.074402</td>\n",
       "    </tr>\n",
       "    <tr>\n",
       "      <th>34888</th>\n",
       "      <td>0.355859</td>\n",
       "      <td>0.339727</td>\n",
       "      <td>0.298874</td>\n",
       "      <td>0.415162</td>\n",
       "      <td>-0.040853</td>\n",
       "      <td>0.116288</td>\n",
       "      <td>0.075435</td>\n",
       "    </tr>\n",
       "    <tr>\n",
       "      <th>8195</th>\n",
       "      <td>0.259947</td>\n",
       "      <td>0.246116</td>\n",
       "      <td>0.303000</td>\n",
       "      <td>0.260294</td>\n",
       "      <td>0.056884</td>\n",
       "      <td>-0.042706</td>\n",
       "      <td>0.014178</td>\n",
       "    </tr>\n",
       "    <tr>\n",
       "      <th>49830</th>\n",
       "      <td>0.239779</td>\n",
       "      <td>0.276190</td>\n",
       "      <td>0.199177</td>\n",
       "      <td>0.344263</td>\n",
       "      <td>-0.077013</td>\n",
       "      <td>0.145086</td>\n",
       "      <td>0.068073</td>\n",
       "    </tr>\n",
       "  </tbody>\n",
       "</table>\n",
       "</div>"
      ],
      "text/plain": [
       "             18        19        21        22      lvpp     intra  pre-post\n",
       "43016  0.475000  0.655000  0.283000  0.435000 -0.372000  0.152000 -0.220000\n",
       "37075  0.376000  0.400000  0.336000  0.433000 -0.064000  0.097000  0.033000\n",
       "16295  0.303980  0.376247  0.447061  0.490206  0.070814  0.043145  0.113959\n",
       "12897  0.355695  0.380971  0.236846  0.287546 -0.144124  0.050700 -0.093424\n",
       "44778  0.285761  0.275000  0.146000  0.184000 -0.129000  0.038000 -0.091000\n",
       "54212  0.484309  0.519941  0.342323  0.468421 -0.177618  0.126098 -0.051520\n",
       "29333  0.516678  0.505458  0.477569  0.431056 -0.027890 -0.046512 -0.074402\n",
       "34888  0.355859  0.339727  0.298874  0.415162 -0.040853  0.116288  0.075435\n",
       "8195   0.259947  0.246116  0.303000  0.260294  0.056884 -0.042706  0.014178\n",
       "49830  0.239779  0.276190  0.199177  0.344263 -0.077013  0.145086  0.068073"
      ]
     },
     "execution_count": 23,
     "metadata": {},
     "output_type": "execute_result"
    }
   ],
   "source": [
    "# Selection and renaming dictionary\n",
    "proficiency_dict = {\n",
    "    'pct_met_exceeded_2018': '18',\n",
    "    'pct_met_exceeded_2019': '19',\n",
    "    'pct_met_exceeded_2021': '21',\n",
    "    'pct_met_exceeded_2022': '22',\n",
    "    'pct_met_exceeded_lvpp': 'lvpp',\n",
    "    'pct_met_exceeded_intra': 'intra',\n",
    "    'pct_met_exceeded_pre-post': 'pre-post'\n",
    "}\n",
    "\n",
    "# Subsetting weighted_average_metrics and taking a random sample to check calculations\n",
    "sanity_check = weighted_average_metrics.loc[:, proficiency_dict.keys()].rename(columns=proficiency_dict)\n",
    "sanitarium = sanity_check.dropna().sample(n=10, random_state=42)\n",
    "sanitarium"
   ]
  },
  {
   "cell_type": "markdown",
   "metadata": {},
   "source": [
    "### 🕵️ Checking if system names exist in weighted assessments that do not in the district boundaries data set.  I've never been so happy to see an empty list!"
   ]
  },
  {
   "cell_type": "code",
   "execution_count": 24,
   "metadata": {},
   "outputs": [],
   "source": [
    "# List of unique system names in weighted assessments\n",
    "weighted_average_metrics_system_names = weighted_average_metrics['system_name'].tolist()\n",
    "\n",
    "# List of unique system names in tn_leas\n",
    "tn_leas_system_names = tn_leas['system_name'].tolist()\n",
    "\n",
    "# Checking if system names exist in weighted assessments and do not in the district boundaries data set\n",
    "unique_in_weighted_average_metrics = list(set(weighted_average_metrics_system_names) - set(tn_leas_system_names))\n",
    "\n",
    "# Check if system name exists in district boundaries, but does not in weighted assessments\n",
    "unique_in_tn_leas = list(set(tn_leas_system_names) - set(weighted_average_metrics_system_names))"
   ]
  },
  {
   "cell_type": "code",
   "execution_count": 25,
   "metadata": {},
   "outputs": [
    {
     "data": {
      "text/plain": [
       "[]"
      ]
     },
     "execution_count": 25,
     "metadata": {},
     "output_type": "execute_result"
    }
   ],
   "source": [
    "unique_in_weighted_average_metrics"
   ]
  },
  {
   "cell_type": "markdown",
   "metadata": {},
   "source": [
    "###  📊 🤝 🗺️ Merging Weighted Average Metrics with District Geometry Files and converting to GeoDataFrame"
   ]
  },
  {
   "cell_type": "code",
   "execution_count": 26,
   "metadata": {},
   "outputs": [],
   "source": [
    "weighted_average_metrics = pd.merge(left=weighted_average_metrics, right=tn_leas, on=\"system_name\", how='left')\n",
    "weighted_average_metrics = gpd.GeoDataFrame(weighted_average_metrics, geometry='geometry')"
   ]
  },
  {
   "cell_type": "markdown",
   "metadata": {},
   "source": [
    "#### Renaming columns to conform with ERSI standards"
   ]
  },
  {
   "cell_type": "code",
   "execution_count": 27,
   "metadata": {},
   "outputs": [],
   "source": [
    "rename_dict = {\n",
    "    'pct_met_exceeded_2018': 'pctm_18',\n",
    "    'pct_met_exceeded_2019': 'pctm_19',\n",
    "    'pct_met_exceeded_2021': 'pctm_21',\n",
    "    'pct_met_exceeded_2022': 'pctm_22',\n",
    "    'fte_teachers_2018': 'fte_18',\n",
    "    'fte_teachers_2019': 'fte_19',\n",
    "    'fte_teachers_2021': 'fte_21',\n",
    "    'fte_teachers_2022': 'fte_22',\n",
    "    'stu_tchr_ratio_2018': 'str_18',\n",
    "    'stu_tchr_ratio_2019': 'str_19',\n",
    "    'stu_tchr_ratio_2021': 'str_21',\n",
    "    'stu_tchr_ratio_2022': 'str_22',\n",
    "    'pct_met_exceeded_lvpp': 'pctm_lvpp',\n",
    "    'pct_met_exceeded_intra': 'pctm_intra',\n",
    "    'pct_met_exceeded_pre-post': 'pctm_pp',\n",
    "    'fte_teachers_lvpp': 'fte_lvpp',\n",
    "    'fte_teachers_intra': 'fte_intra',\n",
    "    'fte_teachers_pre-post': 'fte_pp',\n",
    "    'stu_tchr_ratio_lvpp': 'str_lvpp',\n",
    "    'stu_tchr_ratio_intra': 'str_intra',\n",
    "    'stu_tchr_ratio_pre-post': 'str_pp'\n",
    "}\n",
    "weighted_average_metrics.rename(columns=rename_dict, inplace=True)"
   ]
  },
  {
   "cell_type": "code",
   "execution_count": 28,
   "metadata": {},
   "outputs": [
    {
     "data": {
      "text/html": [
       "<div>\n",
       "<style scoped>\n",
       "    .dataframe tbody tr th:only-of-type {\n",
       "        vertical-align: middle;\n",
       "    }\n",
       "\n",
       "    .dataframe tbody tr th {\n",
       "        vertical-align: top;\n",
       "    }\n",
       "\n",
       "    .dataframe thead th {\n",
       "        text-align: right;\n",
       "    }\n",
       "</style>\n",
       "<table border=\"1\" class=\"dataframe\">\n",
       "  <thead>\n",
       "    <tr style=\"text-align: right;\">\n",
       "      <th></th>\n",
       "      <th>system_name</th>\n",
       "      <th>school_lvl</th>\n",
       "      <th>school_type</th>\n",
       "      <th>magnet</th>\n",
       "      <th>charter</th>\n",
       "      <th>title_1</th>\n",
       "      <th>locale</th>\n",
       "      <th>subject_area</th>\n",
       "      <th>student_group</th>\n",
       "      <th>pctm_18</th>\n",
       "      <th>pctm_19</th>\n",
       "      <th>pctm_21</th>\n",
       "      <th>pctm_22</th>\n",
       "      <th>fte_18</th>\n",
       "      <th>fte_19</th>\n",
       "      <th>fte_21</th>\n",
       "      <th>fte_22</th>\n",
       "      <th>str_18</th>\n",
       "      <th>str_19</th>\n",
       "      <th>str_21</th>\n",
       "      <th>str_22</th>\n",
       "      <th>pctm_lvpp</th>\n",
       "      <th>pctm_intra</th>\n",
       "      <th>pctm_pp</th>\n",
       "      <th>fte_lvpp</th>\n",
       "      <th>fte_intra</th>\n",
       "      <th>fte_pp</th>\n",
       "      <th>str_lvpp</th>\n",
       "      <th>str_intra</th>\n",
       "      <th>str_pp</th>\n",
       "      <th>geometry</th>\n",
       "    </tr>\n",
       "  </thead>\n",
       "  <tbody>\n",
       "    <tr>\n",
       "      <th>0</th>\n",
       "      <td>Alamo City School District</td>\n",
       "      <td>Elementary</td>\n",
       "      <td>1-Regular school</td>\n",
       "      <td>0</td>\n",
       "      <td>0</td>\n",
       "      <td>1</td>\n",
       "      <td>32-Town: Distant</td>\n",
       "      <td>ELA</td>\n",
       "      <td>All Students</td>\n",
       "      <td>0.455</td>\n",
       "      <td>0.465</td>\n",
       "      <td>0.458</td>\n",
       "      <td>0.57</td>\n",
       "      <td>40.0</td>\n",
       "      <td>41.0</td>\n",
       "      <td>41.0</td>\n",
       "      <td>37.0</td>\n",
       "      <td>15.28</td>\n",
       "      <td>15.66</td>\n",
       "      <td>14.49</td>\n",
       "      <td>16.38</td>\n",
       "      <td>-0.007</td>\n",
       "      <td>0.112</td>\n",
       "      <td>0.105</td>\n",
       "      <td>0.0</td>\n",
       "      <td>-4.0</td>\n",
       "      <td>37.0</td>\n",
       "      <td>-1.17</td>\n",
       "      <td>1.89</td>\n",
       "      <td>17.55</td>\n",
       "      <td>POLYGON ((-89.00656 35.83268, -89.00660 35.832...</td>\n",
       "    </tr>\n",
       "  </tbody>\n",
       "</table>\n",
       "</div>"
      ],
      "text/plain": [
       "                  system_name  school_lvl       school_type  magnet  charter  \\\n",
       "0  Alamo City School District  Elementary  1-Regular school       0        0   \n",
       "\n",
       "  title_1            locale subject_area student_group  pctm_18  pctm_19  \\\n",
       "0       1  32-Town: Distant          ELA  All Students    0.455    0.465   \n",
       "\n",
       "   pctm_21  pctm_22  fte_18  fte_19  fte_21  fte_22  str_18  str_19  str_21  \\\n",
       "0    0.458     0.57    40.0    41.0    41.0    37.0   15.28   15.66   14.49   \n",
       "\n",
       "   str_22  pctm_lvpp  pctm_intra  pctm_pp  fte_lvpp  fte_intra  fte_pp  \\\n",
       "0   16.38     -0.007       0.112    0.105       0.0       -4.0    37.0   \n",
       "\n",
       "   str_lvpp  str_intra  str_pp  \\\n",
       "0     -1.17       1.89   17.55   \n",
       "\n",
       "                                            geometry  \n",
       "0  POLYGON ((-89.00656 35.83268, -89.00660 35.832...  "
      ]
     },
     "execution_count": 28,
     "metadata": {},
     "output_type": "execute_result"
    }
   ],
   "source": [
    "weighted_average_metrics.head(n=1)"
   ]
  },
  {
   "cell_type": "markdown",
   "metadata": {},
   "source": [
    "There's some funk going on here.  District names don't match across datasets.  I'm going to do a spatial merge to see which dististricts are associated based on thier physical location."
   ]
  },
  {
   "cell_type": "markdown",
   "metadata": {},
   "source": [
    "#### 🥒 Exporting Weighted Average Metrics without Geospatial Info"
   ]
  },
  {
   "cell_type": "code",
   "execution_count": 29,
   "metadata": {},
   "outputs": [],
   "source": [
    "## CAUTION!: Don't turn on the pkl generator unless hungry.\n",
    "# weighted_average_metrics.to_pickle('../data/Weighted_average_metrics.pkl')  "
   ]
  },
  {
   "cell_type": "markdown",
   "metadata": {},
   "source": [
    "###  🗺️ Exporting Weighed Average Metrics GeoDataFrame as Shapefile"
   ]
  },
  {
   "cell_type": "code",
   "execution_count": 30,
   "metadata": {},
   "outputs": [],
   "source": [
    "# CAUTION!: Don't turn on the GeoJSON generator unless lost.\n",
    "# weighted_average_metrics.to_file('../data/weighted_average_metrics.geojson', driver='GeoJSON')"
   ]
  },
  {
   "cell_type": "code",
   "execution_count": 31,
   "metadata": {},
   "outputs": [],
   "source": [
    "# weighted_average_metrics.to_file('../data/weighted_average_metrics.shp', driver='ESRI Shapefile')"
   ]
  },
  {
   "cell_type": "markdown",
   "metadata": {},
   "source": [
    "### 📊 Visual EDA"
   ]
  },
  {
   "cell_type": "code",
   "execution_count": 32,
   "metadata": {},
   "outputs": [
    {
     "data": {
      "application/vnd.plotly.v1+json": {
       "config": {
        "plotlyServerURL": "https://plot.ly"
       },
       "data": [
        {
         "colorbar": {
          "title": {
           "text": "Percentage"
          }
         },
         "colorscale": [
          [
           0,
           "#440154"
          ],
          [
           0.1111111111111111,
           "#482878"
          ],
          [
           0.2222222222222222,
           "#3e4989"
          ],
          [
           0.3333333333333333,
           "#31688e"
          ],
          [
           0.4444444444444444,
           "#26828e"
          ],
          [
           0.5555555555555556,
           "#1f9e89"
          ],
          [
           0.6666666666666666,
           "#35b779"
          ],
          [
           0.7777777777777778,
           "#6ece58"
          ],
          [
           0.8888888888888888,
           "#b5de2b"
          ],
          [
           1,
           "#fde725"
          ]
         ],
         "type": "heatmap",
         "x": [
          "ELA",
          "Math",
          "Science",
          "Social Studies"
         ],
         "y": [
          "Lagged Calculation"
         ],
         "z": [
          [
           -0.04462382354932637,
           0.13842718556654843,
           0.0685477337257393,
           0.18554157690650575,
           0.05894975325257967,
           0.010789285714285723,
           0.011302841872655345,
           0.0710512743628186,
           -0.10138922155688623,
           0.0854572928946522,
           0.051470776501555404,
           0.1194037948137131,
           0.16164152111978192,
           0.09590222537207654,
           -0.09933881701936742,
           -0.02372946428571432,
           -0.03350838344416329,
           -0.026919347637287594,
           0.05897580289889859,
           -0.0014531600084548568,
           0.059655462184873886,
           -0.034374125874125916,
           0.0007489139487730778,
           0.32324521072796936,
           0.12110200238602076,
           0.11843416721527317,
           0.06860692959311204,
           -0.00167638784696178,
           -0.034794154652686704,
           0.011013047355329209,
           0.055629106933675454,
           0.02861513761467885,
           0.041583308450283685,
           0.03525964780093893,
           0.028566470250071974,
           0.046860184152313245,
           -0.01923096187999157,
           0.03678130287648046,
           0.005968516910119792,
           0.20968649988731125,
           0.04050376685715429,
           0.05093829026151542,
           0.025948930818470606,
           -0.021596265523094793,
           0.06308144896466061,
           0.09521455829583647,
           0.003869322216368487,
           -0.06419432365093858,
           0.0037061260376402283,
           0.05309223934042129,
           -0.09260201320919872,
           0.07848416505085554,
           -0.0630383219039935,
           -0.033670031663252026,
           -0.05878511696834973,
           -0.013679247224822028,
           0.013504563233376676,
           0.006437531234382829,
           -0.030456759098786812,
           0.037609604538374586,
           -0.012570475009740789,
           0.0773661048689138,
           -0.0271843971631206,
           -0.03384436862003781,
           0.19187878787878787,
           -0.04120498861174379,
           -0.0077550732658654975,
           0.040793643766129706,
           0.052507762669737,
           0.026999999999999802,
           0.005086354477471633,
           0.037525060573131264,
           0.10473328795342585,
           -0.01946783612365008,
           0.08393256120567683,
           0.03903690905522694,
           0.0509927797038372,
           0.01563141025641024,
           -0.024989968330678958,
           0.03584228048272997,
           -0.044068687176363086,
           0.10523860884877839,
           -0.02759045904590457,
           0.10838111787775406,
           0.1202427089907514,
           0.021791666666666654,
           0.06966532258064512,
           0.059074842373563474,
           0.019240871231343548,
           0.017884293723003403,
           0.16933468628323883,
           0.060511733313586114,
           -0.018646939223381176,
           0.11354889589905365,
           0.0598108762717427,
           0.0644500680646691,
           0.021790946798757455,
           0.031501883901258354,
           -0.007852780868986053,
           -0.03557012228989037,
           0.07704898428424717,
           0.08239545790326186,
           0.03231232207903517,
           0.09030826293267291,
           0.0068159765669434935,
           -0.04172551584928236,
           -0.019505440590004364,
           -0.05119292375375656,
           -0.03954575163398699,
           0.19533773509403762,
           0.08066323733960756,
           0.08656349437229216,
           0.10962702291734544,
           0.03673992154222938,
           0.09439318440256561,
           0.011405018152596647,
           0.05681920415224917
          ],
          [
           -0.09472149128659496,
           0.0024789140213584138,
           0.05598018053221834,
           -0.1838721292650919,
           0.03800642093063533,
           -0.06983522330936143,
           -0.046016878304136005,
           0.05121045124030196,
           -0.12035361047546403,
           -0.05112864223214833,
           -0.13439619318730095,
           -0.03146761220583588,
           0.017546549492648583,
           -0.017561086451067437,
           -0.059971572094930564,
           -0.09593686039490862,
           -0.10935549754760329,
           -0.08972187415262488,
           -0.03053999187072054,
           -0.010229448920713646,
           -0.039550306887929085,
           0.00812806485382947,
           -0.09151783854926154,
           -0.09336860902255636,
           0.08404283526371203,
           -0.05841870409160735,
           -0.11738174251782355,
           -0.06909371241115364,
           -0.059483608063060855,
           -0.06415355905091974,
           -0.04027835051546391,
           -0.01813241687979536,
           -0.12782485807138905,
           -0.06897281132658634,
           -0.016532372648323135,
           0.03547398413054764,
           -0.07523223646813618,
           -0.09903621790761497,
           0.18760210534628452,
           -0.19862743494206025,
           -0.07889845583760029,
           -0.041003865209883306,
           -0.09005939421938611,
           -0.07560258642261242,
           -0.05456643747554357,
           -0.009236755254472817,
           -0.04233273911843975,
           -0.07665250965250966,
           0.0585670905707196,
           0.05281264609458847,
           -0.0001269775384834526,
           -0.0644433962264151,
           -0.05700493342274163,
           0.02100127492009679,
           -0.23869117313365096,
           0.20343870967741937,
           -0.04053123446004969,
           -0.010339349327855074,
           -0.05923668390744807,
           0.0772946604728848,
           -0.0017857142857142794,
           0.0007555539313853221,
           -0.04222584233176692,
           -0.06319479669730488,
           -0.023911429578132803,
           -0.008411023385695715,
           0.017565685570710643,
           -0.04803910157096959,
           -0.03193014789783803,
           0.005592013591945166,
           0.08849570782228924,
           -0.059376399894454646,
           -0.012124411132018675,
           -0.0349291940861311,
           -0.0007297313291513563,
           -0.07335422182995,
           -0.08928479536297446,
           -0.10344268774703558,
           0.07967439999999995,
           -0.0283748427672956,
           0.12868144887286914,
           -0.11253944609952557,
           -0.11230334096109842,
           -0.10786056053612933,
           -0.09248053589484326,
           0.011769711287437201,
           -0.03147853673756684,
           0.5455922810489856,
           -0.07872727272727272,
           -0.06287115052968711,
           -0.00666409213415306,
           -0.07266238269817862,
           -0.019942734303549925,
           0.0334475706054955,
           -0.041440841910826504,
           0.04472645871966274,
           0.03973975876657715,
           -0.10599017886090992,
           0.11335295866785607,
           -0.09648827125460122,
           -0.05658670399215207,
           -0.12134738163842557,
           -0.05664586875256372,
           -0.07176605435519079,
           0.0959725270403147,
           -0.06674244833068366,
           -0.05151952275902211,
           -0.03228007438570818,
           -0.08302542069459368,
           -0.021252242968416546,
           -0.06097660870097554,
           -0.05471117812875678
          ],
          [
           -0.15681886792452832,
           0.0777932075471699,
           0.021153159899953478,
           -0.07651504176214058,
           -0.02191210374639785,
           -0.11328410810810807,
           0.033365591397849476,
           0.18113836477987416,
           -0.21822522522522503,
           -0.0755212765957447,
           -0.0926903502974224,
           0.10638709677419361,
           0.12232625258343421,
           -0.12749748743718597,
           -0.07199584457636271,
           -0.09687671232876727,
           -0.0017192982456140093,
           -0.04611093615929651,
           0.030337712702914743,
           -0.06911180124223604,
           0.13554189944134082,
           0.0358,
           0.29600000000000004,
           -0.2522219570405727,
           -0.037510204081632637,
           -0.1043213483146066,
           -0.16396601941747574,
           0.039532203389830545,
           -0.03417910447761191,
           0.015547945205479474,
           0.02779809976247033,
           -0.01904900572315449,
           0.010258641239571098,
           -0.09261624649859945,
           -0.14220948616600787,
           -0.046424895633189855,
           0.02501630434782609,
           -0.3144612794612795,
           0.12895698541329004,
           0.0547588516710702,
           0.024594963515228496,
           -0.05497200306722333,
           0.03616478555304731,
           -0.09947084195997247,
           -0.18615258982384236,
           -0.040894457875483625,
           -0.0011174066969229512,
           0.07971428571428574,
           -0.1571394557823129,
           -0.014238993710691816,
           -0.33612907404165937,
           -0.05431476997578691,
           -0.09369399697547509,
           0.003330049261083712,
           -0.16686806537796636,
           -0.29565934065934074,
           -0.07258428887271534,
           -0.10840254237288138,
           -0.0022795454545454646,
           -0.19250102249488754,
           0.07648321722609253,
           0.003286047560992378,
           -0.0526714133961127,
           0.016217105263157894,
           -0.030816295428728657,
           0.028445890273311875,
           -0.0656153846153846,
           0.03539336492890993,
           -0.04090263691683571,
           -0.05022030360006641,
           -0.1447052353066341,
           -0.4348372093023255,
           -0.01134138714598873,
           -0.005351050679851643,
           -0.05308202150682827,
           0.019289126250962296,
           0.19001933659755155,
           -0.04281962737950587,
           -0.18069017632241813,
           0.05294712368805632,
           0.12490322580645163,
           -0.2070222772277227,
           0.1950786516853933,
           0.12200822849687815,
           0.03503262642740612,
           0.031669064748201525,
           0.0435526315789474,
           -0.07820664629488161,
           -0.08753932058065395,
           -0.03930964660376263,
           0.04827630522088355,
           -0.043247712993400245,
           0.01745177664974623,
           -0.14154612546125467,
           -0.05256164634784838,
           -0.12826558265582658,
           -0.14704087437947624,
           -0.05932902771254106,
           0.10958982035928147,
           -0.08559254594719151,
           -0.039436702219247666,
           -0.042167202572347295,
           -0.07888817891373806,
           -0.0006141959741391423,
           0.044768439108061775,
           -0.061060975609756096,
           0.07689999999999997,
           -0.035779220779220855,
           -0.05557480314960639,
           0.0997142857142857,
           -0.04092731426611651,
           -0.02418006384913629,
           -0.08410126582278477,
           0.0201969144460028,
           0.03314805825242717,
           -0.09854524734524728,
           -0.14241921397379909
          ],
          [
           0.13600000000000007,
           0.06131385281385285,
           0.033403193612774384,
           0.08200000000000002,
           -0.006383492626115372,
           0.020000000000000018,
           0.16199999999999998,
           0.03591406250000001,
           0.18830278884462154,
           0.05476470588235299,
           0.07900000000000001,
           0.09811270190895743,
           -0.01119570405727921,
           0.0030000000000000027,
           0.1016158153157033,
           0.09442216020826699,
           0.06137319316688569,
           -0.027999999999999997,
           0.04899999999999996,
           0.10099999999999998,
           0.009000000000000008,
           -0.01599999999999996,
           0.22400000000000003,
           0.03299999999999999,
           0.013999999999999957,
           0.11199999999999999,
           0.04765411859208413,
           0.21999999999999997,
           0.14179972183588319,
           0.06614735677488498,
           0.2898796992481203,
           -0.03410769230769228,
           0.18299999999999983,
           0.15516759561653504,
           -0.03603103146853148,
           -0.02099999999999999,
           -0.005356542617046822,
           0.08299999999999995,
           0.2172,
           0.19499999999999995,
           -0.0069725656012933485,
           0.04153838721254452,
           -0.1160000000000001,
           0.08599999999999997,
           0.09969214876033056,
           0.035669769247475724,
           0.08494706445257527,
           -0.0050000000000000044,
           -0.08744198895027622,
           0.21367430025445294,
           0.08115865234421943,
           -0.014868937048503589,
           -0.00035769598345203324,
           0.09800000000000002,
           0.27819221425726803,
           -0.01154523015613007,
           0.03276363636363637,
           0.013999999999999999,
           0.21100000000000002,
           -0.136,
           0.2788759858862598,
           0.14600000000000002,
           0.006601336302895305,
           0.0007406730408699436,
           0.027244857436080516,
           0.21723844884488452,
           0.08359195048225576,
           0.06199999999999997,
           0.07159267973856212,
           0.054559580159722953,
           0.07373454936074311,
           0.04757355816226788,
           0.105487590303674,
           0.1064336633663367,
           0.08550625,
           0.16099999999999998,
           0.07400000000000001,
           0.07100000000000001,
           0.0019999999999999463,
           0.0861351346492647,
           0.17417440276061058,
           0.23900000000000002,
           0.08120772946859905,
           0.18599999999999994
          ]
         ]
        }
       ],
       "layout": {
        "height": 400,
        "template": {
         "data": {
          "bar": [
           {
            "error_x": {
             "color": "#2a3f5f"
            },
            "error_y": {
             "color": "#2a3f5f"
            },
            "marker": {
             "line": {
              "color": "#E5ECF6",
              "width": 0.5
             },
             "pattern": {
              "fillmode": "overlay",
              "size": 10,
              "solidity": 0.2
             }
            },
            "type": "bar"
           }
          ],
          "barpolar": [
           {
            "marker": {
             "line": {
              "color": "#E5ECF6",
              "width": 0.5
             },
             "pattern": {
              "fillmode": "overlay",
              "size": 10,
              "solidity": 0.2
             }
            },
            "type": "barpolar"
           }
          ],
          "carpet": [
           {
            "aaxis": {
             "endlinecolor": "#2a3f5f",
             "gridcolor": "white",
             "linecolor": "white",
             "minorgridcolor": "white",
             "startlinecolor": "#2a3f5f"
            },
            "baxis": {
             "endlinecolor": "#2a3f5f",
             "gridcolor": "white",
             "linecolor": "white",
             "minorgridcolor": "white",
             "startlinecolor": "#2a3f5f"
            },
            "type": "carpet"
           }
          ],
          "choropleth": [
           {
            "colorbar": {
             "outlinewidth": 0,
             "ticks": ""
            },
            "type": "choropleth"
           }
          ],
          "contour": [
           {
            "colorbar": {
             "outlinewidth": 0,
             "ticks": ""
            },
            "colorscale": [
             [
              0,
              "#0d0887"
             ],
             [
              0.1111111111111111,
              "#46039f"
             ],
             [
              0.2222222222222222,
              "#7201a8"
             ],
             [
              0.3333333333333333,
              "#9c179e"
             ],
             [
              0.4444444444444444,
              "#bd3786"
             ],
             [
              0.5555555555555556,
              "#d8576b"
             ],
             [
              0.6666666666666666,
              "#ed7953"
             ],
             [
              0.7777777777777778,
              "#fb9f3a"
             ],
             [
              0.8888888888888888,
              "#fdca26"
             ],
             [
              1,
              "#f0f921"
             ]
            ],
            "type": "contour"
           }
          ],
          "contourcarpet": [
           {
            "colorbar": {
             "outlinewidth": 0,
             "ticks": ""
            },
            "type": "contourcarpet"
           }
          ],
          "heatmap": [
           {
            "colorbar": {
             "outlinewidth": 0,
             "ticks": ""
            },
            "colorscale": [
             [
              0,
              "#0d0887"
             ],
             [
              0.1111111111111111,
              "#46039f"
             ],
             [
              0.2222222222222222,
              "#7201a8"
             ],
             [
              0.3333333333333333,
              "#9c179e"
             ],
             [
              0.4444444444444444,
              "#bd3786"
             ],
             [
              0.5555555555555556,
              "#d8576b"
             ],
             [
              0.6666666666666666,
              "#ed7953"
             ],
             [
              0.7777777777777778,
              "#fb9f3a"
             ],
             [
              0.8888888888888888,
              "#fdca26"
             ],
             [
              1,
              "#f0f921"
             ]
            ],
            "type": "heatmap"
           }
          ],
          "heatmapgl": [
           {
            "colorbar": {
             "outlinewidth": 0,
             "ticks": ""
            },
            "colorscale": [
             [
              0,
              "#0d0887"
             ],
             [
              0.1111111111111111,
              "#46039f"
             ],
             [
              0.2222222222222222,
              "#7201a8"
             ],
             [
              0.3333333333333333,
              "#9c179e"
             ],
             [
              0.4444444444444444,
              "#bd3786"
             ],
             [
              0.5555555555555556,
              "#d8576b"
             ],
             [
              0.6666666666666666,
              "#ed7953"
             ],
             [
              0.7777777777777778,
              "#fb9f3a"
             ],
             [
              0.8888888888888888,
              "#fdca26"
             ],
             [
              1,
              "#f0f921"
             ]
            ],
            "type": "heatmapgl"
           }
          ],
          "histogram": [
           {
            "marker": {
             "pattern": {
              "fillmode": "overlay",
              "size": 10,
              "solidity": 0.2
             }
            },
            "type": "histogram"
           }
          ],
          "histogram2d": [
           {
            "colorbar": {
             "outlinewidth": 0,
             "ticks": ""
            },
            "colorscale": [
             [
              0,
              "#0d0887"
             ],
             [
              0.1111111111111111,
              "#46039f"
             ],
             [
              0.2222222222222222,
              "#7201a8"
             ],
             [
              0.3333333333333333,
              "#9c179e"
             ],
             [
              0.4444444444444444,
              "#bd3786"
             ],
             [
              0.5555555555555556,
              "#d8576b"
             ],
             [
              0.6666666666666666,
              "#ed7953"
             ],
             [
              0.7777777777777778,
              "#fb9f3a"
             ],
             [
              0.8888888888888888,
              "#fdca26"
             ],
             [
              1,
              "#f0f921"
             ]
            ],
            "type": "histogram2d"
           }
          ],
          "histogram2dcontour": [
           {
            "colorbar": {
             "outlinewidth": 0,
             "ticks": ""
            },
            "colorscale": [
             [
              0,
              "#0d0887"
             ],
             [
              0.1111111111111111,
              "#46039f"
             ],
             [
              0.2222222222222222,
              "#7201a8"
             ],
             [
              0.3333333333333333,
              "#9c179e"
             ],
             [
              0.4444444444444444,
              "#bd3786"
             ],
             [
              0.5555555555555556,
              "#d8576b"
             ],
             [
              0.6666666666666666,
              "#ed7953"
             ],
             [
              0.7777777777777778,
              "#fb9f3a"
             ],
             [
              0.8888888888888888,
              "#fdca26"
             ],
             [
              1,
              "#f0f921"
             ]
            ],
            "type": "histogram2dcontour"
           }
          ],
          "mesh3d": [
           {
            "colorbar": {
             "outlinewidth": 0,
             "ticks": ""
            },
            "type": "mesh3d"
           }
          ],
          "parcoords": [
           {
            "line": {
             "colorbar": {
              "outlinewidth": 0,
              "ticks": ""
             }
            },
            "type": "parcoords"
           }
          ],
          "pie": [
           {
            "automargin": true,
            "type": "pie"
           }
          ],
          "scatter": [
           {
            "fillpattern": {
             "fillmode": "overlay",
             "size": 10,
             "solidity": 0.2
            },
            "type": "scatter"
           }
          ],
          "scatter3d": [
           {
            "line": {
             "colorbar": {
              "outlinewidth": 0,
              "ticks": ""
             }
            },
            "marker": {
             "colorbar": {
              "outlinewidth": 0,
              "ticks": ""
             }
            },
            "type": "scatter3d"
           }
          ],
          "scattercarpet": [
           {
            "marker": {
             "colorbar": {
              "outlinewidth": 0,
              "ticks": ""
             }
            },
            "type": "scattercarpet"
           }
          ],
          "scattergeo": [
           {
            "marker": {
             "colorbar": {
              "outlinewidth": 0,
              "ticks": ""
             }
            },
            "type": "scattergeo"
           }
          ],
          "scattergl": [
           {
            "marker": {
             "colorbar": {
              "outlinewidth": 0,
              "ticks": ""
             }
            },
            "type": "scattergl"
           }
          ],
          "scattermapbox": [
           {
            "marker": {
             "colorbar": {
              "outlinewidth": 0,
              "ticks": ""
             }
            },
            "type": "scattermapbox"
           }
          ],
          "scatterpolar": [
           {
            "marker": {
             "colorbar": {
              "outlinewidth": 0,
              "ticks": ""
             }
            },
            "type": "scatterpolar"
           }
          ],
          "scatterpolargl": [
           {
            "marker": {
             "colorbar": {
              "outlinewidth": 0,
              "ticks": ""
             }
            },
            "type": "scatterpolargl"
           }
          ],
          "scatterternary": [
           {
            "marker": {
             "colorbar": {
              "outlinewidth": 0,
              "ticks": ""
             }
            },
            "type": "scatterternary"
           }
          ],
          "surface": [
           {
            "colorbar": {
             "outlinewidth": 0,
             "ticks": ""
            },
            "colorscale": [
             [
              0,
              "#0d0887"
             ],
             [
              0.1111111111111111,
              "#46039f"
             ],
             [
              0.2222222222222222,
              "#7201a8"
             ],
             [
              0.3333333333333333,
              "#9c179e"
             ],
             [
              0.4444444444444444,
              "#bd3786"
             ],
             [
              0.5555555555555556,
              "#d8576b"
             ],
             [
              0.6666666666666666,
              "#ed7953"
             ],
             [
              0.7777777777777778,
              "#fb9f3a"
             ],
             [
              0.8888888888888888,
              "#fdca26"
             ],
             [
              1,
              "#f0f921"
             ]
            ],
            "type": "surface"
           }
          ],
          "table": [
           {
            "cells": {
             "fill": {
              "color": "#EBF0F8"
             },
             "line": {
              "color": "white"
             }
            },
            "header": {
             "fill": {
              "color": "#C8D4E3"
             },
             "line": {
              "color": "white"
             }
            },
            "type": "table"
           }
          ]
         },
         "layout": {
          "annotationdefaults": {
           "arrowcolor": "#2a3f5f",
           "arrowhead": 0,
           "arrowwidth": 1
          },
          "autotypenumbers": "strict",
          "coloraxis": {
           "colorbar": {
            "outlinewidth": 0,
            "ticks": ""
           }
          },
          "colorscale": {
           "diverging": [
            [
             0,
             "#8e0152"
            ],
            [
             0.1,
             "#c51b7d"
            ],
            [
             0.2,
             "#de77ae"
            ],
            [
             0.3,
             "#f1b6da"
            ],
            [
             0.4,
             "#fde0ef"
            ],
            [
             0.5,
             "#f7f7f7"
            ],
            [
             0.6,
             "#e6f5d0"
            ],
            [
             0.7,
             "#b8e186"
            ],
            [
             0.8,
             "#7fbc41"
            ],
            [
             0.9,
             "#4d9221"
            ],
            [
             1,
             "#276419"
            ]
           ],
           "sequential": [
            [
             0,
             "#0d0887"
            ],
            [
             0.1111111111111111,
             "#46039f"
            ],
            [
             0.2222222222222222,
             "#7201a8"
            ],
            [
             0.3333333333333333,
             "#9c179e"
            ],
            [
             0.4444444444444444,
             "#bd3786"
            ],
            [
             0.5555555555555556,
             "#d8576b"
            ],
            [
             0.6666666666666666,
             "#ed7953"
            ],
            [
             0.7777777777777778,
             "#fb9f3a"
            ],
            [
             0.8888888888888888,
             "#fdca26"
            ],
            [
             1,
             "#f0f921"
            ]
           ],
           "sequentialminus": [
            [
             0,
             "#0d0887"
            ],
            [
             0.1111111111111111,
             "#46039f"
            ],
            [
             0.2222222222222222,
             "#7201a8"
            ],
            [
             0.3333333333333333,
             "#9c179e"
            ],
            [
             0.4444444444444444,
             "#bd3786"
            ],
            [
             0.5555555555555556,
             "#d8576b"
            ],
            [
             0.6666666666666666,
             "#ed7953"
            ],
            [
             0.7777777777777778,
             "#fb9f3a"
            ],
            [
             0.8888888888888888,
             "#fdca26"
            ],
            [
             1,
             "#f0f921"
            ]
           ]
          },
          "colorway": [
           "#636efa",
           "#EF553B",
           "#00cc96",
           "#ab63fa",
           "#FFA15A",
           "#19d3f3",
           "#FF6692",
           "#B6E880",
           "#FF97FF",
           "#FECB52"
          ],
          "font": {
           "color": "#2a3f5f"
          },
          "geo": {
           "bgcolor": "white",
           "lakecolor": "white",
           "landcolor": "#E5ECF6",
           "showlakes": true,
           "showland": true,
           "subunitcolor": "white"
          },
          "hoverlabel": {
           "align": "left"
          },
          "hovermode": "closest",
          "mapbox": {
           "style": "light"
          },
          "paper_bgcolor": "white",
          "plot_bgcolor": "#E5ECF6",
          "polar": {
           "angularaxis": {
            "gridcolor": "white",
            "linecolor": "white",
            "ticks": ""
           },
           "bgcolor": "#E5ECF6",
           "radialaxis": {
            "gridcolor": "white",
            "linecolor": "white",
            "ticks": ""
           }
          },
          "scene": {
           "xaxis": {
            "backgroundcolor": "#E5ECF6",
            "gridcolor": "white",
            "gridwidth": 2,
            "linecolor": "white",
            "showbackground": true,
            "ticks": "",
            "zerolinecolor": "white"
           },
           "yaxis": {
            "backgroundcolor": "#E5ECF6",
            "gridcolor": "white",
            "gridwidth": 2,
            "linecolor": "white",
            "showbackground": true,
            "ticks": "",
            "zerolinecolor": "white"
           },
           "zaxis": {
            "backgroundcolor": "#E5ECF6",
            "gridcolor": "white",
            "gridwidth": 2,
            "linecolor": "white",
            "showbackground": true,
            "ticks": "",
            "zerolinecolor": "white"
           }
          },
          "shapedefaults": {
           "line": {
            "color": "#2a3f5f"
           }
          },
          "ternary": {
           "aaxis": {
            "gridcolor": "white",
            "linecolor": "white",
            "ticks": ""
           },
           "baxis": {
            "gridcolor": "white",
            "linecolor": "white",
            "ticks": ""
           },
           "bgcolor": "#E5ECF6",
           "caxis": {
            "gridcolor": "white",
            "linecolor": "white",
            "ticks": ""
           }
          },
          "title": {
           "x": 0.05
          },
          "xaxis": {
           "automargin": true,
           "gridcolor": "white",
           "linecolor": "white",
           "ticks": "",
           "title": {
            "standoff": 15
           },
           "zerolinecolor": "white",
           "zerolinewidth": 2
          },
          "yaxis": {
           "automargin": true,
           "gridcolor": "white",
           "linecolor": "white",
           "ticks": "",
           "title": {
            "standoff": 15
           },
           "zerolinecolor": "white",
           "zerolinewidth": 2
          }
         }
        },
        "title": {
         "text": "Lagged Calculation by Content Area for High School Level"
        },
        "width": 800,
        "xaxis": {
         "title": {
          "text": "Content Area"
         }
        },
        "yaxis": {
         "title": {
          "text": ""
         }
        }
       }
      }
     },
     "metadata": {},
     "output_type": "display_data"
    }
   ],
   "source": [
    "# Specify the school level you want to focus on\n",
    "selected_school_level = 'High'\n",
    "\n",
    "# Filter the data for \"All Students\" student group and the selected school level\n",
    "data = weighted_average_metrics[(weighted_average_metrics['student_group'] == 'All Students') & (weighted_average_metrics['school_lvl'] == selected_school_level)]\n",
    "\n",
    "# Get the unique content areas for the selected school level\n",
    "content_areas = data['subject_area'].unique()\n",
    "\n",
    "# Create a 2D array to store the heatmap values\n",
    "z_data = []\n",
    "\n",
    "# Iterate over content areas\n",
    "for content_area in content_areas:\n",
    "    # Filter the data for the current content area\n",
    "    content_area_data = data[data['subject_area'] == content_area]\n",
    "    \n",
    "    # Get the lagged calculation values for the current content area\n",
    "    lagged_values = content_area_data['pctm_pp'].values\n",
    "    \n",
    "    # Append the lagged calculation values to the z_data list, ignoring NaN values\n",
    "    z_data.append([value for value in lagged_values if not np.isnan(value)])\n",
    "\n",
    "# Create the heatmap trace\n",
    "heatmap = go.Heatmap(\n",
    "    x=content_areas,\n",
    "    y=['Lagged Calculation'],\n",
    "    z=z_data,\n",
    "    colorscale='viridis',\n",
    "    colorbar=dict(title='Percentage')\n",
    ")\n",
    "\n",
    "# Create the figure and add the heatmap\n",
    "fig = go.Figure(data=heatmap)\n",
    "\n",
    "# Customize the layout\n",
    "fig.update_layout(\n",
    "    title=f'Lagged Calculation by Content Area for {selected_school_level} School Level',\n",
    "    xaxis=dict(title='Content Area'),\n",
    "    yaxis=dict(title=''),\n",
    "    height=400,\n",
    "    width=800\n",
    ")\n",
    "\n",
    "# Show the heatmap\n",
    "fig.show()"
   ]
  },
  {
   "cell_type": "code",
   "execution_count": 33,
   "metadata": {},
   "outputs": [
    {
     "data": {
      "text/html": [
       "<div>\n",
       "<style scoped>\n",
       "    .dataframe tbody tr th:only-of-type {\n",
       "        vertical-align: middle;\n",
       "    }\n",
       "\n",
       "    .dataframe tbody tr th {\n",
       "        vertical-align: top;\n",
       "    }\n",
       "\n",
       "    .dataframe thead th {\n",
       "        text-align: right;\n",
       "    }\n",
       "</style>\n",
       "<table border=\"1\" class=\"dataframe\">\n",
       "  <thead>\n",
       "    <tr style=\"text-align: right;\">\n",
       "      <th></th>\n",
       "      <th>system_name</th>\n",
       "      <th>school_lvl</th>\n",
       "      <th>school_type</th>\n",
       "      <th>magnet</th>\n",
       "      <th>charter</th>\n",
       "      <th>title_1</th>\n",
       "      <th>locale</th>\n",
       "      <th>subject_area</th>\n",
       "      <th>student_group</th>\n",
       "      <th>pctm_18</th>\n",
       "      <th>pctm_19</th>\n",
       "      <th>pctm_21</th>\n",
       "      <th>pctm_22</th>\n",
       "      <th>fte_18</th>\n",
       "      <th>fte_19</th>\n",
       "      <th>fte_21</th>\n",
       "      <th>fte_22</th>\n",
       "      <th>str_18</th>\n",
       "      <th>str_19</th>\n",
       "      <th>str_21</th>\n",
       "      <th>str_22</th>\n",
       "      <th>pctm_lvpp</th>\n",
       "      <th>pctm_intra</th>\n",
       "      <th>pctm_pp</th>\n",
       "      <th>fte_lvpp</th>\n",
       "      <th>fte_intra</th>\n",
       "      <th>fte_pp</th>\n",
       "      <th>str_lvpp</th>\n",
       "      <th>str_intra</th>\n",
       "      <th>str_pp</th>\n",
       "      <th>geometry</th>\n",
       "    </tr>\n",
       "  </thead>\n",
       "  <tbody>\n",
       "    <tr>\n",
       "      <th>0</th>\n",
       "      <td>Alamo City School District</td>\n",
       "      <td>Elementary</td>\n",
       "      <td>1-Regular school</td>\n",
       "      <td>0</td>\n",
       "      <td>0</td>\n",
       "      <td>1</td>\n",
       "      <td>32-Town: Distant</td>\n",
       "      <td>ELA</td>\n",
       "      <td>All Students</td>\n",
       "      <td>0.455</td>\n",
       "      <td>0.465</td>\n",
       "      <td>0.458</td>\n",
       "      <td>0.570</td>\n",
       "      <td>40.0</td>\n",
       "      <td>41.0</td>\n",
       "      <td>41.0</td>\n",
       "      <td>37.0</td>\n",
       "      <td>15.28</td>\n",
       "      <td>15.66</td>\n",
       "      <td>14.49</td>\n",
       "      <td>16.38</td>\n",
       "      <td>-0.007</td>\n",
       "      <td>0.112</td>\n",
       "      <td>0.105</td>\n",
       "      <td>0.0</td>\n",
       "      <td>-4.0</td>\n",
       "      <td>37.0</td>\n",
       "      <td>-1.17</td>\n",
       "      <td>1.89</td>\n",
       "      <td>17.55</td>\n",
       "      <td>POLYGON ((-89.00656 35.83268, -89.00660 35.832...</td>\n",
       "    </tr>\n",
       "    <tr>\n",
       "      <th>1</th>\n",
       "      <td>Alamo City School District</td>\n",
       "      <td>Elementary</td>\n",
       "      <td>1-Regular school</td>\n",
       "      <td>0</td>\n",
       "      <td>0</td>\n",
       "      <td>1</td>\n",
       "      <td>32-Town: Distant</td>\n",
       "      <td>ELA</td>\n",
       "      <td>Black or African American</td>\n",
       "      <td>0.314</td>\n",
       "      <td>0.283</td>\n",
       "      <td>0.200</td>\n",
       "      <td>0.400</td>\n",
       "      <td>40.0</td>\n",
       "      <td>41.0</td>\n",
       "      <td>41.0</td>\n",
       "      <td>37.0</td>\n",
       "      <td>15.28</td>\n",
       "      <td>15.66</td>\n",
       "      <td>14.49</td>\n",
       "      <td>16.38</td>\n",
       "      <td>-0.083</td>\n",
       "      <td>0.200</td>\n",
       "      <td>0.117</td>\n",
       "      <td>0.0</td>\n",
       "      <td>-4.0</td>\n",
       "      <td>37.0</td>\n",
       "      <td>-1.17</td>\n",
       "      <td>1.89</td>\n",
       "      <td>17.55</td>\n",
       "      <td>POLYGON ((-89.00656 35.83268, -89.00660 35.832...</td>\n",
       "    </tr>\n",
       "    <tr>\n",
       "      <th>2</th>\n",
       "      <td>Alamo City School District</td>\n",
       "      <td>Elementary</td>\n",
       "      <td>1-Regular school</td>\n",
       "      <td>0</td>\n",
       "      <td>0</td>\n",
       "      <td>1</td>\n",
       "      <td>32-Town: Distant</td>\n",
       "      <td>ELA</td>\n",
       "      <td>Black/Hispanic/Native American</td>\n",
       "      <td>0.312</td>\n",
       "      <td>0.274</td>\n",
       "      <td>0.215</td>\n",
       "      <td>0.426</td>\n",
       "      <td>40.0</td>\n",
       "      <td>41.0</td>\n",
       "      <td>41.0</td>\n",
       "      <td>37.0</td>\n",
       "      <td>15.28</td>\n",
       "      <td>15.66</td>\n",
       "      <td>14.49</td>\n",
       "      <td>16.38</td>\n",
       "      <td>-0.059</td>\n",
       "      <td>0.211</td>\n",
       "      <td>0.152</td>\n",
       "      <td>0.0</td>\n",
       "      <td>-4.0</td>\n",
       "      <td>37.0</td>\n",
       "      <td>-1.17</td>\n",
       "      <td>1.89</td>\n",
       "      <td>17.55</td>\n",
       "      <td>POLYGON ((-89.00656 35.83268, -89.00660 35.832...</td>\n",
       "    </tr>\n",
       "    <tr>\n",
       "      <th>3</th>\n",
       "      <td>Alamo City School District</td>\n",
       "      <td>Elementary</td>\n",
       "      <td>1-Regular school</td>\n",
       "      <td>0</td>\n",
       "      <td>0</td>\n",
       "      <td>1</td>\n",
       "      <td>32-Town: Distant</td>\n",
       "      <td>ELA</td>\n",
       "      <td>Economically Disadvantaged</td>\n",
       "      <td>0.352</td>\n",
       "      <td>0.310</td>\n",
       "      <td>0.307</td>\n",
       "      <td>0.392</td>\n",
       "      <td>40.0</td>\n",
       "      <td>41.0</td>\n",
       "      <td>41.0</td>\n",
       "      <td>37.0</td>\n",
       "      <td>15.28</td>\n",
       "      <td>15.66</td>\n",
       "      <td>14.49</td>\n",
       "      <td>16.38</td>\n",
       "      <td>-0.003</td>\n",
       "      <td>0.085</td>\n",
       "      <td>0.082</td>\n",
       "      <td>0.0</td>\n",
       "      <td>-4.0</td>\n",
       "      <td>37.0</td>\n",
       "      <td>-1.17</td>\n",
       "      <td>1.89</td>\n",
       "      <td>17.55</td>\n",
       "      <td>POLYGON ((-89.00656 35.83268, -89.00660 35.832...</td>\n",
       "    </tr>\n",
       "    <tr>\n",
       "      <th>4</th>\n",
       "      <td>Alamo City School District</td>\n",
       "      <td>Elementary</td>\n",
       "      <td>1-Regular school</td>\n",
       "      <td>0</td>\n",
       "      <td>0</td>\n",
       "      <td>1</td>\n",
       "      <td>32-Town: Distant</td>\n",
       "      <td>ELA</td>\n",
       "      <td>English Learner Transitional 1-4</td>\n",
       "      <td>0.355</td>\n",
       "      <td>0.333</td>\n",
       "      <td>0.111</td>\n",
       "      <td>0.357</td>\n",
       "      <td>40.0</td>\n",
       "      <td>41.0</td>\n",
       "      <td>41.0</td>\n",
       "      <td>37.0</td>\n",
       "      <td>15.28</td>\n",
       "      <td>15.66</td>\n",
       "      <td>14.49</td>\n",
       "      <td>16.38</td>\n",
       "      <td>-0.222</td>\n",
       "      <td>0.246</td>\n",
       "      <td>0.024</td>\n",
       "      <td>0.0</td>\n",
       "      <td>-4.0</td>\n",
       "      <td>37.0</td>\n",
       "      <td>-1.17</td>\n",
       "      <td>1.89</td>\n",
       "      <td>17.55</td>\n",
       "      <td>POLYGON ((-89.00656 35.83268, -89.00660 35.832...</td>\n",
       "    </tr>\n",
       "  </tbody>\n",
       "</table>\n",
       "</div>"
      ],
      "text/plain": [
       "                  system_name  school_lvl       school_type  magnet  charter  \\\n",
       "0  Alamo City School District  Elementary  1-Regular school       0        0   \n",
       "1  Alamo City School District  Elementary  1-Regular school       0        0   \n",
       "2  Alamo City School District  Elementary  1-Regular school       0        0   \n",
       "3  Alamo City School District  Elementary  1-Regular school       0        0   \n",
       "4  Alamo City School District  Elementary  1-Regular school       0        0   \n",
       "\n",
       "  title_1            locale subject_area                     student_group  \\\n",
       "0       1  32-Town: Distant          ELA                      All Students   \n",
       "1       1  32-Town: Distant          ELA         Black or African American   \n",
       "2       1  32-Town: Distant          ELA    Black/Hispanic/Native American   \n",
       "3       1  32-Town: Distant          ELA        Economically Disadvantaged   \n",
       "4       1  32-Town: Distant          ELA  English Learner Transitional 1-4   \n",
       "\n",
       "   pctm_18  pctm_19  pctm_21  pctm_22  fte_18  fte_19  fte_21  fte_22  str_18  \\\n",
       "0    0.455    0.465    0.458    0.570    40.0    41.0    41.0    37.0   15.28   \n",
       "1    0.314    0.283    0.200    0.400    40.0    41.0    41.0    37.0   15.28   \n",
       "2    0.312    0.274    0.215    0.426    40.0    41.0    41.0    37.0   15.28   \n",
       "3    0.352    0.310    0.307    0.392    40.0    41.0    41.0    37.0   15.28   \n",
       "4    0.355    0.333    0.111    0.357    40.0    41.0    41.0    37.0   15.28   \n",
       "\n",
       "   str_19  str_21  str_22  pctm_lvpp  pctm_intra  pctm_pp  fte_lvpp  \\\n",
       "0   15.66   14.49   16.38     -0.007       0.112    0.105       0.0   \n",
       "1   15.66   14.49   16.38     -0.083       0.200    0.117       0.0   \n",
       "2   15.66   14.49   16.38     -0.059       0.211    0.152       0.0   \n",
       "3   15.66   14.49   16.38     -0.003       0.085    0.082       0.0   \n",
       "4   15.66   14.49   16.38     -0.222       0.246    0.024       0.0   \n",
       "\n",
       "   fte_intra  fte_pp  str_lvpp  str_intra  str_pp  \\\n",
       "0       -4.0    37.0     -1.17       1.89   17.55   \n",
       "1       -4.0    37.0     -1.17       1.89   17.55   \n",
       "2       -4.0    37.0     -1.17       1.89   17.55   \n",
       "3       -4.0    37.0     -1.17       1.89   17.55   \n",
       "4       -4.0    37.0     -1.17       1.89   17.55   \n",
       "\n",
       "                                            geometry  \n",
       "0  POLYGON ((-89.00656 35.83268, -89.00660 35.832...  \n",
       "1  POLYGON ((-89.00656 35.83268, -89.00660 35.832...  \n",
       "2  POLYGON ((-89.00656 35.83268, -89.00660 35.832...  \n",
       "3  POLYGON ((-89.00656 35.83268, -89.00660 35.832...  \n",
       "4  POLYGON ((-89.00656 35.83268, -89.00660 35.832...  "
      ]
     },
     "execution_count": 33,
     "metadata": {},
     "output_type": "execute_result"
    }
   ],
   "source": [
    "weighted_average_metrics.head()"
   ]
  },
  {
   "cell_type": "code",
   "execution_count": 34,
   "metadata": {},
   "outputs": [
    {
     "data": {
      "text/plain": [
       "[array(['ELA', 'Math', 'Science', 'Social Studies'], dtype=object)]"
      ]
     },
     "execution_count": 34,
     "metadata": {},
     "output_type": "execute_result"
    }
   ],
   "source": [
    "subject_area = [weighted_average_metrics['subject_area'].unique()]\n",
    "subject_area"
   ]
  },
  {
   "cell_type": "code",
   "execution_count": 35,
   "metadata": {},
   "outputs": [
    {
     "data": {
      "text/html": [
       "<div>\n",
       "<style scoped>\n",
       "    .dataframe tbody tr th:only-of-type {\n",
       "        vertical-align: middle;\n",
       "    }\n",
       "\n",
       "    .dataframe tbody tr th {\n",
       "        vertical-align: top;\n",
       "    }\n",
       "\n",
       "    .dataframe thead th {\n",
       "        text-align: right;\n",
       "    }\n",
       "</style>\n",
       "<table border=\"1\" class=\"dataframe\">\n",
       "  <thead>\n",
       "    <tr style=\"text-align: right;\">\n",
       "      <th></th>\n",
       "      <th>school_lvl</th>\n",
       "      <th>subject_area</th>\n",
       "      <th>pctm_lvpp</th>\n",
       "      <th>pctm_intra</th>\n",
       "      <th>pctm_pp</th>\n",
       "    </tr>\n",
       "  </thead>\n",
       "  <tbody>\n",
       "    <tr>\n",
       "      <th>0</th>\n",
       "      <td>Elementary</td>\n",
       "      <td>ELA</td>\n",
       "      <td>-0.029080</td>\n",
       "      <td>0.051333</td>\n",
       "      <td>0.024081</td>\n",
       "    </tr>\n",
       "    <tr>\n",
       "      <th>1</th>\n",
       "      <td>Elementary</td>\n",
       "      <td>Math</td>\n",
       "      <td>-0.101760</td>\n",
       "      <td>0.042325</td>\n",
       "      <td>-0.057312</td>\n",
       "    </tr>\n",
       "    <tr>\n",
       "      <th>2</th>\n",
       "      <td>Elementary</td>\n",
       "      <td>Science</td>\n",
       "      <td>-0.165299</td>\n",
       "      <td>0.017747</td>\n",
       "      <td>-0.151673</td>\n",
       "    </tr>\n",
       "    <tr>\n",
       "      <th>3</th>\n",
       "      <td>Elementary</td>\n",
       "      <td>Social Studies</td>\n",
       "      <td>-0.011900</td>\n",
       "      <td>0.047390</td>\n",
       "      <td>0.030750</td>\n",
       "    </tr>\n",
       "    <tr>\n",
       "      <th>4</th>\n",
       "      <td>High</td>\n",
       "      <td>ELA</td>\n",
       "      <td>-0.033504</td>\n",
       "      <td>0.067112</td>\n",
       "      <td>0.036013</td>\n",
       "    </tr>\n",
       "    <tr>\n",
       "      <th>5</th>\n",
       "      <td>High</td>\n",
       "      <td>Math</td>\n",
       "      <td>-0.073359</td>\n",
       "      <td>0.036445</td>\n",
       "      <td>-0.027713</td>\n",
       "    </tr>\n",
       "    <tr>\n",
       "      <th>6</th>\n",
       "      <td>High</td>\n",
       "      <td>Science</td>\n",
       "      <td>-0.044428</td>\n",
       "      <td>0.007526</td>\n",
       "      <td>-0.035538</td>\n",
       "    </tr>\n",
       "    <tr>\n",
       "      <th>7</th>\n",
       "      <td>High</td>\n",
       "      <td>Social Studies</td>\n",
       "      <td>0.020849</td>\n",
       "      <td>0.051413</td>\n",
       "      <td>0.076565</td>\n",
       "    </tr>\n",
       "    <tr>\n",
       "      <th>8</th>\n",
       "      <td>Middle</td>\n",
       "      <td>ELA</td>\n",
       "      <td>-0.063013</td>\n",
       "      <td>0.069574</td>\n",
       "      <td>0.009494</td>\n",
       "    </tr>\n",
       "    <tr>\n",
       "      <th>9</th>\n",
       "      <td>Middle</td>\n",
       "      <td>Math</td>\n",
       "      <td>-0.106330</td>\n",
       "      <td>0.055484</td>\n",
       "      <td>-0.049829</td>\n",
       "    </tr>\n",
       "    <tr>\n",
       "      <th>10</th>\n",
       "      <td>Middle</td>\n",
       "      <td>Science</td>\n",
       "      <td>-0.224536</td>\n",
       "      <td>0.011099</td>\n",
       "      <td>-0.213962</td>\n",
       "    </tr>\n",
       "    <tr>\n",
       "      <th>11</th>\n",
       "      <td>Middle</td>\n",
       "      <td>Social Studies</td>\n",
       "      <td>-0.034536</td>\n",
       "      <td>0.065044</td>\n",
       "      <td>0.037355</td>\n",
       "    </tr>\n",
       "    <tr>\n",
       "      <th>12</th>\n",
       "      <td>Other</td>\n",
       "      <td>ELA</td>\n",
       "      <td>-0.038263</td>\n",
       "      <td>0.046477</td>\n",
       "      <td>-0.000526</td>\n",
       "    </tr>\n",
       "    <tr>\n",
       "      <th>13</th>\n",
       "      <td>Other</td>\n",
       "      <td>Math</td>\n",
       "      <td>-0.068963</td>\n",
       "      <td>0.030686</td>\n",
       "      <td>-0.062824</td>\n",
       "    </tr>\n",
       "    <tr>\n",
       "      <th>14</th>\n",
       "      <td>Other</td>\n",
       "      <td>Science</td>\n",
       "      <td>-0.091616</td>\n",
       "      <td>-0.007521</td>\n",
       "      <td>-0.091622</td>\n",
       "    </tr>\n",
       "    <tr>\n",
       "      <th>15</th>\n",
       "      <td>Other</td>\n",
       "      <td>Social Studies</td>\n",
       "      <td>0.037244</td>\n",
       "      <td>0.013296</td>\n",
       "      <td>0.021198</td>\n",
       "    </tr>\n",
       "    <tr>\n",
       "      <th>16</th>\n",
       "      <td>Secondary</td>\n",
       "      <td>ELA</td>\n",
       "      <td>0.035271</td>\n",
       "      <td>0.022712</td>\n",
       "      <td>-0.002111</td>\n",
       "    </tr>\n",
       "    <tr>\n",
       "      <th>17</th>\n",
       "      <td>Secondary</td>\n",
       "      <td>Math</td>\n",
       "      <td>-0.085104</td>\n",
       "      <td>0.002371</td>\n",
       "      <td>-0.082157</td>\n",
       "    </tr>\n",
       "    <tr>\n",
       "      <th>18</th>\n",
       "      <td>Secondary</td>\n",
       "      <td>Science</td>\n",
       "      <td>-0.098840</td>\n",
       "      <td>-0.040935</td>\n",
       "      <td>-0.165385</td>\n",
       "    </tr>\n",
       "    <tr>\n",
       "      <th>19</th>\n",
       "      <td>Secondary</td>\n",
       "      <td>Social Studies</td>\n",
       "      <td>-0.136000</td>\n",
       "      <td>0.079429</td>\n",
       "      <td>-0.056571</td>\n",
       "    </tr>\n",
       "  </tbody>\n",
       "</table>\n",
       "</div>"
      ],
      "text/plain": [
       "    school_lvl    subject_area  pctm_lvpp  pctm_intra   pctm_pp\n",
       "0   Elementary             ELA  -0.029080    0.051333  0.024081\n",
       "1   Elementary            Math  -0.101760    0.042325 -0.057312\n",
       "2   Elementary         Science  -0.165299    0.017747 -0.151673\n",
       "3   Elementary  Social Studies  -0.011900    0.047390  0.030750\n",
       "4         High             ELA  -0.033504    0.067112  0.036013\n",
       "5         High            Math  -0.073359    0.036445 -0.027713\n",
       "6         High         Science  -0.044428    0.007526 -0.035538\n",
       "7         High  Social Studies   0.020849    0.051413  0.076565\n",
       "8       Middle             ELA  -0.063013    0.069574  0.009494\n",
       "9       Middle            Math  -0.106330    0.055484 -0.049829\n",
       "10      Middle         Science  -0.224536    0.011099 -0.213962\n",
       "11      Middle  Social Studies  -0.034536    0.065044  0.037355\n",
       "12       Other             ELA  -0.038263    0.046477 -0.000526\n",
       "13       Other            Math  -0.068963    0.030686 -0.062824\n",
       "14       Other         Science  -0.091616   -0.007521 -0.091622\n",
       "15       Other  Social Studies   0.037244    0.013296  0.021198\n",
       "16   Secondary             ELA   0.035271    0.022712 -0.002111\n",
       "17   Secondary            Math  -0.085104    0.002371 -0.082157\n",
       "18   Secondary         Science  -0.098840   -0.040935 -0.165385\n",
       "19   Secondary  Social Studies  -0.136000    0.079429 -0.056571"
      ]
     },
     "execution_count": 35,
     "metadata": {},
     "output_type": "execute_result"
    }
   ],
   "source": [
    "pct_lags = weighted_average_metrics[['school_lvl', 'subject_area', 'pctm_lvpp', 'pctm_intra', 'pctm_pp']]\n",
    "average_proficiency = pct_lags.groupby(['school_lvl', 'subject_area']).mean().reset_index()\n",
    "average_proficiency"
   ]
  },
  {
   "cell_type": "markdown",
   "metadata": {},
   "source": [
    "#### Need to fix this code.  Dataframe changed shape from original code.  Need to use the updated Assessment weighted results"
   ]
  },
  {
   "cell_type": "code",
   "execution_count": 36,
   "metadata": {},
   "outputs": [],
   "source": [
    "# # Calculate average proficiency per school level and content area\n",
    "# average_proficiency = weighted_average_metrics.groupby(['school_lvl', 'subject_area']).mean()[['pctm_lvpp', 'pctm_intra', 'pctm_pp']].reset_index()\n",
    "\n",
    "# # Define subject_area\n",
    "# subject_area = weighted_average_metrics['subject_area'].unique().tolist()\n",
    "\n",
    "# # Reorder school levels\n",
    "# school_lvl_order = ['Elementary', 'Middle', 'High', 'Secondary', 'Other']\n",
    "\n",
    "# # Create bar plot\n",
    "# fig = px.bar(average_proficiency, x='subject_area', y=['pctm_lvpp', 'pctm_intra', 'pctm_pp'], color_discrete_map={'pctm_lvpp': 'blue', 'pctm_intra': 'green', 'pctm_pp': 'red'},\n",
    "#              facet_row='subject_area', facet_col='school_lvl',\n",
    "#              category_orders={'subject_area': subject_area, 'school_lvl': school_lvl_order},\n",
    "#              labels={'pctm_lvpp': 'Average Proficiency (LVPP)',\n",
    "#                      'pctm_intra': 'Average Proficiency (Intra)',\n",
    "#                      'pctm_pp': 'Average Proficiency (PP)',\n",
    "#                      'school_lvl': 'School Level',\n",
    "#                      'subject_area': 'Subject Area'})\n",
    "\n",
    "# # Update layout\n",
    "# fig.update_layout(\n",
    "#     title='Average Weighted Proficiency by School Level and Content Area',\n",
    "#     autosize=True,\n",
    "#     width=1200,\n",
    "#     height=900,\n",
    "# )\n",
    "\n",
    "# # Show the figure\n",
    "# fig.show()\n",
    "\n",
    "# # Save the figure as HTML\n",
    "# fig.write_html('../plotly_html/broad_overview.html')"
   ]
  }
 ],
 "metadata": {
  "kernelspec": {
   "display_name": "Python 3 (ipykernel)",
   "language": "python",
   "name": "python3"
  },
  "language_info": {
   "codemirror_mode": {
    "name": "ipython",
    "version": 3
   },
   "file_extension": ".py",
   "mimetype": "text/x-python",
   "name": "python",
   "nbconvert_exporter": "python",
   "pygments_lexer": "ipython3",
   "version": "3.9.16"
  }
 },
 "nbformat": 4,
 "nbformat_minor": 4
}
