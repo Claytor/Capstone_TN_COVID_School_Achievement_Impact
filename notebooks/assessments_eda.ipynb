{
 "cells": [
  {
   "cell_type": "markdown",
   "metadata": {},
   "source": [
    "# Exploration for Reported Assessment Results"
   ]
  },
  {
   "cell_type": "markdown",
   "metadata": {},
   "source": [
    "## Imports and Such"
   ]
  },
  {
   "cell_type": "code",
   "execution_count": 1,
   "metadata": {},
   "outputs": [],
   "source": [
    "import pandas as pd\n",
    "import numpy as np\n",
    "import plotly.express as px\n",
    "import geopandas as gpd\n",
    "from shapely.geometry import Point\n",
    "import plotly.graph_objects as go\n",
    "pd.set_option('display.max_columns', 500)\n",
    "pd.set_option('display.max_rows', 100)"
   ]
  },
  {
   "cell_type": "code",
   "execution_count": 2,
   "metadata": {},
   "outputs": [],
   "source": [
    "# Import assessment data minus fully suppressed scores\n",
    "assessments = pd.read_pickle('../data/school_based/assessments_clean.pkl')\n",
    "\n",
    "# Import Suppressed outlier data\n",
    "suppressed = pd.read_pickle ('../data/school_based/full_suppression.pkl')\n",
    "\n",
    "# Import Tennessee School District Geometry\n",
    "tn_leas = gpd.read_file('../data/tn_leas.geojson', index_col='system_name')"
   ]
  },
  {
   "cell_type": "markdown",
   "metadata": {},
   "source": [
    "## Listy McListface - A Place to look at the lists in my dataframe."
   ]
  },
  {
   "cell_type": "code",
   "execution_count": 3,
   "metadata": {
    "tags": []
   },
   "outputs": [
    {
     "name": "stdout",
     "output_type": "stream",
     "text": [
      "<class 'geopandas.geodataframe.GeoDataFrame'>\n",
      "Index: 335452 entries, 0 to 381480\n",
      "Data columns (total 27 columns):\n",
      " #   Column              Non-Null Count   Dtype   \n",
      "---  ------              --------------   -----   \n",
      " 0   year                335452 non-null  int64   \n",
      " 1   system_name         335452 non-null  object  \n",
      " 2   school_name         335452 non-null  object  \n",
      " 3   test                335452 non-null  object  \n",
      " 4   subject             335452 non-null  object  \n",
      " 5   subject_area        335452 non-null  object  \n",
      " 6   student_group       335452 non-null  object  \n",
      " 7   valid_tests         335452 non-null  float64 \n",
      " 8   pct_met_exceeded    335452 non-null  float64 \n",
      " 9   system              335452 non-null  object  \n",
      " 10  school              335452 non-null  object  \n",
      " 11  school_lvl          335452 non-null  object  \n",
      " 12  tot_enrolled        335452 non-null  object  \n",
      " 13  fte_teachers        334603 non-null  float64 \n",
      " 14  stu_tchr_ratio      334603 non-null  float64 \n",
      " 15  school_type         335452 non-null  object  \n",
      " 16  magnet              335452 non-null  int64   \n",
      " 17  charter             335452 non-null  int64   \n",
      " 18  virtual             335452 non-null  object  \n",
      " 19  title_1             335452 non-null  object  \n",
      " 20  lat                 335452 non-null  float64 \n",
      " 21  long                335452 non-null  float64 \n",
      " 22  locale              335452 non-null  object  \n",
      " 23  geometry            335452 non-null  geometry\n",
      " 24  pct_met_exceeded_w  335452 non-null  float64 \n",
      " 25  stu_tchr_ratio_w    334603 non-null  float64 \n",
      " 26  fte_teachers_w      334603 non-null  float64 \n",
      "dtypes: float64(9), geometry(1), int64(3), object(14)\n",
      "memory usage: 71.7+ MB\n"
     ]
    }
   ],
   "source": [
    "# Assessments Info\n",
    "assessments.info()"
   ]
  },
  {
   "cell_type": "code",
   "execution_count": 4,
   "metadata": {
    "tags": []
   },
   "outputs": [
    {
     "data": {
      "text/plain": [
       "['All Students',\n",
       " 'American Indian or Alaska Native',\n",
       " 'Asian',\n",
       " 'Black or African American',\n",
       " 'Black/Hispanic/Native American',\n",
       " 'Economically Disadvantaged',\n",
       " 'English Learner Transitional 1-4',\n",
       " 'English Learners',\n",
       " 'English Learners with Transitional 1-4',\n",
       " 'Female',\n",
       " 'Gifted',\n",
       " 'Hispanic',\n",
       " 'Male',\n",
       " 'Native Hawaiian or Other Pacific Islander',\n",
       " 'Non-Black/Hispanic/Native American',\n",
       " 'Non-Economically Disadvantaged',\n",
       " 'Non-English Learners/Transitional 1-4',\n",
       " 'Non-Students with Disabilities',\n",
       " 'Students with Disabilities',\n",
       " 'Super Subgroup',\n",
       " 'White']"
      ]
     },
     "execution_count": 4,
     "metadata": {},
     "output_type": "execute_result"
    }
   ],
   "source": [
    "# Student Groups\n",
    "student_group_list = np.unique(assessments['student_group'].values).tolist()\n",
    "student_group_list"
   ]
  },
  {
   "cell_type": "code",
   "execution_count": 5,
   "metadata": {},
   "outputs": [
    {
     "data": {
      "text/plain": [
       "['1-Regular school',\n",
       " '2-Special education school',\n",
       " '4-Alternative Education School']"
      ]
     },
     "execution_count": 5,
     "metadata": {},
     "output_type": "execute_result"
    }
   ],
   "source": [
    "# School Types\n",
    "school_type_list = np.unique(assessments['school_type'].values).tolist()\n",
    "school_type_list"
   ]
  },
  {
   "cell_type": "code",
   "execution_count": 6,
   "metadata": {},
   "outputs": [
    {
     "data": {
      "text/plain": [
       "['ELA', 'Math', 'Science', 'Social Studies']"
      ]
     },
     "execution_count": 6,
     "metadata": {},
     "output_type": "execute_result"
    }
   ],
   "source": [
    "# Subject Areas\n",
    "subject_area_list = np.unique(assessments['subject_area'].values).tolist()\n",
    "subject_area_list"
   ]
  },
  {
   "cell_type": "markdown",
   "metadata": {},
   "source": [
    "## Unsuppressed: Broad Overview of Results"
   ]
  },
  {
   "cell_type": "markdown",
   "metadata": {},
   "source": [
    "### Overall Unweighted Proficiencies by School-Level, Subject Area, and Year."
   ]
  },
  {
   "cell_type": "code",
   "execution_count": 7,
   "metadata": {},
   "outputs": [
    {
     "data": {
      "text/html": [
       "<div>\n",
       "<style scoped>\n",
       "    .dataframe tbody tr th:only-of-type {\n",
       "        vertical-align: middle;\n",
       "    }\n",
       "\n",
       "    .dataframe tbody tr th {\n",
       "        vertical-align: top;\n",
       "    }\n",
       "\n",
       "    .dataframe thead tr th {\n",
       "        text-align: left;\n",
       "    }\n",
       "\n",
       "    .dataframe thead tr:last-of-type th {\n",
       "        text-align: right;\n",
       "    }\n",
       "</style>\n",
       "<table border=\"1\" class=\"dataframe\">\n",
       "  <thead>\n",
       "    <tr>\n",
       "      <th>subject_area</th>\n",
       "      <th colspan=\"4\" halign=\"left\">ELA</th>\n",
       "      <th colspan=\"4\" halign=\"left\">Math</th>\n",
       "      <th colspan=\"3\" halign=\"left\">Science</th>\n",
       "      <th colspan=\"4\" halign=\"left\">Social Studies</th>\n",
       "    </tr>\n",
       "    <tr>\n",
       "      <th>year</th>\n",
       "      <th>2018</th>\n",
       "      <th>2019</th>\n",
       "      <th>2021</th>\n",
       "      <th>2022</th>\n",
       "      <th>2018</th>\n",
       "      <th>2019</th>\n",
       "      <th>2021</th>\n",
       "      <th>2022</th>\n",
       "      <th>2018</th>\n",
       "      <th>2021</th>\n",
       "      <th>2022</th>\n",
       "      <th>2018</th>\n",
       "      <th>2019</th>\n",
       "      <th>2021</th>\n",
       "      <th>2022</th>\n",
       "    </tr>\n",
       "    <tr>\n",
       "      <th>school_lvl</th>\n",
       "      <th></th>\n",
       "      <th></th>\n",
       "      <th></th>\n",
       "      <th></th>\n",
       "      <th></th>\n",
       "      <th></th>\n",
       "      <th></th>\n",
       "      <th></th>\n",
       "      <th></th>\n",
       "      <th></th>\n",
       "      <th></th>\n",
       "      <th></th>\n",
       "      <th></th>\n",
       "      <th></th>\n",
       "      <th></th>\n",
       "    </tr>\n",
       "  </thead>\n",
       "  <tbody>\n",
       "    <tr>\n",
       "      <th>Elementary</th>\n",
       "      <td>0.313354</td>\n",
       "      <td>0.317439</td>\n",
       "      <td>0.288133</td>\n",
       "      <td>0.332412</td>\n",
       "      <td>0.351674</td>\n",
       "      <td>0.402860</td>\n",
       "      <td>0.308109</td>\n",
       "      <td>0.338107</td>\n",
       "      <td>0.519245</td>\n",
       "      <td>0.353617</td>\n",
       "      <td>0.367404</td>\n",
       "      <td>0.338689</td>\n",
       "      <td>0.345175</td>\n",
       "      <td>0.328732</td>\n",
       "      <td>0.364729</td>\n",
       "    </tr>\n",
       "    <tr>\n",
       "      <th>High</th>\n",
       "      <td>0.269997</td>\n",
       "      <td>0.331378</td>\n",
       "      <td>0.294335</td>\n",
       "      <td>0.348687</td>\n",
       "      <td>0.231409</td>\n",
       "      <td>0.260610</td>\n",
       "      <td>0.201373</td>\n",
       "      <td>0.229202</td>\n",
       "      <td>0.400077</td>\n",
       "      <td>0.349336</td>\n",
       "      <td>0.355829</td>\n",
       "      <td>0.270426</td>\n",
       "      <td>0.286531</td>\n",
       "      <td>0.305459</td>\n",
       "      <td>0.343403</td>\n",
       "    </tr>\n",
       "    <tr>\n",
       "      <th>Middle</th>\n",
       "      <td>0.272938</td>\n",
       "      <td>0.289341</td>\n",
       "      <td>0.244374</td>\n",
       "      <td>0.294892</td>\n",
       "      <td>0.362565</td>\n",
       "      <td>0.390276</td>\n",
       "      <td>0.341143</td>\n",
       "      <td>0.357363</td>\n",
       "      <td>0.511250</td>\n",
       "      <td>0.322881</td>\n",
       "      <td>0.326773</td>\n",
       "      <td>0.337043</td>\n",
       "      <td>0.359389</td>\n",
       "      <td>0.334036</td>\n",
       "      <td>0.383663</td>\n",
       "    </tr>\n",
       "    <tr>\n",
       "      <th>Other</th>\n",
       "      <td>0.307405</td>\n",
       "      <td>0.327303</td>\n",
       "      <td>0.316126</td>\n",
       "      <td>0.344306</td>\n",
       "      <td>0.285647</td>\n",
       "      <td>0.308662</td>\n",
       "      <td>0.244099</td>\n",
       "      <td>0.240873</td>\n",
       "      <td>0.413550</td>\n",
       "      <td>0.365386</td>\n",
       "      <td>0.347952</td>\n",
       "      <td>0.304003</td>\n",
       "      <td>0.296822</td>\n",
       "      <td>0.349833</td>\n",
       "      <td>0.327282</td>\n",
       "    </tr>\n",
       "    <tr>\n",
       "      <th>Secondary</th>\n",
       "      <td>0.293484</td>\n",
       "      <td>0.276567</td>\n",
       "      <td>0.359758</td>\n",
       "      <td>0.370127</td>\n",
       "      <td>0.308447</td>\n",
       "      <td>0.384527</td>\n",
       "      <td>0.292991</td>\n",
       "      <td>0.387432</td>\n",
       "      <td>0.443152</td>\n",
       "      <td>0.505515</td>\n",
       "      <td>0.530455</td>\n",
       "      <td>0.277826</td>\n",
       "      <td>0.428159</td>\n",
       "      <td>0.291515</td>\n",
       "      <td>0.525471</td>\n",
       "    </tr>\n",
       "  </tbody>\n",
       "</table>\n",
       "</div>"
      ],
      "text/plain": [
       "subject_area       ELA                                    Math            \\\n",
       "year              2018      2019      2021      2022      2018      2019   \n",
       "school_lvl                                                                 \n",
       "Elementary    0.313354  0.317439  0.288133  0.332412  0.351674  0.402860   \n",
       "High          0.269997  0.331378  0.294335  0.348687  0.231409  0.260610   \n",
       "Middle        0.272938  0.289341  0.244374  0.294892  0.362565  0.390276   \n",
       "Other         0.307405  0.327303  0.316126  0.344306  0.285647  0.308662   \n",
       "Secondary     0.293484  0.276567  0.359758  0.370127  0.308447  0.384527   \n",
       "\n",
       "subject_area                       Science                     Social Studies  \\\n",
       "year              2021      2022      2018      2021      2022           2018   \n",
       "school_lvl                                                                      \n",
       "Elementary    0.308109  0.338107  0.519245  0.353617  0.367404       0.338689   \n",
       "High          0.201373  0.229202  0.400077  0.349336  0.355829       0.270426   \n",
       "Middle        0.341143  0.357363  0.511250  0.322881  0.326773       0.337043   \n",
       "Other         0.244099  0.240873  0.413550  0.365386  0.347952       0.304003   \n",
       "Secondary     0.292991  0.387432  0.443152  0.505515  0.530455       0.277826   \n",
       "\n",
       "subject_area                                \n",
       "year              2019      2021      2022  \n",
       "school_lvl                                  \n",
       "Elementary    0.345175  0.328732  0.364729  \n",
       "High          0.286531  0.305459  0.343403  \n",
       "Middle        0.359389  0.334036  0.383663  \n",
       "Other         0.296822  0.349833  0.327282  \n",
       "Secondary     0.428159  0.291515  0.525471  "
      ]
     },
     "execution_count": 7,
     "metadata": {},
     "output_type": "execute_result"
    }
   ],
   "source": [
    "# Subject Area Pivot Table\n",
    "subject_area_pivot = pd.pivot_table(assessments,\n",
    "                       values = 'pct_met_exceeded',\n",
    "                       index = ['school_lvl'],\n",
    "                       columns = ['subject_area','year'],\n",
    "                       aggfunc = np.mean)\n",
    "\n",
    "# Get the current list of years\n",
    "years = list(subject_area_pivot.columns)\n",
    "\n",
    "subject_area_pivot\n",
    "#.plot()"
   ]
  },
  {
   "cell_type": "markdown",
   "metadata": {},
   "source": [
    "#### Visual of Log Proficiencies For All Subjects Combined by School Level (Unweighted)"
   ]
  },
  {
   "cell_type": "code",
   "execution_count": 8,
   "metadata": {},
   "outputs": [
    {
     "data": {
      "application/vnd.plotly.v1+json": {
       "config": {
        "plotlyServerURL": "https://plot.ly"
       },
       "data": [
        {
         "colorscale": [
          [
           0,
           "#440154"
          ],
          [
           0.1111111111111111,
           "#482878"
          ],
          [
           0.2222222222222222,
           "#3e4989"
          ],
          [
           0.3333333333333333,
           "#31688e"
          ],
          [
           0.4444444444444444,
           "#26828e"
          ],
          [
           0.5555555555555556,
           "#1f9e89"
          ],
          [
           0.6666666666666666,
           "#35b779"
          ],
          [
           0.7777777777777778,
           "#6ece58"
          ],
          [
           0.8888888888888888,
           "#b5de2b"
          ],
          [
           1,
           "#fde725"
          ]
         ],
         "type": "heatmap",
         "x": [
          2018,
          2019,
          2021,
          2022,
          2018,
          2019,
          2021,
          2022,
          2018,
          2021,
          2022,
          2018,
          2019,
          2021,
          2022
         ],
         "y": [
          "Elementary",
          "High",
          "Middle",
          "Other",
          "Secondary"
         ],
         "z": [
          [
           -1.1604231506220097,
           -1.1474690767214122,
           -1.244331662563781,
           -1.1013803883172049,
           -1.0450509499639855,
           -0.9091671226383866,
           -1.1773018611877002,
           -1.0843915032888014,
           -0.6553789149947815,
           -1.039541214541772,
           -1.001293992397191,
           -1.082672348600349,
           -1.0637027423419314,
           -1.112512627660853,
           -1.0086001628672294
          ],
          [
           -1.3093452661575986,
           -1.1044967437362676,
           -1.223035456405317,
           -1.0535794398944052,
           -1.463567453991368,
           -1.3447283330321826,
           -1.6025988107285392,
           -1.4731511547282896,
           -0.9160990324582512,
           -1.0517221894903117,
           -1.033306187812059,
           -1.3077555125727889,
           -1.2499076737319628,
           -1.185940675508946,
           -1.068849206313412
          ],
          [
           -1.2985092804424785,
           -1.2401500570948267,
           -1.4090574170111927,
           -1.221144683499604,
           -1.0145512120105757,
           -0.9408999939880842,
           -1.075452804347602,
           -1.0290020698365854,
           -0.6708967925910583,
           -1.1304705399896537,
           -1.11849012451689,
           -1.087544441285119,
           -1.0233488172716403,
           -1.0965072763596544,
           -0.9579918129019097
          ],
          [
           -1.1795907723893755,
           -1.116867501111674,
           -1.1516159008768765,
           -1.0662244121413318,
           -1.2529997907067547,
           -1.1755093808000683,
           -1.4101801268849294,
           -1.4234864586688378,
           -0.8829776196798094,
           -1.0068016604242493,
           -1.0556911422357091,
           -1.1907186144725304,
           -1.2146213658599627,
           -1.0503006756436954,
           -1.1169323058965404
          ],
          [
           -1.225932595337334,
           -1.2853027334588718,
           -1.0223242169806883,
           -0.9939083521475618,
           -1.1762044837138388,
           -0.9557414115874795,
           -1.2276142720318475,
           -0.9482138133088912,
           -0.8138414619780793,
           -0.6821772676470602,
           -0.6340210070598513,
           -1.2807599475397062,
           -0.8482604447350239,
           -1.232663296788865,
           -0.643461059336514
          ]
         ],
         "zmid": -1.1013803883172049
        }
       ],
       "layout": {
        "template": {
         "data": {
          "bar": [
           {
            "error_x": {
             "color": "#2a3f5f"
            },
            "error_y": {
             "color": "#2a3f5f"
            },
            "marker": {
             "line": {
              "color": "#E5ECF6",
              "width": 0.5
             },
             "pattern": {
              "fillmode": "overlay",
              "size": 10,
              "solidity": 0.2
             }
            },
            "type": "bar"
           }
          ],
          "barpolar": [
           {
            "marker": {
             "line": {
              "color": "#E5ECF6",
              "width": 0.5
             },
             "pattern": {
              "fillmode": "overlay",
              "size": 10,
              "solidity": 0.2
             }
            },
            "type": "barpolar"
           }
          ],
          "carpet": [
           {
            "aaxis": {
             "endlinecolor": "#2a3f5f",
             "gridcolor": "white",
             "linecolor": "white",
             "minorgridcolor": "white",
             "startlinecolor": "#2a3f5f"
            },
            "baxis": {
             "endlinecolor": "#2a3f5f",
             "gridcolor": "white",
             "linecolor": "white",
             "minorgridcolor": "white",
             "startlinecolor": "#2a3f5f"
            },
            "type": "carpet"
           }
          ],
          "choropleth": [
           {
            "colorbar": {
             "outlinewidth": 0,
             "ticks": ""
            },
            "type": "choropleth"
           }
          ],
          "contour": [
           {
            "colorbar": {
             "outlinewidth": 0,
             "ticks": ""
            },
            "colorscale": [
             [
              0,
              "#0d0887"
             ],
             [
              0.1111111111111111,
              "#46039f"
             ],
             [
              0.2222222222222222,
              "#7201a8"
             ],
             [
              0.3333333333333333,
              "#9c179e"
             ],
             [
              0.4444444444444444,
              "#bd3786"
             ],
             [
              0.5555555555555556,
              "#d8576b"
             ],
             [
              0.6666666666666666,
              "#ed7953"
             ],
             [
              0.7777777777777778,
              "#fb9f3a"
             ],
             [
              0.8888888888888888,
              "#fdca26"
             ],
             [
              1,
              "#f0f921"
             ]
            ],
            "type": "contour"
           }
          ],
          "contourcarpet": [
           {
            "colorbar": {
             "outlinewidth": 0,
             "ticks": ""
            },
            "type": "contourcarpet"
           }
          ],
          "heatmap": [
           {
            "colorbar": {
             "outlinewidth": 0,
             "ticks": ""
            },
            "colorscale": [
             [
              0,
              "#0d0887"
             ],
             [
              0.1111111111111111,
              "#46039f"
             ],
             [
              0.2222222222222222,
              "#7201a8"
             ],
             [
              0.3333333333333333,
              "#9c179e"
             ],
             [
              0.4444444444444444,
              "#bd3786"
             ],
             [
              0.5555555555555556,
              "#d8576b"
             ],
             [
              0.6666666666666666,
              "#ed7953"
             ],
             [
              0.7777777777777778,
              "#fb9f3a"
             ],
             [
              0.8888888888888888,
              "#fdca26"
             ],
             [
              1,
              "#f0f921"
             ]
            ],
            "type": "heatmap"
           }
          ],
          "heatmapgl": [
           {
            "colorbar": {
             "outlinewidth": 0,
             "ticks": ""
            },
            "colorscale": [
             [
              0,
              "#0d0887"
             ],
             [
              0.1111111111111111,
              "#46039f"
             ],
             [
              0.2222222222222222,
              "#7201a8"
             ],
             [
              0.3333333333333333,
              "#9c179e"
             ],
             [
              0.4444444444444444,
              "#bd3786"
             ],
             [
              0.5555555555555556,
              "#d8576b"
             ],
             [
              0.6666666666666666,
              "#ed7953"
             ],
             [
              0.7777777777777778,
              "#fb9f3a"
             ],
             [
              0.8888888888888888,
              "#fdca26"
             ],
             [
              1,
              "#f0f921"
             ]
            ],
            "type": "heatmapgl"
           }
          ],
          "histogram": [
           {
            "marker": {
             "pattern": {
              "fillmode": "overlay",
              "size": 10,
              "solidity": 0.2
             }
            },
            "type": "histogram"
           }
          ],
          "histogram2d": [
           {
            "colorbar": {
             "outlinewidth": 0,
             "ticks": ""
            },
            "colorscale": [
             [
              0,
              "#0d0887"
             ],
             [
              0.1111111111111111,
              "#46039f"
             ],
             [
              0.2222222222222222,
              "#7201a8"
             ],
             [
              0.3333333333333333,
              "#9c179e"
             ],
             [
              0.4444444444444444,
              "#bd3786"
             ],
             [
              0.5555555555555556,
              "#d8576b"
             ],
             [
              0.6666666666666666,
              "#ed7953"
             ],
             [
              0.7777777777777778,
              "#fb9f3a"
             ],
             [
              0.8888888888888888,
              "#fdca26"
             ],
             [
              1,
              "#f0f921"
             ]
            ],
            "type": "histogram2d"
           }
          ],
          "histogram2dcontour": [
           {
            "colorbar": {
             "outlinewidth": 0,
             "ticks": ""
            },
            "colorscale": [
             [
              0,
              "#0d0887"
             ],
             [
              0.1111111111111111,
              "#46039f"
             ],
             [
              0.2222222222222222,
              "#7201a8"
             ],
             [
              0.3333333333333333,
              "#9c179e"
             ],
             [
              0.4444444444444444,
              "#bd3786"
             ],
             [
              0.5555555555555556,
              "#d8576b"
             ],
             [
              0.6666666666666666,
              "#ed7953"
             ],
             [
              0.7777777777777778,
              "#fb9f3a"
             ],
             [
              0.8888888888888888,
              "#fdca26"
             ],
             [
              1,
              "#f0f921"
             ]
            ],
            "type": "histogram2dcontour"
           }
          ],
          "mesh3d": [
           {
            "colorbar": {
             "outlinewidth": 0,
             "ticks": ""
            },
            "type": "mesh3d"
           }
          ],
          "parcoords": [
           {
            "line": {
             "colorbar": {
              "outlinewidth": 0,
              "ticks": ""
             }
            },
            "type": "parcoords"
           }
          ],
          "pie": [
           {
            "automargin": true,
            "type": "pie"
           }
          ],
          "scatter": [
           {
            "fillpattern": {
             "fillmode": "overlay",
             "size": 10,
             "solidity": 0.2
            },
            "type": "scatter"
           }
          ],
          "scatter3d": [
           {
            "line": {
             "colorbar": {
              "outlinewidth": 0,
              "ticks": ""
             }
            },
            "marker": {
             "colorbar": {
              "outlinewidth": 0,
              "ticks": ""
             }
            },
            "type": "scatter3d"
           }
          ],
          "scattercarpet": [
           {
            "marker": {
             "colorbar": {
              "outlinewidth": 0,
              "ticks": ""
             }
            },
            "type": "scattercarpet"
           }
          ],
          "scattergeo": [
           {
            "marker": {
             "colorbar": {
              "outlinewidth": 0,
              "ticks": ""
             }
            },
            "type": "scattergeo"
           }
          ],
          "scattergl": [
           {
            "marker": {
             "colorbar": {
              "outlinewidth": 0,
              "ticks": ""
             }
            },
            "type": "scattergl"
           }
          ],
          "scattermapbox": [
           {
            "marker": {
             "colorbar": {
              "outlinewidth": 0,
              "ticks": ""
             }
            },
            "type": "scattermapbox"
           }
          ],
          "scatterpolar": [
           {
            "marker": {
             "colorbar": {
              "outlinewidth": 0,
              "ticks": ""
             }
            },
            "type": "scatterpolar"
           }
          ],
          "scatterpolargl": [
           {
            "marker": {
             "colorbar": {
              "outlinewidth": 0,
              "ticks": ""
             }
            },
            "type": "scatterpolargl"
           }
          ],
          "scatterternary": [
           {
            "marker": {
             "colorbar": {
              "outlinewidth": 0,
              "ticks": ""
             }
            },
            "type": "scatterternary"
           }
          ],
          "surface": [
           {
            "colorbar": {
             "outlinewidth": 0,
             "ticks": ""
            },
            "colorscale": [
             [
              0,
              "#0d0887"
             ],
             [
              0.1111111111111111,
              "#46039f"
             ],
             [
              0.2222222222222222,
              "#7201a8"
             ],
             [
              0.3333333333333333,
              "#9c179e"
             ],
             [
              0.4444444444444444,
              "#bd3786"
             ],
             [
              0.5555555555555556,
              "#d8576b"
             ],
             [
              0.6666666666666666,
              "#ed7953"
             ],
             [
              0.7777777777777778,
              "#fb9f3a"
             ],
             [
              0.8888888888888888,
              "#fdca26"
             ],
             [
              1,
              "#f0f921"
             ]
            ],
            "type": "surface"
           }
          ],
          "table": [
           {
            "cells": {
             "fill": {
              "color": "#EBF0F8"
             },
             "line": {
              "color": "white"
             }
            },
            "header": {
             "fill": {
              "color": "#C8D4E3"
             },
             "line": {
              "color": "white"
             }
            },
            "type": "table"
           }
          ]
         },
         "layout": {
          "annotationdefaults": {
           "arrowcolor": "#2a3f5f",
           "arrowhead": 0,
           "arrowwidth": 1
          },
          "autotypenumbers": "strict",
          "coloraxis": {
           "colorbar": {
            "outlinewidth": 0,
            "ticks": ""
           }
          },
          "colorscale": {
           "diverging": [
            [
             0,
             "#8e0152"
            ],
            [
             0.1,
             "#c51b7d"
            ],
            [
             0.2,
             "#de77ae"
            ],
            [
             0.3,
             "#f1b6da"
            ],
            [
             0.4,
             "#fde0ef"
            ],
            [
             0.5,
             "#f7f7f7"
            ],
            [
             0.6,
             "#e6f5d0"
            ],
            [
             0.7,
             "#b8e186"
            ],
            [
             0.8,
             "#7fbc41"
            ],
            [
             0.9,
             "#4d9221"
            ],
            [
             1,
             "#276419"
            ]
           ],
           "sequential": [
            [
             0,
             "#0d0887"
            ],
            [
             0.1111111111111111,
             "#46039f"
            ],
            [
             0.2222222222222222,
             "#7201a8"
            ],
            [
             0.3333333333333333,
             "#9c179e"
            ],
            [
             0.4444444444444444,
             "#bd3786"
            ],
            [
             0.5555555555555556,
             "#d8576b"
            ],
            [
             0.6666666666666666,
             "#ed7953"
            ],
            [
             0.7777777777777778,
             "#fb9f3a"
            ],
            [
             0.8888888888888888,
             "#fdca26"
            ],
            [
             1,
             "#f0f921"
            ]
           ],
           "sequentialminus": [
            [
             0,
             "#0d0887"
            ],
            [
             0.1111111111111111,
             "#46039f"
            ],
            [
             0.2222222222222222,
             "#7201a8"
            ],
            [
             0.3333333333333333,
             "#9c179e"
            ],
            [
             0.4444444444444444,
             "#bd3786"
            ],
            [
             0.5555555555555556,
             "#d8576b"
            ],
            [
             0.6666666666666666,
             "#ed7953"
            ],
            [
             0.7777777777777778,
             "#fb9f3a"
            ],
            [
             0.8888888888888888,
             "#fdca26"
            ],
            [
             1,
             "#f0f921"
            ]
           ]
          },
          "colorway": [
           "#636efa",
           "#EF553B",
           "#00cc96",
           "#ab63fa",
           "#FFA15A",
           "#19d3f3",
           "#FF6692",
           "#B6E880",
           "#FF97FF",
           "#FECB52"
          ],
          "font": {
           "color": "#2a3f5f"
          },
          "geo": {
           "bgcolor": "white",
           "lakecolor": "white",
           "landcolor": "#E5ECF6",
           "showlakes": true,
           "showland": true,
           "subunitcolor": "white"
          },
          "hoverlabel": {
           "align": "left"
          },
          "hovermode": "closest",
          "mapbox": {
           "style": "light"
          },
          "paper_bgcolor": "white",
          "plot_bgcolor": "#E5ECF6",
          "polar": {
           "angularaxis": {
            "gridcolor": "white",
            "linecolor": "white",
            "ticks": ""
           },
           "bgcolor": "#E5ECF6",
           "radialaxis": {
            "gridcolor": "white",
            "linecolor": "white",
            "ticks": ""
           }
          },
          "scene": {
           "xaxis": {
            "backgroundcolor": "#E5ECF6",
            "gridcolor": "white",
            "gridwidth": 2,
            "linecolor": "white",
            "showbackground": true,
            "ticks": "",
            "zerolinecolor": "white"
           },
           "yaxis": {
            "backgroundcolor": "#E5ECF6",
            "gridcolor": "white",
            "gridwidth": 2,
            "linecolor": "white",
            "showbackground": true,
            "ticks": "",
            "zerolinecolor": "white"
           },
           "zaxis": {
            "backgroundcolor": "#E5ECF6",
            "gridcolor": "white",
            "gridwidth": 2,
            "linecolor": "white",
            "showbackground": true,
            "ticks": "",
            "zerolinecolor": "white"
           }
          },
          "shapedefaults": {
           "line": {
            "color": "#2a3f5f"
           }
          },
          "ternary": {
           "aaxis": {
            "gridcolor": "white",
            "linecolor": "white",
            "ticks": ""
           },
           "baxis": {
            "gridcolor": "white",
            "linecolor": "white",
            "ticks": ""
           },
           "bgcolor": "#E5ECF6",
           "caxis": {
            "gridcolor": "white",
            "linecolor": "white",
            "ticks": ""
           }
          },
          "title": {
           "x": 0.05
          },
          "xaxis": {
           "automargin": true,
           "gridcolor": "white",
           "linecolor": "white",
           "ticks": "",
           "title": {
            "standoff": 15
           },
           "zerolinecolor": "white",
           "zerolinewidth": 2
          },
          "yaxis": {
           "automargin": true,
           "gridcolor": "white",
           "linecolor": "white",
           "ticks": "",
           "title": {
            "standoff": 15
           },
           "zerolinecolor": "white",
           "zerolinewidth": 2
          }
         }
        },
        "title": {
         "text": "Subject Area Heatmap (Log Scale)"
        },
        "xaxis": {
         "title": {
          "text": "Year"
         }
        },
        "yaxis": {
         "title": {
          "text": "School Level"
         }
        }
       }
      }
     },
     "metadata": {},
     "output_type": "display_data"
    }
   ],
   "source": [
    "# Apply logarithmic scaling to the values\n",
    "log_values = np.log(subject_area_pivot.values)\n",
    "\n",
    "# Create a diverging colorscale for heatmap\n",
    "colorscale = 'Viridis'\n",
    "\n",
    "# Create the heatmap figure\n",
    "fig = go.Figure(data=go.Heatmap(\n",
    "    z=log_values,\n",
    "    x=subject_area_pivot.columns.get_level_values('year'),\n",
    "    y=subject_area_pivot.index,\n",
    "    colorscale=colorscale,\n",
    "    zmid=np.median(log_values)  # Set the midpoint of the colorscale\n",
    "))\n",
    "\n",
    "# Update the layout\n",
    "fig.update_layout(\n",
    "    title='Subject Area Heatmap (Log Scale)',\n",
    "    xaxis_title='Year',\n",
    "    yaxis_title='School Level'\n",
    ")\n",
    "\n",
    "# Show the figure\n",
    "fig.show()"
   ]
  },
  {
   "cell_type": "markdown",
   "metadata": {},
   "source": [
    "### 🗺️ Spatial Join of School Geometry (lat/long point) and District (polygons)"
   ]
  },
  {
   "cell_type": "markdown",
   "metadata": {},
   "source": [
    "There's some funk going on here.  District names don't match across datasets.  I'm going to do a spatial merge to see which dististricts are associated based on thier physical location."
   ]
  },
  {
   "cell_type": "code",
   "execution_count": 9,
   "metadata": {},
   "outputs": [],
   "source": [
    "# Set the CRS for the assessments dataframe\n",
    "assessments.crs = \"EPSG:4269\"\n",
    "\n",
    "# Reproject assessments dataframe to match the CRS of tn_leas dataframe\n",
    "reproject = assessments.to_crs(tn_leas.crs)\n",
    "\n",
    "# Perform spatial join\n",
    "assessments = gpd.sjoin(reproject, tn_leas, how='inner', predicate='intersects')"
   ]
  },
  {
   "cell_type": "markdown",
   "metadata": {},
   "source": [
    "There is indeed a mismatch in naming conventions between datasets"
   ]
  },
  {
   "cell_type": "code",
   "execution_count": 10,
   "metadata": {},
   "outputs": [
    {
     "data": {
      "text/html": [
       "<div>\n",
       "<style scoped>\n",
       "    .dataframe tbody tr th:only-of-type {\n",
       "        vertical-align: middle;\n",
       "    }\n",
       "\n",
       "    .dataframe tbody tr th {\n",
       "        vertical-align: top;\n",
       "    }\n",
       "\n",
       "    .dataframe thead th {\n",
       "        text-align: right;\n",
       "    }\n",
       "</style>\n",
       "<table border=\"1\" class=\"dataframe\">\n",
       "  <thead>\n",
       "    <tr style=\"text-align: right;\">\n",
       "      <th></th>\n",
       "      <th>system_name_left</th>\n",
       "      <th>system_name_right</th>\n",
       "    </tr>\n",
       "  </thead>\n",
       "  <tbody>\n",
       "    <tr>\n",
       "      <th>381475</th>\n",
       "      <td>Wilson County</td>\n",
       "      <td>Wilson County School District</td>\n",
       "    </tr>\n",
       "    <tr>\n",
       "      <th>381476</th>\n",
       "      <td>Wilson County</td>\n",
       "      <td>Wilson County School District</td>\n",
       "    </tr>\n",
       "    <tr>\n",
       "      <th>381477</th>\n",
       "      <td>Wilson County</td>\n",
       "      <td>Wilson County School District</td>\n",
       "    </tr>\n",
       "    <tr>\n",
       "      <th>381479</th>\n",
       "      <td>Wilson County</td>\n",
       "      <td>Wilson County School District</td>\n",
       "    </tr>\n",
       "    <tr>\n",
       "      <th>381480</th>\n",
       "      <td>Wilson County</td>\n",
       "      <td>Wilson County School District</td>\n",
       "    </tr>\n",
       "  </tbody>\n",
       "</table>\n",
       "</div>"
      ],
      "text/plain": [
       "       system_name_left              system_name_right\n",
       "381475    Wilson County  Wilson County School District\n",
       "381476    Wilson County  Wilson County School District\n",
       "381477    Wilson County  Wilson County School District\n",
       "381479    Wilson County  Wilson County School District\n",
       "381480    Wilson County  Wilson County School District"
      ]
     },
     "execution_count": 10,
     "metadata": {},
     "output_type": "execute_result"
    }
   ],
   "source": [
    "# Looking at differences in naming conventions\n",
    "pd.merge(\n",
    "    left = assessments.groupby(['system_name_left','school_name'])['system_name_right'].nunique().loc[lambda x: x>1].reset_index().drop(columns = 'system_name_right'),\n",
    "    right = assessments)[['system_name_left', 'school_name', 'system_name_right']].drop_duplicates()#.to_csv('../data/fixerupper.csv', index = False)\n",
    "\n",
    "subset_assessments = assessments[['system_name_left', 'system_name_right']]\n",
    "subset_assessments.tail()"
   ]
  },
  {
   "cell_type": "code",
   "execution_count": 11,
   "metadata": {},
   "outputs": [
    {
     "data": {
      "text/html": [
       "<div>\n",
       "<style scoped>\n",
       "    .dataframe tbody tr th:only-of-type {\n",
       "        vertical-align: middle;\n",
       "    }\n",
       "\n",
       "    .dataframe tbody tr th {\n",
       "        vertical-align: top;\n",
       "    }\n",
       "\n",
       "    .dataframe thead th {\n",
       "        text-align: right;\n",
       "    }\n",
       "</style>\n",
       "<table border=\"1\" class=\"dataframe\">\n",
       "  <thead>\n",
       "    <tr style=\"text-align: right;\">\n",
       "      <th></th>\n",
       "      <th>system_name_left</th>\n",
       "      <th>school_name</th>\n",
       "      <th>system_name_right</th>\n",
       "    </tr>\n",
       "  </thead>\n",
       "  <tbody>\n",
       "    <tr>\n",
       "      <th>85</th>\n",
       "      <td>Williamson County</td>\n",
       "      <td>Centennial High School</td>\n",
       "      <td>Williamson County School District in Franklin</td>\n",
       "    </tr>\n",
       "    <tr>\n",
       "      <th>86</th>\n",
       "      <td>Williamson County</td>\n",
       "      <td>Discovery Virtual K-8 School</td>\n",
       "      <td>Williamson County School District in Franklin</td>\n",
       "    </tr>\n",
       "    <tr>\n",
       "      <th>87</th>\n",
       "      <td>Williamson County</td>\n",
       "      <td>Franklin High School</td>\n",
       "      <td>Williamson County School District in Franklin</td>\n",
       "    </tr>\n",
       "    <tr>\n",
       "      <th>88</th>\n",
       "      <td>Williamson County</td>\n",
       "      <td>Renaissance High School</td>\n",
       "      <td>Williamson County School District in Franklin</td>\n",
       "    </tr>\n",
       "    <tr>\n",
       "      <th>89</th>\n",
       "      <td>Williamson County</td>\n",
       "      <td>Vanguard Virtual High School</td>\n",
       "      <td>Williamson County School District in Franklin</td>\n",
       "    </tr>\n",
       "    <tr>\n",
       "      <th>90</th>\n",
       "      <td>Wilson County</td>\n",
       "      <td>Lebanon High School</td>\n",
       "      <td>Wilson County School District in Lebanon</td>\n",
       "    </tr>\n",
       "    <tr>\n",
       "      <th>91</th>\n",
       "      <td>Wilson County</td>\n",
       "      <td>Tennessee Virtual On-Line School</td>\n",
       "      <td>Wilson County School District</td>\n",
       "    </tr>\n",
       "  </tbody>\n",
       "</table>\n",
       "</div>"
      ],
      "text/plain": [
       "     system_name_left                       school_name  \\\n",
       "85  Williamson County            Centennial High School   \n",
       "86  Williamson County      Discovery Virtual K-8 School   \n",
       "87  Williamson County              Franklin High School   \n",
       "88  Williamson County           Renaissance High School   \n",
       "89  Williamson County      Vanguard Virtual High School   \n",
       "90      Wilson County               Lebanon High School   \n",
       "91      Wilson County  Tennessee Virtual On-Line School   \n",
       "\n",
       "                                system_name_right  \n",
       "85  Williamson County School District in Franklin  \n",
       "86  Williamson County School District in Franklin  \n",
       "87  Williamson County School District in Franklin  \n",
       "88  Williamson County School District in Franklin  \n",
       "89  Williamson County School District in Franklin  \n",
       "90       Wilson County School District in Lebanon  \n",
       "91                  Wilson County School District  "
      ]
     },
     "execution_count": 11,
     "metadata": {},
     "output_type": "execute_result"
    }
   ],
   "source": [
    "# Load cleaned dictionary mapping\n",
    "clean_dictionary =pd.read_csv('../data/clean_dictionary.csv')\n",
    "clean_dictionary = pd.concat([pd.merge(\n",
    "    left = assessments.groupby(['system_name_left','school_name'])['system_name_right'].nunique().loc[lambda x: x == 1].reset_index().drop(columns = 'system_name_right'),\n",
    "    right = assessments)[['system_name_left', 'school_name', 'system_name_right']].drop_duplicates(), clean_dictionary])\n",
    "clean_dictionary.tail(n=7)"
   ]
  },
  {
   "cell_type": "markdown",
   "metadata": {},
   "source": [
    "Proccessing steps: Keep system_name_right, rename as system_name, drop system_name_right, set_system_name at col index 2"
   ]
  },
  {
   "cell_type": "code",
   "execution_count": 12,
   "metadata": {},
   "outputs": [],
   "source": [
    "# Merge assessments with the clean dictionary\n",
    "assessments = (pd.merge(left = assessments, right = clean_dictionary))\n",
    "\n",
    "# Rename the 'system_name_right' column to 'system_name'\n",
    "assessments.rename(columns={'system_name_right': 'system_name'}, inplace=True)\n",
    "\n",
    "# Move the 'system_name' column to the third position\n",
    "columns = list(assessments.columns)\n",
    "columns.insert(2, columns.pop(columns.index('system_name')))\n",
    "assessments = assessments[columns]\n",
    "\n",
    "# Drop the 'system_name_right' column\n",
    "assessments.drop('system_name_left', axis=1, inplace=True)"
   ]
  },
  {
   "cell_type": "code",
   "execution_count": 13,
   "metadata": {},
   "outputs": [
    {
     "data": {
      "text/html": [
       "<div>\n",
       "<style scoped>\n",
       "    .dataframe tbody tr th:only-of-type {\n",
       "        vertical-align: middle;\n",
       "    }\n",
       "\n",
       "    .dataframe tbody tr th {\n",
       "        vertical-align: top;\n",
       "    }\n",
       "\n",
       "    .dataframe thead th {\n",
       "        text-align: right;\n",
       "    }\n",
       "</style>\n",
       "<table border=\"1\" class=\"dataframe\">\n",
       "  <thead>\n",
       "    <tr style=\"text-align: right;\">\n",
       "      <th></th>\n",
       "      <th>year</th>\n",
       "      <th>system_name</th>\n",
       "      <th>school_name</th>\n",
       "      <th>test</th>\n",
       "      <th>subject</th>\n",
       "      <th>subject_area</th>\n",
       "      <th>student_group</th>\n",
       "      <th>valid_tests</th>\n",
       "      <th>pct_met_exceeded</th>\n",
       "      <th>system</th>\n",
       "      <th>school</th>\n",
       "      <th>school_lvl</th>\n",
       "      <th>tot_enrolled</th>\n",
       "      <th>fte_teachers</th>\n",
       "      <th>stu_tchr_ratio</th>\n",
       "      <th>school_type</th>\n",
       "      <th>magnet</th>\n",
       "      <th>charter</th>\n",
       "      <th>virtual</th>\n",
       "      <th>title_1</th>\n",
       "      <th>lat</th>\n",
       "      <th>long</th>\n",
       "      <th>locale</th>\n",
       "      <th>geometry</th>\n",
       "      <th>pct_met_exceeded_w</th>\n",
       "      <th>stu_tchr_ratio_w</th>\n",
       "      <th>fte_teachers_w</th>\n",
       "      <th>index_right</th>\n",
       "    </tr>\n",
       "  </thead>\n",
       "  <tbody>\n",
       "    <tr>\n",
       "      <th>0</th>\n",
       "      <td>2018</td>\n",
       "      <td>Shelby County School District</td>\n",
       "      <td>Aspire Coleman</td>\n",
       "      <td>TNReady</td>\n",
       "      <td>ELA</td>\n",
       "      <td>ELA</td>\n",
       "      <td>All Students</td>\n",
       "      <td>321.0</td>\n",
       "      <td>0.112</td>\n",
       "      <td>TN-00985</td>\n",
       "      <td>TN-00985-8050</td>\n",
       "      <td>Elementary</td>\n",
       "      <td>570</td>\n",
       "      <td>27.5</td>\n",
       "      <td>20.73</td>\n",
       "      <td>1-Regular school</td>\n",
       "      <td>0</td>\n",
       "      <td>1</td>\n",
       "      <td>NOTVIRTUAL</td>\n",
       "      <td>1</td>\n",
       "      <td>35.2141</td>\n",
       "      <td>-89.923641</td>\n",
       "      <td>11-City: Large</td>\n",
       "      <td>POINT (-89.92364 35.21410)</td>\n",
       "      <td>35.952</td>\n",
       "      <td>6654.33</td>\n",
       "      <td>8827.5</td>\n",
       "      <td>42</td>\n",
       "    </tr>\n",
       "    <tr>\n",
       "      <th>1</th>\n",
       "      <td>2018</td>\n",
       "      <td>Shelby County School District</td>\n",
       "      <td>Aspire Coleman</td>\n",
       "      <td>TNReady</td>\n",
       "      <td>ELA</td>\n",
       "      <td>ELA</td>\n",
       "      <td>Black or African American</td>\n",
       "      <td>299.0</td>\n",
       "      <td>0.114</td>\n",
       "      <td>TN-00985</td>\n",
       "      <td>TN-00985-8050</td>\n",
       "      <td>Elementary</td>\n",
       "      <td>570</td>\n",
       "      <td>27.5</td>\n",
       "      <td>20.73</td>\n",
       "      <td>1-Regular school</td>\n",
       "      <td>0</td>\n",
       "      <td>1</td>\n",
       "      <td>NOTVIRTUAL</td>\n",
       "      <td>1</td>\n",
       "      <td>35.2141</td>\n",
       "      <td>-89.923641</td>\n",
       "      <td>11-City: Large</td>\n",
       "      <td>POINT (-89.92364 35.21410)</td>\n",
       "      <td>34.086</td>\n",
       "      <td>6198.27</td>\n",
       "      <td>8222.5</td>\n",
       "      <td>42</td>\n",
       "    </tr>\n",
       "    <tr>\n",
       "      <th>2</th>\n",
       "      <td>2018</td>\n",
       "      <td>Shelby County School District</td>\n",
       "      <td>Aspire Coleman</td>\n",
       "      <td>TNReady</td>\n",
       "      <td>ELA</td>\n",
       "      <td>ELA</td>\n",
       "      <td>Black/Hispanic/Native American</td>\n",
       "      <td>312.0</td>\n",
       "      <td>0.115</td>\n",
       "      <td>TN-00985</td>\n",
       "      <td>TN-00985-8050</td>\n",
       "      <td>Elementary</td>\n",
       "      <td>570</td>\n",
       "      <td>27.5</td>\n",
       "      <td>20.73</td>\n",
       "      <td>1-Regular school</td>\n",
       "      <td>0</td>\n",
       "      <td>1</td>\n",
       "      <td>NOTVIRTUAL</td>\n",
       "      <td>1</td>\n",
       "      <td>35.2141</td>\n",
       "      <td>-89.923641</td>\n",
       "      <td>11-City: Large</td>\n",
       "      <td>POINT (-89.92364 35.21410)</td>\n",
       "      <td>35.880</td>\n",
       "      <td>6467.76</td>\n",
       "      <td>8580.0</td>\n",
       "      <td>42</td>\n",
       "    </tr>\n",
       "    <tr>\n",
       "      <th>3</th>\n",
       "      <td>2018</td>\n",
       "      <td>Shelby County School District</td>\n",
       "      <td>Aspire Coleman</td>\n",
       "      <td>TNReady</td>\n",
       "      <td>ELA</td>\n",
       "      <td>ELA</td>\n",
       "      <td>Economically Disadvantaged</td>\n",
       "      <td>222.0</td>\n",
       "      <td>0.095</td>\n",
       "      <td>TN-00985</td>\n",
       "      <td>TN-00985-8050</td>\n",
       "      <td>Elementary</td>\n",
       "      <td>570</td>\n",
       "      <td>27.5</td>\n",
       "      <td>20.73</td>\n",
       "      <td>1-Regular school</td>\n",
       "      <td>0</td>\n",
       "      <td>1</td>\n",
       "      <td>NOTVIRTUAL</td>\n",
       "      <td>1</td>\n",
       "      <td>35.2141</td>\n",
       "      <td>-89.923641</td>\n",
       "      <td>11-City: Large</td>\n",
       "      <td>POINT (-89.92364 35.21410)</td>\n",
       "      <td>21.090</td>\n",
       "      <td>4602.06</td>\n",
       "      <td>6105.0</td>\n",
       "      <td>42</td>\n",
       "    </tr>\n",
       "    <tr>\n",
       "      <th>4</th>\n",
       "      <td>2018</td>\n",
       "      <td>Shelby County School District</td>\n",
       "      <td>Aspire Coleman</td>\n",
       "      <td>TNReady</td>\n",
       "      <td>ELA</td>\n",
       "      <td>ELA</td>\n",
       "      <td>English Learners with Transitional 1-4</td>\n",
       "      <td>11.0</td>\n",
       "      <td>0.182</td>\n",
       "      <td>TN-00985</td>\n",
       "      <td>TN-00985-8050</td>\n",
       "      <td>Elementary</td>\n",
       "      <td>570</td>\n",
       "      <td>27.5</td>\n",
       "      <td>20.73</td>\n",
       "      <td>1-Regular school</td>\n",
       "      <td>0</td>\n",
       "      <td>1</td>\n",
       "      <td>NOTVIRTUAL</td>\n",
       "      <td>1</td>\n",
       "      <td>35.2141</td>\n",
       "      <td>-89.923641</td>\n",
       "      <td>11-City: Large</td>\n",
       "      <td>POINT (-89.92364 35.21410)</td>\n",
       "      <td>2.002</td>\n",
       "      <td>228.03</td>\n",
       "      <td>302.5</td>\n",
       "      <td>42</td>\n",
       "    </tr>\n",
       "  </tbody>\n",
       "</table>\n",
       "</div>"
      ],
      "text/plain": [
       "   year                    system_name     school_name     test subject  \\\n",
       "0  2018  Shelby County School District  Aspire Coleman  TNReady     ELA   \n",
       "1  2018  Shelby County School District  Aspire Coleman  TNReady     ELA   \n",
       "2  2018  Shelby County School District  Aspire Coleman  TNReady     ELA   \n",
       "3  2018  Shelby County School District  Aspire Coleman  TNReady     ELA   \n",
       "4  2018  Shelby County School District  Aspire Coleman  TNReady     ELA   \n",
       "\n",
       "  subject_area                           student_group  valid_tests  \\\n",
       "0          ELA                            All Students        321.0   \n",
       "1          ELA               Black or African American        299.0   \n",
       "2          ELA          Black/Hispanic/Native American        312.0   \n",
       "3          ELA              Economically Disadvantaged        222.0   \n",
       "4          ELA  English Learners with Transitional 1-4         11.0   \n",
       "\n",
       "   pct_met_exceeded    system         school  school_lvl tot_enrolled  \\\n",
       "0             0.112  TN-00985  TN-00985-8050  Elementary          570   \n",
       "1             0.114  TN-00985  TN-00985-8050  Elementary          570   \n",
       "2             0.115  TN-00985  TN-00985-8050  Elementary          570   \n",
       "3             0.095  TN-00985  TN-00985-8050  Elementary          570   \n",
       "4             0.182  TN-00985  TN-00985-8050  Elementary          570   \n",
       "\n",
       "   fte_teachers  stu_tchr_ratio       school_type  magnet  charter  \\\n",
       "0          27.5           20.73  1-Regular school       0        1   \n",
       "1          27.5           20.73  1-Regular school       0        1   \n",
       "2          27.5           20.73  1-Regular school       0        1   \n",
       "3          27.5           20.73  1-Regular school       0        1   \n",
       "4          27.5           20.73  1-Regular school       0        1   \n",
       "\n",
       "      virtual title_1      lat       long          locale  \\\n",
       "0  NOTVIRTUAL       1  35.2141 -89.923641  11-City: Large   \n",
       "1  NOTVIRTUAL       1  35.2141 -89.923641  11-City: Large   \n",
       "2  NOTVIRTUAL       1  35.2141 -89.923641  11-City: Large   \n",
       "3  NOTVIRTUAL       1  35.2141 -89.923641  11-City: Large   \n",
       "4  NOTVIRTUAL       1  35.2141 -89.923641  11-City: Large   \n",
       "\n",
       "                     geometry  pct_met_exceeded_w  stu_tchr_ratio_w  \\\n",
       "0  POINT (-89.92364 35.21410)              35.952           6654.33   \n",
       "1  POINT (-89.92364 35.21410)              34.086           6198.27   \n",
       "2  POINT (-89.92364 35.21410)              35.880           6467.76   \n",
       "3  POINT (-89.92364 35.21410)              21.090           4602.06   \n",
       "4  POINT (-89.92364 35.21410)               2.002            228.03   \n",
       "\n",
       "   fte_teachers_w  index_right  \n",
       "0          8827.5           42  \n",
       "1          8222.5           42  \n",
       "2          8580.0           42  \n",
       "3          6105.0           42  \n",
       "4           302.5           42  "
      ]
     },
     "execution_count": 13,
     "metadata": {},
     "output_type": "execute_result"
    }
   ],
   "source": [
    "assessments.head()"
   ]
  },
  {
   "cell_type": "markdown",
   "metadata": {},
   "source": [
    "#### 🏫 List of columns in assessments (school level) for use in district analysis."
   ]
  },
  {
   "cell_type": "code",
   "execution_count": 14,
   "metadata": {},
   "outputs": [],
   "source": [
    "# Let's figure how how I can pivot this    \n",
    "districts = assessments[['locale',\n",
    "                         'year',\n",
    "                         'system_name', \n",
    "                         'school_lvl', \n",
    "                         'subject_area', \n",
    "                         'student_group', \n",
    "                         'pct_met_exceeded_w', \n",
    "                         'school_type',\n",
    "                         'magnet',\n",
    "                         'charter',\n",
    "                         'title_1',\n",
    "                         'fte_teachers_w',\n",
    "                         'stu_tchr_ratio_w',\n",
    "                         'valid_tests']]"
   ]
  },
  {
   "cell_type": "markdown",
   "metadata": {},
   "source": [
    "### 🏋️ Weighting Metrics Based on Valid Tests"
   ]
  },
  {
   "cell_type": "markdown",
   "metadata": {},
   "source": [
    "#### 📇 Indices for Weight Pivots"
   ]
  },
  {
   "cell_type": "code",
   "execution_count": 15,
   "metadata": {},
   "outputs": [],
   "source": [
    "# Indices for pivots\n",
    "indices = ['system_name',  # School District \n",
    "           'school_lvl', # Level of school (Elem, Middle, High)\n",
    "           'school_type', # Regular, alternative, special education\n",
    "           'magnet', # Is magnet?\n",
    "           'charter', # Is charter?\n",
    "           'title_1', # Is title 1?\n",
    "           'locale', # Location category of school (rural, large city, etc)\n",
    "           'subject_area', # Overall content area of \n",
    "           'student_group'] # Aggregate student groups (all students, students with disabilities, etc)"
   ]
  },
  {
   "cell_type": "markdown",
   "metadata": {},
   "source": [
    "#### 🏋️➕ Sum of Valid-Test-Weighted Scores for pct_met_exceeded, fte_teachers, and student_tchr_ratio "
   ]
  },
  {
   "cell_type": "code",
   "execution_count": 16,
   "metadata": {},
   "outputs": [],
   "source": [
    "# Sum of valid test scores (The 🏋️)\n",
    "weight = pd.pivot_table(\n",
    "    districts,\n",
    "    values='valid_tests',  # Column to calculate the sum of valid test scores\n",
    "    index=indices,\n",
    "    columns='year',\n",
    "    aggfunc=np.sum\n",
    ")\n",
    "\n",
    "# Sum of weighted scores pivot for 'pct_met_exceeded'\n",
    "sum_weighted_proficiency = pd.pivot_table(\n",
    "    districts,\n",
    "    values='pct_met_exceeded_w', # Weighted sum of students who met or exceeded expectations\n",
    "    index=indices,\n",
    "    columns='year',\n",
    "    aggfunc=np.sum\n",
    ")\n",
    "\n",
    "# Sum of weighted scores pivot for 'fte_teachers'\n",
    "sum_weighted_fte = pd.pivot_table(\n",
    "    districts,\n",
    "    values='fte_teachers_w', # Weighted sum of full-time equivalent teachers\n",
    "    index=indices,\n",
    "    columns='year',\n",
    "    aggfunc=np.sum\n",
    ")\n",
    "\n",
    "# Sum of weighted scores pivot for 'stu_tchr_ratio'\n",
    "sum_weighted_str = pd.pivot_table(\n",
    "    districts,\n",
    "    values='stu_tchr_ratio_w', # Weighted sum of student/teacher ratios\n",
    "    index=indices,\n",
    "    columns='year',\n",
    "    aggfunc=np.sum\n",
    ")\n",
    "\n",
    "# Create a multi-level column index\n",
    "column_index = pd.MultiIndex.from_product([['pct_met_exceeded', 'fte_teachers', 'stu_tchr_ratio'], sum_weighted_proficiency.columns])\n",
    "\n",
    "# Concatenate the pivot tables horizontally\n",
    "weighted_sums_pivot = pd.concat([sum_weighted_proficiency, sum_weighted_fte, sum_weighted_str], axis=1)\n",
    "weighted_sums_pivot.columns = column_index"
   ]
  },
  {
   "cell_type": "markdown",
   "metadata": {},
   "source": [
    "#### 🏋️⚖️ Weighted Averages for pct_met_exceeded_w, fte_teachers_w, stu_tchr_ratio_w"
   ]
  },
  {
   "cell_type": "code",
   "execution_count": 17,
   "metadata": {},
   "outputs": [
    {
     "data": {
      "text/html": [
       "<div>\n",
       "<style scoped>\n",
       "    .dataframe tbody tr th:only-of-type {\n",
       "        vertical-align: middle;\n",
       "    }\n",
       "\n",
       "    .dataframe tbody tr th {\n",
       "        vertical-align: top;\n",
       "    }\n",
       "\n",
       "    .dataframe thead tr th {\n",
       "        text-align: left;\n",
       "    }\n",
       "\n",
       "    .dataframe thead tr:last-of-type th {\n",
       "        text-align: right;\n",
       "    }\n",
       "</style>\n",
       "<table border=\"1\" class=\"dataframe\">\n",
       "  <thead>\n",
       "    <tr>\n",
       "      <th></th>\n",
       "      <th></th>\n",
       "      <th></th>\n",
       "      <th></th>\n",
       "      <th></th>\n",
       "      <th></th>\n",
       "      <th></th>\n",
       "      <th></th>\n",
       "      <th></th>\n",
       "      <th colspan=\"4\" halign=\"left\">pct_met_exceeded</th>\n",
       "      <th colspan=\"4\" halign=\"left\">fte_teachers</th>\n",
       "      <th colspan=\"4\" halign=\"left\">stu_tchr_ratio</th>\n",
       "    </tr>\n",
       "    <tr>\n",
       "      <th></th>\n",
       "      <th></th>\n",
       "      <th></th>\n",
       "      <th></th>\n",
       "      <th></th>\n",
       "      <th></th>\n",
       "      <th></th>\n",
       "      <th></th>\n",
       "      <th>year</th>\n",
       "      <th>2018</th>\n",
       "      <th>2019</th>\n",
       "      <th>2021</th>\n",
       "      <th>2022</th>\n",
       "      <th>2018</th>\n",
       "      <th>2019</th>\n",
       "      <th>2021</th>\n",
       "      <th>2022</th>\n",
       "      <th>2018</th>\n",
       "      <th>2019</th>\n",
       "      <th>2021</th>\n",
       "      <th>2022</th>\n",
       "    </tr>\n",
       "    <tr>\n",
       "      <th>system_name</th>\n",
       "      <th>school_lvl</th>\n",
       "      <th>school_type</th>\n",
       "      <th>magnet</th>\n",
       "      <th>charter</th>\n",
       "      <th>title_1</th>\n",
       "      <th>locale</th>\n",
       "      <th>subject_area</th>\n",
       "      <th>student_group</th>\n",
       "      <th></th>\n",
       "      <th></th>\n",
       "      <th></th>\n",
       "      <th></th>\n",
       "      <th></th>\n",
       "      <th></th>\n",
       "      <th></th>\n",
       "      <th></th>\n",
       "      <th></th>\n",
       "      <th></th>\n",
       "      <th></th>\n",
       "      <th></th>\n",
       "    </tr>\n",
       "  </thead>\n",
       "  <tbody>\n",
       "    <tr>\n",
       "      <th rowspan=\"5\" valign=\"top\">Alamo City School District</th>\n",
       "      <th rowspan=\"5\" valign=\"top\">Elementary</th>\n",
       "      <th rowspan=\"5\" valign=\"top\">1-Regular school</th>\n",
       "      <th rowspan=\"5\" valign=\"top\">0</th>\n",
       "      <th rowspan=\"5\" valign=\"top\">0</th>\n",
       "      <th rowspan=\"5\" valign=\"top\">1</th>\n",
       "      <th rowspan=\"5\" valign=\"top\">32-Town: Distant</th>\n",
       "      <th rowspan=\"5\" valign=\"top\">ELA</th>\n",
       "      <th>All Students</th>\n",
       "      <td>0.455</td>\n",
       "      <td>0.465</td>\n",
       "      <td>0.458</td>\n",
       "      <td>0.570</td>\n",
       "      <td>40.0</td>\n",
       "      <td>41.0</td>\n",
       "      <td>41.00</td>\n",
       "      <td>37.00</td>\n",
       "      <td>15.28</td>\n",
       "      <td>15.66</td>\n",
       "      <td>14.49</td>\n",
       "      <td>16.38</td>\n",
       "    </tr>\n",
       "    <tr>\n",
       "      <th>Black or African American</th>\n",
       "      <td>0.314</td>\n",
       "      <td>0.283</td>\n",
       "      <td>0.200</td>\n",
       "      <td>0.400</td>\n",
       "      <td>40.0</td>\n",
       "      <td>41.0</td>\n",
       "      <td>41.00</td>\n",
       "      <td>37.00</td>\n",
       "      <td>15.28</td>\n",
       "      <td>15.66</td>\n",
       "      <td>14.49</td>\n",
       "      <td>16.38</td>\n",
       "    </tr>\n",
       "    <tr>\n",
       "      <th>Black/Hispanic/Native American</th>\n",
       "      <td>0.312</td>\n",
       "      <td>0.274</td>\n",
       "      <td>0.215</td>\n",
       "      <td>0.426</td>\n",
       "      <td>40.0</td>\n",
       "      <td>41.0</td>\n",
       "      <td>41.00</td>\n",
       "      <td>37.00</td>\n",
       "      <td>15.28</td>\n",
       "      <td>15.66</td>\n",
       "      <td>14.49</td>\n",
       "      <td>16.38</td>\n",
       "    </tr>\n",
       "    <tr>\n",
       "      <th>Economically Disadvantaged</th>\n",
       "      <td>0.352</td>\n",
       "      <td>0.310</td>\n",
       "      <td>0.307</td>\n",
       "      <td>0.392</td>\n",
       "      <td>40.0</td>\n",
       "      <td>41.0</td>\n",
       "      <td>41.00</td>\n",
       "      <td>37.00</td>\n",
       "      <td>15.28</td>\n",
       "      <td>15.66</td>\n",
       "      <td>14.49</td>\n",
       "      <td>16.38</td>\n",
       "    </tr>\n",
       "    <tr>\n",
       "      <th>English Learner Transitional 1-4</th>\n",
       "      <td>0.355</td>\n",
       "      <td>0.333</td>\n",
       "      <td>0.111</td>\n",
       "      <td>0.357</td>\n",
       "      <td>40.0</td>\n",
       "      <td>41.0</td>\n",
       "      <td>41.00</td>\n",
       "      <td>37.00</td>\n",
       "      <td>15.28</td>\n",
       "      <td>15.66</td>\n",
       "      <td>14.49</td>\n",
       "      <td>16.38</td>\n",
       "    </tr>\n",
       "    <tr>\n",
       "      <th>...</th>\n",
       "      <th>...</th>\n",
       "      <th>...</th>\n",
       "      <th>...</th>\n",
       "      <th>...</th>\n",
       "      <th>...</th>\n",
       "      <th>...</th>\n",
       "      <th>...</th>\n",
       "      <th>...</th>\n",
       "      <td>...</td>\n",
       "      <td>...</td>\n",
       "      <td>...</td>\n",
       "      <td>...</td>\n",
       "      <td>...</td>\n",
       "      <td>...</td>\n",
       "      <td>...</td>\n",
       "      <td>...</td>\n",
       "      <td>...</td>\n",
       "      <td>...</td>\n",
       "      <td>...</td>\n",
       "      <td>...</td>\n",
       "    </tr>\n",
       "    <tr>\n",
       "      <th rowspan=\"5\" valign=\"top\">Wilson County School District in Lebanon</th>\n",
       "      <th rowspan=\"5\" valign=\"top\">High</th>\n",
       "      <th rowspan=\"5\" valign=\"top\">1-Regular school</th>\n",
       "      <th rowspan=\"5\" valign=\"top\">0</th>\n",
       "      <th rowspan=\"5\" valign=\"top\">0</th>\n",
       "      <th rowspan=\"5\" valign=\"top\">1</th>\n",
       "      <th rowspan=\"5\" valign=\"top\">31-Town: Fringe</th>\n",
       "      <th rowspan=\"5\" valign=\"top\">Science</th>\n",
       "      <th>Non-English Learners/Transitional 1-4</th>\n",
       "      <td>NaN</td>\n",
       "      <td>NaN</td>\n",
       "      <td>0.431</td>\n",
       "      <td>0.471</td>\n",
       "      <td>NaN</td>\n",
       "      <td>NaN</td>\n",
       "      <td>101.73</td>\n",
       "      <td>94.78</td>\n",
       "      <td>NaN</td>\n",
       "      <td>NaN</td>\n",
       "      <td>15.54</td>\n",
       "      <td>18.66</td>\n",
       "    </tr>\n",
       "    <tr>\n",
       "      <th>Non-Students with Disabilities</th>\n",
       "      <td>NaN</td>\n",
       "      <td>NaN</td>\n",
       "      <td>0.428</td>\n",
       "      <td>0.469</td>\n",
       "      <td>NaN</td>\n",
       "      <td>NaN</td>\n",
       "      <td>101.73</td>\n",
       "      <td>94.78</td>\n",
       "      <td>NaN</td>\n",
       "      <td>NaN</td>\n",
       "      <td>15.54</td>\n",
       "      <td>18.66</td>\n",
       "    </tr>\n",
       "    <tr>\n",
       "      <th>Students with Disabilities</th>\n",
       "      <td>NaN</td>\n",
       "      <td>NaN</td>\n",
       "      <td>0.156</td>\n",
       "      <td>0.235</td>\n",
       "      <td>NaN</td>\n",
       "      <td>NaN</td>\n",
       "      <td>101.73</td>\n",
       "      <td>94.78</td>\n",
       "      <td>NaN</td>\n",
       "      <td>NaN</td>\n",
       "      <td>15.54</td>\n",
       "      <td>18.66</td>\n",
       "    </tr>\n",
       "    <tr>\n",
       "      <th>Super Subgroup</th>\n",
       "      <td>NaN</td>\n",
       "      <td>NaN</td>\n",
       "      <td>0.289</td>\n",
       "      <td>0.317</td>\n",
       "      <td>NaN</td>\n",
       "      <td>NaN</td>\n",
       "      <td>101.73</td>\n",
       "      <td>94.78</td>\n",
       "      <td>NaN</td>\n",
       "      <td>NaN</td>\n",
       "      <td>15.54</td>\n",
       "      <td>18.66</td>\n",
       "    </tr>\n",
       "    <tr>\n",
       "      <th>White</th>\n",
       "      <td>NaN</td>\n",
       "      <td>NaN</td>\n",
       "      <td>0.488</td>\n",
       "      <td>0.520</td>\n",
       "      <td>NaN</td>\n",
       "      <td>NaN</td>\n",
       "      <td>101.73</td>\n",
       "      <td>94.78</td>\n",
       "      <td>NaN</td>\n",
       "      <td>NaN</td>\n",
       "      <td>15.54</td>\n",
       "      <td>18.66</td>\n",
       "    </tr>\n",
       "  </tbody>\n",
       "</table>\n",
       "<p>55834 rows × 12 columns</p>\n",
       "</div>"
      ],
      "text/plain": [
       "                                                                                                                                                                pct_met_exceeded  \\\n",
       "year                                                                                                                                                                        2018   \n",
       "system_name                              school_lvl school_type      magnet charter title_1 locale           subject_area student_group                                            \n",
       "Alamo City School District               Elementary 1-Regular school 0      0       1       32-Town: Distant ELA          All Students                                     0.455   \n",
       "                                                                                                                          Black or African American                        0.314   \n",
       "                                                                                                                          Black/Hispanic/Native American                   0.312   \n",
       "                                                                                                                          Economically Disadvantaged                       0.352   \n",
       "                                                                                                                          English Learner Transitional 1-4                 0.355   \n",
       "...                                                                                                                                                                          ...   \n",
       "Wilson County School District in Lebanon High       1-Regular school 0      0       1       31-Town: Fringe  Science      Non-English Learners/Transitional 1-4              NaN   \n",
       "                                                                                                                          Non-Students with Disabilities                     NaN   \n",
       "                                                                                                                          Students with Disabilities                         NaN   \n",
       "                                                                                                                          Super Subgroup                                     NaN   \n",
       "                                                                                                                          White                                              NaN   \n",
       "\n",
       "                                                                                                                                                                        \\\n",
       "year                                                                                                                                                              2019   \n",
       "system_name                              school_lvl school_type      magnet charter title_1 locale           subject_area student_group                                  \n",
       "Alamo City School District               Elementary 1-Regular school 0      0       1       32-Town: Distant ELA          All Students                           0.465   \n",
       "                                                                                                                          Black or African American              0.283   \n",
       "                                                                                                                          Black/Hispanic/Native American         0.274   \n",
       "                                                                                                                          Economically Disadvantaged             0.310   \n",
       "                                                                                                                          English Learner Transitional 1-4       0.333   \n",
       "...                                                                                                                                                                ...   \n",
       "Wilson County School District in Lebanon High       1-Regular school 0      0       1       31-Town: Fringe  Science      Non-English Learners/Transitional 1-4    NaN   \n",
       "                                                                                                                          Non-Students with Disabilities           NaN   \n",
       "                                                                                                                          Students with Disabilities               NaN   \n",
       "                                                                                                                          Super Subgroup                           NaN   \n",
       "                                                                                                                          White                                    NaN   \n",
       "\n",
       "                                                                                                                                                                        \\\n",
       "year                                                                                                                                                              2021   \n",
       "system_name                              school_lvl school_type      magnet charter title_1 locale           subject_area student_group                                  \n",
       "Alamo City School District               Elementary 1-Regular school 0      0       1       32-Town: Distant ELA          All Students                           0.458   \n",
       "                                                                                                                          Black or African American              0.200   \n",
       "                                                                                                                          Black/Hispanic/Native American         0.215   \n",
       "                                                                                                                          Economically Disadvantaged             0.307   \n",
       "                                                                                                                          English Learner Transitional 1-4       0.111   \n",
       "...                                                                                                                                                                ...   \n",
       "Wilson County School District in Lebanon High       1-Regular school 0      0       1       31-Town: Fringe  Science      Non-English Learners/Transitional 1-4  0.431   \n",
       "                                                                                                                          Non-Students with Disabilities         0.428   \n",
       "                                                                                                                          Students with Disabilities             0.156   \n",
       "                                                                                                                          Super Subgroup                         0.289   \n",
       "                                                                                                                          White                                  0.488   \n",
       "\n",
       "                                                                                                                                                                        \\\n",
       "year                                                                                                                                                              2022   \n",
       "system_name                              school_lvl school_type      magnet charter title_1 locale           subject_area student_group                                  \n",
       "Alamo City School District               Elementary 1-Regular school 0      0       1       32-Town: Distant ELA          All Students                           0.570   \n",
       "                                                                                                                          Black or African American              0.400   \n",
       "                                                                                                                          Black/Hispanic/Native American         0.426   \n",
       "                                                                                                                          Economically Disadvantaged             0.392   \n",
       "                                                                                                                          English Learner Transitional 1-4       0.357   \n",
       "...                                                                                                                                                                ...   \n",
       "Wilson County School District in Lebanon High       1-Regular school 0      0       1       31-Town: Fringe  Science      Non-English Learners/Transitional 1-4  0.471   \n",
       "                                                                                                                          Non-Students with Disabilities         0.469   \n",
       "                                                                                                                          Students with Disabilities             0.235   \n",
       "                                                                                                                          Super Subgroup                         0.317   \n",
       "                                                                                                                          White                                  0.520   \n",
       "\n",
       "                                                                                                                                                                fte_teachers  \\\n",
       "year                                                                                                                                                                    2018   \n",
       "system_name                              school_lvl school_type      magnet charter title_1 locale           subject_area student_group                                        \n",
       "Alamo City School District               Elementary 1-Regular school 0      0       1       32-Town: Distant ELA          All Students                                  40.0   \n",
       "                                                                                                                          Black or African American                     40.0   \n",
       "                                                                                                                          Black/Hispanic/Native American                40.0   \n",
       "                                                                                                                          Economically Disadvantaged                    40.0   \n",
       "                                                                                                                          English Learner Transitional 1-4              40.0   \n",
       "...                                                                                                                                                                      ...   \n",
       "Wilson County School District in Lebanon High       1-Regular school 0      0       1       31-Town: Fringe  Science      Non-English Learners/Transitional 1-4          NaN   \n",
       "                                                                                                                          Non-Students with Disabilities                 NaN   \n",
       "                                                                                                                          Students with Disabilities                     NaN   \n",
       "                                                                                                                          Super Subgroup                                 NaN   \n",
       "                                                                                                                          White                                          NaN   \n",
       "\n",
       "                                                                                                                                                                       \\\n",
       "year                                                                                                                                                             2019   \n",
       "system_name                              school_lvl school_type      magnet charter title_1 locale           subject_area student_group                                 \n",
       "Alamo City School District               Elementary 1-Regular school 0      0       1       32-Town: Distant ELA          All Students                           41.0   \n",
       "                                                                                                                          Black or African American              41.0   \n",
       "                                                                                                                          Black/Hispanic/Native American         41.0   \n",
       "                                                                                                                          Economically Disadvantaged             41.0   \n",
       "                                                                                                                          English Learner Transitional 1-4       41.0   \n",
       "...                                                                                                                                                               ...   \n",
       "Wilson County School District in Lebanon High       1-Regular school 0      0       1       31-Town: Fringe  Science      Non-English Learners/Transitional 1-4   NaN   \n",
       "                                                                                                                          Non-Students with Disabilities          NaN   \n",
       "                                                                                                                          Students with Disabilities              NaN   \n",
       "                                                                                                                          Super Subgroup                          NaN   \n",
       "                                                                                                                          White                                   NaN   \n",
       "\n",
       "                                                                                                                                                                         \\\n",
       "year                                                                                                                                                               2021   \n",
       "system_name                              school_lvl school_type      magnet charter title_1 locale           subject_area student_group                                   \n",
       "Alamo City School District               Elementary 1-Regular school 0      0       1       32-Town: Distant ELA          All Students                            41.00   \n",
       "                                                                                                                          Black or African American               41.00   \n",
       "                                                                                                                          Black/Hispanic/Native American          41.00   \n",
       "                                                                                                                          Economically Disadvantaged              41.00   \n",
       "                                                                                                                          English Learner Transitional 1-4        41.00   \n",
       "...                                                                                                                                                                 ...   \n",
       "Wilson County School District in Lebanon High       1-Regular school 0      0       1       31-Town: Fringe  Science      Non-English Learners/Transitional 1-4  101.73   \n",
       "                                                                                                                          Non-Students with Disabilities         101.73   \n",
       "                                                                                                                          Students with Disabilities             101.73   \n",
       "                                                                                                                          Super Subgroup                         101.73   \n",
       "                                                                                                                          White                                  101.73   \n",
       "\n",
       "                                                                                                                                                                        \\\n",
       "year                                                                                                                                                              2022   \n",
       "system_name                              school_lvl school_type      magnet charter title_1 locale           subject_area student_group                                  \n",
       "Alamo City School District               Elementary 1-Regular school 0      0       1       32-Town: Distant ELA          All Students                           37.00   \n",
       "                                                                                                                          Black or African American              37.00   \n",
       "                                                                                                                          Black/Hispanic/Native American         37.00   \n",
       "                                                                                                                          Economically Disadvantaged             37.00   \n",
       "                                                                                                                          English Learner Transitional 1-4       37.00   \n",
       "...                                                                                                                                                                ...   \n",
       "Wilson County School District in Lebanon High       1-Regular school 0      0       1       31-Town: Fringe  Science      Non-English Learners/Transitional 1-4  94.78   \n",
       "                                                                                                                          Non-Students with Disabilities         94.78   \n",
       "                                                                                                                          Students with Disabilities             94.78   \n",
       "                                                                                                                          Super Subgroup                         94.78   \n",
       "                                                                                                                          White                                  94.78   \n",
       "\n",
       "                                                                                                                                                                stu_tchr_ratio  \\\n",
       "year                                                                                                                                                                      2018   \n",
       "system_name                              school_lvl school_type      magnet charter title_1 locale           subject_area student_group                                          \n",
       "Alamo City School District               Elementary 1-Regular school 0      0       1       32-Town: Distant ELA          All Students                                   15.28   \n",
       "                                                                                                                          Black or African American                      15.28   \n",
       "                                                                                                                          Black/Hispanic/Native American                 15.28   \n",
       "                                                                                                                          Economically Disadvantaged                     15.28   \n",
       "                                                                                                                          English Learner Transitional 1-4               15.28   \n",
       "...                                                                                                                                                                        ...   \n",
       "Wilson County School District in Lebanon High       1-Regular school 0      0       1       31-Town: Fringe  Science      Non-English Learners/Transitional 1-4            NaN   \n",
       "                                                                                                                          Non-Students with Disabilities                   NaN   \n",
       "                                                                                                                          Students with Disabilities                       NaN   \n",
       "                                                                                                                          Super Subgroup                                   NaN   \n",
       "                                                                                                                          White                                            NaN   \n",
       "\n",
       "                                                                                                                                                                        \\\n",
       "year                                                                                                                                                              2019   \n",
       "system_name                              school_lvl school_type      magnet charter title_1 locale           subject_area student_group                                  \n",
       "Alamo City School District               Elementary 1-Regular school 0      0       1       32-Town: Distant ELA          All Students                           15.66   \n",
       "                                                                                                                          Black or African American              15.66   \n",
       "                                                                                                                          Black/Hispanic/Native American         15.66   \n",
       "                                                                                                                          Economically Disadvantaged             15.66   \n",
       "                                                                                                                          English Learner Transitional 1-4       15.66   \n",
       "...                                                                                                                                                                ...   \n",
       "Wilson County School District in Lebanon High       1-Regular school 0      0       1       31-Town: Fringe  Science      Non-English Learners/Transitional 1-4    NaN   \n",
       "                                                                                                                          Non-Students with Disabilities           NaN   \n",
       "                                                                                                                          Students with Disabilities               NaN   \n",
       "                                                                                                                          Super Subgroup                           NaN   \n",
       "                                                                                                                          White                                    NaN   \n",
       "\n",
       "                                                                                                                                                                        \\\n",
       "year                                                                                                                                                              2021   \n",
       "system_name                              school_lvl school_type      magnet charter title_1 locale           subject_area student_group                                  \n",
       "Alamo City School District               Elementary 1-Regular school 0      0       1       32-Town: Distant ELA          All Students                           14.49   \n",
       "                                                                                                                          Black or African American              14.49   \n",
       "                                                                                                                          Black/Hispanic/Native American         14.49   \n",
       "                                                                                                                          Economically Disadvantaged             14.49   \n",
       "                                                                                                                          English Learner Transitional 1-4       14.49   \n",
       "...                                                                                                                                                                ...   \n",
       "Wilson County School District in Lebanon High       1-Regular school 0      0       1       31-Town: Fringe  Science      Non-English Learners/Transitional 1-4  15.54   \n",
       "                                                                                                                          Non-Students with Disabilities         15.54   \n",
       "                                                                                                                          Students with Disabilities             15.54   \n",
       "                                                                                                                          Super Subgroup                         15.54   \n",
       "                                                                                                                          White                                  15.54   \n",
       "\n",
       "                                                                                                                                                                        \n",
       "year                                                                                                                                                              2022  \n",
       "system_name                              school_lvl school_type      magnet charter title_1 locale           subject_area student_group                                 \n",
       "Alamo City School District               Elementary 1-Regular school 0      0       1       32-Town: Distant ELA          All Students                           16.38  \n",
       "                                                                                                                          Black or African American              16.38  \n",
       "                                                                                                                          Black/Hispanic/Native American         16.38  \n",
       "                                                                                                                          Economically Disadvantaged             16.38  \n",
       "                                                                                                                          English Learner Transitional 1-4       16.38  \n",
       "...                                                                                                                                                                ...  \n",
       "Wilson County School District in Lebanon High       1-Regular school 0      0       1       31-Town: Fringe  Science      Non-English Learners/Transitional 1-4  18.66  \n",
       "                                                                                                                          Non-Students with Disabilities         18.66  \n",
       "                                                                                                                          Students with Disabilities             18.66  \n",
       "                                                                                                                          Super Subgroup                         18.66  \n",
       "                                                                                                                          White                                  18.66  \n",
       "\n",
       "[55834 rows x 12 columns]"
      ]
     },
     "execution_count": 17,
     "metadata": {},
     "output_type": "execute_result"
    }
   ],
   "source": [
    "# Divide sum_weighted_proficiency by weight\n",
    "weighted_avg_proficiency = sum_weighted_proficiency / weight\n",
    "\n",
    "# Divide sum_weighted_fte by weight\n",
    "weighted_avg_fte = sum_weighted_fte / weight\n",
    "\n",
    "# Divide sum_weighted_str by weight\n",
    "weighted_avg_str = sum_weighted_str / weight\n",
    "\n",
    "# Create a multi-level column index for the weighted average pivots\n",
    "column_index = pd.MultiIndex.from_product([['pct_met_exceeded', 'fte_teachers', 'stu_tchr_ratio'], weighted_avg_proficiency.columns])\n",
    "\n",
    "# Concatenate the weighted average pivots horizontally\n",
    "weighted_avg_pivot = pd.concat([weighted_avg_proficiency, weighted_avg_fte, weighted_avg_str], axis=1)\n",
    "weighted_avg_pivot.columns = column_index\n",
    "\n",
    "weighted_avg_pivot"
   ]
  },
  {
   "cell_type": "markdown",
   "metadata": {},
   "source": [
    "### 🤺 Slicing and Lagging\n",
    "> \"... the heavy-sword splendid.  The hard-edgèd weapon;  with Hrunting to aid me, I shall gain me glory .. \"\n",
    "    >> *-Beowulf*"
   ]
  },
  {
   "cell_type": "markdown",
   "metadata": {},
   "source": [
    "#### 🪟 Setting Variables for lag window slicing\n",
    "> 🗒️ **lvpp lags** → The lags for **Science** related metrics require some special treatment. The last valid prepandemic measurement for **ELA**, **Math**, and **Social Studies** was in **2019**.   **Science**, however, was not assessed in **2019**, but was in **2018**.  I cannnot directly compare lag windows for all subjects that start in **2019**.  In order to include metrics related to **Science** for fair comparisons, its window must start at **2018**.  Therefore, **lvpp** variables will be used as treatment for window the **last valid prepandemic measure** for each content area (e.g. 2018 or 2019 respectively).\n",
    "\n",
    "> 🗂️ lvpp → last valid pre-pandemic assessment to 2021 (first full school year after 2020 school closure)\n",
    "\n",
    "> 🗂️ intra → difference between first and second years school were reopend post-pandemic (2021 - 2022)\n",
    "\n",
    "> 🗂️ pre_post → difference between last valid pre-pandemic scores and last year in the dataset (lvpp to 2022)"
   ]
  },
  {
   "cell_type": "code",
   "execution_count": 18,
   "metadata": {},
   "outputs": [],
   "source": [
    "# Set the stop year for all metrics\n",
    "lvpp_stop = 2021\n",
    "\n",
    "# Set the start year for Math, ELA, and Social Studies related metrics (MESS)\n",
    "lvpp_start_mess = 2019\n",
    "\n",
    "# Set the start year for Science-related metrics\n",
    "lvpp_start_science = 2018\n",
    "\n",
    "# Set the start and stop year for the \"intra\" lag\n",
    "intra_start = 2021\n",
    "intra_stop = 2022\n",
    "\n",
    "# Science Slicer\n",
    "science_slice = (slice(None), slice(None), slice(None), slice(None), slice(None), slice(None), slice(None), 'Science')\n",
    "\n",
    "# Non-Science slicer\n",
    "subjects_slice = (slice(None), slice(None), slice(None), slice(None), slice(None), slice(None), slice(None, 'Science'))"
   ]
  },
  {
   "cell_type": "markdown",
   "metadata": {},
   "source": [
    "#### 📝 Assessment Proficiency Lags\n",
    "\n",
    "> 🗂️ pct_met_exceeded → Changes in weighted average full-time students who displayed **at-least minimum expected proficiency** over time."
   ]
  },
  {
   "cell_type": "code",
   "execution_count": 19,
   "metadata": {},
   "outputs": [],
   "source": [
    "# Calculate separate lag scores for Science-related metrics.\n",
    "\n",
    "# Last Valid Pre-Pandemic met_exceded measurement (lvpp)\n",
    "weighted_avg_pivot.loc[science_slice, ('pct_met_exceeded', 'lvpp')] = (\n",
    "    weighted_avg_pivot.loc[science_slice, ('pct_met_exceeded', lvpp_stop)] -\n",
    "    weighted_avg_pivot.loc[science_slice, ('pct_met_exceeded', lvpp_start_science)]\n",
    ")\n",
    "\n",
    "# Calculate the lvpp scores for Math, ELA, and Social Studies related metrics\n",
    "weighted_avg_pivot.loc[\n",
    "    subjects_slice + (['Math', 'ELA', 'Social Studies'],),\n",
    "    ('pct_met_exceeded', 'lvpp')\n",
    "] = (\n",
    "    weighted_avg_pivot.loc[\n",
    "        subjects_slice + (['Math', 'ELA', 'Social Studies'],),\n",
    "        ('pct_met_exceeded', lvpp_stop)\n",
    "    ] - weighted_avg_pivot.loc[\n",
    "        subjects_slice + (['Math', 'ELA', 'Social Studies'],),\n",
    "        ('pct_met_exceeded', lvpp_start_mess)\n",
    "    ]\n",
    ")\n",
    "\n",
    "# Calculate the intra lag score for 'pct_met_exceeded'\n",
    "weighted_avg_pivot.loc[subjects_slice, ('pct_met_exceeded', 'intra')] = (\n",
    "    weighted_avg_pivot.loc[subjects_slice, ('pct_met_exceeded', intra_stop)] -\n",
    "    weighted_avg_pivot.loc[subjects_slice, ('pct_met_exceeded', intra_start)]\n",
    ")\n",
    "\n",
    "# Calculate the 'pre-post' assessment lag scores\n",
    "weighted_avg_pivot[('pct_met_exceeded', 'pre-post')] = (\n",
    "    weighted_avg_pivot[('pct_met_exceeded', 2022)] -\n",
    "    weighted_avg_pivot[('pct_met_exceeded', 'lvpp')]\n",
    ")"
   ]
  },
  {
   "cell_type": "markdown",
   "metadata": {},
   "source": [
    "#### 🧑‍🏫 Full Time Equivalent Teachers Lag\n",
    "\n",
    "> 🗂️ fte_teachers → Changes in weighted-average of **full-time-equivalent teachers** over time."
   ]
  },
  {
   "cell_type": "code",
   "execution_count": 20,
   "metadata": {},
   "outputs": [],
   "source": [
    "# Last Valid Pre-Pandemic science-related full-time equivalent teachers measurement (lvpp)\n",
    "weighted_avg_pivot.loc[science_slice, ('fte_teachers', 'lvpp')] = (\n",
    "    weighted_avg_pivot.loc[science_slice, ('fte_teachers', lvpp_stop)] -\n",
    "    weighted_avg_pivot.loc[science_slice, ('fte_teachers', lvpp_start_science)]\n",
    ")\n",
    "\n",
    "# Last Valid Pre-Pandemic full-time equivalent teacher measurement (lvpp)\n",
    "weighted_avg_pivot.loc[\n",
    "    subjects_slice + (['Math', 'ELA', 'Social Studies'],),\n",
    "    ('fte_teachers', 'lvpp')\n",
    "] = (\n",
    "    weighted_avg_pivot.loc[\n",
    "        subjects_slice + (['Math', 'ELA', 'Social Studies'],),\n",
    "        ('fte_teachers', lvpp_stop)\n",
    "    ] - weighted_avg_pivot.loc[\n",
    "        subjects_slice + (['Math', 'ELA', 'Social Studies'],),\n",
    "        ('fte_teachers', lvpp_start_mess)\n",
    "    ]\n",
    ")\n",
    "\n",
    "# Calculate the intra lag score for 'fte_teachers'\n",
    "weighted_avg_pivot.loc[subjects_slice, ('fte_teachers', 'intra')] = (\n",
    "    weighted_avg_pivot.loc[subjects_slice, ('fte_teachers', intra_stop)] -\n",
    "    weighted_avg_pivot.loc[subjects_slice, ('fte_teachers', intra_start)]\n",
    ")\n",
    "\n",
    "# Calculate the 'pre-post' assessment lag scores for full-time equivalent teachers\n",
    "weighted_avg_pivot[('fte_teachers', 'pre-post')] = (\n",
    "    weighted_avg_pivot[('fte_teachers', 2022)] -\n",
    "    weighted_avg_pivot[('fte_teachers', 'lvpp')]\n",
    ")"
   ]
  },
  {
   "cell_type": "markdown",
   "metadata": {},
   "source": [
    "#### 🧑‍🎓/🧑‍🏫 Student Teacher Ratio Lag\n",
    "\n",
    "> 🗂️ stu_tchr_ratio → Changes in weighted-average **student-to-teacher ratio** over time."
   ]
  },
  {
   "cell_type": "code",
   "execution_count": 21,
   "metadata": {},
   "outputs": [],
   "source": [
    "# Last Valid Pre-Pandemic science-related student/teacher ratio measurement (lvpp)\n",
    "weighted_avg_pivot.loc[science_slice, ('stu_tchr_ratio', 'lvpp')] = (\n",
    "    weighted_avg_pivot.loc[science_slice, ('stu_tchr_ratio', lvpp_stop)] -\n",
    "    weighted_avg_pivot.loc[science_slice, ('stu_tchr_ratio', lvpp_start_science)]\n",
    ")\n",
    "\n",
    "# Last Valid Pre-Pandemic non science-related student/teacher ratio measurement (lvpp)\n",
    "weighted_avg_pivot.loc[\n",
    "    subjects_slice + (['Math', 'ELA', 'Social Studies'],),\n",
    "    ('stu_tchr_ratio', 'lvpp')\n",
    "] = (\n",
    "    weighted_avg_pivot.loc[\n",
    "        subjects_slice + (['Math', 'ELA', 'Social Studies'],),\n",
    "        ('stu_tchr_ratio', lvpp_stop)\n",
    "    ] - weighted_avg_pivot.loc[\n",
    "        subjects_slice + (['Math', 'ELA', 'Social Studies'],),\n",
    "        ('stu_tchr_ratio', lvpp_start_mess)\n",
    "    ]\n",
    ")\n",
    "\n",
    "# Calculate the intra lag score for 'stu_tchr_ratio'\n",
    "weighted_avg_pivot.loc[subjects_slice, ('stu_tchr_ratio', 'intra')] = (\n",
    "    weighted_avg_pivot.loc[subjects_slice, ('stu_tchr_ratio', intra_stop)] -\n",
    "    weighted_avg_pivot.loc[subjects_slice, ('stu_tchr_ratio', intra_start)]\n",
    ")\n",
    "\n",
    "# Calculate the 'pre-post' assessment lag scores for student/teacher ratios\n",
    "weighted_avg_pivot[('stu_tchr_ratio', 'pre-post')] = (\n",
    "    weighted_avg_pivot[('stu_tchr_ratio', 2022)] -\n",
    "    weighted_avg_pivot[('stu_tchr_ratio', 'lvpp')]\n",
    ")\n"
   ]
  },
  {
   "cell_type": "markdown",
   "metadata": {},
   "source": [
    "### 🔨 \"Un-Pivoting\"  Weighted Average Pivot to Prepare for Geometry \n",
    "🗂️ weighted_avg_pivot → weighted_average_metrics"
   ]
  },
  {
   "cell_type": "code",
   "execution_count": 22,
   "metadata": {},
   "outputs": [
    {
     "data": {
      "text/html": [
       "<div>\n",
       "<style scoped>\n",
       "    .dataframe tbody tr th:only-of-type {\n",
       "        vertical-align: middle;\n",
       "    }\n",
       "\n",
       "    .dataframe tbody tr th {\n",
       "        vertical-align: top;\n",
       "    }\n",
       "\n",
       "    .dataframe thead th {\n",
       "        text-align: right;\n",
       "    }\n",
       "</style>\n",
       "<table border=\"1\" class=\"dataframe\">\n",
       "  <thead>\n",
       "    <tr style=\"text-align: right;\">\n",
       "      <th></th>\n",
       "      <th>system_name</th>\n",
       "      <th>school_lvl</th>\n",
       "      <th>school_type</th>\n",
       "      <th>magnet</th>\n",
       "      <th>charter</th>\n",
       "      <th>title_1</th>\n",
       "      <th>locale</th>\n",
       "      <th>subject_area</th>\n",
       "      <th>student_group</th>\n",
       "      <th>pct_met_exceeded_2018</th>\n",
       "      <th>pct_met_exceeded_2019</th>\n",
       "      <th>pct_met_exceeded_2021</th>\n",
       "      <th>pct_met_exceeded_2022</th>\n",
       "      <th>fte_teachers_2018</th>\n",
       "      <th>fte_teachers_2019</th>\n",
       "      <th>fte_teachers_2021</th>\n",
       "      <th>fte_teachers_2022</th>\n",
       "      <th>stu_tchr_ratio_2018</th>\n",
       "      <th>stu_tchr_ratio_2019</th>\n",
       "      <th>stu_tchr_ratio_2021</th>\n",
       "      <th>stu_tchr_ratio_2022</th>\n",
       "      <th>pct_met_exceeded_lvpp</th>\n",
       "      <th>pct_met_exceeded_intra</th>\n",
       "      <th>pct_met_exceeded_pre-post</th>\n",
       "      <th>fte_teachers_lvpp</th>\n",
       "      <th>fte_teachers_intra</th>\n",
       "      <th>fte_teachers_pre-post</th>\n",
       "      <th>stu_tchr_ratio_lvpp</th>\n",
       "      <th>stu_tchr_ratio_intra</th>\n",
       "      <th>stu_tchr_ratio_pre-post</th>\n",
       "    </tr>\n",
       "  </thead>\n",
       "  <tbody>\n",
       "    <tr>\n",
       "      <th>0</th>\n",
       "      <td>Alamo City School District</td>\n",
       "      <td>Elementary</td>\n",
       "      <td>1-Regular school</td>\n",
       "      <td>0</td>\n",
       "      <td>0</td>\n",
       "      <td>1</td>\n",
       "      <td>32-Town: Distant</td>\n",
       "      <td>ELA</td>\n",
       "      <td>All Students</td>\n",
       "      <td>0.455</td>\n",
       "      <td>0.465</td>\n",
       "      <td>0.458</td>\n",
       "      <td>0.570</td>\n",
       "      <td>40.0</td>\n",
       "      <td>41.0</td>\n",
       "      <td>41.0</td>\n",
       "      <td>37.0</td>\n",
       "      <td>15.28</td>\n",
       "      <td>15.66</td>\n",
       "      <td>14.49</td>\n",
       "      <td>16.38</td>\n",
       "      <td>-0.007</td>\n",
       "      <td>0.112</td>\n",
       "      <td>0.577</td>\n",
       "      <td>0.0</td>\n",
       "      <td>-4.0</td>\n",
       "      <td>37.0</td>\n",
       "      <td>-1.17</td>\n",
       "      <td>1.89</td>\n",
       "      <td>17.55</td>\n",
       "    </tr>\n",
       "    <tr>\n",
       "      <th>1</th>\n",
       "      <td>Alamo City School District</td>\n",
       "      <td>Elementary</td>\n",
       "      <td>1-Regular school</td>\n",
       "      <td>0</td>\n",
       "      <td>0</td>\n",
       "      <td>1</td>\n",
       "      <td>32-Town: Distant</td>\n",
       "      <td>ELA</td>\n",
       "      <td>Black or African American</td>\n",
       "      <td>0.314</td>\n",
       "      <td>0.283</td>\n",
       "      <td>0.200</td>\n",
       "      <td>0.400</td>\n",
       "      <td>40.0</td>\n",
       "      <td>41.0</td>\n",
       "      <td>41.0</td>\n",
       "      <td>37.0</td>\n",
       "      <td>15.28</td>\n",
       "      <td>15.66</td>\n",
       "      <td>14.49</td>\n",
       "      <td>16.38</td>\n",
       "      <td>-0.083</td>\n",
       "      <td>0.200</td>\n",
       "      <td>0.483</td>\n",
       "      <td>0.0</td>\n",
       "      <td>-4.0</td>\n",
       "      <td>37.0</td>\n",
       "      <td>-1.17</td>\n",
       "      <td>1.89</td>\n",
       "      <td>17.55</td>\n",
       "    </tr>\n",
       "    <tr>\n",
       "      <th>2</th>\n",
       "      <td>Alamo City School District</td>\n",
       "      <td>Elementary</td>\n",
       "      <td>1-Regular school</td>\n",
       "      <td>0</td>\n",
       "      <td>0</td>\n",
       "      <td>1</td>\n",
       "      <td>32-Town: Distant</td>\n",
       "      <td>ELA</td>\n",
       "      <td>Black/Hispanic/Native American</td>\n",
       "      <td>0.312</td>\n",
       "      <td>0.274</td>\n",
       "      <td>0.215</td>\n",
       "      <td>0.426</td>\n",
       "      <td>40.0</td>\n",
       "      <td>41.0</td>\n",
       "      <td>41.0</td>\n",
       "      <td>37.0</td>\n",
       "      <td>15.28</td>\n",
       "      <td>15.66</td>\n",
       "      <td>14.49</td>\n",
       "      <td>16.38</td>\n",
       "      <td>-0.059</td>\n",
       "      <td>0.211</td>\n",
       "      <td>0.485</td>\n",
       "      <td>0.0</td>\n",
       "      <td>-4.0</td>\n",
       "      <td>37.0</td>\n",
       "      <td>-1.17</td>\n",
       "      <td>1.89</td>\n",
       "      <td>17.55</td>\n",
       "    </tr>\n",
       "    <tr>\n",
       "      <th>3</th>\n",
       "      <td>Alamo City School District</td>\n",
       "      <td>Elementary</td>\n",
       "      <td>1-Regular school</td>\n",
       "      <td>0</td>\n",
       "      <td>0</td>\n",
       "      <td>1</td>\n",
       "      <td>32-Town: Distant</td>\n",
       "      <td>ELA</td>\n",
       "      <td>Economically Disadvantaged</td>\n",
       "      <td>0.352</td>\n",
       "      <td>0.310</td>\n",
       "      <td>0.307</td>\n",
       "      <td>0.392</td>\n",
       "      <td>40.0</td>\n",
       "      <td>41.0</td>\n",
       "      <td>41.0</td>\n",
       "      <td>37.0</td>\n",
       "      <td>15.28</td>\n",
       "      <td>15.66</td>\n",
       "      <td>14.49</td>\n",
       "      <td>16.38</td>\n",
       "      <td>-0.003</td>\n",
       "      <td>0.085</td>\n",
       "      <td>0.395</td>\n",
       "      <td>0.0</td>\n",
       "      <td>-4.0</td>\n",
       "      <td>37.0</td>\n",
       "      <td>-1.17</td>\n",
       "      <td>1.89</td>\n",
       "      <td>17.55</td>\n",
       "    </tr>\n",
       "    <tr>\n",
       "      <th>4</th>\n",
       "      <td>Alamo City School District</td>\n",
       "      <td>Elementary</td>\n",
       "      <td>1-Regular school</td>\n",
       "      <td>0</td>\n",
       "      <td>0</td>\n",
       "      <td>1</td>\n",
       "      <td>32-Town: Distant</td>\n",
       "      <td>ELA</td>\n",
       "      <td>English Learner Transitional 1-4</td>\n",
       "      <td>0.355</td>\n",
       "      <td>0.333</td>\n",
       "      <td>0.111</td>\n",
       "      <td>0.357</td>\n",
       "      <td>40.0</td>\n",
       "      <td>41.0</td>\n",
       "      <td>41.0</td>\n",
       "      <td>37.0</td>\n",
       "      <td>15.28</td>\n",
       "      <td>15.66</td>\n",
       "      <td>14.49</td>\n",
       "      <td>16.38</td>\n",
       "      <td>-0.222</td>\n",
       "      <td>0.246</td>\n",
       "      <td>0.579</td>\n",
       "      <td>0.0</td>\n",
       "      <td>-4.0</td>\n",
       "      <td>37.0</td>\n",
       "      <td>-1.17</td>\n",
       "      <td>1.89</td>\n",
       "      <td>17.55</td>\n",
       "    </tr>\n",
       "  </tbody>\n",
       "</table>\n",
       "</div>"
      ],
      "text/plain": [
       "                  system_name  school_lvl       school_type  magnet  charter  \\\n",
       "0  Alamo City School District  Elementary  1-Regular school       0        0   \n",
       "1  Alamo City School District  Elementary  1-Regular school       0        0   \n",
       "2  Alamo City School District  Elementary  1-Regular school       0        0   \n",
       "3  Alamo City School District  Elementary  1-Regular school       0        0   \n",
       "4  Alamo City School District  Elementary  1-Regular school       0        0   \n",
       "\n",
       "  title_1            locale subject_area                     student_group  \\\n",
       "0       1  32-Town: Distant          ELA                      All Students   \n",
       "1       1  32-Town: Distant          ELA         Black or African American   \n",
       "2       1  32-Town: Distant          ELA    Black/Hispanic/Native American   \n",
       "3       1  32-Town: Distant          ELA        Economically Disadvantaged   \n",
       "4       1  32-Town: Distant          ELA  English Learner Transitional 1-4   \n",
       "\n",
       "   pct_met_exceeded_2018  pct_met_exceeded_2019  pct_met_exceeded_2021  \\\n",
       "0                  0.455                  0.465                  0.458   \n",
       "1                  0.314                  0.283                  0.200   \n",
       "2                  0.312                  0.274                  0.215   \n",
       "3                  0.352                  0.310                  0.307   \n",
       "4                  0.355                  0.333                  0.111   \n",
       "\n",
       "   pct_met_exceeded_2022  fte_teachers_2018  fte_teachers_2019  \\\n",
       "0                  0.570               40.0               41.0   \n",
       "1                  0.400               40.0               41.0   \n",
       "2                  0.426               40.0               41.0   \n",
       "3                  0.392               40.0               41.0   \n",
       "4                  0.357               40.0               41.0   \n",
       "\n",
       "   fte_teachers_2021  fte_teachers_2022  stu_tchr_ratio_2018  \\\n",
       "0               41.0               37.0                15.28   \n",
       "1               41.0               37.0                15.28   \n",
       "2               41.0               37.0                15.28   \n",
       "3               41.0               37.0                15.28   \n",
       "4               41.0               37.0                15.28   \n",
       "\n",
       "   stu_tchr_ratio_2019  stu_tchr_ratio_2021  stu_tchr_ratio_2022  \\\n",
       "0                15.66                14.49                16.38   \n",
       "1                15.66                14.49                16.38   \n",
       "2                15.66                14.49                16.38   \n",
       "3                15.66                14.49                16.38   \n",
       "4                15.66                14.49                16.38   \n",
       "\n",
       "   pct_met_exceeded_lvpp  pct_met_exceeded_intra  pct_met_exceeded_pre-post  \\\n",
       "0                 -0.007                   0.112                      0.577   \n",
       "1                 -0.083                   0.200                      0.483   \n",
       "2                 -0.059                   0.211                      0.485   \n",
       "3                 -0.003                   0.085                      0.395   \n",
       "4                 -0.222                   0.246                      0.579   \n",
       "\n",
       "   fte_teachers_lvpp  fte_teachers_intra  fte_teachers_pre-post  \\\n",
       "0                0.0                -4.0                   37.0   \n",
       "1                0.0                -4.0                   37.0   \n",
       "2                0.0                -4.0                   37.0   \n",
       "3                0.0                -4.0                   37.0   \n",
       "4                0.0                -4.0                   37.0   \n",
       "\n",
       "   stu_tchr_ratio_lvpp  stu_tchr_ratio_intra  stu_tchr_ratio_pre-post  \n",
       "0                -1.17                  1.89                    17.55  \n",
       "1                -1.17                  1.89                    17.55  \n",
       "2                -1.17                  1.89                    17.55  \n",
       "3                -1.17                  1.89                    17.55  \n",
       "4                -1.17                  1.89                    17.55  "
      ]
     },
     "execution_count": 22,
     "metadata": {},
     "output_type": "execute_result"
    }
   ],
   "source": [
    "# Resetting index of weighted average pivot to create weighted_average_metrics DataFrame\n",
    "weighted_average_metrics = weighted_avg_pivot.reset_index()\n",
    "\n",
    "# Compressing hierarchy in columns and joining levels with \"_\"\n",
    "weighted_average_metrics.columns = ['_'.join(str(col) for col in column) for column in weighted_average_metrics.columns.values]\n",
    "\n",
    "# Removing trailing \"_\" introduced when compressing\n",
    "for col in weighted_average_metrics.columns:\n",
    "        # Check if the column name ends with '_'\n",
    "        if col.endswith('_'):\n",
    "            # If it does, remove the trailing underscore\n",
    "            weighted_average_metrics = weighted_average_metrics.rename(columns={col: col[:-1]})\n",
    "\n",
    "weighted_average_metrics.head()"
   ]
  },
  {
   "cell_type": "code",
   "execution_count": 23,
   "metadata": {},
   "outputs": [],
   "source": [
    "# List of unique system names in weighted assessments\n",
    "weighted_average_metrics_system_names = weighted_average_metrics['system_name'].tolist()\n",
    "\n",
    "# List of unique system names in tn_leas\n",
    "tn_leas_system_names = tn_leas['system_name'].tolist()\n",
    "\n",
    "# Checking if system names exist in weighted assessments and do not in the district boundaries data set\n",
    "unique_in_weighted_average_metrics = list(set(weighted_average_metrics_system_names) - set(tn_leas_system_names))\n",
    "\n",
    "# Check if system name exists in district boundaries, but does not in weighted assessments\n",
    "unique_in_tn_leas = list(set(tn_leas_system_names) - set(weighted_average_metrics_system_names))"
   ]
  },
  {
   "cell_type": "markdown",
   "metadata": {},
   "source": [
    "### 🕵️ Checking if system names exist in weighted assessments that do not in the district boundaries data set.  I've never been so happy to see an empty list!"
   ]
  },
  {
   "cell_type": "code",
   "execution_count": 24,
   "metadata": {},
   "outputs": [
    {
     "data": {
      "text/plain": [
       "[]"
      ]
     },
     "execution_count": 24,
     "metadata": {},
     "output_type": "execute_result"
    }
   ],
   "source": [
    "unique_in_weighted_average_metrics"
   ]
  },
  {
   "cell_type": "markdown",
   "metadata": {},
   "source": [
    "###  📊 🤝 🗺️ Merging Weighted Average Metrics with District Geometry Files and converting to GeoDataFrame"
   ]
  },
  {
   "cell_type": "code",
   "execution_count": 25,
   "metadata": {},
   "outputs": [],
   "source": [
    "weighted_average_metrics = pd.merge(left=weighted_average_metrics, right=tn_leas, on=\"system_name\", how='left')\n",
    "weighted_average_metrics = gpd.GeoDataFrame(weighted_average_metrics, geometry='geometry')"
   ]
  },
  {
   "cell_type": "markdown",
   "metadata": {},
   "source": [
    "#### Renaming columns to conform with ERSI standards"
   ]
  },
  {
   "cell_type": "code",
   "execution_count": 26,
   "metadata": {},
   "outputs": [],
   "source": [
    "rename_dict = {\n",
    "    'pct_met_exceeded_2018': 'pctm_18',\n",
    "    'pct_met_exceeded_2019': 'pctm_19',\n",
    "    'pct_met_exceeded_2021': 'pctm_21',\n",
    "    'pct_met_exceeded_2022': 'pctm_22',\n",
    "    'fte_teachers_2018': 'fte_18',\n",
    "    'fte_teachers_2019': 'fte_19',\n",
    "    'fte_teachers_2021': 'fte_21',\n",
    "    'fte_teachers_2022': 'fte_22',\n",
    "    'stu_tchr_ratio_2018': 'str_18',\n",
    "    'stu_tchr_ratio_2019': 'str_19',\n",
    "    'stu_tchr_ratio_2021': 'str_21',\n",
    "    'stu_tchr_ratio_2022': 'str_22',\n",
    "    'pct_met_exceeded_lvpp': 'pctm_lvpp',\n",
    "    'pct_met_exceeded_intra': 'pctm_intra',\n",
    "    'pct_met_exceeded_pre-post': 'pctm_pp',\n",
    "    'fte_teachers_lvpp': 'fte_lvpp',\n",
    "    'fte_teachers_intra': 'fte_intra',\n",
    "    'fte_teachers_pre-post': 'fte_pp',\n",
    "    'stu_tchr_ratio_lvpp': 'str_lvpp',\n",
    "    'stu_tchr_ratio_intra': 'str_intra',\n",
    "    'stu_tchr_ratio_pre-post': 'str_pp'\n",
    "}\n",
    "weighted_average_metrics.rename(columns=rename_dict, inplace=True)"
   ]
  },
  {
   "cell_type": "code",
   "execution_count": 27,
   "metadata": {},
   "outputs": [
    {
     "data": {
      "text/html": [
       "<div>\n",
       "<style scoped>\n",
       "    .dataframe tbody tr th:only-of-type {\n",
       "        vertical-align: middle;\n",
       "    }\n",
       "\n",
       "    .dataframe tbody tr th {\n",
       "        vertical-align: top;\n",
       "    }\n",
       "\n",
       "    .dataframe thead th {\n",
       "        text-align: right;\n",
       "    }\n",
       "</style>\n",
       "<table border=\"1\" class=\"dataframe\">\n",
       "  <thead>\n",
       "    <tr style=\"text-align: right;\">\n",
       "      <th></th>\n",
       "      <th>system_name</th>\n",
       "      <th>school_lvl</th>\n",
       "      <th>school_type</th>\n",
       "      <th>magnet</th>\n",
       "      <th>charter</th>\n",
       "      <th>title_1</th>\n",
       "      <th>locale</th>\n",
       "      <th>subject_area</th>\n",
       "      <th>student_group</th>\n",
       "      <th>pctm_18</th>\n",
       "      <th>pctm_19</th>\n",
       "      <th>pctm_21</th>\n",
       "      <th>pctm_22</th>\n",
       "      <th>fte_18</th>\n",
       "      <th>fte_19</th>\n",
       "      <th>fte_21</th>\n",
       "      <th>fte_22</th>\n",
       "      <th>str_18</th>\n",
       "      <th>str_19</th>\n",
       "      <th>str_21</th>\n",
       "      <th>str_22</th>\n",
       "      <th>pctm_lvpp</th>\n",
       "      <th>pctm_intra</th>\n",
       "      <th>pctm_pp</th>\n",
       "      <th>fte_lvpp</th>\n",
       "      <th>fte_intra</th>\n",
       "      <th>fte_pp</th>\n",
       "      <th>str_lvpp</th>\n",
       "      <th>str_intra</th>\n",
       "      <th>str_pp</th>\n",
       "      <th>geometry</th>\n",
       "    </tr>\n",
       "  </thead>\n",
       "  <tbody>\n",
       "    <tr>\n",
       "      <th>0</th>\n",
       "      <td>Alamo City School District</td>\n",
       "      <td>Elementary</td>\n",
       "      <td>1-Regular school</td>\n",
       "      <td>0</td>\n",
       "      <td>0</td>\n",
       "      <td>1</td>\n",
       "      <td>32-Town: Distant</td>\n",
       "      <td>ELA</td>\n",
       "      <td>All Students</td>\n",
       "      <td>0.455</td>\n",
       "      <td>0.465</td>\n",
       "      <td>0.458</td>\n",
       "      <td>0.57</td>\n",
       "      <td>40.0</td>\n",
       "      <td>41.0</td>\n",
       "      <td>41.0</td>\n",
       "      <td>37.0</td>\n",
       "      <td>15.28</td>\n",
       "      <td>15.66</td>\n",
       "      <td>14.49</td>\n",
       "      <td>16.38</td>\n",
       "      <td>-0.007</td>\n",
       "      <td>0.112</td>\n",
       "      <td>0.577</td>\n",
       "      <td>0.0</td>\n",
       "      <td>-4.0</td>\n",
       "      <td>37.0</td>\n",
       "      <td>-1.17</td>\n",
       "      <td>1.89</td>\n",
       "      <td>17.55</td>\n",
       "      <td>POLYGON ((-89.00656 35.83268, -89.00660 35.832...</td>\n",
       "    </tr>\n",
       "  </tbody>\n",
       "</table>\n",
       "</div>"
      ],
      "text/plain": [
       "                  system_name  school_lvl       school_type  magnet  charter  \\\n",
       "0  Alamo City School District  Elementary  1-Regular school       0        0   \n",
       "\n",
       "  title_1            locale subject_area student_group  pctm_18  pctm_19  \\\n",
       "0       1  32-Town: Distant          ELA  All Students    0.455    0.465   \n",
       "\n",
       "   pctm_21  pctm_22  fte_18  fte_19  fte_21  fte_22  str_18  str_19  str_21  \\\n",
       "0    0.458     0.57    40.0    41.0    41.0    37.0   15.28   15.66   14.49   \n",
       "\n",
       "   str_22  pctm_lvpp  pctm_intra  pctm_pp  fte_lvpp  fte_intra  fte_pp  \\\n",
       "0   16.38     -0.007       0.112    0.577       0.0       -4.0    37.0   \n",
       "\n",
       "   str_lvpp  str_intra  str_pp  \\\n",
       "0     -1.17       1.89   17.55   \n",
       "\n",
       "                                            geometry  \n",
       "0  POLYGON ((-89.00656 35.83268, -89.00660 35.832...  "
      ]
     },
     "execution_count": 27,
     "metadata": {},
     "output_type": "execute_result"
    }
   ],
   "source": [
    "weighted_average_metrics.head(n=1)"
   ]
  },
  {
   "cell_type": "markdown",
   "metadata": {},
   "source": [
    "There's some funk going on here.  District names don't match across datasets.  I'm going to do a spatial merge to see which dististricts are associated based on thier physical location."
   ]
  },
  {
   "cell_type": "markdown",
   "metadata": {},
   "source": [
    "#### 🥒 Exporting Weighted Average Metrics without Geospatial Info"
   ]
  },
  {
   "cell_type": "code",
   "execution_count": 28,
   "metadata": {},
   "outputs": [],
   "source": [
    "## CAUTION!: Don't turn on the pkl generator unless hungry.\n",
    "# weighted_average_metrics.to_pickle('../data/Weighted_average_metrics.pkl')  "
   ]
  },
  {
   "cell_type": "markdown",
   "metadata": {},
   "source": [
    "###  🗺️ Exporting Weighed Average Metrics GeoDataFrame as Shapefile"
   ]
  },
  {
   "cell_type": "code",
   "execution_count": 29,
   "metadata": {},
   "outputs": [],
   "source": [
    "# CAUTION!: Don't turn on the GeoJSON generator unless lost.\n",
    "# weighted_average_metrics.to_file('../data/weighted_average_metrics.geojson', driver='GeoJSON')"
   ]
  },
  {
   "cell_type": "code",
   "execution_count": 30,
   "metadata": {},
   "outputs": [],
   "source": [
    "# weighted_average_metrics.to_file('../data/weighted_average_metrics.shp', driver='ESRI Shapefile')"
   ]
  },
  {
   "cell_type": "markdown",
   "metadata": {},
   "source": [
    "### 📊 Visual EDA"
   ]
  },
  {
   "cell_type": "code",
   "execution_count": 31,
   "metadata": {},
   "outputs": [
    {
     "data": {
      "application/vnd.plotly.v1+json": {
       "config": {
        "plotlyServerURL": "https://plot.ly"
       },
       "data": [
        {
         "colorbar": {
          "title": {
           "text": "Percentage"
          }
         },
         "colorscale": [
          [
           0,
           "#440154"
          ],
          [
           0.1111111111111111,
           "#482878"
          ],
          [
           0.2222222222222222,
           "#3e4989"
          ],
          [
           0.3333333333333333,
           "#31688e"
          ],
          [
           0.4444444444444444,
           "#26828e"
          ],
          [
           0.5555555555555556,
           "#1f9e89"
          ],
          [
           0.6666666666666666,
           "#35b779"
          ],
          [
           0.7777777777777778,
           "#6ece58"
          ],
          [
           0.8888888888888888,
           "#b5de2b"
          ],
          [
           1,
           "#fde725"
          ]
         ],
         "type": "heatmap",
         "x": [
          "ELA",
          "Math",
          "Science",
          "Social Studies"
         ],
         "y": [
          "Lagged Calculation"
         ],
         "z": [
          [
           0.46456410652893504,
           0.6108902169547213,
           0.42813363401601917,
           0.5173799607448897,
           0.4249226190476191,
           0.3171811524782921,
           0.3808792771399536,
           0.4284283864703026,
           0.28032256084207385,
           0.4661870909932686,
           0.5265312577762824,
           0.43671551064116726,
           0.4278993279486443,
           0.349392419767102,
           0.6264061018402994,
           0.6198733948888412,
           0.4434502957633587,
           0.5007580559039767,
           0.3752324115692788,
           0.38361967206940273,
           0.7600252727744163,
           0.06673906318698569,
           0.48049958957041,
           0.4902059234876746,
           0.5370205895827418,
           0.4271822330083859,
           0.3399378981424666,
           0.33036328576282703,
           0.3578810957729441,
           0.6996377237939689,
           0.6745761555659977,
           0.46746420066266997,
           0.3991278247156981,
           0.4165660089514764,
           0.5353957231046995,
           0.5462677914783579,
           0.5412985532303216,
           0.18538578805692993,
           0.2798865346667473,
           0.3459949353906867,
           0.7957834927602812,
           0.735293448662287,
           0.21565569486356562,
           0.3011081328078127,
           0.22658621081636,
           0.3034376885858862,
           0.15105463804914754,
           0.3714841650508556,
           0.4088184615942456,
           0.12514919136723865,
           0.317749276751956,
           0.18617780886499524,
           0.699191036886348,
           0.10226361819090454,
           0.5430577491977966,
           0.5645689457754894,
           0.5275375643655519,
           0.1962624011652101,
           0.3280149460891349,
           0.5138550642722118,
           0.11223364331765728,
           0.18926209947400582,
           0.48762629240665606,
           0.406408905461359,
           0.44505952511494207,
           0.7699999999999999,
           0.16125743350764976,
           0.24212737525015476,
           0.3029952408750721,
           0.20943878652953746,
           0.39302319253097795,
           0.9181077698783835,
           0.18284622209162094,
           0.16092976949647933,
           0.3753340961132858,
           0.44740457004501943,
           0.540768573222152,
           0.40450558681463267,
           0.5794501599096079,
           0.3107909006563132,
           0.469453498898194,
           0.38298152009488423,
           0.3903751533959843,
           0.3027276948809853,
           0.4037477534318113,
           0.543783865736502,
           0.40017529044449607,
           0.4354511041009464,
           0.16435207556025905,
           0.20846126214176974,
           0.24018712607763607,
           0.3944730071430374,
           0.22213542206499934,
           0.4650400040437801,
           0.546270071950586,
           0.5084439897184425,
           0.3788243765066021,
           0.39476751920868314,
           0.2421996027834386,
           0.45412771934093865,
           0.4551494953050795,
           0.5043226812353441,
           0.3895036688708633,
           0.8392966661942642,
           0.7870074134625701,
           0.6488787396797007,
           0.77328767522584,
           0.84065445950718,
           0.6320864358839784,
           0.5438701041443594
          ],
          [
           0.33460276661251676,
           0.4072259619989534,
           0.18880366275426141,
           0.44215711213999037,
           0.44303758209272576,
           0.19067721745775335,
           0.1648673787876405,
           0.23590930147731518,
           0.11894607237415472,
           0.26677373679195215,
           0.23881099652629595,
           0.13458299596189685,
           0.24832724570553627,
           0.23188083196516038,
           0.5062208189100142,
           0.42282255387802337,
           0.22997698824979484,
           0.33219322365375237,
           0.09058883308574357,
           0.2187250284913659,
           0.5603137182582502,
           0.2530356880747686,
           0.30015251268306686,
           0.41223418549738944,
           0.30536717157801,
           0.22157231318079298,
           0.1532783505154639,
           0.2823430979943464,
           0.5813537061206393,
           0.6084352565617424,
           0.3757995353248754,
           0.35863631717959693,
           0.34941358340523243,
           0.5550087477324839,
           0.4162447627855838,
           0.5116782824700172,
           0.18925090181365112,
           0.17164785743914276,
           0.3341890099188485,
           0.7176399220147162,
           0.6354748394730467,
           0.0813771061316658,
           0.15712779698518986,
           0.22565250965250966,
           0.21913483250620347,
           0.35565442926594126,
           0.26837935480517955,
           0.22710644628896037,
           0.20654534482089193,
           0.5432620493195713,
           0.5010984532316163,
           0.31410983418823657,
           0.32959872620304925,
           0.12258136372320139,
           0.1870457794596867,
           0.39807672248573817,
           0.20779776448535098,
           0.3947332849599423,
           0.39791335556648944,
           0.42383533960343694,
           0.5365865196066621,
           0.1269048617493742,
           0.13353050118133966,
           0.10552626597794729,
           0.301695649211764,
           0.8391255664013527,
           0.09827633773175298,
           0.21647222687301632,
           0.2668856603674334,
           0.327823918799647,
           0.26522470628871453,
           0.21993321805006583,
           0.2617979738317756,
           0.2502162923030848,
           0.25370729559907457,
           0.24774940332877513,
           0.25855338925311033,
           0.31434567557125676,
           0.38632299833606404,
           0.9637719261723644,
           0.20872727272727276,
           0.19639060609737713,
           0.10308457747270394,
           0.18240313598321933,
           0.29751264293499324,
           0.32336685130049786,
           0.4906593166464044,
           0.4297378322698374,
           0.31689512151123245,
           0.12136721980601024,
           0.18992726397722257,
           0.32514308590380747,
           0.37550958232572484,
           0.1505713396404762,
           0.34997399580521693,
           0.7936800357690709,
           0.6460392149819556,
           0.40542096019707463,
           0.49257090573792595,
           0.8058909562305502,
           0.48701182100500495,
           0.3248842590982667
          ],
          [
           0.5678188679245282,
           0.5702067924528301,
           0.25312057727735227,
           0.6277863958351491,
           0.37846544144144145,
           0.1956344086021505,
           0.17586163522012582,
           0.6662252252252252,
           0.33652127659574477,
           0.590818052660419,
           0.6904290322580646,
           0.5339383522275623,
           0.5124974874371859,
           0.29595301659343454,
           0.6048767123287673,
           0.606719298245614,
           0.34814806610961885,
           0.5197215266558808,
           0.5284581005586593,
           0.09620000000000001,
           0.07541287878787872,
           0.3802219570405727,
           0.3995102040816327,
           0.6504677966101693,
           0.496179104477612,
           0.5974520547945206,
           0.20920190023752966,
           0.3741747526552675,
           0.6997413587604291,
           0.7636162464985995,
           0.5664268774703558,
           0.686584658718334,
           0.6659836956521741,
           0.6294612794612795,
           0.5203247537171447,
           0.4326955091314503,
           0.23166901242827193,
           0.22897391331585892,
           0.39883521444695264,
           0.6783676673567978,
           0.45397190008615806,
           0.810925397791188,
           0.7215799924041133,
           0.22928571428571426,
           0.36433199489181955,
           0.22523899371069184,
           0.48919506388937517,
           0.3303147699757869,
           0.49535366473835557,
           0.32666995073891625,
           0.19162549112054061,
           0.3936593406593407,
           0.314861531711503,
           0.9394025423728813,
           0.14127954545454546,
           0.7105010224948877,
           0.5675167827739075,
           0.5739717257204335,
           0.30848160741803365,
           0.42078289473684216,
           0.44965024376821205,
           -0.026815292447224942,
           0.21761538461538474,
           0.24460663507109007,
           0.7149026369168356,
           0.36707042566255244,
           0.7279885419353209,
           0.6018372093023255,
           0.179851979906826,
           0.20035105067985176,
           0.16403591748701496,
           0.4518417824669432,
           0.7376251504372606,
           0.1739679899270146,
           0.24069017632241813,
           0.3457419954829281,
           0.2560967741935485,
           0.6020222772277226,
           0.4099213483146067,
           0.2585181284288708,
           0.4919673735725937,
           0.41884172299998224,
           0.43682615111221024,
           0.4195541200670589,
           0.3546802165182469,
           0.39311904694796995,
           0.28854822335025376,
           0.17423268238108217,
           0.23226558265582656,
           0.31579356548894455,
           0.3810755429422778,
           0.3284101796407185,
           0.42155149032344325,
           0.6716796581200106,
           0.7181672025723473,
           0.374888178913738,
           0.44968825308945415,
           0.43206097560975615,
           0.5231000000000001,
           0.3917792207792209,
           0.41157480314960626,
           0.3782857142857143,
           0.8639683789304754,
           0.7423863577180293,
           0.6111012658227848,
           0.6841191687217084,
           0.8398519417475728,
           0.6154049274799275,
           0.7984192139737991
          ],
          [
           0.47800000000000004,
           0.17038861225130655,
           0.4957169191029705,
           0.35581978606240894,
           0.173,
           0.33599999999999997,
           0.5170859374999999,
           0.6313847111553785,
           0.612764705882353,
           0.45800000000000013,
           0.31400277283094324,
           0.7671957040572792,
           0.631,
           0.30192875939973174,
           0.560517858912565,
           0.217,
           0.227,
           0.238,
           0.40700000000000003,
           0.09800000000000002,
           0.5209999999999999,
           0.35200000000000004,
           0.5901158829614346,
           0.623,
           0.48256331446774714,
           0.2612602992440789,
           0.28712030075187966,
           0.43089230769230763,
           0.6859999999999999,
           0.6515219042625652,
           0.26533272285672804,
           0.072,
           0.1771076517563547,
           0.16399999999999998,
           0.41179999999999994,
           0.27899999999999997,
           0.15803673672428803,
           0.2601579466142241,
           0.6859999999999999,
           0.5420000000000001,
           0.5013078512396695,
           0.40907050138508894,
           0.11950975523672469,
           0.03700000000000009,
           0.25044198895027625,
           0.21150719440746873,
           0.46978780063622805,
           0.15778696753063182,
           0.155,
           0.32936567505066483,
           0.8951603667065039,
           0.13386490218642116,
           0.081,
           0.22099999999999997,
           0.4727532063669286,
           0.22204172559729926,
           0.3564116769565505,
           0.33049260191150986,
           0.40496844770683965,
           0.481485860069604,
           0.24399999999999997,
           0.1776422903213182,
           0.26284997836799706,
           0.31893082384307153,
           0.4697965849870164,
           0.4780311017303229,
           0.37156633663366334,
           0.34667447429906545,
           0.129,
           0.521,
           0.415,
           0.7835285687263561,
           0.691587305588003,
           0.22800000000000006,
           0.4619028514198185,
           0.9199999999999999
          ]
         ]
        }
       ],
       "layout": {
        "height": 400,
        "template": {
         "data": {
          "bar": [
           {
            "error_x": {
             "color": "#2a3f5f"
            },
            "error_y": {
             "color": "#2a3f5f"
            },
            "marker": {
             "line": {
              "color": "#E5ECF6",
              "width": 0.5
             },
             "pattern": {
              "fillmode": "overlay",
              "size": 10,
              "solidity": 0.2
             }
            },
            "type": "bar"
           }
          ],
          "barpolar": [
           {
            "marker": {
             "line": {
              "color": "#E5ECF6",
              "width": 0.5
             },
             "pattern": {
              "fillmode": "overlay",
              "size": 10,
              "solidity": 0.2
             }
            },
            "type": "barpolar"
           }
          ],
          "carpet": [
           {
            "aaxis": {
             "endlinecolor": "#2a3f5f",
             "gridcolor": "white",
             "linecolor": "white",
             "minorgridcolor": "white",
             "startlinecolor": "#2a3f5f"
            },
            "baxis": {
             "endlinecolor": "#2a3f5f",
             "gridcolor": "white",
             "linecolor": "white",
             "minorgridcolor": "white",
             "startlinecolor": "#2a3f5f"
            },
            "type": "carpet"
           }
          ],
          "choropleth": [
           {
            "colorbar": {
             "outlinewidth": 0,
             "ticks": ""
            },
            "type": "choropleth"
           }
          ],
          "contour": [
           {
            "colorbar": {
             "outlinewidth": 0,
             "ticks": ""
            },
            "colorscale": [
             [
              0,
              "#0d0887"
             ],
             [
              0.1111111111111111,
              "#46039f"
             ],
             [
              0.2222222222222222,
              "#7201a8"
             ],
             [
              0.3333333333333333,
              "#9c179e"
             ],
             [
              0.4444444444444444,
              "#bd3786"
             ],
             [
              0.5555555555555556,
              "#d8576b"
             ],
             [
              0.6666666666666666,
              "#ed7953"
             ],
             [
              0.7777777777777778,
              "#fb9f3a"
             ],
             [
              0.8888888888888888,
              "#fdca26"
             ],
             [
              1,
              "#f0f921"
             ]
            ],
            "type": "contour"
           }
          ],
          "contourcarpet": [
           {
            "colorbar": {
             "outlinewidth": 0,
             "ticks": ""
            },
            "type": "contourcarpet"
           }
          ],
          "heatmap": [
           {
            "colorbar": {
             "outlinewidth": 0,
             "ticks": ""
            },
            "colorscale": [
             [
              0,
              "#0d0887"
             ],
             [
              0.1111111111111111,
              "#46039f"
             ],
             [
              0.2222222222222222,
              "#7201a8"
             ],
             [
              0.3333333333333333,
              "#9c179e"
             ],
             [
              0.4444444444444444,
              "#bd3786"
             ],
             [
              0.5555555555555556,
              "#d8576b"
             ],
             [
              0.6666666666666666,
              "#ed7953"
             ],
             [
              0.7777777777777778,
              "#fb9f3a"
             ],
             [
              0.8888888888888888,
              "#fdca26"
             ],
             [
              1,
              "#f0f921"
             ]
            ],
            "type": "heatmap"
           }
          ],
          "heatmapgl": [
           {
            "colorbar": {
             "outlinewidth": 0,
             "ticks": ""
            },
            "colorscale": [
             [
              0,
              "#0d0887"
             ],
             [
              0.1111111111111111,
              "#46039f"
             ],
             [
              0.2222222222222222,
              "#7201a8"
             ],
             [
              0.3333333333333333,
              "#9c179e"
             ],
             [
              0.4444444444444444,
              "#bd3786"
             ],
             [
              0.5555555555555556,
              "#d8576b"
             ],
             [
              0.6666666666666666,
              "#ed7953"
             ],
             [
              0.7777777777777778,
              "#fb9f3a"
             ],
             [
              0.8888888888888888,
              "#fdca26"
             ],
             [
              1,
              "#f0f921"
             ]
            ],
            "type": "heatmapgl"
           }
          ],
          "histogram": [
           {
            "marker": {
             "pattern": {
              "fillmode": "overlay",
              "size": 10,
              "solidity": 0.2
             }
            },
            "type": "histogram"
           }
          ],
          "histogram2d": [
           {
            "colorbar": {
             "outlinewidth": 0,
             "ticks": ""
            },
            "colorscale": [
             [
              0,
              "#0d0887"
             ],
             [
              0.1111111111111111,
              "#46039f"
             ],
             [
              0.2222222222222222,
              "#7201a8"
             ],
             [
              0.3333333333333333,
              "#9c179e"
             ],
             [
              0.4444444444444444,
              "#bd3786"
             ],
             [
              0.5555555555555556,
              "#d8576b"
             ],
             [
              0.6666666666666666,
              "#ed7953"
             ],
             [
              0.7777777777777778,
              "#fb9f3a"
             ],
             [
              0.8888888888888888,
              "#fdca26"
             ],
             [
              1,
              "#f0f921"
             ]
            ],
            "type": "histogram2d"
           }
          ],
          "histogram2dcontour": [
           {
            "colorbar": {
             "outlinewidth": 0,
             "ticks": ""
            },
            "colorscale": [
             [
              0,
              "#0d0887"
             ],
             [
              0.1111111111111111,
              "#46039f"
             ],
             [
              0.2222222222222222,
              "#7201a8"
             ],
             [
              0.3333333333333333,
              "#9c179e"
             ],
             [
              0.4444444444444444,
              "#bd3786"
             ],
             [
              0.5555555555555556,
              "#d8576b"
             ],
             [
              0.6666666666666666,
              "#ed7953"
             ],
             [
              0.7777777777777778,
              "#fb9f3a"
             ],
             [
              0.8888888888888888,
              "#fdca26"
             ],
             [
              1,
              "#f0f921"
             ]
            ],
            "type": "histogram2dcontour"
           }
          ],
          "mesh3d": [
           {
            "colorbar": {
             "outlinewidth": 0,
             "ticks": ""
            },
            "type": "mesh3d"
           }
          ],
          "parcoords": [
           {
            "line": {
             "colorbar": {
              "outlinewidth": 0,
              "ticks": ""
             }
            },
            "type": "parcoords"
           }
          ],
          "pie": [
           {
            "automargin": true,
            "type": "pie"
           }
          ],
          "scatter": [
           {
            "fillpattern": {
             "fillmode": "overlay",
             "size": 10,
             "solidity": 0.2
            },
            "type": "scatter"
           }
          ],
          "scatter3d": [
           {
            "line": {
             "colorbar": {
              "outlinewidth": 0,
              "ticks": ""
             }
            },
            "marker": {
             "colorbar": {
              "outlinewidth": 0,
              "ticks": ""
             }
            },
            "type": "scatter3d"
           }
          ],
          "scattercarpet": [
           {
            "marker": {
             "colorbar": {
              "outlinewidth": 0,
              "ticks": ""
             }
            },
            "type": "scattercarpet"
           }
          ],
          "scattergeo": [
           {
            "marker": {
             "colorbar": {
              "outlinewidth": 0,
              "ticks": ""
             }
            },
            "type": "scattergeo"
           }
          ],
          "scattergl": [
           {
            "marker": {
             "colorbar": {
              "outlinewidth": 0,
              "ticks": ""
             }
            },
            "type": "scattergl"
           }
          ],
          "scattermapbox": [
           {
            "marker": {
             "colorbar": {
              "outlinewidth": 0,
              "ticks": ""
             }
            },
            "type": "scattermapbox"
           }
          ],
          "scatterpolar": [
           {
            "marker": {
             "colorbar": {
              "outlinewidth": 0,
              "ticks": ""
             }
            },
            "type": "scatterpolar"
           }
          ],
          "scatterpolargl": [
           {
            "marker": {
             "colorbar": {
              "outlinewidth": 0,
              "ticks": ""
             }
            },
            "type": "scatterpolargl"
           }
          ],
          "scatterternary": [
           {
            "marker": {
             "colorbar": {
              "outlinewidth": 0,
              "ticks": ""
             }
            },
            "type": "scatterternary"
           }
          ],
          "surface": [
           {
            "colorbar": {
             "outlinewidth": 0,
             "ticks": ""
            },
            "colorscale": [
             [
              0,
              "#0d0887"
             ],
             [
              0.1111111111111111,
              "#46039f"
             ],
             [
              0.2222222222222222,
              "#7201a8"
             ],
             [
              0.3333333333333333,
              "#9c179e"
             ],
             [
              0.4444444444444444,
              "#bd3786"
             ],
             [
              0.5555555555555556,
              "#d8576b"
             ],
             [
              0.6666666666666666,
              "#ed7953"
             ],
             [
              0.7777777777777778,
              "#fb9f3a"
             ],
             [
              0.8888888888888888,
              "#fdca26"
             ],
             [
              1,
              "#f0f921"
             ]
            ],
            "type": "surface"
           }
          ],
          "table": [
           {
            "cells": {
             "fill": {
              "color": "#EBF0F8"
             },
             "line": {
              "color": "white"
             }
            },
            "header": {
             "fill": {
              "color": "#C8D4E3"
             },
             "line": {
              "color": "white"
             }
            },
            "type": "table"
           }
          ]
         },
         "layout": {
          "annotationdefaults": {
           "arrowcolor": "#2a3f5f",
           "arrowhead": 0,
           "arrowwidth": 1
          },
          "autotypenumbers": "strict",
          "coloraxis": {
           "colorbar": {
            "outlinewidth": 0,
            "ticks": ""
           }
          },
          "colorscale": {
           "diverging": [
            [
             0,
             "#8e0152"
            ],
            [
             0.1,
             "#c51b7d"
            ],
            [
             0.2,
             "#de77ae"
            ],
            [
             0.3,
             "#f1b6da"
            ],
            [
             0.4,
             "#fde0ef"
            ],
            [
             0.5,
             "#f7f7f7"
            ],
            [
             0.6,
             "#e6f5d0"
            ],
            [
             0.7,
             "#b8e186"
            ],
            [
             0.8,
             "#7fbc41"
            ],
            [
             0.9,
             "#4d9221"
            ],
            [
             1,
             "#276419"
            ]
           ],
           "sequential": [
            [
             0,
             "#0d0887"
            ],
            [
             0.1111111111111111,
             "#46039f"
            ],
            [
             0.2222222222222222,
             "#7201a8"
            ],
            [
             0.3333333333333333,
             "#9c179e"
            ],
            [
             0.4444444444444444,
             "#bd3786"
            ],
            [
             0.5555555555555556,
             "#d8576b"
            ],
            [
             0.6666666666666666,
             "#ed7953"
            ],
            [
             0.7777777777777778,
             "#fb9f3a"
            ],
            [
             0.8888888888888888,
             "#fdca26"
            ],
            [
             1,
             "#f0f921"
            ]
           ],
           "sequentialminus": [
            [
             0,
             "#0d0887"
            ],
            [
             0.1111111111111111,
             "#46039f"
            ],
            [
             0.2222222222222222,
             "#7201a8"
            ],
            [
             0.3333333333333333,
             "#9c179e"
            ],
            [
             0.4444444444444444,
             "#bd3786"
            ],
            [
             0.5555555555555556,
             "#d8576b"
            ],
            [
             0.6666666666666666,
             "#ed7953"
            ],
            [
             0.7777777777777778,
             "#fb9f3a"
            ],
            [
             0.8888888888888888,
             "#fdca26"
            ],
            [
             1,
             "#f0f921"
            ]
           ]
          },
          "colorway": [
           "#636efa",
           "#EF553B",
           "#00cc96",
           "#ab63fa",
           "#FFA15A",
           "#19d3f3",
           "#FF6692",
           "#B6E880",
           "#FF97FF",
           "#FECB52"
          ],
          "font": {
           "color": "#2a3f5f"
          },
          "geo": {
           "bgcolor": "white",
           "lakecolor": "white",
           "landcolor": "#E5ECF6",
           "showlakes": true,
           "showland": true,
           "subunitcolor": "white"
          },
          "hoverlabel": {
           "align": "left"
          },
          "hovermode": "closest",
          "mapbox": {
           "style": "light"
          },
          "paper_bgcolor": "white",
          "plot_bgcolor": "#E5ECF6",
          "polar": {
           "angularaxis": {
            "gridcolor": "white",
            "linecolor": "white",
            "ticks": ""
           },
           "bgcolor": "#E5ECF6",
           "radialaxis": {
            "gridcolor": "white",
            "linecolor": "white",
            "ticks": ""
           }
          },
          "scene": {
           "xaxis": {
            "backgroundcolor": "#E5ECF6",
            "gridcolor": "white",
            "gridwidth": 2,
            "linecolor": "white",
            "showbackground": true,
            "ticks": "",
            "zerolinecolor": "white"
           },
           "yaxis": {
            "backgroundcolor": "#E5ECF6",
            "gridcolor": "white",
            "gridwidth": 2,
            "linecolor": "white",
            "showbackground": true,
            "ticks": "",
            "zerolinecolor": "white"
           },
           "zaxis": {
            "backgroundcolor": "#E5ECF6",
            "gridcolor": "white",
            "gridwidth": 2,
            "linecolor": "white",
            "showbackground": true,
            "ticks": "",
            "zerolinecolor": "white"
           }
          },
          "shapedefaults": {
           "line": {
            "color": "#2a3f5f"
           }
          },
          "ternary": {
           "aaxis": {
            "gridcolor": "white",
            "linecolor": "white",
            "ticks": ""
           },
           "baxis": {
            "gridcolor": "white",
            "linecolor": "white",
            "ticks": ""
           },
           "bgcolor": "#E5ECF6",
           "caxis": {
            "gridcolor": "white",
            "linecolor": "white",
            "ticks": ""
           }
          },
          "title": {
           "x": 0.05
          },
          "xaxis": {
           "automargin": true,
           "gridcolor": "white",
           "linecolor": "white",
           "ticks": "",
           "title": {
            "standoff": 15
           },
           "zerolinecolor": "white",
           "zerolinewidth": 2
          },
          "yaxis": {
           "automargin": true,
           "gridcolor": "white",
           "linecolor": "white",
           "ticks": "",
           "title": {
            "standoff": 15
           },
           "zerolinecolor": "white",
           "zerolinewidth": 2
          }
         }
        },
        "title": {
         "text": "Lagged Calculation by Content Area for High School Level"
        },
        "width": 800,
        "xaxis": {
         "title": {
          "text": "Content Area"
         }
        },
        "yaxis": {
         "title": {
          "text": ""
         }
        }
       }
      }
     },
     "metadata": {},
     "output_type": "display_data"
    }
   ],
   "source": [
    "# Specify the school level you want to focus on\n",
    "selected_school_level = 'High'\n",
    "\n",
    "# Filter the data for \"All Students\" student group and the selected school level\n",
    "data = weighted_average_metrics[(weighted_average_metrics['student_group'] == 'All Students') & (weighted_average_metrics['school_lvl'] == selected_school_level)]\n",
    "\n",
    "# Get the unique content areas for the selected school level\n",
    "content_areas = data['subject_area'].unique()\n",
    "\n",
    "# Create a 2D array to store the heatmap values\n",
    "z_data = []\n",
    "\n",
    "# Iterate over content areas\n",
    "for content_area in content_areas:\n",
    "    # Filter the data for the current content area\n",
    "    content_area_data = data[data['subject_area'] == content_area]\n",
    "    \n",
    "    # Get the lagged calculation values for the current content area\n",
    "    lagged_values = content_area_data['pctm_pp'].values\n",
    "    \n",
    "    # Append the lagged calculation values to the z_data list, ignoring NaN values\n",
    "    z_data.append([value for value in lagged_values if not np.isnan(value)])\n",
    "\n",
    "# Create the heatmap trace\n",
    "heatmap = go.Heatmap(\n",
    "    x=content_areas,\n",
    "    y=['Lagged Calculation'],\n",
    "    z=z_data,\n",
    "    colorscale='viridis',\n",
    "    colorbar=dict(title='Percentage')\n",
    ")\n",
    "\n",
    "# Create the figure and add the heatmap\n",
    "fig = go.Figure(data=heatmap)\n",
    "\n",
    "# Customize the layout\n",
    "fig.update_layout(\n",
    "    title=f'Lagged Calculation by Content Area for {selected_school_level} School Level',\n",
    "    xaxis=dict(title='Content Area'),\n",
    "    yaxis=dict(title=''),\n",
    "    height=400,\n",
    "    width=800\n",
    ")\n",
    "\n",
    "# Show the heatmap\n",
    "fig.show()"
   ]
  },
  {
   "cell_type": "code",
   "execution_count": 32,
   "metadata": {},
   "outputs": [
    {
     "data": {
      "text/html": [
       "<div>\n",
       "<style scoped>\n",
       "    .dataframe tbody tr th:only-of-type {\n",
       "        vertical-align: middle;\n",
       "    }\n",
       "\n",
       "    .dataframe tbody tr th {\n",
       "        vertical-align: top;\n",
       "    }\n",
       "\n",
       "    .dataframe thead th {\n",
       "        text-align: right;\n",
       "    }\n",
       "</style>\n",
       "<table border=\"1\" class=\"dataframe\">\n",
       "  <thead>\n",
       "    <tr style=\"text-align: right;\">\n",
       "      <th></th>\n",
       "      <th>system_name</th>\n",
       "      <th>school_lvl</th>\n",
       "      <th>school_type</th>\n",
       "      <th>magnet</th>\n",
       "      <th>charter</th>\n",
       "      <th>title_1</th>\n",
       "      <th>locale</th>\n",
       "      <th>subject_area</th>\n",
       "      <th>student_group</th>\n",
       "      <th>pctm_18</th>\n",
       "      <th>pctm_19</th>\n",
       "      <th>pctm_21</th>\n",
       "      <th>pctm_22</th>\n",
       "      <th>fte_18</th>\n",
       "      <th>fte_19</th>\n",
       "      <th>fte_21</th>\n",
       "      <th>fte_22</th>\n",
       "      <th>str_18</th>\n",
       "      <th>str_19</th>\n",
       "      <th>str_21</th>\n",
       "      <th>str_22</th>\n",
       "      <th>pctm_lvpp</th>\n",
       "      <th>pctm_intra</th>\n",
       "      <th>pctm_pp</th>\n",
       "      <th>fte_lvpp</th>\n",
       "      <th>fte_intra</th>\n",
       "      <th>fte_pp</th>\n",
       "      <th>str_lvpp</th>\n",
       "      <th>str_intra</th>\n",
       "      <th>str_pp</th>\n",
       "      <th>geometry</th>\n",
       "    </tr>\n",
       "  </thead>\n",
       "  <tbody>\n",
       "    <tr>\n",
       "      <th>0</th>\n",
       "      <td>Alamo City School District</td>\n",
       "      <td>Elementary</td>\n",
       "      <td>1-Regular school</td>\n",
       "      <td>0</td>\n",
       "      <td>0</td>\n",
       "      <td>1</td>\n",
       "      <td>32-Town: Distant</td>\n",
       "      <td>ELA</td>\n",
       "      <td>All Students</td>\n",
       "      <td>0.455</td>\n",
       "      <td>0.465</td>\n",
       "      <td>0.458</td>\n",
       "      <td>0.570</td>\n",
       "      <td>40.0</td>\n",
       "      <td>41.0</td>\n",
       "      <td>41.0</td>\n",
       "      <td>37.0</td>\n",
       "      <td>15.28</td>\n",
       "      <td>15.66</td>\n",
       "      <td>14.49</td>\n",
       "      <td>16.38</td>\n",
       "      <td>-0.007</td>\n",
       "      <td>0.112</td>\n",
       "      <td>0.577</td>\n",
       "      <td>0.0</td>\n",
       "      <td>-4.0</td>\n",
       "      <td>37.0</td>\n",
       "      <td>-1.17</td>\n",
       "      <td>1.89</td>\n",
       "      <td>17.55</td>\n",
       "      <td>POLYGON ((-89.00656 35.83268, -89.00660 35.832...</td>\n",
       "    </tr>\n",
       "    <tr>\n",
       "      <th>1</th>\n",
       "      <td>Alamo City School District</td>\n",
       "      <td>Elementary</td>\n",
       "      <td>1-Regular school</td>\n",
       "      <td>0</td>\n",
       "      <td>0</td>\n",
       "      <td>1</td>\n",
       "      <td>32-Town: Distant</td>\n",
       "      <td>ELA</td>\n",
       "      <td>Black or African American</td>\n",
       "      <td>0.314</td>\n",
       "      <td>0.283</td>\n",
       "      <td>0.200</td>\n",
       "      <td>0.400</td>\n",
       "      <td>40.0</td>\n",
       "      <td>41.0</td>\n",
       "      <td>41.0</td>\n",
       "      <td>37.0</td>\n",
       "      <td>15.28</td>\n",
       "      <td>15.66</td>\n",
       "      <td>14.49</td>\n",
       "      <td>16.38</td>\n",
       "      <td>-0.083</td>\n",
       "      <td>0.200</td>\n",
       "      <td>0.483</td>\n",
       "      <td>0.0</td>\n",
       "      <td>-4.0</td>\n",
       "      <td>37.0</td>\n",
       "      <td>-1.17</td>\n",
       "      <td>1.89</td>\n",
       "      <td>17.55</td>\n",
       "      <td>POLYGON ((-89.00656 35.83268, -89.00660 35.832...</td>\n",
       "    </tr>\n",
       "    <tr>\n",
       "      <th>2</th>\n",
       "      <td>Alamo City School District</td>\n",
       "      <td>Elementary</td>\n",
       "      <td>1-Regular school</td>\n",
       "      <td>0</td>\n",
       "      <td>0</td>\n",
       "      <td>1</td>\n",
       "      <td>32-Town: Distant</td>\n",
       "      <td>ELA</td>\n",
       "      <td>Black/Hispanic/Native American</td>\n",
       "      <td>0.312</td>\n",
       "      <td>0.274</td>\n",
       "      <td>0.215</td>\n",
       "      <td>0.426</td>\n",
       "      <td>40.0</td>\n",
       "      <td>41.0</td>\n",
       "      <td>41.0</td>\n",
       "      <td>37.0</td>\n",
       "      <td>15.28</td>\n",
       "      <td>15.66</td>\n",
       "      <td>14.49</td>\n",
       "      <td>16.38</td>\n",
       "      <td>-0.059</td>\n",
       "      <td>0.211</td>\n",
       "      <td>0.485</td>\n",
       "      <td>0.0</td>\n",
       "      <td>-4.0</td>\n",
       "      <td>37.0</td>\n",
       "      <td>-1.17</td>\n",
       "      <td>1.89</td>\n",
       "      <td>17.55</td>\n",
       "      <td>POLYGON ((-89.00656 35.83268, -89.00660 35.832...</td>\n",
       "    </tr>\n",
       "    <tr>\n",
       "      <th>3</th>\n",
       "      <td>Alamo City School District</td>\n",
       "      <td>Elementary</td>\n",
       "      <td>1-Regular school</td>\n",
       "      <td>0</td>\n",
       "      <td>0</td>\n",
       "      <td>1</td>\n",
       "      <td>32-Town: Distant</td>\n",
       "      <td>ELA</td>\n",
       "      <td>Economically Disadvantaged</td>\n",
       "      <td>0.352</td>\n",
       "      <td>0.310</td>\n",
       "      <td>0.307</td>\n",
       "      <td>0.392</td>\n",
       "      <td>40.0</td>\n",
       "      <td>41.0</td>\n",
       "      <td>41.0</td>\n",
       "      <td>37.0</td>\n",
       "      <td>15.28</td>\n",
       "      <td>15.66</td>\n",
       "      <td>14.49</td>\n",
       "      <td>16.38</td>\n",
       "      <td>-0.003</td>\n",
       "      <td>0.085</td>\n",
       "      <td>0.395</td>\n",
       "      <td>0.0</td>\n",
       "      <td>-4.0</td>\n",
       "      <td>37.0</td>\n",
       "      <td>-1.17</td>\n",
       "      <td>1.89</td>\n",
       "      <td>17.55</td>\n",
       "      <td>POLYGON ((-89.00656 35.83268, -89.00660 35.832...</td>\n",
       "    </tr>\n",
       "    <tr>\n",
       "      <th>4</th>\n",
       "      <td>Alamo City School District</td>\n",
       "      <td>Elementary</td>\n",
       "      <td>1-Regular school</td>\n",
       "      <td>0</td>\n",
       "      <td>0</td>\n",
       "      <td>1</td>\n",
       "      <td>32-Town: Distant</td>\n",
       "      <td>ELA</td>\n",
       "      <td>English Learner Transitional 1-4</td>\n",
       "      <td>0.355</td>\n",
       "      <td>0.333</td>\n",
       "      <td>0.111</td>\n",
       "      <td>0.357</td>\n",
       "      <td>40.0</td>\n",
       "      <td>41.0</td>\n",
       "      <td>41.0</td>\n",
       "      <td>37.0</td>\n",
       "      <td>15.28</td>\n",
       "      <td>15.66</td>\n",
       "      <td>14.49</td>\n",
       "      <td>16.38</td>\n",
       "      <td>-0.222</td>\n",
       "      <td>0.246</td>\n",
       "      <td>0.579</td>\n",
       "      <td>0.0</td>\n",
       "      <td>-4.0</td>\n",
       "      <td>37.0</td>\n",
       "      <td>-1.17</td>\n",
       "      <td>1.89</td>\n",
       "      <td>17.55</td>\n",
       "      <td>POLYGON ((-89.00656 35.83268, -89.00660 35.832...</td>\n",
       "    </tr>\n",
       "  </tbody>\n",
       "</table>\n",
       "</div>"
      ],
      "text/plain": [
       "                  system_name  school_lvl       school_type  magnet  charter  \\\n",
       "0  Alamo City School District  Elementary  1-Regular school       0        0   \n",
       "1  Alamo City School District  Elementary  1-Regular school       0        0   \n",
       "2  Alamo City School District  Elementary  1-Regular school       0        0   \n",
       "3  Alamo City School District  Elementary  1-Regular school       0        0   \n",
       "4  Alamo City School District  Elementary  1-Regular school       0        0   \n",
       "\n",
       "  title_1            locale subject_area                     student_group  \\\n",
       "0       1  32-Town: Distant          ELA                      All Students   \n",
       "1       1  32-Town: Distant          ELA         Black or African American   \n",
       "2       1  32-Town: Distant          ELA    Black/Hispanic/Native American   \n",
       "3       1  32-Town: Distant          ELA        Economically Disadvantaged   \n",
       "4       1  32-Town: Distant          ELA  English Learner Transitional 1-4   \n",
       "\n",
       "   pctm_18  pctm_19  pctm_21  pctm_22  fte_18  fte_19  fte_21  fte_22  str_18  \\\n",
       "0    0.455    0.465    0.458    0.570    40.0    41.0    41.0    37.0   15.28   \n",
       "1    0.314    0.283    0.200    0.400    40.0    41.0    41.0    37.0   15.28   \n",
       "2    0.312    0.274    0.215    0.426    40.0    41.0    41.0    37.0   15.28   \n",
       "3    0.352    0.310    0.307    0.392    40.0    41.0    41.0    37.0   15.28   \n",
       "4    0.355    0.333    0.111    0.357    40.0    41.0    41.0    37.0   15.28   \n",
       "\n",
       "   str_19  str_21  str_22  pctm_lvpp  pctm_intra  pctm_pp  fte_lvpp  \\\n",
       "0   15.66   14.49   16.38     -0.007       0.112    0.577       0.0   \n",
       "1   15.66   14.49   16.38     -0.083       0.200    0.483       0.0   \n",
       "2   15.66   14.49   16.38     -0.059       0.211    0.485       0.0   \n",
       "3   15.66   14.49   16.38     -0.003       0.085    0.395       0.0   \n",
       "4   15.66   14.49   16.38     -0.222       0.246    0.579       0.0   \n",
       "\n",
       "   fte_intra  fte_pp  str_lvpp  str_intra  str_pp  \\\n",
       "0       -4.0    37.0     -1.17       1.89   17.55   \n",
       "1       -4.0    37.0     -1.17       1.89   17.55   \n",
       "2       -4.0    37.0     -1.17       1.89   17.55   \n",
       "3       -4.0    37.0     -1.17       1.89   17.55   \n",
       "4       -4.0    37.0     -1.17       1.89   17.55   \n",
       "\n",
       "                                            geometry  \n",
       "0  POLYGON ((-89.00656 35.83268, -89.00660 35.832...  \n",
       "1  POLYGON ((-89.00656 35.83268, -89.00660 35.832...  \n",
       "2  POLYGON ((-89.00656 35.83268, -89.00660 35.832...  \n",
       "3  POLYGON ((-89.00656 35.83268, -89.00660 35.832...  \n",
       "4  POLYGON ((-89.00656 35.83268, -89.00660 35.832...  "
      ]
     },
     "execution_count": 32,
     "metadata": {},
     "output_type": "execute_result"
    }
   ],
   "source": [
    "weighted_average_metrics.head()"
   ]
  },
  {
   "cell_type": "code",
   "execution_count": 33,
   "metadata": {},
   "outputs": [
    {
     "data": {
      "text/plain": [
       "[array(['ELA', 'Math', 'Science', 'Social Studies'], dtype=object)]"
      ]
     },
     "execution_count": 33,
     "metadata": {},
     "output_type": "execute_result"
    }
   ],
   "source": [
    "subject_area = [weighted_average_metrics['subject_area'].unique()]\n",
    "subject_area"
   ]
  },
  {
   "cell_type": "code",
   "execution_count": 34,
   "metadata": {},
   "outputs": [
    {
     "data": {
      "text/html": [
       "<div>\n",
       "<style scoped>\n",
       "    .dataframe tbody tr th:only-of-type {\n",
       "        vertical-align: middle;\n",
       "    }\n",
       "\n",
       "    .dataframe tbody tr th {\n",
       "        vertical-align: top;\n",
       "    }\n",
       "\n",
       "    .dataframe thead th {\n",
       "        text-align: right;\n",
       "    }\n",
       "</style>\n",
       "<table border=\"1\" class=\"dataframe\">\n",
       "  <thead>\n",
       "    <tr style=\"text-align: right;\">\n",
       "      <th></th>\n",
       "      <th>school_lvl</th>\n",
       "      <th>subject_area</th>\n",
       "      <th>pctm_lvpp</th>\n",
       "      <th>pctm_intra</th>\n",
       "      <th>pctm_pp</th>\n",
       "    </tr>\n",
       "  </thead>\n",
       "  <tbody>\n",
       "    <tr>\n",
       "      <th>0</th>\n",
       "      <td>Elementary</td>\n",
       "      <td>ELA</td>\n",
       "      <td>-0.029080</td>\n",
       "      <td>0.051333</td>\n",
       "      <td>0.384282</td>\n",
       "    </tr>\n",
       "    <tr>\n",
       "      <th>1</th>\n",
       "      <td>Elementary</td>\n",
       "      <td>Math</td>\n",
       "      <td>-0.101760</td>\n",
       "      <td>0.042325</td>\n",
       "      <td>0.462220</td>\n",
       "    </tr>\n",
       "    <tr>\n",
       "      <th>2</th>\n",
       "      <td>Elementary</td>\n",
       "      <td>Science</td>\n",
       "      <td>-0.165299</td>\n",
       "      <td>0.017747</td>\n",
       "      <td>0.547473</td>\n",
       "    </tr>\n",
       "    <tr>\n",
       "      <th>3</th>\n",
       "      <td>Elementary</td>\n",
       "      <td>Social Studies</td>\n",
       "      <td>-0.011900</td>\n",
       "      <td>0.047390</td>\n",
       "      <td>0.401657</td>\n",
       "    </tr>\n",
       "    <tr>\n",
       "      <th>4</th>\n",
       "      <td>High</td>\n",
       "      <td>ELA</td>\n",
       "      <td>-0.033504</td>\n",
       "      <td>0.067112</td>\n",
       "      <td>0.408841</td>\n",
       "    </tr>\n",
       "    <tr>\n",
       "      <th>5</th>\n",
       "      <td>High</td>\n",
       "      <td>Math</td>\n",
       "      <td>-0.073359</td>\n",
       "      <td>0.036445</td>\n",
       "      <td>0.321936</td>\n",
       "    </tr>\n",
       "    <tr>\n",
       "      <th>6</th>\n",
       "      <td>High</td>\n",
       "      <td>Science</td>\n",
       "      <td>-0.044428</td>\n",
       "      <td>0.007526</td>\n",
       "      <td>0.423662</td>\n",
       "    </tr>\n",
       "    <tr>\n",
       "      <th>7</th>\n",
       "      <td>High</td>\n",
       "      <td>Social Studies</td>\n",
       "      <td>0.020849</td>\n",
       "      <td>0.051413</td>\n",
       "      <td>0.369330</td>\n",
       "    </tr>\n",
       "    <tr>\n",
       "      <th>8</th>\n",
       "      <td>Middle</td>\n",
       "      <td>ELA</td>\n",
       "      <td>-0.063013</td>\n",
       "      <td>0.069574</td>\n",
       "      <td>0.369599</td>\n",
       "    </tr>\n",
       "    <tr>\n",
       "      <th>9</th>\n",
       "      <td>Middle</td>\n",
       "      <td>Math</td>\n",
       "      <td>-0.106330</td>\n",
       "      <td>0.055484</td>\n",
       "      <td>0.416268</td>\n",
       "    </tr>\n",
       "    <tr>\n",
       "      <th>10</th>\n",
       "      <td>Middle</td>\n",
       "      <td>Science</td>\n",
       "      <td>-0.224536</td>\n",
       "      <td>0.011099</td>\n",
       "      <td>0.551876</td>\n",
       "    </tr>\n",
       "    <tr>\n",
       "      <th>11</th>\n",
       "      <td>Middle</td>\n",
       "      <td>Social Studies</td>\n",
       "      <td>-0.034536</td>\n",
       "      <td>0.065044</td>\n",
       "      <td>0.433790</td>\n",
       "    </tr>\n",
       "    <tr>\n",
       "      <th>12</th>\n",
       "      <td>Other</td>\n",
       "      <td>ELA</td>\n",
       "      <td>-0.038263</td>\n",
       "      <td>0.046477</td>\n",
       "      <td>0.423619</td>\n",
       "    </tr>\n",
       "    <tr>\n",
       "      <th>13</th>\n",
       "      <td>Other</td>\n",
       "      <td>Math</td>\n",
       "      <td>-0.068963</td>\n",
       "      <td>0.030686</td>\n",
       "      <td>0.392387</td>\n",
       "    </tr>\n",
       "    <tr>\n",
       "      <th>14</th>\n",
       "      <td>Other</td>\n",
       "      <td>Science</td>\n",
       "      <td>-0.091616</td>\n",
       "      <td>-0.007521</td>\n",
       "      <td>0.472093</td>\n",
       "    </tr>\n",
       "    <tr>\n",
       "      <th>15</th>\n",
       "      <td>Other</td>\n",
       "      <td>Social Studies</td>\n",
       "      <td>0.037244</td>\n",
       "      <td>0.013296</td>\n",
       "      <td>0.331580</td>\n",
       "    </tr>\n",
       "    <tr>\n",
       "      <th>16</th>\n",
       "      <td>Secondary</td>\n",
       "      <td>ELA</td>\n",
       "      <td>0.035271</td>\n",
       "      <td>0.022712</td>\n",
       "      <td>0.369424</td>\n",
       "    </tr>\n",
       "    <tr>\n",
       "      <th>17</th>\n",
       "      <td>Secondary</td>\n",
       "      <td>Math</td>\n",
       "      <td>-0.085104</td>\n",
       "      <td>0.002371</td>\n",
       "      <td>0.335609</td>\n",
       "    </tr>\n",
       "    <tr>\n",
       "      <th>18</th>\n",
       "      <td>Secondary</td>\n",
       "      <td>Science</td>\n",
       "      <td>-0.098840</td>\n",
       "      <td>-0.040935</td>\n",
       "      <td>0.613150</td>\n",
       "    </tr>\n",
       "    <tr>\n",
       "      <th>19</th>\n",
       "      <td>Secondary</td>\n",
       "      <td>Social Studies</td>\n",
       "      <td>-0.136000</td>\n",
       "      <td>0.079429</td>\n",
       "      <td>0.695214</td>\n",
       "    </tr>\n",
       "  </tbody>\n",
       "</table>\n",
       "</div>"
      ],
      "text/plain": [
       "    school_lvl    subject_area  pctm_lvpp  pctm_intra   pctm_pp\n",
       "0   Elementary             ELA  -0.029080    0.051333  0.384282\n",
       "1   Elementary            Math  -0.101760    0.042325  0.462220\n",
       "2   Elementary         Science  -0.165299    0.017747  0.547473\n",
       "3   Elementary  Social Studies  -0.011900    0.047390  0.401657\n",
       "4         High             ELA  -0.033504    0.067112  0.408841\n",
       "5         High            Math  -0.073359    0.036445  0.321936\n",
       "6         High         Science  -0.044428    0.007526  0.423662\n",
       "7         High  Social Studies   0.020849    0.051413  0.369330\n",
       "8       Middle             ELA  -0.063013    0.069574  0.369599\n",
       "9       Middle            Math  -0.106330    0.055484  0.416268\n",
       "10      Middle         Science  -0.224536    0.011099  0.551876\n",
       "11      Middle  Social Studies  -0.034536    0.065044  0.433790\n",
       "12       Other             ELA  -0.038263    0.046477  0.423619\n",
       "13       Other            Math  -0.068963    0.030686  0.392387\n",
       "14       Other         Science  -0.091616   -0.007521  0.472093\n",
       "15       Other  Social Studies   0.037244    0.013296  0.331580\n",
       "16   Secondary             ELA   0.035271    0.022712  0.369424\n",
       "17   Secondary            Math  -0.085104    0.002371  0.335609\n",
       "18   Secondary         Science  -0.098840   -0.040935  0.613150\n",
       "19   Secondary  Social Studies  -0.136000    0.079429  0.695214"
      ]
     },
     "execution_count": 34,
     "metadata": {},
     "output_type": "execute_result"
    }
   ],
   "source": [
    "pct_lags = weighted_average_metrics[['school_lvl', 'subject_area', 'pctm_lvpp', 'pctm_intra', 'pctm_pp']]\n",
    "average_proficiency = pct_lags.groupby(['school_lvl', 'subject_area']).mean().reset_index()\n",
    "average_proficiency"
   ]
  },
  {
   "cell_type": "markdown",
   "metadata": {},
   "source": [
    "#### Need to fix this code.  Dataframe changed shape from original code.  Need to use the updated Assessment weighted results"
   ]
  },
  {
   "cell_type": "code",
   "execution_count": 35,
   "metadata": {},
   "outputs": [],
   "source": [
    "# # Calculate average proficiency per school level and content area\n",
    "# average_proficiency = weighted_average_metrics.groupby(['school_lvl', 'subject_area']).mean()[['pctm_lvpp', 'pctm_intra', 'pctm_pp']].reset_index()\n",
    "\n",
    "# # Define subject_area\n",
    "# subject_area = weighted_average_metrics['subject_area'].unique().tolist()\n",
    "\n",
    "# # Reorder school levels\n",
    "# school_lvl_order = ['Elementary', 'Middle', 'High', 'Secondary', 'Other']\n",
    "\n",
    "# # Create bar plot\n",
    "# fig = px.bar(average_proficiency, x='subject_area', y=['pctm_lvpp', 'pctm_intra', 'pctm_pp'], color_discrete_map={'pctm_lvpp': 'blue', 'pctm_intra': 'green', 'pctm_pp': 'red'},\n",
    "#              facet_row='subject_area', facet_col='school_lvl',\n",
    "#              category_orders={'subject_area': subject_area, 'school_lvl': school_lvl_order},\n",
    "#              labels={'pctm_lvpp': 'Average Proficiency (LVPP)',\n",
    "#                      'pctm_intra': 'Average Proficiency (Intra)',\n",
    "#                      'pctm_pp': 'Average Proficiency (PP)',\n",
    "#                      'school_lvl': 'School Level',\n",
    "#                      'subject_area': 'Subject Area'})\n",
    "\n",
    "# # Update layout\n",
    "# fig.update_layout(\n",
    "#     title='Average Weighted Proficiency by School Level and Content Area',\n",
    "#     autosize=True,\n",
    "#     width=1200,\n",
    "#     height=900,\n",
    "# )\n",
    "\n",
    "# # Show the figure\n",
    "# fig.show()\n",
    "\n",
    "# # Save the figure as HTML\n",
    "# fig.write_html('../plotly_html/broad_overview.html')"
   ]
  }
 ],
 "metadata": {
  "kernelspec": {
   "display_name": "Python 3 (ipykernel)",
   "language": "python",
   "name": "python3"
  },
  "language_info": {
   "codemirror_mode": {
    "name": "ipython",
    "version": 3
   },
   "file_extension": ".py",
   "mimetype": "text/x-python",
   "name": "python",
   "nbconvert_exporter": "python",
   "pygments_lexer": "ipython3",
   "version": "3.9.16"
  }
 },
 "nbformat": 4,
 "nbformat_minor": 4
}
