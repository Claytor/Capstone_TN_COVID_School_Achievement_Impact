{
 "cells": [
  {
   "attachments": {},
   "cell_type": "markdown",
   "metadata": {},
   "source": [
    "# Joining Common Core of Data (CCD) From National Center for Education Statistics as well as Geo data for school and district locations."
   ]
  },
  {
   "cell_type": "code",
   "execution_count": 2,
   "metadata": {},
   "outputs": [],
   "source": [
    "import pandas as pd\n",
    "import numpy as np\n",
    "pd.options.mode.chained_assignment = None  # default='warn'"
   ]
  },
  {
   "attachments": {},
   "cell_type": "markdown",
   "metadata": {},
   "source": [
    "## Import ElSi Files"
   ]
  },
  {
   "attachments": {},
   "cell_type": "markdown",
   "metadata": {},
   "source": [
    "Set encoding to `latin_1` and low memory to `False` because Pandas wanted to encode as `utf-8` and `us_ascii` did not work either, Though that's what the original files were encoded in."
   ]
  },
  {
   "cell_type": "code",
   "execution_count": 3,
   "metadata": {},
   "outputs": [],
   "source": [
    "elsi_raw = pd.read_csv('../data/school_based/ELSI.csv')"
   ]
  },
  {
   "attachments": {},
   "cell_type": "markdown",
   "metadata": {},
   "source": [
    "## ElSi files concatination"
   ]
  },
  {
   "cell_type": "code",
   "execution_count": 4,
   "metadata": {},
   "outputs": [
    {
     "name": "stdout",
     "output_type": "stream",
     "text": [
      "<class 'pandas.core.frame.DataFrame'>\n",
      "RangeIndex: 1984 entries, 0 to 1983\n",
      "Data columns (total 66 columns):\n",
      " #   Column                                                             Non-Null Count  Dtype \n",
      "---  ------                                                             --------------  ----- \n",
      " 0   School Name                                                        1984 non-null   object\n",
      " 1   State Name [Public School] Latest available year                   1984 non-null   object\n",
      " 2   School Name [Public School] 2021-22                                1984 non-null   object\n",
      " 3   School Name [Public School] 2020-21                                1984 non-null   object\n",
      " 4   School Name [Public School] 2018-19                                1984 non-null   object\n",
      " 5   School Name [Public School] 2017-18                                1984 non-null   object\n",
      " 6   Agency Name [Public School] 2021-22                                1984 non-null   object\n",
      " 7   Agency Name [Public School] 2020-21                                1984 non-null   object\n",
      " 8   Agency Name [Public School] 2018-19                                1984 non-null   object\n",
      " 9   Agency Name [Public School] 2017-18                                1984 non-null   object\n",
      " 10  School Type [Public School] 2021-22                                1984 non-null   object\n",
      " 11  School Type [Public School] 2020-21                                1984 non-null   object\n",
      " 12  School Type [Public School] 2018-19                                1984 non-null   object\n",
      " 13  School Type [Public School] 2017-18                                1984 non-null   object\n",
      " 14  Charter School [Public School] 2021-22                             1984 non-null   object\n",
      " 15  Charter School [Public School] 2020-21                             1984 non-null   object\n",
      " 16  Charter School [Public School] 2018-19                             1984 non-null   object\n",
      " 17  Charter School [Public School] 2017-18                             1984 non-null   object\n",
      " 18  Magnet School [Public School] 2021-22                              1984 non-null   object\n",
      " 19  Magnet School [Public School] 2020-21                              1984 non-null   object\n",
      " 20  Magnet School [Public School] 2018-19                              1984 non-null   object\n",
      " 21  Magnet School [Public School] 2017-18                              1984 non-null   object\n",
      " 22  Locale [Public School] 2021-22                                     1984 non-null   object\n",
      " 23  Locale [Public School] 2020-21                                     1984 non-null   object\n",
      " 24  Locale [Public School] 2018-19                                     1984 non-null   object\n",
      " 25  Locale [Public School] 2017-18                                     1984 non-null   object\n",
      " 26  Title I Eligible School [Public School] 2021-22                    1984 non-null   object\n",
      " 27  Title I Eligible School [Public School] 2020-21                    1984 non-null   object\n",
      " 28  Title I Eligible School [Public School] 2018-19                    1984 non-null   object\n",
      " 29  Title I Eligible School [Public School] 2017-18                    1984 non-null   object\n",
      " 30  Latitude [Public School] 2021-22                                   1984 non-null   object\n",
      " 31  Latitude [Public School] 2020-21                                   1984 non-null   object\n",
      " 32  Latitude [Public School] 2018-19                                   1984 non-null   object\n",
      " 33  Latitude [Public School] 2017-18                                   1984 non-null   object\n",
      " 34  Longitude [Public School] 2021-22                                  1984 non-null   object\n",
      " 35  Longitude [Public School] 2020-21                                  1984 non-null   object\n",
      " 36  Longitude [Public School] 2018-19                                  1984 non-null   object\n",
      " 37  Longitude [Public School] 2017-18                                  1984 non-null   object\n",
      " 38  State School ID [Public School] 2021-22                            1984 non-null   object\n",
      " 39  State School ID [Public School] 2020-21                            1984 non-null   object\n",
      " 40  State School ID [Public School] 2018-19                            1984 non-null   object\n",
      " 41  State School ID [Public School] 2017-18                            1984 non-null   object\n",
      " 42  State Agency ID [Public School] 2021-22                            1984 non-null   object\n",
      " 43  State Agency ID [Public School] 2020-21                            1984 non-null   object\n",
      " 44  State Agency ID [Public School] 2018-19                            1984 non-null   object\n",
      " 45  State Agency ID [Public School] 2017-18                            1984 non-null   object\n",
      " 46  Virtual School Status (SY 2016-17 onward) [Public School] 2021-22  1984 non-null   object\n",
      " 47  Virtual School Status (SY 2016-17 onward) [Public School] 2020-21  1984 non-null   object\n",
      " 48  Virtual School Status (SY 2016-17 onward) [Public School] 2018-19  1984 non-null   object\n",
      " 49  Virtual School Status (SY 2016-17 onward) [Public School] 2017-18  1984 non-null   object\n",
      " 50  School Level (SY 2017-18 onward) [Public School] 2021-22           1984 non-null   object\n",
      " 51  School Level (SY 2017-18 onward) [Public School] 2020-21           1984 non-null   object\n",
      " 52  School Level (SY 2017-18 onward) [Public School] 2018-19           1984 non-null   object\n",
      " 53  School Level (SY 2017-18 onward) [Public School] 2017-18           1984 non-null   object\n",
      " 54  Total Students All Grades (Excludes AE) [Public School] 2021-22    1984 non-null   object\n",
      " 55  Total Students All Grades (Excludes AE) [Public School] 2020-21    1984 non-null   object\n",
      " 56  Total Students All Grades (Excludes AE) [Public School] 2018-19    1984 non-null   object\n",
      " 57  Total Students All Grades (Excludes AE) [Public School] 2017-18    1984 non-null   object\n",
      " 58  Full-Time Equivalent (FTE) Teachers [Public School] 2021-22        1984 non-null   object\n",
      " 59  Full-Time Equivalent (FTE) Teachers [Public School] 2020-21        1984 non-null   object\n",
      " 60  Full-Time Equivalent (FTE) Teachers [Public School] 2018-19        1984 non-null   object\n",
      " 61  Full-Time Equivalent (FTE) Teachers [Public School] 2017-18        1984 non-null   object\n",
      " 62  Pupil/Teacher Ratio [Public School] 2021-22                        1984 non-null   object\n",
      " 63  Pupil/Teacher Ratio [Public School] 2020-21                        1984 non-null   object\n",
      " 64  Pupil/Teacher Ratio [Public School] 2018-19                        1984 non-null   object\n",
      " 65  Pupil/Teacher Ratio [Public School] 2017-18                        1984 non-null   object\n",
      "dtypes: object(66)\n",
      "memory usage: 1023.1+ KB\n"
     ]
    }
   ],
   "source": [
    "elsi_raw.info()"
   ]
  },
  {
   "cell_type": "code",
   "execution_count": 5,
   "metadata": {},
   "outputs": [],
   "source": [
    "# Slice ElSi data into dataframes by year.\n",
    "elsi_18 = elsi_raw.loc[:, elsi_raw.columns.str.contains('2017-18')]\n",
    "elsi_19 = elsi_raw.loc[:, elsi_raw.columns.str.contains('2018-19')]\n",
    "elsi_21 = elsi_raw.loc[:, elsi_raw.columns.str.contains('2020-21')]\n",
    "elsi_22 = elsi_raw.loc[:, elsi_raw.columns.str.contains('2021-22')]"
   ]
  },
  {
   "cell_type": "code",
   "execution_count": 6,
   "metadata": {},
   "outputs": [],
   "source": [
    "# List for column renaming\n",
    "elsi_cols = ['school_name', \n",
    "             'system_name', \n",
    "             'school_type', \n",
    "             'charter',\n",
    "             'magnet',\n",
    "             'locale',\n",
    "             'title_1',\n",
    "             'lat',\n",
    "             'long',\n",
    "             'school',\n",
    "             'system',\n",
    "             'virtual',\n",
    "             'school_lvl',\n",
    "             'tot_enrolled',\n",
    "             'fte_teachers',\n",
    "             'stu_tchr_ratio'\n",
    "             ]"
   ]
  },
  {
   "cell_type": "code",
   "execution_count": 7,
   "metadata": {},
   "outputs": [],
   "source": [
    "# Due to an unforseeable quirk, this picked up three additional columns\n",
    "elsi_18 = elsi_18.drop(['School Level (SY 2017-18 onward) [Public School] 2021-22',\n",
    "                       'School Level (SY 2017-18 onward) [Public School] 2020-21',\n",
    "                       'School Level (SY 2017-18 onward) [Public School] 2018-19'],\n",
    "                       axis = 1)\n",
    "# Apply elsi_cols list to replace column names\n",
    "elsi_18.columns = elsi_cols\n",
    "\n",
    "# Adding Year column\n",
    "elsi_18['year'] = 2018\n",
    "\n",
    "# Apply elsi_cols list to 2019\n",
    "elsi_19.columns = elsi_cols\n",
    "\n",
    "# Adding 2019 Year column\n",
    "elsi_19['year'] = 2019\n",
    "\n",
    "# Apply elsi_cols list to 2021\n",
    "elsi_21.columns = elsi_cols\n",
    "\n",
    "# Adding 2021 Year column\n",
    "elsi_21['year'] = 2021\n",
    "\n",
    "# Apply elsi_cols list to 2022\n",
    "elsi_22.columns = elsi_cols\n",
    "\n",
    "# Adding 2022 Year column\n",
    "elsi_22['year'] = 2022\n"
   ]
  },
  {
   "cell_type": "code",
   "execution_count": 8,
   "metadata": {},
   "outputs": [],
   "source": [
    "# Concatonate all ElSi Data to long dataframe\n",
    "elsi = pd.concat([elsi_18, elsi_19, elsi_21, elsi_22])"
   ]
  },
  {
   "cell_type": "code",
   "execution_count": 11,
   "metadata": {},
   "outputs": [],
   "source": [
    "elsi_order = (['year',\n",
    "            'system',\n",
    "            'school',\n",
    "            'system_name',\n",
    "            'school_name', \n",
    "            'school_lvl',\n",
    "            'tot_enrolled', \n",
    "            'fte_teachers', \n",
    "            'stu_tchr_ratio',\n",
    "            'school_type', \n",
    "            'magnet',\n",
    "            'charter',\n",
    "            'virtual',\n",
    "            'title_1',\n",
    "            'lat', \n",
    "            'long', \n",
    "            'locale'\n",
    "             ])"
   ]
  }
 ],
 "metadata": {
  "kernelspec": {
   "display_name": "base",
   "language": "python",
   "name": "python3"
  },
  "language_info": {
   "codemirror_mode": {
    "name": "ipython",
    "version": 3
   },
   "file_extension": ".py",
   "mimetype": "text/x-python",
   "name": "python",
   "nbconvert_exporter": "python",
   "pygments_lexer": "ipython3",
   "version": "3.9.16"
  },
  "orig_nbformat": 4
 },
 "nbformat": 4,
 "nbformat_minor": 2
}
