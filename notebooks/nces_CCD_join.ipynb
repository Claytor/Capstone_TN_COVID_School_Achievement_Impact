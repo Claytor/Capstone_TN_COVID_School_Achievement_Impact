{
 "cells": [
  {
   "attachments": {},
   "cell_type": "markdown",
   "metadata": {},
   "source": [
    "# Joining Common Core of Data (CCD) From National Center for Education Statistics "
   ]
  },
  {
   "cell_type": "code",
   "execution_count": 2,
   "metadata": {},
   "outputs": [],
   "source": [
    "import pandas as pd\n",
    "import numpy as np"
   ]
  },
  {
   "attachments": {},
   "cell_type": "markdown",
   "metadata": {},
   "source": [
    "## Import CCD Files"
   ]
  },
  {
   "cell_type": "code",
   "execution_count": 12,
   "metadata": {},
   "outputs": [],
   "source": [
    "ccd_18 = pd.read_csv('../data/school_based/18_ccd.csv', encoding='latin_1', low_memory=False)\n",
    "ccd_19 = pd.read_csv('../data/school_based/19_ccd.csv', encoding='latin_1', low_memory=False)\n",
    "ccd_21 = pd.read_csv('../data/school_based/21_ccd.csv', encoding='latin_1', low_memory=False)\n",
    "ccd_22 = pd.read_csv('../data/school_based/22_ccd.csv', encoding='latin_1', low_memory=False)"
   ]
  },
  {
   "cell_type": "code",
   "execution_count": 13,
   "metadata": {},
   "outputs": [
    {
     "name": "stdout",
     "output_type": "stream",
     "text": [
      "<class 'pandas.core.frame.DataFrame'>\n",
      "RangeIndex: 102337 entries, 0 to 102336\n",
      "Data columns (total 65 columns):\n",
      " #   Column               Non-Null Count   Dtype  \n",
      "---  ------               --------------   -----  \n",
      " 0   SCHOOL_YEAR          102337 non-null  object \n",
      " 1   FIPST                102337 non-null  int64  \n",
      " 2   STATENAME            102337 non-null  object \n",
      " 3   ST                   102337 non-null  object \n",
      " 4   SCH_NAME             102337 non-null  object \n",
      " 5   LEA_NAME             102337 non-null  object \n",
      " 6   STATE_AGENCY_NO      102337 non-null  int64  \n",
      " 7   UNION                2480 non-null    float64\n",
      " 8   ST_LEAID             102337 non-null  object \n",
      " 9   LEAID                102337 non-null  int64  \n",
      " 10  ST_SCHID             102337 non-null  object \n",
      " 11  NCESSCH              102337 non-null  int64  \n",
      " 12  SCHID                102337 non-null  int64  \n",
      " 13  MSTREET1             102337 non-null  object \n",
      " 14  MSTREET2             1781 non-null    object \n",
      " 15  MSTREET3             28 non-null      object \n",
      " 16  MCITY                102337 non-null  object \n",
      " 17  MSTATE               102337 non-null  object \n",
      " 18  MZIP                 102337 non-null  int64  \n",
      " 19  MZIP4                61850 non-null   float64\n",
      " 20  LSTREET1             102335 non-null  object \n",
      " 21  LSTREET2             608 non-null     object \n",
      " 22  LSTREET3             11 non-null      object \n",
      " 23  LCITY                102337 non-null  object \n",
      " 24  LSTATE               102337 non-null  object \n",
      " 25  LZIP                 102337 non-null  int64  \n",
      " 26  LZIP4                59923 non-null   float64\n",
      " 27  PHONE                102337 non-null  object \n",
      " 28  WEBSITE              57026 non-null   object \n",
      " 29  SY_STATUS            102337 non-null  int64  \n",
      " 30  SY_STATUS_TEXT       102337 non-null  object \n",
      " 31  UPDATED_STATUS       102337 non-null  int64  \n",
      " 32  UPDATED_STATUS_TEXT  102337 non-null  object \n",
      " 33  EFFECTIVE_DATE       102337 non-null  object \n",
      " 34  SCH_TYPE_TEXT        102337 non-null  object \n",
      " 35  SCH_TYPE             102337 non-null  int64  \n",
      " 36  RECON_STATUS         102337 non-null  object \n",
      " 37  OUT_OF_STATE_FLAG    102337 non-null  object \n",
      " 38  CHARTER_TEXT         102337 non-null  object \n",
      " 39  CHARTAUTH1           6753 non-null    object \n",
      " 40  CHARTAUTHN1          6753 non-null    object \n",
      " 41  CHARTAUTH2           125 non-null     object \n",
      " 42  CHARTAUTHN2          125 non-null     object \n",
      " 43  NOGRADES             102337 non-null  object \n",
      " 44  G_PK_OFFERED         102337 non-null  object \n",
      " 45  G_KG_OFFERED         102337 non-null  object \n",
      " 46  G_1_OFFERED          102337 non-null  object \n",
      " 47  G_2_OFFERED          102337 non-null  object \n",
      " 48  G_3_OFFERED          102337 non-null  object \n",
      " 49  G_4_OFFERED          102337 non-null  object \n",
      " 50  G_5_OFFERED          102337 non-null  object \n",
      " 51  G_6_OFFERED          102337 non-null  object \n",
      " 52  G_7_OFFERED          102337 non-null  object \n",
      " 53  G_8_OFFERED          102337 non-null  object \n",
      " 54  G_9_OFFERED          102337 non-null  object \n",
      " 55  G_10_OFFERED         102337 non-null  object \n",
      " 56  G_11_OFFERED         102337 non-null  object \n",
      " 57  G_12_OFFERED         102337 non-null  object \n",
      " 58  G_13_OFFERED         102337 non-null  object \n",
      " 59  G_UG_OFFERED         102337 non-null  object \n",
      " 60  G_AE_OFFERED         102337 non-null  object \n",
      " 61  GSLO                 102337 non-null  object \n",
      " 62  GSHI                 102337 non-null  object \n",
      " 63  LEVEL                102337 non-null  object \n",
      " 64  IGOFFERED            102337 non-null  object \n",
      "dtypes: float64(3), int64(10), object(52)\n",
      "memory usage: 50.8+ MB\n"
     ]
    }
   ],
   "source": [
    "ccd_18.info()"
   ]
  }
 ],
 "metadata": {
  "kernelspec": {
   "display_name": "base",
   "language": "python",
   "name": "python3"
  },
  "language_info": {
   "codemirror_mode": {
    "name": "ipython",
    "version": 3
   },
   "file_extension": ".py",
   "mimetype": "text/x-python",
   "name": "python",
   "nbconvert_exporter": "python",
   "pygments_lexer": "ipython3",
   "version": "3.9.16"
  },
  "orig_nbformat": 4
 },
 "nbformat": 4,
 "nbformat_minor": 2
}
