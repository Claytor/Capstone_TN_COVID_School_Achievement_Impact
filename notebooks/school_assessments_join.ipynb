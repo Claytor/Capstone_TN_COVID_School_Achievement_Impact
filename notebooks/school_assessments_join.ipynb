{
 "cells": [
  {
   "cell_type": "code",
   "execution_count": 1,
   "id": "03ff6d0c-7d6a-4023-af2b-8d478689ff84",
   "metadata": {},
   "outputs": [],
   "source": [
    "import pandas as pd"
   ]
  },
  {
   "cell_type": "code",
   "execution_count": 7,
   "id": "55c1e291-8119-4334-af2f-055943076372",
   "metadata": {},
   "outputs": [
    {
     "name": "stdout",
     "output_type": "stream",
     "text": [
      "<class 'pandas.core.frame.DataFrame'>\n",
      "RangeIndex: 440633 entries, 0 to 440632\n",
      "Data columns (total 16 columns):\n",
      " #   Column           Non-Null Count   Dtype  \n",
      "---  ------           --------------   -----  \n",
      " 0   year             440633 non-null  int64  \n",
      " 1   system           440633 non-null  int64  \n",
      " 2   school           440633 non-null  int64  \n",
      " 3   subject          440633 non-null  object \n",
      " 4   grade            440633 non-null  object \n",
      " 5   subgroup         440633 non-null  object \n",
      " 6   valid_tests      440633 non-null  float64\n",
      " 7   n_below          440633 non-null  object \n",
      " 8   n_approaching    440633 non-null  object \n",
      " 9   n_on_track       440633 non-null  object \n",
      " 10  n_mastered       440633 non-null  object \n",
      " 11  pct_below        440633 non-null  object \n",
      " 12  pct_approaching  440633 non-null  object \n",
      " 13  pct_on_track     440633 non-null  object \n",
      " 14  pct_mastered     440633 non-null  object \n",
      " 15  pct_on_mastered  440633 non-null  object \n",
      "dtypes: float64(1), int64(3), object(12)\n",
      "memory usage: 53.8+ MB\n"
     ]
    }
   ],
   "source": [
    "data_2017 = pd.read_csv('../data/school_based/2017.csv')\n",
    "data_2017.info()"
   ]
  },
  {
   "cell_type": "code",
   "execution_count": 10,
   "id": "998db8ac-8316-4a61-8ee8-4da0e1fed55c",
   "metadata": {},
   "outputs": [
    {
     "name": "stdout",
     "output_type": "stream",
     "text": [
      "<class 'pandas.core.frame.DataFrame'>\n",
      "RangeIndex: 595171 entries, 0 to 595170\n",
      "Data columns (total 19 columns):\n",
      " #   Column           Non-Null Count   Dtype  \n",
      "---  ------           --------------   -----  \n",
      " 0   year             595171 non-null  int64  \n",
      " 1   system           595171 non-null  int64  \n",
      " 2   system_name      595171 non-null  object \n",
      " 3   school           595171 non-null  int64  \n",
      " 4   school_name      595171 non-null  object \n",
      " 5   test             595171 non-null  object \n",
      " 6   subject          595171 non-null  object \n",
      " 7   grade            595171 non-null  object \n",
      " 8   subgroup         595171 non-null  object \n",
      " 9   valid_tests      595171 non-null  float64\n",
      " 10  n_below          595171 non-null  object \n",
      " 11  n_approaching    595171 non-null  object \n",
      " 12  n_on_track       595171 non-null  object \n",
      " 13  n_mastered       595171 non-null  object \n",
      " 14  pct_below        595171 non-null  object \n",
      " 15  pct_approaching  595171 non-null  object \n",
      " 16  pct_on_track     595171 non-null  object \n",
      " 17  pct_mastered     595171 non-null  object \n",
      " 18  pct_on_mastered  595171 non-null  object \n",
      "dtypes: float64(1), int64(3), object(15)\n",
      "memory usage: 86.3+ MB\n"
     ]
    }
   ],
   "source": [
    "data_2018 =pd.read_csv('../data/school_based/2018.csv')\n",
    "data_2018.info()"
   ]
  },
  {
   "cell_type": "code",
   "execution_count": 11,
   "id": "cea5f89b",
   "metadata": {},
   "outputs": [
    {
     "name": "stdout",
     "output_type": "stream",
     "text": [
      "<class 'pandas.core.frame.DataFrame'>\n",
      "RangeIndex: 458442 entries, 0 to 458441\n",
      "Data columns (total 21 columns):\n",
      " #   Column           Non-Null Count   Dtype \n",
      "---  ------           --------------   ----- \n",
      " 0   year             458442 non-null  int64 \n",
      " 1   system           458442 non-null  int64 \n",
      " 2   system_name      458442 non-null  object\n",
      " 3   school           458442 non-null  int64 \n",
      " 4   school_name      458310 non-null  object\n",
      " 5   test             458442 non-null  object\n",
      " 6   subject          458442 non-null  object\n",
      " 7   grade            458442 non-null  object\n",
      " 8   subgroup         458442 non-null  object\n",
      " 9   enrolled         458442 non-null  int64 \n",
      " 10  tested           458442 non-null  int64 \n",
      " 11  valid_tests      458442 non-null  int64 \n",
      " 12  n_below          458442 non-null  object\n",
      " 13  n_approaching    458442 non-null  object\n",
      " 14  n_on_track       458442 non-null  object\n",
      " 15  n_mastered       458442 non-null  object\n",
      " 16  pct_below        458442 non-null  object\n",
      " 17  pct_approaching  458442 non-null  object\n",
      " 18  pct_on_track     458442 non-null  object\n",
      " 19  pct_mastered     458442 non-null  object\n",
      " 20  pct_on_mastered  458442 non-null  object\n",
      "dtypes: int64(6), object(15)\n",
      "memory usage: 73.5+ MB\n"
     ]
    }
   ],
   "source": [
    "data_2019 = pd.read_csv('../data/school_based/2019.csv')\n",
    "data_2019.info()"
   ]
  },
  {
   "cell_type": "code",
   "execution_count": 13,
   "id": "a9fb264e",
   "metadata": {},
   "outputs": [
    {
     "name": "stdout",
     "output_type": "stream",
     "text": [
      "<class 'pandas.core.frame.DataFrame'>\n",
      "RangeIndex: 646799 entries, 0 to 646798\n",
      "Data columns (total 22 columns):\n",
      " #   Column              Non-Null Count   Dtype \n",
      "---  ------              --------------   ----- \n",
      " 0   year                646799 non-null  int64 \n",
      " 1   system              646799 non-null  int64 \n",
      " 2   system_name         646799 non-null  object\n",
      " 3   school              646799 non-null  int64 \n",
      " 4   school_name         646799 non-null  object\n",
      " 5   test                646799 non-null  object\n",
      " 6   subject             646799 non-null  object\n",
      " 7   grade               646799 non-null  object\n",
      " 8   subgroup            646799 non-null  object\n",
      " 9   participation_rate  646799 non-null  object\n",
      " 10  enrolled            646799 non-null  int64 \n",
      " 11  tested              646799 non-null  int64 \n",
      " 12  valid_tests         646799 non-null  int64 \n",
      " 13  n_below             646799 non-null  object\n",
      " 14  n_approaching       646799 non-null  object\n",
      " 15  n_on_track          646799 non-null  object\n",
      " 16  n_mastered          646799 non-null  object\n",
      " 17  pct_below           646799 non-null  object\n",
      " 18  pct_approaching     646799 non-null  object\n",
      " 19  pct_on_track        646799 non-null  object\n",
      " 20  pct_mastered        646799 non-null  object\n",
      " 21  pct_on_mastered     646799 non-null  object\n",
      "dtypes: int64(6), object(16)\n",
      "memory usage: 108.6+ MB\n"
     ]
    }
   ],
   "source": [
    "data_2021 = pd.read_csv('../data/school_based/2021.csv')\n",
    "data_2021.info()"
   ]
  },
  {
   "cell_type": "code",
   "execution_count": 14,
   "id": "378e3f63",
   "metadata": {},
   "outputs": [
    {
     "name": "stdout",
     "output_type": "stream",
     "text": [
      "<class 'pandas.core.frame.DataFrame'>\n",
      "RangeIndex: 675534 entries, 0 to 675533\n",
      "Data columns (total 22 columns):\n",
      " #   Column                     Non-Null Count   Dtype \n",
      "---  ------                     --------------   ----- \n",
      " 0   year                       675534 non-null  int64 \n",
      " 1   system                     675534 non-null  int64 \n",
      " 2   system_name                675534 non-null  object\n",
      " 3   school                     675534 non-null  int64 \n",
      " 4   school_name                675534 non-null  object\n",
      " 5   test                       675534 non-null  object\n",
      " 6   subject                    675534 non-null  object\n",
      " 7   grade                      675534 non-null  object\n",
      " 8   student_group              675534 non-null  object\n",
      " 9   participation_rate         675534 non-null  object\n",
      " 10  enrolled                   675534 non-null  int64 \n",
      " 11  tested                     675534 non-null  int64 \n",
      " 12  valid_tests                675534 non-null  int64 \n",
      " 13  n_below                    675534 non-null  object\n",
      " 14  n_approaching              675534 non-null  object\n",
      " 15  n_met_expectations         675534 non-null  object\n",
      " 16  n_exceeded_expectations    675534 non-null  object\n",
      " 17  pct_below                  675534 non-null  object\n",
      " 18  pct_approaching            675534 non-null  object\n",
      " 19  pct_met_expectations       675534 non-null  object\n",
      " 20  pct_exceeded_expectations  675534 non-null  object\n",
      " 21  pct_met_exceeded           675534 non-null  object\n",
      "dtypes: int64(6), object(16)\n",
      "memory usage: 113.4+ MB\n"
     ]
    }
   ],
   "source": [
    "data_2022 = pd.read_excel('../data/school_based/2022.xlsx')\n",
    "data_2022.info()"
   ]
  }
 ],
 "metadata": {
  "kernelspec": {
   "display_name": "Python 3 (ipykernel)",
   "language": "python",
   "name": "python3"
  },
  "language_info": {
   "codemirror_mode": {
    "name": "ipython",
    "version": 3
   },
   "file_extension": ".py",
   "mimetype": "text/x-python",
   "name": "python",
   "nbconvert_exporter": "python",
   "pygments_lexer": "ipython3",
   "version": "3.9.16"
  }
 },
 "nbformat": 4,
 "nbformat_minor": 5
}
