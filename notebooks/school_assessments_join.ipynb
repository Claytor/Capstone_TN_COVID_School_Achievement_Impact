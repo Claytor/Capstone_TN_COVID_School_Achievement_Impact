{
 "cells": [
  {
   "cell_type": "code",
   "execution_count": 1,
   "id": "03ff6d0c-7d6a-4023-af2b-8d478689ff84",
   "metadata": {},
   "outputs": [],
   "source": [
    "import pandas as pd\n",
    "import numpy as np\n",
    "import plotly as plt\n",
    "import plotly.express as px\n",
    "import io"
   ]
  },
  {
   "attachments": {},
   "cell_type": "markdown",
   "id": "6085cc8a",
   "metadata": {},
   "source": [
    "### Reading in assessment data for every TN Public school for 5 years of historical data\n",
    "    > Technically 6 but the test was canceled for 2020"
   ]
  },
  {
   "cell_type": "code",
   "execution_count": 2,
   "id": "6ec33e06",
   "metadata": {},
   "outputs": [],
   "source": [
    "# Missing data related to district, school, and enrollment \n",
    "data_2017 = pd.read_csv('../data/school_based/2017.csv')\n",
    "# Missing enrollment data\n",
    "data_2018 =pd.read_csv('../data/school_based/2018.csv')\n",
    "data_2019 = pd.read_csv('../data/school_based/2019.csv')\n",
    "data_2021 = pd.read_csv('../data/school_based/2021.csv')\n",
    "# Uses different naming conventions than previous years.\n",
    "# Metric naming will be standardized to align with 2022 conventions\n",
    "data_2022 = pd.read_csv('../data/school_based/2022.csv')"
   ]
  },
  {
   "cell_type": "code",
   "execution_count": 3,
   "id": "6db458ec",
   "metadata": {},
   "outputs": [
    {
     "name": "stdout",
     "output_type": "stream",
     "text": [
      "year_2017 info:\n",
      "<class 'pandas.core.frame.DataFrame'>\n",
      "RangeIndex: 440633 entries, 0 to 440632\n",
      "Data columns (total 16 columns):\n",
      " #   Column           Non-Null Count   Dtype  \n",
      "---  ------           --------------   -----  \n",
      " 0   year             440633 non-null  int64  \n",
      " 1   system           440633 non-null  int64  \n",
      " 2   school           440633 non-null  int64  \n",
      " 3   subject          440633 non-null  object \n",
      " 4   grade            440633 non-null  object \n",
      " 5   subgroup         440633 non-null  object \n",
      " 6   valid_tests      440633 non-null  float64\n",
      " 7   n_below          440633 non-null  object \n",
      " 8   n_approaching    440633 non-null  object \n",
      " 9   n_on_track       440633 non-null  object \n",
      " 10  n_mastered       440633 non-null  object \n",
      " 11  pct_below        440633 non-null  object \n",
      " 12  pct_approaching  440633 non-null  object \n",
      " 13  pct_on_track     440633 non-null  object \n",
      " 14  pct_mastered     440633 non-null  object \n",
      " 15  pct_on_mastered  440633 non-null  object \n",
      "dtypes: float64(1), int64(3), object(12)\n",
      "memory usage: 53.8+ MB\n",
      "\n",
      "---\n",
      "year_2018 info:\n",
      "<class 'pandas.core.frame.DataFrame'>\n",
      "RangeIndex: 595171 entries, 0 to 595170\n",
      "Data columns (total 19 columns):\n",
      " #   Column           Non-Null Count   Dtype  \n",
      "---  ------           --------------   -----  \n",
      " 0   year             595171 non-null  int64  \n",
      " 1   system           595171 non-null  int64  \n",
      " 2   system_name      595171 non-null  object \n",
      " 3   school           595171 non-null  int64  \n",
      " 4   school_name      595171 non-null  object \n",
      " 5   test             595171 non-null  object \n",
      " 6   subject          595171 non-null  object \n",
      " 7   grade            595171 non-null  object \n",
      " 8   subgroup         595171 non-null  object \n",
      " 9   valid_tests      595171 non-null  float64\n",
      " 10  n_below          595171 non-null  object \n",
      " 11  n_approaching    595171 non-null  object \n",
      " 12  n_on_track       595171 non-null  object \n",
      " 13  n_mastered       595171 non-null  object \n",
      " 14  pct_below        595171 non-null  object \n",
      " 15  pct_approaching  595171 non-null  object \n",
      " 16  pct_on_track     595171 non-null  object \n",
      " 17  pct_mastered     595171 non-null  object \n",
      " 18  pct_on_mastered  595171 non-null  object \n",
      "dtypes: float64(1), int64(3), object(15)\n",
      "memory usage: 86.3+ MB\n",
      "\n",
      "---\n",
      "year_2019 info:\n",
      "<class 'pandas.core.frame.DataFrame'>\n",
      "RangeIndex: 458442 entries, 0 to 458441\n",
      "Data columns (total 21 columns):\n",
      " #   Column           Non-Null Count   Dtype \n",
      "---  ------           --------------   ----- \n",
      " 0   year             458442 non-null  int64 \n",
      " 1   system           458442 non-null  int64 \n",
      " 2   system_name      458442 non-null  object\n",
      " 3   school           458442 non-null  int64 \n",
      " 4   school_name      458310 non-null  object\n",
      " 5   test             458442 non-null  object\n",
      " 6   subject          458442 non-null  object\n",
      " 7   grade            458442 non-null  object\n",
      " 8   subgroup         458442 non-null  object\n",
      " 9   enrolled         458442 non-null  int64 \n",
      " 10  tested           458442 non-null  int64 \n",
      " 11  valid_tests      458442 non-null  int64 \n",
      " 12  n_below          458442 non-null  object\n",
      " 13  n_approaching    458442 non-null  object\n",
      " 14  n_on_track       458442 non-null  object\n",
      " 15  n_mastered       458442 non-null  object\n",
      " 16  pct_below        458442 non-null  object\n",
      " 17  pct_approaching  458442 non-null  object\n",
      " 18  pct_on_track     458442 non-null  object\n",
      " 19  pct_mastered     458442 non-null  object\n",
      " 20  pct_on_mastered  458442 non-null  object\n",
      "dtypes: int64(6), object(15)\n",
      "memory usage: 73.5+ MB\n",
      "\n",
      "---\n",
      "year_2021 info:\n",
      "<class 'pandas.core.frame.DataFrame'>\n",
      "RangeIndex: 646799 entries, 0 to 646798\n",
      "Data columns (total 22 columns):\n",
      " #   Column              Non-Null Count   Dtype \n",
      "---  ------              --------------   ----- \n",
      " 0   year                646799 non-null  int64 \n",
      " 1   system              646799 non-null  int64 \n",
      " 2   system_name         646799 non-null  object\n",
      " 3   school              646799 non-null  int64 \n",
      " 4   school_name         646799 non-null  object\n",
      " 5   test                646799 non-null  object\n",
      " 6   subject             646799 non-null  object\n",
      " 7   grade               646799 non-null  object\n",
      " 8   subgroup            646799 non-null  object\n",
      " 9   participation_rate  646799 non-null  object\n",
      " 10  enrolled            646799 non-null  int64 \n",
      " 11  tested              646799 non-null  int64 \n",
      " 12  valid_tests         646799 non-null  int64 \n",
      " 13  n_below             646799 non-null  object\n",
      " 14  n_approaching       646799 non-null  object\n",
      " 15  n_on_track          646799 non-null  object\n",
      " 16  n_mastered          646799 non-null  object\n",
      " 17  pct_below           646799 non-null  object\n",
      " 18  pct_approaching     646799 non-null  object\n",
      " 19  pct_on_track        646799 non-null  object\n",
      " 20  pct_mastered        646799 non-null  object\n",
      " 21  pct_on_mastered     646799 non-null  object\n",
      "dtypes: int64(6), object(16)\n",
      "memory usage: 108.6+ MB\n",
      "\n",
      "---\n",
      "year_2022 info:\n",
      "<class 'pandas.core.frame.DataFrame'>\n",
      "RangeIndex: 675534 entries, 0 to 675533\n",
      "Data columns (total 22 columns):\n",
      " #   Column                     Non-Null Count   Dtype \n",
      "---  ------                     --------------   ----- \n",
      " 0   year                       675534 non-null  int64 \n",
      " 1   system                     675534 non-null  int64 \n",
      " 2   system_name                675534 non-null  object\n",
      " 3   school                     675534 non-null  int64 \n",
      " 4   school_name                675534 non-null  object\n",
      " 5   test                       675534 non-null  object\n",
      " 6   subject                    675534 non-null  object\n",
      " 7   grade                      675534 non-null  object\n",
      " 8   student_group              675534 non-null  object\n",
      " 9   participation_rate         675534 non-null  object\n",
      " 10  enrolled                   675534 non-null  int64 \n",
      " 11  tested                     675534 non-null  int64 \n",
      " 12  valid_tests                675534 non-null  int64 \n",
      " 13  n_below                    675534 non-null  object\n",
      " 14  n_approaching              675534 non-null  object\n",
      " 15  n_met_expectations         675534 non-null  object\n",
      " 16  n_exceeded_expectations    675534 non-null  object\n",
      " 17  pct_below                  675534 non-null  object\n",
      " 18  pct_approaching            675534 non-null  object\n",
      " 19  pct_met_expectations       675534 non-null  object\n",
      " 20  pct_exceeded_expectations  675534 non-null  object\n",
      " 21  pct_met_exceeded           675534 non-null  object\n",
      "dtypes: int64(6), object(16)\n",
      "memory usage: 113.4+ MB\n",
      "\n",
      "---\n",
      "\n"
     ]
    }
   ],
   "source": [
    "# List of annual assessment daframes\n",
    "dfs = [data_2017, data_2018, data_2019, data_2021, data_2022]\n",
    "df_names = ['year_2017', 'year_2018', 'year_2019', 'year_2021', 'year_2022']\n",
    "\n",
    "# Initialize a StringIO object to get info in one go\n",
    "output = io.StringIO()\n",
    "\n",
    "# Loop through the dfs and their names\n",
    "for df, name in zip(dfs, df_names):\n",
    "\n",
    "    # Write the name of the DataFrame to the output\n",
    "    output.write(f\"{name} info:\\n\")\n",
    "    \n",
    "    # Capture the output of the .info() method\n",
    "    df.info(buf=output)\n",
    "    \n",
    "    # Separater\n",
    "    output.write(\"\\n---\\n\")\n",
    "\n",
    "# output \n",
    "info_str = output.getvalue()\n",
    "\n",
    "# Close the StringIO object\n",
    "output.close()\n",
    "\n",
    "print(info_str)"
   ]
  },
  {
   "attachments": {},
   "cell_type": "markdown",
   "id": "55c1e291-8119-4334-af2f-055943076372",
   "metadata": {},
   "source": [
    "## Issues\n",
    "- Figure out to deal with suppressed data and salvage as much student demographic data as you can      \n",
    "  - `*` = The number of **valid** test scores is less than 10.\n",
    "  - `**` = Any individual proficiency level is <u>less than</u> **1%** or <u>greater than</u> **99%** of the district average.\n"
   ]
  },
  {
   "attachments": {},
   "cell_type": "markdown",
   "id": "55cb77fd",
   "metadata": {},
   "source": [
    "### Combine Datasets with more or less the same naming conventions"
   ]
  },
  {
   "cell_type": "code",
   "execution_count": 4,
   "id": "65f60d36",
   "metadata": {},
   "outputs": [
    {
     "data": {
      "text/html": [
       "<div>\n",
       "<style scoped>\n",
       "    .dataframe tbody tr th:only-of-type {\n",
       "        vertical-align: middle;\n",
       "    }\n",
       "\n",
       "    .dataframe tbody tr th {\n",
       "        vertical-align: top;\n",
       "    }\n",
       "\n",
       "    .dataframe thead th {\n",
       "        text-align: right;\n",
       "    }\n",
       "</style>\n",
       "<table border=\"1\" class=\"dataframe\">\n",
       "  <thead>\n",
       "    <tr style=\"text-align: right;\">\n",
       "      <th></th>\n",
       "      <th>year</th>\n",
       "      <th>system</th>\n",
       "      <th>system_name</th>\n",
       "      <th>school</th>\n",
       "      <th>school_name</th>\n",
       "      <th>test</th>\n",
       "      <th>subject</th>\n",
       "      <th>grade</th>\n",
       "      <th>student_group</th>\n",
       "      <th>valid_tests</th>\n",
       "      <th>...</th>\n",
       "      <th>n_met_expectations</th>\n",
       "      <th>n_exceeded_expectations</th>\n",
       "      <th>pct_below</th>\n",
       "      <th>pct_approaching</th>\n",
       "      <th>pct_met_expectations</th>\n",
       "      <th>pct_exceeded_expectations</th>\n",
       "      <th>pct_met_exceeded</th>\n",
       "      <th>enrolled</th>\n",
       "      <th>tested</th>\n",
       "      <th>participation_rate</th>\n",
       "    </tr>\n",
       "  </thead>\n",
       "  <tbody>\n",
       "    <tr>\n",
       "      <th>0</th>\n",
       "      <td>2018</td>\n",
       "      <td>10</td>\n",
       "      <td>Anderson County</td>\n",
       "      <td>2</td>\n",
       "      <td>Anderson County High School</td>\n",
       "      <td>EOC</td>\n",
       "      <td>Algebra I</td>\n",
       "      <td>10</td>\n",
       "      <td>All Students</td>\n",
       "      <td>43.0</td>\n",
       "      <td>...</td>\n",
       "      <td>**</td>\n",
       "      <td>**</td>\n",
       "      <td>**</td>\n",
       "      <td>**</td>\n",
       "      <td>**</td>\n",
       "      <td>**</td>\n",
       "      <td>**</td>\n",
       "      <td>NaN</td>\n",
       "      <td>NaN</td>\n",
       "      <td>NaN</td>\n",
       "    </tr>\n",
       "    <tr>\n",
       "      <th>1</th>\n",
       "      <td>2018</td>\n",
       "      <td>10</td>\n",
       "      <td>Anderson County</td>\n",
       "      <td>2</td>\n",
       "      <td>Anderson County High School</td>\n",
       "      <td>EOC</td>\n",
       "      <td>Algebra I</td>\n",
       "      <td>10</td>\n",
       "      <td>Economically Disadvantaged</td>\n",
       "      <td>14.0</td>\n",
       "      <td>...</td>\n",
       "      <td>**</td>\n",
       "      <td>**</td>\n",
       "      <td>**</td>\n",
       "      <td>**</td>\n",
       "      <td>**</td>\n",
       "      <td>**</td>\n",
       "      <td>7.1</td>\n",
       "      <td>NaN</td>\n",
       "      <td>NaN</td>\n",
       "      <td>NaN</td>\n",
       "    </tr>\n",
       "    <tr>\n",
       "      <th>2</th>\n",
       "      <td>2018</td>\n",
       "      <td>10</td>\n",
       "      <td>Anderson County</td>\n",
       "      <td>2</td>\n",
       "      <td>Anderson County High School</td>\n",
       "      <td>EOC</td>\n",
       "      <td>Algebra I</td>\n",
       "      <td>10</td>\n",
       "      <td>Non-Black/Hispanic/Native American</td>\n",
       "      <td>43.0</td>\n",
       "      <td>...</td>\n",
       "      <td>**</td>\n",
       "      <td>**</td>\n",
       "      <td>**</td>\n",
       "      <td>**</td>\n",
       "      <td>**</td>\n",
       "      <td>**</td>\n",
       "      <td>**</td>\n",
       "      <td>NaN</td>\n",
       "      <td>NaN</td>\n",
       "      <td>NaN</td>\n",
       "    </tr>\n",
       "    <tr>\n",
       "      <th>3</th>\n",
       "      <td>2018</td>\n",
       "      <td>10</td>\n",
       "      <td>Anderson County</td>\n",
       "      <td>2</td>\n",
       "      <td>Anderson County High School</td>\n",
       "      <td>EOC</td>\n",
       "      <td>Algebra I</td>\n",
       "      <td>10</td>\n",
       "      <td>Non-Economically Disadvantaged</td>\n",
       "      <td>29.0</td>\n",
       "      <td>...</td>\n",
       "      <td>**</td>\n",
       "      <td>**</td>\n",
       "      <td>**</td>\n",
       "      <td>**</td>\n",
       "      <td>**</td>\n",
       "      <td>**</td>\n",
       "      <td>**</td>\n",
       "      <td>NaN</td>\n",
       "      <td>NaN</td>\n",
       "      <td>NaN</td>\n",
       "    </tr>\n",
       "    <tr>\n",
       "      <th>4</th>\n",
       "      <td>2018</td>\n",
       "      <td>10</td>\n",
       "      <td>Anderson County</td>\n",
       "      <td>2</td>\n",
       "      <td>Anderson County High School</td>\n",
       "      <td>EOC</td>\n",
       "      <td>Algebra I</td>\n",
       "      <td>10</td>\n",
       "      <td>Non-English Learners/Transitional 1-4</td>\n",
       "      <td>43.0</td>\n",
       "      <td>...</td>\n",
       "      <td>**</td>\n",
       "      <td>**</td>\n",
       "      <td>**</td>\n",
       "      <td>**</td>\n",
       "      <td>**</td>\n",
       "      <td>**</td>\n",
       "      <td>**</td>\n",
       "      <td>NaN</td>\n",
       "      <td>NaN</td>\n",
       "      <td>NaN</td>\n",
       "    </tr>\n",
       "  </tbody>\n",
       "</table>\n",
       "<p>5 rows × 22 columns</p>\n",
       "</div>"
      ],
      "text/plain": [
       "   year  system      system_name  school                  school_name test  \\\n",
       "0  2018      10  Anderson County       2  Anderson County High School  EOC   \n",
       "1  2018      10  Anderson County       2  Anderson County High School  EOC   \n",
       "2  2018      10  Anderson County       2  Anderson County High School  EOC   \n",
       "3  2018      10  Anderson County       2  Anderson County High School  EOC   \n",
       "4  2018      10  Anderson County       2  Anderson County High School  EOC   \n",
       "\n",
       "     subject grade                          student_group  valid_tests  ...  \\\n",
       "0  Algebra I    10                           All Students         43.0  ...   \n",
       "1  Algebra I    10             Economically Disadvantaged         14.0  ...   \n",
       "2  Algebra I    10     Non-Black/Hispanic/Native American         43.0  ...   \n",
       "3  Algebra I    10         Non-Economically Disadvantaged         29.0  ...   \n",
       "4  Algebra I    10  Non-English Learners/Transitional 1-4         43.0  ...   \n",
       "\n",
       "  n_met_expectations n_exceeded_expectations pct_below pct_approaching  \\\n",
       "0                 **                      **        **              **   \n",
       "1                 **                      **        **              **   \n",
       "2                 **                      **        **              **   \n",
       "3                 **                      **        **              **   \n",
       "4                 **                      **        **              **   \n",
       "\n",
       "  pct_met_expectations pct_exceeded_expectations pct_met_exceeded enrolled  \\\n",
       "0                   **                        **               **      NaN   \n",
       "1                   **                        **              7.1      NaN   \n",
       "2                   **                        **               **      NaN   \n",
       "3                   **                        **               **      NaN   \n",
       "4                   **                        **               **      NaN   \n",
       "\n",
       "  tested  participation_rate  \n",
       "0    NaN                 NaN  \n",
       "1    NaN                 NaN  \n",
       "2    NaN                 NaN  \n",
       "3    NaN                 NaN  \n",
       "4    NaN                 NaN  \n",
       "\n",
       "[5 rows x 22 columns]"
      ]
     },
     "execution_count": 4,
     "metadata": {},
     "output_type": "execute_result"
    }
   ],
   "source": [
    "middle_years = pd.concat([data_2018, data_2019, data_2021])\n",
    "\n",
    "# Renaming columns in middle years to match 2022 naming conventions.  They mean the exact same thing.\n",
    "middle_years = middle_years.rename(columns={\n",
    "    'n_on_track': 'n_met_expectations',\n",
    "    'pct_on_track': 'pct_met_expectations',\n",
    "    'n_mastered': 'n_exceeded_expectations',\n",
    "    'pct_mastered': 'pct_exceeded_expectations',\n",
    "    'subgroup': 'student_group',\n",
    "    'pct_on_mastered': 'pct_met_exceeded'\n",
    "})\n",
    "middle_years.head()"
   ]
  },
  {
   "attachments": {},
   "cell_type": "markdown",
   "id": "0555683a",
   "metadata": {},
   "source": [
    "### Combining `middle_years` dataset with 2022 to unify all data except 2017 "
   ]
  },
  {
   "cell_type": "code",
   "execution_count": 5,
   "id": "08ff0222",
   "metadata": {},
   "outputs": [
    {
     "data": {
      "text/html": [
       "<div>\n",
       "<style scoped>\n",
       "    .dataframe tbody tr th:only-of-type {\n",
       "        vertical-align: middle;\n",
       "    }\n",
       "\n",
       "    .dataframe tbody tr th {\n",
       "        vertical-align: top;\n",
       "    }\n",
       "\n",
       "    .dataframe thead th {\n",
       "        text-align: right;\n",
       "    }\n",
       "</style>\n",
       "<table border=\"1\" class=\"dataframe\">\n",
       "  <thead>\n",
       "    <tr style=\"text-align: right;\">\n",
       "      <th></th>\n",
       "      <th>year</th>\n",
       "      <th>system</th>\n",
       "      <th>system_name</th>\n",
       "      <th>school</th>\n",
       "      <th>school_name</th>\n",
       "      <th>test</th>\n",
       "      <th>subject</th>\n",
       "      <th>grade</th>\n",
       "      <th>student_group</th>\n",
       "      <th>valid_tests</th>\n",
       "      <th>pct_below</th>\n",
       "      <th>pct_approaching</th>\n",
       "      <th>pct_met_expectations</th>\n",
       "      <th>pct_exceeded_expectations</th>\n",
       "      <th>pct_met_exceeded</th>\n",
       "    </tr>\n",
       "  </thead>\n",
       "  <tbody>\n",
       "    <tr>\n",
       "      <th>0</th>\n",
       "      <td>2018</td>\n",
       "      <td>10</td>\n",
       "      <td>Anderson County</td>\n",
       "      <td>2</td>\n",
       "      <td>Anderson County High School</td>\n",
       "      <td>EOC</td>\n",
       "      <td>Algebra I</td>\n",
       "      <td>10</td>\n",
       "      <td>All Students</td>\n",
       "      <td>43.0</td>\n",
       "      <td>**</td>\n",
       "      <td>**</td>\n",
       "      <td>**</td>\n",
       "      <td>**</td>\n",
       "      <td>**</td>\n",
       "    </tr>\n",
       "    <tr>\n",
       "      <th>1</th>\n",
       "      <td>2018</td>\n",
       "      <td>10</td>\n",
       "      <td>Anderson County</td>\n",
       "      <td>2</td>\n",
       "      <td>Anderson County High School</td>\n",
       "      <td>EOC</td>\n",
       "      <td>Algebra I</td>\n",
       "      <td>10</td>\n",
       "      <td>Economically Disadvantaged</td>\n",
       "      <td>14.0</td>\n",
       "      <td>**</td>\n",
       "      <td>**</td>\n",
       "      <td>**</td>\n",
       "      <td>**</td>\n",
       "      <td>7.1</td>\n",
       "    </tr>\n",
       "  </tbody>\n",
       "</table>\n",
       "</div>"
      ],
      "text/plain": [
       "   year  system      system_name  school                  school_name test  \\\n",
       "0  2018      10  Anderson County       2  Anderson County High School  EOC   \n",
       "1  2018      10  Anderson County       2  Anderson County High School  EOC   \n",
       "\n",
       "     subject grade               student_group  valid_tests pct_below  \\\n",
       "0  Algebra I    10                All Students         43.0        **   \n",
       "1  Algebra I    10  Economically Disadvantaged         14.0        **   \n",
       "\n",
       "  pct_approaching pct_met_expectations pct_exceeded_expectations  \\\n",
       "0              **                   **                        **   \n",
       "1              **                   **                        **   \n",
       "\n",
       "  pct_met_exceeded  \n",
       "0               **  \n",
       "1              7.1  "
      ]
     },
     "execution_count": 5,
     "metadata": {},
     "output_type": "execute_result"
    }
   ],
   "source": [
    "# Combine middle years with data_2022 \n",
    "assessments_unclean = pd.concat([middle_years, data_2022])\n",
    "\n",
    "# Dropping Enrolled, tested, participation_rate, and n_columns\n",
    "assessments_unclean = assessments_unclean.drop(['enrolled', \n",
    "                                  'tested', \n",
    "                                  'participation_rate',\n",
    "                                  'n_below',\n",
    "                                  'n_approaching',\n",
    "                                  'n_met_expectations',\n",
    "                                  'n_exceeded_expectations'], axis=1)\n",
    "\n",
    "assessments_unclean.head(n=2)"
   ]
  },
  {
   "cell_type": "code",
   "execution_count": 6,
   "id": "9e572c20",
   "metadata": {},
   "outputs": [
    {
     "data": {
      "application/vnd.plotly.v1+json": {
       "config": {
        "plotlyServerURL": "https://plot.ly"
       },
       "data": [
        {
         "alignmentgroup": "True",
         "hovertemplate": "type=system<br>year=%{x}<br>count=%{y}<extra></extra>",
         "legendgroup": "system",
         "marker": {
          "color": "#636efa",
          "pattern": {
           "shape": ""
          }
         },
         "name": "system",
         "offsetgroup": "system",
         "orientation": "v",
         "showlegend": true,
         "textposition": "auto",
         "type": "bar",
         "x": [
          2018,
          2019,
          2021,
          2022
         ],
         "xaxis": "x",
         "y": [
          147,
          147,
          147,
          147
         ],
         "yaxis": "y"
        },
        {
         "alignmentgroup": "True",
         "hovertemplate": "type=school<br>year=%{x}<br>count=%{y}<extra></extra>",
         "legendgroup": "school",
         "marker": {
          "color": "#EF553B",
          "pattern": {
           "shape": ""
          }
         },
         "name": "school",
         "offsetgroup": "school",
         "orientation": "v",
         "showlegend": true,
         "textposition": "auto",
         "type": "bar",
         "x": [
          2018,
          2019,
          2021,
          2022
         ],
         "xaxis": "x",
         "y": [
          481,
          485,
          487,
          496
         ],
         "yaxis": "y"
        }
       ],
       "layout": {
        "barmode": "group",
        "legend": {
         "title": {
          "text": "type"
         },
         "tracegroupgap": 0
        },
        "template": {
         "data": {
          "bar": [
           {
            "error_x": {
             "color": "#2a3f5f"
            },
            "error_y": {
             "color": "#2a3f5f"
            },
            "marker": {
             "line": {
              "color": "#E5ECF6",
              "width": 0.5
             },
             "pattern": {
              "fillmode": "overlay",
              "size": 10,
              "solidity": 0.2
             }
            },
            "type": "bar"
           }
          ],
          "barpolar": [
           {
            "marker": {
             "line": {
              "color": "#E5ECF6",
              "width": 0.5
             },
             "pattern": {
              "fillmode": "overlay",
              "size": 10,
              "solidity": 0.2
             }
            },
            "type": "barpolar"
           }
          ],
          "carpet": [
           {
            "aaxis": {
             "endlinecolor": "#2a3f5f",
             "gridcolor": "white",
             "linecolor": "white",
             "minorgridcolor": "white",
             "startlinecolor": "#2a3f5f"
            },
            "baxis": {
             "endlinecolor": "#2a3f5f",
             "gridcolor": "white",
             "linecolor": "white",
             "minorgridcolor": "white",
             "startlinecolor": "#2a3f5f"
            },
            "type": "carpet"
           }
          ],
          "choropleth": [
           {
            "colorbar": {
             "outlinewidth": 0,
             "ticks": ""
            },
            "type": "choropleth"
           }
          ],
          "contour": [
           {
            "colorbar": {
             "outlinewidth": 0,
             "ticks": ""
            },
            "colorscale": [
             [
              0,
              "#0d0887"
             ],
             [
              0.1111111111111111,
              "#46039f"
             ],
             [
              0.2222222222222222,
              "#7201a8"
             ],
             [
              0.3333333333333333,
              "#9c179e"
             ],
             [
              0.4444444444444444,
              "#bd3786"
             ],
             [
              0.5555555555555556,
              "#d8576b"
             ],
             [
              0.6666666666666666,
              "#ed7953"
             ],
             [
              0.7777777777777778,
              "#fb9f3a"
             ],
             [
              0.8888888888888888,
              "#fdca26"
             ],
             [
              1,
              "#f0f921"
             ]
            ],
            "type": "contour"
           }
          ],
          "contourcarpet": [
           {
            "colorbar": {
             "outlinewidth": 0,
             "ticks": ""
            },
            "type": "contourcarpet"
           }
          ],
          "heatmap": [
           {
            "colorbar": {
             "outlinewidth": 0,
             "ticks": ""
            },
            "colorscale": [
             [
              0,
              "#0d0887"
             ],
             [
              0.1111111111111111,
              "#46039f"
             ],
             [
              0.2222222222222222,
              "#7201a8"
             ],
             [
              0.3333333333333333,
              "#9c179e"
             ],
             [
              0.4444444444444444,
              "#bd3786"
             ],
             [
              0.5555555555555556,
              "#d8576b"
             ],
             [
              0.6666666666666666,
              "#ed7953"
             ],
             [
              0.7777777777777778,
              "#fb9f3a"
             ],
             [
              0.8888888888888888,
              "#fdca26"
             ],
             [
              1,
              "#f0f921"
             ]
            ],
            "type": "heatmap"
           }
          ],
          "heatmapgl": [
           {
            "colorbar": {
             "outlinewidth": 0,
             "ticks": ""
            },
            "colorscale": [
             [
              0,
              "#0d0887"
             ],
             [
              0.1111111111111111,
              "#46039f"
             ],
             [
              0.2222222222222222,
              "#7201a8"
             ],
             [
              0.3333333333333333,
              "#9c179e"
             ],
             [
              0.4444444444444444,
              "#bd3786"
             ],
             [
              0.5555555555555556,
              "#d8576b"
             ],
             [
              0.6666666666666666,
              "#ed7953"
             ],
             [
              0.7777777777777778,
              "#fb9f3a"
             ],
             [
              0.8888888888888888,
              "#fdca26"
             ],
             [
              1,
              "#f0f921"
             ]
            ],
            "type": "heatmapgl"
           }
          ],
          "histogram": [
           {
            "marker": {
             "pattern": {
              "fillmode": "overlay",
              "size": 10,
              "solidity": 0.2
             }
            },
            "type": "histogram"
           }
          ],
          "histogram2d": [
           {
            "colorbar": {
             "outlinewidth": 0,
             "ticks": ""
            },
            "colorscale": [
             [
              0,
              "#0d0887"
             ],
             [
              0.1111111111111111,
              "#46039f"
             ],
             [
              0.2222222222222222,
              "#7201a8"
             ],
             [
              0.3333333333333333,
              "#9c179e"
             ],
             [
              0.4444444444444444,
              "#bd3786"
             ],
             [
              0.5555555555555556,
              "#d8576b"
             ],
             [
              0.6666666666666666,
              "#ed7953"
             ],
             [
              0.7777777777777778,
              "#fb9f3a"
             ],
             [
              0.8888888888888888,
              "#fdca26"
             ],
             [
              1,
              "#f0f921"
             ]
            ],
            "type": "histogram2d"
           }
          ],
          "histogram2dcontour": [
           {
            "colorbar": {
             "outlinewidth": 0,
             "ticks": ""
            },
            "colorscale": [
             [
              0,
              "#0d0887"
             ],
             [
              0.1111111111111111,
              "#46039f"
             ],
             [
              0.2222222222222222,
              "#7201a8"
             ],
             [
              0.3333333333333333,
              "#9c179e"
             ],
             [
              0.4444444444444444,
              "#bd3786"
             ],
             [
              0.5555555555555556,
              "#d8576b"
             ],
             [
              0.6666666666666666,
              "#ed7953"
             ],
             [
              0.7777777777777778,
              "#fb9f3a"
             ],
             [
              0.8888888888888888,
              "#fdca26"
             ],
             [
              1,
              "#f0f921"
             ]
            ],
            "type": "histogram2dcontour"
           }
          ],
          "mesh3d": [
           {
            "colorbar": {
             "outlinewidth": 0,
             "ticks": ""
            },
            "type": "mesh3d"
           }
          ],
          "parcoords": [
           {
            "line": {
             "colorbar": {
              "outlinewidth": 0,
              "ticks": ""
             }
            },
            "type": "parcoords"
           }
          ],
          "pie": [
           {
            "automargin": true,
            "type": "pie"
           }
          ],
          "scatter": [
           {
            "fillpattern": {
             "fillmode": "overlay",
             "size": 10,
             "solidity": 0.2
            },
            "type": "scatter"
           }
          ],
          "scatter3d": [
           {
            "line": {
             "colorbar": {
              "outlinewidth": 0,
              "ticks": ""
             }
            },
            "marker": {
             "colorbar": {
              "outlinewidth": 0,
              "ticks": ""
             }
            },
            "type": "scatter3d"
           }
          ],
          "scattercarpet": [
           {
            "marker": {
             "colorbar": {
              "outlinewidth": 0,
              "ticks": ""
             }
            },
            "type": "scattercarpet"
           }
          ],
          "scattergeo": [
           {
            "marker": {
             "colorbar": {
              "outlinewidth": 0,
              "ticks": ""
             }
            },
            "type": "scattergeo"
           }
          ],
          "scattergl": [
           {
            "marker": {
             "colorbar": {
              "outlinewidth": 0,
              "ticks": ""
             }
            },
            "type": "scattergl"
           }
          ],
          "scattermapbox": [
           {
            "marker": {
             "colorbar": {
              "outlinewidth": 0,
              "ticks": ""
             }
            },
            "type": "scattermapbox"
           }
          ],
          "scatterpolar": [
           {
            "marker": {
             "colorbar": {
              "outlinewidth": 0,
              "ticks": ""
             }
            },
            "type": "scatterpolar"
           }
          ],
          "scatterpolargl": [
           {
            "marker": {
             "colorbar": {
              "outlinewidth": 0,
              "ticks": ""
             }
            },
            "type": "scatterpolargl"
           }
          ],
          "scatterternary": [
           {
            "marker": {
             "colorbar": {
              "outlinewidth": 0,
              "ticks": ""
             }
            },
            "type": "scatterternary"
           }
          ],
          "surface": [
           {
            "colorbar": {
             "outlinewidth": 0,
             "ticks": ""
            },
            "colorscale": [
             [
              0,
              "#0d0887"
             ],
             [
              0.1111111111111111,
              "#46039f"
             ],
             [
              0.2222222222222222,
              "#7201a8"
             ],
             [
              0.3333333333333333,
              "#9c179e"
             ],
             [
              0.4444444444444444,
              "#bd3786"
             ],
             [
              0.5555555555555556,
              "#d8576b"
             ],
             [
              0.6666666666666666,
              "#ed7953"
             ],
             [
              0.7777777777777778,
              "#fb9f3a"
             ],
             [
              0.8888888888888888,
              "#fdca26"
             ],
             [
              1,
              "#f0f921"
             ]
            ],
            "type": "surface"
           }
          ],
          "table": [
           {
            "cells": {
             "fill": {
              "color": "#EBF0F8"
             },
             "line": {
              "color": "white"
             }
            },
            "header": {
             "fill": {
              "color": "#C8D4E3"
             },
             "line": {
              "color": "white"
             }
            },
            "type": "table"
           }
          ]
         },
         "layout": {
          "annotationdefaults": {
           "arrowcolor": "#2a3f5f",
           "arrowhead": 0,
           "arrowwidth": 1
          },
          "autotypenumbers": "strict",
          "coloraxis": {
           "colorbar": {
            "outlinewidth": 0,
            "ticks": ""
           }
          },
          "colorscale": {
           "diverging": [
            [
             0,
             "#8e0152"
            ],
            [
             0.1,
             "#c51b7d"
            ],
            [
             0.2,
             "#de77ae"
            ],
            [
             0.3,
             "#f1b6da"
            ],
            [
             0.4,
             "#fde0ef"
            ],
            [
             0.5,
             "#f7f7f7"
            ],
            [
             0.6,
             "#e6f5d0"
            ],
            [
             0.7,
             "#b8e186"
            ],
            [
             0.8,
             "#7fbc41"
            ],
            [
             0.9,
             "#4d9221"
            ],
            [
             1,
             "#276419"
            ]
           ],
           "sequential": [
            [
             0,
             "#0d0887"
            ],
            [
             0.1111111111111111,
             "#46039f"
            ],
            [
             0.2222222222222222,
             "#7201a8"
            ],
            [
             0.3333333333333333,
             "#9c179e"
            ],
            [
             0.4444444444444444,
             "#bd3786"
            ],
            [
             0.5555555555555556,
             "#d8576b"
            ],
            [
             0.6666666666666666,
             "#ed7953"
            ],
            [
             0.7777777777777778,
             "#fb9f3a"
            ],
            [
             0.8888888888888888,
             "#fdca26"
            ],
            [
             1,
             "#f0f921"
            ]
           ],
           "sequentialminus": [
            [
             0,
             "#0d0887"
            ],
            [
             0.1111111111111111,
             "#46039f"
            ],
            [
             0.2222222222222222,
             "#7201a8"
            ],
            [
             0.3333333333333333,
             "#9c179e"
            ],
            [
             0.4444444444444444,
             "#bd3786"
            ],
            [
             0.5555555555555556,
             "#d8576b"
            ],
            [
             0.6666666666666666,
             "#ed7953"
            ],
            [
             0.7777777777777778,
             "#fb9f3a"
            ],
            [
             0.8888888888888888,
             "#fdca26"
            ],
            [
             1,
             "#f0f921"
            ]
           ]
          },
          "colorway": [
           "#636efa",
           "#EF553B",
           "#00cc96",
           "#ab63fa",
           "#FFA15A",
           "#19d3f3",
           "#FF6692",
           "#B6E880",
           "#FF97FF",
           "#FECB52"
          ],
          "font": {
           "color": "#2a3f5f"
          },
          "geo": {
           "bgcolor": "white",
           "lakecolor": "white",
           "landcolor": "#E5ECF6",
           "showlakes": true,
           "showland": true,
           "subunitcolor": "white"
          },
          "hoverlabel": {
           "align": "left"
          },
          "hovermode": "closest",
          "mapbox": {
           "style": "light"
          },
          "paper_bgcolor": "white",
          "plot_bgcolor": "#E5ECF6",
          "polar": {
           "angularaxis": {
            "gridcolor": "white",
            "linecolor": "white",
            "ticks": ""
           },
           "bgcolor": "#E5ECF6",
           "radialaxis": {
            "gridcolor": "white",
            "linecolor": "white",
            "ticks": ""
           }
          },
          "scene": {
           "xaxis": {
            "backgroundcolor": "#E5ECF6",
            "gridcolor": "white",
            "gridwidth": 2,
            "linecolor": "white",
            "showbackground": true,
            "ticks": "",
            "zerolinecolor": "white"
           },
           "yaxis": {
            "backgroundcolor": "#E5ECF6",
            "gridcolor": "white",
            "gridwidth": 2,
            "linecolor": "white",
            "showbackground": true,
            "ticks": "",
            "zerolinecolor": "white"
           },
           "zaxis": {
            "backgroundcolor": "#E5ECF6",
            "gridcolor": "white",
            "gridwidth": 2,
            "linecolor": "white",
            "showbackground": true,
            "ticks": "",
            "zerolinecolor": "white"
           }
          },
          "shapedefaults": {
           "line": {
            "color": "#2a3f5f"
           }
          },
          "ternary": {
           "aaxis": {
            "gridcolor": "white",
            "linecolor": "white",
            "ticks": ""
           },
           "baxis": {
            "gridcolor": "white",
            "linecolor": "white",
            "ticks": ""
           },
           "bgcolor": "#E5ECF6",
           "caxis": {
            "gridcolor": "white",
            "linecolor": "white",
            "ticks": ""
           }
          },
          "title": {
           "x": 0.05
          },
          "xaxis": {
           "automargin": true,
           "gridcolor": "white",
           "linecolor": "white",
           "ticks": "",
           "title": {
            "standoff": 15
           },
           "zerolinecolor": "white",
           "zerolinewidth": 2
          },
          "yaxis": {
           "automargin": true,
           "gridcolor": "white",
           "linecolor": "white",
           "ticks": "",
           "title": {
            "standoff": 15
           },
           "zerolinecolor": "white",
           "zerolinewidth": 2
          }
         }
        },
        "title": {
         "text": "Unique Counts of Systems and Schools per Year"
        },
        "xaxis": {
         "anchor": "y",
         "domain": [
          0,
          1
         ],
         "title": {
          "text": "year"
         }
        },
        "yaxis": {
         "anchor": "x",
         "domain": [
          0,
          1
         ],
         "title": {
          "text": "count"
         }
        }
       }
      }
     },
     "metadata": {},
     "output_type": "display_data"
    }
   ],
   "source": [
    "# Calculate the number of unique systems and schools in each year\n",
    "unique_counts = assessments_unclean.groupby('year').agg({'system': pd.Series.nunique, 'school': pd.Series.nunique}).reset_index()\n",
    "\n",
    "# Melt the DataFrame to get it in the right format for plotting\n",
    "melted_counts = unique_counts.melt(id_vars='year', var_name='type', value_name='count')\n",
    "\n",
    "# Create a bar chart with Plotly\n",
    "fig = px.bar(melted_counts, x='year', y='count', color='type', barmode='group', title='Unique Counts of Systems and Schools per Year')\n",
    "\n",
    "# Show the chart\n",
    "fig.show()"
   ]
  },
  {
   "attachments": {},
   "cell_type": "markdown",
   "id": "18422d26",
   "metadata": {},
   "source": [
    "### Fix Missing info in 2017 - I am going to drop this for now and focus on the later years.  There is some mislabeled data and a bit of ambiguity about which test belongs with which subject.  I emailed TDOE, but I'm gonna leave it alone until I hear back."
   ]
  },
  {
   "cell_type": "code",
   "execution_count": 7,
   "id": "b07bd22d",
   "metadata": {},
   "outputs": [
    {
     "data": {
      "text/html": [
       "<div>\n",
       "<style scoped>\n",
       "    .dataframe tbody tr th:only-of-type {\n",
       "        vertical-align: middle;\n",
       "    }\n",
       "\n",
       "    .dataframe tbody tr th {\n",
       "        vertical-align: top;\n",
       "    }\n",
       "\n",
       "    .dataframe thead th {\n",
       "        text-align: right;\n",
       "    }\n",
       "</style>\n",
       "<table border=\"1\" class=\"dataframe\">\n",
       "  <thead>\n",
       "    <tr style=\"text-align: right;\">\n",
       "      <th></th>\n",
       "      <th>year</th>\n",
       "      <th>system</th>\n",
       "      <th>school</th>\n",
       "      <th>subject</th>\n",
       "      <th>grade</th>\n",
       "      <th>student_group</th>\n",
       "      <th>valid_tests</th>\n",
       "      <th>pct_below</th>\n",
       "      <th>pct_approaching</th>\n",
       "      <th>pct_met_expectations</th>\n",
       "      <th>pct_exceeded_expectations</th>\n",
       "      <th>pct_met_exceeded</th>\n",
       "      <th>system_name</th>\n",
       "      <th>school_name</th>\n",
       "    </tr>\n",
       "  </thead>\n",
       "  <tbody>\n",
       "    <tr>\n",
       "      <th>0</th>\n",
       "      <td>2017</td>\n",
       "      <td>10</td>\n",
       "      <td>2</td>\n",
       "      <td>Algebra I</td>\n",
       "      <td>10</td>\n",
       "      <td>All Students</td>\n",
       "      <td>50.0</td>\n",
       "      <td>**</td>\n",
       "      <td>**</td>\n",
       "      <td>**</td>\n",
       "      <td>**</td>\n",
       "      <td>**</td>\n",
       "      <td>Anderson County</td>\n",
       "      <td>Anderson County High School</td>\n",
       "    </tr>\n",
       "  </tbody>\n",
       "</table>\n",
       "</div>"
      ],
      "text/plain": [
       "   year  system  school    subject grade student_group  valid_tests pct_below  \\\n",
       "0  2017      10       2  Algebra I    10  All Students         50.0        **   \n",
       "\n",
       "  pct_approaching pct_met_expectations pct_exceeded_expectations  \\\n",
       "0              **                   **                        **   \n",
       "\n",
       "  pct_met_exceeded      system_name                  school_name  \n",
       "0               **  Anderson County  Anderson County High School  "
      ]
     },
     "execution_count": 7,
     "metadata": {},
     "output_type": "execute_result"
    }
   ],
   "source": [
    "# Create a unique mapping of system & school for the `assessments_unclean` dataframe.\n",
    "# This is due to there not being a name associated with the numbers\n",
    "mapping_assessments = assessments_unclean.drop_duplicates(subset=['system', 'school'])\n",
    "\n",
    "# Merge the 2017 with the mapping\n",
    "data_2017 = pd.merge(data_2017, mapping_assessments[['system', 'system_name', 'school', 'school_name']], on=['system', 'school'], how='left')\\\n",
    "\n",
    "# Renaming 2017 with standard naming conventions and dropping unneccissary columns\n",
    "data_2017 = data_2017.rename(\n",
    "    columns={\n",
    "    'pct_on_track': 'pct_met_expectations',\n",
    "    'pct_mastered': 'pct_exceeded_expectations',\n",
    "    'subgroup': 'student_group',\n",
    "    'pct_on_mastered': 'pct_met_exceeded'\n",
    "})\n",
    "\n",
    "# Dropping the columns not needed for analysis\n",
    "data_2017 = data_2017.drop([ \n",
    "    'n_below',\n",
    "    'n_approaching',\n",
    "    'n_on_track',\n",
    "    'n_mastered'], axis=1)\n",
    "\n",
    "data_2017.head(n=1)"
   ]
  },
  {
   "cell_type": "code",
   "execution_count": 8,
   "id": "1500f8b2",
   "metadata": {},
   "outputs": [
    {
     "data": {
      "text/plain": [
       "array(['Algebra I', 'Algebra II', 'Biology I', 'Chemistry', 'English II',\n",
       "       'Geometry', 'English III', 'US History', 'English I', 'ELA',\n",
       "       'Math', 'Science', 'Integrated Math I', 'Integrated Math II',\n",
       "       'Integrated Math III'], dtype=object)"
      ]
     },
     "execution_count": 8,
     "metadata": {},
     "output_type": "execute_result"
    }
   ],
   "source": [
    "data_2017['subject'].unique()"
   ]
  },
  {
   "attachments": {},
   "cell_type": "markdown",
   "id": "05e9a9b4",
   "metadata": {},
   "source": [
    "looks like school `0` occurs as a missing value frequently.  Ill look at that.\n",
    "- The schools referenced here do not occur in the known districts past 2017.  I'll drop the nan values and hope it doesn't come back to bite me."
   ]
  },
  {
   "cell_type": "code",
   "execution_count": 9,
   "id": "80855cc1",
   "metadata": {},
   "outputs": [
    {
     "data": {
      "text/plain": [
       "system\n",
       "10            [105]\n",
       "11              [0]\n",
       "150             [0]\n",
       "190      [425, 520]\n",
       "231            [25]\n",
       "300             [0]\n",
       "470            [83]\n",
       "580         [0, 75]\n",
       "650             [0]\n",
       "792    [2075, 2760]\n",
       "794           [170]\n",
       "800            [35]\n",
       "820           [200]\n",
       "830             [0]\n",
       "860             [0]\n",
       "985    [8035, 8080]\n",
       "Name: school, dtype: object"
      ]
     },
     "execution_count": 9,
     "metadata": {},
     "output_type": "execute_result"
    }
   ],
   "source": [
    "# Create new DF of missing 'system name' values\n",
    "missing_2017 = data_2017[data_2017['school_name'].isna()]\n",
    "\n",
    "# Drop all but system and school columns\n",
    "dropped_missing_2017 = missing_2017[['system', 'school']]\n",
    "\n",
    "# group by system and unique school\n",
    "dropped_missing_2017 = missing_2017.groupby('system')['school'].unique()\n",
    "dropped_missing_2017"
   ]
  },
  {
   "attachments": {},
   "cell_type": "markdown",
   "id": "6f14bf7d",
   "metadata": {},
   "source": [
    "### Subject/Test Cleaning"
   ]
  },
  {
   "attachments": {},
   "cell_type": "markdown",
   "id": "de8aa942",
   "metadata": {},
   "source": [
    "Looks like I need to break this table down a bit further to aggregate by test and then subject. The data are noisy and I will filter by the aggregated scores reported in each school. The general hueristic is that the majority of students take these tests in a specific grade.  However, some students take the tests earlier or later than their peers.  In these cases, there can be much grade-level suppression.  Therefore, aggregatons are much less suppressed than grade-level analysis."
   ]
  },
  {
   "cell_type": "code",
   "execution_count": 10,
   "id": "b963e5d6",
   "metadata": {},
   "outputs": [],
   "source": [
    "# Dropping MSAA & Alt\n",
    "assessments_unclean = assessments_unclean[assessments_unclean[\"test\"].str.contains(\"MSAA|MSAA/Alt-Science/Social Studies\") == False]\n",
    "\n",
    "# Filtering for \"All Grades\" aggregate of each subject\n",
    "assessments_unclean= assessments_unclean[assessments_unclean[\"grade\"].str.contains(\"All Grades\")]\n",
    "\n",
    "# Removing student_groups that do not have enough valid tests.\n",
    "assessments_unclean = assessments_unclean[assessments_unclean['pct_below'] != '*']\n",
    "\n",
    "# Dropping proficeincy categories to explore solely \"met\" or \"did not meet\" expectations\n",
    "# Dropped 'grade' as it's no longer descriptive\n",
    "assessments_unclean = assessments_unclean.drop(['grade', 'pct_below', 'pct_approaching', 'pct_met_expectations', 'pct_exceeded_expectations'], axis=1)"
   ]
  },
  {
   "attachments": {},
   "cell_type": "markdown",
   "id": "0dd60688",
   "metadata": {},
   "source": [
    "### Import `elsi_clean.csv` as `elsi` and merge with `assessments`."
   ]
  },
  {
   "cell_type": "code",
   "execution_count": 20,
   "id": "37582cc7",
   "metadata": {},
   "outputs": [],
   "source": [
    "elsi = pd.read_pickle('../data/school_based/elsi_clean.pkl')  "
   ]
  },
  {
   "attachments": {},
   "cell_type": "markdown",
   "id": "4194df8c",
   "metadata": {},
   "source": [
    "### Testing Merge of DFs\n",
    "> I'm really praying that the `system_name` and `school_name` are standardized.  Otherwise, I'll have to reconstruct `system` and `school` from `assessments` to their standardised titles as used in the `elsi` data."
   ]
  },
  {
   "attachments": {},
   "cell_type": "markdown",
   "id": "f44a3694",
   "metadata": {},
   "source": [
    "assessments_unclean"
   ]
  },
  {
   "cell_type": "code",
   "execution_count": 48,
   "id": "d89a8587",
   "metadata": {},
   "outputs": [
    {
     "data": {
      "text/plain": [
       "['year',\n",
       " 'system_name',\n",
       " 'school_name',\n",
       " 'system',\n",
       " 'school',\n",
       " 'test',\n",
       " 'subject',\n",
       " 'student_group',\n",
       " 'valid_tests',\n",
       " 'pct_met_exceeded']"
      ]
     },
     "execution_count": 48,
     "metadata": {},
     "output_type": "execute_result"
    }
   ],
   "source": [
    "# List of comumns\n",
    "assessments_unclean.columns.tolist()"
   ]
  },
  {
   "cell_type": "code",
   "execution_count": 44,
   "id": "1e823009",
   "metadata": {},
   "outputs": [],
   "source": [
    "# List of new column order\n",
    "unclean_order = (['year',\n",
    "                  'system_name',\n",
    "                  'school_name',\n",
    "                  'system',\n",
    "                  'school',\n",
    "                  'test',\n",
    "                  'subject',\n",
    "                  'student_group',\n",
    "                  'valid_tests',\n",
    "                  'pct_met_exceeded'\n",
    "                ])\n",
    "# Reorder columns and sort\n",
    "assessments_unclean = assessments_unclean[unclean_order].sort_values(['year', 'system_name', 'school_name'])"
   ]
  },
  {
   "cell_type": "code",
   "execution_count": 45,
   "id": "304b5a58",
   "metadata": {},
   "outputs": [
    {
     "data": {
      "text/html": [
       "<div>\n",
       "<style scoped>\n",
       "    .dataframe tbody tr th:only-of-type {\n",
       "        vertical-align: middle;\n",
       "    }\n",
       "\n",
       "    .dataframe tbody tr th {\n",
       "        vertical-align: top;\n",
       "    }\n",
       "\n",
       "    .dataframe thead th {\n",
       "        text-align: right;\n",
       "    }\n",
       "</style>\n",
       "<table border=\"1\" class=\"dataframe\">\n",
       "  <thead>\n",
       "    <tr style=\"text-align: right;\">\n",
       "      <th></th>\n",
       "      <th>year</th>\n",
       "      <th>system_name</th>\n",
       "      <th>school_name</th>\n",
       "      <th>system</th>\n",
       "      <th>school</th>\n",
       "      <th>test</th>\n",
       "      <th>subject</th>\n",
       "      <th>student_group</th>\n",
       "      <th>valid_tests</th>\n",
       "      <th>pct_met_exceeded</th>\n",
       "    </tr>\n",
       "  </thead>\n",
       "  <tbody>\n",
       "    <tr>\n",
       "      <th>590415</th>\n",
       "      <td>2018</td>\n",
       "      <td>Achievement School District</td>\n",
       "      <td>Aspire Coleman</td>\n",
       "      <td>985</td>\n",
       "      <td>8050</td>\n",
       "      <td>TNReady</td>\n",
       "      <td>ELA</td>\n",
       "      <td>All Students</td>\n",
       "      <td>321.0</td>\n",
       "      <td>11.2</td>\n",
       "    </tr>\n",
       "    <tr>\n",
       "      <th>590418</th>\n",
       "      <td>2018</td>\n",
       "      <td>Achievement School District</td>\n",
       "      <td>Aspire Coleman</td>\n",
       "      <td>985</td>\n",
       "      <td>8050</td>\n",
       "      <td>TNReady</td>\n",
       "      <td>ELA</td>\n",
       "      <td>Black or African American</td>\n",
       "      <td>299.0</td>\n",
       "      <td>11.4</td>\n",
       "    </tr>\n",
       "    <tr>\n",
       "      <th>590420</th>\n",
       "      <td>2018</td>\n",
       "      <td>Achievement School District</td>\n",
       "      <td>Aspire Coleman</td>\n",
       "      <td>985</td>\n",
       "      <td>8050</td>\n",
       "      <td>TNReady</td>\n",
       "      <td>ELA</td>\n",
       "      <td>Black/Hispanic/Native American</td>\n",
       "      <td>312.0</td>\n",
       "      <td>11.5</td>\n",
       "    </tr>\n",
       "    <tr>\n",
       "      <th>590422</th>\n",
       "      <td>2018</td>\n",
       "      <td>Achievement School District</td>\n",
       "      <td>Aspire Coleman</td>\n",
       "      <td>985</td>\n",
       "      <td>8050</td>\n",
       "      <td>TNReady</td>\n",
       "      <td>ELA</td>\n",
       "      <td>Economically Disadvantaged</td>\n",
       "      <td>222.0</td>\n",
       "      <td>9.5</td>\n",
       "    </tr>\n",
       "    <tr>\n",
       "      <th>590425</th>\n",
       "      <td>2018</td>\n",
       "      <td>Achievement School District</td>\n",
       "      <td>Aspire Coleman</td>\n",
       "      <td>985</td>\n",
       "      <td>8050</td>\n",
       "      <td>TNReady</td>\n",
       "      <td>ELA</td>\n",
       "      <td>English Learners with Transitional 1-4</td>\n",
       "      <td>11.0</td>\n",
       "      <td>18.2</td>\n",
       "    </tr>\n",
       "  </tbody>\n",
       "</table>\n",
       "</div>"
      ],
      "text/plain": [
       "        year                  system_name     school_name  system  school  \\\n",
       "590415  2018  Achievement School District  Aspire Coleman     985    8050   \n",
       "590418  2018  Achievement School District  Aspire Coleman     985    8050   \n",
       "590420  2018  Achievement School District  Aspire Coleman     985    8050   \n",
       "590422  2018  Achievement School District  Aspire Coleman     985    8050   \n",
       "590425  2018  Achievement School District  Aspire Coleman     985    8050   \n",
       "\n",
       "           test subject                           student_group  valid_tests  \\\n",
       "590415  TNReady     ELA                            All Students        321.0   \n",
       "590418  TNReady     ELA               Black or African American        299.0   \n",
       "590420  TNReady     ELA          Black/Hispanic/Native American        312.0   \n",
       "590422  TNReady     ELA              Economically Disadvantaged        222.0   \n",
       "590425  TNReady     ELA  English Learners with Transitional 1-4         11.0   \n",
       "\n",
       "       pct_met_exceeded  \n",
       "590415             11.2  \n",
       "590418             11.4  \n",
       "590420             11.5  \n",
       "590422              9.5  \n",
       "590425             18.2  "
      ]
     },
     "execution_count": 45,
     "metadata": {},
     "output_type": "execute_result"
    }
   ],
   "source": [
    "assessments_unclean.head()"
   ]
  },
  {
   "attachments": {},
   "cell_type": "markdown",
   "id": "d4126bf3",
   "metadata": {},
   "source": [
    "Hopfully I can merge on the names and not the codes for system and school.  If it doesn't work, I'll have to try to standardize the naming.\n"
   ]
  },
  {
   "cell_type": "code",
   "execution_count": 46,
   "id": "3168b9a4",
   "metadata": {},
   "outputs": [
    {
     "data": {
      "text/plain": [
       "['year',\n",
       " 'system_name',\n",
       " 'school_name',\n",
       " 'system',\n",
       " 'school',\n",
       " 'school_lvl',\n",
       " 'tot_enrolled',\n",
       " 'fte_teachers',\n",
       " 'stu_tchr_ratio',\n",
       " 'school_type',\n",
       " 'magnet',\n",
       " 'charter',\n",
       " 'virtual',\n",
       " 'title_1',\n",
       " 'lat',\n",
       " 'long',\n",
       " 'locale']"
      ]
     },
     "execution_count": 46,
     "metadata": {},
     "output_type": "execute_result"
    }
   ],
   "source": [
    "# List of elsi columns\n",
    "elsi.columns.tolist()"
   ]
  },
  {
   "attachments": {},
   "cell_type": "markdown",
   "id": "f9165ef8",
   "metadata": {},
   "source": [
    "specify order of elsi columns"
   ]
  },
  {
   "cell_type": "code",
   "execution_count": 47,
   "id": "e1f3fe44",
   "metadata": {},
   "outputs": [],
   "source": [
    "# List of desired elsi column order\n",
    "elsi_order = ([\n",
    " 'year',\n",
    " 'system_name',\n",
    " 'school_name',\n",
    " 'system',\n",
    " 'school',\n",
    " 'school_lvl',\n",
    " 'tot_enrolled',\n",
    " 'fte_teachers',\n",
    " 'stu_tchr_ratio',\n",
    " 'school_type',\n",
    " 'magnet',\n",
    " 'charter',\n",
    " 'virtual',\n",
    " 'title_1',\n",
    " 'lat',\n",
    " 'long',\n",
    " 'locale'\n",
    "])\n",
    "\n",
    "# Reorder columns and sort\n",
    "elsi = elsi[elsi_order].sort_values(['year', 'system_name', 'school_name'])"
   ]
  },
  {
   "cell_type": "code",
   "execution_count": 43,
   "id": "ba8ea123",
   "metadata": {},
   "outputs": [
    {
     "data": {
      "text/html": [
       "<div>\n",
       "<style scoped>\n",
       "    .dataframe tbody tr th:only-of-type {\n",
       "        vertical-align: middle;\n",
       "    }\n",
       "\n",
       "    .dataframe tbody tr th {\n",
       "        vertical-align: top;\n",
       "    }\n",
       "\n",
       "    .dataframe thead th {\n",
       "        text-align: right;\n",
       "    }\n",
       "</style>\n",
       "<table border=\"1\" class=\"dataframe\">\n",
       "  <thead>\n",
       "    <tr style=\"text-align: right;\">\n",
       "      <th></th>\n",
       "      <th>year</th>\n",
       "      <th>system_name</th>\n",
       "      <th>school_name</th>\n",
       "      <th>system</th>\n",
       "      <th>school</th>\n",
       "      <th>school_lvl</th>\n",
       "      <th>tot_enrolled</th>\n",
       "      <th>fte_teachers</th>\n",
       "      <th>stu_tchr_ratio</th>\n",
       "      <th>school_type</th>\n",
       "      <th>magnet</th>\n",
       "      <th>charter</th>\n",
       "      <th>virtual</th>\n",
       "      <th>title_1</th>\n",
       "      <th>lat</th>\n",
       "      <th>long</th>\n",
       "      <th>locale</th>\n",
       "    </tr>\n",
       "  </thead>\n",
       "  <tbody>\n",
       "    <tr>\n",
       "      <th>917</th>\n",
       "      <td>2018</td>\n",
       "      <td>Achievement School District</td>\n",
       "      <td>Aspire Coleman</td>\n",
       "      <td>TN-00985</td>\n",
       "      <td>TN-00985-8050</td>\n",
       "      <td>Elementary</td>\n",
       "      <td>570</td>\n",
       "      <td>27.5</td>\n",
       "      <td>20.73</td>\n",
       "      <td>1-Regular school</td>\n",
       "      <td>2-No</td>\n",
       "      <td>1-Yes</td>\n",
       "      <td>NOTVIRTUAL</td>\n",
       "      <td>1-Yes</td>\n",
       "      <td>35.2141</td>\n",
       "      <td>-89.923641</td>\n",
       "      <td>11-City: Large</td>\n",
       "    </tr>\n",
       "    <tr>\n",
       "      <th>920</th>\n",
       "      <td>2018</td>\n",
       "      <td>Achievement School District</td>\n",
       "      <td>Aspire Hanley Elementary</td>\n",
       "      <td>TN-00985</td>\n",
       "      <td>TN-00985-8025</td>\n",
       "      <td>Elementary</td>\n",
       "      <td>513</td>\n",
       "      <td>19.5</td>\n",
       "      <td>26.31</td>\n",
       "      <td>1-Regular school</td>\n",
       "      <td>2-No</td>\n",
       "      <td>1-Yes</td>\n",
       "      <td>NOTVIRTUAL</td>\n",
       "      <td>1-Yes</td>\n",
       "      <td>35.113582</td>\n",
       "      <td>-89.976593</td>\n",
       "      <td>11-City: Large</td>\n",
       "    </tr>\n",
       "    <tr>\n",
       "      <th>919</th>\n",
       "      <td>2018</td>\n",
       "      <td>Achievement School District</td>\n",
       "      <td>Aspire Middle School</td>\n",
       "      <td>TN-00985</td>\n",
       "      <td>TN-00985-8024</td>\n",
       "      <td>Middle</td>\n",
       "      <td>225</td>\n",
       "      <td>13.5</td>\n",
       "      <td>16.67</td>\n",
       "      <td>1-Regular school</td>\n",
       "      <td>2-No</td>\n",
       "      <td>1-Yes</td>\n",
       "      <td>NOTVIRTUAL</td>\n",
       "      <td>1-Yes</td>\n",
       "      <td>35.113692</td>\n",
       "      <td>-89.976286</td>\n",
       "      <td>11-City: Large</td>\n",
       "    </tr>\n",
       "    <tr>\n",
       "      <th>157</th>\n",
       "      <td>2018</td>\n",
       "      <td>Achievement School District</td>\n",
       "      <td>Brick Church: A LEAD Public School</td>\n",
       "      <td>TN-00985</td>\n",
       "      <td>TN-00985-8005</td>\n",
       "      <td>Middle</td>\n",
       "      <td>327</td>\n",
       "      <td>13.8</td>\n",
       "      <td>23.7</td>\n",
       "      <td>1-Regular school</td>\n",
       "      <td>2-No</td>\n",
       "      <td>1-Yes</td>\n",
       "      <td>NOTVIRTUAL</td>\n",
       "      <td>1-Yes</td>\n",
       "      <td>36.220505</td>\n",
       "      <td>-86.781436</td>\n",
       "      <td>11-City: Large</td>\n",
       "    </tr>\n",
       "    <tr>\n",
       "      <th>368</th>\n",
       "      <td>2018</td>\n",
       "      <td>Achievement School District</td>\n",
       "      <td>Cornerstone Prep - Lester Campus</td>\n",
       "      <td>TN-00985</td>\n",
       "      <td>TN-00985-8010</td>\n",
       "      <td>Elementary</td>\n",
       "      <td>416</td>\n",
       "      <td>28.3</td>\n",
       "      <td>14.7</td>\n",
       "      <td>1-Regular school</td>\n",
       "      <td>2-No</td>\n",
       "      <td>1-Yes</td>\n",
       "      <td>NOTVIRTUAL</td>\n",
       "      <td>1-Yes</td>\n",
       "      <td>35.141146</td>\n",
       "      <td>-89.963536</td>\n",
       "      <td>11-City: Large</td>\n",
       "    </tr>\n",
       "  </tbody>\n",
       "</table>\n",
       "</div>"
      ],
      "text/plain": [
       "     year                  system_name                         school_name  \\\n",
       "917  2018  Achievement School District                      Aspire Coleman   \n",
       "920  2018  Achievement School District            Aspire Hanley Elementary   \n",
       "919  2018  Achievement School District                Aspire Middle School   \n",
       "157  2018  Achievement School District  Brick Church: A LEAD Public School   \n",
       "368  2018  Achievement School District    Cornerstone Prep - Lester Campus   \n",
       "\n",
       "       system         school  school_lvl tot_enrolled fte_teachers  \\\n",
       "917  TN-00985  TN-00985-8050  Elementary          570         27.5   \n",
       "920  TN-00985  TN-00985-8025  Elementary          513         19.5   \n",
       "919  TN-00985  TN-00985-8024      Middle          225         13.5   \n",
       "157  TN-00985  TN-00985-8005      Middle          327         13.8   \n",
       "368  TN-00985  TN-00985-8010  Elementary          416         28.3   \n",
       "\n",
       "    stu_tchr_ratio       school_type magnet charter     virtual title_1  \\\n",
       "917          20.73  1-Regular school   2-No   1-Yes  NOTVIRTUAL   1-Yes   \n",
       "920          26.31  1-Regular school   2-No   1-Yes  NOTVIRTUAL   1-Yes   \n",
       "919          16.67  1-Regular school   2-No   1-Yes  NOTVIRTUAL   1-Yes   \n",
       "157           23.7  1-Regular school   2-No   1-Yes  NOTVIRTUAL   1-Yes   \n",
       "368           14.7  1-Regular school   2-No   1-Yes  NOTVIRTUAL   1-Yes   \n",
       "\n",
       "           lat        long          locale  \n",
       "917    35.2141  -89.923641  11-City: Large  \n",
       "920  35.113582  -89.976593  11-City: Large  \n",
       "919  35.113692  -89.976286  11-City: Large  \n",
       "157  36.220505  -86.781436  11-City: Large  \n",
       "368  35.141146  -89.963536  11-City: Large  "
      ]
     },
     "execution_count": 43,
     "metadata": {},
     "output_type": "execute_result"
    }
   ],
   "source": [
    "elsi.head()"
   ]
  },
  {
   "attachments": {},
   "cell_type": "markdown",
   "id": "77f2dd86",
   "metadata": {},
   "source": [
    "### Exploring Fully Suppressed outliers (Do this after the great merging)\n",
    ">  ``**`` suppresion is applied to the school level subject scores if that school performes above 95% or below 5% of a district's average.  \n",
    "\n",
    "\n",
    "> Subject matter expert confirmed that it is the majority case that schools scores are suppressed for falling under 5% of the district average.  There are only a 'handful' of scores suppressed for averages greater than 95% of the district."
   ]
  },
  {
   "cell_type": "code",
   "execution_count": 12,
   "metadata": {},
   "outputs": [],
   "source": [
    "# full_suppression = assessments_unclean.loc[(assessments_unclean['pct_met_exceeded'] == '**')]\n",
    "# full_suppression.drop(['system','school','pct_met_exceeded'], axis=1)"
   ]
  },
  {
   "cell_type": "code",
   "execution_count": 13,
   "id": "e2414885",
   "metadata": {},
   "outputs": [],
   "source": [
    "# # Calculating total percentage of not met for student_groups per assessment\n",
    "# #bob = assessments_unclean[\"pct_not_met\"] = assessments_unclean['pct_met_exceeded'] - 1\n",
    "\n",
    "# assessments_unclean"
   ]
  },
  {
   "cell_type": "code",
   "execution_count": 14,
   "id": "85179697",
   "metadata": {},
   "outputs": [],
   "source": [
    "# assessments_unclean = assessments_unclean.set_index('year')"
   ]
  },
  {
   "cell_type": "code",
   "execution_count": 15,
   "id": "8bf74f09",
   "metadata": {},
   "outputs": [],
   "source": [
    "# # Look at the subjects for each test.    \n",
    "# test_subjects = assessments_unclean[['test', 'subject', 'student_group']]\n",
    "# test_subjects.head()"
   ]
  },
  {
   "cell_type": "code",
   "execution_count": 16,
   "id": "6f8fc1b3",
   "metadata": {},
   "outputs": [],
   "source": [
    "# pivot_table = assessments_unclean.pivot_table(index='test', columns='subject', aggfunc='size', fill_value=0)\n",
    "# pivot_table"
   ]
  }
 ],
 "metadata": {
  "kernelspec": {
   "display_name": "Python 3 (ipykernel)",
   "language": "python",
   "name": "python3"
  },
  "language_info": {
   "codemirror_mode": {
    "name": "ipython",
    "version": 3
   },
   "file_extension": ".py",
   "mimetype": "text/x-python",
   "name": "python",
   "nbconvert_exporter": "python",
   "pygments_lexer": "ipython3",
   "version": "3.9.16"
  }
 },
 "nbformat": 4,
 "nbformat_minor": 5
}
