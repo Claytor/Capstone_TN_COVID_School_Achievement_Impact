{
 "cells": [
  {
   "cell_type": "code",
   "execution_count": 1,
   "id": "03ff6d0c-7d6a-4023-af2b-8d478689ff84",
   "metadata": {},
   "outputs": [],
   "source": [
    "import pandas as pd"
   ]
  },
  {
   "cell_type": "code",
   "execution_count": null,
   "id": "6ec33e06",
   "metadata": {},
   "outputs": [],
   "source": [
    "data_2017 = pd.read_csv('../data/school_based/2017.csv')\n",
    "data_2018 =pd.read_csv('../data/school_based/2018.csv')\n",
    "data_2019 = pd.read_csv('../data/school_based/2019.csv')\n",
    "data_2021 = pd.read_csv('../data/school_based/2021.csv')"
   ]
  },
  {
   "attachments": {},
   "cell_type": "markdown",
   "id": "55c1e291-8119-4334-af2f-055943076372",
   "metadata": {},
   "source": [
    "2017 does not have the school_name and system_name columns.  I will create a mapping from the 2018 dataframe to backfill the missing strings"
   ]
  },
  {
   "cell_type": "code",
   "execution_count": null,
   "id": "b07bd22d",
   "metadata": {},
   "outputs": [],
   "source": [
    "# Create a unique mapping of 2018 dataframe\n",
    "mapping_2018 = data_2018.drop_duplicates(subset=['system', 'school'])\n",
    "\n",
    "# Merge the dataframes\n",
    "data_2017 = pd.merge(data_2017, mapping_2018[['system', 'system_name', 'school', 'school_name']], on=['system', 'school'], how='left')\n",
    "\n",
    "# Specify column order to match subsequent dataframes\n",
    "new_order = ['year', 'system', 'system_name', 'school', 'school_name', 'subject', 'grade', 'subgroup', 'valid_tests',\n",
    "             'n_below', 'n_approaching', 'n_on_track', 'n_mastered', 'pct_below', \n",
    "             'pct_approaching', 'pct_on_track', 'pct_mastered', 'pct_on_mastered']\n",
    "\n",
    "# Reorder the columns\n",
    "data_2017 = data_2017[new_order]"
   ]
  },
  {
   "cell_type": "code",
   "execution_count": null,
   "id": "a9fb264e",
   "metadata": {},
   "outputs": [],
   "source": [
    "data_2021 = pd.read_csv('../data/school_based/2021.csv')\n",
    "data_2021.info()"
   ]
  },
  {
   "cell_type": "code",
   "execution_count": null,
   "id": "378e3f63",
   "metadata": {},
   "outputs": [],
   "source": [
    "data_2022 = pd.read_excel('../data/school_based/2022.xlsx')\n",
    "data_2022.to_csv (r'../data/school_based/2022.csv', index = None, header=True)"
   ]
  },
  {
   "cell_type": "code",
   "execution_count": null,
   "id": "ef95c7e5",
   "metadata": {},
   "outputs": [],
   "source": [
    "data_2019.head(n=1)"
   ]
  },
  {
   "cell_type": "code",
   "execution_count": null,
   "id": "ab30f641",
   "metadata": {},
   "outputs": [],
   "source": [
    "data_2021.head(n=1)"
   ]
  }
 ],
 "metadata": {
  "kernelspec": {
   "display_name": "Python 3 (ipykernel)",
   "language": "python",
   "name": "python3"
  },
  "language_info": {
   "codemirror_mode": {
    "name": "ipython",
    "version": 3
   },
   "file_extension": ".py",
   "mimetype": "text/x-python",
   "name": "python",
   "nbconvert_exporter": "python",
   "pygments_lexer": "ipython3",
   "version": "3.9.16"
  }
 },
 "nbformat": 4,
 "nbformat_minor": 5
}
