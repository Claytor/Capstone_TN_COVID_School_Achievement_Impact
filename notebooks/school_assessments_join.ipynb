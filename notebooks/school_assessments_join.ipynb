{
 "cells": [
  {
   "cell_type": "code",
   "execution_count": 1,
   "id": "03ff6d0c-7d6a-4023-af2b-8d478689ff84",
   "metadata": {},
   "outputs": [],
   "source": [
    "import pandas as pd\n",
    "import numpy as np\n",
    "import plotly as plt\n",
    "import plotly.express as px\n",
    "import io"
   ]
  },
  {
   "attachments": {},
   "cell_type": "markdown",
   "id": "6085cc8a",
   "metadata": {},
   "source": [
    "## Reading in assessment data for every TN Public school for 5 years of historical data (technically 6 but the test was cancled for 2020)"
   ]
  },
  {
   "cell_type": "code",
   "execution_count": 2,
   "id": "6ec33e06",
   "metadata": {},
   "outputs": [],
   "source": [
    "# Missing data related to district, school, and enrollment \n",
    "data_2017 = pd.read_csv('../data/school_based/2017.csv')\n",
    "# Missing enrollment data\n",
    "data_2018 =pd.read_csv('../data/school_based/2018.csv')\n",
    "data_2019 = pd.read_csv('../data/school_based/2019.csv')\n",
    "data_2021 = pd.read_csv('../data/school_based/2021.csv')\n",
    "# Uses different naming conventions than previous years.\n",
    "# Metric naming will be standardized to align with 2022 conventions\n",
    "data_2022 = pd.read_csv('../data/school_based/2022.csv')"
   ]
  },
  {
   "cell_type": "code",
   "execution_count": 3,
   "id": "6db458ec",
   "metadata": {},
   "outputs": [
    {
     "name": "stdout",
     "output_type": "stream",
     "text": [
      "year_2017 info:\n",
      "<class 'pandas.core.frame.DataFrame'>\n",
      "RangeIndex: 440633 entries, 0 to 440632\n",
      "Data columns (total 16 columns):\n",
      " #   Column           Non-Null Count   Dtype  \n",
      "---  ------           --------------   -----  \n",
      " 0   year             440633 non-null  int64  \n",
      " 1   system           440633 non-null  int64  \n",
      " 2   school           440633 non-null  int64  \n",
      " 3   subject          440633 non-null  object \n",
      " 4   grade            440633 non-null  object \n",
      " 5   subgroup         440633 non-null  object \n",
      " 6   valid_tests      440633 non-null  float64\n",
      " 7   n_below          440633 non-null  object \n",
      " 8   n_approaching    440633 non-null  object \n",
      " 9   n_on_track       440633 non-null  object \n",
      " 10  n_mastered       440633 non-null  object \n",
      " 11  pct_below        440633 non-null  object \n",
      " 12  pct_approaching  440633 non-null  object \n",
      " 13  pct_on_track     440633 non-null  object \n",
      " 14  pct_mastered     440633 non-null  object \n",
      " 15  pct_on_mastered  440633 non-null  object \n",
      "dtypes: float64(1), int64(3), object(12)\n",
      "memory usage: 53.8+ MB\n",
      "\n",
      "---\n",
      "year_2018 info:\n",
      "<class 'pandas.core.frame.DataFrame'>\n",
      "RangeIndex: 595171 entries, 0 to 595170\n",
      "Data columns (total 19 columns):\n",
      " #   Column           Non-Null Count   Dtype  \n",
      "---  ------           --------------   -----  \n",
      " 0   year             595171 non-null  int64  \n",
      " 1   system           595171 non-null  int64  \n",
      " 2   system_name      595171 non-null  object \n",
      " 3   school           595171 non-null  int64  \n",
      " 4   school_name      595171 non-null  object \n",
      " 5   test             595171 non-null  object \n",
      " 6   subject          595171 non-null  object \n",
      " 7   grade            595171 non-null  object \n",
      " 8   subgroup         595171 non-null  object \n",
      " 9   valid_tests      595171 non-null  float64\n",
      " 10  n_below          595171 non-null  object \n",
      " 11  n_approaching    595171 non-null  object \n",
      " 12  n_on_track       595171 non-null  object \n",
      " 13  n_mastered       595171 non-null  object \n",
      " 14  pct_below        595171 non-null  object \n",
      " 15  pct_approaching  595171 non-null  object \n",
      " 16  pct_on_track     595171 non-null  object \n",
      " 17  pct_mastered     595171 non-null  object \n",
      " 18  pct_on_mastered  595171 non-null  object \n",
      "dtypes: float64(1), int64(3), object(15)\n",
      "memory usage: 86.3+ MB\n",
      "\n",
      "---\n",
      "year_2019 info:\n",
      "<class 'pandas.core.frame.DataFrame'>\n",
      "RangeIndex: 458442 entries, 0 to 458441\n",
      "Data columns (total 21 columns):\n",
      " #   Column           Non-Null Count   Dtype \n",
      "---  ------           --------------   ----- \n",
      " 0   year             458442 non-null  int64 \n",
      " 1   system           458442 non-null  int64 \n",
      " 2   system_name      458442 non-null  object\n",
      " 3   school           458442 non-null  int64 \n",
      " 4   school_name      458310 non-null  object\n",
      " 5   test             458442 non-null  object\n",
      " 6   subject          458442 non-null  object\n",
      " 7   grade            458442 non-null  object\n",
      " 8   subgroup         458442 non-null  object\n",
      " 9   enrolled         458442 non-null  int64 \n",
      " 10  tested           458442 non-null  int64 \n",
      " 11  valid_tests      458442 non-null  int64 \n",
      " 12  n_below          458442 non-null  object\n",
      " 13  n_approaching    458442 non-null  object\n",
      " 14  n_on_track       458442 non-null  object\n",
      " 15  n_mastered       458442 non-null  object\n",
      " 16  pct_below        458442 non-null  object\n",
      " 17  pct_approaching  458442 non-null  object\n",
      " 18  pct_on_track     458442 non-null  object\n",
      " 19  pct_mastered     458442 non-null  object\n",
      " 20  pct_on_mastered  458442 non-null  object\n",
      "dtypes: int64(6), object(15)\n",
      "memory usage: 73.5+ MB\n",
      "\n",
      "---\n",
      "year_2021 info:\n",
      "<class 'pandas.core.frame.DataFrame'>\n",
      "RangeIndex: 646799 entries, 0 to 646798\n",
      "Data columns (total 22 columns):\n",
      " #   Column              Non-Null Count   Dtype \n",
      "---  ------              --------------   ----- \n",
      " 0   year                646799 non-null  int64 \n",
      " 1   system              646799 non-null  int64 \n",
      " 2   system_name         646799 non-null  object\n",
      " 3   school              646799 non-null  int64 \n",
      " 4   school_name         646799 non-null  object\n",
      " 5   test                646799 non-null  object\n",
      " 6   subject             646799 non-null  object\n",
      " 7   grade               646799 non-null  object\n",
      " 8   subgroup            646799 non-null  object\n",
      " 9   participation_rate  646799 non-null  object\n",
      " 10  enrolled            646799 non-null  int64 \n",
      " 11  tested              646799 non-null  int64 \n",
      " 12  valid_tests         646799 non-null  int64 \n",
      " 13  n_below             646799 non-null  object\n",
      " 14  n_approaching       646799 non-null  object\n",
      " 15  n_on_track          646799 non-null  object\n",
      " 16  n_mastered          646799 non-null  object\n",
      " 17  pct_below           646799 non-null  object\n",
      " 18  pct_approaching     646799 non-null  object\n",
      " 19  pct_on_track        646799 non-null  object\n",
      " 20  pct_mastered        646799 non-null  object\n",
      " 21  pct_on_mastered     646799 non-null  object\n",
      "dtypes: int64(6), object(16)\n",
      "memory usage: 108.6+ MB\n",
      "\n",
      "---\n",
      "year_2022 info:\n",
      "<class 'pandas.core.frame.DataFrame'>\n",
      "RangeIndex: 675534 entries, 0 to 675533\n",
      "Data columns (total 22 columns):\n",
      " #   Column                     Non-Null Count   Dtype \n",
      "---  ------                     --------------   ----- \n",
      " 0   year                       675534 non-null  int64 \n",
      " 1   system                     675534 non-null  int64 \n",
      " 2   system_name                675534 non-null  object\n",
      " 3   school                     675534 non-null  int64 \n",
      " 4   school_name                675534 non-null  object\n",
      " 5   test                       675534 non-null  object\n",
      " 6   subject                    675534 non-null  object\n",
      " 7   grade                      675534 non-null  object\n",
      " 8   student_group              675534 non-null  object\n",
      " 9   participation_rate         675534 non-null  object\n",
      " 10  enrolled                   675534 non-null  int64 \n",
      " 11  tested                     675534 non-null  int64 \n",
      " 12  valid_tests                675534 non-null  int64 \n",
      " 13  n_below                    675534 non-null  object\n",
      " 14  n_approaching              675534 non-null  object\n",
      " 15  n_met_expectations         675534 non-null  object\n",
      " 16  n_exceeded_expectations    675534 non-null  object\n",
      " 17  pct_below                  675534 non-null  object\n",
      " 18  pct_approaching            675534 non-null  object\n",
      " 19  pct_met_expectations       675534 non-null  object\n",
      " 20  pct_exceeded_expectations  675534 non-null  object\n",
      " 21  pct_met_exceeded           675534 non-null  object\n",
      "dtypes: int64(6), object(16)\n",
      "memory usage: 113.4+ MB\n",
      "\n",
      "---\n",
      "\n"
     ]
    }
   ],
   "source": [
    "# List of annual assessment daframes\n",
    "dfs = [data_2017, data_2018, data_2019, data_2021, data_2022]\n",
    "df_names = ['year_2017', 'year_2018', 'year_2019', 'year_2021', 'year_2022']\n",
    "\n",
    "# Initialize a StringIO object to get info in one go\n",
    "output = io.StringIO()\n",
    "\n",
    "# Loop through the dfs and their names\n",
    "for df, name in zip(dfs, df_names):\n",
    "\n",
    "    # Write the name of the DataFrame to the output\n",
    "    output.write(f\"{name} info:\\n\")\n",
    "    \n",
    "    # Capture the output of the .info() method\n",
    "    df.info(buf=output)\n",
    "    \n",
    "    # Separater\n",
    "    output.write(\"\\n---\\n\")\n",
    "\n",
    "# output \n",
    "info_str = output.getvalue()\n",
    "\n",
    "# Close the StringIO object\n",
    "output.close()\n",
    "\n",
    "print(info_str)"
   ]
  },
  {
   "attachments": {},
   "cell_type": "markdown",
   "id": "55c1e291-8119-4334-af2f-055943076372",
   "metadata": {},
   "source": [
    "## Issues\n",
    "- 2017 does not have the `school_name`, `system_name`, and `test` columns.  \n",
    "  - I will create a mapping from the merged dataframes for subsequent years to backfill the missing strings.\n",
    "- Figure out to deal with suppressed data and salvage as much student demographic data as you can      \n",
    "  - `*` = The number of **valid** test scores is less than 10.\n",
    "  - `**` = Any individual proficiency level is <u>less than</u> **1%** or <u>greater than</u> **99%** of the district average.\n"
   ]
  },
  {
   "attachments": {},
   "cell_type": "markdown",
   "id": "55cb77fd",
   "metadata": {},
   "source": [
    "### Combine Datasets with more or less the same naming conventions"
   ]
  },
  {
   "cell_type": "code",
   "execution_count": 4,
   "id": "65f60d36",
   "metadata": {},
   "outputs": [
    {
     "data": {
      "text/html": [
       "<div>\n",
       "<style scoped>\n",
       "    .dataframe tbody tr th:only-of-type {\n",
       "        vertical-align: middle;\n",
       "    }\n",
       "\n",
       "    .dataframe tbody tr th {\n",
       "        vertical-align: top;\n",
       "    }\n",
       "\n",
       "    .dataframe thead th {\n",
       "        text-align: right;\n",
       "    }\n",
       "</style>\n",
       "<table border=\"1\" class=\"dataframe\">\n",
       "  <thead>\n",
       "    <tr style=\"text-align: right;\">\n",
       "      <th></th>\n",
       "      <th>year</th>\n",
       "      <th>system</th>\n",
       "      <th>system_name</th>\n",
       "      <th>school</th>\n",
       "      <th>school_name</th>\n",
       "      <th>test</th>\n",
       "      <th>subject</th>\n",
       "      <th>grade</th>\n",
       "      <th>student_group</th>\n",
       "      <th>valid_tests</th>\n",
       "      <th>...</th>\n",
       "      <th>n_met_expectations</th>\n",
       "      <th>n_exceeded_expectations</th>\n",
       "      <th>pct_below</th>\n",
       "      <th>pct_approaching</th>\n",
       "      <th>pct_met_expectations</th>\n",
       "      <th>pct_exceeded_expectations</th>\n",
       "      <th>pct_met_exceeded</th>\n",
       "      <th>enrolled</th>\n",
       "      <th>tested</th>\n",
       "      <th>participation_rate</th>\n",
       "    </tr>\n",
       "  </thead>\n",
       "  <tbody>\n",
       "    <tr>\n",
       "      <th>0</th>\n",
       "      <td>2018</td>\n",
       "      <td>10</td>\n",
       "      <td>Anderson County</td>\n",
       "      <td>2</td>\n",
       "      <td>Anderson County High School</td>\n",
       "      <td>EOC</td>\n",
       "      <td>Algebra I</td>\n",
       "      <td>10</td>\n",
       "      <td>All Students</td>\n",
       "      <td>43.0</td>\n",
       "      <td>...</td>\n",
       "      <td>**</td>\n",
       "      <td>**</td>\n",
       "      <td>**</td>\n",
       "      <td>**</td>\n",
       "      <td>**</td>\n",
       "      <td>**</td>\n",
       "      <td>**</td>\n",
       "      <td>NaN</td>\n",
       "      <td>NaN</td>\n",
       "      <td>NaN</td>\n",
       "    </tr>\n",
       "    <tr>\n",
       "      <th>1</th>\n",
       "      <td>2018</td>\n",
       "      <td>10</td>\n",
       "      <td>Anderson County</td>\n",
       "      <td>2</td>\n",
       "      <td>Anderson County High School</td>\n",
       "      <td>EOC</td>\n",
       "      <td>Algebra I</td>\n",
       "      <td>10</td>\n",
       "      <td>Economically Disadvantaged</td>\n",
       "      <td>14.0</td>\n",
       "      <td>...</td>\n",
       "      <td>**</td>\n",
       "      <td>**</td>\n",
       "      <td>**</td>\n",
       "      <td>**</td>\n",
       "      <td>**</td>\n",
       "      <td>**</td>\n",
       "      <td>7.1</td>\n",
       "      <td>NaN</td>\n",
       "      <td>NaN</td>\n",
       "      <td>NaN</td>\n",
       "    </tr>\n",
       "    <tr>\n",
       "      <th>2</th>\n",
       "      <td>2018</td>\n",
       "      <td>10</td>\n",
       "      <td>Anderson County</td>\n",
       "      <td>2</td>\n",
       "      <td>Anderson County High School</td>\n",
       "      <td>EOC</td>\n",
       "      <td>Algebra I</td>\n",
       "      <td>10</td>\n",
       "      <td>Non-Black/Hispanic/Native American</td>\n",
       "      <td>43.0</td>\n",
       "      <td>...</td>\n",
       "      <td>**</td>\n",
       "      <td>**</td>\n",
       "      <td>**</td>\n",
       "      <td>**</td>\n",
       "      <td>**</td>\n",
       "      <td>**</td>\n",
       "      <td>**</td>\n",
       "      <td>NaN</td>\n",
       "      <td>NaN</td>\n",
       "      <td>NaN</td>\n",
       "    </tr>\n",
       "    <tr>\n",
       "      <th>3</th>\n",
       "      <td>2018</td>\n",
       "      <td>10</td>\n",
       "      <td>Anderson County</td>\n",
       "      <td>2</td>\n",
       "      <td>Anderson County High School</td>\n",
       "      <td>EOC</td>\n",
       "      <td>Algebra I</td>\n",
       "      <td>10</td>\n",
       "      <td>Non-Economically Disadvantaged</td>\n",
       "      <td>29.0</td>\n",
       "      <td>...</td>\n",
       "      <td>**</td>\n",
       "      <td>**</td>\n",
       "      <td>**</td>\n",
       "      <td>**</td>\n",
       "      <td>**</td>\n",
       "      <td>**</td>\n",
       "      <td>**</td>\n",
       "      <td>NaN</td>\n",
       "      <td>NaN</td>\n",
       "      <td>NaN</td>\n",
       "    </tr>\n",
       "    <tr>\n",
       "      <th>4</th>\n",
       "      <td>2018</td>\n",
       "      <td>10</td>\n",
       "      <td>Anderson County</td>\n",
       "      <td>2</td>\n",
       "      <td>Anderson County High School</td>\n",
       "      <td>EOC</td>\n",
       "      <td>Algebra I</td>\n",
       "      <td>10</td>\n",
       "      <td>Non-English Learners/Transitional 1-4</td>\n",
       "      <td>43.0</td>\n",
       "      <td>...</td>\n",
       "      <td>**</td>\n",
       "      <td>**</td>\n",
       "      <td>**</td>\n",
       "      <td>**</td>\n",
       "      <td>**</td>\n",
       "      <td>**</td>\n",
       "      <td>**</td>\n",
       "      <td>NaN</td>\n",
       "      <td>NaN</td>\n",
       "      <td>NaN</td>\n",
       "    </tr>\n",
       "  </tbody>\n",
       "</table>\n",
       "<p>5 rows × 22 columns</p>\n",
       "</div>"
      ],
      "text/plain": [
       "   year  system      system_name  school                  school_name test  \\\n",
       "0  2018      10  Anderson County       2  Anderson County High School  EOC   \n",
       "1  2018      10  Anderson County       2  Anderson County High School  EOC   \n",
       "2  2018      10  Anderson County       2  Anderson County High School  EOC   \n",
       "3  2018      10  Anderson County       2  Anderson County High School  EOC   \n",
       "4  2018      10  Anderson County       2  Anderson County High School  EOC   \n",
       "\n",
       "     subject grade                          student_group  valid_tests  ...  \\\n",
       "0  Algebra I    10                           All Students         43.0  ...   \n",
       "1  Algebra I    10             Economically Disadvantaged         14.0  ...   \n",
       "2  Algebra I    10     Non-Black/Hispanic/Native American         43.0  ...   \n",
       "3  Algebra I    10         Non-Economically Disadvantaged         29.0  ...   \n",
       "4  Algebra I    10  Non-English Learners/Transitional 1-4         43.0  ...   \n",
       "\n",
       "  n_met_expectations n_exceeded_expectations pct_below pct_approaching  \\\n",
       "0                 **                      **        **              **   \n",
       "1                 **                      **        **              **   \n",
       "2                 **                      **        **              **   \n",
       "3                 **                      **        **              **   \n",
       "4                 **                      **        **              **   \n",
       "\n",
       "  pct_met_expectations pct_exceeded_expectations pct_met_exceeded enrolled  \\\n",
       "0                   **                        **               **      NaN   \n",
       "1                   **                        **              7.1      NaN   \n",
       "2                   **                        **               **      NaN   \n",
       "3                   **                        **               **      NaN   \n",
       "4                   **                        **               **      NaN   \n",
       "\n",
       "  tested  participation_rate  \n",
       "0    NaN                 NaN  \n",
       "1    NaN                 NaN  \n",
       "2    NaN                 NaN  \n",
       "3    NaN                 NaN  \n",
       "4    NaN                 NaN  \n",
       "\n",
       "[5 rows x 22 columns]"
      ]
     },
     "execution_count": 4,
     "metadata": {},
     "output_type": "execute_result"
    }
   ],
   "source": [
    "middle_years = pd.concat([data_2018, data_2019, data_2021])\n",
    "\n",
    "# Renaming columns in middle years to match 2022 naming conventions.  They mean the exact same thing.\n",
    "middle_years = middle_years.rename(columns={\n",
    "    'n_on_track': 'n_met_expectations',\n",
    "    'pct_on_track': 'pct_met_expectations',\n",
    "    'n_mastered': 'n_exceeded_expectations',\n",
    "    'pct_mastered': 'pct_exceeded_expectations',\n",
    "    'subgroup': 'student_group',\n",
    "    'pct_on_mastered': 'pct_met_exceeded'\n",
    "})\n",
    "middle_years.head()"
   ]
  },
  {
   "attachments": {},
   "cell_type": "markdown",
   "id": "0555683a",
   "metadata": {},
   "source": [
    "### Combining `middle_years` dataset with 2022 to unify all data except 2017 "
   ]
  },
  {
   "cell_type": "code",
   "execution_count": 5,
   "id": "08ff0222",
   "metadata": {},
   "outputs": [
    {
     "data": {
      "text/html": [
       "<div>\n",
       "<style scoped>\n",
       "    .dataframe tbody tr th:only-of-type {\n",
       "        vertical-align: middle;\n",
       "    }\n",
       "\n",
       "    .dataframe tbody tr th {\n",
       "        vertical-align: top;\n",
       "    }\n",
       "\n",
       "    .dataframe thead th {\n",
       "        text-align: right;\n",
       "    }\n",
       "</style>\n",
       "<table border=\"1\" class=\"dataframe\">\n",
       "  <thead>\n",
       "    <tr style=\"text-align: right;\">\n",
       "      <th></th>\n",
       "      <th>year</th>\n",
       "      <th>system</th>\n",
       "      <th>system_name</th>\n",
       "      <th>school</th>\n",
       "      <th>school_name</th>\n",
       "      <th>test</th>\n",
       "      <th>subject</th>\n",
       "      <th>grade</th>\n",
       "      <th>student_group</th>\n",
       "      <th>valid_tests</th>\n",
       "      <th>...</th>\n",
       "      <th>n_met_expectations</th>\n",
       "      <th>n_exceeded_expectations</th>\n",
       "      <th>pct_below</th>\n",
       "      <th>pct_approaching</th>\n",
       "      <th>pct_met_expectations</th>\n",
       "      <th>pct_exceeded_expectations</th>\n",
       "      <th>pct_met_exceeded</th>\n",
       "      <th>enrolled</th>\n",
       "      <th>tested</th>\n",
       "      <th>participation_rate</th>\n",
       "    </tr>\n",
       "  </thead>\n",
       "  <tbody>\n",
       "    <tr>\n",
       "      <th>0</th>\n",
       "      <td>2018</td>\n",
       "      <td>10</td>\n",
       "      <td>Anderson County</td>\n",
       "      <td>2</td>\n",
       "      <td>Anderson County High School</td>\n",
       "      <td>EOC</td>\n",
       "      <td>Algebra I</td>\n",
       "      <td>10</td>\n",
       "      <td>All Students</td>\n",
       "      <td>43.0</td>\n",
       "      <td>...</td>\n",
       "      <td>**</td>\n",
       "      <td>**</td>\n",
       "      <td>**</td>\n",
       "      <td>**</td>\n",
       "      <td>**</td>\n",
       "      <td>**</td>\n",
       "      <td>**</td>\n",
       "      <td>NaN</td>\n",
       "      <td>NaN</td>\n",
       "      <td>NaN</td>\n",
       "    </tr>\n",
       "    <tr>\n",
       "      <th>1</th>\n",
       "      <td>2018</td>\n",
       "      <td>10</td>\n",
       "      <td>Anderson County</td>\n",
       "      <td>2</td>\n",
       "      <td>Anderson County High School</td>\n",
       "      <td>EOC</td>\n",
       "      <td>Algebra I</td>\n",
       "      <td>10</td>\n",
       "      <td>Economically Disadvantaged</td>\n",
       "      <td>14.0</td>\n",
       "      <td>...</td>\n",
       "      <td>**</td>\n",
       "      <td>**</td>\n",
       "      <td>**</td>\n",
       "      <td>**</td>\n",
       "      <td>**</td>\n",
       "      <td>**</td>\n",
       "      <td>7.1</td>\n",
       "      <td>NaN</td>\n",
       "      <td>NaN</td>\n",
       "      <td>NaN</td>\n",
       "    </tr>\n",
       "  </tbody>\n",
       "</table>\n",
       "<p>2 rows × 22 columns</p>\n",
       "</div>"
      ],
      "text/plain": [
       "   year  system      system_name  school                  school_name test  \\\n",
       "0  2018      10  Anderson County       2  Anderson County High School  EOC   \n",
       "1  2018      10  Anderson County       2  Anderson County High School  EOC   \n",
       "\n",
       "     subject grade               student_group  valid_tests  ...  \\\n",
       "0  Algebra I    10                All Students         43.0  ...   \n",
       "1  Algebra I    10  Economically Disadvantaged         14.0  ...   \n",
       "\n",
       "  n_met_expectations n_exceeded_expectations pct_below pct_approaching  \\\n",
       "0                 **                      **        **              **   \n",
       "1                 **                      **        **              **   \n",
       "\n",
       "  pct_met_expectations pct_exceeded_expectations pct_met_exceeded enrolled  \\\n",
       "0                   **                        **               **      NaN   \n",
       "1                   **                        **              7.1      NaN   \n",
       "\n",
       "  tested  participation_rate  \n",
       "0    NaN                 NaN  \n",
       "1    NaN                 NaN  \n",
       "\n",
       "[2 rows x 22 columns]"
      ]
     },
     "execution_count": 5,
     "metadata": {},
     "output_type": "execute_result"
    }
   ],
   "source": [
    "# Combine middle years with data_2022 \n",
    "all_but_2017 = pd.concat([middle_years, data_2022])\n",
    "all_but_2017.head(n=2)"
   ]
  },
  {
   "cell_type": "code",
   "execution_count": 19,
   "id": "9e572c20",
   "metadata": {},
   "outputs": [
    {
     "data": {
      "application/vnd.plotly.v1+json": {
       "config": {
        "plotlyServerURL": "https://plot.ly"
       },
       "data": [
        {
         "alignmentgroup": "True",
         "hovertemplate": "type=system<br>year=%{x}<br>count=%{y}<extra></extra>",
         "legendgroup": "system",
         "marker": {
          "color": "#636efa",
          "pattern": {
           "shape": ""
          }
         },
         "name": "system",
         "offsetgroup": "system",
         "orientation": "v",
         "showlegend": true,
         "textposition": "auto",
         "type": "bar",
         "x": [
          2018,
          2019,
          2021,
          2022
         ],
         "xaxis": "x",
         "y": [
          147,
          147,
          147,
          147
         ],
         "yaxis": "y"
        },
        {
         "alignmentgroup": "True",
         "hovertemplate": "type=school<br>year=%{x}<br>count=%{y}<extra></extra>",
         "legendgroup": "school",
         "marker": {
          "color": "#EF553B",
          "pattern": {
           "shape": ""
          }
         },
         "name": "school",
         "offsetgroup": "school",
         "orientation": "v",
         "showlegend": true,
         "textposition": "auto",
         "type": "bar",
         "x": [
          2018,
          2019,
          2021,
          2022
         ],
         "xaxis": "x",
         "y": [
          481,
          485,
          487,
          496
         ],
         "yaxis": "y"
        }
       ],
       "layout": {
        "barmode": "group",
        "legend": {
         "title": {
          "text": "type"
         },
         "tracegroupgap": 0
        },
        "template": {
         "data": {
          "bar": [
           {
            "error_x": {
             "color": "#2a3f5f"
            },
            "error_y": {
             "color": "#2a3f5f"
            },
            "marker": {
             "line": {
              "color": "#E5ECF6",
              "width": 0.5
             },
             "pattern": {
              "fillmode": "overlay",
              "size": 10,
              "solidity": 0.2
             }
            },
            "type": "bar"
           }
          ],
          "barpolar": [
           {
            "marker": {
             "line": {
              "color": "#E5ECF6",
              "width": 0.5
             },
             "pattern": {
              "fillmode": "overlay",
              "size": 10,
              "solidity": 0.2
             }
            },
            "type": "barpolar"
           }
          ],
          "carpet": [
           {
            "aaxis": {
             "endlinecolor": "#2a3f5f",
             "gridcolor": "white",
             "linecolor": "white",
             "minorgridcolor": "white",
             "startlinecolor": "#2a3f5f"
            },
            "baxis": {
             "endlinecolor": "#2a3f5f",
             "gridcolor": "white",
             "linecolor": "white",
             "minorgridcolor": "white",
             "startlinecolor": "#2a3f5f"
            },
            "type": "carpet"
           }
          ],
          "choropleth": [
           {
            "colorbar": {
             "outlinewidth": 0,
             "ticks": ""
            },
            "type": "choropleth"
           }
          ],
          "contour": [
           {
            "colorbar": {
             "outlinewidth": 0,
             "ticks": ""
            },
            "colorscale": [
             [
              0,
              "#0d0887"
             ],
             [
              0.1111111111111111,
              "#46039f"
             ],
             [
              0.2222222222222222,
              "#7201a8"
             ],
             [
              0.3333333333333333,
              "#9c179e"
             ],
             [
              0.4444444444444444,
              "#bd3786"
             ],
             [
              0.5555555555555556,
              "#d8576b"
             ],
             [
              0.6666666666666666,
              "#ed7953"
             ],
             [
              0.7777777777777778,
              "#fb9f3a"
             ],
             [
              0.8888888888888888,
              "#fdca26"
             ],
             [
              1,
              "#f0f921"
             ]
            ],
            "type": "contour"
           }
          ],
          "contourcarpet": [
           {
            "colorbar": {
             "outlinewidth": 0,
             "ticks": ""
            },
            "type": "contourcarpet"
           }
          ],
          "heatmap": [
           {
            "colorbar": {
             "outlinewidth": 0,
             "ticks": ""
            },
            "colorscale": [
             [
              0,
              "#0d0887"
             ],
             [
              0.1111111111111111,
              "#46039f"
             ],
             [
              0.2222222222222222,
              "#7201a8"
             ],
             [
              0.3333333333333333,
              "#9c179e"
             ],
             [
              0.4444444444444444,
              "#bd3786"
             ],
             [
              0.5555555555555556,
              "#d8576b"
             ],
             [
              0.6666666666666666,
              "#ed7953"
             ],
             [
              0.7777777777777778,
              "#fb9f3a"
             ],
             [
              0.8888888888888888,
              "#fdca26"
             ],
             [
              1,
              "#f0f921"
             ]
            ],
            "type": "heatmap"
           }
          ],
          "heatmapgl": [
           {
            "colorbar": {
             "outlinewidth": 0,
             "ticks": ""
            },
            "colorscale": [
             [
              0,
              "#0d0887"
             ],
             [
              0.1111111111111111,
              "#46039f"
             ],
             [
              0.2222222222222222,
              "#7201a8"
             ],
             [
              0.3333333333333333,
              "#9c179e"
             ],
             [
              0.4444444444444444,
              "#bd3786"
             ],
             [
              0.5555555555555556,
              "#d8576b"
             ],
             [
              0.6666666666666666,
              "#ed7953"
             ],
             [
              0.7777777777777778,
              "#fb9f3a"
             ],
             [
              0.8888888888888888,
              "#fdca26"
             ],
             [
              1,
              "#f0f921"
             ]
            ],
            "type": "heatmapgl"
           }
          ],
          "histogram": [
           {
            "marker": {
             "pattern": {
              "fillmode": "overlay",
              "size": 10,
              "solidity": 0.2
             }
            },
            "type": "histogram"
           }
          ],
          "histogram2d": [
           {
            "colorbar": {
             "outlinewidth": 0,
             "ticks": ""
            },
            "colorscale": [
             [
              0,
              "#0d0887"
             ],
             [
              0.1111111111111111,
              "#46039f"
             ],
             [
              0.2222222222222222,
              "#7201a8"
             ],
             [
              0.3333333333333333,
              "#9c179e"
             ],
             [
              0.4444444444444444,
              "#bd3786"
             ],
             [
              0.5555555555555556,
              "#d8576b"
             ],
             [
              0.6666666666666666,
              "#ed7953"
             ],
             [
              0.7777777777777778,
              "#fb9f3a"
             ],
             [
              0.8888888888888888,
              "#fdca26"
             ],
             [
              1,
              "#f0f921"
             ]
            ],
            "type": "histogram2d"
           }
          ],
          "histogram2dcontour": [
           {
            "colorbar": {
             "outlinewidth": 0,
             "ticks": ""
            },
            "colorscale": [
             [
              0,
              "#0d0887"
             ],
             [
              0.1111111111111111,
              "#46039f"
             ],
             [
              0.2222222222222222,
              "#7201a8"
             ],
             [
              0.3333333333333333,
              "#9c179e"
             ],
             [
              0.4444444444444444,
              "#bd3786"
             ],
             [
              0.5555555555555556,
              "#d8576b"
             ],
             [
              0.6666666666666666,
              "#ed7953"
             ],
             [
              0.7777777777777778,
              "#fb9f3a"
             ],
             [
              0.8888888888888888,
              "#fdca26"
             ],
             [
              1,
              "#f0f921"
             ]
            ],
            "type": "histogram2dcontour"
           }
          ],
          "mesh3d": [
           {
            "colorbar": {
             "outlinewidth": 0,
             "ticks": ""
            },
            "type": "mesh3d"
           }
          ],
          "parcoords": [
           {
            "line": {
             "colorbar": {
              "outlinewidth": 0,
              "ticks": ""
             }
            },
            "type": "parcoords"
           }
          ],
          "pie": [
           {
            "automargin": true,
            "type": "pie"
           }
          ],
          "scatter": [
           {
            "fillpattern": {
             "fillmode": "overlay",
             "size": 10,
             "solidity": 0.2
            },
            "type": "scatter"
           }
          ],
          "scatter3d": [
           {
            "line": {
             "colorbar": {
              "outlinewidth": 0,
              "ticks": ""
             }
            },
            "marker": {
             "colorbar": {
              "outlinewidth": 0,
              "ticks": ""
             }
            },
            "type": "scatter3d"
           }
          ],
          "scattercarpet": [
           {
            "marker": {
             "colorbar": {
              "outlinewidth": 0,
              "ticks": ""
             }
            },
            "type": "scattercarpet"
           }
          ],
          "scattergeo": [
           {
            "marker": {
             "colorbar": {
              "outlinewidth": 0,
              "ticks": ""
             }
            },
            "type": "scattergeo"
           }
          ],
          "scattergl": [
           {
            "marker": {
             "colorbar": {
              "outlinewidth": 0,
              "ticks": ""
             }
            },
            "type": "scattergl"
           }
          ],
          "scattermapbox": [
           {
            "marker": {
             "colorbar": {
              "outlinewidth": 0,
              "ticks": ""
             }
            },
            "type": "scattermapbox"
           }
          ],
          "scatterpolar": [
           {
            "marker": {
             "colorbar": {
              "outlinewidth": 0,
              "ticks": ""
             }
            },
            "type": "scatterpolar"
           }
          ],
          "scatterpolargl": [
           {
            "marker": {
             "colorbar": {
              "outlinewidth": 0,
              "ticks": ""
             }
            },
            "type": "scatterpolargl"
           }
          ],
          "scatterternary": [
           {
            "marker": {
             "colorbar": {
              "outlinewidth": 0,
              "ticks": ""
             }
            },
            "type": "scatterternary"
           }
          ],
          "surface": [
           {
            "colorbar": {
             "outlinewidth": 0,
             "ticks": ""
            },
            "colorscale": [
             [
              0,
              "#0d0887"
             ],
             [
              0.1111111111111111,
              "#46039f"
             ],
             [
              0.2222222222222222,
              "#7201a8"
             ],
             [
              0.3333333333333333,
              "#9c179e"
             ],
             [
              0.4444444444444444,
              "#bd3786"
             ],
             [
              0.5555555555555556,
              "#d8576b"
             ],
             [
              0.6666666666666666,
              "#ed7953"
             ],
             [
              0.7777777777777778,
              "#fb9f3a"
             ],
             [
              0.8888888888888888,
              "#fdca26"
             ],
             [
              1,
              "#f0f921"
             ]
            ],
            "type": "surface"
           }
          ],
          "table": [
           {
            "cells": {
             "fill": {
              "color": "#EBF0F8"
             },
             "line": {
              "color": "white"
             }
            },
            "header": {
             "fill": {
              "color": "#C8D4E3"
             },
             "line": {
              "color": "white"
             }
            },
            "type": "table"
           }
          ]
         },
         "layout": {
          "annotationdefaults": {
           "arrowcolor": "#2a3f5f",
           "arrowhead": 0,
           "arrowwidth": 1
          },
          "autotypenumbers": "strict",
          "coloraxis": {
           "colorbar": {
            "outlinewidth": 0,
            "ticks": ""
           }
          },
          "colorscale": {
           "diverging": [
            [
             0,
             "#8e0152"
            ],
            [
             0.1,
             "#c51b7d"
            ],
            [
             0.2,
             "#de77ae"
            ],
            [
             0.3,
             "#f1b6da"
            ],
            [
             0.4,
             "#fde0ef"
            ],
            [
             0.5,
             "#f7f7f7"
            ],
            [
             0.6,
             "#e6f5d0"
            ],
            [
             0.7,
             "#b8e186"
            ],
            [
             0.8,
             "#7fbc41"
            ],
            [
             0.9,
             "#4d9221"
            ],
            [
             1,
             "#276419"
            ]
           ],
           "sequential": [
            [
             0,
             "#0d0887"
            ],
            [
             0.1111111111111111,
             "#46039f"
            ],
            [
             0.2222222222222222,
             "#7201a8"
            ],
            [
             0.3333333333333333,
             "#9c179e"
            ],
            [
             0.4444444444444444,
             "#bd3786"
            ],
            [
             0.5555555555555556,
             "#d8576b"
            ],
            [
             0.6666666666666666,
             "#ed7953"
            ],
            [
             0.7777777777777778,
             "#fb9f3a"
            ],
            [
             0.8888888888888888,
             "#fdca26"
            ],
            [
             1,
             "#f0f921"
            ]
           ],
           "sequentialminus": [
            [
             0,
             "#0d0887"
            ],
            [
             0.1111111111111111,
             "#46039f"
            ],
            [
             0.2222222222222222,
             "#7201a8"
            ],
            [
             0.3333333333333333,
             "#9c179e"
            ],
            [
             0.4444444444444444,
             "#bd3786"
            ],
            [
             0.5555555555555556,
             "#d8576b"
            ],
            [
             0.6666666666666666,
             "#ed7953"
            ],
            [
             0.7777777777777778,
             "#fb9f3a"
            ],
            [
             0.8888888888888888,
             "#fdca26"
            ],
            [
             1,
             "#f0f921"
            ]
           ]
          },
          "colorway": [
           "#636efa",
           "#EF553B",
           "#00cc96",
           "#ab63fa",
           "#FFA15A",
           "#19d3f3",
           "#FF6692",
           "#B6E880",
           "#FF97FF",
           "#FECB52"
          ],
          "font": {
           "color": "#2a3f5f"
          },
          "geo": {
           "bgcolor": "white",
           "lakecolor": "white",
           "landcolor": "#E5ECF6",
           "showlakes": true,
           "showland": true,
           "subunitcolor": "white"
          },
          "hoverlabel": {
           "align": "left"
          },
          "hovermode": "closest",
          "mapbox": {
           "style": "light"
          },
          "paper_bgcolor": "white",
          "plot_bgcolor": "#E5ECF6",
          "polar": {
           "angularaxis": {
            "gridcolor": "white",
            "linecolor": "white",
            "ticks": ""
           },
           "bgcolor": "#E5ECF6",
           "radialaxis": {
            "gridcolor": "white",
            "linecolor": "white",
            "ticks": ""
           }
          },
          "scene": {
           "xaxis": {
            "backgroundcolor": "#E5ECF6",
            "gridcolor": "white",
            "gridwidth": 2,
            "linecolor": "white",
            "showbackground": true,
            "ticks": "",
            "zerolinecolor": "white"
           },
           "yaxis": {
            "backgroundcolor": "#E5ECF6",
            "gridcolor": "white",
            "gridwidth": 2,
            "linecolor": "white",
            "showbackground": true,
            "ticks": "",
            "zerolinecolor": "white"
           },
           "zaxis": {
            "backgroundcolor": "#E5ECF6",
            "gridcolor": "white",
            "gridwidth": 2,
            "linecolor": "white",
            "showbackground": true,
            "ticks": "",
            "zerolinecolor": "white"
           }
          },
          "shapedefaults": {
           "line": {
            "color": "#2a3f5f"
           }
          },
          "ternary": {
           "aaxis": {
            "gridcolor": "white",
            "linecolor": "white",
            "ticks": ""
           },
           "baxis": {
            "gridcolor": "white",
            "linecolor": "white",
            "ticks": ""
           },
           "bgcolor": "#E5ECF6",
           "caxis": {
            "gridcolor": "white",
            "linecolor": "white",
            "ticks": ""
           }
          },
          "title": {
           "x": 0.05
          },
          "xaxis": {
           "automargin": true,
           "gridcolor": "white",
           "linecolor": "white",
           "ticks": "",
           "title": {
            "standoff": 15
           },
           "zerolinecolor": "white",
           "zerolinewidth": 2
          },
          "yaxis": {
           "automargin": true,
           "gridcolor": "white",
           "linecolor": "white",
           "ticks": "",
           "title": {
            "standoff": 15
           },
           "zerolinecolor": "white",
           "zerolinewidth": 2
          }
         }
        },
        "title": {
         "text": "Unique Counts of Systems and Schools per Year"
        },
        "xaxis": {
         "anchor": "y",
         "domain": [
          0,
          1
         ],
         "title": {
          "text": "year"
         }
        },
        "yaxis": {
         "anchor": "x",
         "domain": [
          0,
          1
         ],
         "title": {
          "text": "count"
         }
        }
       }
      }
     },
     "metadata": {},
     "output_type": "display_data"
    }
   ],
   "source": [
    "# Calculate the number of unique systems and schools in each year\n",
    "unique_counts = all_but_2017.groupby('year').agg({'system': pd.Series.nunique, 'school': pd.Series.nunique}).reset_index()\n",
    "\n",
    "# Melt the DataFrame to get it in the right format for plotting\n",
    "melted_counts = unique_counts.melt(id_vars='year', var_name='type', value_name='count')\n",
    "\n",
    "# Create a bar chart with Plotly\n",
    "fig = px.bar(melted_counts, x='year', y='count', color='type', barmode='group', title='Unique Counts of Systems and Schools per Year')\n",
    "\n",
    "# Show the chart\n",
    "fig.show()"
   ]
  },
  {
   "attachments": {},
   "cell_type": "markdown",
   "id": "18422d26",
   "metadata": {},
   "source": [
    "### Fix Missing info in 2017"
   ]
  },
  {
   "cell_type": "code",
   "execution_count": 6,
   "id": "b07bd22d",
   "metadata": {},
   "outputs": [
    {
     "data": {
      "text/html": [
       "<div>\n",
       "<style scoped>\n",
       "    .dataframe tbody tr th:only-of-type {\n",
       "        vertical-align: middle;\n",
       "    }\n",
       "\n",
       "    .dataframe tbody tr th {\n",
       "        vertical-align: top;\n",
       "    }\n",
       "\n",
       "    .dataframe thead th {\n",
       "        text-align: right;\n",
       "    }\n",
       "</style>\n",
       "<table border=\"1\" class=\"dataframe\">\n",
       "  <thead>\n",
       "    <tr style=\"text-align: right;\">\n",
       "      <th></th>\n",
       "      <th>year</th>\n",
       "      <th>system</th>\n",
       "      <th>school</th>\n",
       "      <th>subject</th>\n",
       "      <th>grade</th>\n",
       "      <th>subgroup</th>\n",
       "      <th>valid_tests</th>\n",
       "      <th>n_below</th>\n",
       "      <th>n_approaching</th>\n",
       "      <th>n_on_track</th>\n",
       "      <th>n_mastered</th>\n",
       "      <th>pct_below</th>\n",
       "      <th>pct_approaching</th>\n",
       "      <th>pct_on_track</th>\n",
       "      <th>pct_mastered</th>\n",
       "      <th>pct_on_mastered</th>\n",
       "      <th>system_name</th>\n",
       "      <th>school_name</th>\n",
       "    </tr>\n",
       "  </thead>\n",
       "  <tbody>\n",
       "    <tr>\n",
       "      <th>0</th>\n",
       "      <td>2017</td>\n",
       "      <td>10</td>\n",
       "      <td>2</td>\n",
       "      <td>Algebra I</td>\n",
       "      <td>10</td>\n",
       "      <td>All Students</td>\n",
       "      <td>50.0</td>\n",
       "      <td>**</td>\n",
       "      <td>**</td>\n",
       "      <td>**</td>\n",
       "      <td>**</td>\n",
       "      <td>**</td>\n",
       "      <td>**</td>\n",
       "      <td>**</td>\n",
       "      <td>**</td>\n",
       "      <td>**</td>\n",
       "      <td>Anderson County</td>\n",
       "      <td>Anderson County High School</td>\n",
       "    </tr>\n",
       "  </tbody>\n",
       "</table>\n",
       "</div>"
      ],
      "text/plain": [
       "   year  system  school    subject grade      subgroup  valid_tests n_below  \\\n",
       "0  2017      10       2  Algebra I    10  All Students         50.0      **   \n",
       "\n",
       "  n_approaching n_on_track n_mastered pct_below pct_approaching pct_on_track  \\\n",
       "0            **         **         **        **              **           **   \n",
       "\n",
       "  pct_mastered pct_on_mastered      system_name                  school_name  \n",
       "0           **              **  Anderson County  Anderson County High School  "
      ]
     },
     "execution_count": 6,
     "metadata": {},
     "output_type": "execute_result"
    }
   ],
   "source": [
    "# Create a unique mapping of `all_but_2017` dataframe\n",
    "mapping_all_but_2017 = all_but_2017.drop_duplicates(subset=['system', 'school'])\n",
    "\n",
    "# Merge the dataframes\n",
    "data_2017 = pd.merge(data_2017, mapping_all_but_2017[['system', 'system_name', 'school', 'school_name']], on=['system', 'school'], how='left')\n",
    "\n",
    "data_2017.head(n=1)\n",
    "# # Specify column order to match subsequent dataframes\n",
    "# new_order = ['year', 'system', 'system_name', 'school', 'school_name', 'subject', 'grade', 'subgroup', 'valid_tests',\n",
    "#              'n_below', 'n_approaching', 'n_on_track', 'n_mastered', 'pct_below', \n",
    "#              'pct_approaching', 'pct_on_track', 'pct_mastered', 'pct_on_mastered']\n",
    "\n",
    "# # Reorder the columns\n",
    "# data_2017 = data_2017[new_order]"
   ]
  },
  {
   "attachments": {},
   "cell_type": "markdown",
   "id": "05e9a9b4",
   "metadata": {},
   "source": [
    "looks like school `0` occurs as a missing value frequently.  Ill look at that"
   ]
  },
  {
   "cell_type": "code",
   "execution_count": 18,
   "id": "80855cc1",
   "metadata": {},
   "outputs": [
    {
     "ename": "KeyError",
     "evalue": "False",
     "output_type": "error",
     "traceback": [
      "\u001b[0;31m---------------------------------------------------------------------------\u001b[0m",
      "\u001b[0;31mKeyError\u001b[0m                                  Traceback (most recent call last)",
      "File \u001b[0;32m~/anaconda3/lib/python3.9/site-packages/pandas/core/indexes/base.py:3802\u001b[0m, in \u001b[0;36mIndex.get_loc\u001b[0;34m(self, key, method, tolerance)\u001b[0m\n\u001b[1;32m   3801\u001b[0m \u001b[39mtry\u001b[39;00m:\n\u001b[0;32m-> 3802\u001b[0m     \u001b[39mreturn\u001b[39;00m \u001b[39mself\u001b[39;49m\u001b[39m.\u001b[39;49m_engine\u001b[39m.\u001b[39;49mget_loc(casted_key)\n\u001b[1;32m   3803\u001b[0m \u001b[39mexcept\u001b[39;00m \u001b[39mKeyError\u001b[39;00m \u001b[39mas\u001b[39;00m err:\n",
      "File \u001b[0;32m~/anaconda3/lib/python3.9/site-packages/pandas/_libs/index.pyx:138\u001b[0m, in \u001b[0;36mpandas._libs.index.IndexEngine.get_loc\u001b[0;34m()\u001b[0m\n",
      "File \u001b[0;32m~/anaconda3/lib/python3.9/site-packages/pandas/_libs/index.pyx:165\u001b[0m, in \u001b[0;36mpandas._libs.index.IndexEngine.get_loc\u001b[0;34m()\u001b[0m\n",
      "File \u001b[0;32mpandas/_libs/hashtable_class_helper.pxi:5745\u001b[0m, in \u001b[0;36mpandas._libs.hashtable.PyObjectHashTable.get_item\u001b[0;34m()\u001b[0m\n",
      "File \u001b[0;32mpandas/_libs/hashtable_class_helper.pxi:5753\u001b[0m, in \u001b[0;36mpandas._libs.hashtable.PyObjectHashTable.get_item\u001b[0;34m()\u001b[0m\n",
      "\u001b[0;31mKeyError\u001b[0m: False",
      "\nThe above exception was the direct cause of the following exception:\n",
      "\u001b[0;31mKeyError\u001b[0m                                  Traceback (most recent call last)",
      "Cell \u001b[0;32mIn[18], line 3\u001b[0m\n\u001b[1;32m      1\u001b[0m \u001b[39m# Create new DF of missing 'system name' values\u001b[39;00m\n\u001b[1;32m      2\u001b[0m missing_2017 \u001b[39m=\u001b[39m data_2017[data_2017[\u001b[39m'\u001b[39m\u001b[39msystem_name\u001b[39m\u001b[39m'\u001b[39m]\u001b[39m.\u001b[39misna()]\n\u001b[0;32m----> 3\u001b[0m missing_2017[\u001b[39m'\u001b[39;49m\u001b[39msystem_name\u001b[39;49m\u001b[39m'\u001b[39;49m \u001b[39m==\u001b[39;49m \u001b[39m10\u001b[39;49m]\n",
      "File \u001b[0;32m~/anaconda3/lib/python3.9/site-packages/pandas/core/frame.py:3807\u001b[0m, in \u001b[0;36mDataFrame.__getitem__\u001b[0;34m(self, key)\u001b[0m\n\u001b[1;32m   3805\u001b[0m \u001b[39mif\u001b[39;00m \u001b[39mself\u001b[39m\u001b[39m.\u001b[39mcolumns\u001b[39m.\u001b[39mnlevels \u001b[39m>\u001b[39m \u001b[39m1\u001b[39m:\n\u001b[1;32m   3806\u001b[0m     \u001b[39mreturn\u001b[39;00m \u001b[39mself\u001b[39m\u001b[39m.\u001b[39m_getitem_multilevel(key)\n\u001b[0;32m-> 3807\u001b[0m indexer \u001b[39m=\u001b[39m \u001b[39mself\u001b[39;49m\u001b[39m.\u001b[39;49mcolumns\u001b[39m.\u001b[39;49mget_loc(key)\n\u001b[1;32m   3808\u001b[0m \u001b[39mif\u001b[39;00m is_integer(indexer):\n\u001b[1;32m   3809\u001b[0m     indexer \u001b[39m=\u001b[39m [indexer]\n",
      "File \u001b[0;32m~/anaconda3/lib/python3.9/site-packages/pandas/core/indexes/base.py:3804\u001b[0m, in \u001b[0;36mIndex.get_loc\u001b[0;34m(self, key, method, tolerance)\u001b[0m\n\u001b[1;32m   3802\u001b[0m     \u001b[39mreturn\u001b[39;00m \u001b[39mself\u001b[39m\u001b[39m.\u001b[39m_engine\u001b[39m.\u001b[39mget_loc(casted_key)\n\u001b[1;32m   3803\u001b[0m \u001b[39mexcept\u001b[39;00m \u001b[39mKeyError\u001b[39;00m \u001b[39mas\u001b[39;00m err:\n\u001b[0;32m-> 3804\u001b[0m     \u001b[39mraise\u001b[39;00m \u001b[39mKeyError\u001b[39;00m(key) \u001b[39mfrom\u001b[39;00m \u001b[39merr\u001b[39;00m\n\u001b[1;32m   3805\u001b[0m \u001b[39mexcept\u001b[39;00m \u001b[39mTypeError\u001b[39;00m:\n\u001b[1;32m   3806\u001b[0m     \u001b[39m# If we have a listlike key, _check_indexing_error will raise\u001b[39;00m\n\u001b[1;32m   3807\u001b[0m     \u001b[39m#  InvalidIndexError. Otherwise we fall through and re-raise\u001b[39;00m\n\u001b[1;32m   3808\u001b[0m     \u001b[39m#  the TypeError.\u001b[39;00m\n\u001b[1;32m   3809\u001b[0m     \u001b[39mself\u001b[39m\u001b[39m.\u001b[39m_check_indexing_error(key)\n",
      "\u001b[0;31mKeyError\u001b[0m: False"
     ]
    }
   ],
   "source": [
    "# Create new DF of missing 'system name' values\n",
    "missing_2017 = data_2017[data_2017['system_name'].isna()]\n",
    "missing_2017['system_name' == 10]\n",
    "\n",
    "# # Drop all but system and school columns\n",
    "# missing_2017 = missing_2017[['system', 'school']]\n",
    "\n",
    "# # group by system and unique school\n",
    "# missing_2017 = missing_2017.groupby('system')['school'].unique()\n",
    "# missing_2017"
   ]
  },
  {
   "attachments": {},
   "cell_type": "markdown",
   "id": "6f14bf7d",
   "metadata": {},
   "source": [
    "### Dataset info"
   ]
  },
  {
   "cell_type": "code",
   "execution_count": 9,
   "id": "ef95c7e5",
   "metadata": {},
   "outputs": [
    {
     "data": {
      "text/html": [
       "<div>\n",
       "<style scoped>\n",
       "    .dataframe tbody tr th:only-of-type {\n",
       "        vertical-align: middle;\n",
       "    }\n",
       "\n",
       "    .dataframe tbody tr th {\n",
       "        vertical-align: top;\n",
       "    }\n",
       "\n",
       "    .dataframe thead th {\n",
       "        text-align: right;\n",
       "    }\n",
       "</style>\n",
       "<table border=\"1\" class=\"dataframe\">\n",
       "  <thead>\n",
       "    <tr style=\"text-align: right;\">\n",
       "      <th></th>\n",
       "      <th>year</th>\n",
       "      <th>system</th>\n",
       "      <th>system_name</th>\n",
       "      <th>school</th>\n",
       "      <th>school_name</th>\n",
       "      <th>test</th>\n",
       "      <th>subject</th>\n",
       "      <th>grade</th>\n",
       "      <th>subgroup</th>\n",
       "      <th>valid_tests</th>\n",
       "      <th>n_below</th>\n",
       "      <th>n_approaching</th>\n",
       "      <th>n_on_track</th>\n",
       "      <th>n_mastered</th>\n",
       "      <th>pct_below</th>\n",
       "      <th>pct_approaching</th>\n",
       "      <th>pct_on_track</th>\n",
       "      <th>pct_mastered</th>\n",
       "      <th>pct_on_mastered</th>\n",
       "    </tr>\n",
       "  </thead>\n",
       "  <tbody>\n",
       "    <tr>\n",
       "      <th>0</th>\n",
       "      <td>2018</td>\n",
       "      <td>10</td>\n",
       "      <td>Anderson County</td>\n",
       "      <td>2</td>\n",
       "      <td>Anderson County High School</td>\n",
       "      <td>EOC</td>\n",
       "      <td>Algebra I</td>\n",
       "      <td>10</td>\n",
       "      <td>All Students</td>\n",
       "      <td>43.0</td>\n",
       "      <td>**</td>\n",
       "      <td>**</td>\n",
       "      <td>**</td>\n",
       "      <td>**</td>\n",
       "      <td>**</td>\n",
       "      <td>**</td>\n",
       "      <td>**</td>\n",
       "      <td>**</td>\n",
       "      <td>**</td>\n",
       "    </tr>\n",
       "  </tbody>\n",
       "</table>\n",
       "</div>"
      ],
      "text/plain": [
       "   year  system      system_name  school                  school_name test  \\\n",
       "0  2018      10  Anderson County       2  Anderson County High School  EOC   \n",
       "\n",
       "     subject grade      subgroup  valid_tests n_below n_approaching  \\\n",
       "0  Algebra I    10  All Students         43.0      **            **   \n",
       "\n",
       "  n_on_track n_mastered pct_below pct_approaching pct_on_track pct_mastered  \\\n",
       "0         **         **        **              **           **           **   \n",
       "\n",
       "  pct_on_mastered  \n",
       "0              **  "
      ]
     },
     "execution_count": 9,
     "metadata": {},
     "output_type": "execute_result"
    }
   ],
   "source": [
    "data_2018.head(n=1)"
   ]
  },
  {
   "cell_type": "code",
   "execution_count": 10,
   "id": "ab30f641",
   "metadata": {},
   "outputs": [
    {
     "data": {
      "text/html": [
       "<div>\n",
       "<style scoped>\n",
       "    .dataframe tbody tr th:only-of-type {\n",
       "        vertical-align: middle;\n",
       "    }\n",
       "\n",
       "    .dataframe tbody tr th {\n",
       "        vertical-align: top;\n",
       "    }\n",
       "\n",
       "    .dataframe thead th {\n",
       "        text-align: right;\n",
       "    }\n",
       "</style>\n",
       "<table border=\"1\" class=\"dataframe\">\n",
       "  <thead>\n",
       "    <tr style=\"text-align: right;\">\n",
       "      <th></th>\n",
       "      <th>year</th>\n",
       "      <th>system</th>\n",
       "      <th>system_name</th>\n",
       "      <th>school</th>\n",
       "      <th>school_name</th>\n",
       "      <th>test</th>\n",
       "      <th>subject</th>\n",
       "      <th>grade</th>\n",
       "      <th>subgroup</th>\n",
       "      <th>participation_rate</th>\n",
       "      <th>...</th>\n",
       "      <th>valid_tests</th>\n",
       "      <th>n_below</th>\n",
       "      <th>n_approaching</th>\n",
       "      <th>n_on_track</th>\n",
       "      <th>n_mastered</th>\n",
       "      <th>pct_below</th>\n",
       "      <th>pct_approaching</th>\n",
       "      <th>pct_on_track</th>\n",
       "      <th>pct_mastered</th>\n",
       "      <th>pct_on_mastered</th>\n",
       "    </tr>\n",
       "  </thead>\n",
       "  <tbody>\n",
       "    <tr>\n",
       "      <th>0</th>\n",
       "      <td>2021</td>\n",
       "      <td>10</td>\n",
       "      <td>Anderson County</td>\n",
       "      <td>2</td>\n",
       "      <td>Anderson County High School</td>\n",
       "      <td>EOC</td>\n",
       "      <td>Algebra I</td>\n",
       "      <td>10</td>\n",
       "      <td>All Students</td>\n",
       "      <td>96</td>\n",
       "      <td>...</td>\n",
       "      <td>50</td>\n",
       "      <td>**</td>\n",
       "      <td>**</td>\n",
       "      <td>**</td>\n",
       "      <td>**</td>\n",
       "      <td>**</td>\n",
       "      <td>**</td>\n",
       "      <td>**</td>\n",
       "      <td>**</td>\n",
       "      <td>**</td>\n",
       "    </tr>\n",
       "  </tbody>\n",
       "</table>\n",
       "<p>1 rows × 22 columns</p>\n",
       "</div>"
      ],
      "text/plain": [
       "   year  system      system_name  school                  school_name test  \\\n",
       "0  2021      10  Anderson County       2  Anderson County High School  EOC   \n",
       "\n",
       "     subject grade      subgroup participation_rate  ...  valid_tests  \\\n",
       "0  Algebra I    10  All Students                 96  ...           50   \n",
       "\n",
       "   n_below  n_approaching n_on_track n_mastered pct_below pct_approaching  \\\n",
       "0       **             **         **         **        **              **   \n",
       "\n",
       "  pct_on_track pct_mastered pct_on_mastered  \n",
       "0           **           **              **  \n",
       "\n",
       "[1 rows x 22 columns]"
      ]
     },
     "execution_count": 10,
     "metadata": {},
     "output_type": "execute_result"
    }
   ],
   "source": [
    "data_2021.head(n=1)"
   ]
  },
  {
   "cell_type": "code",
   "execution_count": 11,
   "id": "75645dca",
   "metadata": {},
   "outputs": [],
   "source": [
    "# "
   ]
  }
 ],
 "metadata": {
  "kernelspec": {
   "display_name": "Python 3 (ipykernel)",
   "language": "python",
   "name": "python3"
  },
  "language_info": {
   "codemirror_mode": {
    "name": "ipython",
    "version": 3
   },
   "file_extension": ".py",
   "mimetype": "text/x-python",
   "name": "python",
   "nbconvert_exporter": "python",
   "pygments_lexer": "ipython3",
   "version": "3.9.16"
  }
 },
 "nbformat": 4,
 "nbformat_minor": 5
}
