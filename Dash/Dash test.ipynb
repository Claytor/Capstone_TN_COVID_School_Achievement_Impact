{
 "cells": [
  {
   "cell_type": "code",
   "execution_count": 1,
   "id": "ca45ab27-2bce-470b-bc3c-acd5d1aff47b",
   "metadata": {
    "tags": []
   },
   "outputs": [],
   "source": [
    "import pandas as pd\n",
    "import numpy as np\n",
    "import plotly.express as px\n",
    "import plotly.graph_objs as go\n",
    "from jupyter_dash import JupyterDash\n",
    "import dash_bootstrap_components as dbc\n",
    "from dash import Dash, Input, Output, dcc, html "
   ]
  },
  {
   "cell_type": "code",
   "execution_count": 2,
   "id": "8e48bf41-345a-41f6-acd9-a6486cd8d828",
   "metadata": {
    "tags": []
   },
   "outputs": [],
   "source": [
    "# Load Data\n",
    "assessments = pd.read_pickle('../data/school_based/assessments_clean.pkl')"
   ]
  },
  {
   "cell_type": "code",
   "execution_count": 3,
   "id": "54a1de2c-7115-49a8-83b6-2f7b57f760be",
   "metadata": {},
   "outputs": [],
   "source": [
    "# Get the available levels and student groups\n",
    "available_levels = assessments['school_lvl'].unique()\n",
    "available_groups = ['All Students'] + assessments['student_group'].unique().tolist()"
   ]
  },
  {
   "cell_type": "code",
   "execution_count": 4,
   "id": "a666d59e-bcd8-4f06-8860-55dab522b66c",
   "metadata": {},
   "outputs": [],
   "source": [
    "# Define CSS Stylesheet\n",
    "external_stylesheets = ['/resources/bWLwgP.css']"
   ]
  },
  {
   "cell_type": "code",
   "execution_count": 5,
   "id": "0d6aa4d9-7d7e-4966-8ede-2abd040260e0",
   "metadata": {},
   "outputs": [],
   "source": [
    "# Define app with external scripts and stylesheets\n",
    "app = JupyterDash(__name__, external_scripts=[\n",
    "    {'external_url': 'https://cdn.plot.ly/plotly-latest.min.js'}\n",
    "], external_stylesheets=external_stylesheets)"
   ]
  },
  {
   "cell_type": "code",
   "execution_count": 6,
   "id": "c239d656-5d35-4ddd-974c-dc61818febdb",
   "metadata": {
    "tags": []
   },
   "outputs": [],
   "source": [
    "# Build App\n",
    "#app = JupyterDash(__name__, external_stylesheets=external_stylesheets)"
   ]
  },
  {
   "cell_type": "markdown",
   "id": "1d796304-2e84-45fe-9961-8487c34de2aa",
   "metadata": {},
   "source": [
    "Application Layout"
   ]
  },
  {
   "cell_type": "code",
   "execution_count": 7,
   "id": "aa66a273-dbc3-46f3-b45d-5a3f893b48ee",
   "metadata": {
    "tags": []
   },
   "outputs": [],
   "source": [
    "# App layout\n",
    "app.layout = html.Div([\n",
    "    html.H1(\"Achievement Testing Analysis\", style={'text-align': 'center'}),\n",
    "    html.Hr(),\n",
    "    html.Div([\n",
    "        html.Div([\n",
    "            dcc.Graph(id='graph1'),\n",
    "            html.Label(\"School Level\"),\n",
    "            dcc.Dropdown(\n",
    "                id='school-level-dropdown',\n",
    "                options=[\n",
    "                    {'label': 'Elementary School', 'value': 'Elementary'},\n",
    "                    {'label': 'Middle School', 'value': 'Secondary'},\n",
    "                    {'label': 'High School', 'value': 'High'},\n",
    "                    {'label': 'Other School Types', 'value': 'Other'},\n",
    "                ],\n",
    "                value='Elementary',\n",
    "                clearable=False,\n",
    "            ),\n",
    "        ], className='graph-container'),\n",
    "        html.Div([\n",
    "            dcc.Graph(id='graph2'),\n",
    "            html.Label(\"Student Group\"),\n",
    "            dcc.Dropdown(\n",
    "                id='student-group-dropdown',\n",
    "                options=[\n",
    "                    {'label': 'All Students', 'value': 'All Students'},\n",
    "                    {'label': 'American Indian or Alaska Native', 'value': 'American Indian or Alaska Native'},\n",
    "                    {'label': 'Asian', 'value': 'Asian'},\n",
    "                    {'label': 'Black or African American', 'value': 'Black or African American'},\n",
    "                    {'label': 'Black/Hispanic/Native American', 'value': 'Black/Hispanic/Native American'},\n",
    "                    {'label': 'Economically Disadvantaged', 'value': 'Economically Disadvantaged'},\n",
    "                    {'label': 'English Learner Transitional 1-4', 'value': 'English Learner Transitional 1-4'},\n",
    "                    {'label': 'English Learners', 'value': 'English Learners'},\n",
    "                    {'label': 'English Learners with Transitional 1-4', 'value': 'English Learners with Transitional 1-4'},\n",
    "                    {'label': 'Female', 'value': 'Female'},\n",
    "                    {'label': 'Gifted', 'value': 'Gifted'},\n",
    "                    {'label': 'Hispanic', 'value': 'Hispanic'},\n",
    "                    {'label': 'Male', 'value': 'Male'},\n",
    "                    {'label': 'Native Hawaiian or Other Pacific Islander', 'value': 'Native Hawaiian or Other Pacific Islander'},\n",
    "                    {'label': 'Non-Black/Hispanic/Native American', 'value': 'Non-Black/Hispanic/Native American'},\n",
    "                    {'label': 'Non-Economically Disadvantaged', 'value': 'Non-Economically Disadvantaged'},\n",
    "                    {'label': 'Non-English Learners/Transitional 1-4', 'value': 'Non-English Learners/Transitional 1-4'},\n",
    "                    {'label': 'Non-Students with Disabilities', 'value': 'Non-Students with Disabilities'},\n",
    "                    {'label': 'Students with Disabilities', 'value': 'Students with Disabilities'},\n",
    "                    {'label': 'Super Subgroup', 'value': 'Super Subgroup'},\n",
    "                    {'label': 'White', 'value': 'White'}\n",
    "                ],\n",
    "                value='All Students',\n",
    "                clearable=False,\n",
    "            ),\n",
    "        ], className='graph-container'),\n",
    "    ], className='flex-container'),\n",
    "])"
   ]
  },
  {
   "cell_type": "code",
   "execution_count": 8,
   "id": "294385ea-8257-4998-aa77-51cd0d969a3f",
   "metadata": {
    "tags": []
   },
   "outputs": [],
   "source": [
    "# Append local CSS file\n",
    "app.css.append_css({'external_url': 'bWLwgP.css'})"
   ]
  },
  {
   "cell_type": "markdown",
   "id": "ff8c8dba-f6f5-48cd-861c-6d1d9240ae75",
   "metadata": {},
   "source": [
    "Graph 1: School Level Proficiency by Subject"
   ]
  },
  {
   "cell_type": "code",
   "execution_count": 9,
   "id": "58ba8ed4-57dd-4f24-9c1f-7cd9e27ea2da",
   "metadata": {
    "tags": []
   },
   "outputs": [],
   "source": [
    "# Define callback to update graph1\n",
    "@app.callback(\n",
    "    Output('graph1', 'figure'),\n",
    "    [Input('school-level-dropdown', 'value')]\n",
    ")\n",
    "def update_graph1(level):\n",
    "    # Filter DataFrame based on selected level\n",
    "    filtered_data = assessments[assessments['school_lvl'] == level]\n",
    "\n",
    "    # Calculate average pct_met_exceeded for each subject_area and year\n",
    "    average_data = filtered_data.groupby(['subject_area', 'year'])['pct_met_exceeded'].mean().reset_index()\n",
    "\n",
    "    # Create a line chart\n",
    "    fig = px.line(\n",
    "        average_data,\n",
    "        x='year',\n",
    "        y='pct_met_exceeded',\n",
    "        color='subject_area',\n",
    "        title=f'{level} School Level: Proviciency by Subject',\n",
    "        height=400,\n",
    "        width=500,\n",
    "    )\n",
    "\n",
    "    # Update marker settings\n",
    "    fig.update_traces(mode='markers+lines', marker=dict(size=5))\n",
    "\n",
    "    # Update legends and axis labels\n",
    "    fig.update_layout(\n",
    "        legend_title='Content Area',\n",
    "        xaxis_title='Year',\n",
    "        yaxis_title=f'% Met or Exceeded'\n",
    "    )\n",
    "\n",
    "    return fig"
   ]
  },
  {
   "cell_type": "markdown",
   "id": "bca87fc1-af2a-46c3-ad9e-5f789a96d3ca",
   "metadata": {
    "tags": []
   },
   "source": [
    "Graph 2: Proficiency by Student Group"
   ]
  },
  {
   "cell_type": "code",
   "execution_count": 10,
   "id": "0d7026fb-e7d4-4356-8335-0bb4451b191f",
   "metadata": {},
   "outputs": [],
   "source": [
    "# Define callback to update graph2\n",
    "@app.callback(\n",
    "    Output('graph2', 'figure'),\n",
    "    [Input('school-level-dropdown', 'value'),\n",
    "     Input('student-group-dropdown', 'value')]\n",
    ")\n",
    "def update_graph2(level, group):\n",
    "    # Filter DataFrame based on level and group selections\n",
    "    if group == 'All Students':\n",
    "        filtered_data = assessments[assessments['school_lvl'] == level]\n",
    "        title = f'Another Chart for {level} Schools for All Students'\n",
    "    else:\n",
    "        filtered_data = assessments[(assessments['school_lvl'] == level) & (assessments['student_group'] == group)]\n",
    "        title = f'{level} Level: {group} Group'\n",
    "\n",
    "    # Calculate average pct_met_exceeded for each subject_area and year\n",
    "    average_data = filtered_data.groupby(['subject_area', 'year'])['pct_met_exceeded'].mean().reset_index()\n",
    "\n",
    "    # Create a line chart\n",
    "    fig = px.line(\n",
    "        average_data,\n",
    "        x='year',\n",
    "        y='pct_met_exceeded',\n",
    "        color='subject_area',\n",
    "        title=title,\n",
    "        height=400,\n",
    "        width=500,\n",
    "    )\n",
    "\n",
    "    # Update marker settings\n",
    "    fig.update_traces(mode='markers+lines', marker=dict(symbol = 'circle', size=5))\n",
    "\n",
    "    # Update legends and axis labels\n",
    "    fig.update_layout(\n",
    "        legend_title='Content Area',\n",
    "        xaxis_title='Year',\n",
    "        yaxis_title=f'% Met or Exceeded',\n",
    "    )\n",
    "\n",
    "    return fig"
   ]
  },
  {
   "cell_type": "code",
   "execution_count": 11,
   "id": "2f5f1e86-6cd8-40d1-a447-ac8f06df3bc1",
   "metadata": {
    "tags": []
   },
   "outputs": [
    {
     "name": "stdout",
     "output_type": "stream",
     "text": [
      "Dash is running on http://127.0.0.1:8050/\n",
      "\n"
     ]
    },
    {
     "name": "stderr",
     "output_type": "stream",
     "text": [
      "/home/chunderdamus/anaconda3/lib/python3.9/site-packages/dash/resources.py:61: UserWarning: You have set your config to `serve_locally=True` but A local version of bWLwgP.css is not available.\n",
      "If you added this file with `app.scripts.append_script` or `app.css.append_css`, use `external_scripts` or `external_stylesheets` instead.\n",
      "See https://dash.plotly.com/external-resources\n",
      "  warnings.warn(\n"
     ]
    }
   ],
   "source": [
    "# Run the app\n",
    "app.run_server(mode=\"jupyterlab\")"
   ]
  }
 ],
 "metadata": {
  "kernelspec": {
   "display_name": "Python 3 (ipykernel)",
   "language": "python",
   "name": "python3"
  },
  "language_info": {
   "codemirror_mode": {
    "name": "ipython",
    "version": 3
   },
   "file_extension": ".py",
   "mimetype": "text/x-python",
   "name": "python",
   "nbconvert_exporter": "python",
   "pygments_lexer": "ipython3",
   "version": "3.9.16"
  }
 },
 "nbformat": 4,
 "nbformat_minor": 5
}
