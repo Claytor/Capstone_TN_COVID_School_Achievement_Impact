{
 "cells": [
  {
   "cell_type": "code",
   "execution_count": 1,
   "id": "ca45ab27-2bce-470b-bc3c-acd5d1aff47b",
   "metadata": {
    "tags": []
   },
   "outputs": [],
   "source": [
    "import pandas as pd\n",
    "import numpy as np\n",
    "import plotly.express as px\n",
    "from jupyter_dash import JupyterDash\n",
    "from dash import dcc, html \n",
    "from dash.dependencies import Input, Output"
   ]
  },
  {
   "cell_type": "code",
   "execution_count": 2,
   "id": "8e48bf41-345a-41f6-acd9-a6486cd8d828",
   "metadata": {
    "tags": []
   },
   "outputs": [],
   "source": [
    "# Load Data\n",
    "assessments = pd.read_pickle('../data/school_based/assessments_clean.pkl')"
   ]
  },
  {
   "cell_type": "code",
   "execution_count": 3,
   "id": "54a1de2c-7115-49a8-83b6-2f7b57f760be",
   "metadata": {},
   "outputs": [],
   "source": [
    "# Get school levels\n",
    "available_levels = assessments['school_lvl'].unique()"
   ]
  },
  {
   "cell_type": "code",
   "execution_count": 4,
   "id": "c239d656-5d35-4ddd-974c-dc61818febdb",
   "metadata": {
    "tags": []
   },
   "outputs": [],
   "source": [
    "# Build App\n",
    "app = JupyterDash(__name__)"
   ]
  },
  {
   "cell_type": "code",
   "execution_count": 5,
   "id": "aa66a273-dbc3-46f3-b45d-5a3f893b48ee",
   "metadata": {
    "tags": []
   },
   "outputs": [],
   "source": [
    "# App layout\n",
    "app.layout = html.Div([\n",
    "    html.H1(\"Claytor's Stuff\"),\n",
    "    dcc.Dropdown(\n",
    "        id='level-dropdown',\n",
    "        options=[{'label': level, 'value': level} for level in available_levels],\n",
    "        value='Elementary',\n",
    "        clearable=False\n",
    "    ),\n",
    "    dcc.Graph(id='graph')\n",
    "])"
   ]
  },
  {
   "cell_type": "code",
   "execution_count": 6,
   "id": "87edfb4c-3e23-42b9-8450-a87ee4e17310",
   "metadata": {
    "tags": []
   },
   "outputs": [],
   "source": [
    "# Define callback to update the graph based on level selection\n",
    "@app.callback(\n",
    "    Output('graph', 'figure'),\n",
    "    [Input('level-dropdown', 'value')]\n",
    ")\n",
    "def update_graph(level):\n",
    "    # Filter DataFrame for the chosen level\n",
    "    level_data = assessments[assessments['school_lvl'] == level]\n",
    "\n",
    "    # Calculate average pct_met_exceeded for each subject_area and year\n",
    "    average_data = level_data.groupby(['subject_area', 'year'])['pct_met_exceeded'].mean().reset_index()\n",
    "\n",
    "    # Create a line chart\n",
    "    fig = px.line(average_data,\n",
    "                  x='year',\n",
    "                  y='pct_met_exceeded',\n",
    "                  color='subject_area',\n",
    "                  title=f'Average Yearly Proficiency of {level} Schools by Subject Area',\n",
    "                  height=600,\n",
    "                  width=800)\n",
    "\n",
    "    # Update marker settings\n",
    "    fig.update_traces(mode='markers+lines', marker=dict(size=5))\n",
    "\n",
    "    # Update legends and axis labels\n",
    "    fig.update_layout(legend_title='Subject Area',\n",
    "                      xaxis_title='Year',\n",
    "                      yaxis_title=f'Average % of Students Who Met or Exceeded {level} Expectations')\n",
    "\n",
    "    # Add footnotes\n",
    "    footnote1_text = \"* Testing was canceled for the 2019 - 2020 school year due to school closures.\"\n",
    "    fig.add_annotation(text=footnote1_text, xref=\"paper\", yref=\"paper\", x=0, y=-0.16, showarrow=False, align='right',\n",
    "                       font=dict(size=10))\n",
    "    footnote2_text = \"** Science content area not assessed in the 2018 - 2019 school year.\"\n",
    "    fig.add_annotation(text=footnote2_text, xref=\"paper\", yref=\"paper\", x=0, y=-0.2, showarrow=False, align='right',\n",
    "                       font=dict(size=10))\n",
    "\n",
    "    return fig"
   ]
  },
  {
   "cell_type": "code",
   "execution_count": 7,
   "id": "2f5f1e86-6cd8-40d1-a447-ac8f06df3bc1",
   "metadata": {
    "tags": []
   },
   "outputs": [
    {
     "name": "stdout",
     "output_type": "stream",
     "text": [
      "Dash is running on http://127.0.0.1:8050/\n",
      "\n"
     ]
    }
   ],
   "source": [
    "# Run the app\n",
    "if __name__ == '__main__':\n",
    "    app.run_server(mode=\"jupyterlab\")"
   ]
  }
 ],
 "metadata": {
  "kernelspec": {
   "display_name": "Python 3 (ipykernel)",
   "language": "python",
   "name": "python3"
  },
  "language_info": {
   "codemirror_mode": {
    "name": "ipython",
    "version": 3
   },
   "file_extension": ".py",
   "mimetype": "text/x-python",
   "name": "python",
   "nbconvert_exporter": "python",
   "pygments_lexer": "ipython3",
   "version": "3.9.16"
  }
 },
 "nbformat": 4,
 "nbformat_minor": 5
}
